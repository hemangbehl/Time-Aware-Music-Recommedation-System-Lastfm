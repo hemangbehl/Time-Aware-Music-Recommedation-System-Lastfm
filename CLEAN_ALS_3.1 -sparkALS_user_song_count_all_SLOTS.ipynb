{
 "cells": [
  {
   "cell_type": "code",
   "execution_count": 1,
   "metadata": {},
   "outputs": [],
   "source": [
    "# import the usual\n",
    "import matplotlib.pyplot as plt\n",
    "import pandas as pd\n",
    "import seaborn as sns\n",
    "import numpy as np\n",
    "import math\n",
    "import re\n",
    "import itertools\n",
    "from scipy.sparse import csr_matrix\n",
    "\n",
    "%matplotlib inline\n",
    "pd.set_option('display.max_columns', 500)"
   ]
  },
  {
   "cell_type": "code",
   "execution_count": 2,
   "metadata": {},
   "outputs": [],
   "source": [
    "import findspark\n",
    "findspark.init()\n",
    "#from pyspark.ml.recommendation import ALS\n",
    "from pyspark.context import SparkContext\n",
    "from pyspark.sql.session import SparkSession\n",
    "from pyspark.mllib.recommendation import ALS, MatrixFactorizationModel, Rating"
   ]
  },
  {
   "cell_type": "code",
   "execution_count": 3,
   "metadata": {},
   "outputs": [],
   "source": [
    "sc = SparkContext()"
   ]
  },
  {
   "cell_type": "code",
   "execution_count": 4,
   "metadata": {},
   "outputs": [],
   "source": [
    "# sp = SparkSession.builder.appName(\"s\").getOrCreate()"
   ]
  },
  {
   "cell_type": "code",
   "execution_count": null,
   "metadata": {},
   "outputs": [],
   "source": []
  },
  {
   "cell_type": "code",
   "execution_count": 5,
   "metadata": {},
   "outputs": [],
   "source": [
    "slot1 = sc.textFile(r\"F:\\Data_Repository\\lastfm\\df_slot1.tsv\")\n",
    "slot2 = sc.textFile(r\"F:\\Data_Repository\\lastfm\\df_slot2.tsv\")\n",
    "slot3 = sc.textFile(r\"F:\\Data_Repository\\lastfm\\df_slot3.tsv\")\n",
    "slot4 = sc.textFile(r\"F:\\Data_Repository\\lastfm\\df_slot4.tsv\")"
   ]
  },
  {
   "cell_type": "code",
   "execution_count": 6,
   "metadata": {},
   "outputs": [
    {
     "data": {
      "text/plain": [
       "pyspark.rdd.RDD"
      ]
     },
     "execution_count": 6,
     "metadata": {},
     "output_type": "execute_result"
    }
   ],
   "source": [
    "type(slot1)"
   ]
  },
  {
   "cell_type": "code",
   "execution_count": 7,
   "metadata": {},
   "outputs": [],
   "source": [
    "slots = [slot1, slot2, slot3, slot4]"
   ]
  },
  {
   "cell_type": "code",
   "execution_count": 8,
   "metadata": {},
   "outputs": [],
   "source": [
    "def isNumber(s):\n",
    "    try:\n",
    "        float(s)\n",
    "        return True\n",
    "    except ValueError:\n",
    "        pass\n",
    " \n",
    "    return False\n",
    "\n",
    "def computeRMSE(model,data):\n",
    "    \n",
    "    \"\"\" Takes ALS models and testing data as input and returns RMSE value \"\"\"\n",
    "    \n",
    "    data_for_predict = data.map(lambda x: (x[0], x[1]))\n",
    "    \n",
    "    predictions = model.predictAll(data_for_predict).map(lambda r: ((r[0], r[1]), r[2]))\n",
    "    rates_and_preds = data.map(lambda r: ((int(r[0]), int(r[1])), float(r[2]))).join(predictions)\n",
    "    error = math.sqrt(rates_and_preds.map(lambda r: (r[1][0] - r[1][1])**2).mean())\n",
    "    \n",
    "    return error"
   ]
  },
  {
   "cell_type": "code",
   "execution_count": 9,
   "metadata": {},
   "outputs": [
    {
     "name": "stdout",
     "output_type": "stream",
     "text": [
      "For rank 5 the RMSE is 1.1681614305385888\n",
      "For rank 10 the RMSE is 1.1678819944463574\n",
      "For rank 15 the RMSE is 1.1671706920636706\n",
      "The best model was trained with rank 15\n",
      "For rank 5 the RMSE is 1.0204170683254816\n",
      "For rank 10 the RMSE is 1.020022155681369\n",
      "For rank 15 the RMSE is 1.0196947585522675\n",
      "The best model was trained with rank 15\n",
      "For rank 5 the RMSE is 1.2072978578503877\n",
      "For rank 10 the RMSE is 1.2066129841598738\n",
      "For rank 15 the RMSE is 1.2064489655607\n",
      "The best model was trained with rank 15\n",
      "For rank 5 the RMSE is 1.1906307046531146\n",
      "For rank 10 the RMSE is 1.189835280967131\n",
      "For rank 15 the RMSE is 1.1895705703178825\n",
      "The best model was trained with rank 15\n",
      "Wall time: 7min 5s\n"
     ]
    }
   ],
   "source": [
    "%%time\n",
    "modelnameid = 1\n",
    "for data in slots:\n",
    "    path = str('F:\\Data_Repository\\lastfm')\n",
    "    modelname = path + \"\\slot\" + str(modelnameid) + \".tsv\"\n",
    "    data = data.map(lambda x: x.split('\\t'))\n",
    "    data2 = data.map(lambda x : [x[i] for i in [0,1,2]]) #only 3 columns exist\n",
    "    data2 = data2.filter(lambda x: isNumber(x[2])) # Remove faulty rows\n",
    "    data2 = data2.map(lambda x: [x[0], x[1], float(x[2])]) #Change plays into float\n",
    "    users = data2.map(lambda x: x[0]).distinct().zipWithIndex()\n",
    "    artists = data2.map(lambda x: x[1]).distinct().zipWithIndex()\n",
    "    data2 = data2.map(lambda r: (r[0], (r[1], r[2]))).join(users).map(lambda r: (r[1][1], r[1][0][0], r[1][0][1]))\n",
    "    data2 = data2.map(lambda r: (r[1], (r[0], r[2]))).join(artists).map(lambda r: (r[1][0][0], r[1][1], r[1][0][1]))\n",
    "    plays = data2.map(lambda x: x[2])\n",
    "    data2 = data2.map(lambda l: Rating(int(l[0]), int(l[1]), float(l[2])))\n",
    "    training_RDD, validation_RDD, test_RDD = data2.randomSplit([6, 2, 2], seed = 2)\n",
    "    validation_for_predict_RDD = validation_RDD.map(lambda x: (x[0], x[1]))\n",
    "    test_for_predict_RDD = test_RDD.map(lambda x: (x[0], x[1]))\n",
    "    \n",
    "    seed = 5\n",
    "    #iterations = 10\n",
    "    iterations = 1\n",
    "    regularization_parameter = 0.1\n",
    "    ranks = [5,10,15]\n",
    "    #ranks = [15] #to reduce loop\n",
    "    errors = [0, 0, 0]\n",
    "    err = 0\n",
    "    tolerance = 0.02\n",
    "    alpha = 0.01\n",
    "\n",
    "    min_error = float('inf')\n",
    "    best_rank = -1\n",
    "    best_iteration = -1\n",
    "\n",
    "    for rank in ranks:\n",
    "        e = 0\n",
    "        #for i in range(5):\n",
    "        for i in range(1):\n",
    "            # Split the data\n",
    "            training_RDD, validation_RDD, test_RDD = data2.randomSplit([6, 2, 2], seed = 2)\n",
    "            validation_for_predict_RDD = validation_RDD.map(lambda x: (x[0], x[1]))\n",
    "            test_for_predict_RDD = test_RDD.map(lambda x: (x[0], x[1]))\n",
    "\n",
    "            model = ALS.trainImplicit(training_RDD, rank, seed=seed, iterations=iterations,\n",
    "                              lambda_=regularization_parameter,alpha=alpha)\n",
    "        #     predictions = model.predictAll(validation_for_predict_RDD).map(lambda r: ((r[0], r[1]), r[2]))\n",
    "        #     rates_and_preds = validation_RDD.map(lambda r: ((int(r[0]), int(r[1])), float(r[2]))).join(predictions)\n",
    "        #     error = math.sqrt(rates_and_preds.map(lambda r: (r[1][0] - r[1][1])**2).mean())\n",
    "            e += computeRMSE(model,validation_RDD)\n",
    "\n",
    "        error = e/5.5\n",
    "        errors[err] = error\n",
    "        err += 1\n",
    "        print ('For rank %s the RMSE is %s' % (rank, error))\n",
    "        if error < min_error:\n",
    "            min_error = error\n",
    "            best_rank = rank\n",
    "\n",
    "    print ('The best model was trained with rank %s' % best_rank)\n",
    "\n",
    "    ####to save model\n",
    "    #print(\"Saving model to the given path\")\n",
    "    #model.save(sc, modelname)\n",
    "    modelnameid = modelnameid + 1"
   ]
  },
  {
   "cell_type": "code",
   "execution_count": 10,
   "metadata": {},
   "outputs": [],
   "source": [
    "data = slot1"
   ]
  },
  {
   "cell_type": "code",
   "execution_count": 11,
   "metadata": {},
   "outputs": [],
   "source": [
    "data = data.map(lambda x: x.split('\\t'))\n",
    "# header = data.first()\n",
    "# print(header)"
   ]
  },
  {
   "cell_type": "code",
   "execution_count": 12,
   "metadata": {},
   "outputs": [],
   "source": [
    "# data2 = data.map(lambda x : [x[i] for i in [0,1,3]])\n",
    "data2 = data.map(lambda x : [x[i] for i in [0,1,2]]) #only 3 columns exist"
   ]
  },
  {
   "cell_type": "code",
   "execution_count": 13,
   "metadata": {},
   "outputs": [],
   "source": [
    "#print (\"length of uncleaned data -\",data2.count())"
   ]
  },
  {
   "cell_type": "code",
   "execution_count": 14,
   "metadata": {},
   "outputs": [],
   "source": [
    "def isNumber(s):\n",
    "    try:\n",
    "        float(s)\n",
    "        return True\n",
    "    except ValueError:\n",
    "        pass\n",
    " \n",
    "    return False"
   ]
  },
  {
   "cell_type": "code",
   "execution_count": 15,
   "metadata": {},
   "outputs": [],
   "source": [
    "data2 = data2.filter(lambda x: isNumber(x[2])) # Remove faulty rows\n",
    "data2 = data2.map(lambda x: [x[0], x[1], float(x[2])]) #Change plays into float"
   ]
  },
  {
   "cell_type": "code",
   "execution_count": 16,
   "metadata": {},
   "outputs": [
    {
     "data": {
      "text/plain": [
       "['user_000001', '15 Step', 2.0]"
      ]
     },
     "execution_count": 16,
     "metadata": {},
     "output_type": "execute_result"
    }
   ],
   "source": [
    "data2.first()"
   ]
  },
  {
   "cell_type": "markdown",
   "metadata": {},
   "source": [
    "#### no need to reduce"
   ]
  },
  {
   "cell_type": "code",
   "execution_count": 17,
   "metadata": {},
   "outputs": [
    {
     "name": "stdout",
     "output_type": "stream",
     "text": [
      "Wall time: 4.01 s\n"
     ]
    }
   ],
   "source": [
    "%%time\n",
    "#Convert strings into integers\n",
    "users = data2.map(lambda x: x[0]).distinct().zipWithIndex()\n",
    "artists = data2.map(lambda x: x[1]).distinct().zipWithIndex()\n",
    "# int_user = users.map(lambda u: (u[1], u[0]))\n",
    "# int_artist = artists.map(lambda i: (i[1], i[0]))\n",
    "# users.collect()\n",
    "# artists.collect()"
   ]
  },
  {
   "cell_type": "code",
   "execution_count": 18,
   "metadata": {},
   "outputs": [
    {
     "name": "stdout",
     "output_type": "stream",
     "text": [
      "Wall time: 53.9 ms\n"
     ]
    }
   ],
   "source": [
    "%%time\n",
    "# Substitutes the ObjectIDs in the ratings RDD with the corresponding int values\n",
    "data2 = data2.map(lambda r: (r[0], (r[1], r[2]))).join(users).map(lambda r: (r[1][1], r[1][0][0], r[1][0][1]))\n",
    "data2 = data2.map(lambda r: (r[1], (r[0], r[2]))).join(artists).map(lambda r: (r[1][0][0], r[1][1], r[1][0][1]))"
   ]
  },
  {
   "cell_type": "code",
   "execution_count": 19,
   "metadata": {},
   "outputs": [
    {
     "name": "stdout",
     "output_type": "stream",
     "text": [
      "Wall time: 0 ns\n"
     ]
    }
   ],
   "source": [
    "%%time\n",
    "# data2.filter(lambda x: x[0] == 12).collect()\n",
    "# plays = data2.map(lambda x: x[2]).collect() ##seems like data2 loses data after .collect is called\n",
    "plays = data2.map(lambda x: x[2])\n",
    "# data2.collect()"
   ]
  },
  {
   "cell_type": "code",
   "execution_count": 20,
   "metadata": {},
   "outputs": [
    {
     "name": "stdout",
     "output_type": "stream",
     "text": [
      "Wall time: 7.89 s\n"
     ]
    },
    {
     "data": {
      "text/plain": [
       "(1, 931, 11.0)"
      ]
     },
     "execution_count": 20,
     "metadata": {},
     "output_type": "execute_result"
    }
   ],
   "source": [
    "%%time\n",
    "data2.first()"
   ]
  },
  {
   "cell_type": "code",
   "execution_count": 21,
   "metadata": {},
   "outputs": [
    {
     "name": "stdout",
     "output_type": "stream",
     "text": [
      "Wall time: 0 ns\n"
     ]
    }
   ],
   "source": [
    "%%time\n",
    "# Use 'Rating' function to get the values in the right format\n",
    "data2 = data2.map(lambda l: Rating(int(l[0]), int(l[1]), float(l[2])))\n",
    "#data2.count()"
   ]
  },
  {
   "cell_type": "markdown",
   "metadata": {},
   "source": [
    "#### Dataframe converted to rating"
   ]
  },
  {
   "cell_type": "code",
   "execution_count": 22,
   "metadata": {},
   "outputs": [
    {
     "data": {
      "text/plain": [
       "Rating(user=1, product=931, rating=11.0)"
      ]
     },
     "execution_count": 22,
     "metadata": {},
     "output_type": "execute_result"
    }
   ],
   "source": [
    "data2.first()"
   ]
  },
  {
   "cell_type": "code",
   "execution_count": 23,
   "metadata": {},
   "outputs": [
    {
     "name": "stdout",
     "output_type": "stream",
     "text": [
      "Wall time: 0 ns\n"
     ]
    }
   ],
   "source": [
    "%%time\n",
    "# Use randomsplit to split the data into train, validation and testing sets\n",
    "\n",
    "training_RDD, validation_RDD, test_RDD = data2.randomSplit([6, 2, 2], seed = 2)\n",
    "validation_for_predict_RDD = validation_RDD.map(lambda x: (x[0], x[1]))\n",
    "test_for_predict_RDD = test_RDD.map(lambda x: (x[0], x[1]))"
   ]
  },
  {
   "cell_type": "code",
   "execution_count": 24,
   "metadata": {},
   "outputs": [
    {
     "name": "stdout",
     "output_type": "stream",
     "text": [
      "Wall time: 0 ns\n"
     ]
    }
   ],
   "source": [
    "%%time\n",
    "# Define computeRMSE\n",
    "\n",
    "def computeRMSE(model,data):\n",
    "    \n",
    "    \"\"\" Takes ALS models and testing data as input and returns RMSE value \"\"\"\n",
    "    \n",
    "    data_for_predict = data.map(lambda x: (x[0], x[1]))\n",
    "    \n",
    "    predictions = model.predictAll(data_for_predict).map(lambda r: ((r[0], r[1]), r[2]))\n",
    "    rates_and_preds = data.map(lambda r: ((int(r[0]), int(r[1])), float(r[2]))).join(predictions)\n",
    "    error = math.sqrt(rates_and_preds.map(lambda r: (r[1][0] - r[1][1])**2).mean())\n",
    "    \n",
    "    return error"
   ]
  },
  {
   "cell_type": "code",
   "execution_count": null,
   "metadata": {},
   "outputs": [],
   "source": []
  },
  {
   "cell_type": "markdown",
   "metadata": {},
   "source": [
    "#### Model validation"
   ]
  },
  {
   "cell_type": "code",
   "execution_count": 44,
   "metadata": {},
   "outputs": [
    {
     "name": "stdout",
     "output_type": "stream",
     "text": [
      "Wall time: 14.8 s\n"
     ]
    }
   ],
   "source": [
    "%%time\n",
    "# Final Model\n",
    "\n",
    "model = ALS.trainImplicit(training_RDD, 15, seed=5, iterations= 1, lambda_ = regularization_parameter)\n",
    "\n",
    "#model = ALS.train(data2, 15, seed=5, iterations= 1, lambda_ = regularization_parameter)\n",
    "#predictions = model.predictAll(validation_for_predict_RDD)\n",
    "predictions = model.predictAll(validation_for_predict_RDD).map(lambda r: ((r[0], r[1]), r[2]))\n"
   ]
  },
  {
   "cell_type": "code",
   "execution_count": 45,
   "metadata": {},
   "outputs": [
    {
     "name": "stdout",
     "output_type": "stream",
     "text": [
      "Wall time: 41.3 s\n"
     ]
    },
    {
     "data": {
      "text/plain": [
       "6.419438806350188"
      ]
     },
     "execution_count": 45,
     "metadata": {},
     "output_type": "execute_result"
    }
   ],
   "source": [
    "%%time\n",
    "#     rates_and_preds = validation_RDD.map(lambda r: ((int(r[0]), int(r[1])), float(r[2]))).join(predictions)\n",
    "#     error = math.sqrt(rates_and_preds.map(lambda r: (r[1][0] - r[1][1])**2).mean())\n",
    "computeRMSE(model,validation_RDD)"
   ]
  },
  {
   "cell_type": "code",
   "execution_count": 46,
   "metadata": {},
   "outputs": [],
   "source": [
    "# rates_and_preds = validation_RDD.map(lambda r: ((int(r[0]), int(r[1])), float(r[2]))).join(predictions)"
   ]
  },
  {
   "cell_type": "code",
   "execution_count": 47,
   "metadata": {},
   "outputs": [],
   "source": [
    "# rates_and_preds.first()"
   ]
  },
  {
   "cell_type": "code",
   "execution_count": 48,
   "metadata": {},
   "outputs": [
    {
     "data": {
      "text/plain": [
       "Rating(user=23, product=931, rating=4.0)"
      ]
     },
     "execution_count": 48,
     "metadata": {},
     "output_type": "execute_result"
    }
   ],
   "source": [
    "## validation rdd\n",
    "validation_RDD.first()"
   ]
  },
  {
   "cell_type": "code",
   "execution_count": 49,
   "metadata": {},
   "outputs": [
    {
     "data": {
      "text/plain": [
       "(23, 931)"
      ]
     },
     "execution_count": 49,
     "metadata": {},
     "output_type": "execute_result"
    }
   ],
   "source": [
    "## validation having just user item\n",
    "validation_for_predict_RDD.first()"
   ]
  },
  {
   "cell_type": "code",
   "execution_count": null,
   "metadata": {},
   "outputs": [],
   "source": [
    "# validation_for_predict_RDD = validation_RDD.map(lambda x: (x[0], x[1]))\n"
   ]
  },
  {
   "cell_type": "code",
   "execution_count": 30,
   "metadata": {},
   "outputs": [],
   "source": [
    "# predictions = model.predictAll(validation_RDD).map(lambda r: ((r[0], r[1]), r[2]))\n",
    "# ratesAndPreds = ratings.map(lambda r: ((r[0], r[1]), r[2])).join(predictions)"
   ]
  },
  {
   "cell_type": "code",
   "execution_count": 31,
   "metadata": {},
   "outputs": [],
   "source": [
    "# %%time\n",
    "# print (validation_RDD.count())\n",
    "# print (predictions.count()   )\n",
    "# #computeRMSE(model,data2)"
   ]
  },
  {
   "cell_type": "code",
   "execution_count": 32,
   "metadata": {},
   "outputs": [
    {
     "name": "stdout",
     "output_type": "stream",
     "text": [
      "Wall time: 0 ns\n"
     ]
    }
   ],
   "source": [
    "%%time\n",
    "#computeRMSE(model,data2)"
   ]
  },
  {
   "cell_type": "markdown",
   "metadata": {},
   "source": [
    "#### Recommend Products for top-n"
   ]
  },
  {
   "cell_type": "code",
   "execution_count": 35,
   "metadata": {},
   "outputs": [],
   "source": [
    "def recommendProducts(self, user, num):\n",
    "    \"\"\"\n",
    "    Recommends the top \"num\" number of products for a given user and\n",
    "    returns a list of Rating objects sorted by the predicted rating in\n",
    "    descending order. \"\"\"\n",
    "    pass"
   ]
  },
  {
   "cell_type": "code",
   "execution_count": 41,
   "metadata": {},
   "outputs": [
    {
     "name": "stdout",
     "output_type": "stream",
     "text": [
      "Wall time: 0 ns\n"
     ]
    }
   ],
   "source": [
    "%time\n",
    "n = 2\n",
    "recos = model.recommendProducts(23, n)"
   ]
  },
  {
   "cell_type": "code",
   "execution_count": 42,
   "metadata": {},
   "outputs": [
    {
     "data": {
      "text/plain": [
       "[Rating(user=23, product=3021, rating=31.343305724051433),\n",
       " Rating(user=23, product=998, rating=21.964829819243604)]"
      ]
     },
     "execution_count": 42,
     "metadata": {},
     "output_type": "execute_result"
    }
   ],
   "source": [
    "recos"
   ]
  },
  {
   "cell_type": "code",
   "execution_count": null,
   "metadata": {},
   "outputs": [],
   "source": [
    "#  def predict(self, user, product):\n",
    "#         \"\"\"\n",
    "#         Predicts rating for the given user and product.\n",
    "#         \"\"\"\n",
    "#         return self._java_model.predict(int(user), int(product)"
   ]
  },
  {
   "cell_type": "code",
   "execution_count": 52,
   "metadata": {},
   "outputs": [
    {
     "data": {
      "text/plain": [
       "[Rating(user=23, product=931, rating=4.0)]"
      ]
     },
     "execution_count": 52,
     "metadata": {},
     "output_type": "execute_result"
    }
   ],
   "source": [
    "validation_RDD.first()"
   ]
  },
  {
   "cell_type": "code",
   "execution_count": 50,
   "metadata": {},
   "outputs": [
    {
     "data": {
      "text/plain": [
       "0.0032886570342311773"
      ]
     },
     "execution_count": 50,
     "metadata": {},
     "output_type": "execute_result"
    }
   ],
   "source": [
    "pred_rating = model.predict(23, 931)\n",
    "pred_rating"
   ]
  },
  {
   "cell_type": "code",
   "execution_count": null,
   "metadata": {},
   "outputs": [],
   "source": []
  },
  {
   "cell_type": "code",
   "execution_count": null,
   "metadata": {},
   "outputs": [],
   "source": [
    "spark = SparkSession(sc) #to convert into df"
   ]
  },
  {
   "cell_type": "code",
   "execution_count": 62,
   "metadata": {},
   "outputs": [],
   "source": [
    "valid_df = validation_RDD.toDF()"
   ]
  },
  {
   "cell_type": "code",
   "execution_count": 64,
   "metadata": {},
   "outputs": [],
   "source": [
    "valid_df_pandas = valid_df.toPandas()"
   ]
  },
  {
   "cell_type": "code",
   "execution_count": 71,
   "metadata": {
    "scrolled": true
   },
   "outputs": [
    {
     "data": {
      "text/html": [
       "<div>\n",
       "<style scoped>\n",
       "    .dataframe tbody tr th:only-of-type {\n",
       "        vertical-align: middle;\n",
       "    }\n",
       "\n",
       "    .dataframe tbody tr th {\n",
       "        vertical-align: top;\n",
       "    }\n",
       "\n",
       "    .dataframe thead th {\n",
       "        text-align: right;\n",
       "    }\n",
       "</style>\n",
       "<table border=\"1\" class=\"dataframe\">\n",
       "  <thead>\n",
       "    <tr style=\"text-align: right;\">\n",
       "      <th></th>\n",
       "      <th>user</th>\n",
       "      <th>product</th>\n",
       "      <th>rating</th>\n",
       "    </tr>\n",
       "  </thead>\n",
       "  <tbody>\n",
       "    <tr>\n",
       "      <th>0</th>\n",
       "      <td>23</td>\n",
       "      <td>931</td>\n",
       "      <td>4.0</td>\n",
       "    </tr>\n",
       "    <tr>\n",
       "      <th>1</th>\n",
       "      <td>775</td>\n",
       "      <td>931</td>\n",
       "      <td>1.0</td>\n",
       "    </tr>\n",
       "    <tr>\n",
       "      <th>2</th>\n",
       "      <td>782</td>\n",
       "      <td>931</td>\n",
       "      <td>4.0</td>\n",
       "    </tr>\n",
       "    <tr>\n",
       "      <th>3</th>\n",
       "      <td>4</td>\n",
       "      <td>41</td>\n",
       "      <td>1.0</td>\n",
       "    </tr>\n",
       "    <tr>\n",
       "      <th>4</th>\n",
       "      <td>9</td>\n",
       "      <td>41</td>\n",
       "      <td>4.0</td>\n",
       "    </tr>\n",
       "  </tbody>\n",
       "</table>\n",
       "</div>"
      ],
      "text/plain": [
       "   user  product  rating\n",
       "0    23      931     4.0\n",
       "1   775      931     1.0\n",
       "2   782      931     4.0\n",
       "3     4       41     1.0\n",
       "4     9       41     4.0"
      ]
     },
     "execution_count": 71,
     "metadata": {},
     "output_type": "execute_result"
    }
   ],
   "source": [
    "valid_df_pandas.head()"
   ]
  },
  {
   "cell_type": "code",
   "execution_count": 83,
   "metadata": {},
   "outputs": [
    {
     "data": {
      "text/html": [
       "<div>\n",
       "<style scoped>\n",
       "    .dataframe tbody tr th:only-of-type {\n",
       "        vertical-align: middle;\n",
       "    }\n",
       "\n",
       "    .dataframe tbody tr th {\n",
       "        vertical-align: top;\n",
       "    }\n",
       "\n",
       "    .dataframe thead th {\n",
       "        text-align: right;\n",
       "    }\n",
       "</style>\n",
       "<table border=\"1\" class=\"dataframe\">\n",
       "  <thead>\n",
       "    <tr style=\"text-align: right;\">\n",
       "      <th></th>\n",
       "      <th>user</th>\n",
       "      <th>product</th>\n",
       "      <th>rating</th>\n",
       "    </tr>\n",
       "  </thead>\n",
       "  <tbody>\n",
       "    <tr>\n",
       "      <th>8457</th>\n",
       "      <td>43</td>\n",
       "      <td>1755</td>\n",
       "      <td>1.0</td>\n",
       "    </tr>\n",
       "  </tbody>\n",
       "</table>\n",
       "</div>"
      ],
      "text/plain": [
       "      user  product  rating\n",
       "8457    43     1755     1.0"
      ]
     },
     "execution_count": 83,
     "metadata": {},
     "output_type": "execute_result"
    }
   ],
   "source": [
    "valid_df_pandas [valid_df_pandas['user'] == 43]"
   ]
  },
  {
   "cell_type": "code",
   "execution_count": null,
   "metadata": {},
   "outputs": [],
   "source": [
    "for index, row in item.iterrows():\n",
    "        prediction = algo.predict(row['userid'], row['songid'], verbose=False)\n",
    "        predicted_rating = prediction.est\n",
    "        output = output.append(pd.Series([str(row['userid']), str(row['songid']),\n",
    "                        predicted_rating], index=output.columns), ignore_index=True)"
   ]
  },
  {
   "cell_type": "code",
   "execution_count": 86,
   "metadata": {},
   "outputs": [],
   "source": [
    "# %%time\n",
    "# ### to store recommended product with ratings\n",
    "# #pred_productid = []\n",
    "# output = pd.DataFrame(columns = ['userid', 'songid','pred_score','actual_score'])\n",
    "# for index, row in valid_df_pandas.iterrows():\n",
    "#     if row['user'] == 43 or row['user'] == 439:\n",
    "#         continue\n",
    "#     pred_rating = model.predict( row['user'], row['product'] ) \n",
    "#     output.append( pd.Series([\n",
    "#         int(row['user']), int(row['product']),\n",
    "#         pred_rating, float(row['rating'])\n",
    "#                         ], index= output.columns), ignore_index=True)"
   ]
  },
  {
   "cell_type": "code",
   "execution_count": null,
   "metadata": {},
   "outputs": [],
   "source": []
  },
  {
   "cell_type": "code",
   "execution_count": null,
   "metadata": {},
   "outputs": [],
   "source": []
  },
  {
   "cell_type": "code",
   "execution_count": null,
   "metadata": {},
   "outputs": [],
   "source": []
  },
  {
   "cell_type": "code",
   "execution_count": null,
   "metadata": {},
   "outputs": [],
   "source": []
  },
  {
   "cell_type": "code",
   "execution_count": null,
   "metadata": {},
   "outputs": [],
   "source": []
  },
  {
   "cell_type": "code",
   "execution_count": null,
   "metadata": {},
   "outputs": [],
   "source": []
  },
  {
   "cell_type": "code",
   "execution_count": null,
   "metadata": {},
   "outputs": [],
   "source": []
  }
 ],
 "metadata": {
  "kernelspec": {
   "display_name": "sparkenv",
   "language": "python",
   "name": "sparkenv"
  },
  "language_info": {
   "codemirror_mode": {
    "name": "ipython",
    "version": 3
   },
   "file_extension": ".py",
   "mimetype": "text/x-python",
   "name": "python",
   "nbconvert_exporter": "python",
   "pygments_lexer": "ipython3",
   "version": "3.7.1"
  }
 },
 "nbformat": 4,
 "nbformat_minor": 2
}
