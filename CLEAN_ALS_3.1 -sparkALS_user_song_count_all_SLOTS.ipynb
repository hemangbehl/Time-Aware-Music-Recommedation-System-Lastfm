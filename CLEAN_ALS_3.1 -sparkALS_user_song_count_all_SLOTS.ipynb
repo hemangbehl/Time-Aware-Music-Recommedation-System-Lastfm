{
 "cells": [
  {
   "cell_type": "code",
   "execution_count": 3,
   "metadata": {},
   "outputs": [],
   "source": [
    "# import the usual\n",
    "import matplotlib.pyplot as plt\n",
    "import pandas as pd\n",
    "import seaborn as sns\n",
    "import numpy as np\n",
    "import math\n",
    "import re\n",
    "import itertools\n",
    "from scipy.sparse import csr_matrix\n",
    "\n",
    "%matplotlib inline\n",
    "pd.set_option('display.max_columns', 500)"
   ]
  },
  {
   "cell_type": "code",
   "execution_count": 4,
   "metadata": {},
   "outputs": [],
   "source": [
    "import findspark\n",
    "findspark.init()\n",
    "#from pyspark.ml.recommendation import ALS\n",
    "from pyspark.context import SparkContext\n",
    "from pyspark.sql.session import SparkSession\n",
    "from pyspark.mllib.recommendation import ALS, MatrixFactorizationModel, Rating"
   ]
  },
  {
   "cell_type": "code",
   "execution_count": 5,
   "metadata": {},
   "outputs": [],
   "source": [
    "sc = SparkContext()"
   ]
  },
  {
   "cell_type": "code",
   "execution_count": 6,
   "metadata": {},
   "outputs": [],
   "source": [
    "# sp = SparkSession.builder.appName(\"s\").getOrCreate()"
   ]
  },
  {
   "cell_type": "code",
   "execution_count": 7,
   "metadata": {},
   "outputs": [],
   "source": [
    "slot1 = sc.textFile(r\"F:\\Data_Repository\\lastfm\\df_slot1.tsv\")\n",
    "slot2 = sc.textFile(r\"F:\\Data_Repository\\lastfm\\df_slot2.tsv\")\n",
    "slot3 = sc.textFile(r\"F:\\Data_Repository\\lastfm\\df_slot3.tsv\")\n",
    "slot4 = sc.textFile(r\"F:\\Data_Repository\\lastfm\\df_slot4.tsv\")"
   ]
  },
  {
   "cell_type": "code",
   "execution_count": 8,
   "metadata": {},
   "outputs": [
    {
     "data": {
      "text/plain": [
       "pyspark.rdd.RDD"
      ]
     },
     "execution_count": 8,
     "metadata": {},
     "output_type": "execute_result"
    }
   ],
   "source": [
    "type(slot1)"
   ]
  },
  {
   "cell_type": "code",
   "execution_count": 9,
   "metadata": {},
   "outputs": [],
   "source": [
    "slots = [slot1, slot2, slot3, slot4]"
   ]
  },
  {
   "cell_type": "code",
   "execution_count": 10,
   "metadata": {},
   "outputs": [],
   "source": [
    "def isNumber(s):\n",
    "    try:\n",
    "        float(s)\n",
    "        return True\n",
    "    except ValueError:\n",
    "        pass\n",
    " \n",
    "    return False\n",
    "\n",
    "def computeRMSE(model,data):\n",
    "    \n",
    "    \"\"\" Takes ALS models and testing data as input and returns RMSE value \"\"\"\n",
    "    \n",
    "    data_for_predict = data.map(lambda x: (x[0], x[1]))\n",
    "    \n",
    "    predictions = model.predictAll(data_for_predict).map(lambda r: ((r[0], r[1]), r[2]))\n",
    "    rates_and_preds = data.map(lambda r: ((int(r[0]), int(r[1])), float(r[2]))).join(predictions)\n",
    "    error = math.sqrt(rates_and_preds.map(lambda r: (r[1][0] - r[1][1])**2).mean())\n",
    "    \n",
    "    return error"
   ]
  },
  {
   "cell_type": "code",
   "execution_count": 11,
   "metadata": {},
   "outputs": [
    {
     "name": "stdout",
     "output_type": "stream",
     "text": [
      "\n",
      " ## Slot :  1\n",
      "For rank 5 the RMSE is 1.1681614305385888\n",
      "For rank 10 the RMSE is 1.1678819944463574\n",
      "For rank 15 the RMSE is 1.1671706920636706\n",
      "The best model was trained with rank 15\n",
      "\n",
      " ## Slot :  2\n",
      "For rank 5 the RMSE is 1.0204170683254816\n",
      "For rank 10 the RMSE is 1.020022155681369\n",
      "For rank 15 the RMSE is 1.0196947585522675\n",
      "The best model was trained with rank 15\n",
      "\n",
      " ## Slot :  3\n",
      "For rank 5 the RMSE is 1.2072978578503877\n",
      "For rank 10 the RMSE is 1.2066129841598738\n",
      "For rank 15 the RMSE is 1.2064489655607\n",
      "The best model was trained with rank 15\n",
      "\n",
      " ## Slot :  4\n",
      "For rank 5 the RMSE is 1.1906307046531146\n",
      "For rank 10 the RMSE is 1.189835280967131\n",
      "For rank 15 the RMSE is 1.1895705703178825\n",
      "The best model was trained with rank 15\n",
      "Wall time: 7min 7s\n"
     ]
    }
   ],
   "source": [
    "%%time\n",
    "modelnameid = 1\n",
    "for data in slots:\n",
    "    print(\"\")\n",
    "    print (\" ## Slot : \", modelnameid)\n",
    "    path = str('F:\\Data_Repository\\lastfm')\n",
    "    modelname = path + \"\\slot\" + str(modelnameid) + \".tsv\"\n",
    "    data = data.map(lambda x: x.split('\\t'))\n",
    "    data2 = data.map(lambda x : [x[i] for i in [0,1,2]]) #only 3 columns exist\n",
    "    data2 = data2.filter(lambda x: isNumber(x[2])) # Remove faulty rows\n",
    "    data2 = data2.map(lambda x: [x[0], x[1], float(x[2])]) #Change plays into float\n",
    "    users = data2.map(lambda x: x[0]).distinct().zipWithIndex()\n",
    "    artists = data2.map(lambda x: x[1]).distinct().zipWithIndex()\n",
    "    data2 = data2.map(lambda r: (r[0], (r[1], r[2]))).join(users).map(lambda r: (r[1][1], r[1][0][0], r[1][0][1]))\n",
    "    data2 = data2.map(lambda r: (r[1], (r[0], r[2]))).join(artists).map(lambda r: (r[1][0][0], r[1][1], r[1][0][1]))\n",
    "    plays = data2.map(lambda x: x[2])\n",
    "    data2 = data2.map(lambda l: Rating(int(l[0]), int(l[1]), float(l[2])))\n",
    "    training_RDD, validation_RDD, test_RDD = data2.randomSplit([6, 2, 2], seed = 2)\n",
    "    validation_for_predict_RDD = validation_RDD.map(lambda x: (x[0], x[1]))\n",
    "    test_for_predict_RDD = test_RDD.map(lambda x: (x[0], x[1]))\n",
    "    \n",
    "    seed = 5\n",
    "    #iterations = 10\n",
    "    iterations = 1\n",
    "    regularization_parameter = 0.1\n",
    "    ranks = [5,10,15]\n",
    "    #ranks = [15] #to reduce loop\n",
    "    errors = [0, 0, 0]\n",
    "    err = 0\n",
    "    tolerance = 0.02\n",
    "    alpha = 0.01\n",
    "\n",
    "    min_error = float('inf')\n",
    "    best_rank = -1\n",
    "    best_iteration = -1\n",
    "\n",
    "    for rank in ranks:\n",
    "        e = 0\n",
    "        #for i in range(5):\n",
    "        for i in range(1):\n",
    "            # Split the data\n",
    "            training_RDD, validation_RDD, test_RDD = data2.randomSplit([6, 2, 2], seed = 2)\n",
    "            validation_for_predict_RDD = validation_RDD.map(lambda x: (x[0], x[1]))\n",
    "            test_for_predict_RDD = test_RDD.map(lambda x: (x[0], x[1]))\n",
    "\n",
    "            model = ALS.trainImplicit(training_RDD, rank, seed=seed, iterations=iterations,\n",
    "                              lambda_=regularization_parameter,alpha=alpha)\n",
    "        #     predictions = model.predictAll(validation_for_predict_RDD).map(lambda r: ((r[0], r[1]), r[2]))\n",
    "        #     rates_and_preds = validation_RDD.map(lambda r: ((int(r[0]), int(r[1])), float(r[2]))).join(predictions)\n",
    "        #     error = math.sqrt(rates_and_preds.map(lambda r: (r[1][0] - r[1][1])**2).mean())\n",
    "            e += computeRMSE(model,validation_RDD)\n",
    "        \n",
    "        \n",
    "        ##to get pred\n",
    "        #spark = SparkSession(sc) #to convert into df\n",
    "        #valid_df = validation_RDD.toDF()\n",
    "        #valid_df_pandas = valid_df.toPandas()\n",
    "        #\n",
    "        ##output = pd.DataFrame(columns = ['userid', 'songid','pred_score','actual_score'])\n",
    "        #for index, row in valid_df_pandas[:40].iterrows():\n",
    "        #    #if row['user'] == 43 or row['user'] == 439:\n",
    "        #    #    continue\n",
    "        #    pred_rating = model.predict( row['user'], row['product'] ) \n",
    "        #    output = output.append( pd.Series([\n",
    "        #        int(row['user']), int(row['product']),\n",
    "        #        pred_rating, float(row['rating'])\n",
    "        #                        ], index= output.columns), ignore_index=True)  \n",
    "\n",
    "        \n",
    "        error = e/5.5\n",
    "        errors[err] = error\n",
    "        err += 1\n",
    "        print ('For rank %s the RMSE is %s' % (rank, error))\n",
    "        if error < min_error:\n",
    "            min_error = error\n",
    "            best_rank = rank\n",
    "\n",
    "    print ('The best model was trained with rank %s' % best_rank)\n",
    "\n",
    "    ####to save model\n",
    "    #print(\"Saving model to the given path\")\n",
    "    #model.save(sc, modelname)\n",
    "    modelnameid = modelnameid + 1"
   ]
  },
  {
   "cell_type": "code",
   "execution_count": null,
   "metadata": {},
   "outputs": [],
   "source": [
    "#  ## Slot :  1\n",
    "# For rank 5 the RMSE is 1.1681614305385888\n",
    "# For rank 10 the RMSE is 1.1678819944463574\n",
    "# For rank 15 the RMSE is 1.1671706920636706\n",
    "# The best model was trained with rank 15\n",
    "\n",
    "#  ## Slot :  2\n",
    "# For rank 5 the RMSE is 1.0204170683254816\n",
    "# For rank 10 the RMSE is 1.020022155681369\n",
    "# For rank 15 the RMSE is 1.0196947585522675\n",
    "# The best model was trained with rank 15\n",
    "\n",
    "#  ## Slot :  3\n",
    "# For rank 5 the RMSE is 1.2072978578503877\n",
    "# For rank 10 the RMSE is 1.2066129841598738\n",
    "# For rank 15 the RMSE is 1.2064489655607\n",
    "# The best model was trained with rank 15\n",
    "\n",
    "#  ## Slot :  4\n",
    "# For rank 5 the RMSE is 1.1906307046531146\n",
    "# For rank 10 the RMSE is 1.189835280967131\n",
    "# For rank 15 the RMSE is 1.1895705703178825\n",
    "# The best model was trained with rank 15\n",
    "# Wall time: 7min 7s"
   ]
  },
  {
   "cell_type": "code",
   "execution_count": null,
   "metadata": {},
   "outputs": [],
   "source": []
  },
  {
   "cell_type": "code",
   "execution_count": null,
   "metadata": {},
   "outputs": [],
   "source": []
  },
  {
   "cell_type": "code",
   "execution_count": null,
   "metadata": {},
   "outputs": [],
   "source": []
  }
 ],
 "metadata": {
  "kernelspec": {
   "display_name": "sparkenv",
   "language": "python",
   "name": "sparkenv"
  },
  "language_info": {
   "codemirror_mode": {
    "name": "ipython",
    "version": 3
   },
   "file_extension": ".py",
   "mimetype": "text/x-python",
   "name": "python",
   "nbconvert_exporter": "python",
   "pygments_lexer": "ipython3",
   "version": "3.7.1"
  }
 },
 "nbformat": 4,
 "nbformat_minor": 2
}
