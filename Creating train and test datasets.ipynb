{
 "cells": [
  {
   "cell_type": "code",
   "execution_count": 25,
   "metadata": {},
   "outputs": [],
   "source": [
    "# import the usual\n",
    "import matplotlib.pyplot as plt\n",
    "import pandas as pd\n",
    "import seaborn as sns\n",
    "import numpy as np\n",
    "import hashlib \n",
    "import datetime\n",
    "%matplotlib inline\n",
    "pd.set_option('display.max_columns', 500)"
   ]
  },
  {
   "cell_type": "code",
   "execution_count": 2,
   "metadata": {},
   "outputs": [
    {
     "name": "stderr",
     "output_type": "stream",
     "text": [
      "b'Skipping line 2120260: expected 6 fields, saw 8\\n'\n",
      "b'Skipping line 2446318: expected 6 fields, saw 8\\n'\n",
      "b'Skipping line 11141081: expected 6 fields, saw 8\\n'\n",
      "b'Skipping line 11152099: expected 6 fields, saw 12\\nSkipping line 11152402: expected 6 fields, saw 8\\n'\n",
      "b'Skipping line 11882087: expected 6 fields, saw 8\\n'\n",
      "b'Skipping line 12902539: expected 6 fields, saw 8\\nSkipping line 12935044: expected 6 fields, saw 8\\n'\n",
      "b'Skipping line 17589539: expected 6 fields, saw 8\\n'\n"
     ]
    }
   ],
   "source": [
    "#Music Data Loading\n",
    "df = pd.read_csv(\"../../Dataset/lastfm/userid-timestamp-artid-artname-traid-traname.tsv\", sep=\"\\t\", error_bad_lines=False, header = None)\n",
    "# usersha_profile_df = pd.read_csv(\"../../Dataset/lastfm/usersha1-profile.tsv\",sep='\\t',names=['userId','gender','age','country','signupDate'])\n",
    "# usersha_artist_df = pd.read_csv(\"../../Dataset/lastfm/usersha1-artmbid-artname-plays.tsv\",sep='\\t',names=['userId','artistId','artist','plays'])"
   ]
  },
  {
   "cell_type": "code",
   "execution_count": 3,
   "metadata": {},
   "outputs": [],
   "source": [
    "df.columns = ['userid', 'timestamp', 'artistid', 'artist', '1', 'song']"
   ]
  },
  {
   "cell_type": "code",
   "execution_count": 4,
   "metadata": {
    "scrolled": true
   },
   "outputs": [
    {
     "data": {
      "text/html": [
       "<div>\n",
       "<style scoped>\n",
       "    .dataframe tbody tr th:only-of-type {\n",
       "        vertical-align: middle;\n",
       "    }\n",
       "\n",
       "    .dataframe tbody tr th {\n",
       "        vertical-align: top;\n",
       "    }\n",
       "\n",
       "    .dataframe thead th {\n",
       "        text-align: right;\n",
       "    }\n",
       "</style>\n",
       "<table border=\"1\" class=\"dataframe\">\n",
       "  <thead>\n",
       "    <tr style=\"text-align: right;\">\n",
       "      <th></th>\n",
       "      <th>userid</th>\n",
       "      <th>timestamp</th>\n",
       "      <th>artistid</th>\n",
       "      <th>artist</th>\n",
       "      <th>1</th>\n",
       "      <th>song</th>\n",
       "    </tr>\n",
       "  </thead>\n",
       "  <tbody>\n",
       "    <tr>\n",
       "      <td>0</td>\n",
       "      <td>user_000001</td>\n",
       "      <td>2009-05-04T23:08:57Z</td>\n",
       "      <td>f1b1cf71-bd35-4e99-8624-24a6e15f133a</td>\n",
       "      <td>Deep Dish</td>\n",
       "      <td>NaN</td>\n",
       "      <td>Fuck Me Im Famous (Pacha Ibiza)-09-28-2007</td>\n",
       "    </tr>\n",
       "    <tr>\n",
       "      <td>1</td>\n",
       "      <td>user_000001</td>\n",
       "      <td>2009-05-04T13:54:10Z</td>\n",
       "      <td>a7f7df4a-77d8-4f12-8acd-5c60c93f4de8</td>\n",
       "      <td>坂本龍一</td>\n",
       "      <td>NaN</td>\n",
       "      <td>Composition 0919 (Live_2009_4_15)</td>\n",
       "    </tr>\n",
       "    <tr>\n",
       "      <td>2</td>\n",
       "      <td>user_000001</td>\n",
       "      <td>2009-05-04T13:52:04Z</td>\n",
       "      <td>a7f7df4a-77d8-4f12-8acd-5c60c93f4de8</td>\n",
       "      <td>坂本龍一</td>\n",
       "      <td>NaN</td>\n",
       "      <td>Mc2 (Live_2009_4_15)</td>\n",
       "    </tr>\n",
       "    <tr>\n",
       "      <td>3</td>\n",
       "      <td>user_000001</td>\n",
       "      <td>2009-05-04T13:42:52Z</td>\n",
       "      <td>a7f7df4a-77d8-4f12-8acd-5c60c93f4de8</td>\n",
       "      <td>坂本龍一</td>\n",
       "      <td>NaN</td>\n",
       "      <td>Hibari (Live_2009_4_15)</td>\n",
       "    </tr>\n",
       "    <tr>\n",
       "      <td>4</td>\n",
       "      <td>user_000001</td>\n",
       "      <td>2009-05-04T13:42:11Z</td>\n",
       "      <td>a7f7df4a-77d8-4f12-8acd-5c60c93f4de8</td>\n",
       "      <td>坂本龍一</td>\n",
       "      <td>NaN</td>\n",
       "      <td>Mc1 (Live_2009_4_15)</td>\n",
       "    </tr>\n",
       "    <tr>\n",
       "      <td>5</td>\n",
       "      <td>user_000001</td>\n",
       "      <td>2009-05-04T13:38:31Z</td>\n",
       "      <td>a7f7df4a-77d8-4f12-8acd-5c60c93f4de8</td>\n",
       "      <td>坂本龍一</td>\n",
       "      <td>NaN</td>\n",
       "      <td>To Stanford (Live_2009_4_15)</td>\n",
       "    </tr>\n",
       "    <tr>\n",
       "      <td>6</td>\n",
       "      <td>user_000001</td>\n",
       "      <td>2009-05-04T13:33:28Z</td>\n",
       "      <td>a7f7df4a-77d8-4f12-8acd-5c60c93f4de8</td>\n",
       "      <td>坂本龍一</td>\n",
       "      <td>NaN</td>\n",
       "      <td>Improvisation (Live_2009_4_15)</td>\n",
       "    </tr>\n",
       "    <tr>\n",
       "      <td>7</td>\n",
       "      <td>user_000001</td>\n",
       "      <td>2009-05-04T13:23:45Z</td>\n",
       "      <td>a7f7df4a-77d8-4f12-8acd-5c60c93f4de8</td>\n",
       "      <td>坂本龍一</td>\n",
       "      <td>NaN</td>\n",
       "      <td>Glacier (Live_2009_4_15)</td>\n",
       "    </tr>\n",
       "    <tr>\n",
       "      <td>8</td>\n",
       "      <td>user_000001</td>\n",
       "      <td>2009-05-04T13:19:22Z</td>\n",
       "      <td>a7f7df4a-77d8-4f12-8acd-5c60c93f4de8</td>\n",
       "      <td>坂本龍一</td>\n",
       "      <td>NaN</td>\n",
       "      <td>Parolibre (Live_2009_4_15)</td>\n",
       "    </tr>\n",
       "    <tr>\n",
       "      <td>9</td>\n",
       "      <td>user_000001</td>\n",
       "      <td>2009-05-04T13:13:38Z</td>\n",
       "      <td>a7f7df4a-77d8-4f12-8acd-5c60c93f4de8</td>\n",
       "      <td>坂本龍一</td>\n",
       "      <td>NaN</td>\n",
       "      <td>Bibo No Aozora (Live_2009_4_15)</td>\n",
       "    </tr>\n",
       "  </tbody>\n",
       "</table>\n",
       "</div>"
      ],
      "text/plain": [
       "        userid             timestamp                              artistid  \\\n",
       "0  user_000001  2009-05-04T23:08:57Z  f1b1cf71-bd35-4e99-8624-24a6e15f133a   \n",
       "1  user_000001  2009-05-04T13:54:10Z  a7f7df4a-77d8-4f12-8acd-5c60c93f4de8   \n",
       "2  user_000001  2009-05-04T13:52:04Z  a7f7df4a-77d8-4f12-8acd-5c60c93f4de8   \n",
       "3  user_000001  2009-05-04T13:42:52Z  a7f7df4a-77d8-4f12-8acd-5c60c93f4de8   \n",
       "4  user_000001  2009-05-04T13:42:11Z  a7f7df4a-77d8-4f12-8acd-5c60c93f4de8   \n",
       "5  user_000001  2009-05-04T13:38:31Z  a7f7df4a-77d8-4f12-8acd-5c60c93f4de8   \n",
       "6  user_000001  2009-05-04T13:33:28Z  a7f7df4a-77d8-4f12-8acd-5c60c93f4de8   \n",
       "7  user_000001  2009-05-04T13:23:45Z  a7f7df4a-77d8-4f12-8acd-5c60c93f4de8   \n",
       "8  user_000001  2009-05-04T13:19:22Z  a7f7df4a-77d8-4f12-8acd-5c60c93f4de8   \n",
       "9  user_000001  2009-05-04T13:13:38Z  a7f7df4a-77d8-4f12-8acd-5c60c93f4de8   \n",
       "\n",
       "      artist    1                                        song  \n",
       "0  Deep Dish  NaN  Fuck Me Im Famous (Pacha Ibiza)-09-28-2007  \n",
       "1       坂本龍一  NaN           Composition 0919 (Live_2009_4_15)  \n",
       "2       坂本龍一  NaN                        Mc2 (Live_2009_4_15)  \n",
       "3       坂本龍一  NaN                     Hibari (Live_2009_4_15)  \n",
       "4       坂本龍一  NaN                        Mc1 (Live_2009_4_15)  \n",
       "5       坂本龍一  NaN                To Stanford (Live_2009_4_15)  \n",
       "6       坂本龍一  NaN              Improvisation (Live_2009_4_15)  \n",
       "7       坂本龍一  NaN                    Glacier (Live_2009_4_15)  \n",
       "8       坂本龍一  NaN                  Parolibre (Live_2009_4_15)  \n",
       "9       坂本龍一  NaN             Bibo No Aozora (Live_2009_4_15)  "
      ]
     },
     "execution_count": 4,
     "metadata": {},
     "output_type": "execute_result"
    }
   ],
   "source": [
    "df[:10]"
   ]
  },
  {
   "cell_type": "code",
   "execution_count": 5,
   "metadata": {},
   "outputs": [],
   "source": [
    "df['time'] = pd.to_datetime(df['timestamp'])"
   ]
  },
  {
   "cell_type": "code",
   "execution_count": 6,
   "metadata": {},
   "outputs": [],
   "source": [
    "df.drop(['timestamp'], axis=1, inplace=True)"
   ]
  },
  {
   "cell_type": "code",
   "execution_count": 7,
   "metadata": {},
   "outputs": [
    {
     "data": {
      "text/html": [
       "<div>\n",
       "<style scoped>\n",
       "    .dataframe tbody tr th:only-of-type {\n",
       "        vertical-align: middle;\n",
       "    }\n",
       "\n",
       "    .dataframe tbody tr th {\n",
       "        vertical-align: top;\n",
       "    }\n",
       "\n",
       "    .dataframe thead th {\n",
       "        text-align: right;\n",
       "    }\n",
       "</style>\n",
       "<table border=\"1\" class=\"dataframe\">\n",
       "  <thead>\n",
       "    <tr style=\"text-align: right;\">\n",
       "      <th></th>\n",
       "      <th>userid</th>\n",
       "      <th>artistid</th>\n",
       "      <th>artist</th>\n",
       "      <th>1</th>\n",
       "      <th>song</th>\n",
       "      <th>time</th>\n",
       "    </tr>\n",
       "  </thead>\n",
       "  <tbody>\n",
       "    <tr>\n",
       "      <td>0</td>\n",
       "      <td>user_000001</td>\n",
       "      <td>f1b1cf71-bd35-4e99-8624-24a6e15f133a</td>\n",
       "      <td>Deep Dish</td>\n",
       "      <td>NaN</td>\n",
       "      <td>Fuck Me Im Famous (Pacha Ibiza)-09-28-2007</td>\n",
       "      <td>2009-05-04 23:08:57+00:00</td>\n",
       "    </tr>\n",
       "    <tr>\n",
       "      <td>1</td>\n",
       "      <td>user_000001</td>\n",
       "      <td>a7f7df4a-77d8-4f12-8acd-5c60c93f4de8</td>\n",
       "      <td>坂本龍一</td>\n",
       "      <td>NaN</td>\n",
       "      <td>Composition 0919 (Live_2009_4_15)</td>\n",
       "      <td>2009-05-04 13:54:10+00:00</td>\n",
       "    </tr>\n",
       "    <tr>\n",
       "      <td>2</td>\n",
       "      <td>user_000001</td>\n",
       "      <td>a7f7df4a-77d8-4f12-8acd-5c60c93f4de8</td>\n",
       "      <td>坂本龍一</td>\n",
       "      <td>NaN</td>\n",
       "      <td>Mc2 (Live_2009_4_15)</td>\n",
       "      <td>2009-05-04 13:52:04+00:00</td>\n",
       "    </tr>\n",
       "    <tr>\n",
       "      <td>3</td>\n",
       "      <td>user_000001</td>\n",
       "      <td>a7f7df4a-77d8-4f12-8acd-5c60c93f4de8</td>\n",
       "      <td>坂本龍一</td>\n",
       "      <td>NaN</td>\n",
       "      <td>Hibari (Live_2009_4_15)</td>\n",
       "      <td>2009-05-04 13:42:52+00:00</td>\n",
       "    </tr>\n",
       "    <tr>\n",
       "      <td>4</td>\n",
       "      <td>user_000001</td>\n",
       "      <td>a7f7df4a-77d8-4f12-8acd-5c60c93f4de8</td>\n",
       "      <td>坂本龍一</td>\n",
       "      <td>NaN</td>\n",
       "      <td>Mc1 (Live_2009_4_15)</td>\n",
       "      <td>2009-05-04 13:42:11+00:00</td>\n",
       "    </tr>\n",
       "  </tbody>\n",
       "</table>\n",
       "</div>"
      ],
      "text/plain": [
       "        userid                              artistid     artist    1  \\\n",
       "0  user_000001  f1b1cf71-bd35-4e99-8624-24a6e15f133a  Deep Dish  NaN   \n",
       "1  user_000001  a7f7df4a-77d8-4f12-8acd-5c60c93f4de8       坂本龍一  NaN   \n",
       "2  user_000001  a7f7df4a-77d8-4f12-8acd-5c60c93f4de8       坂本龍一  NaN   \n",
       "3  user_000001  a7f7df4a-77d8-4f12-8acd-5c60c93f4de8       坂本龍一  NaN   \n",
       "4  user_000001  a7f7df4a-77d8-4f12-8acd-5c60c93f4de8       坂本龍一  NaN   \n",
       "\n",
       "                                         song                      time  \n",
       "0  Fuck Me Im Famous (Pacha Ibiza)-09-28-2007 2009-05-04 23:08:57+00:00  \n",
       "1           Composition 0919 (Live_2009_4_15) 2009-05-04 13:54:10+00:00  \n",
       "2                        Mc2 (Live_2009_4_15) 2009-05-04 13:52:04+00:00  \n",
       "3                     Hibari (Live_2009_4_15) 2009-05-04 13:42:52+00:00  \n",
       "4                        Mc1 (Live_2009_4_15) 2009-05-04 13:42:11+00:00  "
      ]
     },
     "execution_count": 7,
     "metadata": {},
     "output_type": "execute_result"
    }
   ],
   "source": [
    "df.head()"
   ]
  },
  {
   "cell_type": "markdown",
   "metadata": {},
   "source": [
    "### Removing artist name and song id (possibly) from the user_songs_df dataframe"
   ]
  },
  {
   "cell_type": "code",
   "execution_count": 8,
   "metadata": {},
   "outputs": [],
   "source": [
    "user_songs_df = df.drop(['artist'], axis=1, inplace=False)"
   ]
  },
  {
   "cell_type": "code",
   "execution_count": 9,
   "metadata": {},
   "outputs": [],
   "source": [
    "user_songs_df.columns = ['userid', 'artistid', 'songid', 'song', 'time']"
   ]
  },
  {
   "cell_type": "code",
   "execution_count": 10,
   "metadata": {},
   "outputs": [],
   "source": [
    "user_songs_df = user_songs_df.drop(['songid'], axis=1, inplace=False)"
   ]
  },
  {
   "cell_type": "code",
   "execution_count": 11,
   "metadata": {},
   "outputs": [
    {
     "data": {
      "text/html": [
       "<div>\n",
       "<style scoped>\n",
       "    .dataframe tbody tr th:only-of-type {\n",
       "        vertical-align: middle;\n",
       "    }\n",
       "\n",
       "    .dataframe tbody tr th {\n",
       "        vertical-align: top;\n",
       "    }\n",
       "\n",
       "    .dataframe thead th {\n",
       "        text-align: right;\n",
       "    }\n",
       "</style>\n",
       "<table border=\"1\" class=\"dataframe\">\n",
       "  <thead>\n",
       "    <tr style=\"text-align: right;\">\n",
       "      <th></th>\n",
       "      <th>userid</th>\n",
       "      <th>artistid</th>\n",
       "      <th>song</th>\n",
       "      <th>time</th>\n",
       "    </tr>\n",
       "  </thead>\n",
       "  <tbody>\n",
       "    <tr>\n",
       "      <td>0</td>\n",
       "      <td>user_000001</td>\n",
       "      <td>f1b1cf71-bd35-4e99-8624-24a6e15f133a</td>\n",
       "      <td>Fuck Me Im Famous (Pacha Ibiza)-09-28-2007</td>\n",
       "      <td>2009-05-04 23:08:57+00:00</td>\n",
       "    </tr>\n",
       "    <tr>\n",
       "      <td>1</td>\n",
       "      <td>user_000001</td>\n",
       "      <td>a7f7df4a-77d8-4f12-8acd-5c60c93f4de8</td>\n",
       "      <td>Composition 0919 (Live_2009_4_15)</td>\n",
       "      <td>2009-05-04 13:54:10+00:00</td>\n",
       "    </tr>\n",
       "    <tr>\n",
       "      <td>2</td>\n",
       "      <td>user_000001</td>\n",
       "      <td>a7f7df4a-77d8-4f12-8acd-5c60c93f4de8</td>\n",
       "      <td>Mc2 (Live_2009_4_15)</td>\n",
       "      <td>2009-05-04 13:52:04+00:00</td>\n",
       "    </tr>\n",
       "    <tr>\n",
       "      <td>3</td>\n",
       "      <td>user_000001</td>\n",
       "      <td>a7f7df4a-77d8-4f12-8acd-5c60c93f4de8</td>\n",
       "      <td>Hibari (Live_2009_4_15)</td>\n",
       "      <td>2009-05-04 13:42:52+00:00</td>\n",
       "    </tr>\n",
       "    <tr>\n",
       "      <td>4</td>\n",
       "      <td>user_000001</td>\n",
       "      <td>a7f7df4a-77d8-4f12-8acd-5c60c93f4de8</td>\n",
       "      <td>Mc1 (Live_2009_4_15)</td>\n",
       "      <td>2009-05-04 13:42:11+00:00</td>\n",
       "    </tr>\n",
       "  </tbody>\n",
       "</table>\n",
       "</div>"
      ],
      "text/plain": [
       "        userid                              artistid  \\\n",
       "0  user_000001  f1b1cf71-bd35-4e99-8624-24a6e15f133a   \n",
       "1  user_000001  a7f7df4a-77d8-4f12-8acd-5c60c93f4de8   \n",
       "2  user_000001  a7f7df4a-77d8-4f12-8acd-5c60c93f4de8   \n",
       "3  user_000001  a7f7df4a-77d8-4f12-8acd-5c60c93f4de8   \n",
       "4  user_000001  a7f7df4a-77d8-4f12-8acd-5c60c93f4de8   \n",
       "\n",
       "                                         song                      time  \n",
       "0  Fuck Me Im Famous (Pacha Ibiza)-09-28-2007 2009-05-04 23:08:57+00:00  \n",
       "1           Composition 0919 (Live_2009_4_15) 2009-05-04 13:54:10+00:00  \n",
       "2                        Mc2 (Live_2009_4_15) 2009-05-04 13:52:04+00:00  \n",
       "3                     Hibari (Live_2009_4_15) 2009-05-04 13:42:52+00:00  \n",
       "4                        Mc1 (Live_2009_4_15) 2009-05-04 13:42:11+00:00  "
      ]
     },
     "execution_count": 11,
     "metadata": {},
     "output_type": "execute_result"
    }
   ],
   "source": [
    "user_songs_df.head()"
   ]
  },
  {
   "cell_type": "code",
   "execution_count": 12,
   "metadata": {},
   "outputs": [
    {
     "data": {
      "text/plain": [
       "1083471"
      ]
     },
     "execution_count": 12,
     "metadata": {},
     "output_type": "execute_result"
    }
   ],
   "source": [
    "user_songs_df['song'].nunique()"
   ]
  },
  {
   "cell_type": "code",
   "execution_count": 15,
   "metadata": {},
   "outputs": [],
   "source": [
    "def get_unique_count(column):\n",
    "#     print(\"len of list : \"+str(len(song_column)))\n",
    "#     print(\"len of set : \"+str(len(set(song_column))))\n",
    "    return len(set(column))"
   ]
  },
  {
   "cell_type": "code",
   "execution_count": 16,
   "metadata": {},
   "outputs": [],
   "source": [
    "df_songs_heard_10_users = user_songs_df.groupby(\"song\").filter(lambda x: get_unique_count(x['userid'])>10)"
   ]
  },
  {
   "cell_type": "code",
   "execution_count": 17,
   "metadata": {},
   "outputs": [
    {
     "data": {
      "text/html": [
       "<div>\n",
       "<style scoped>\n",
       "    .dataframe tbody tr th:only-of-type {\n",
       "        vertical-align: middle;\n",
       "    }\n",
       "\n",
       "    .dataframe tbody tr th {\n",
       "        vertical-align: top;\n",
       "    }\n",
       "\n",
       "    .dataframe thead th {\n",
       "        text-align: right;\n",
       "    }\n",
       "</style>\n",
       "<table border=\"1\" class=\"dataframe\">\n",
       "  <thead>\n",
       "    <tr style=\"text-align: right;\">\n",
       "      <th></th>\n",
       "      <th>userid</th>\n",
       "      <th>artistid</th>\n",
       "      <th>song</th>\n",
       "      <th>time</th>\n",
       "    </tr>\n",
       "  </thead>\n",
       "  <tbody>\n",
       "    <tr>\n",
       "      <td>17</td>\n",
       "      <td>user_000001</td>\n",
       "      <td>463a94f1-2713-40b1-9c88-dcc9c0170cae</td>\n",
       "      <td>Elysian Fields</td>\n",
       "      <td>2009-05-03 15:10:18+00:00</td>\n",
       "    </tr>\n",
       "    <tr>\n",
       "      <td>18</td>\n",
       "      <td>user_000001</td>\n",
       "      <td>ad0811ea-e213-451d-b22f-fa1a7f9e0226</td>\n",
       "      <td>Planetary Deadlock</td>\n",
       "      <td>2009-05-03 15:04:31+00:00</td>\n",
       "    </tr>\n",
       "    <tr>\n",
       "      <td>20</td>\n",
       "      <td>user_000001</td>\n",
       "      <td>6f3d4a7b-45b2-4c08-9306-8d271e92cb4f</td>\n",
       "      <td>Deadly Species</td>\n",
       "      <td>2009-05-03 14:50:51+00:00</td>\n",
       "    </tr>\n",
       "    <tr>\n",
       "      <td>21</td>\n",
       "      <td>user_000001</td>\n",
       "      <td>463a94f1-2713-40b1-9c88-dcc9c0170cae</td>\n",
       "      <td>Cold Fusion</td>\n",
       "      <td>2009-05-03 14:46:29+00:00</td>\n",
       "    </tr>\n",
       "    <tr>\n",
       "      <td>22</td>\n",
       "      <td>user_000001</td>\n",
       "      <td>45bdb5be-ec03-484f-b58d-d22afc944b24</td>\n",
       "      <td>Clouds</td>\n",
       "      <td>2009-05-03 14:39:20+00:00</td>\n",
       "    </tr>\n",
       "  </tbody>\n",
       "</table>\n",
       "</div>"
      ],
      "text/plain": [
       "         userid                              artistid                song  \\\n",
       "17  user_000001  463a94f1-2713-40b1-9c88-dcc9c0170cae      Elysian Fields   \n",
       "18  user_000001  ad0811ea-e213-451d-b22f-fa1a7f9e0226  Planetary Deadlock   \n",
       "20  user_000001  6f3d4a7b-45b2-4c08-9306-8d271e92cb4f      Deadly Species   \n",
       "21  user_000001  463a94f1-2713-40b1-9c88-dcc9c0170cae         Cold Fusion   \n",
       "22  user_000001  45bdb5be-ec03-484f-b58d-d22afc944b24              Clouds   \n",
       "\n",
       "                        time  \n",
       "17 2009-05-03 15:10:18+00:00  \n",
       "18 2009-05-03 15:04:31+00:00  \n",
       "20 2009-05-03 14:50:51+00:00  \n",
       "21 2009-05-03 14:46:29+00:00  \n",
       "22 2009-05-03 14:39:20+00:00  "
      ]
     },
     "execution_count": 17,
     "metadata": {},
     "output_type": "execute_result"
    }
   ],
   "source": [
    "df_songs_heard_10_users.head()"
   ]
  },
  {
   "cell_type": "code",
   "execution_count": 18,
   "metadata": {},
   "outputs": [
    {
     "data": {
      "text/plain": [
       "72545"
      ]
     },
     "execution_count": 18,
     "metadata": {},
     "output_type": "execute_result"
    }
   ],
   "source": [
    "df_songs_heard_10_users['song'].nunique()"
   ]
  },
  {
   "cell_type": "code",
   "execution_count": 19,
   "metadata": {},
   "outputs": [
    {
     "data": {
      "text/plain": [
       "992"
      ]
     },
     "execution_count": 19,
     "metadata": {},
     "output_type": "execute_result"
    }
   ],
   "source": [
    "df_songs_heard_10_users['userid'].nunique()"
   ]
  },
  {
   "cell_type": "code",
   "execution_count": 21,
   "metadata": {},
   "outputs": [],
   "source": [
    "df_songs_heard_100_users = user_songs_df.groupby(\"song\").filter(lambda x: get_unique_count(x['userid'])>100)"
   ]
  },
  {
   "cell_type": "code",
   "execution_count": 26,
   "metadata": {},
   "outputs": [
    {
     "data": {
      "text/html": [
       "<div>\n",
       "<style scoped>\n",
       "    .dataframe tbody tr th:only-of-type {\n",
       "        vertical-align: middle;\n",
       "    }\n",
       "\n",
       "    .dataframe tbody tr th {\n",
       "        vertical-align: top;\n",
       "    }\n",
       "\n",
       "    .dataframe thead th {\n",
       "        text-align: right;\n",
       "    }\n",
       "</style>\n",
       "<table border=\"1\" class=\"dataframe\">\n",
       "  <thead>\n",
       "    <tr style=\"text-align: right;\">\n",
       "      <th></th>\n",
       "      <th>userid</th>\n",
       "      <th>artistid</th>\n",
       "      <th>song</th>\n",
       "      <th>time</th>\n",
       "    </tr>\n",
       "  </thead>\n",
       "  <tbody>\n",
       "    <tr>\n",
       "      <td>22</td>\n",
       "      <td>user_000001</td>\n",
       "      <td>45bdb5be-ec03-484f-b58d-d22afc944b24</td>\n",
       "      <td>Clouds</td>\n",
       "      <td>2009-05-03 14:39:20+00:00</td>\n",
       "    </tr>\n",
       "    <tr>\n",
       "      <td>26</td>\n",
       "      <td>user_000001</td>\n",
       "      <td>ce559a88-58ba-4d8a-8456-9177412d609c</td>\n",
       "      <td>Seven</td>\n",
       "      <td>2009-05-03 14:07:40+00:00</td>\n",
       "    </tr>\n",
       "    <tr>\n",
       "      <td>28</td>\n",
       "      <td>user_000001</td>\n",
       "      <td>ce559a88-58ba-4d8a-8456-9177412d609c</td>\n",
       "      <td>Five</td>\n",
       "      <td>2009-05-03 13:56:25+00:00</td>\n",
       "    </tr>\n",
       "    <tr>\n",
       "      <td>30</td>\n",
       "      <td>user_000001</td>\n",
       "      <td>ce559a88-58ba-4d8a-8456-9177412d609c</td>\n",
       "      <td>Three</td>\n",
       "      <td>2009-05-03 13:40:46+00:00</td>\n",
       "    </tr>\n",
       "    <tr>\n",
       "      <td>39</td>\n",
       "      <td>user_000001</td>\n",
       "      <td>3d05eb8b-1644-4143-9a61-b28e33c4d85f</td>\n",
       "      <td>Something In The Way</td>\n",
       "      <td>2009-05-02 15:19:46+00:00</td>\n",
       "    </tr>\n",
       "  </tbody>\n",
       "</table>\n",
       "</div>"
      ],
      "text/plain": [
       "         userid                              artistid                  song  \\\n",
       "22  user_000001  45bdb5be-ec03-484f-b58d-d22afc944b24                Clouds   \n",
       "26  user_000001  ce559a88-58ba-4d8a-8456-9177412d609c                 Seven   \n",
       "28  user_000001  ce559a88-58ba-4d8a-8456-9177412d609c                  Five   \n",
       "30  user_000001  ce559a88-58ba-4d8a-8456-9177412d609c                 Three   \n",
       "39  user_000001  3d05eb8b-1644-4143-9a61-b28e33c4d85f  Something In The Way   \n",
       "\n",
       "                        time  \n",
       "22 2009-05-03 14:39:20+00:00  \n",
       "26 2009-05-03 14:07:40+00:00  \n",
       "28 2009-05-03 13:56:25+00:00  \n",
       "30 2009-05-03 13:40:46+00:00  \n",
       "39 2009-05-02 15:19:46+00:00  "
      ]
     },
     "execution_count": 26,
     "metadata": {},
     "output_type": "execute_result"
    }
   ],
   "source": [
    "df_songs_heard_100_users.head()"
   ]
  },
  {
   "cell_type": "code",
   "execution_count": 23,
   "metadata": {},
   "outputs": [
    {
     "data": {
      "text/plain": [
       "4034"
      ]
     },
     "execution_count": 23,
     "metadata": {},
     "output_type": "execute_result"
    }
   ],
   "source": [
    "df_songs_heard_100_users['song'].nunique()"
   ]
  },
  {
   "cell_type": "code",
   "execution_count": 24,
   "metadata": {},
   "outputs": [
    {
     "data": {
      "text/plain": [
       "990"
      ]
     },
     "execution_count": 24,
     "metadata": {},
     "output_type": "execute_result"
    }
   ],
   "source": [
    "df_songs_heard_100_users['userid'].nunique()"
   ]
  },
  {
   "cell_type": "markdown",
   "metadata": {},
   "source": [
    "## Creation of timeslots"
   ]
  },
  {
   "cell_type": "code",
   "execution_count": 27,
   "metadata": {},
   "outputs": [
    {
     "name": "stderr",
     "output_type": "stream",
     "text": [
      "/Users/akshayj/opt/anaconda3/lib/python3.7/site-packages/ipykernel_launcher.py:1: SettingWithCopyWarning: \n",
      "A value is trying to be set on a copy of a slice from a DataFrame.\n",
      "Try using .loc[row_indexer,col_indexer] = value instead\n",
      "\n",
      "See the caveats in the documentation: http://pandas.pydata.org/pandas-docs/stable/user_guide/indexing.html#returning-a-view-versus-a-copy\n",
      "  \"\"\"Entry point for launching an IPython kernel.\n"
     ]
    }
   ],
   "source": [
    "df_songs_heard_100_users['hour'] = df_songs_heard_100_users['time'].dt.hour"
   ]
  },
  {
   "cell_type": "code",
   "execution_count": 28,
   "metadata": {},
   "outputs": [
    {
     "data": {
      "text/html": [
       "<div>\n",
       "<style scoped>\n",
       "    .dataframe tbody tr th:only-of-type {\n",
       "        vertical-align: middle;\n",
       "    }\n",
       "\n",
       "    .dataframe tbody tr th {\n",
       "        vertical-align: top;\n",
       "    }\n",
       "\n",
       "    .dataframe thead th {\n",
       "        text-align: right;\n",
       "    }\n",
       "</style>\n",
       "<table border=\"1\" class=\"dataframe\">\n",
       "  <thead>\n",
       "    <tr style=\"text-align: right;\">\n",
       "      <th></th>\n",
       "      <th>userid</th>\n",
       "      <th>artistid</th>\n",
       "      <th>song</th>\n",
       "      <th>time</th>\n",
       "      <th>hour</th>\n",
       "    </tr>\n",
       "  </thead>\n",
       "  <tbody>\n",
       "    <tr>\n",
       "      <td>22</td>\n",
       "      <td>user_000001</td>\n",
       "      <td>45bdb5be-ec03-484f-b58d-d22afc944b24</td>\n",
       "      <td>Clouds</td>\n",
       "      <td>2009-05-03 14:39:20+00:00</td>\n",
       "      <td>14</td>\n",
       "    </tr>\n",
       "    <tr>\n",
       "      <td>26</td>\n",
       "      <td>user_000001</td>\n",
       "      <td>ce559a88-58ba-4d8a-8456-9177412d609c</td>\n",
       "      <td>Seven</td>\n",
       "      <td>2009-05-03 14:07:40+00:00</td>\n",
       "      <td>14</td>\n",
       "    </tr>\n",
       "    <tr>\n",
       "      <td>28</td>\n",
       "      <td>user_000001</td>\n",
       "      <td>ce559a88-58ba-4d8a-8456-9177412d609c</td>\n",
       "      <td>Five</td>\n",
       "      <td>2009-05-03 13:56:25+00:00</td>\n",
       "      <td>13</td>\n",
       "    </tr>\n",
       "    <tr>\n",
       "      <td>30</td>\n",
       "      <td>user_000001</td>\n",
       "      <td>ce559a88-58ba-4d8a-8456-9177412d609c</td>\n",
       "      <td>Three</td>\n",
       "      <td>2009-05-03 13:40:46+00:00</td>\n",
       "      <td>13</td>\n",
       "    </tr>\n",
       "    <tr>\n",
       "      <td>39</td>\n",
       "      <td>user_000001</td>\n",
       "      <td>3d05eb8b-1644-4143-9a61-b28e33c4d85f</td>\n",
       "      <td>Something In The Way</td>\n",
       "      <td>2009-05-02 15:19:46+00:00</td>\n",
       "      <td>15</td>\n",
       "    </tr>\n",
       "  </tbody>\n",
       "</table>\n",
       "</div>"
      ],
      "text/plain": [
       "         userid                              artistid                  song  \\\n",
       "22  user_000001  45bdb5be-ec03-484f-b58d-d22afc944b24                Clouds   \n",
       "26  user_000001  ce559a88-58ba-4d8a-8456-9177412d609c                 Seven   \n",
       "28  user_000001  ce559a88-58ba-4d8a-8456-9177412d609c                  Five   \n",
       "30  user_000001  ce559a88-58ba-4d8a-8456-9177412d609c                 Three   \n",
       "39  user_000001  3d05eb8b-1644-4143-9a61-b28e33c4d85f  Something In The Way   \n",
       "\n",
       "                        time  hour  \n",
       "22 2009-05-03 14:39:20+00:00    14  \n",
       "26 2009-05-03 14:07:40+00:00    14  \n",
       "28 2009-05-03 13:56:25+00:00    13  \n",
       "30 2009-05-03 13:40:46+00:00    13  \n",
       "39 2009-05-02 15:19:46+00:00    15  "
      ]
     },
     "execution_count": 28,
     "metadata": {},
     "output_type": "execute_result"
    }
   ],
   "source": [
    "df_songs_heard_100_users.head()"
   ]
  },
  {
   "cell_type": "code",
   "execution_count": 29,
   "metadata": {},
   "outputs": [],
   "source": [
    "#function to return slot number\n",
    "def slot(hour):\n",
    "    if 0 <= hour and hour <= 5:\n",
    "        return 1\n",
    "    elif 6 <= hour and hour <= 11:\n",
    "        return 2\n",
    "    elif 12 <= hour and hour <= 17:\n",
    "        return 3\n",
    "    else:\n",
    "        return 4"
   ]
  },
  {
   "cell_type": "code",
   "execution_count": 30,
   "metadata": {},
   "outputs": [
    {
     "name": "stdout",
     "output_type": "stream",
     "text": [
      "CPU times: user 1.52 s, sys: 73.9 ms, total: 1.6 s\n",
      "Wall time: 1.58 s\n"
     ]
    },
    {
     "name": "stderr",
     "output_type": "stream",
     "text": [
      "/Users/akshayj/opt/anaconda3/lib/python3.7/site-packages/ipykernel_launcher.py:1: SettingWithCopyWarning: \n",
      "A value is trying to be set on a copy of a slice from a DataFrame.\n",
      "Try using .loc[row_indexer,col_indexer] = value instead\n",
      "\n",
      "See the caveats in the documentation: http://pandas.pydata.org/pandas-docs/stable/user_guide/indexing.html#returning-a-view-versus-a-copy\n",
      "  \"\"\"Entry point for launching an IPython kernel.\n"
     ]
    }
   ],
   "source": [
    "%%time\n",
    "df_songs_heard_100_users['slot'] = df_songs_heard_100_users['hour'].apply( lambda x : slot(x) ) "
   ]
  },
  {
   "cell_type": "code",
   "execution_count": 31,
   "metadata": {},
   "outputs": [
    {
     "data": {
      "text/html": [
       "<div>\n",
       "<style scoped>\n",
       "    .dataframe tbody tr th:only-of-type {\n",
       "        vertical-align: middle;\n",
       "    }\n",
       "\n",
       "    .dataframe tbody tr th {\n",
       "        vertical-align: top;\n",
       "    }\n",
       "\n",
       "    .dataframe thead th {\n",
       "        text-align: right;\n",
       "    }\n",
       "</style>\n",
       "<table border=\"1\" class=\"dataframe\">\n",
       "  <thead>\n",
       "    <tr style=\"text-align: right;\">\n",
       "      <th></th>\n",
       "      <th>userid</th>\n",
       "      <th>artistid</th>\n",
       "      <th>song</th>\n",
       "      <th>time</th>\n",
       "      <th>hour</th>\n",
       "      <th>slot</th>\n",
       "    </tr>\n",
       "  </thead>\n",
       "  <tbody>\n",
       "    <tr>\n",
       "      <td>22</td>\n",
       "      <td>user_000001</td>\n",
       "      <td>45bdb5be-ec03-484f-b58d-d22afc944b24</td>\n",
       "      <td>Clouds</td>\n",
       "      <td>2009-05-03 14:39:20+00:00</td>\n",
       "      <td>14</td>\n",
       "      <td>3</td>\n",
       "    </tr>\n",
       "    <tr>\n",
       "      <td>26</td>\n",
       "      <td>user_000001</td>\n",
       "      <td>ce559a88-58ba-4d8a-8456-9177412d609c</td>\n",
       "      <td>Seven</td>\n",
       "      <td>2009-05-03 14:07:40+00:00</td>\n",
       "      <td>14</td>\n",
       "      <td>3</td>\n",
       "    </tr>\n",
       "    <tr>\n",
       "      <td>28</td>\n",
       "      <td>user_000001</td>\n",
       "      <td>ce559a88-58ba-4d8a-8456-9177412d609c</td>\n",
       "      <td>Five</td>\n",
       "      <td>2009-05-03 13:56:25+00:00</td>\n",
       "      <td>13</td>\n",
       "      <td>3</td>\n",
       "    </tr>\n",
       "    <tr>\n",
       "      <td>30</td>\n",
       "      <td>user_000001</td>\n",
       "      <td>ce559a88-58ba-4d8a-8456-9177412d609c</td>\n",
       "      <td>Three</td>\n",
       "      <td>2009-05-03 13:40:46+00:00</td>\n",
       "      <td>13</td>\n",
       "      <td>3</td>\n",
       "    </tr>\n",
       "    <tr>\n",
       "      <td>39</td>\n",
       "      <td>user_000001</td>\n",
       "      <td>3d05eb8b-1644-4143-9a61-b28e33c4d85f</td>\n",
       "      <td>Something In The Way</td>\n",
       "      <td>2009-05-02 15:19:46+00:00</td>\n",
       "      <td>15</td>\n",
       "      <td>3</td>\n",
       "    </tr>\n",
       "  </tbody>\n",
       "</table>\n",
       "</div>"
      ],
      "text/plain": [
       "         userid                              artistid                  song  \\\n",
       "22  user_000001  45bdb5be-ec03-484f-b58d-d22afc944b24                Clouds   \n",
       "26  user_000001  ce559a88-58ba-4d8a-8456-9177412d609c                 Seven   \n",
       "28  user_000001  ce559a88-58ba-4d8a-8456-9177412d609c                  Five   \n",
       "30  user_000001  ce559a88-58ba-4d8a-8456-9177412d609c                 Three   \n",
       "39  user_000001  3d05eb8b-1644-4143-9a61-b28e33c4d85f  Something In The Way   \n",
       "\n",
       "                        time  hour  slot  \n",
       "22 2009-05-03 14:39:20+00:00    14     3  \n",
       "26 2009-05-03 14:07:40+00:00    14     3  \n",
       "28 2009-05-03 13:56:25+00:00    13     3  \n",
       "30 2009-05-03 13:40:46+00:00    13     3  \n",
       "39 2009-05-02 15:19:46+00:00    15     3  "
      ]
     },
     "execution_count": 31,
     "metadata": {},
     "output_type": "execute_result"
    }
   ],
   "source": [
    "df_songs_heard_100_users.head()"
   ]
  },
  {
   "cell_type": "code",
   "execution_count": 32,
   "metadata": {},
   "outputs": [
    {
     "data": {
      "text/plain": [
       "4    1295828\n",
       "3    1164899\n",
       "1     770722\n",
       "2     690652\n",
       "Name: slot, dtype: int64"
      ]
     },
     "execution_count": 32,
     "metadata": {},
     "output_type": "execute_result"
    }
   ],
   "source": [
    "df_songs_heard_100_users['slot'].value_counts()"
   ]
  },
  {
   "cell_type": "code",
   "execution_count": 33,
   "metadata": {},
   "outputs": [
    {
     "data": {
      "text/plain": [
       "<matplotlib.axes._subplots.AxesSubplot at 0x1a22368650>"
      ]
     },
     "execution_count": 33,
     "metadata": {},
     "output_type": "execute_result"
    },
    {
     "data": {
      "image/png": "[encoded data removed]",
      "text/plain": [
       "<Figure size 432x288 with 1 Axes>"
      ]
     },
     "metadata": {
      "needs_background": "light"
     },
     "output_type": "display_data"
    }
   ],
   "source": [
    "df_songs_heard_100_users['slot'].value_counts().sort_index()[:].plot(kind='bar')"
   ]
  },
  {
   "cell_type": "code",
   "execution_count": 46,
   "metadata": {},
   "outputs": [
    {
     "data": {
      "text/plain": [
       "(3922101, 6)"
      ]
     },
     "execution_count": 46,
     "metadata": {},
     "output_type": "execute_result"
    }
   ],
   "source": [
    "df_songs_heard_100_users.shape"
   ]
  },
  {
   "cell_type": "markdown",
   "metadata": {},
   "source": [
    "## Generating training and testing data"
   ]
  },
  {
   "cell_type": "code",
   "execution_count": 35,
   "metadata": {},
   "outputs": [],
   "source": [
    "user_record_counts = df_songs_heard_100_users.groupby(\"userid\").apply(lambda x: x.shape[0])"
   ]
  },
  {
   "cell_type": "code",
   "execution_count": 82,
   "metadata": {},
   "outputs": [],
   "source": [
    "train_set_keys = []\n",
    "test_set_keys = []\n",
    "sum_val = 0\n",
    "total = df_songs_heard_100_users.shape[0]\n",
    "for key, value in user_record_counts.items():\n",
    "    sum_val += value\n",
    "    fraction = sum_val/total\n",
    "    if fraction <= 0.8:\n",
    "        train_set_keys.append(key)        \n",
    "    else:\n",
    "        test_set_keys.append(key)"
   ]
  },
  {
   "cell_type": "code",
   "execution_count": 90,
   "metadata": {},
   "outputs": [
    {
     "name": "stdout",
     "output_type": "stream",
     "text": [
      "Number of users in train set : 792\n",
      "Number of users in test set : 198\n"
     ]
    }
   ],
   "source": [
    "print(\"Number of users in train set : \"+str(len(train_set_keys)))\n",
    "print(\"Number of users in test set : \"+str(len(test_set_keys)))"
   ]
  },
  {
   "cell_type": "code",
   "execution_count": 85,
   "metadata": {},
   "outputs": [],
   "source": [
    "train_set = df_songs_heard_100_users.groupby(\"userid\").filter(lambda x: x['userid'].iloc[0] in train_set_keys)\n",
    "test_set = df_songs_heard_100_users.groupby(\"userid\").filter(lambda x: x['userid'].iloc[0] in test_set_keys)"
   ]
  },
  {
   "cell_type": "code",
   "execution_count": 91,
   "metadata": {},
   "outputs": [
    {
     "name": "stdout",
     "output_type": "stream",
     "text": [
      "Number of users in train set : 792\n",
      "Number of users in test set : 198\n"
     ]
    }
   ],
   "source": [
    "print(\"Number of users in train set : \"+str(train_set['userid'].nunique()))\n",
    "print(\"Number of users in test set : \"+str(test_set['userid'].nunique()))"
   ]
  },
  {
   "cell_type": "code",
   "execution_count": 89,
   "metadata": {},
   "outputs": [
    {
     "data": {
      "text/plain": [
       "0.7984888711432979"
      ]
     },
     "execution_count": 89,
     "metadata": {},
     "output_type": "execute_result"
    }
   ],
   "source": [
    "train_set.shape[0]/total"
   ]
  },
  {
   "cell_type": "code",
   "execution_count": 93,
   "metadata": {},
   "outputs": [
    {
     "data": {
      "text/html": [
       "<div>\n",
       "<style scoped>\n",
       "    .dataframe tbody tr th:only-of-type {\n",
       "        vertical-align: middle;\n",
       "    }\n",
       "\n",
       "    .dataframe tbody tr th {\n",
       "        vertical-align: top;\n",
       "    }\n",
       "\n",
       "    .dataframe thead th {\n",
       "        text-align: right;\n",
       "    }\n",
       "</style>\n",
       "<table border=\"1\" class=\"dataframe\">\n",
       "  <thead>\n",
       "    <tr style=\"text-align: right;\">\n",
       "      <th></th>\n",
       "      <th>userid</th>\n",
       "      <th>artistid</th>\n",
       "      <th>song</th>\n",
       "      <th>time</th>\n",
       "      <th>hour</th>\n",
       "      <th>slot</th>\n",
       "    </tr>\n",
       "  </thead>\n",
       "  <tbody>\n",
       "    <tr>\n",
       "      <td>22</td>\n",
       "      <td>user_000001</td>\n",
       "      <td>45bdb5be-ec03-484f-b58d-d22afc944b24</td>\n",
       "      <td>Clouds</td>\n",
       "      <td>2009-05-03 14:39:20+00:00</td>\n",
       "      <td>14</td>\n",
       "      <td>3</td>\n",
       "    </tr>\n",
       "    <tr>\n",
       "      <td>26</td>\n",
       "      <td>user_000001</td>\n",
       "      <td>ce559a88-58ba-4d8a-8456-9177412d609c</td>\n",
       "      <td>Seven</td>\n",
       "      <td>2009-05-03 14:07:40+00:00</td>\n",
       "      <td>14</td>\n",
       "      <td>3</td>\n",
       "    </tr>\n",
       "    <tr>\n",
       "      <td>28</td>\n",
       "      <td>user_000001</td>\n",
       "      <td>ce559a88-58ba-4d8a-8456-9177412d609c</td>\n",
       "      <td>Five</td>\n",
       "      <td>2009-05-03 13:56:25+00:00</td>\n",
       "      <td>13</td>\n",
       "      <td>3</td>\n",
       "    </tr>\n",
       "    <tr>\n",
       "      <td>30</td>\n",
       "      <td>user_000001</td>\n",
       "      <td>ce559a88-58ba-4d8a-8456-9177412d609c</td>\n",
       "      <td>Three</td>\n",
       "      <td>2009-05-03 13:40:46+00:00</td>\n",
       "      <td>13</td>\n",
       "      <td>3</td>\n",
       "    </tr>\n",
       "    <tr>\n",
       "      <td>39</td>\n",
       "      <td>user_000001</td>\n",
       "      <td>3d05eb8b-1644-4143-9a61-b28e33c4d85f</td>\n",
       "      <td>Something In The Way</td>\n",
       "      <td>2009-05-02 15:19:46+00:00</td>\n",
       "      <td>15</td>\n",
       "      <td>3</td>\n",
       "    </tr>\n",
       "  </tbody>\n",
       "</table>\n",
       "</div>"
      ],
      "text/plain": [
       "         userid                              artistid                  song  \\\n",
       "22  user_000001  45bdb5be-ec03-484f-b58d-d22afc944b24                Clouds   \n",
       "26  user_000001  ce559a88-58ba-4d8a-8456-9177412d609c                 Seven   \n",
       "28  user_000001  ce559a88-58ba-4d8a-8456-9177412d609c                  Five   \n",
       "30  user_000001  ce559a88-58ba-4d8a-8456-9177412d609c                 Three   \n",
       "39  user_000001  3d05eb8b-1644-4143-9a61-b28e33c4d85f  Something In The Way   \n",
       "\n",
       "                        time  hour  slot  \n",
       "22 2009-05-03 14:39:20+00:00    14     3  \n",
       "26 2009-05-03 14:07:40+00:00    14     3  \n",
       "28 2009-05-03 13:56:25+00:00    13     3  \n",
       "30 2009-05-03 13:40:46+00:00    13     3  \n",
       "39 2009-05-02 15:19:46+00:00    15     3  "
      ]
     },
     "execution_count": 93,
     "metadata": {},
     "output_type": "execute_result"
    }
   ],
   "source": [
    "train_set.head()"
   ]
  },
  {
   "cell_type": "markdown",
   "metadata": {},
   "source": [
    "# Use these dataframes"
   ]
  },
  {
   "cell_type": "code",
   "execution_count": 154,
   "metadata": {},
   "outputs": [
    {
     "data": {
      "text/html": [
       "<div>\n",
       "<style scoped>\n",
       "    .dataframe tbody tr th:only-of-type {\n",
       "        vertical-align: middle;\n",
       "    }\n",
       "\n",
       "    .dataframe tbody tr th {\n",
       "        vertical-align: top;\n",
       "    }\n",
       "\n",
       "    .dataframe thead th {\n",
       "        text-align: right;\n",
       "    }\n",
       "</style>\n",
       "<table border=\"1\" class=\"dataframe\">\n",
       "  <thead>\n",
       "    <tr style=\"text-align: right;\">\n",
       "      <th></th>\n",
       "      <th>userid</th>\n",
       "      <th>artistid</th>\n",
       "      <th>song</th>\n",
       "      <th>time</th>\n",
       "      <th>hour</th>\n",
       "      <th>slot</th>\n",
       "    </tr>\n",
       "  </thead>\n",
       "  <tbody>\n",
       "    <tr>\n",
       "      <td>22</td>\n",
       "      <td>user_000001</td>\n",
       "      <td>45bdb5be-ec03-484f-b58d-d22afc944b24</td>\n",
       "      <td>Clouds</td>\n",
       "      <td>2009-05-03 14:39:20+00:00</td>\n",
       "      <td>14</td>\n",
       "      <td>3</td>\n",
       "    </tr>\n",
       "    <tr>\n",
       "      <td>26</td>\n",
       "      <td>user_000001</td>\n",
       "      <td>ce559a88-58ba-4d8a-8456-9177412d609c</td>\n",
       "      <td>Seven</td>\n",
       "      <td>2009-05-03 14:07:40+00:00</td>\n",
       "      <td>14</td>\n",
       "      <td>3</td>\n",
       "    </tr>\n",
       "    <tr>\n",
       "      <td>28</td>\n",
       "      <td>user_000001</td>\n",
       "      <td>ce559a88-58ba-4d8a-8456-9177412d609c</td>\n",
       "      <td>Five</td>\n",
       "      <td>2009-05-03 13:56:25+00:00</td>\n",
       "      <td>13</td>\n",
       "      <td>3</td>\n",
       "    </tr>\n",
       "    <tr>\n",
       "      <td>30</td>\n",
       "      <td>user_000001</td>\n",
       "      <td>ce559a88-58ba-4d8a-8456-9177412d609c</td>\n",
       "      <td>Three</td>\n",
       "      <td>2009-05-03 13:40:46+00:00</td>\n",
       "      <td>13</td>\n",
       "      <td>3</td>\n",
       "    </tr>\n",
       "    <tr>\n",
       "      <td>39</td>\n",
       "      <td>user_000001</td>\n",
       "      <td>3d05eb8b-1644-4143-9a61-b28e33c4d85f</td>\n",
       "      <td>Something In The Way</td>\n",
       "      <td>2009-05-02 15:19:46+00:00</td>\n",
       "      <td>15</td>\n",
       "      <td>3</td>\n",
       "    </tr>\n",
       "  </tbody>\n",
       "</table>\n",
       "</div>"
      ],
      "text/plain": [
       "         userid                              artistid                  song  \\\n",
       "22  user_000001  45bdb5be-ec03-484f-b58d-d22afc944b24                Clouds   \n",
       "26  user_000001  ce559a88-58ba-4d8a-8456-9177412d609c                 Seven   \n",
       "28  user_000001  ce559a88-58ba-4d8a-8456-9177412d609c                  Five   \n",
       "30  user_000001  ce559a88-58ba-4d8a-8456-9177412d609c                 Three   \n",
       "39  user_000001  3d05eb8b-1644-4143-9a61-b28e33c4d85f  Something In The Way   \n",
       "\n",
       "                        time  hour  slot  \n",
       "22 2009-05-03 14:39:20+00:00    14     3  \n",
       "26 2009-05-03 14:07:40+00:00    14     3  \n",
       "28 2009-05-03 13:56:25+00:00    13     3  \n",
       "30 2009-05-03 13:40:46+00:00    13     3  \n",
       "39 2009-05-02 15:19:46+00:00    15     3  "
      ]
     },
     "execution_count": 154,
     "metadata": {},
     "output_type": "execute_result"
    }
   ],
   "source": [
    "train_set.head()"
   ]
  },
  {
   "cell_type": "code",
   "execution_count": 155,
   "metadata": {},
   "outputs": [
    {
     "data": {
      "text/html": [
       "<div>\n",
       "<style scoped>\n",
       "    .dataframe tbody tr th:only-of-type {\n",
       "        vertical-align: middle;\n",
       "    }\n",
       "\n",
       "    .dataframe tbody tr th {\n",
       "        vertical-align: top;\n",
       "    }\n",
       "\n",
       "    .dataframe thead th {\n",
       "        text-align: right;\n",
       "    }\n",
       "</style>\n",
       "<table border=\"1\" class=\"dataframe\">\n",
       "  <thead>\n",
       "    <tr style=\"text-align: right;\">\n",
       "      <th></th>\n",
       "      <th>userid</th>\n",
       "      <th>artistid</th>\n",
       "      <th>song</th>\n",
       "      <th>time</th>\n",
       "      <th>hour</th>\n",
       "      <th>slot</th>\n",
       "    </tr>\n",
       "  </thead>\n",
       "  <tbody>\n",
       "    <tr>\n",
       "      <td>15511029</td>\n",
       "      <td>user_000802</td>\n",
       "      <td>cef9233d-78ef-41d5-9bac-f2ca21aa4a40</td>\n",
       "      <td>Left Behind</td>\n",
       "      <td>2009-06-18 21:50:55+00:00</td>\n",
       "      <td>21</td>\n",
       "      <td>4</td>\n",
       "    </tr>\n",
       "    <tr>\n",
       "      <td>15511035</td>\n",
       "      <td>user_000802</td>\n",
       "      <td>b6cca708-1083-4bbb-8ba1-237d832088e4</td>\n",
       "      <td>Tomorrow</td>\n",
       "      <td>2009-06-18 21:26:14+00:00</td>\n",
       "      <td>21</td>\n",
       "      <td>4</td>\n",
       "    </tr>\n",
       "    <tr>\n",
       "      <td>15511043</td>\n",
       "      <td>user_000802</td>\n",
       "      <td>b6cca708-1083-4bbb-8ba1-237d832088e4</td>\n",
       "      <td>Intermission</td>\n",
       "      <td>2009-06-18 20:51:52+00:00</td>\n",
       "      <td>20</td>\n",
       "      <td>4</td>\n",
       "    </tr>\n",
       "    <tr>\n",
       "      <td>15511054</td>\n",
       "      <td>user_000802</td>\n",
       "      <td>b6cca708-1083-4bbb-8ba1-237d832088e4</td>\n",
       "      <td>Tomorrow</td>\n",
       "      <td>2009-06-18 20:01:56+00:00</td>\n",
       "      <td>20</td>\n",
       "      <td>4</td>\n",
       "    </tr>\n",
       "    <tr>\n",
       "      <td>15511061</td>\n",
       "      <td>user_000802</td>\n",
       "      <td>b6cca708-1083-4bbb-8ba1-237d832088e4</td>\n",
       "      <td>Tomorrow</td>\n",
       "      <td>2009-06-18 19:34:31+00:00</td>\n",
       "      <td>19</td>\n",
       "      <td>4</td>\n",
       "    </tr>\n",
       "  </tbody>\n",
       "</table>\n",
       "</div>"
      ],
      "text/plain": [
       "               userid                              artistid          song  \\\n",
       "15511029  user_000802  cef9233d-78ef-41d5-9bac-f2ca21aa4a40   Left Behind   \n",
       "15511035  user_000802  b6cca708-1083-4bbb-8ba1-237d832088e4      Tomorrow   \n",
       "15511043  user_000802  b6cca708-1083-4bbb-8ba1-237d832088e4  Intermission   \n",
       "15511054  user_000802  b6cca708-1083-4bbb-8ba1-237d832088e4      Tomorrow   \n",
       "15511061  user_000802  b6cca708-1083-4bbb-8ba1-237d832088e4      Tomorrow   \n",
       "\n",
       "                              time  hour  slot  \n",
       "15511029 2009-06-18 21:50:55+00:00    21     4  \n",
       "15511035 2009-06-18 21:26:14+00:00    21     4  \n",
       "15511043 2009-06-18 20:51:52+00:00    20     4  \n",
       "15511054 2009-06-18 20:01:56+00:00    20     4  \n",
       "15511061 2009-06-18 19:34:31+00:00    19     4  "
      ]
     },
     "execution_count": 155,
     "metadata": {},
     "output_type": "execute_result"
    }
   ],
   "source": [
    "test_set.head()"
   ]
  },
  {
   "cell_type": "code",
   "execution_count": null,
   "metadata": {},
   "outputs": [],
   "source": []
  },
  {
   "cell_type": "code",
   "execution_count": null,
   "metadata": {},
   "outputs": [],
   "source": []
  },
  {
   "cell_type": "code",
   "execution_count": null,
   "metadata": {},
   "outputs": [],
   "source": []
  },
  {
   "cell_type": "code",
   "execution_count": null,
   "metadata": {},
   "outputs": [],
   "source": []
  },
  {
   "cell_type": "code",
   "execution_count": null,
   "metadata": {},
   "outputs": [],
   "source": []
  },
  {
   "cell_type": "code",
   "execution_count": null,
   "metadata": {},
   "outputs": [],
   "source": []
  },
  {
   "cell_type": "code",
   "execution_count": null,
   "metadata": {},
   "outputs": [],
   "source": []
  },
  {
   "cell_type": "code",
   "execution_count": null,
   "metadata": {},
   "outputs": [],
   "source": []
  },
  {
   "cell_type": "code",
   "execution_count": null,
   "metadata": {},
   "outputs": [],
   "source": []
  },
  {
   "cell_type": "code",
   "execution_count": null,
   "metadata": {},
   "outputs": [],
   "source": []
  },
  {
   "cell_type": "code",
   "execution_count": null,
   "metadata": {},
   "outputs": [],
   "source": []
  },
  {
   "cell_type": "code",
   "execution_count": null,
   "metadata": {},
   "outputs": [],
   "source": []
  },
  {
   "cell_type": "code",
   "execution_count": null,
   "metadata": {},
   "outputs": [],
   "source": []
  },
  {
   "cell_type": "code",
   "execution_count": null,
   "metadata": {},
   "outputs": [],
   "source": []
  },
  {
   "cell_type": "code",
   "execution_count": null,
   "metadata": {},
   "outputs": [],
   "source": []
  },
  {
   "cell_type": "code",
   "execution_count": null,
   "metadata": {},
   "outputs": [],
   "source": []
  },
  {
   "cell_type": "code",
   "execution_count": null,
   "metadata": {},
   "outputs": [],
   "source": []
  },
  {
   "cell_type": "markdown",
   "metadata": {},
   "source": [
    "# Exmeriments"
   ]
  },
  {
   "cell_type": "code",
   "execution_count": 61,
   "metadata": {},
   "outputs": [],
   "source": [
    "user_song_df_count = user_songs_df.groupby([\"userid\",\"song\"]).size().reset_index(name=\"Count\")"
   ]
  },
  {
   "cell_type": "code",
   "execution_count": 62,
   "metadata": {},
   "outputs": [
    {
     "data": {
      "text/html": [
       "<div>\n",
       "<style scoped>\n",
       "    .dataframe tbody tr th:only-of-type {\n",
       "        vertical-align: middle;\n",
       "    }\n",
       "\n",
       "    .dataframe tbody tr th {\n",
       "        vertical-align: top;\n",
       "    }\n",
       "\n",
       "    .dataframe thead th {\n",
       "        text-align: right;\n",
       "    }\n",
       "</style>\n",
       "<table border=\"1\" class=\"dataframe\">\n",
       "  <thead>\n",
       "    <tr style=\"text-align: right;\">\n",
       "      <th></th>\n",
       "      <th>userid</th>\n",
       "      <th>song</th>\n",
       "      <th>Count</th>\n",
       "    </tr>\n",
       "  </thead>\n",
       "  <tbody>\n",
       "    <tr>\n",
       "      <th>0</th>\n",
       "      <td>user_000001</td>\n",
       "      <td>'84 Pontiac Dream</td>\n",
       "      <td>14</td>\n",
       "    </tr>\n",
       "    <tr>\n",
       "      <th>1</th>\n",
       "      <td>user_000001</td>\n",
       "      <td>(All I Wanted Was To Make You) Feel Good</td>\n",
       "      <td>3</td>\n",
       "    </tr>\n",
       "    <tr>\n",
       "      <th>2</th>\n",
       "      <td>user_000001</td>\n",
       "      <td>(D)Ecaying Beauty</td>\n",
       "      <td>1</td>\n",
       "    </tr>\n",
       "    <tr>\n",
       "      <th>3</th>\n",
       "      <td>user_000001</td>\n",
       "      <td>(Far From) Home</td>\n",
       "      <td>1</td>\n",
       "    </tr>\n",
       "    <tr>\n",
       "      <th>4</th>\n",
       "      <td>user_000001</td>\n",
       "      <td>(Get Off Your) High Horse Lady</td>\n",
       "      <td>1</td>\n",
       "    </tr>\n",
       "  </tbody>\n",
       "</table>\n",
       "</div>"
      ],
      "text/plain": [
       "        userid                                      song  Count\n",
       "0  user_000001                         '84 Pontiac Dream     14\n",
       "1  user_000001  (All I Wanted Was To Make You) Feel Good      3\n",
       "2  user_000001                         (D)Ecaying Beauty      1\n",
       "3  user_000001                           (Far From) Home      1\n",
       "4  user_000001            (Get Off Your) High Horse Lady      1"
      ]
     },
     "execution_count": 62,
     "metadata": {},
     "output_type": "execute_result"
    }
   ],
   "source": [
    "user_song_df_count.head()"
   ]
  },
  {
   "cell_type": "code",
   "execution_count": 64,
   "metadata": {},
   "outputs": [
    {
     "data": {
      "text/plain": [
       "userid        992\n",
       "song      1083471\n",
       "Count         534\n",
       "dtype: int64"
      ]
     },
     "execution_count": 64,
     "metadata": {},
     "output_type": "execute_result"
    }
   ],
   "source": [
    "user_song_df_count.nunique()"
   ]
  },
  {
   "cell_type": "code",
   "execution_count": null,
   "metadata": {},
   "outputs": [],
   "source": []
  },
  {
   "cell_type": "markdown",
   "metadata": {},
   "source": [
    "## Experimenting with Hashing"
   ]
  },
  {
   "cell_type": "code",
   "execution_count": 152,
   "metadata": {},
   "outputs": [
    {
     "name": "stdout",
     "output_type": "stream",
     "text": [
      "209c068022cfd29ddb5da3d638898eb43821f68f\n"
     ]
    }
   ],
   "source": [
    "h = hashlib.new('sha1')\n",
    "h.update(b'user_000002')\n",
    "print(h.hexdigest())"
   ]
  },
  {
   "cell_type": "code",
   "execution_count": 146,
   "metadata": {},
   "outputs": [
    {
     "name": "stdout",
     "output_type": "stream",
     "text": [
      "b'Sf\\x8f\\xba\\x99\\xc2\\xe6\\xfe\\xd9\\x93\\x90\\xff-\\xe6\\r \\xe6\\x8c}%\\x1dEF\\xf0{\\xcba\\\\;\\xaf\\x9ec'\n"
     ]
    }
   ],
   "source": [
    "h = hashlib.sha256()\n",
    "h.update(b'user_000002')\n",
    "print(h.digest())"
   ]
  },
  {
   "cell_type": "code",
   "execution_count": 106,
   "metadata": {},
   "outputs": [
    {
     "name": "stdout",
     "output_type": "stream",
     "text": [
      "00000c289a1829a808ac09c00daf10bc3c4e223b\n"
     ]
    }
   ],
   "source": [
    "print('00000c289a1829a808ac09c00daf10bc3c4e223b')"
   ]
  },
  {
   "cell_type": "code",
   "execution_count": null,
   "metadata": {},
   "outputs": [],
   "source": []
  },
  {
   "cell_type": "markdown",
   "metadata": {},
   "source": [
    "## Creating user profile"
   ]
  },
  {
   "cell_type": "code",
   "execution_count": 94,
   "metadata": {},
   "outputs": [],
   "source": [
    "usersha_profile_df = pd.read_csv(\"../../Dataset/lastfm/usersha1-profile.tsv\",sep='\\t',names=['userId','gender','age','country','signupDate'])\n",
    "usersha_artist_df = pd.read_csv(\"../../Dataset/lastfm/usersha1-artmbid-artname-plays.tsv\",sep='\\t',names=['userId','artistId','artist','plays'])"
   ]
  },
  {
   "cell_type": "code",
   "execution_count": 95,
   "metadata": {},
   "outputs": [],
   "source": [
    "profile_df = pd.merge(usersha_profile_df, usersha_artist_df, on='userId', how='left')"
   ]
  },
  {
   "cell_type": "code",
   "execution_count": 97,
   "metadata": {},
   "outputs": [
    {
     "data": {
      "text/html": [
       "<div>\n",
       "<style scoped>\n",
       "    .dataframe tbody tr th:only-of-type {\n",
       "        vertical-align: middle;\n",
       "    }\n",
       "\n",
       "    .dataframe tbody tr th {\n",
       "        vertical-align: top;\n",
       "    }\n",
       "\n",
       "    .dataframe thead th {\n",
       "        text-align: right;\n",
       "    }\n",
       "</style>\n",
       "<table border=\"1\" class=\"dataframe\">\n",
       "  <thead>\n",
       "    <tr style=\"text-align: right;\">\n",
       "      <th></th>\n",
       "      <th>userId</th>\n",
       "      <th>gender</th>\n",
       "      <th>age</th>\n",
       "      <th>country</th>\n",
       "      <th>signupDate</th>\n",
       "      <th>artistId</th>\n",
       "      <th>artist</th>\n",
       "      <th>plays</th>\n",
       "    </tr>\n",
       "  </thead>\n",
       "  <tbody>\n",
       "    <tr>\n",
       "      <td>0</td>\n",
       "      <td>00000c289a1829a808ac09c00daf10bc3c4e223b</td>\n",
       "      <td>f</td>\n",
       "      <td>22.0</td>\n",
       "      <td>Germany</td>\n",
       "      <td>Feb 1, 2007</td>\n",
       "      <td>3bd73256-3905-4f3a-97e2-8b341527f805</td>\n",
       "      <td>betty blowtorch</td>\n",
       "      <td>2137.0</td>\n",
       "    </tr>\n",
       "    <tr>\n",
       "      <td>1</td>\n",
       "      <td>00000c289a1829a808ac09c00daf10bc3c4e223b</td>\n",
       "      <td>f</td>\n",
       "      <td>22.0</td>\n",
       "      <td>Germany</td>\n",
       "      <td>Feb 1, 2007</td>\n",
       "      <td>f2fb0ff0-5679-42ec-a55c-15109ce6e320</td>\n",
       "      <td>die Ärzte</td>\n",
       "      <td>1099.0</td>\n",
       "    </tr>\n",
       "    <tr>\n",
       "      <td>2</td>\n",
       "      <td>00000c289a1829a808ac09c00daf10bc3c4e223b</td>\n",
       "      <td>f</td>\n",
       "      <td>22.0</td>\n",
       "      <td>Germany</td>\n",
       "      <td>Feb 1, 2007</td>\n",
       "      <td>b3ae82c2-e60b-4551-a76d-6620f1b456aa</td>\n",
       "      <td>melissa etheridge</td>\n",
       "      <td>897.0</td>\n",
       "    </tr>\n",
       "    <tr>\n",
       "      <td>3</td>\n",
       "      <td>00000c289a1829a808ac09c00daf10bc3c4e223b</td>\n",
       "      <td>f</td>\n",
       "      <td>22.0</td>\n",
       "      <td>Germany</td>\n",
       "      <td>Feb 1, 2007</td>\n",
       "      <td>3d6bbeb7-f90e-4d10-b440-e153c0d10b53</td>\n",
       "      <td>elvenking</td>\n",
       "      <td>717.0</td>\n",
       "    </tr>\n",
       "    <tr>\n",
       "      <td>4</td>\n",
       "      <td>00000c289a1829a808ac09c00daf10bc3c4e223b</td>\n",
       "      <td>f</td>\n",
       "      <td>22.0</td>\n",
       "      <td>Germany</td>\n",
       "      <td>Feb 1, 2007</td>\n",
       "      <td>bbd2ffd7-17f4-4506-8572-c1ea58c3f9a8</td>\n",
       "      <td>juliette &amp; the licks</td>\n",
       "      <td>706.0</td>\n",
       "    </tr>\n",
       "  </tbody>\n",
       "</table>\n",
       "</div>"
      ],
      "text/plain": [
       "                                     userId gender   age  country  \\\n",
       "0  00000c289a1829a808ac09c00daf10bc3c4e223b      f  22.0  Germany   \n",
       "1  00000c289a1829a808ac09c00daf10bc3c4e223b      f  22.0  Germany   \n",
       "2  00000c289a1829a808ac09c00daf10bc3c4e223b      f  22.0  Germany   \n",
       "3  00000c289a1829a808ac09c00daf10bc3c4e223b      f  22.0  Germany   \n",
       "4  00000c289a1829a808ac09c00daf10bc3c4e223b      f  22.0  Germany   \n",
       "\n",
       "    signupDate                              artistId                artist  \\\n",
       "0  Feb 1, 2007  3bd73256-3905-4f3a-97e2-8b341527f805       betty blowtorch   \n",
       "1  Feb 1, 2007  f2fb0ff0-5679-42ec-a55c-15109ce6e320             die Ärzte   \n",
       "2  Feb 1, 2007  b3ae82c2-e60b-4551-a76d-6620f1b456aa     melissa etheridge   \n",
       "3  Feb 1, 2007  3d6bbeb7-f90e-4d10-b440-e153c0d10b53             elvenking   \n",
       "4  Feb 1, 2007  bbd2ffd7-17f4-4506-8572-c1ea58c3f9a8  juliette & the licks   \n",
       "\n",
       "    plays  \n",
       "0  2137.0  \n",
       "1  1099.0  \n",
       "2   897.0  \n",
       "3   717.0  \n",
       "4   706.0  "
      ]
     },
     "execution_count": 97,
     "metadata": {},
     "output_type": "execute_result"
    }
   ],
   "source": [
    "profile_df.head()"
   ]
  },
  {
   "cell_type": "code",
   "execution_count": 100,
   "metadata": {},
   "outputs": [
    {
     "name": "stdout",
     "output_type": "stream",
     "text": [
      "Number of countries in the profile : 239\n"
     ]
    }
   ],
   "source": [
    "print(\"Number of countries in the profile : \" + str(profile_df['country'].nunique()))"
   ]
  },
  {
   "cell_type": "code",
   "execution_count": 101,
   "metadata": {},
   "outputs": [
    {
     "data": {
      "text/plain": [
       "United States         3336367\n",
       "Germany               1555734\n",
       "United Kingdom        1500779\n",
       "Poland                 997713\n",
       "Russian Federation     891370\n",
       "                       ...   \n",
       "Marshall Islands          166\n",
       "Gambia                    161\n",
       "Benin                     155\n",
       "Palau                     149\n",
       "Liberia                   141\n",
       "Name: country, Length: 239, dtype: int64"
      ]
     },
     "execution_count": 101,
     "metadata": {},
     "output_type": "execute_result"
    }
   ],
   "source": [
    "profile_df['country'].value_counts()"
   ]
  },
  {
   "cell_type": "code",
   "execution_count": null,
   "metadata": {},
   "outputs": [],
   "source": []
  },
  {
   "cell_type": "code",
   "execution_count": 153,
   "metadata": {},
   "outputs": [],
   "source": [
    "# profile_df['userId'].unique()[350000:350100]"
   ]
  },
  {
   "cell_type": "code",
   "execution_count": null,
   "metadata": {},
   "outputs": [],
   "source": []
  }
 ],
 "metadata": {
  "kernelspec": {
   "display_name": "Python 3",
   "language": "python",
   "name": "python3"
  },
  "language_info": {
   "codemirror_mode": {
    "name": "ipython",
    "version": 3
   },
   "file_extension": ".py",
   "mimetype": "text/x-python",
   "name": "python",
   "nbconvert_exporter": "python",
   "pygments_lexer": "ipython3",
   "version": "3.7.4"
  }
 },
 "nbformat": 4,
 "nbformat_minor": 2
}
