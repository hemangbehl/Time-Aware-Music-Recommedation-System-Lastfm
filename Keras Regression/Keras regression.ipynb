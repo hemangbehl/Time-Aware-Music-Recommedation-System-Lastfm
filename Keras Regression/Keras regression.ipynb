{
 "cells": [
  {
   "cell_type": "code",
   "execution_count": 70,
   "metadata": {},
   "outputs": [
    {
     "name": "stderr",
     "output_type": "stream",
     "text": [
      "Using TensorFlow backend.\n"
     ]
    }
   ],
   "source": [
    "# import the usual\n",
    "import matplotlib.pyplot as plt\n",
    "import pandas as pd\n",
    "import seaborn as sns\n",
    "import numpy as np\n",
    "import hashlib \n",
    "import datetime\n",
    "import surprise\n",
    "from keras.layers import Input, Embedding, Flatten, Dot, Dense, Concatenate\n",
    "from keras.models import Model\n",
    "from surprise import SVD\n",
    "from sklearn import preprocessing\n",
    "%matplotlib inline\n",
    "pd.set_option('display.max_columns', 500)"
   ]
  },
  {
   "cell_type": "markdown",
   "metadata": {},
   "source": [
    "### LastFm Data Loading"
   ]
  },
  {
   "cell_type": "code",
   "execution_count": 2,
   "metadata": {},
   "outputs": [
    {
     "name": "stderr",
     "output_type": "stream",
     "text": [
      "b'Skipping line 2120260: expected 6 fields, saw 8\\n'\n",
      "b'Skipping line 2446318: expected 6 fields, saw 8\\n'\n",
      "b'Skipping line 11141081: expected 6 fields, saw 8\\n'\n",
      "b'Skipping line 11152099: expected 6 fields, saw 12\\nSkipping line 11152402: expected 6 fields, saw 8\\n'\n",
      "b'Skipping line 11882087: expected 6 fields, saw 8\\n'\n",
      "b'Skipping line 12902539: expected 6 fields, saw 8\\nSkipping line 12935044: expected 6 fields, saw 8\\n'\n",
      "b'Skipping line 17589539: expected 6 fields, saw 8\\n'\n"
     ]
    },
    {
     "name": "stdout",
     "output_type": "stream",
     "text": [
      "CPU times: user 30.6 s, sys: 4.88 s, total: 35.5 s\n",
      "Wall time: 37 s\n"
     ]
    }
   ],
   "source": [
    "%%time\n",
    "df = pd.read_csv(\"../../Dataset/lastfm/userid-timestamp-artid-artname-traid-traname.tsv\", sep=\"\\t\", error_bad_lines=False, header = None)"
   ]
  },
  {
   "cell_type": "code",
   "execution_count": 3,
   "metadata": {},
   "outputs": [],
   "source": [
    "df.columns = ['userid', 'timestamp', 'artistid', 'artist', '1', 'song']"
   ]
  },
  {
   "cell_type": "code",
   "execution_count": 4,
   "metadata": {},
   "outputs": [
    {
     "data": {
      "text/html": [
       "<div>\n",
       "<style scoped>\n",
       "    .dataframe tbody tr th:only-of-type {\n",
       "        vertical-align: middle;\n",
       "    }\n",
       "\n",
       "    .dataframe tbody tr th {\n",
       "        vertical-align: top;\n",
       "    }\n",
       "\n",
       "    .dataframe thead th {\n",
       "        text-align: right;\n",
       "    }\n",
       "</style>\n",
       "<table border=\"1\" class=\"dataframe\">\n",
       "  <thead>\n",
       "    <tr style=\"text-align: right;\">\n",
       "      <th></th>\n",
       "      <th>userid</th>\n",
       "      <th>timestamp</th>\n",
       "      <th>artistid</th>\n",
       "      <th>artist</th>\n",
       "      <th>1</th>\n",
       "      <th>song</th>\n",
       "    </tr>\n",
       "  </thead>\n",
       "  <tbody>\n",
       "    <tr>\n",
       "      <td>0</td>\n",
       "      <td>user_000001</td>\n",
       "      <td>2009-05-04T23:08:57Z</td>\n",
       "      <td>f1b1cf71-bd35-4e99-8624-24a6e15f133a</td>\n",
       "      <td>Deep Dish</td>\n",
       "      <td>NaN</td>\n",
       "      <td>Fuck Me Im Famous (Pacha Ibiza)-09-28-2007</td>\n",
       "    </tr>\n",
       "    <tr>\n",
       "      <td>1</td>\n",
       "      <td>user_000001</td>\n",
       "      <td>2009-05-04T13:54:10Z</td>\n",
       "      <td>a7f7df4a-77d8-4f12-8acd-5c60c93f4de8</td>\n",
       "      <td>坂本龍一</td>\n",
       "      <td>NaN</td>\n",
       "      <td>Composition 0919 (Live_2009_4_15)</td>\n",
       "    </tr>\n",
       "    <tr>\n",
       "      <td>2</td>\n",
       "      <td>user_000001</td>\n",
       "      <td>2009-05-04T13:52:04Z</td>\n",
       "      <td>a7f7df4a-77d8-4f12-8acd-5c60c93f4de8</td>\n",
       "      <td>坂本龍一</td>\n",
       "      <td>NaN</td>\n",
       "      <td>Mc2 (Live_2009_4_15)</td>\n",
       "    </tr>\n",
       "    <tr>\n",
       "      <td>3</td>\n",
       "      <td>user_000001</td>\n",
       "      <td>2009-05-04T13:42:52Z</td>\n",
       "      <td>a7f7df4a-77d8-4f12-8acd-5c60c93f4de8</td>\n",
       "      <td>坂本龍一</td>\n",
       "      <td>NaN</td>\n",
       "      <td>Hibari (Live_2009_4_15)</td>\n",
       "    </tr>\n",
       "    <tr>\n",
       "      <td>4</td>\n",
       "      <td>user_000001</td>\n",
       "      <td>2009-05-04T13:42:11Z</td>\n",
       "      <td>a7f7df4a-77d8-4f12-8acd-5c60c93f4de8</td>\n",
       "      <td>坂本龍一</td>\n",
       "      <td>NaN</td>\n",
       "      <td>Mc1 (Live_2009_4_15)</td>\n",
       "    </tr>\n",
       "  </tbody>\n",
       "</table>\n",
       "</div>"
      ],
      "text/plain": [
       "        userid             timestamp                              artistid  \\\n",
       "0  user_000001  2009-05-04T23:08:57Z  f1b1cf71-bd35-4e99-8624-24a6e15f133a   \n",
       "1  user_000001  2009-05-04T13:54:10Z  a7f7df4a-77d8-4f12-8acd-5c60c93f4de8   \n",
       "2  user_000001  2009-05-04T13:52:04Z  a7f7df4a-77d8-4f12-8acd-5c60c93f4de8   \n",
       "3  user_000001  2009-05-04T13:42:52Z  a7f7df4a-77d8-4f12-8acd-5c60c93f4de8   \n",
       "4  user_000001  2009-05-04T13:42:11Z  a7f7df4a-77d8-4f12-8acd-5c60c93f4de8   \n",
       "\n",
       "      artist    1                                        song  \n",
       "0  Deep Dish  NaN  Fuck Me Im Famous (Pacha Ibiza)-09-28-2007  \n",
       "1       坂本龍一  NaN           Composition 0919 (Live_2009_4_15)  \n",
       "2       坂本龍一  NaN                        Mc2 (Live_2009_4_15)  \n",
       "3       坂本龍一  NaN                     Hibari (Live_2009_4_15)  \n",
       "4       坂本龍一  NaN                        Mc1 (Live_2009_4_15)  "
      ]
     },
     "execution_count": 4,
     "metadata": {},
     "output_type": "execute_result"
    }
   ],
   "source": [
    "df.head()"
   ]
  },
  {
   "cell_type": "code",
   "execution_count": 5,
   "metadata": {},
   "outputs": [],
   "source": [
    "df['time'] = pd.to_datetime(df['timestamp'])\n",
    "df.drop(['timestamp'], axis=1, inplace=True)"
   ]
  },
  {
   "cell_type": "code",
   "execution_count": 6,
   "metadata": {},
   "outputs": [
    {
     "data": {
      "text/html": [
       "<div>\n",
       "<style scoped>\n",
       "    .dataframe tbody tr th:only-of-type {\n",
       "        vertical-align: middle;\n",
       "    }\n",
       "\n",
       "    .dataframe tbody tr th {\n",
       "        vertical-align: top;\n",
       "    }\n",
       "\n",
       "    .dataframe thead th {\n",
       "        text-align: right;\n",
       "    }\n",
       "</style>\n",
       "<table border=\"1\" class=\"dataframe\">\n",
       "  <thead>\n",
       "    <tr style=\"text-align: right;\">\n",
       "      <th></th>\n",
       "      <th>userid</th>\n",
       "      <th>artistid</th>\n",
       "      <th>artist</th>\n",
       "      <th>1</th>\n",
       "      <th>song</th>\n",
       "      <th>time</th>\n",
       "    </tr>\n",
       "  </thead>\n",
       "  <tbody>\n",
       "    <tr>\n",
       "      <td>0</td>\n",
       "      <td>user_000001</td>\n",
       "      <td>f1b1cf71-bd35-4e99-8624-24a6e15f133a</td>\n",
       "      <td>Deep Dish</td>\n",
       "      <td>NaN</td>\n",
       "      <td>Fuck Me Im Famous (Pacha Ibiza)-09-28-2007</td>\n",
       "      <td>2009-05-04 23:08:57+00:00</td>\n",
       "    </tr>\n",
       "    <tr>\n",
       "      <td>1</td>\n",
       "      <td>user_000001</td>\n",
       "      <td>a7f7df4a-77d8-4f12-8acd-5c60c93f4de8</td>\n",
       "      <td>坂本龍一</td>\n",
       "      <td>NaN</td>\n",
       "      <td>Composition 0919 (Live_2009_4_15)</td>\n",
       "      <td>2009-05-04 13:54:10+00:00</td>\n",
       "    </tr>\n",
       "    <tr>\n",
       "      <td>2</td>\n",
       "      <td>user_000001</td>\n",
       "      <td>a7f7df4a-77d8-4f12-8acd-5c60c93f4de8</td>\n",
       "      <td>坂本龍一</td>\n",
       "      <td>NaN</td>\n",
       "      <td>Mc2 (Live_2009_4_15)</td>\n",
       "      <td>2009-05-04 13:52:04+00:00</td>\n",
       "    </tr>\n",
       "    <tr>\n",
       "      <td>3</td>\n",
       "      <td>user_000001</td>\n",
       "      <td>a7f7df4a-77d8-4f12-8acd-5c60c93f4de8</td>\n",
       "      <td>坂本龍一</td>\n",
       "      <td>NaN</td>\n",
       "      <td>Hibari (Live_2009_4_15)</td>\n",
       "      <td>2009-05-04 13:42:52+00:00</td>\n",
       "    </tr>\n",
       "    <tr>\n",
       "      <td>4</td>\n",
       "      <td>user_000001</td>\n",
       "      <td>a7f7df4a-77d8-4f12-8acd-5c60c93f4de8</td>\n",
       "      <td>坂本龍一</td>\n",
       "      <td>NaN</td>\n",
       "      <td>Mc1 (Live_2009_4_15)</td>\n",
       "      <td>2009-05-04 13:42:11+00:00</td>\n",
       "    </tr>\n",
       "  </tbody>\n",
       "</table>\n",
       "</div>"
      ],
      "text/plain": [
       "        userid                              artistid     artist    1  \\\n",
       "0  user_000001  f1b1cf71-bd35-4e99-8624-24a6e15f133a  Deep Dish  NaN   \n",
       "1  user_000001  a7f7df4a-77d8-4f12-8acd-5c60c93f4de8       坂本龍一  NaN   \n",
       "2  user_000001  a7f7df4a-77d8-4f12-8acd-5c60c93f4de8       坂本龍一  NaN   \n",
       "3  user_000001  a7f7df4a-77d8-4f12-8acd-5c60c93f4de8       坂本龍一  NaN   \n",
       "4  user_000001  a7f7df4a-77d8-4f12-8acd-5c60c93f4de8       坂本龍一  NaN   \n",
       "\n",
       "                                         song                      time  \n",
       "0  Fuck Me Im Famous (Pacha Ibiza)-09-28-2007 2009-05-04 23:08:57+00:00  \n",
       "1           Composition 0919 (Live_2009_4_15) 2009-05-04 13:54:10+00:00  \n",
       "2                        Mc2 (Live_2009_4_15) 2009-05-04 13:52:04+00:00  \n",
       "3                     Hibari (Live_2009_4_15) 2009-05-04 13:42:52+00:00  \n",
       "4                        Mc1 (Live_2009_4_15) 2009-05-04 13:42:11+00:00  "
      ]
     },
     "execution_count": 6,
     "metadata": {},
     "output_type": "execute_result"
    }
   ],
   "source": [
    "df.head()"
   ]
  },
  {
   "cell_type": "markdown",
   "metadata": {},
   "source": [
    "### Removing artist name and song id (possibly) from the user_songs_df dataframe"
   ]
  },
  {
   "cell_type": "code",
   "execution_count": 7,
   "metadata": {},
   "outputs": [],
   "source": [
    "user_songs_df = df.drop(['artist'], axis=1, inplace=False)\n",
    "user_songs_df.columns = ['userid', 'artistid', 'songid', 'song', 'time']\n",
    "user_songs_df = user_songs_df.drop(['songid'], axis=1, inplace=False)"
   ]
  },
  {
   "cell_type": "code",
   "execution_count": 8,
   "metadata": {},
   "outputs": [
    {
     "data": {
      "text/html": [
       "<div>\n",
       "<style scoped>\n",
       "    .dataframe tbody tr th:only-of-type {\n",
       "        vertical-align: middle;\n",
       "    }\n",
       "\n",
       "    .dataframe tbody tr th {\n",
       "        vertical-align: top;\n",
       "    }\n",
       "\n",
       "    .dataframe thead th {\n",
       "        text-align: right;\n",
       "    }\n",
       "</style>\n",
       "<table border=\"1\" class=\"dataframe\">\n",
       "  <thead>\n",
       "    <tr style=\"text-align: right;\">\n",
       "      <th></th>\n",
       "      <th>userid</th>\n",
       "      <th>artistid</th>\n",
       "      <th>song</th>\n",
       "      <th>time</th>\n",
       "    </tr>\n",
       "  </thead>\n",
       "  <tbody>\n",
       "    <tr>\n",
       "      <td>0</td>\n",
       "      <td>user_000001</td>\n",
       "      <td>f1b1cf71-bd35-4e99-8624-24a6e15f133a</td>\n",
       "      <td>Fuck Me Im Famous (Pacha Ibiza)-09-28-2007</td>\n",
       "      <td>2009-05-04 23:08:57+00:00</td>\n",
       "    </tr>\n",
       "    <tr>\n",
       "      <td>1</td>\n",
       "      <td>user_000001</td>\n",
       "      <td>a7f7df4a-77d8-4f12-8acd-5c60c93f4de8</td>\n",
       "      <td>Composition 0919 (Live_2009_4_15)</td>\n",
       "      <td>2009-05-04 13:54:10+00:00</td>\n",
       "    </tr>\n",
       "    <tr>\n",
       "      <td>2</td>\n",
       "      <td>user_000001</td>\n",
       "      <td>a7f7df4a-77d8-4f12-8acd-5c60c93f4de8</td>\n",
       "      <td>Mc2 (Live_2009_4_15)</td>\n",
       "      <td>2009-05-04 13:52:04+00:00</td>\n",
       "    </tr>\n",
       "    <tr>\n",
       "      <td>3</td>\n",
       "      <td>user_000001</td>\n",
       "      <td>a7f7df4a-77d8-4f12-8acd-5c60c93f4de8</td>\n",
       "      <td>Hibari (Live_2009_4_15)</td>\n",
       "      <td>2009-05-04 13:42:52+00:00</td>\n",
       "    </tr>\n",
       "    <tr>\n",
       "      <td>4</td>\n",
       "      <td>user_000001</td>\n",
       "      <td>a7f7df4a-77d8-4f12-8acd-5c60c93f4de8</td>\n",
       "      <td>Mc1 (Live_2009_4_15)</td>\n",
       "      <td>2009-05-04 13:42:11+00:00</td>\n",
       "    </tr>\n",
       "  </tbody>\n",
       "</table>\n",
       "</div>"
      ],
      "text/plain": [
       "        userid                              artistid  \\\n",
       "0  user_000001  f1b1cf71-bd35-4e99-8624-24a6e15f133a   \n",
       "1  user_000001  a7f7df4a-77d8-4f12-8acd-5c60c93f4de8   \n",
       "2  user_000001  a7f7df4a-77d8-4f12-8acd-5c60c93f4de8   \n",
       "3  user_000001  a7f7df4a-77d8-4f12-8acd-5c60c93f4de8   \n",
       "4  user_000001  a7f7df4a-77d8-4f12-8acd-5c60c93f4de8   \n",
       "\n",
       "                                         song                      time  \n",
       "0  Fuck Me Im Famous (Pacha Ibiza)-09-28-2007 2009-05-04 23:08:57+00:00  \n",
       "1           Composition 0919 (Live_2009_4_15) 2009-05-04 13:54:10+00:00  \n",
       "2                        Mc2 (Live_2009_4_15) 2009-05-04 13:52:04+00:00  \n",
       "3                     Hibari (Live_2009_4_15) 2009-05-04 13:42:52+00:00  \n",
       "4                        Mc1 (Live_2009_4_15) 2009-05-04 13:42:11+00:00  "
      ]
     },
     "execution_count": 8,
     "metadata": {},
     "output_type": "execute_result"
    }
   ],
   "source": [
    "user_songs_df.head()"
   ]
  },
  {
   "cell_type": "code",
   "execution_count": 9,
   "metadata": {},
   "outputs": [
    {
     "name": "stdout",
     "output_type": "stream",
     "text": [
      "Number of songs : 1083471\n"
     ]
    }
   ],
   "source": [
    "print('Number of songs : ' + str(user_songs_df['song'].nunique()))"
   ]
  },
  {
   "cell_type": "code",
   "execution_count": 10,
   "metadata": {},
   "outputs": [],
   "source": [
    "def get_unique_count(column):\n",
    "    return len(set(column))"
   ]
  },
  {
   "cell_type": "markdown",
   "metadata": {},
   "source": [
    "### Filtering songs heard by at least 10 users"
   ]
  },
  {
   "cell_type": "code",
   "execution_count": 11,
   "metadata": {
    "collapsed": true
   },
   "outputs": [
    {
     "ename": "KeyboardInterrupt",
     "evalue": "",
     "output_type": "error",
     "traceback": [
      "\u001b[0;31m---------------------------------------------------------------------------\u001b[0m",
      "\u001b[0;31mKeyboardInterrupt\u001b[0m                         Traceback (most recent call last)",
      "\u001b[0;32m<ipython-input-11-11c0942d46ef>\u001b[0m in \u001b[0;36m<module>\u001b[0;34m\u001b[0m\n\u001b[0;32m----> 1\u001b[0;31m \u001b[0mdf_songs_heard_10_users\u001b[0m \u001b[0;34m=\u001b[0m \u001b[0muser_songs_df\u001b[0m\u001b[0;34m.\u001b[0m\u001b[0mgroupby\u001b[0m\u001b[0;34m(\u001b[0m\u001b[0;34m\"song\"\u001b[0m\u001b[0;34m)\u001b[0m\u001b[0;34m.\u001b[0m\u001b[0mfilter\u001b[0m\u001b[0;34m(\u001b[0m\u001b[0;32mlambda\u001b[0m \u001b[0mx\u001b[0m\u001b[0;34m:\u001b[0m \u001b[0mget_unique_count\u001b[0m\u001b[0;34m(\u001b[0m\u001b[0mx\u001b[0m\u001b[0;34m[\u001b[0m\u001b[0;34m'userid'\u001b[0m\u001b[0;34m]\u001b[0m\u001b[0;34m)\u001b[0m\u001b[0;34m>\u001b[0m\u001b[0;36m10\u001b[0m\u001b[0;34m)\u001b[0m\u001b[0;34m\u001b[0m\u001b[0;34m\u001b[0m\u001b[0m\n\u001b[0m",
      "\u001b[0;32m~/opt/anaconda3/lib/python3.7/site-packages/pandas/core/groupby/generic.py\u001b[0m in \u001b[0;36mfilter\u001b[0;34m(self, func, dropna, *args, **kwargs)\u001b[0m\n\u001b[1;32m    712\u001b[0m         \u001b[0mgen\u001b[0m \u001b[0;34m=\u001b[0m \u001b[0mself\u001b[0m\u001b[0;34m.\u001b[0m\u001b[0mgrouper\u001b[0m\u001b[0;34m.\u001b[0m\u001b[0mget_iterator\u001b[0m\u001b[0;34m(\u001b[0m\u001b[0mobj\u001b[0m\u001b[0;34m,\u001b[0m \u001b[0maxis\u001b[0m\u001b[0;34m=\u001b[0m\u001b[0mself\u001b[0m\u001b[0;34m.\u001b[0m\u001b[0maxis\u001b[0m\u001b[0;34m)\u001b[0m\u001b[0;34m\u001b[0m\u001b[0;34m\u001b[0m\u001b[0m\n\u001b[1;32m    713\u001b[0m \u001b[0;34m\u001b[0m\u001b[0m\n\u001b[0;32m--> 714\u001b[0;31m         \u001b[0;32mfor\u001b[0m \u001b[0mname\u001b[0m\u001b[0;34m,\u001b[0m \u001b[0mgroup\u001b[0m \u001b[0;32min\u001b[0m \u001b[0mgen\u001b[0m\u001b[0;34m:\u001b[0m\u001b[0;34m\u001b[0m\u001b[0;34m\u001b[0m\u001b[0m\n\u001b[0m\u001b[1;32m    715\u001b[0m             \u001b[0mobject\u001b[0m\u001b[0;34m.\u001b[0m\u001b[0m__setattr__\u001b[0m\u001b[0;34m(\u001b[0m\u001b[0mgroup\u001b[0m\u001b[0;34m,\u001b[0m \u001b[0;34m\"name\"\u001b[0m\u001b[0;34m,\u001b[0m \u001b[0mname\u001b[0m\u001b[0;34m)\u001b[0m\u001b[0;34m\u001b[0m\u001b[0;34m\u001b[0m\u001b[0m\n\u001b[1;32m    716\u001b[0m \u001b[0;34m\u001b[0m\u001b[0m\n",
      "\u001b[0;32m~/opt/anaconda3/lib/python3.7/site-packages/pandas/core/groupby/ops.py\u001b[0m in \u001b[0;36mget_iterator\u001b[0;34m(self, data, axis)\u001b[0m\n\u001b[1;32m    162\u001b[0m         \u001b[0msplitter\u001b[0m \u001b[0;34m=\u001b[0m \u001b[0mself\u001b[0m\u001b[0;34m.\u001b[0m\u001b[0m_get_splitter\u001b[0m\u001b[0;34m(\u001b[0m\u001b[0mdata\u001b[0m\u001b[0;34m,\u001b[0m \u001b[0maxis\u001b[0m\u001b[0;34m=\u001b[0m\u001b[0maxis\u001b[0m\u001b[0;34m)\u001b[0m\u001b[0;34m\u001b[0m\u001b[0;34m\u001b[0m\u001b[0m\n\u001b[1;32m    163\u001b[0m         \u001b[0mkeys\u001b[0m \u001b[0;34m=\u001b[0m \u001b[0mself\u001b[0m\u001b[0;34m.\u001b[0m\u001b[0m_get_group_keys\u001b[0m\u001b[0;34m(\u001b[0m\u001b[0;34m)\u001b[0m\u001b[0;34m\u001b[0m\u001b[0;34m\u001b[0m\u001b[0m\n\u001b[0;32m--> 164\u001b[0;31m         \u001b[0;32mfor\u001b[0m \u001b[0mkey\u001b[0m\u001b[0;34m,\u001b[0m \u001b[0;34m(\u001b[0m\u001b[0mi\u001b[0m\u001b[0;34m,\u001b[0m \u001b[0mgroup\u001b[0m\u001b[0;34m)\u001b[0m \u001b[0;32min\u001b[0m \u001b[0mzip\u001b[0m\u001b[0;34m(\u001b[0m\u001b[0mkeys\u001b[0m\u001b[0;34m,\u001b[0m \u001b[0msplitter\u001b[0m\u001b[0;34m)\u001b[0m\u001b[0;34m:\u001b[0m\u001b[0;34m\u001b[0m\u001b[0;34m\u001b[0m\u001b[0m\n\u001b[0m\u001b[1;32m    165\u001b[0m             \u001b[0;32myield\u001b[0m \u001b[0mkey\u001b[0m\u001b[0;34m,\u001b[0m \u001b[0mgroup\u001b[0m\u001b[0;34m\u001b[0m\u001b[0;34m\u001b[0m\u001b[0m\n\u001b[1;32m    166\u001b[0m \u001b[0;34m\u001b[0m\u001b[0m\n",
      "\u001b[0;32m~/opt/anaconda3/lib/python3.7/site-packages/pandas/core/groupby/ops.py\u001b[0m in \u001b[0;36m__iter__\u001b[0;34m(self)\u001b[0m\n\u001b[1;32m    913\u001b[0m             \u001b[0;31m#     raise AssertionError('Start %s must be less than end %s'\u001b[0m\u001b[0;34m\u001b[0m\u001b[0;34m\u001b[0m\u001b[0;34m\u001b[0m\u001b[0m\n\u001b[1;32m    914\u001b[0m             \u001b[0;31m#                          % (str(start), str(end)))\u001b[0m\u001b[0;34m\u001b[0m\u001b[0;34m\u001b[0m\u001b[0;34m\u001b[0m\u001b[0m\n\u001b[0;32m--> 915\u001b[0;31m             \u001b[0;32myield\u001b[0m \u001b[0mi\u001b[0m\u001b[0;34m,\u001b[0m \u001b[0mself\u001b[0m\u001b[0;34m.\u001b[0m\u001b[0m_chop\u001b[0m\u001b[0;34m(\u001b[0m\u001b[0msdata\u001b[0m\u001b[0;34m,\u001b[0m \u001b[0mslice\u001b[0m\u001b[0;34m(\u001b[0m\u001b[0mstart\u001b[0m\u001b[0;34m,\u001b[0m \u001b[0mend\u001b[0m\u001b[0;34m)\u001b[0m\u001b[0;34m)\u001b[0m\u001b[0;34m\u001b[0m\u001b[0;34m\u001b[0m\u001b[0m\n\u001b[0m\u001b[1;32m    916\u001b[0m \u001b[0;34m\u001b[0m\u001b[0m\n\u001b[1;32m    917\u001b[0m     \u001b[0;32mdef\u001b[0m \u001b[0m_get_sorted_data\u001b[0m\u001b[0;34m(\u001b[0m\u001b[0mself\u001b[0m\u001b[0;34m)\u001b[0m\u001b[0;34m:\u001b[0m\u001b[0;34m\u001b[0m\u001b[0;34m\u001b[0m\u001b[0m\n",
      "\u001b[0;32m~/opt/anaconda3/lib/python3.7/site-packages/pandas/core/groupby/ops.py\u001b[0m in \u001b[0;36m_chop\u001b[0;34m(self, sdata, slice_obj)\u001b[0m\n\u001b[1;32m    944\u001b[0m     \u001b[0;32mdef\u001b[0m \u001b[0m_chop\u001b[0m\u001b[0;34m(\u001b[0m\u001b[0mself\u001b[0m\u001b[0;34m,\u001b[0m \u001b[0msdata\u001b[0m\u001b[0;34m,\u001b[0m \u001b[0mslice_obj\u001b[0m\u001b[0;34m)\u001b[0m\u001b[0;34m:\u001b[0m\u001b[0;34m\u001b[0m\u001b[0;34m\u001b[0m\u001b[0m\n\u001b[1;32m    945\u001b[0m         \u001b[0;32mif\u001b[0m \u001b[0mself\u001b[0m\u001b[0;34m.\u001b[0m\u001b[0maxis\u001b[0m \u001b[0;34m==\u001b[0m \u001b[0;36m0\u001b[0m\u001b[0;34m:\u001b[0m\u001b[0;34m\u001b[0m\u001b[0;34m\u001b[0m\u001b[0m\n\u001b[0;32m--> 946\u001b[0;31m             \u001b[0;32mreturn\u001b[0m \u001b[0msdata\u001b[0m\u001b[0;34m.\u001b[0m\u001b[0miloc\u001b[0m\u001b[0;34m[\u001b[0m\u001b[0mslice_obj\u001b[0m\u001b[0;34m]\u001b[0m\u001b[0;34m\u001b[0m\u001b[0;34m\u001b[0m\u001b[0m\n\u001b[0m\u001b[1;32m    947\u001b[0m         \u001b[0;32melse\u001b[0m\u001b[0;34m:\u001b[0m\u001b[0;34m\u001b[0m\u001b[0;34m\u001b[0m\u001b[0m\n\u001b[1;32m    948\u001b[0m             \u001b[0;32mreturn\u001b[0m \u001b[0msdata\u001b[0m\u001b[0;34m.\u001b[0m\u001b[0m_slice\u001b[0m\u001b[0;34m(\u001b[0m\u001b[0mslice_obj\u001b[0m\u001b[0;34m,\u001b[0m \u001b[0maxis\u001b[0m\u001b[0;34m=\u001b[0m\u001b[0;36m1\u001b[0m\u001b[0;34m)\u001b[0m  \u001b[0;31m# .loc[:, slice_obj]\u001b[0m\u001b[0;34m\u001b[0m\u001b[0;34m\u001b[0m\u001b[0m\n",
      "\u001b[0;32m~/opt/anaconda3/lib/python3.7/site-packages/pandas/core/indexing.py\u001b[0m in \u001b[0;36m__getitem__\u001b[0;34m(self, key)\u001b[0m\n\u001b[1;32m   1422\u001b[0m \u001b[0;34m\u001b[0m\u001b[0m\n\u001b[1;32m   1423\u001b[0m             \u001b[0mmaybe_callable\u001b[0m \u001b[0;34m=\u001b[0m \u001b[0mcom\u001b[0m\u001b[0;34m.\u001b[0m\u001b[0mapply_if_callable\u001b[0m\u001b[0;34m(\u001b[0m\u001b[0mkey\u001b[0m\u001b[0;34m,\u001b[0m \u001b[0mself\u001b[0m\u001b[0;34m.\u001b[0m\u001b[0mobj\u001b[0m\u001b[0;34m)\u001b[0m\u001b[0;34m\u001b[0m\u001b[0;34m\u001b[0m\u001b[0m\n\u001b[0;32m-> 1424\u001b[0;31m             \u001b[0;32mreturn\u001b[0m \u001b[0mself\u001b[0m\u001b[0;34m.\u001b[0m\u001b[0m_getitem_axis\u001b[0m\u001b[0;34m(\u001b[0m\u001b[0mmaybe_callable\u001b[0m\u001b[0;34m,\u001b[0m \u001b[0maxis\u001b[0m\u001b[0;34m=\u001b[0m\u001b[0maxis\u001b[0m\u001b[0;34m)\u001b[0m\u001b[0;34m\u001b[0m\u001b[0;34m\u001b[0m\u001b[0m\n\u001b[0m\u001b[1;32m   1425\u001b[0m \u001b[0;34m\u001b[0m\u001b[0m\n\u001b[1;32m   1426\u001b[0m     \u001b[0;32mdef\u001b[0m \u001b[0m_is_scalar_access\u001b[0m\u001b[0;34m(\u001b[0m\u001b[0mself\u001b[0m\u001b[0;34m,\u001b[0m \u001b[0mkey\u001b[0m\u001b[0;34m:\u001b[0m \u001b[0mTuple\u001b[0m\u001b[0;34m)\u001b[0m\u001b[0;34m:\u001b[0m\u001b[0;34m\u001b[0m\u001b[0;34m\u001b[0m\u001b[0m\n",
      "\u001b[0;32m~/opt/anaconda3/lib/python3.7/site-packages/pandas/core/indexing.py\u001b[0m in \u001b[0;36m_getitem_axis\u001b[0;34m(self, key, axis)\u001b[0m\n\u001b[1;32m   2135\u001b[0m     \u001b[0;32mdef\u001b[0m \u001b[0m_getitem_axis\u001b[0m\u001b[0;34m(\u001b[0m\u001b[0mself\u001b[0m\u001b[0;34m,\u001b[0m \u001b[0mkey\u001b[0m\u001b[0;34m,\u001b[0m \u001b[0maxis\u001b[0m\u001b[0;34m:\u001b[0m \u001b[0mint\u001b[0m\u001b[0;34m)\u001b[0m\u001b[0;34m:\u001b[0m\u001b[0;34m\u001b[0m\u001b[0;34m\u001b[0m\u001b[0m\n\u001b[1;32m   2136\u001b[0m         \u001b[0;32mif\u001b[0m \u001b[0misinstance\u001b[0m\u001b[0;34m(\u001b[0m\u001b[0mkey\u001b[0m\u001b[0;34m,\u001b[0m \u001b[0mslice\u001b[0m\u001b[0;34m)\u001b[0m\u001b[0;34m:\u001b[0m\u001b[0;34m\u001b[0m\u001b[0;34m\u001b[0m\u001b[0m\n\u001b[0;32m-> 2137\u001b[0;31m             \u001b[0;32mreturn\u001b[0m \u001b[0mself\u001b[0m\u001b[0;34m.\u001b[0m\u001b[0m_get_slice_axis\u001b[0m\u001b[0;34m(\u001b[0m\u001b[0mkey\u001b[0m\u001b[0;34m,\u001b[0m \u001b[0maxis\u001b[0m\u001b[0;34m=\u001b[0m\u001b[0maxis\u001b[0m\u001b[0;34m)\u001b[0m\u001b[0;34m\u001b[0m\u001b[0;34m\u001b[0m\u001b[0m\n\u001b[0m\u001b[1;32m   2138\u001b[0m \u001b[0;34m\u001b[0m\u001b[0m\n\u001b[1;32m   2139\u001b[0m         \u001b[0;32mif\u001b[0m \u001b[0misinstance\u001b[0m\u001b[0;34m(\u001b[0m\u001b[0mkey\u001b[0m\u001b[0;34m,\u001b[0m \u001b[0mlist\u001b[0m\u001b[0;34m)\u001b[0m\u001b[0;34m:\u001b[0m\u001b[0;34m\u001b[0m\u001b[0;34m\u001b[0m\u001b[0m\n",
      "\u001b[0;32m~/opt/anaconda3/lib/python3.7/site-packages/pandas/core/indexing.py\u001b[0m in \u001b[0;36m_get_slice_axis\u001b[0;34m(self, slice_obj, axis)\u001b[0m\n\u001b[1;32m   1306\u001b[0m \u001b[0;34m\u001b[0m\u001b[0m\n\u001b[1;32m   1307\u001b[0m         \u001b[0mindexer\u001b[0m \u001b[0;34m=\u001b[0m \u001b[0mself\u001b[0m\u001b[0;34m.\u001b[0m\u001b[0m_convert_slice_indexer\u001b[0m\u001b[0;34m(\u001b[0m\u001b[0mslice_obj\u001b[0m\u001b[0;34m,\u001b[0m \u001b[0maxis\u001b[0m\u001b[0;34m)\u001b[0m\u001b[0;34m\u001b[0m\u001b[0;34m\u001b[0m\u001b[0m\n\u001b[0;32m-> 1308\u001b[0;31m         \u001b[0;32mreturn\u001b[0m \u001b[0mself\u001b[0m\u001b[0;34m.\u001b[0m\u001b[0m_slice\u001b[0m\u001b[0;34m(\u001b[0m\u001b[0mindexer\u001b[0m\u001b[0;34m,\u001b[0m \u001b[0maxis\u001b[0m\u001b[0;34m=\u001b[0m\u001b[0maxis\u001b[0m\u001b[0;34m,\u001b[0m \u001b[0mkind\u001b[0m\u001b[0;34m=\u001b[0m\u001b[0;34m\"iloc\"\u001b[0m\u001b[0;34m)\u001b[0m\u001b[0;34m\u001b[0m\u001b[0;34m\u001b[0m\u001b[0m\n\u001b[0m\u001b[1;32m   1309\u001b[0m \u001b[0;34m\u001b[0m\u001b[0m\n\u001b[1;32m   1310\u001b[0m \u001b[0;34m\u001b[0m\u001b[0m\n",
      "\u001b[0;32m~/opt/anaconda3/lib/python3.7/site-packages/pandas/core/indexing.py\u001b[0m in \u001b[0;36m_slice\u001b[0;34m(self, obj, axis, kind)\u001b[0m\n\u001b[1;32m    164\u001b[0m \u001b[0;34m\u001b[0m\u001b[0m\n\u001b[1;32m    165\u001b[0m     \u001b[0;32mdef\u001b[0m \u001b[0m_slice\u001b[0m\u001b[0;34m(\u001b[0m\u001b[0mself\u001b[0m\u001b[0;34m,\u001b[0m \u001b[0mobj\u001b[0m\u001b[0;34m,\u001b[0m \u001b[0maxis\u001b[0m\u001b[0;34m:\u001b[0m \u001b[0mint\u001b[0m\u001b[0;34m,\u001b[0m \u001b[0mkind\u001b[0m\u001b[0;34m=\u001b[0m\u001b[0;32mNone\u001b[0m\u001b[0;34m)\u001b[0m\u001b[0;34m:\u001b[0m\u001b[0;34m\u001b[0m\u001b[0;34m\u001b[0m\u001b[0m\n\u001b[0;32m--> 166\u001b[0;31m         \u001b[0;32mreturn\u001b[0m \u001b[0mself\u001b[0m\u001b[0;34m.\u001b[0m\u001b[0mobj\u001b[0m\u001b[0;34m.\u001b[0m\u001b[0m_slice\u001b[0m\u001b[0;34m(\u001b[0m\u001b[0mobj\u001b[0m\u001b[0;34m,\u001b[0m \u001b[0maxis\u001b[0m\u001b[0;34m=\u001b[0m\u001b[0maxis\u001b[0m\u001b[0;34m,\u001b[0m \u001b[0mkind\u001b[0m\u001b[0;34m=\u001b[0m\u001b[0mkind\u001b[0m\u001b[0;34m)\u001b[0m\u001b[0;34m\u001b[0m\u001b[0;34m\u001b[0m\u001b[0m\n\u001b[0m\u001b[1;32m    167\u001b[0m \u001b[0;34m\u001b[0m\u001b[0m\n\u001b[1;32m    168\u001b[0m     \u001b[0;32mdef\u001b[0m \u001b[0m_get_setitem_indexer\u001b[0m\u001b[0;34m(\u001b[0m\u001b[0mself\u001b[0m\u001b[0;34m,\u001b[0m \u001b[0mkey\u001b[0m\u001b[0;34m)\u001b[0m\u001b[0;34m:\u001b[0m\u001b[0;34m\u001b[0m\u001b[0;34m\u001b[0m\u001b[0m\n",
      "\u001b[0;32m~/opt/anaconda3/lib/python3.7/site-packages/pandas/core/generic.py\u001b[0m in \u001b[0;36m_slice\u001b[0;34m(self, slobj, axis, kind)\u001b[0m\n\u001b[1;32m   3369\u001b[0m         \"\"\"\n\u001b[1;32m   3370\u001b[0m         \u001b[0maxis\u001b[0m \u001b[0;34m=\u001b[0m \u001b[0mself\u001b[0m\u001b[0;34m.\u001b[0m\u001b[0m_get_block_manager_axis\u001b[0m\u001b[0;34m(\u001b[0m\u001b[0maxis\u001b[0m\u001b[0;34m)\u001b[0m\u001b[0;34m\u001b[0m\u001b[0;34m\u001b[0m\u001b[0m\n\u001b[0;32m-> 3371\u001b[0;31m         \u001b[0mresult\u001b[0m \u001b[0;34m=\u001b[0m \u001b[0mself\u001b[0m\u001b[0;34m.\u001b[0m\u001b[0m_constructor\u001b[0m\u001b[0;34m(\u001b[0m\u001b[0mself\u001b[0m\u001b[0;34m.\u001b[0m\u001b[0m_data\u001b[0m\u001b[0;34m.\u001b[0m\u001b[0mget_slice\u001b[0m\u001b[0;34m(\u001b[0m\u001b[0mslobj\u001b[0m\u001b[0;34m,\u001b[0m \u001b[0maxis\u001b[0m\u001b[0;34m=\u001b[0m\u001b[0maxis\u001b[0m\u001b[0;34m)\u001b[0m\u001b[0;34m)\u001b[0m\u001b[0;34m\u001b[0m\u001b[0;34m\u001b[0m\u001b[0m\n\u001b[0m\u001b[1;32m   3372\u001b[0m         \u001b[0mresult\u001b[0m \u001b[0;34m=\u001b[0m \u001b[0mresult\u001b[0m\u001b[0;34m.\u001b[0m\u001b[0m__finalize__\u001b[0m\u001b[0;34m(\u001b[0m\u001b[0mself\u001b[0m\u001b[0;34m)\u001b[0m\u001b[0;34m\u001b[0m\u001b[0;34m\u001b[0m\u001b[0m\n\u001b[1;32m   3373\u001b[0m \u001b[0;34m\u001b[0m\u001b[0m\n",
      "\u001b[0;32m~/opt/anaconda3/lib/python3.7/site-packages/pandas/core/internals/managers.py\u001b[0m in \u001b[0;36mget_slice\u001b[0;34m(self, slobj, axis)\u001b[0m\n\u001b[1;32m    750\u001b[0m \u001b[0;34m\u001b[0m\u001b[0m\n\u001b[1;32m    751\u001b[0m         \u001b[0mnew_axes\u001b[0m \u001b[0;34m=\u001b[0m \u001b[0mlist\u001b[0m\u001b[0;34m(\u001b[0m\u001b[0mself\u001b[0m\u001b[0;34m.\u001b[0m\u001b[0maxes\u001b[0m\u001b[0;34m)\u001b[0m\u001b[0;34m\u001b[0m\u001b[0;34m\u001b[0m\u001b[0m\n\u001b[0;32m--> 752\u001b[0;31m         \u001b[0mnew_axes\u001b[0m\u001b[0;34m[\u001b[0m\u001b[0maxis\u001b[0m\u001b[0;34m]\u001b[0m \u001b[0;34m=\u001b[0m \u001b[0mnew_axes\u001b[0m\u001b[0;34m[\u001b[0m\u001b[0maxis\u001b[0m\u001b[0;34m]\u001b[0m\u001b[0;34m[\u001b[0m\u001b[0mslobj\u001b[0m\u001b[0;34m]\u001b[0m\u001b[0;34m\u001b[0m\u001b[0;34m\u001b[0m\u001b[0m\n\u001b[0m\u001b[1;32m    753\u001b[0m \u001b[0;34m\u001b[0m\u001b[0m\n\u001b[1;32m    754\u001b[0m         \u001b[0mbm\u001b[0m \u001b[0;34m=\u001b[0m \u001b[0mself\u001b[0m\u001b[0;34m.\u001b[0m\u001b[0m__class__\u001b[0m\u001b[0;34m(\u001b[0m\u001b[0mnew_blocks\u001b[0m\u001b[0;34m,\u001b[0m \u001b[0mnew_axes\u001b[0m\u001b[0;34m,\u001b[0m \u001b[0mdo_integrity_check\u001b[0m\u001b[0;34m=\u001b[0m\u001b[0;32mFalse\u001b[0m\u001b[0;34m)\u001b[0m\u001b[0;34m\u001b[0m\u001b[0;34m\u001b[0m\u001b[0m\n",
      "\u001b[0;32m~/opt/anaconda3/lib/python3.7/site-packages/pandas/core/indexes/base.py\u001b[0m in \u001b[0;36m__getitem__\u001b[0;34m(self, key)\u001b[0m\n\u001b[1;32m   4283\u001b[0m             \u001b[0;31m# This case is separated from the conditional above to avoid\u001b[0m\u001b[0;34m\u001b[0m\u001b[0;34m\u001b[0m\u001b[0;34m\u001b[0m\u001b[0m\n\u001b[1;32m   4284\u001b[0m             \u001b[0;31m# pessimization of basic indexing.\u001b[0m\u001b[0;34m\u001b[0m\u001b[0;34m\u001b[0m\u001b[0;34m\u001b[0m\u001b[0m\n\u001b[0;32m-> 4285\u001b[0;31m             \u001b[0;32mreturn\u001b[0m \u001b[0mpromote\u001b[0m\u001b[0;34m(\u001b[0m\u001b[0mgetitem\u001b[0m\u001b[0;34m(\u001b[0m\u001b[0mkey\u001b[0m\u001b[0;34m)\u001b[0m\u001b[0;34m)\u001b[0m\u001b[0;34m\u001b[0m\u001b[0;34m\u001b[0m\u001b[0m\n\u001b[0m\u001b[1;32m   4286\u001b[0m \u001b[0;34m\u001b[0m\u001b[0m\n\u001b[1;32m   4287\u001b[0m         \u001b[0;32mif\u001b[0m \u001b[0mcom\u001b[0m\u001b[0;34m.\u001b[0m\u001b[0mis_bool_indexer\u001b[0m\u001b[0;34m(\u001b[0m\u001b[0mkey\u001b[0m\u001b[0;34m)\u001b[0m\u001b[0;34m:\u001b[0m\u001b[0;34m\u001b[0m\u001b[0;34m\u001b[0m\u001b[0m\n",
      "\u001b[0;32m~/opt/anaconda3/lib/python3.7/site-packages/pandas/core/indexes/numeric.py\u001b[0m in \u001b[0;36m_shallow_copy\u001b[0;34m(self, values, **kwargs)\u001b[0m\n\u001b[1;32m     84\u001b[0m         \u001b[0;32mif\u001b[0m \u001b[0mvalues\u001b[0m \u001b[0;32mis\u001b[0m \u001b[0;32mnot\u001b[0m \u001b[0;32mNone\u001b[0m \u001b[0;32mand\u001b[0m \u001b[0;32mnot\u001b[0m \u001b[0mself\u001b[0m\u001b[0;34m.\u001b[0m\u001b[0m_can_hold_na\u001b[0m\u001b[0;34m:\u001b[0m\u001b[0;34m\u001b[0m\u001b[0;34m\u001b[0m\u001b[0m\n\u001b[1;32m     85\u001b[0m             \u001b[0;31m# Ensure we are not returning an Int64Index with float data:\u001b[0m\u001b[0;34m\u001b[0m\u001b[0;34m\u001b[0m\u001b[0;34m\u001b[0m\u001b[0m\n\u001b[0;32m---> 86\u001b[0;31m             \u001b[0;32mreturn\u001b[0m \u001b[0mself\u001b[0m\u001b[0;34m.\u001b[0m\u001b[0m_shallow_copy_with_infer\u001b[0m\u001b[0;34m(\u001b[0m\u001b[0mvalues\u001b[0m\u001b[0;34m=\u001b[0m\u001b[0mvalues\u001b[0m\u001b[0;34m,\u001b[0m \u001b[0;34m**\u001b[0m\u001b[0mkwargs\u001b[0m\u001b[0;34m)\u001b[0m\u001b[0;34m\u001b[0m\u001b[0;34m\u001b[0m\u001b[0m\n\u001b[0m\u001b[1;32m     87\u001b[0m         \u001b[0;32mreturn\u001b[0m \u001b[0msuper\u001b[0m\u001b[0;34m(\u001b[0m\u001b[0;34m)\u001b[0m\u001b[0;34m.\u001b[0m\u001b[0m_shallow_copy\u001b[0m\u001b[0;34m(\u001b[0m\u001b[0mvalues\u001b[0m\u001b[0;34m=\u001b[0m\u001b[0mvalues\u001b[0m\u001b[0;34m,\u001b[0m \u001b[0;34m**\u001b[0m\u001b[0mkwargs\u001b[0m\u001b[0;34m)\u001b[0m\u001b[0;34m\u001b[0m\u001b[0;34m\u001b[0m\u001b[0m\n\u001b[1;32m     88\u001b[0m \u001b[0;34m\u001b[0m\u001b[0m\n",
      "\u001b[0;32m~/opt/anaconda3/lib/python3.7/site-packages/pandas/core/indexes/base.py\u001b[0m in \u001b[0;36m_shallow_copy_with_infer\u001b[0;34m(self, values, **kwargs)\u001b[0m\n\u001b[1;32m    673\u001b[0m             \u001b[0;32mexcept\u001b[0m \u001b[0;34m(\u001b[0m\u001b[0mTypeError\u001b[0m\u001b[0;34m,\u001b[0m \u001b[0mValueError\u001b[0m\u001b[0;34m)\u001b[0m\u001b[0;34m:\u001b[0m\u001b[0;34m\u001b[0m\u001b[0;34m\u001b[0m\u001b[0m\n\u001b[1;32m    674\u001b[0m                 \u001b[0;32mpass\u001b[0m\u001b[0;34m\u001b[0m\u001b[0;34m\u001b[0m\u001b[0m\n\u001b[0;32m--> 675\u001b[0;31m         \u001b[0;32mreturn\u001b[0m \u001b[0mIndex\u001b[0m\u001b[0;34m(\u001b[0m\u001b[0mvalues\u001b[0m\u001b[0;34m,\u001b[0m \u001b[0;34m**\u001b[0m\u001b[0mattributes\u001b[0m\u001b[0;34m)\u001b[0m\u001b[0;34m\u001b[0m\u001b[0;34m\u001b[0m\u001b[0m\n\u001b[0m\u001b[1;32m    676\u001b[0m \u001b[0;34m\u001b[0m\u001b[0m\n\u001b[1;32m    677\u001b[0m     \u001b[0;32mdef\u001b[0m \u001b[0m_update_inplace\u001b[0m\u001b[0;34m(\u001b[0m\u001b[0mself\u001b[0m\u001b[0;34m,\u001b[0m \u001b[0mresult\u001b[0m\u001b[0;34m,\u001b[0m \u001b[0;34m**\u001b[0m\u001b[0mkwargs\u001b[0m\u001b[0;34m)\u001b[0m\u001b[0;34m:\u001b[0m\u001b[0;34m\u001b[0m\u001b[0;34m\u001b[0m\u001b[0m\n",
      "\u001b[0;32m~/opt/anaconda3/lib/python3.7/site-packages/pandas/core/indexes/base.py\u001b[0m in \u001b[0;36m__new__\u001b[0;34m(cls, data, dtype, copy, name, fastpath, tupleize_cols, **kwargs)\u001b[0m\n\u001b[1;32m    371\u001b[0m \u001b[0;34m\u001b[0m\u001b[0m\n\u001b[1;32m    372\u001b[0m         \u001b[0;31m# extension dtype\u001b[0m\u001b[0;34m\u001b[0m\u001b[0;34m\u001b[0m\u001b[0;34m\u001b[0m\u001b[0m\n\u001b[0;32m--> 373\u001b[0;31m         \u001b[0;32melif\u001b[0m \u001b[0mis_extension_array_dtype\u001b[0m\u001b[0;34m(\u001b[0m\u001b[0mdata\u001b[0m\u001b[0;34m)\u001b[0m \u001b[0;32mor\u001b[0m \u001b[0mis_extension_array_dtype\u001b[0m\u001b[0;34m(\u001b[0m\u001b[0mdtype\u001b[0m\u001b[0;34m)\u001b[0m\u001b[0;34m:\u001b[0m\u001b[0;34m\u001b[0m\u001b[0;34m\u001b[0m\u001b[0m\n\u001b[0m\u001b[1;32m    374\u001b[0m             \u001b[0mdata\u001b[0m \u001b[0;34m=\u001b[0m \u001b[0mnp\u001b[0m\u001b[0;34m.\u001b[0m\u001b[0masarray\u001b[0m\u001b[0;34m(\u001b[0m\u001b[0mdata\u001b[0m\u001b[0;34m)\u001b[0m\u001b[0;34m\u001b[0m\u001b[0;34m\u001b[0m\u001b[0m\n\u001b[1;32m    375\u001b[0m             \u001b[0;32mif\u001b[0m \u001b[0;32mnot\u001b[0m \u001b[0;34m(\u001b[0m\u001b[0mdtype\u001b[0m \u001b[0;32mis\u001b[0m \u001b[0;32mNone\u001b[0m \u001b[0;32mor\u001b[0m \u001b[0mis_object_dtype\u001b[0m\u001b[0;34m(\u001b[0m\u001b[0mdtype\u001b[0m\u001b[0;34m)\u001b[0m\u001b[0;34m)\u001b[0m\u001b[0;34m:\u001b[0m\u001b[0;34m\u001b[0m\u001b[0;34m\u001b[0m\u001b[0m\n",
      "\u001b[0;32m~/opt/anaconda3/lib/python3.7/site-packages/pandas/core/dtypes/common.py\u001b[0m in \u001b[0;36mis_extension_array_dtype\u001b[0;34m(arr_or_dtype)\u001b[0m\n\u001b[1;32m   1787\u001b[0m     \"\"\"\n\u001b[1;32m   1788\u001b[0m     \u001b[0mdtype\u001b[0m \u001b[0;34m=\u001b[0m \u001b[0mgetattr\u001b[0m\u001b[0;34m(\u001b[0m\u001b[0marr_or_dtype\u001b[0m\u001b[0;34m,\u001b[0m \u001b[0;34m\"dtype\"\u001b[0m\u001b[0;34m,\u001b[0m \u001b[0marr_or_dtype\u001b[0m\u001b[0;34m)\u001b[0m\u001b[0;34m\u001b[0m\u001b[0;34m\u001b[0m\u001b[0m\n\u001b[0;32m-> 1789\u001b[0;31m     \u001b[0;32mreturn\u001b[0m \u001b[0misinstance\u001b[0m\u001b[0;34m(\u001b[0m\u001b[0mdtype\u001b[0m\u001b[0;34m,\u001b[0m \u001b[0mExtensionDtype\u001b[0m\u001b[0;34m)\u001b[0m \u001b[0;32mor\u001b[0m \u001b[0mregistry\u001b[0m\u001b[0;34m.\u001b[0m\u001b[0mfind\u001b[0m\u001b[0;34m(\u001b[0m\u001b[0mdtype\u001b[0m\u001b[0;34m)\u001b[0m \u001b[0;32mis\u001b[0m \u001b[0;32mnot\u001b[0m \u001b[0;32mNone\u001b[0m\u001b[0;34m\u001b[0m\u001b[0;34m\u001b[0m\u001b[0m\n\u001b[0m\u001b[1;32m   1790\u001b[0m \u001b[0;34m\u001b[0m\u001b[0m\n\u001b[1;32m   1791\u001b[0m \u001b[0;34m\u001b[0m\u001b[0m\n",
      "\u001b[0;32m~/opt/anaconda3/lib/python3.7/site-packages/pandas/core/dtypes/dtypes.py\u001b[0m in \u001b[0;36mfind\u001b[0;34m(self, dtype)\u001b[0m\n\u001b[1;32m     93\u001b[0m         \u001b[0;32mreturn\u001b[0m \u001b[0mthe\u001b[0m \u001b[0mfirst\u001b[0m \u001b[0mmatching\u001b[0m \u001b[0mdtype\u001b[0m\u001b[0;34m,\u001b[0m \u001b[0motherwise\u001b[0m \u001b[0;32mreturn\u001b[0m \u001b[0;32mNone\u001b[0m\u001b[0;34m\u001b[0m\u001b[0;34m\u001b[0m\u001b[0m\n\u001b[1;32m     94\u001b[0m         \"\"\"\n\u001b[0;32m---> 95\u001b[0;31m         \u001b[0;32mif\u001b[0m \u001b[0;32mnot\u001b[0m \u001b[0misinstance\u001b[0m\u001b[0;34m(\u001b[0m\u001b[0mdtype\u001b[0m\u001b[0;34m,\u001b[0m \u001b[0mstr\u001b[0m\u001b[0;34m)\u001b[0m\u001b[0;34m:\u001b[0m\u001b[0;34m\u001b[0m\u001b[0;34m\u001b[0m\u001b[0m\n\u001b[0m\u001b[1;32m     96\u001b[0m             \u001b[0mdtype_type\u001b[0m \u001b[0;34m=\u001b[0m \u001b[0mdtype\u001b[0m\u001b[0;34m\u001b[0m\u001b[0;34m\u001b[0m\u001b[0m\n\u001b[1;32m     97\u001b[0m             \u001b[0;32mif\u001b[0m \u001b[0;32mnot\u001b[0m \u001b[0misinstance\u001b[0m\u001b[0;34m(\u001b[0m\u001b[0mdtype\u001b[0m\u001b[0;34m,\u001b[0m \u001b[0mtype\u001b[0m\u001b[0;34m)\u001b[0m\u001b[0;34m:\u001b[0m\u001b[0;34m\u001b[0m\u001b[0;34m\u001b[0m\u001b[0m\n",
      "\u001b[0;31mKeyboardInterrupt\u001b[0m: "
     ]
    }
   ],
   "source": [
    "# df_songs_heard_10_users = user_songs_df.groupby(\"song\").filter(lambda x: get_unique_count(x['userid'])>10)"
   ]
  },
  {
   "cell_type": "code",
   "execution_count": null,
   "metadata": {},
   "outputs": [],
   "source": [
    "# df_songs_heard_10_users.head()"
   ]
  },
  {
   "cell_type": "code",
   "execution_count": null,
   "metadata": {},
   "outputs": [],
   "source": [
    "# print('Number of songs heard by at least 10 users : ' + str(df_songs_heard_10_users['song'].nunique()))\n",
    "# print('Number of users in this dataframe : ' + str(df_songs_heard_10_users['userid'].nunique()))"
   ]
  },
  {
   "cell_type": "markdown",
   "metadata": {},
   "source": [
    "### Filtering songs heard by at least 100 users"
   ]
  },
  {
   "cell_type": "code",
   "execution_count": 12,
   "metadata": {},
   "outputs": [],
   "source": [
    "df_songs_heard_100_users = user_songs_df.groupby(\"song\").filter(lambda x: get_unique_count(x['userid'])>100)"
   ]
  },
  {
   "cell_type": "code",
   "execution_count": 13,
   "metadata": {},
   "outputs": [
    {
     "data": {
      "text/html": [
       "<div>\n",
       "<style scoped>\n",
       "    .dataframe tbody tr th:only-of-type {\n",
       "        vertical-align: middle;\n",
       "    }\n",
       "\n",
       "    .dataframe tbody tr th {\n",
       "        vertical-align: top;\n",
       "    }\n",
       "\n",
       "    .dataframe thead th {\n",
       "        text-align: right;\n",
       "    }\n",
       "</style>\n",
       "<table border=\"1\" class=\"dataframe\">\n",
       "  <thead>\n",
       "    <tr style=\"text-align: right;\">\n",
       "      <th></th>\n",
       "      <th>userid</th>\n",
       "      <th>artistid</th>\n",
       "      <th>song</th>\n",
       "      <th>time</th>\n",
       "    </tr>\n",
       "  </thead>\n",
       "  <tbody>\n",
       "    <tr>\n",
       "      <td>22</td>\n",
       "      <td>user_000001</td>\n",
       "      <td>45bdb5be-ec03-484f-b58d-d22afc944b24</td>\n",
       "      <td>Clouds</td>\n",
       "      <td>2009-05-03 14:39:20+00:00</td>\n",
       "    </tr>\n",
       "    <tr>\n",
       "      <td>26</td>\n",
       "      <td>user_000001</td>\n",
       "      <td>ce559a88-58ba-4d8a-8456-9177412d609c</td>\n",
       "      <td>Seven</td>\n",
       "      <td>2009-05-03 14:07:40+00:00</td>\n",
       "    </tr>\n",
       "    <tr>\n",
       "      <td>28</td>\n",
       "      <td>user_000001</td>\n",
       "      <td>ce559a88-58ba-4d8a-8456-9177412d609c</td>\n",
       "      <td>Five</td>\n",
       "      <td>2009-05-03 13:56:25+00:00</td>\n",
       "    </tr>\n",
       "    <tr>\n",
       "      <td>30</td>\n",
       "      <td>user_000001</td>\n",
       "      <td>ce559a88-58ba-4d8a-8456-9177412d609c</td>\n",
       "      <td>Three</td>\n",
       "      <td>2009-05-03 13:40:46+00:00</td>\n",
       "    </tr>\n",
       "    <tr>\n",
       "      <td>39</td>\n",
       "      <td>user_000001</td>\n",
       "      <td>3d05eb8b-1644-4143-9a61-b28e33c4d85f</td>\n",
       "      <td>Something In The Way</td>\n",
       "      <td>2009-05-02 15:19:46+00:00</td>\n",
       "    </tr>\n",
       "  </tbody>\n",
       "</table>\n",
       "</div>"
      ],
      "text/plain": [
       "         userid                              artistid                  song  \\\n",
       "22  user_000001  45bdb5be-ec03-484f-b58d-d22afc944b24                Clouds   \n",
       "26  user_000001  ce559a88-58ba-4d8a-8456-9177412d609c                 Seven   \n",
       "28  user_000001  ce559a88-58ba-4d8a-8456-9177412d609c                  Five   \n",
       "30  user_000001  ce559a88-58ba-4d8a-8456-9177412d609c                 Three   \n",
       "39  user_000001  3d05eb8b-1644-4143-9a61-b28e33c4d85f  Something In The Way   \n",
       "\n",
       "                        time  \n",
       "22 2009-05-03 14:39:20+00:00  \n",
       "26 2009-05-03 14:07:40+00:00  \n",
       "28 2009-05-03 13:56:25+00:00  \n",
       "30 2009-05-03 13:40:46+00:00  \n",
       "39 2009-05-02 15:19:46+00:00  "
      ]
     },
     "execution_count": 13,
     "metadata": {},
     "output_type": "execute_result"
    }
   ],
   "source": [
    "df_songs_heard_100_users.head()"
   ]
  },
  {
   "cell_type": "code",
   "execution_count": 14,
   "metadata": {},
   "outputs": [
    {
     "name": "stdout",
     "output_type": "stream",
     "text": [
      "Number of songs heard by at least 100 users : 4034\n",
      "Number of users in this dataframe : 990\n"
     ]
    }
   ],
   "source": [
    "print('Number of songs heard by at least 100 users : ' + str(df_songs_heard_100_users['song'].nunique()))\n",
    "print('Number of users in this dataframe : ' + str(df_songs_heard_100_users['userid'].nunique()))"
   ]
  },
  {
   "cell_type": "markdown",
   "metadata": {},
   "source": [
    "### Creation of timeslots"
   ]
  },
  {
   "cell_type": "code",
   "execution_count": 15,
   "metadata": {},
   "outputs": [
    {
     "name": "stderr",
     "output_type": "stream",
     "text": [
      "/Users/akshayj/opt/anaconda3/lib/python3.7/site-packages/ipykernel_launcher.py:1: SettingWithCopyWarning: \n",
      "A value is trying to be set on a copy of a slice from a DataFrame.\n",
      "Try using .loc[row_indexer,col_indexer] = value instead\n",
      "\n",
      "See the caveats in the documentation: http://pandas.pydata.org/pandas-docs/stable/user_guide/indexing.html#returning-a-view-versus-a-copy\n",
      "  \"\"\"Entry point for launching an IPython kernel.\n"
     ]
    }
   ],
   "source": [
    "df_songs_heard_100_users['hour'] = df_songs_heard_100_users['time'].dt.hour"
   ]
  },
  {
   "cell_type": "code",
   "execution_count": 16,
   "metadata": {},
   "outputs": [
    {
     "data": {
      "text/html": [
       "<div>\n",
       "<style scoped>\n",
       "    .dataframe tbody tr th:only-of-type {\n",
       "        vertical-align: middle;\n",
       "    }\n",
       "\n",
       "    .dataframe tbody tr th {\n",
       "        vertical-align: top;\n",
       "    }\n",
       "\n",
       "    .dataframe thead th {\n",
       "        text-align: right;\n",
       "    }\n",
       "</style>\n",
       "<table border=\"1\" class=\"dataframe\">\n",
       "  <thead>\n",
       "    <tr style=\"text-align: right;\">\n",
       "      <th></th>\n",
       "      <th>userid</th>\n",
       "      <th>artistid</th>\n",
       "      <th>song</th>\n",
       "      <th>time</th>\n",
       "      <th>hour</th>\n",
       "    </tr>\n",
       "  </thead>\n",
       "  <tbody>\n",
       "    <tr>\n",
       "      <td>22</td>\n",
       "      <td>user_000001</td>\n",
       "      <td>45bdb5be-ec03-484f-b58d-d22afc944b24</td>\n",
       "      <td>Clouds</td>\n",
       "      <td>2009-05-03 14:39:20+00:00</td>\n",
       "      <td>14</td>\n",
       "    </tr>\n",
       "    <tr>\n",
       "      <td>26</td>\n",
       "      <td>user_000001</td>\n",
       "      <td>ce559a88-58ba-4d8a-8456-9177412d609c</td>\n",
       "      <td>Seven</td>\n",
       "      <td>2009-05-03 14:07:40+00:00</td>\n",
       "      <td>14</td>\n",
       "    </tr>\n",
       "    <tr>\n",
       "      <td>28</td>\n",
       "      <td>user_000001</td>\n",
       "      <td>ce559a88-58ba-4d8a-8456-9177412d609c</td>\n",
       "      <td>Five</td>\n",
       "      <td>2009-05-03 13:56:25+00:00</td>\n",
       "      <td>13</td>\n",
       "    </tr>\n",
       "    <tr>\n",
       "      <td>30</td>\n",
       "      <td>user_000001</td>\n",
       "      <td>ce559a88-58ba-4d8a-8456-9177412d609c</td>\n",
       "      <td>Three</td>\n",
       "      <td>2009-05-03 13:40:46+00:00</td>\n",
       "      <td>13</td>\n",
       "    </tr>\n",
       "    <tr>\n",
       "      <td>39</td>\n",
       "      <td>user_000001</td>\n",
       "      <td>3d05eb8b-1644-4143-9a61-b28e33c4d85f</td>\n",
       "      <td>Something In The Way</td>\n",
       "      <td>2009-05-02 15:19:46+00:00</td>\n",
       "      <td>15</td>\n",
       "    </tr>\n",
       "  </tbody>\n",
       "</table>\n",
       "</div>"
      ],
      "text/plain": [
       "         userid                              artistid                  song  \\\n",
       "22  user_000001  45bdb5be-ec03-484f-b58d-d22afc944b24                Clouds   \n",
       "26  user_000001  ce559a88-58ba-4d8a-8456-9177412d609c                 Seven   \n",
       "28  user_000001  ce559a88-58ba-4d8a-8456-9177412d609c                  Five   \n",
       "30  user_000001  ce559a88-58ba-4d8a-8456-9177412d609c                 Three   \n",
       "39  user_000001  3d05eb8b-1644-4143-9a61-b28e33c4d85f  Something In The Way   \n",
       "\n",
       "                        time  hour  \n",
       "22 2009-05-03 14:39:20+00:00    14  \n",
       "26 2009-05-03 14:07:40+00:00    14  \n",
       "28 2009-05-03 13:56:25+00:00    13  \n",
       "30 2009-05-03 13:40:46+00:00    13  \n",
       "39 2009-05-02 15:19:46+00:00    15  "
      ]
     },
     "execution_count": 16,
     "metadata": {},
     "output_type": "execute_result"
    }
   ],
   "source": [
    "df_songs_heard_100_users.head()"
   ]
  },
  {
   "cell_type": "code",
   "execution_count": 17,
   "metadata": {},
   "outputs": [],
   "source": [
    "#function to return slot number\n",
    "def slot(hour):\n",
    "    if 0 <= hour and hour <= 5:\n",
    "        return 1\n",
    "    elif 6 <= hour and hour <= 11:\n",
    "        return 2\n",
    "    elif 12 <= hour and hour <= 17:\n",
    "        return 3\n",
    "    else:\n",
    "        return 4"
   ]
  },
  {
   "cell_type": "code",
   "execution_count": 18,
   "metadata": {},
   "outputs": [
    {
     "name": "stdout",
     "output_type": "stream",
     "text": [
      "CPU times: user 1.81 s, sys: 69.1 ms, total: 1.88 s\n",
      "Wall time: 1.47 s\n"
     ]
    },
    {
     "name": "stderr",
     "output_type": "stream",
     "text": [
      "/Users/akshayj/opt/anaconda3/lib/python3.7/site-packages/ipykernel_launcher.py:1: SettingWithCopyWarning: \n",
      "A value is trying to be set on a copy of a slice from a DataFrame.\n",
      "Try using .loc[row_indexer,col_indexer] = value instead\n",
      "\n",
      "See the caveats in the documentation: http://pandas.pydata.org/pandas-docs/stable/user_guide/indexing.html#returning-a-view-versus-a-copy\n",
      "  \"\"\"Entry point for launching an IPython kernel.\n"
     ]
    }
   ],
   "source": [
    "%%time\n",
    "df_songs_heard_100_users['slot'] = df_songs_heard_100_users['hour'].apply( lambda x : slot(x) ) "
   ]
  },
  {
   "cell_type": "code",
   "execution_count": 19,
   "metadata": {},
   "outputs": [
    {
     "data": {
      "text/html": [
       "<div>\n",
       "<style scoped>\n",
       "    .dataframe tbody tr th:only-of-type {\n",
       "        vertical-align: middle;\n",
       "    }\n",
       "\n",
       "    .dataframe tbody tr th {\n",
       "        vertical-align: top;\n",
       "    }\n",
       "\n",
       "    .dataframe thead th {\n",
       "        text-align: right;\n",
       "    }\n",
       "</style>\n",
       "<table border=\"1\" class=\"dataframe\">\n",
       "  <thead>\n",
       "    <tr style=\"text-align: right;\">\n",
       "      <th></th>\n",
       "      <th>userid</th>\n",
       "      <th>artistid</th>\n",
       "      <th>song</th>\n",
       "      <th>time</th>\n",
       "      <th>hour</th>\n",
       "      <th>slot</th>\n",
       "    </tr>\n",
       "  </thead>\n",
       "  <tbody>\n",
       "    <tr>\n",
       "      <td>22</td>\n",
       "      <td>user_000001</td>\n",
       "      <td>45bdb5be-ec03-484f-b58d-d22afc944b24</td>\n",
       "      <td>Clouds</td>\n",
       "      <td>2009-05-03 14:39:20+00:00</td>\n",
       "      <td>14</td>\n",
       "      <td>3</td>\n",
       "    </tr>\n",
       "    <tr>\n",
       "      <td>26</td>\n",
       "      <td>user_000001</td>\n",
       "      <td>ce559a88-58ba-4d8a-8456-9177412d609c</td>\n",
       "      <td>Seven</td>\n",
       "      <td>2009-05-03 14:07:40+00:00</td>\n",
       "      <td>14</td>\n",
       "      <td>3</td>\n",
       "    </tr>\n",
       "    <tr>\n",
       "      <td>28</td>\n",
       "      <td>user_000001</td>\n",
       "      <td>ce559a88-58ba-4d8a-8456-9177412d609c</td>\n",
       "      <td>Five</td>\n",
       "      <td>2009-05-03 13:56:25+00:00</td>\n",
       "      <td>13</td>\n",
       "      <td>3</td>\n",
       "    </tr>\n",
       "    <tr>\n",
       "      <td>30</td>\n",
       "      <td>user_000001</td>\n",
       "      <td>ce559a88-58ba-4d8a-8456-9177412d609c</td>\n",
       "      <td>Three</td>\n",
       "      <td>2009-05-03 13:40:46+00:00</td>\n",
       "      <td>13</td>\n",
       "      <td>3</td>\n",
       "    </tr>\n",
       "    <tr>\n",
       "      <td>39</td>\n",
       "      <td>user_000001</td>\n",
       "      <td>3d05eb8b-1644-4143-9a61-b28e33c4d85f</td>\n",
       "      <td>Something In The Way</td>\n",
       "      <td>2009-05-02 15:19:46+00:00</td>\n",
       "      <td>15</td>\n",
       "      <td>3</td>\n",
       "    </tr>\n",
       "  </tbody>\n",
       "</table>\n",
       "</div>"
      ],
      "text/plain": [
       "         userid                              artistid                  song  \\\n",
       "22  user_000001  45bdb5be-ec03-484f-b58d-d22afc944b24                Clouds   \n",
       "26  user_000001  ce559a88-58ba-4d8a-8456-9177412d609c                 Seven   \n",
       "28  user_000001  ce559a88-58ba-4d8a-8456-9177412d609c                  Five   \n",
       "30  user_000001  ce559a88-58ba-4d8a-8456-9177412d609c                 Three   \n",
       "39  user_000001  3d05eb8b-1644-4143-9a61-b28e33c4d85f  Something In The Way   \n",
       "\n",
       "                        time  hour  slot  \n",
       "22 2009-05-03 14:39:20+00:00    14     3  \n",
       "26 2009-05-03 14:07:40+00:00    14     3  \n",
       "28 2009-05-03 13:56:25+00:00    13     3  \n",
       "30 2009-05-03 13:40:46+00:00    13     3  \n",
       "39 2009-05-02 15:19:46+00:00    15     3  "
      ]
     },
     "execution_count": 19,
     "metadata": {},
     "output_type": "execute_result"
    }
   ],
   "source": [
    "df_songs_heard_100_users.head()"
   ]
  },
  {
   "cell_type": "code",
   "execution_count": 20,
   "metadata": {},
   "outputs": [
    {
     "data": {
      "text/plain": [
       "(3922101, 6)"
      ]
     },
     "execution_count": 20,
     "metadata": {},
     "output_type": "execute_result"
    }
   ],
   "source": [
    "df_songs_heard_100_users.shape"
   ]
  },
  {
   "cell_type": "markdown",
   "metadata": {},
   "source": [
    "#### Creating song ids"
   ]
  },
  {
   "cell_type": "code",
   "execution_count": 21,
   "metadata": {},
   "outputs": [
    {
     "name": "stderr",
     "output_type": "stream",
     "text": [
      "/Users/akshayj/opt/anaconda3/lib/python3.7/site-packages/ipykernel_launcher.py:1: SettingWithCopyWarning: \n",
      "A value is trying to be set on a copy of a slice from a DataFrame.\n",
      "Try using .loc[row_indexer,col_indexer] = value instead\n",
      "\n",
      "See the caveats in the documentation: http://pandas.pydata.org/pandas-docs/stable/user_guide/indexing.html#returning-a-view-versus-a-copy\n",
      "  \"\"\"Entry point for launching an IPython kernel.\n"
     ]
    }
   ],
   "source": [
    "df_songs_heard_100_users['songid'] = df_songs_heard_100_users.groupby(['song']).ngroup().add(1)"
   ]
  },
  {
   "cell_type": "code",
   "execution_count": 83,
   "metadata": {},
   "outputs": [
    {
     "name": "stderr",
     "output_type": "stream",
     "text": [
      "/Users/akshayj/opt/anaconda3/lib/python3.7/site-packages/ipykernel_launcher.py:1: SettingWithCopyWarning: \n",
      "A value is trying to be set on a copy of a slice from a DataFrame.\n",
      "Try using .loc[row_indexer,col_indexer] = value instead\n",
      "\n",
      "See the caveats in the documentation: http://pandas.pydata.org/pandas-docs/stable/user_guide/indexing.html#returning-a-view-versus-a-copy\n",
      "  \"\"\"Entry point for launching an IPython kernel.\n"
     ]
    }
   ],
   "source": [
    "df_songs_heard_100_users['userid'] = df_songs_heard_100_users.groupby(['userid']).ngroup().add(1)"
   ]
  },
  {
   "cell_type": "code",
   "execution_count": 84,
   "metadata": {},
   "outputs": [
    {
     "data": {
      "text/html": [
       "<div>\n",
       "<style scoped>\n",
       "    .dataframe tbody tr th:only-of-type {\n",
       "        vertical-align: middle;\n",
       "    }\n",
       "\n",
       "    .dataframe tbody tr th {\n",
       "        vertical-align: top;\n",
       "    }\n",
       "\n",
       "    .dataframe thead th {\n",
       "        text-align: right;\n",
       "    }\n",
       "</style>\n",
       "<table border=\"1\" class=\"dataframe\">\n",
       "  <thead>\n",
       "    <tr style=\"text-align: right;\">\n",
       "      <th></th>\n",
       "      <th>userid</th>\n",
       "      <th>artistid</th>\n",
       "      <th>song</th>\n",
       "      <th>time</th>\n",
       "      <th>hour</th>\n",
       "      <th>slot</th>\n",
       "      <th>songid</th>\n",
       "    </tr>\n",
       "  </thead>\n",
       "  <tbody>\n",
       "    <tr>\n",
       "      <td>22</td>\n",
       "      <td>1</td>\n",
       "      <td>45bdb5be-ec03-484f-b58d-d22afc944b24</td>\n",
       "      <td>Clouds</td>\n",
       "      <td>2009-05-03 14:39:20+00:00</td>\n",
       "      <td>14</td>\n",
       "      <td>3</td>\n",
       "      <td>619</td>\n",
       "    </tr>\n",
       "    <tr>\n",
       "      <td>26</td>\n",
       "      <td>1</td>\n",
       "      <td>ce559a88-58ba-4d8a-8456-9177412d609c</td>\n",
       "      <td>Seven</td>\n",
       "      <td>2009-05-03 14:07:40+00:00</td>\n",
       "      <td>14</td>\n",
       "      <td>3</td>\n",
       "      <td>2896</td>\n",
       "    </tr>\n",
       "    <tr>\n",
       "      <td>28</td>\n",
       "      <td>1</td>\n",
       "      <td>ce559a88-58ba-4d8a-8456-9177412d609c</td>\n",
       "      <td>Five</td>\n",
       "      <td>2009-05-03 13:56:25+00:00</td>\n",
       "      <td>13</td>\n",
       "      <td>3</td>\n",
       "      <td>1099</td>\n",
       "    </tr>\n",
       "    <tr>\n",
       "      <td>30</td>\n",
       "      <td>1</td>\n",
       "      <td>ce559a88-58ba-4d8a-8456-9177412d609c</td>\n",
       "      <td>Three</td>\n",
       "      <td>2009-05-03 13:40:46+00:00</td>\n",
       "      <td>13</td>\n",
       "      <td>3</td>\n",
       "      <td>3565</td>\n",
       "    </tr>\n",
       "    <tr>\n",
       "      <td>39</td>\n",
       "      <td>1</td>\n",
       "      <td>3d05eb8b-1644-4143-9a61-b28e33c4d85f</td>\n",
       "      <td>Something In The Way</td>\n",
       "      <td>2009-05-02 15:19:46+00:00</td>\n",
       "      <td>15</td>\n",
       "      <td>3</td>\n",
       "      <td>3061</td>\n",
       "    </tr>\n",
       "  </tbody>\n",
       "</table>\n",
       "</div>"
      ],
      "text/plain": [
       "    userid                              artistid                  song  \\\n",
       "22       1  45bdb5be-ec03-484f-b58d-d22afc944b24                Clouds   \n",
       "26       1  ce559a88-58ba-4d8a-8456-9177412d609c                 Seven   \n",
       "28       1  ce559a88-58ba-4d8a-8456-9177412d609c                  Five   \n",
       "30       1  ce559a88-58ba-4d8a-8456-9177412d609c                 Three   \n",
       "39       1  3d05eb8b-1644-4143-9a61-b28e33c4d85f  Something In The Way   \n",
       "\n",
       "                        time  hour  slot  songid  \n",
       "22 2009-05-03 14:39:20+00:00    14     3     619  \n",
       "26 2009-05-03 14:07:40+00:00    14     3    2896  \n",
       "28 2009-05-03 13:56:25+00:00    13     3    1099  \n",
       "30 2009-05-03 13:40:46+00:00    13     3    3565  \n",
       "39 2009-05-02 15:19:46+00:00    15     3    3061  "
      ]
     },
     "execution_count": 84,
     "metadata": {},
     "output_type": "execute_result"
    }
   ],
   "source": [
    "df_songs_heard_100_users.head()"
   ]
  },
  {
   "cell_type": "code",
   "execution_count": 85,
   "metadata": {},
   "outputs": [
    {
     "data": {
      "text/html": [
       "<div>\n",
       "<style scoped>\n",
       "    .dataframe tbody tr th:only-of-type {\n",
       "        vertical-align: middle;\n",
       "    }\n",
       "\n",
       "    .dataframe tbody tr th {\n",
       "        vertical-align: top;\n",
       "    }\n",
       "\n",
       "    .dataframe thead th {\n",
       "        text-align: right;\n",
       "    }\n",
       "</style>\n",
       "<table border=\"1\" class=\"dataframe\">\n",
       "  <thead>\n",
       "    <tr style=\"text-align: right;\">\n",
       "      <th></th>\n",
       "      <th>userid</th>\n",
       "      <th>artistid</th>\n",
       "      <th>song</th>\n",
       "      <th>time</th>\n",
       "      <th>hour</th>\n",
       "      <th>slot</th>\n",
       "      <th>songid</th>\n",
       "    </tr>\n",
       "  </thead>\n",
       "  <tbody>\n",
       "    <tr>\n",
       "      <td>22</td>\n",
       "      <td>1</td>\n",
       "      <td>45bdb5be-ec03-484f-b58d-d22afc944b24</td>\n",
       "      <td>Clouds</td>\n",
       "      <td>2009-05-03 14:39:20+00:00</td>\n",
       "      <td>14</td>\n",
       "      <td>3</td>\n",
       "      <td>619</td>\n",
       "    </tr>\n",
       "    <tr>\n",
       "      <td>212</td>\n",
       "      <td>1</td>\n",
       "      <td>45bdb5be-ec03-484f-b58d-d22afc944b24</td>\n",
       "      <td>Clouds</td>\n",
       "      <td>2009-04-28 13:18:42+00:00</td>\n",
       "      <td>13</td>\n",
       "      <td>3</td>\n",
       "      <td>619</td>\n",
       "    </tr>\n",
       "    <tr>\n",
       "      <td>264</td>\n",
       "      <td>1</td>\n",
       "      <td>45bdb5be-ec03-484f-b58d-d22afc944b24</td>\n",
       "      <td>Clouds</td>\n",
       "      <td>2009-04-26 18:37:07+00:00</td>\n",
       "      <td>18</td>\n",
       "      <td>4</td>\n",
       "      <td>619</td>\n",
       "    </tr>\n",
       "    <tr>\n",
       "      <td>280</td>\n",
       "      <td>1</td>\n",
       "      <td>45bdb5be-ec03-484f-b58d-d22afc944b24</td>\n",
       "      <td>Clouds</td>\n",
       "      <td>2009-04-26 17:07:08+00:00</td>\n",
       "      <td>17</td>\n",
       "      <td>3</td>\n",
       "      <td>619</td>\n",
       "    </tr>\n",
       "    <tr>\n",
       "      <td>1067</td>\n",
       "      <td>1</td>\n",
       "      <td>45bdb5be-ec03-484f-b58d-d22afc944b24</td>\n",
       "      <td>Clouds</td>\n",
       "      <td>2009-04-11 15:53:03+00:00</td>\n",
       "      <td>15</td>\n",
       "      <td>3</td>\n",
       "      <td>619</td>\n",
       "    </tr>\n",
       "    <tr>\n",
       "      <td>...</td>\n",
       "      <td>...</td>\n",
       "      <td>...</td>\n",
       "      <td>...</td>\n",
       "      <td>...</td>\n",
       "      <td>...</td>\n",
       "      <td>...</td>\n",
       "      <td>...</td>\n",
       "    </tr>\n",
       "    <tr>\n",
       "      <td>18990426</td>\n",
       "      <td>985</td>\n",
       "      <td>1dcc8968-f2cd-441c-beda-6270f70f2863</td>\n",
       "      <td>Clouds</td>\n",
       "      <td>2006-08-06 10:32:53+00:00</td>\n",
       "      <td>10</td>\n",
       "      <td>2</td>\n",
       "      <td>619</td>\n",
       "    </tr>\n",
       "    <tr>\n",
       "      <td>19012117</td>\n",
       "      <td>987</td>\n",
       "      <td>24ed5b09-02b1-47fe-bd83-6fa5270039b0</td>\n",
       "      <td>Clouds</td>\n",
       "      <td>2007-01-31 02:35:11+00:00</td>\n",
       "      <td>2</td>\n",
       "      <td>1</td>\n",
       "      <td>619</td>\n",
       "    </tr>\n",
       "    <tr>\n",
       "      <td>19012489</td>\n",
       "      <td>987</td>\n",
       "      <td>24ed5b09-02b1-47fe-bd83-6fa5270039b0</td>\n",
       "      <td>Clouds</td>\n",
       "      <td>2007-01-30 00:31:13+00:00</td>\n",
       "      <td>0</td>\n",
       "      <td>1</td>\n",
       "      <td>619</td>\n",
       "    </tr>\n",
       "    <tr>\n",
       "      <td>19012885</td>\n",
       "      <td>987</td>\n",
       "      <td>24ed5b09-02b1-47fe-bd83-6fa5270039b0</td>\n",
       "      <td>Clouds</td>\n",
       "      <td>2007-01-27 17:27:21+00:00</td>\n",
       "      <td>17</td>\n",
       "      <td>3</td>\n",
       "      <td>619</td>\n",
       "    </tr>\n",
       "    <tr>\n",
       "      <td>19013387</td>\n",
       "      <td>987</td>\n",
       "      <td>24ed5b09-02b1-47fe-bd83-6fa5270039b0</td>\n",
       "      <td>Clouds</td>\n",
       "      <td>2007-01-26 06:19:03+00:00</td>\n",
       "      <td>6</td>\n",
       "      <td>2</td>\n",
       "      <td>619</td>\n",
       "    </tr>\n",
       "  </tbody>\n",
       "</table>\n",
       "<p>452 rows × 7 columns</p>\n",
       "</div>"
      ],
      "text/plain": [
       "          userid                              artistid    song  \\\n",
       "22             1  45bdb5be-ec03-484f-b58d-d22afc944b24  Clouds   \n",
       "212            1  45bdb5be-ec03-484f-b58d-d22afc944b24  Clouds   \n",
       "264            1  45bdb5be-ec03-484f-b58d-d22afc944b24  Clouds   \n",
       "280            1  45bdb5be-ec03-484f-b58d-d22afc944b24  Clouds   \n",
       "1067           1  45bdb5be-ec03-484f-b58d-d22afc944b24  Clouds   \n",
       "...          ...                                   ...     ...   \n",
       "18990426     985  1dcc8968-f2cd-441c-beda-6270f70f2863  Clouds   \n",
       "19012117     987  24ed5b09-02b1-47fe-bd83-6fa5270039b0  Clouds   \n",
       "19012489     987  24ed5b09-02b1-47fe-bd83-6fa5270039b0  Clouds   \n",
       "19012885     987  24ed5b09-02b1-47fe-bd83-6fa5270039b0  Clouds   \n",
       "19013387     987  24ed5b09-02b1-47fe-bd83-6fa5270039b0  Clouds   \n",
       "\n",
       "                              time  hour  slot  songid  \n",
       "22       2009-05-03 14:39:20+00:00    14     3     619  \n",
       "212      2009-04-28 13:18:42+00:00    13     3     619  \n",
       "264      2009-04-26 18:37:07+00:00    18     4     619  \n",
       "280      2009-04-26 17:07:08+00:00    17     3     619  \n",
       "1067     2009-04-11 15:53:03+00:00    15     3     619  \n",
       "...                            ...   ...   ...     ...  \n",
       "18990426 2006-08-06 10:32:53+00:00    10     2     619  \n",
       "19012117 2007-01-31 02:35:11+00:00     2     1     619  \n",
       "19012489 2007-01-30 00:31:13+00:00     0     1     619  \n",
       "19012885 2007-01-27 17:27:21+00:00    17     3     619  \n",
       "19013387 2007-01-26 06:19:03+00:00     6     2     619  \n",
       "\n",
       "[452 rows x 7 columns]"
      ]
     },
     "execution_count": 85,
     "metadata": {},
     "output_type": "execute_result"
    }
   ],
   "source": [
    "df_songs_heard_100_users[df_songs_heard_100_users['song'] == 'Clouds']"
   ]
  },
  {
   "cell_type": "code",
   "execution_count": 86,
   "metadata": {},
   "outputs": [],
   "source": [
    "# Removing artistid, time and hour columns\n",
    "input_dataset = df_songs_heard_100_users.drop(['artistid', 'song', 'time','hour'], axis=1, inplace=False)"
   ]
  },
  {
   "cell_type": "code",
   "execution_count": 87,
   "metadata": {},
   "outputs": [],
   "source": [
    "input_dataset = input_dataset[['userid', 'songid', 'slot']]"
   ]
  },
  {
   "cell_type": "code",
   "execution_count": 88,
   "metadata": {},
   "outputs": [
    {
     "data": {
      "text/html": [
       "<div>\n",
       "<style scoped>\n",
       "    .dataframe tbody tr th:only-of-type {\n",
       "        vertical-align: middle;\n",
       "    }\n",
       "\n",
       "    .dataframe tbody tr th {\n",
       "        vertical-align: top;\n",
       "    }\n",
       "\n",
       "    .dataframe thead th {\n",
       "        text-align: right;\n",
       "    }\n",
       "</style>\n",
       "<table border=\"1\" class=\"dataframe\">\n",
       "  <thead>\n",
       "    <tr style=\"text-align: right;\">\n",
       "      <th></th>\n",
       "      <th>userid</th>\n",
       "      <th>songid</th>\n",
       "      <th>slot</th>\n",
       "    </tr>\n",
       "  </thead>\n",
       "  <tbody>\n",
       "    <tr>\n",
       "      <td>22</td>\n",
       "      <td>1</td>\n",
       "      <td>619</td>\n",
       "      <td>3</td>\n",
       "    </tr>\n",
       "    <tr>\n",
       "      <td>26</td>\n",
       "      <td>1</td>\n",
       "      <td>2896</td>\n",
       "      <td>3</td>\n",
       "    </tr>\n",
       "    <tr>\n",
       "      <td>28</td>\n",
       "      <td>1</td>\n",
       "      <td>1099</td>\n",
       "      <td>3</td>\n",
       "    </tr>\n",
       "    <tr>\n",
       "      <td>30</td>\n",
       "      <td>1</td>\n",
       "      <td>3565</td>\n",
       "      <td>3</td>\n",
       "    </tr>\n",
       "    <tr>\n",
       "      <td>39</td>\n",
       "      <td>1</td>\n",
       "      <td>3061</td>\n",
       "      <td>3</td>\n",
       "    </tr>\n",
       "  </tbody>\n",
       "</table>\n",
       "</div>"
      ],
      "text/plain": [
       "    userid  songid  slot\n",
       "22       1     619     3\n",
       "26       1    2896     3\n",
       "28       1    1099     3\n",
       "30       1    3565     3\n",
       "39       1    3061     3"
      ]
     },
     "execution_count": 88,
     "metadata": {},
     "output_type": "execute_result"
    }
   ],
   "source": [
    "input_dataset.head()"
   ]
  },
  {
   "cell_type": "code",
   "execution_count": null,
   "metadata": {},
   "outputs": [],
   "source": []
  },
  {
   "cell_type": "code",
   "execution_count": null,
   "metadata": {},
   "outputs": [],
   "source": []
  },
  {
   "cell_type": "code",
   "execution_count": null,
   "metadata": {},
   "outputs": [],
   "source": []
  },
  {
   "cell_type": "code",
   "execution_count": null,
   "metadata": {},
   "outputs": [],
   "source": []
  },
  {
   "cell_type": "markdown",
   "metadata": {},
   "source": [
    "### Generating training and testing data"
   ]
  },
  {
   "cell_type": "code",
   "execution_count": 89,
   "metadata": {},
   "outputs": [],
   "source": [
    "#Group by users and get the size of each group\n",
    "user_record_counts = input_dataset.groupby(\"userid\").apply(lambda x: x.shape[0])"
   ]
  },
  {
   "cell_type": "code",
   "execution_count": 90,
   "metadata": {},
   "outputs": [],
   "source": [
    "#Divide dataset into train and test based on users and the number of the songs listened\n",
    "train_set_keys = []\n",
    "test_set_keys = []\n",
    "sum_val = 0\n",
    "total = input_dataset.shape[0]\n",
    "for key, value in user_record_counts.items():\n",
    "    sum_val += value\n",
    "    fraction = sum_val/total\n",
    "    if fraction <= 0.8:\n",
    "        train_set_keys.append(key)        \n",
    "    else:\n",
    "        test_set_keys.append(key)"
   ]
  },
  {
   "cell_type": "code",
   "execution_count": 91,
   "metadata": {},
   "outputs": [
    {
     "name": "stdout",
     "output_type": "stream",
     "text": [
      "Number of users in train set : 792\n",
      "Number of users in test set : 198\n"
     ]
    }
   ],
   "source": [
    "print(\"Number of users in train set : \"+str(len(train_set_keys)))\n",
    "print(\"Number of users in test set : \"+str(len(test_set_keys)))"
   ]
  },
  {
   "cell_type": "code",
   "execution_count": 92,
   "metadata": {},
   "outputs": [],
   "source": [
    "train_set = input_dataset.groupby(\"userid\").filter(lambda x: x['userid'].iloc[0] in train_set_keys)\n",
    "test_set = input_dataset.groupby(\"userid\").filter(lambda x: x['userid'].iloc[0] in test_set_keys)"
   ]
  },
  {
   "cell_type": "code",
   "execution_count": 93,
   "metadata": {},
   "outputs": [
    {
     "name": "stdout",
     "output_type": "stream",
     "text": [
      "Number of users in train set : 792\n",
      "Number of users in test set : 198\n"
     ]
    }
   ],
   "source": [
    "print(\"Number of users in train set : \"+str(train_set['userid'].nunique()))\n",
    "print(\"Number of users in test set : \"+str(test_set['userid'].nunique()))"
   ]
  },
  {
   "cell_type": "code",
   "execution_count": 94,
   "metadata": {},
   "outputs": [
    {
     "name": "stdout",
     "output_type": "stream",
     "text": [
      "Fraction of train set : 0.7984888711432979\n"
     ]
    }
   ],
   "source": [
    "print('Fraction of train set : ' + str(train_set.shape[0]/total))"
   ]
  },
  {
   "cell_type": "code",
   "execution_count": 330,
   "metadata": {},
   "outputs": [
    {
     "data": {
      "text/html": [
       "<div>\n",
       "<style scoped>\n",
       "    .dataframe tbody tr th:only-of-type {\n",
       "        vertical-align: middle;\n",
       "    }\n",
       "\n",
       "    .dataframe tbody tr th {\n",
       "        vertical-align: top;\n",
       "    }\n",
       "\n",
       "    .dataframe thead th {\n",
       "        text-align: right;\n",
       "    }\n",
       "</style>\n",
       "<table border=\"1\" class=\"dataframe\">\n",
       "  <thead>\n",
       "    <tr style=\"text-align: right;\">\n",
       "      <th></th>\n",
       "      <th>userid</th>\n",
       "      <th>songid</th>\n",
       "      <th>slot</th>\n",
       "    </tr>\n",
       "  </thead>\n",
       "  <tbody>\n",
       "    <tr>\n",
       "      <td>22</td>\n",
       "      <td>1</td>\n",
       "      <td>619</td>\n",
       "      <td>3</td>\n",
       "    </tr>\n",
       "    <tr>\n",
       "      <td>26</td>\n",
       "      <td>1</td>\n",
       "      <td>2896</td>\n",
       "      <td>3</td>\n",
       "    </tr>\n",
       "    <tr>\n",
       "      <td>28</td>\n",
       "      <td>1</td>\n",
       "      <td>1099</td>\n",
       "      <td>3</td>\n",
       "    </tr>\n",
       "    <tr>\n",
       "      <td>30</td>\n",
       "      <td>1</td>\n",
       "      <td>3565</td>\n",
       "      <td>3</td>\n",
       "    </tr>\n",
       "    <tr>\n",
       "      <td>39</td>\n",
       "      <td>1</td>\n",
       "      <td>3061</td>\n",
       "      <td>3</td>\n",
       "    </tr>\n",
       "  </tbody>\n",
       "</table>\n",
       "</div>"
      ],
      "text/plain": [
       "    userid  songid  slot\n",
       "22       1     619     3\n",
       "26       1    2896     3\n",
       "28       1    1099     3\n",
       "30       1    3565     3\n",
       "39       1    3061     3"
      ]
     },
     "execution_count": 330,
     "metadata": {},
     "output_type": "execute_result"
    }
   ],
   "source": [
    "train_set.head()"
   ]
  },
  {
   "cell_type": "code",
   "execution_count": null,
   "metadata": {},
   "outputs": [],
   "source": []
  },
  {
   "cell_type": "markdown",
   "metadata": {},
   "source": [
    "### Creating train dataframes based on slots"
   ]
  },
  {
   "cell_type": "code",
   "execution_count": 96,
   "metadata": {},
   "outputs": [],
   "source": [
    "grouped_train_set = train_set.groupby('slot')\n",
    "grouped_test_set = test_set.groupby('slot')"
   ]
  },
  {
   "cell_type": "code",
   "execution_count": 97,
   "metadata": {},
   "outputs": [],
   "source": [
    "train_first_slot_df = grouped_train_set.get_group(1)\n",
    "train_second_slot_df = grouped_train_set.get_group(2)\n",
    "train_third_slot_df = grouped_train_set.get_group(3)\n",
    "train_fourth_slot_df = grouped_train_set.get_group(4)\n",
    "\n",
    "test_first_slot_df = grouped_test_set.get_group(1)\n",
    "test_second_slot_df = grouped_test_set.get_group(2)\n",
    "test_third_slot_df = grouped_test_set.get_group(3)\n",
    "test_fourth_slot_df = grouped_test_set.get_group(4)"
   ]
  },
  {
   "cell_type": "code",
   "execution_count": 98,
   "metadata": {},
   "outputs": [],
   "source": [
    "# train_first_slot_df"
   ]
  },
  {
   "cell_type": "code",
   "execution_count": 99,
   "metadata": {},
   "outputs": [
    {
     "name": "stdout",
     "output_type": "stream",
     "text": [
      "First train slot shape : (596866, 3)\n",
      "Second train slot shape : (544262, 3)\n",
      "Third train slot shape : (943222, 3)\n",
      "Fourth train slot shape : (1047404, 3)\n",
      "\n",
      "Number of users in train_first_slot_df : 737\n",
      "Number of users in train_second_slot_df : 762\n",
      "Number of users in train_third_slot_df : 784\n",
      "Number of users in train_fourth_slot_df : 780\n",
      "\n",
      "Number of songs in train_first_slot_df : 4034\n",
      "Number of songs in train_second_slot_df : 4034\n",
      "Number of songs in train_third_slot_df : 4034\n",
      "Number of songs in train_fourth_slot_df : 4034\n",
      "\n",
      "First test slot shape : (173856, 3)\n",
      "Second test slot shape : (146390, 3)\n",
      "Third test slot shape : (221677, 3)\n",
      "Fourth test slot shape : (248424, 3)\n",
      "\n",
      "Number of users in test_first_slot_df : 185\n",
      "Number of users in test_second_slot_df : 188\n",
      "Number of users in test_third_slot_df : 191\n",
      "Number of users in test_fourth_slot_df : 193\n",
      "\n",
      "Number of songs in test_first_slot_df : 4034\n",
      "Number of songs in test_second_slot_df : 4034\n",
      "Number of songs in test_third_slot_df : 4034\n",
      "Number of songs in test_fourth_slot_df : 4034\n"
     ]
    }
   ],
   "source": [
    "print('First train slot shape : ' + str(train_first_slot_df.shape))\n",
    "print('Second train slot shape : ' + str(train_second_slot_df.shape))\n",
    "print('Third train slot shape : ' + str(train_third_slot_df.shape))\n",
    "print('Fourth train slot shape : ' + str(train_fourth_slot_df.shape))\n",
    "print('')\n",
    "print(\"Number of users in train_first_slot_df : \" + str(train_first_slot_df['userid'].nunique()))\n",
    "print(\"Number of users in train_second_slot_df : \" + str(train_second_slot_df['userid'].nunique()))\n",
    "print(\"Number of users in train_third_slot_df : \" + str(train_third_slot_df['userid'].nunique()))\n",
    "print(\"Number of users in train_fourth_slot_df : \" + str(train_fourth_slot_df['userid'].nunique()))\n",
    "print('')\n",
    "print(\"Number of songs in train_first_slot_df : \" + str(train_first_slot_df['songid'].nunique()))\n",
    "print(\"Number of songs in train_second_slot_df : \" + str(train_second_slot_df['songid'].nunique()))\n",
    "print(\"Number of songs in train_third_slot_df : \" + str(train_third_slot_df['songid'].nunique()))\n",
    "print(\"Number of songs in train_fourth_slot_df : \" + str(train_fourth_slot_df['songid'].nunique()))\n",
    "print('')\n",
    "print('First test slot shape : ' + str(test_first_slot_df.shape))\n",
    "print('Second test slot shape : ' + str(test_second_slot_df.shape))\n",
    "print('Third test slot shape : ' + str(test_third_slot_df.shape))\n",
    "print('Fourth test slot shape : ' + str(test_fourth_slot_df.shape))\n",
    "print('')\n",
    "print(\"Number of users in test_first_slot_df : \" + str(test_first_slot_df['userid'].nunique()))\n",
    "print(\"Number of users in test_second_slot_df : \" + str(test_second_slot_df['userid'].nunique()))\n",
    "print(\"Number of users in test_third_slot_df : \" + str(test_third_slot_df['userid'].nunique()))\n",
    "print(\"Number of users in test_fourth_slot_df : \" + str(test_fourth_slot_df['userid'].nunique()))\n",
    "print('')\n",
    "print(\"Number of songs in test_first_slot_df : \" + str(test_first_slot_df['songid'].nunique()))\n",
    "print(\"Number of songs in test_second_slot_df : \" + str(test_second_slot_df['songid'].nunique()))\n",
    "print(\"Number of songs in test_third_slot_df : \" + str(test_third_slot_df['songid'].nunique()))\n",
    "print(\"Number of songs in test_fourth_slot_df : \" + str(test_fourth_slot_df['songid'].nunique()))\n"
   ]
  },
  {
   "cell_type": "code",
   "execution_count": 191,
   "metadata": {},
   "outputs": [],
   "source": [
    "# Get user-song-count dataframe for each slot\n",
    "train_user_song_count_df_first = train_first_slot_df.groupby([\"userid\",\"songid\"]).size().reset_index(name=\"count\")\n",
    "train_user_song_count_df_second = train_second_slot_df.groupby([\"userid\",\"songid\"]).size().reset_index(name=\"count\")\n",
    "train_user_song_count_df_third = train_third_slot_df.groupby([\"userid\",\"songid\"]).size().reset_index(name=\"count\")\n",
    "train_user_song_count_df_fourth = train_fourth_slot_df.groupby([\"userid\",\"songid\"]).size().reset_index(name=\"count\")\n",
    "\n",
    "test_user_song_count_df_first = test_first_slot_df.groupby([\"userid\",\"songid\"]).size().reset_index(name=\"count\")\n",
    "test_user_song_count_df_second = test_second_slot_df.groupby([\"userid\",\"songid\"]).size().reset_index(name=\"count\")\n",
    "test_user_song_count_df_third = test_third_slot_df.groupby([\"userid\",\"songid\"]).size().reset_index(name=\"count\")\n",
    "test_user_song_count_df_fourth = test_fourth_slot_df.groupby([\"userid\",\"songid\"]).size().reset_index(name=\"count\")"
   ]
  },
  {
   "cell_type": "code",
   "execution_count": 192,
   "metadata": {},
   "outputs": [],
   "source": [
    "# train_user_song_count_df_first = train_first_slot_df.groupby([\"userid\",\"songid\"]).size().reset_index(name=\"count\")"
   ]
  },
  {
   "cell_type": "code",
   "execution_count": 193,
   "metadata": {},
   "outputs": [
    {
     "data": {
      "text/html": [
       "<div>\n",
       "<style scoped>\n",
       "    .dataframe tbody tr th:only-of-type {\n",
       "        vertical-align: middle;\n",
       "    }\n",
       "\n",
       "    .dataframe tbody tr th {\n",
       "        vertical-align: top;\n",
       "    }\n",
       "\n",
       "    .dataframe thead th {\n",
       "        text-align: right;\n",
       "    }\n",
       "</style>\n",
       "<table border=\"1\" class=\"dataframe\">\n",
       "  <thead>\n",
       "    <tr style=\"text-align: right;\">\n",
       "      <th></th>\n",
       "      <th>userid</th>\n",
       "      <th>songid</th>\n",
       "      <th>count</th>\n",
       "    </tr>\n",
       "  </thead>\n",
       "  <tbody>\n",
       "    <tr>\n",
       "      <td>0</td>\n",
       "      <td>1</td>\n",
       "      <td>10</td>\n",
       "      <td>2</td>\n",
       "    </tr>\n",
       "    <tr>\n",
       "      <td>1</td>\n",
       "      <td>1</td>\n",
       "      <td>27</td>\n",
       "      <td>4</td>\n",
       "    </tr>\n",
       "    <tr>\n",
       "      <td>2</td>\n",
       "      <td>1</td>\n",
       "      <td>43</td>\n",
       "      <td>1</td>\n",
       "    </tr>\n",
       "    <tr>\n",
       "      <td>3</td>\n",
       "      <td>1</td>\n",
       "      <td>91</td>\n",
       "      <td>1</td>\n",
       "    </tr>\n",
       "    <tr>\n",
       "      <td>4</td>\n",
       "      <td>1</td>\n",
       "      <td>137</td>\n",
       "      <td>2</td>\n",
       "    </tr>\n",
       "  </tbody>\n",
       "</table>\n",
       "</div>"
      ],
      "text/plain": [
       "   userid  songid  count\n",
       "0       1      10      2\n",
       "1       1      27      4\n",
       "2       1      43      1\n",
       "3       1      91      1\n",
       "4       1     137      2"
      ]
     },
     "execution_count": 193,
     "metadata": {},
     "output_type": "execute_result"
    }
   ],
   "source": [
    "train_user_song_count_df_first.head()"
   ]
  },
  {
   "cell_type": "code",
   "execution_count": 215,
   "metadata": {},
   "outputs": [],
   "source": [
    "def get_rating(x):\n",
    "    x['rating'] = pd.cut(x['count'], 5, labels=[1,2,3,4,5], right=True)\n",
    "    return x"
   ]
  },
  {
   "cell_type": "code",
   "execution_count": 225,
   "metadata": {},
   "outputs": [],
   "source": [
    "train_user_song_count_df_first = train_user_song_count_df_first.groupby(\"userid\").apply(lambda x : get_rating(x))\n",
    "train_user_song_count_df_second = train_user_song_count_df_second.groupby(\"userid\").apply(lambda x : get_rating(x))\n",
    "train_user_song_count_df_third = train_user_song_count_df_third.groupby(\"userid\").apply(lambda x : get_rating(x))\n",
    "train_user_song_count_df_fourth = train_user_song_count_df_fourth.groupby(\"userid\").apply(lambda x : get_rating(x))\n",
    "\n",
    "test_user_song_count_df_first = test_user_song_count_df_first.groupby(\"userid\").apply(lambda x : get_rating(x))\n",
    "test_user_song_count_df_second = test_user_song_count_df_second.groupby(\"userid\").apply(lambda x : get_rating(x))\n",
    "test_user_song_count_df_third = test_user_song_count_df_third.groupby(\"userid\").apply(lambda x : get_rating(x))\n",
    "test_user_song_count_df_fourth = test_user_song_count_df_fourth.groupby(\"userid\").apply(lambda x : get_rating(x))"
   ]
  },
  {
   "cell_type": "code",
   "execution_count": 227,
   "metadata": {},
   "outputs": [
    {
     "data": {
      "text/html": [
       "<div>\n",
       "<style scoped>\n",
       "    .dataframe tbody tr th:only-of-type {\n",
       "        vertical-align: middle;\n",
       "    }\n",
       "\n",
       "    .dataframe tbody tr th {\n",
       "        vertical-align: top;\n",
       "    }\n",
       "\n",
       "    .dataframe thead th {\n",
       "        text-align: right;\n",
       "    }\n",
       "</style>\n",
       "<table border=\"1\" class=\"dataframe\">\n",
       "  <thead>\n",
       "    <tr style=\"text-align: right;\">\n",
       "      <th></th>\n",
       "      <th>userid</th>\n",
       "      <th>songid</th>\n",
       "      <th>count</th>\n",
       "      <th>rating</th>\n",
       "    </tr>\n",
       "  </thead>\n",
       "  <tbody>\n",
       "    <tr>\n",
       "      <td>0</td>\n",
       "      <td>1</td>\n",
       "      <td>10</td>\n",
       "      <td>1</td>\n",
       "      <td>1</td>\n",
       "    </tr>\n",
       "    <tr>\n",
       "      <td>1</td>\n",
       "      <td>1</td>\n",
       "      <td>171</td>\n",
       "      <td>1</td>\n",
       "      <td>1</td>\n",
       "    </tr>\n",
       "    <tr>\n",
       "      <td>2</td>\n",
       "      <td>1</td>\n",
       "      <td>203</td>\n",
       "      <td>1</td>\n",
       "      <td>1</td>\n",
       "    </tr>\n",
       "    <tr>\n",
       "      <td>3</td>\n",
       "      <td>1</td>\n",
       "      <td>398</td>\n",
       "      <td>1</td>\n",
       "      <td>1</td>\n",
       "    </tr>\n",
       "    <tr>\n",
       "      <td>4</td>\n",
       "      <td>1</td>\n",
       "      <td>409</td>\n",
       "      <td>1</td>\n",
       "      <td>1</td>\n",
       "    </tr>\n",
       "  </tbody>\n",
       "</table>\n",
       "</div>"
      ],
      "text/plain": [
       "   userid  songid  count rating\n",
       "0       1      10      1      1\n",
       "1       1     171      1      1\n",
       "2       1     203      1      1\n",
       "3       1     398      1      1\n",
       "4       1     409      1      1"
      ]
     },
     "execution_count": 227,
     "metadata": {},
     "output_type": "execute_result"
    }
   ],
   "source": [
    "train_user_song_count_df_fourth.head()"
   ]
  },
  {
   "cell_type": "code",
   "execution_count": 233,
   "metadata": {},
   "outputs": [],
   "source": [
    "train_user_song_count_df_first.drop(['count'], axis=1, inplace=True)\n",
    "train_user_song_count_df_second.drop(['count'], axis=1, inplace=True)\n",
    "train_user_song_count_df_third.drop(['count'], axis=1, inplace=True)\n",
    "train_user_song_count_df_fourth.drop(['count'], axis=1, inplace=True)\n",
    "\n",
    "test_user_song_count_df_first.drop(['count'], axis=1, inplace=True)\n",
    "test_user_song_count_df_second.drop(['count'], axis=1, inplace=True)\n",
    "test_user_song_count_df_third.drop(['count'], axis=1, inplace=True)\n",
    "test_user_song_count_df_fourth.drop(['count'], axis=1, inplace=True)"
   ]
  },
  {
   "cell_type": "code",
   "execution_count": 234,
   "metadata": {},
   "outputs": [
    {
     "data": {
      "text/html": [
       "<div>\n",
       "<style scoped>\n",
       "    .dataframe tbody tr th:only-of-type {\n",
       "        vertical-align: middle;\n",
       "    }\n",
       "\n",
       "    .dataframe tbody tr th {\n",
       "        vertical-align: top;\n",
       "    }\n",
       "\n",
       "    .dataframe thead th {\n",
       "        text-align: right;\n",
       "    }\n",
       "</style>\n",
       "<table border=\"1\" class=\"dataframe\">\n",
       "  <thead>\n",
       "    <tr style=\"text-align: right;\">\n",
       "      <th></th>\n",
       "      <th>userid</th>\n",
       "      <th>songid</th>\n",
       "      <th>rating</th>\n",
       "    </tr>\n",
       "  </thead>\n",
       "  <tbody>\n",
       "    <tr>\n",
       "      <td>0</td>\n",
       "      <td>1</td>\n",
       "      <td>10</td>\n",
       "      <td>2</td>\n",
       "    </tr>\n",
       "    <tr>\n",
       "      <td>1</td>\n",
       "      <td>1</td>\n",
       "      <td>27</td>\n",
       "      <td>4</td>\n",
       "    </tr>\n",
       "    <tr>\n",
       "      <td>2</td>\n",
       "      <td>1</td>\n",
       "      <td>43</td>\n",
       "      <td>1</td>\n",
       "    </tr>\n",
       "    <tr>\n",
       "      <td>3</td>\n",
       "      <td>1</td>\n",
       "      <td>91</td>\n",
       "      <td>1</td>\n",
       "    </tr>\n",
       "    <tr>\n",
       "      <td>4</td>\n",
       "      <td>1</td>\n",
       "      <td>137</td>\n",
       "      <td>2</td>\n",
       "    </tr>\n",
       "  </tbody>\n",
       "</table>\n",
       "</div>"
      ],
      "text/plain": [
       "   userid  songid rating\n",
       "0       1      10      2\n",
       "1       1      27      4\n",
       "2       1      43      1\n",
       "3       1      91      1\n",
       "4       1     137      2"
      ]
     },
     "execution_count": 234,
     "metadata": {},
     "output_type": "execute_result"
    }
   ],
   "source": [
    "train_user_song_count_df_first.head()"
   ]
  },
  {
   "cell_type": "code",
   "execution_count": 308,
   "metadata": {},
   "outputs": [],
   "source": [
    "train_user_song_count_df_first['rating'] = train_user_song_count_df_first['rating'].astype('int')\n",
    "train_user_song_count_df_second['rating'] = train_user_song_count_df_second['rating'].astype('int')\n",
    "train_user_song_count_df_third['rating'] = train_user_song_count_df_third['rating'].astype('int')\n",
    "train_user_song_count_df_fourth['rating'] = train_user_song_count_df_fourth['rating'].astype('int')\n",
    "\n",
    "test_user_song_count_df_first['rating'] = test_user_song_count_df_first['rating'].astype('int')\n",
    "test_user_song_count_df_second['rating'] = test_user_song_count_df_second['rating'].astype('int')\n",
    "test_user_song_count_df_third['rating'] = test_user_song_count_df_third['rating'].astype('int')\n",
    "test_user_song_count_df_fourth['rating'] = test_user_song_count_df_fourth['rating'].astype('int')"
   ]
  },
  {
   "cell_type": "code",
   "execution_count": 309,
   "metadata": {},
   "outputs": [
    {
     "data": {
      "text/html": [
       "<div>\n",
       "<style scoped>\n",
       "    .dataframe tbody tr th:only-of-type {\n",
       "        vertical-align: middle;\n",
       "    }\n",
       "\n",
       "    .dataframe tbody tr th {\n",
       "        vertical-align: top;\n",
       "    }\n",
       "\n",
       "    .dataframe thead th {\n",
       "        text-align: right;\n",
       "    }\n",
       "</style>\n",
       "<table border=\"1\" class=\"dataframe\">\n",
       "  <thead>\n",
       "    <tr style=\"text-align: right;\">\n",
       "      <th></th>\n",
       "      <th>userid</th>\n",
       "      <th>songid</th>\n",
       "      <th>rating</th>\n",
       "    </tr>\n",
       "  </thead>\n",
       "  <tbody>\n",
       "    <tr>\n",
       "      <td>0</td>\n",
       "      <td>1</td>\n",
       "      <td>10</td>\n",
       "      <td>2</td>\n",
       "    </tr>\n",
       "    <tr>\n",
       "      <td>1</td>\n",
       "      <td>1</td>\n",
       "      <td>27</td>\n",
       "      <td>4</td>\n",
       "    </tr>\n",
       "    <tr>\n",
       "      <td>2</td>\n",
       "      <td>1</td>\n",
       "      <td>43</td>\n",
       "      <td>1</td>\n",
       "    </tr>\n",
       "    <tr>\n",
       "      <td>3</td>\n",
       "      <td>1</td>\n",
       "      <td>91</td>\n",
       "      <td>1</td>\n",
       "    </tr>\n",
       "    <tr>\n",
       "      <td>4</td>\n",
       "      <td>1</td>\n",
       "      <td>137</td>\n",
       "      <td>2</td>\n",
       "    </tr>\n",
       "  </tbody>\n",
       "</table>\n",
       "</div>"
      ],
      "text/plain": [
       "   userid  songid  rating\n",
       "0       1      10       2\n",
       "1       1      27       4\n",
       "2       1      43       1\n",
       "3       1      91       1\n",
       "4       1     137       2"
      ]
     },
     "execution_count": 309,
     "metadata": {},
     "output_type": "execute_result"
    }
   ],
   "source": [
    "train_user_song_count_df_first.head()"
   ]
  },
  {
   "cell_type": "markdown",
   "metadata": {},
   "source": [
    "## *** Use these dataframes ***"
   ]
  },
  {
   "cell_type": "code",
   "execution_count": 101,
   "metadata": {},
   "outputs": [],
   "source": [
    "# train_user_song_count_df_first\n",
    "# train_user_song_count_df_second\n",
    "# train_user_song_count_df_third\n",
    "# train_user_song_count_df_fourth\n",
    "\n",
    "# test_user_song_count_df_first\n",
    "# test_user_song_count_df_second\n",
    "# test_user_song_count_df_third\n",
    "# test_user_song_count_df_fourth"
   ]
  },
  {
   "cell_type": "markdown",
   "metadata": {},
   "source": [
    "## Keras"
   ]
  },
  {
   "cell_type": "code",
   "execution_count": 237,
   "metadata": {},
   "outputs": [
    {
     "data": {
      "text/html": [
       "<div>\n",
       "<style scoped>\n",
       "    .dataframe tbody tr th:only-of-type {\n",
       "        vertical-align: middle;\n",
       "    }\n",
       "\n",
       "    .dataframe tbody tr th {\n",
       "        vertical-align: top;\n",
       "    }\n",
       "\n",
       "    .dataframe thead th {\n",
       "        text-align: right;\n",
       "    }\n",
       "</style>\n",
       "<table border=\"1\" class=\"dataframe\">\n",
       "  <thead>\n",
       "    <tr style=\"text-align: right;\">\n",
       "      <th></th>\n",
       "      <th>userid</th>\n",
       "      <th>songid</th>\n",
       "      <th>rating</th>\n",
       "    </tr>\n",
       "  </thead>\n",
       "  <tbody>\n",
       "    <tr>\n",
       "      <td>0</td>\n",
       "      <td>1</td>\n",
       "      <td>10</td>\n",
       "      <td>2</td>\n",
       "    </tr>\n",
       "    <tr>\n",
       "      <td>1</td>\n",
       "      <td>1</td>\n",
       "      <td>27</td>\n",
       "      <td>4</td>\n",
       "    </tr>\n",
       "    <tr>\n",
       "      <td>2</td>\n",
       "      <td>1</td>\n",
       "      <td>43</td>\n",
       "      <td>1</td>\n",
       "    </tr>\n",
       "    <tr>\n",
       "      <td>3</td>\n",
       "      <td>1</td>\n",
       "      <td>91</td>\n",
       "      <td>1</td>\n",
       "    </tr>\n",
       "    <tr>\n",
       "      <td>4</td>\n",
       "      <td>1</td>\n",
       "      <td>137</td>\n",
       "      <td>2</td>\n",
       "    </tr>\n",
       "  </tbody>\n",
       "</table>\n",
       "</div>"
      ],
      "text/plain": [
       "   userid  songid rating\n",
       "0       1      10      2\n",
       "1       1      27      4\n",
       "2       1      43      1\n",
       "3       1      91      1\n",
       "4       1     137      2"
      ]
     },
     "execution_count": 237,
     "metadata": {},
     "output_type": "execute_result"
    }
   ],
   "source": [
    "train_user_song_count_df_first.head()"
   ]
  },
  {
   "cell_type": "code",
   "execution_count": 238,
   "metadata": {},
   "outputs": [
    {
     "data": {
      "text/html": [
       "<div>\n",
       "<style scoped>\n",
       "    .dataframe tbody tr th:only-of-type {\n",
       "        vertical-align: middle;\n",
       "    }\n",
       "\n",
       "    .dataframe tbody tr th {\n",
       "        vertical-align: top;\n",
       "    }\n",
       "\n",
       "    .dataframe thead th {\n",
       "        text-align: right;\n",
       "    }\n",
       "</style>\n",
       "<table border=\"1\" class=\"dataframe\">\n",
       "  <thead>\n",
       "    <tr style=\"text-align: right;\">\n",
       "      <th></th>\n",
       "      <th>userid</th>\n",
       "      <th>songid</th>\n",
       "      <th>rating</th>\n",
       "    </tr>\n",
       "  </thead>\n",
       "  <tbody>\n",
       "    <tr>\n",
       "      <td>0</td>\n",
       "      <td>793</td>\n",
       "      <td>2</td>\n",
       "      <td>1</td>\n",
       "    </tr>\n",
       "    <tr>\n",
       "      <td>1</td>\n",
       "      <td>793</td>\n",
       "      <td>5</td>\n",
       "      <td>1</td>\n",
       "    </tr>\n",
       "    <tr>\n",
       "      <td>2</td>\n",
       "      <td>793</td>\n",
       "      <td>14</td>\n",
       "      <td>1</td>\n",
       "    </tr>\n",
       "    <tr>\n",
       "      <td>3</td>\n",
       "      <td>793</td>\n",
       "      <td>51</td>\n",
       "      <td>1</td>\n",
       "    </tr>\n",
       "    <tr>\n",
       "      <td>4</td>\n",
       "      <td>793</td>\n",
       "      <td>64</td>\n",
       "      <td>1</td>\n",
       "    </tr>\n",
       "  </tbody>\n",
       "</table>\n",
       "</div>"
      ],
      "text/plain": [
       "   userid  songid rating\n",
       "0     793       2      1\n",
       "1     793       5      1\n",
       "2     793      14      1\n",
       "3     793      51      1\n",
       "4     793      64      1"
      ]
     },
     "execution_count": 238,
     "metadata": {},
     "output_type": "execute_result"
    }
   ],
   "source": [
    "test_user_song_count_df_first.head()"
   ]
  },
  {
   "cell_type": "code",
   "execution_count": 332,
   "metadata": {},
   "outputs": [],
   "source": [
    "n_users = input_dataset['userid'].max()\n",
    "n_songs = len(train_user_song_count_df_first.songid.unique())"
   ]
  },
  {
   "cell_type": "code",
   "execution_count": 333,
   "metadata": {},
   "outputs": [
    {
     "name": "stdout",
     "output_type": "stream",
     "text": [
      "990\n",
      "4034\n"
     ]
    }
   ],
   "source": [
    "print(n_users)\n",
    "print(n_songs)"
   ]
  },
  {
   "cell_type": "markdown",
   "metadata": {},
   "source": [
    "### Creating dot product model"
   ]
  },
  {
   "cell_type": "code",
   "execution_count": 334,
   "metadata": {},
   "outputs": [],
   "source": [
    "# creating song embedding path\n",
    "songs_input = Input(shape=[1], name=\"Songs-Input\")\n",
    "song_embedding = Embedding(n_songs+1, 5, name=\"Songs-Embedding\")(songs_input)\n",
    "song_vec = Flatten(name=\"Flatten-Song\")(song_embedding)\n",
    "\n",
    "# creating user embedding path\n",
    "user_input = Input(shape=[1], name=\"User-Input\")\n",
    "user_embedding = Embedding(n_users+1, 5, name=\"User-Embedding\")(user_input)\n",
    "user_vec = Flatten(name=\"Flatten-Users\")(user_embedding)\n",
    "\n",
    "# performing dot product and creating model\n",
    "prod = Dot(name=\"Dot-Product\", axes=1)([song_vec, user_vec])\n",
    "model = Model([user_input, songs_input], prod)\n",
    "model.compile('adam', 'mean_squared_error')"
   ]
  },
  {
   "cell_type": "code",
   "execution_count": 335,
   "metadata": {},
   "outputs": [
    {
     "name": "stderr",
     "output_type": "stream",
     "text": [
      "/Users/akshayj/opt/anaconda3/lib/python3.7/site-packages/tensorflow_core/python/framework/indexed_slices.py:424: UserWarning: Converting sparse IndexedSlices to a dense Tensor of unknown shape. This may consume a large amount of memory.\n",
      "  \"Converting sparse IndexedSlices to a dense Tensor of unknown shape. \"\n"
     ]
    },
    {
     "name": "stdout",
     "output_type": "stream",
     "text": [
      "Epoch 1/5\n",
      "196612/196612 [==============================] - 5s 24us/step - loss: 0.9807\n",
      "Epoch 2/5\n",
      "196612/196612 [==============================] - 5s 23us/step - loss: 0.3622\n",
      "Epoch 3/5\n",
      "196612/196612 [==============================] - 5s 23us/step - loss: 0.3383\n",
      "Epoch 4/5\n",
      "196612/196612 [==============================] - 4s 22us/step - loss: 0.3296\n",
      "Epoch 5/5\n",
      "196612/196612 [==============================] - 4s 22us/step - loss: 0.3247\n"
     ]
    },
    {
     "data": {
      "text/plain": [
       "Text(0, 0.5, 'Training Error')"
      ]
     },
     "execution_count": 335,
     "metadata": {},
     "output_type": "execute_result"
    },
    {
     "data": {
      "image/png": "[encoded data removed]",
      "text/plain": [
       "<Figure size 432x288 with 1 Axes>"
      ]
     },
     "metadata": {
      "needs_background": "light"
     },
     "output_type": "display_data"
    }
   ],
   "source": [
    "from keras.models import load_model\n",
    "import os \n",
    "history = model.fit([train_user_song_count_df_first['userid'], train_user_song_count_df_first['songid']], train_user_song_count_df_first['rating'], epochs=5, verbose=1)\n",
    "model.save('regression_model.h5')\n",
    "plt.plot(history.history['loss'])\n",
    "plt.xlabel(\"Epochs\")\n",
    "plt.ylabel(\"Training Error\")"
   ]
  },
  {
   "cell_type": "code",
   "execution_count": 336,
   "metadata": {},
   "outputs": [],
   "source": [
    "# [0.00196864] 0.0\n",
    "# [-0.00012866] 0.002325581395348837\n",
    "# [-0.00186123] 0.002325581395348837\n",
    "# [-0.00570821] 0.002325581395348837\n",
    "# [0.00340688] 0.0\n",
    "# [-0.00189093] 0.0069767441860465115\n",
    "# [-0.00176162] 0.05116279069767442\n",
    "# [-0.004316] 0.002325581395348837\n",
    "# [-0.00244239] 0.0069767441860465115\n",
    "# [-0.00261529] 0.04186046511627907"
   ]
  },
  {
   "cell_type": "code",
   "execution_count": 337,
   "metadata": {},
   "outputs": [
    {
     "name": "stdout",
     "output_type": "stream",
     "text": [
      "[0.03420264] 1\n",
      "[0.03669845] 1\n",
      "[0.02740088] 1\n",
      "[0.03049977] 1\n",
      "[0.03300446] 1\n",
      "[0.0396337] 1\n",
      "[0.03225631] 4\n",
      "[0.03922938] 1\n",
      "[0.03719599] 1\n",
      "[0.04463234] 3\n"
     ]
    },
    {
     "data": {
      "text/plain": [
       "[None, None, None, None, None, None, None, None, None, None]"
      ]
     },
     "execution_count": 337,
     "metadata": {},
     "output_type": "execute_result"
    }
   ],
   "source": [
    "predictions = model.predict([test_user_song_count_df_first.userid.head(10), test_user_song_count_df_first.songid.head(10)])\n",
    "\n",
    "[print(predictions[i], test_user_song_count_df_first['rating'].iloc[i]) for i in range(0,10)]"
   ]
  },
  {
   "cell_type": "code",
   "execution_count": 380,
   "metadata": {},
   "outputs": [
    {
     "name": "stdout",
     "output_type": "stream",
     "text": [
      "51240/51240 [==============================] - 1s 10us/step\n"
     ]
    },
    {
     "data": {
      "text/plain": [
       "1.7292450973710263"
      ]
     },
     "execution_count": 380,
     "metadata": {},
     "output_type": "execute_result"
    }
   ],
   "source": [
    "model.evaluate([test_user_song_count_df_first.userid, test_user_song_count_df_first.songid], test_user_song_count_df_first.rating)\n"
   ]
  },
  {
   "cell_type": "code",
   "execution_count": 398,
   "metadata": {},
   "outputs": [],
   "source": [
    "# creating song embedding path\n",
    "songs_input = Input(shape=[1], name=\"Songs-Input\")\n",
    "songs_embedding = Embedding(n_songs+1, 5, name=\"Songs-Embedding\")(songs_input)\n",
    "songs_vec = Flatten(name=\"Flatten-Songs\")(songs_embedding)\n",
    "\n",
    "# creating user embedding path\n",
    "user_input = Input(shape=[1], name=\"User-Input\")\n",
    "user_embedding = Embedding(n_users+1, 5, name=\"User-Embedding\")(user_input)\n",
    "user_vec = Flatten(name=\"Flatten-Users\")(user_embedding)\n",
    "\n",
    "# concatenate features\n",
    "conc = Concatenate()([songs_vec, user_vec])\n",
    "\n",
    "# add fully-connected-layers\n",
    "fc1 = Dense(128, activation='relu')(conc)\n",
    "fc2 = Dense(32, activation='relu')(fc1)\n",
    "out = Dense(1)(fc2)\n",
    "\n",
    "# Create model and compile it\n",
    "model_1 = Model([user_input, songs_input], out)\n",
    "model_1.compile('adam', 'mean_squared_error')\n",
    "\n",
    "model_2 = Model([user_input, songs_input], out)\n",
    "model_2.compile('adam', 'mean_squared_error')\n",
    "\n",
    "model_3 = Model([user_input, songs_input], out)\n",
    "model_3.compile('adam', 'mean_squared_error')\n",
    "\n",
    "model_4 = Model([user_input, songs_input], out)\n",
    "model_4.compile('adam', 'mean_squared_error')"
   ]
  },
  {
   "cell_type": "code",
   "execution_count": 399,
   "metadata": {},
   "outputs": [
    {
     "name": "stderr",
     "output_type": "stream",
     "text": [
      "/Users/akshayj/opt/anaconda3/lib/python3.7/site-packages/tensorflow_core/python/framework/indexed_slices.py:424: UserWarning: Converting sparse IndexedSlices to a dense Tensor of unknown shape. This may consume a large amount of memory.\n",
      "  \"Converting sparse IndexedSlices to a dense Tensor of unknown shape. \"\n"
     ]
    },
    {
     "name": "stdout",
     "output_type": "stream",
     "text": [
      "Epoch 1/5\n",
      "196612/196612 [==============================] - 6s 32us/step - loss: 0.3443\n",
      "Epoch 2/5\n",
      "196612/196612 [==============================] - 6s 30us/step - loss: 0.3239\n",
      "Epoch 3/5\n",
      "196612/196612 [==============================] - 6s 30us/step - loss: 0.3124\n",
      "Epoch 4/5\n",
      "196612/196612 [==============================] - 6s 30us/step - loss: 0.3011\n",
      "Epoch 5/5\n",
      "196612/196612 [==============================] - 6s 30us/step - loss: 0.2922\n"
     ]
    },
    {
     "name": "stderr",
     "output_type": "stream",
     "text": [
      "/Users/akshayj/opt/anaconda3/lib/python3.7/site-packages/tensorflow_core/python/framework/indexed_slices.py:424: UserWarning: Converting sparse IndexedSlices to a dense Tensor of unknown shape. This may consume a large amount of memory.\n",
      "  \"Converting sparse IndexedSlices to a dense Tensor of unknown shape. \"\n"
     ]
    },
    {
     "name": "stdout",
     "output_type": "stream",
     "text": [
      "Epoch 1/5\n",
      "204207/204207 [==============================] - 6s 31us/step - loss: 0.3153\n",
      "Epoch 2/5\n",
      "204207/204207 [==============================] - 6s 30us/step - loss: 0.3007\n",
      "Epoch 3/5\n",
      "204207/204207 [==============================] - 6s 30us/step - loss: 0.2900\n",
      "Epoch 4/5\n",
      "204207/204207 [==============================] - 6s 29us/step - loss: 0.2809\n",
      "Epoch 5/5\n",
      "204207/204207 [==============================] - 6s 29us/step - loss: 0.2718\n"
     ]
    },
    {
     "name": "stderr",
     "output_type": "stream",
     "text": [
      "/Users/akshayj/opt/anaconda3/lib/python3.7/site-packages/tensorflow_core/python/framework/indexed_slices.py:424: UserWarning: Converting sparse IndexedSlices to a dense Tensor of unknown shape. This may consume a large amount of memory.\n",
      "  \"Converting sparse IndexedSlices to a dense Tensor of unknown shape. \"\n"
     ]
    },
    {
     "name": "stdout",
     "output_type": "stream",
     "text": [
      "Epoch 1/5\n",
      "293210/293210 [==============================] - 9s 31us/step - loss: 0.2890\n",
      "Epoch 2/5\n",
      "293210/293210 [==============================] - 9s 31us/step - loss: 0.2774\n",
      "Epoch 3/5\n",
      "293210/293210 [==============================] - 9s 31us/step - loss: 0.2683\n",
      "Epoch 4/5\n",
      "293210/293210 [==============================] - 9s 32us/step - loss: 0.2601\n",
      "Epoch 5/5\n",
      "293210/293210 [==============================] - 9s 31us/step - loss: 0.2538\n"
     ]
    },
    {
     "name": "stderr",
     "output_type": "stream",
     "text": [
      "/Users/akshayj/opt/anaconda3/lib/python3.7/site-packages/tensorflow_core/python/framework/indexed_slices.py:424: UserWarning: Converting sparse IndexedSlices to a dense Tensor of unknown shape. This may consume a large amount of memory.\n",
      "  \"Converting sparse IndexedSlices to a dense Tensor of unknown shape. \"\n"
     ]
    },
    {
     "name": "stdout",
     "output_type": "stream",
     "text": [
      "Epoch 1/5\n",
      "306899/306899 [==============================] - 10s 31us/step - loss: 0.2728\n",
      "Epoch 2/5\n",
      "306899/306899 [==============================] - 9s 31us/step - loss: 0.2623\n",
      "Epoch 3/5\n",
      "306899/306899 [==============================] - 9s 31us/step - loss: 0.2539\n",
      "Epoch 4/5\n",
      "306899/306899 [==============================] - 9s 31us/step - loss: 0.2475\n",
      "Epoch 5/5\n",
      "306899/306899 [==============================] - 9s 31us/step - loss: 0.2427\n"
     ]
    },
    {
     "data": {
      "text/plain": [
       "Text(0, 0.5, 'Training Error')"
      ]
     },
     "execution_count": 399,
     "metadata": {},
     "output_type": "execute_result"
    },
    {
     "data": {
      "image/png": "[encoded data removed]",
      "text/plain": [
       "<Figure size 432x288 with 1 Axes>"
      ]
     },
     "metadata": {
      "needs_background": "light"
     },
     "output_type": "display_data"
    }
   ],
   "source": [
    "from keras.models import load_model\n",
    "\n",
    "history = model_1.fit([train_user_song_count_df_first['userid'], train_user_song_count_df_first['songid']], train_user_song_count_df_first['rating'], epochs=5, verbose=1, shuffle=False)\n",
    "model_1.save('regression_model_1.h5')\n",
    "plt.plot(history.history['loss'])\n",
    "plt.xlabel(\"Epochs\")\n",
    "plt.ylabel(\"Training Error\")\n",
    "\n",
    "history = model_2.fit([train_user_song_count_df_second['userid'], train_user_song_count_df_second['songid']], train_user_song_count_df_second['rating'], epochs=5, verbose=1, shuffle=False)\n",
    "model_2.save('regression_model_2.h5')\n",
    "plt.plot(history.history['loss'])\n",
    "plt.xlabel(\"Epochs\")\n",
    "plt.ylabel(\"Training Error\")\n",
    "\n",
    "history = model_3.fit([train_user_song_count_df_third['userid'], train_user_song_count_df_third['songid']], train_user_song_count_df_third['rating'], epochs=5, verbose=1, shuffle=False)\n",
    "model_3.save('regression_model_3.h5')\n",
    "plt.plot(history.history['loss'])\n",
    "plt.xlabel(\"Epochs\")\n",
    "plt.ylabel(\"Training Error\")\n",
    "\n",
    "history = model_4.fit([train_user_song_count_df_fourth['userid'], train_user_song_count_df_fourth['songid']], train_user_song_count_df_fourth['rating'], epochs=5, verbose=1, shuffle=False)\n",
    "model_4.save('regression_model_4.h5')\n",
    "plt.plot(history.history['loss'])\n",
    "plt.xlabel(\"Epochs\")\n",
    "plt.ylabel(\"Training Error\")"
   ]
  },
  {
   "cell_type": "code",
   "execution_count": 400,
   "metadata": {},
   "outputs": [
    {
     "name": "stdout",
     "output_type": "stream",
     "text": [
      "51240/51240 [==============================] - 1s 11us/step\n",
      "Slot 1 RMSE : 0.35050526212240735\n",
      "54255/54255 [==============================] - 1s 12us/step\n",
      "Slot 2 RMSE : 0.3596928691899169\n",
      "70612/70612 [==============================] - 1s 12us/step\n",
      "Slot 3 RMSE : 0.32899121536226955\n",
      "72669/72669 [==============================] - 1s 11us/step\n",
      "Slot 4 RMSE : 0.34086530805651166\n"
     ]
    }
   ],
   "source": [
    "print('Slot 1 RMSE : ' + str(model_1.evaluate([test_user_song_count_df_first.userid, test_user_song_count_df_first.songid], test_user_song_count_df_first.rating)))\n",
    "print('Slot 2 RMSE : ' + str(model_2.evaluate([test_user_song_count_df_second.userid, test_user_song_count_df_second.songid], test_user_song_count_df_second.rating)))\n",
    "print('Slot 3 RMSE : ' + str(model_3.evaluate([test_user_song_count_df_third.userid, test_user_song_count_df_third.songid], test_user_song_count_df_third.rating)))\n",
    "print('Slot 4 RMSE : ' + str(model_4.evaluate([test_user_song_count_df_fourth.userid, test_user_song_count_df_fourth.songid], test_user_song_count_df_fourth.rating)))\n"
   ]
  },
  {
   "cell_type": "code",
   "execution_count": null,
   "metadata": {},
   "outputs": [],
   "source": []
  },
  {
   "cell_type": "markdown",
   "metadata": {},
   "source": [
    "## Prediction"
   ]
  },
  {
   "cell_type": "code",
   "execution_count": 414,
   "metadata": {},
   "outputs": [
    {
     "name": "stdout",
     "output_type": "stream",
     "text": [
      "CPU times: user 18min 43s, sys: 16.5 s, total: 18min 59s\n",
      "Wall time: 18min 27s\n"
     ]
    }
   ],
   "source": [
    "%%time\n",
    "test_set = [test_user_song_count_df_first, test_user_song_count_df_second, test_user_song_count_df_third, test_user_song_count_df_fourth]\n",
    "model_set = [model_1, model_2, model_3, model_4]\n",
    "output_list = []\n",
    "# predict using test data\n",
    "results = []\n",
    "for item, model in zip(test_set, model_set):\n",
    "    output = pd.DataFrame(columns = ['userid', 'songid','rating'])\n",
    "    for index, row in item.iterrows():\n",
    "        predictions = model.predict([[row['userid']], [[row['songid']]]])\n",
    "        predicted_rating = predictions[0][0]\n",
    "#         recommended_song_ids = (-predictions).argsort()[:10]\n",
    "#         recommended_song_ids\n",
    "#         prediction = algo.predict(row['userid'], row['songid'], verbose=False)\n",
    "#         predicted_rating = prediction.est\n",
    "        output = output.append(pd.Series([str(row['userid']), str(row['songid']), predicted_rating], index=output.columns), ignore_index=True)\n",
    "    output_list.append(output)"
   ]
  },
  {
   "cell_type": "code",
   "execution_count": 415,
   "metadata": {},
   "outputs": [
    {
     "data": {
      "text/html": [
       "<div>\n",
       "<style scoped>\n",
       "    .dataframe tbody tr th:only-of-type {\n",
       "        vertical-align: middle;\n",
       "    }\n",
       "\n",
       "    .dataframe tbody tr th {\n",
       "        vertical-align: top;\n",
       "    }\n",
       "\n",
       "    .dataframe thead th {\n",
       "        text-align: right;\n",
       "    }\n",
       "</style>\n",
       "<table border=\"1\" class=\"dataframe\">\n",
       "  <thead>\n",
       "    <tr style=\"text-align: right;\">\n",
       "      <th></th>\n",
       "      <th>userid</th>\n",
       "      <th>songid</th>\n",
       "      <th>rating</th>\n",
       "    </tr>\n",
       "  </thead>\n",
       "  <tbody>\n",
       "    <tr>\n",
       "      <td>0</td>\n",
       "      <td>793</td>\n",
       "      <td>2</td>\n",
       "      <td>1.867255</td>\n",
       "    </tr>\n",
       "    <tr>\n",
       "      <td>1</td>\n",
       "      <td>793</td>\n",
       "      <td>5</td>\n",
       "      <td>1.147377</td>\n",
       "    </tr>\n",
       "    <tr>\n",
       "      <td>2</td>\n",
       "      <td>793</td>\n",
       "      <td>14</td>\n",
       "      <td>1.256216</td>\n",
       "    </tr>\n",
       "    <tr>\n",
       "      <td>3</td>\n",
       "      <td>793</td>\n",
       "      <td>51</td>\n",
       "      <td>1.124850</td>\n",
       "    </tr>\n",
       "    <tr>\n",
       "      <td>4</td>\n",
       "      <td>793</td>\n",
       "      <td>64</td>\n",
       "      <td>1.225819</td>\n",
       "    </tr>\n",
       "    <tr>\n",
       "      <td>...</td>\n",
       "      <td>...</td>\n",
       "      <td>...</td>\n",
       "      <td>...</td>\n",
       "    </tr>\n",
       "    <tr>\n",
       "      <td>51235</td>\n",
       "      <td>990</td>\n",
       "      <td>4024</td>\n",
       "      <td>1.186832</td>\n",
       "    </tr>\n",
       "    <tr>\n",
       "      <td>51236</td>\n",
       "      <td>990</td>\n",
       "      <td>4025</td>\n",
       "      <td>1.601822</td>\n",
       "    </tr>\n",
       "    <tr>\n",
       "      <td>51237</td>\n",
       "      <td>990</td>\n",
       "      <td>4027</td>\n",
       "      <td>1.154954</td>\n",
       "    </tr>\n",
       "    <tr>\n",
       "      <td>51238</td>\n",
       "      <td>990</td>\n",
       "      <td>4030</td>\n",
       "      <td>1.259014</td>\n",
       "    </tr>\n",
       "    <tr>\n",
       "      <td>51239</td>\n",
       "      <td>990</td>\n",
       "      <td>4033</td>\n",
       "      <td>1.636558</td>\n",
       "    </tr>\n",
       "  </tbody>\n",
       "</table>\n",
       "<p>51240 rows × 3 columns</p>\n",
       "</div>"
      ],
      "text/plain": [
       "      userid songid    rating\n",
       "0        793      2  1.867255\n",
       "1        793      5  1.147377\n",
       "2        793     14  1.256216\n",
       "3        793     51  1.124850\n",
       "4        793     64  1.225819\n",
       "...      ...    ...       ...\n",
       "51235    990   4024  1.186832\n",
       "51236    990   4025  1.601822\n",
       "51237    990   4027  1.154954\n",
       "51238    990   4030  1.259014\n",
       "51239    990   4033  1.636558\n",
       "\n",
       "[51240 rows x 3 columns]"
      ]
     },
     "execution_count": 415,
     "metadata": {},
     "output_type": "execute_result"
    }
   ],
   "source": [
    "output_list[0]"
   ]
  },
  {
   "cell_type": "markdown",
   "metadata": {},
   "source": [
    "## Calculate precision"
   ]
  },
  {
   "cell_type": "code",
   "execution_count": 601,
   "metadata": {},
   "outputs": [],
   "source": [
    "def calculate_precision(actual, prediction):\n",
    "    mean = actual['rating'].mean()\n",
    "    relevant = set(np.array(actual[actual['rating']>=(mean/1.3)]['songid'].astype('int')))\n",
    "    recommended = set(np.array(prediction.nlargest(30, ['rating'])['songid'].astype('int')))\n",
    "    precision = len(recommended & relevant)/len(recommended)\n",
    "    return precision"
   ]
  },
  {
   "cell_type": "markdown",
   "metadata": {},
   "source": [
    "## Calculate Recall"
   ]
  },
  {
   "cell_type": "code",
   "execution_count": 602,
   "metadata": {},
   "outputs": [],
   "source": [
    "def calculate_recall(actual, prediction):\n",
    "    mean = actual['rating'].mean()\n",
    "    relevant = set(np.array(actual[actual['rating']>=(mean/1.3)]['songid'].astype('int')))\n",
    "    recommended = set(np.array(prediction.nlargest(30, ['rating'])['songid'].astype('int')))\n",
    "    if len(relevant) == 0:\n",
    "        recall = 0\n",
    "    else:\n",
    "        recall = len(recommended & relevant)/len(relevant)\n",
    "    return recall"
   ]
  },
  {
   "cell_type": "markdown",
   "metadata": {},
   "source": [
    "## Evaluation"
   ]
  },
  {
   "cell_type": "code",
   "execution_count": 603,
   "metadata": {},
   "outputs": [],
   "source": [
    "def evaluation(actual, predictions):\n",
    "    precision_sum = 0\n",
    "    recall_sum = 0\n",
    "    actual_grouped_by_user = actual.groupby('userid') \n",
    "    predictions_grouped_by_user = predictions.groupby('userid')\n",
    "    number_of_users = len(actual_grouped_by_user)\n",
    "    actual_key_list = actual_grouped_by_user.groups.keys()\n",
    "#     number_of_users *= 0.5\n",
    "    actual_val_list = []\n",
    "    for item in actual_key_list:\n",
    "        actual_val_list.append(actual_grouped_by_user.get_group(item))\n",
    "        \n",
    "    predictions_key_list = predictions_grouped_by_user.groups.keys()\n",
    "    predictions_val_list = []\n",
    "    for item in predictions_key_list:\n",
    "        predictions_val_list.append(predictions_grouped_by_user.get_group(item))    \n",
    "    for actual_group, pred_group in zip(actual_val_list, predictions_val_list):\n",
    "        precision_sum += calculate_precision(actual_group, pred_group)\n",
    "        recall_sum += calculate_recall(actual_group, pred_group)\n",
    "    precision = precision_sum/number_of_users\n",
    "    recall = recall_sum/number_of_users\n",
    "    return precision, recall"
   ]
  },
  {
   "cell_type": "code",
   "execution_count": 604,
   "metadata": {},
   "outputs": [],
   "source": [
    "precision_list = []\n",
    "recall_list = []\n",
    "for actual_df, prediction_df in zip(test_set, output_list):\n",
    "    precision, recall = evaluation(actual_df, prediction_df)\n",
    "    precision_list.append(precision)\n",
    "    recall_list.append(recall)\n",
    "    "
   ]
  },
  {
   "cell_type": "code",
   "execution_count": 605,
   "metadata": {},
   "outputs": [
    {
     "data": {
      "text/plain": [
       "[0.8034861311960265,\n",
       " 0.8155454425401235,\n",
       " 0.8303661100555848,\n",
       " 0.8627277155774566]"
      ]
     },
     "execution_count": 605,
     "metadata": {},
     "output_type": "execute_result"
    }
   ],
   "source": [
    "precision_list"
   ]
  },
  {
   "cell_type": "code",
   "execution_count": 606,
   "metadata": {},
   "outputs": [
    {
     "data": {
      "text/plain": [
       "[0.4039593076661162,\n",
       " 0.3170775298623393,\n",
       " 0.22937320203114045,\n",
       " 0.23724851503904415]"
      ]
     },
     "execution_count": 606,
     "metadata": {},
     "output_type": "execute_result"
    }
   ],
   "source": [
    "recall_list"
   ]
  },
  {
   "cell_type": "code",
   "execution_count": 607,
   "metadata": {},
   "outputs": [],
   "source": [
    "f1_list = []\n",
    "for i in range(4):\n",
    "    f1_list.append((2*precision_list[i]*recall_list[i])/(precision_list[i]+recall_list[i]))"
   ]
  },
  {
   "cell_type": "code",
   "execution_count": 608,
   "metadata": {},
   "outputs": [
    {
     "data": {
      "text/plain": [
       "[0.5376237978639311,\n",
       " 0.4566235026340676,\n",
       " 0.3594539361695491,\n",
       " 0.3721550770039121]"
      ]
     },
     "execution_count": 608,
     "metadata": {},
     "output_type": "execute_result"
    }
   ],
   "source": [
    "f1_list"
   ]
  },
  {
   "cell_type": "markdown",
   "metadata": {},
   "source": [
    "## Plot bar graph"
   ]
  },
  {
   "cell_type": "code",
   "execution_count": 613,
   "metadata": {},
   "outputs": [],
   "source": [
    "def plot_bar(label, x_label, y_label, title, values):\n",
    "    # this is for plotting purpose\n",
    "    index = np.arange(len(label))\n",
    "    plt.bar(index, values)\n",
    "    plt.ylim(top=1)    \n",
    "    plt.xlabel(x_label, fontsize=10)\n",
    "    plt.ylabel(y_label, fontsize=10)\n",
    "    plt.xticks(index, label, fontsize=10, rotation=0)\n",
    "    plt.title(title)\n",
    "    plt.show()"
   ]
  },
  {
   "cell_type": "code",
   "execution_count": 614,
   "metadata": {},
   "outputs": [
    {
     "data": {
      "image/png": "[encoded data removed]",
      "text/plain": [
       "<Figure size 432x288 with 1 Axes>"
      ]
     },
     "metadata": {
      "needs_background": "light"
     },
     "output_type": "display_data"
    }
   ],
   "source": [
    "label = [i for i in range(len(precision_list))]\n",
    "plot_bar(label, 'Slots', 'Precision', 'Precision for each slot', precision_list)"
   ]
  },
  {
   "cell_type": "code",
   "execution_count": 615,
   "metadata": {},
   "outputs": [
    {
     "data": {
      "image/png": "[encoded data removed]",
      "text/plain": [
       "<Figure size 432x288 with 1 Axes>"
      ]
     },
     "metadata": {
      "needs_background": "light"
     },
     "output_type": "display_data"
    }
   ],
   "source": [
    "label = [i for i in range(len(recall_list))]\n",
    "plot_bar(label, 'Slots', 'Recall', 'Recall for each slot', recall_list)"
   ]
  },
  {
   "cell_type": "code",
   "execution_count": 616,
   "metadata": {},
   "outputs": [
    {
     "data": {
      "image/png": "[encoded data removed]",
      "text/plain": [
       "<Figure size 432x288 with 1 Axes>"
      ]
     },
     "metadata": {
      "needs_background": "light"
     },
     "output_type": "display_data"
    }
   ],
   "source": [
    "label = [i for i in range(len(f1_list))]\n",
    "plot_bar(label, 'Slots', 'F1 score', 'F1 score for each slot', f1_list)"
   ]
  },
  {
   "cell_type": "code",
   "execution_count": null,
   "metadata": {},
   "outputs": [],
   "source": []
  },
  {
   "cell_type": "code",
   "execution_count": null,
   "metadata": {},
   "outputs": [],
   "source": []
  },
  {
   "cell_type": "code",
   "execution_count": null,
   "metadata": {},
   "outputs": [],
   "source": []
  }
 ],
 "metadata": {
  "kernelspec": {
   "display_name": "Python 3",
   "language": "python",
   "name": "python3"
  },
  "language_info": {
   "codemirror_mode": {
    "name": "ipython",
    "version": 3
   },
   "file_extension": ".py",
   "mimetype": "text/x-python",
   "name": "python",
   "nbconvert_exporter": "python",
   "pygments_lexer": "ipython3",
   "version": "3.7.4"
  }
 },
 "nbformat": 4,
 "nbformat_minor": 2
}
