{
 "cells": [
  {
   "cell_type": "code",
   "execution_count": 12,
   "metadata": {},
   "outputs": [
    {
     "name": "stderr",
     "output_type": "stream",
     "text": [
      "Using TensorFlow backend.\n"
     ]
    }
   ],
   "source": [
    "# import the usual\n",
    "import matplotlib.pyplot as plt\n",
    "import pandas as pd\n",
    "import seaborn as sns\n",
    "import numpy as np\n",
    "import hashlib \n",
    "import datetime\n",
    "import surprise\n",
    "from keras.layers import Input, Embedding, Flatten, Dot, Dense, Concatenate\n",
    "from keras.models import Model\n",
    "from surprise import SVD\n",
    "from sklearn import preprocessing\n",
    "%matplotlib inline\n",
    "pd.set_option('display.max_columns', 500)"
   ]
  },
  {
   "cell_type": "markdown",
   "metadata": {},
   "source": [
    "### LastFm Data Loading"
   ]
  },
  {
   "cell_type": "code",
   "execution_count": 23,
   "metadata": {},
   "outputs": [
    {
     "name": "stderr",
     "output_type": "stream",
     "text": [
      "b'Skipping line 2120260: expected 6 fields, saw 8\\n'\n",
      "b'Skipping line 2446318: expected 6 fields, saw 8\\n'\n",
      "b'Skipping line 11141081: expected 6 fields, saw 8\\n'\n",
      "b'Skipping line 11152099: expected 6 fields, saw 12\\nSkipping line 11152402: expected 6 fields, saw 8\\n'\n",
      "b'Skipping line 11882087: expected 6 fields, saw 8\\n'\n",
      "b'Skipping line 12902539: expected 6 fields, saw 8\\nSkipping line 12935044: expected 6 fields, saw 8\\n'\n",
      "b'Skipping line 17589539: expected 6 fields, saw 8\\n'\n"
     ]
    },
    {
     "name": "stdout",
     "output_type": "stream",
     "text": [
      "CPU times: user 31.9 s, sys: 4.95 s, total: 36.8 s\n",
      "Wall time: 38.3 s\n"
     ]
    }
   ],
   "source": [
    "%%time\n",
    "df = pd.read_csv(\"../../../Dataset/lastfm/userid-timestamp-artid-artname-traid-traname.tsv\", sep=\"\\t\", error_bad_lines=False, header = None)"
   ]
  },
  {
   "cell_type": "code",
   "execution_count": 24,
   "metadata": {},
   "outputs": [],
   "source": [
    "df.columns = ['userid', 'timestamp', 'artistid', 'artist', '1', 'song']"
   ]
  },
  {
   "cell_type": "code",
   "execution_count": 25,
   "metadata": {},
   "outputs": [
    {
     "data": {
      "text/html": [
       "<div>\n",
       "<style scoped>\n",
       "    .dataframe tbody tr th:only-of-type {\n",
       "        vertical-align: middle;\n",
       "    }\n",
       "\n",
       "    .dataframe tbody tr th {\n",
       "        vertical-align: top;\n",
       "    }\n",
       "\n",
       "    .dataframe thead th {\n",
       "        text-align: right;\n",
       "    }\n",
       "</style>\n",
       "<table border=\"1\" class=\"dataframe\">\n",
       "  <thead>\n",
       "    <tr style=\"text-align: right;\">\n",
       "      <th></th>\n",
       "      <th>userid</th>\n",
       "      <th>timestamp</th>\n",
       "      <th>artistid</th>\n",
       "      <th>artist</th>\n",
       "      <th>1</th>\n",
       "      <th>song</th>\n",
       "    </tr>\n",
       "  </thead>\n",
       "  <tbody>\n",
       "    <tr>\n",
       "      <td>0</td>\n",
       "      <td>user_000001</td>\n",
       "      <td>2009-05-04T23:08:57Z</td>\n",
       "      <td>f1b1cf71-bd35-4e99-8624-24a6e15f133a</td>\n",
       "      <td>Deep Dish</td>\n",
       "      <td>NaN</td>\n",
       "      <td>Fuck Me Im Famous (Pacha Ibiza)-09-28-2007</td>\n",
       "    </tr>\n",
       "    <tr>\n",
       "      <td>1</td>\n",
       "      <td>user_000001</td>\n",
       "      <td>2009-05-04T13:54:10Z</td>\n",
       "      <td>a7f7df4a-77d8-4f12-8acd-5c60c93f4de8</td>\n",
       "      <td>坂本龍一</td>\n",
       "      <td>NaN</td>\n",
       "      <td>Composition 0919 (Live_2009_4_15)</td>\n",
       "    </tr>\n",
       "    <tr>\n",
       "      <td>2</td>\n",
       "      <td>user_000001</td>\n",
       "      <td>2009-05-04T13:52:04Z</td>\n",
       "      <td>a7f7df4a-77d8-4f12-8acd-5c60c93f4de8</td>\n",
       "      <td>坂本龍一</td>\n",
       "      <td>NaN</td>\n",
       "      <td>Mc2 (Live_2009_4_15)</td>\n",
       "    </tr>\n",
       "    <tr>\n",
       "      <td>3</td>\n",
       "      <td>user_000001</td>\n",
       "      <td>2009-05-04T13:42:52Z</td>\n",
       "      <td>a7f7df4a-77d8-4f12-8acd-5c60c93f4de8</td>\n",
       "      <td>坂本龍一</td>\n",
       "      <td>NaN</td>\n",
       "      <td>Hibari (Live_2009_4_15)</td>\n",
       "    </tr>\n",
       "    <tr>\n",
       "      <td>4</td>\n",
       "      <td>user_000001</td>\n",
       "      <td>2009-05-04T13:42:11Z</td>\n",
       "      <td>a7f7df4a-77d8-4f12-8acd-5c60c93f4de8</td>\n",
       "      <td>坂本龍一</td>\n",
       "      <td>NaN</td>\n",
       "      <td>Mc1 (Live_2009_4_15)</td>\n",
       "    </tr>\n",
       "  </tbody>\n",
       "</table>\n",
       "</div>"
      ],
      "text/plain": [
       "        userid             timestamp                              artistid  \\\n",
       "0  user_000001  2009-05-04T23:08:57Z  f1b1cf71-bd35-4e99-8624-24a6e15f133a   \n",
       "1  user_000001  2009-05-04T13:54:10Z  a7f7df4a-77d8-4f12-8acd-5c60c93f4de8   \n",
       "2  user_000001  2009-05-04T13:52:04Z  a7f7df4a-77d8-4f12-8acd-5c60c93f4de8   \n",
       "3  user_000001  2009-05-04T13:42:52Z  a7f7df4a-77d8-4f12-8acd-5c60c93f4de8   \n",
       "4  user_000001  2009-05-04T13:42:11Z  a7f7df4a-77d8-4f12-8acd-5c60c93f4de8   \n",
       "\n",
       "      artist    1                                        song  \n",
       "0  Deep Dish  NaN  Fuck Me Im Famous (Pacha Ibiza)-09-28-2007  \n",
       "1       坂本龍一  NaN           Composition 0919 (Live_2009_4_15)  \n",
       "2       坂本龍一  NaN                        Mc2 (Live_2009_4_15)  \n",
       "3       坂本龍一  NaN                     Hibari (Live_2009_4_15)  \n",
       "4       坂本龍一  NaN                        Mc1 (Live_2009_4_15)  "
      ]
     },
     "execution_count": 25,
     "metadata": {},
     "output_type": "execute_result"
    }
   ],
   "source": [
    "df.head()"
   ]
  },
  {
   "cell_type": "code",
   "execution_count": 26,
   "metadata": {},
   "outputs": [],
   "source": [
    "df['time'] = pd.to_datetime(df['timestamp'])\n",
    "df.drop(['timestamp'], axis=1, inplace=True)"
   ]
  },
  {
   "cell_type": "code",
   "execution_count": 27,
   "metadata": {},
   "outputs": [
    {
     "data": {
      "text/html": [
       "<div>\n",
       "<style scoped>\n",
       "    .dataframe tbody tr th:only-of-type {\n",
       "        vertical-align: middle;\n",
       "    }\n",
       "\n",
       "    .dataframe tbody tr th {\n",
       "        vertical-align: top;\n",
       "    }\n",
       "\n",
       "    .dataframe thead th {\n",
       "        text-align: right;\n",
       "    }\n",
       "</style>\n",
       "<table border=\"1\" class=\"dataframe\">\n",
       "  <thead>\n",
       "    <tr style=\"text-align: right;\">\n",
       "      <th></th>\n",
       "      <th>userid</th>\n",
       "      <th>artistid</th>\n",
       "      <th>artist</th>\n",
       "      <th>1</th>\n",
       "      <th>song</th>\n",
       "      <th>time</th>\n",
       "    </tr>\n",
       "  </thead>\n",
       "  <tbody>\n",
       "    <tr>\n",
       "      <td>0</td>\n",
       "      <td>user_000001</td>\n",
       "      <td>f1b1cf71-bd35-4e99-8624-24a6e15f133a</td>\n",
       "      <td>Deep Dish</td>\n",
       "      <td>NaN</td>\n",
       "      <td>Fuck Me Im Famous (Pacha Ibiza)-09-28-2007</td>\n",
       "      <td>2009-05-04 23:08:57+00:00</td>\n",
       "    </tr>\n",
       "    <tr>\n",
       "      <td>1</td>\n",
       "      <td>user_000001</td>\n",
       "      <td>a7f7df4a-77d8-4f12-8acd-5c60c93f4de8</td>\n",
       "      <td>坂本龍一</td>\n",
       "      <td>NaN</td>\n",
       "      <td>Composition 0919 (Live_2009_4_15)</td>\n",
       "      <td>2009-05-04 13:54:10+00:00</td>\n",
       "    </tr>\n",
       "    <tr>\n",
       "      <td>2</td>\n",
       "      <td>user_000001</td>\n",
       "      <td>a7f7df4a-77d8-4f12-8acd-5c60c93f4de8</td>\n",
       "      <td>坂本龍一</td>\n",
       "      <td>NaN</td>\n",
       "      <td>Mc2 (Live_2009_4_15)</td>\n",
       "      <td>2009-05-04 13:52:04+00:00</td>\n",
       "    </tr>\n",
       "    <tr>\n",
       "      <td>3</td>\n",
       "      <td>user_000001</td>\n",
       "      <td>a7f7df4a-77d8-4f12-8acd-5c60c93f4de8</td>\n",
       "      <td>坂本龍一</td>\n",
       "      <td>NaN</td>\n",
       "      <td>Hibari (Live_2009_4_15)</td>\n",
       "      <td>2009-05-04 13:42:52+00:00</td>\n",
       "    </tr>\n",
       "    <tr>\n",
       "      <td>4</td>\n",
       "      <td>user_000001</td>\n",
       "      <td>a7f7df4a-77d8-4f12-8acd-5c60c93f4de8</td>\n",
       "      <td>坂本龍一</td>\n",
       "      <td>NaN</td>\n",
       "      <td>Mc1 (Live_2009_4_15)</td>\n",
       "      <td>2009-05-04 13:42:11+00:00</td>\n",
       "    </tr>\n",
       "  </tbody>\n",
       "</table>\n",
       "</div>"
      ],
      "text/plain": [
       "        userid                              artistid     artist    1  \\\n",
       "0  user_000001  f1b1cf71-bd35-4e99-8624-24a6e15f133a  Deep Dish  NaN   \n",
       "1  user_000001  a7f7df4a-77d8-4f12-8acd-5c60c93f4de8       坂本龍一  NaN   \n",
       "2  user_000001  a7f7df4a-77d8-4f12-8acd-5c60c93f4de8       坂本龍一  NaN   \n",
       "3  user_000001  a7f7df4a-77d8-4f12-8acd-5c60c93f4de8       坂本龍一  NaN   \n",
       "4  user_000001  a7f7df4a-77d8-4f12-8acd-5c60c93f4de8       坂本龍一  NaN   \n",
       "\n",
       "                                         song                      time  \n",
       "0  Fuck Me Im Famous (Pacha Ibiza)-09-28-2007 2009-05-04 23:08:57+00:00  \n",
       "1           Composition 0919 (Live_2009_4_15) 2009-05-04 13:54:10+00:00  \n",
       "2                        Mc2 (Live_2009_4_15) 2009-05-04 13:52:04+00:00  \n",
       "3                     Hibari (Live_2009_4_15) 2009-05-04 13:42:52+00:00  \n",
       "4                        Mc1 (Live_2009_4_15) 2009-05-04 13:42:11+00:00  "
      ]
     },
     "execution_count": 27,
     "metadata": {},
     "output_type": "execute_result"
    }
   ],
   "source": [
    "df.head()"
   ]
  },
  {
   "cell_type": "markdown",
   "metadata": {},
   "source": [
    "### Removing artist name and song id (possibly) from the user_songs_df dataframe"
   ]
  },
  {
   "cell_type": "code",
   "execution_count": 28,
   "metadata": {},
   "outputs": [],
   "source": [
    "user_songs_df = df.drop(['artist'], axis=1, inplace=False)\n",
    "user_songs_df.columns = ['userid', 'artistid', 'songid', 'song', 'time']\n",
    "user_songs_df = user_songs_df.drop(['songid'], axis=1, inplace=False)"
   ]
  },
  {
   "cell_type": "code",
   "execution_count": 29,
   "metadata": {},
   "outputs": [
    {
     "data": {
      "text/html": [
       "<div>\n",
       "<style scoped>\n",
       "    .dataframe tbody tr th:only-of-type {\n",
       "        vertical-align: middle;\n",
       "    }\n",
       "\n",
       "    .dataframe tbody tr th {\n",
       "        vertical-align: top;\n",
       "    }\n",
       "\n",
       "    .dataframe thead th {\n",
       "        text-align: right;\n",
       "    }\n",
       "</style>\n",
       "<table border=\"1\" class=\"dataframe\">\n",
       "  <thead>\n",
       "    <tr style=\"text-align: right;\">\n",
       "      <th></th>\n",
       "      <th>userid</th>\n",
       "      <th>artistid</th>\n",
       "      <th>song</th>\n",
       "      <th>time</th>\n",
       "    </tr>\n",
       "  </thead>\n",
       "  <tbody>\n",
       "    <tr>\n",
       "      <td>0</td>\n",
       "      <td>user_000001</td>\n",
       "      <td>f1b1cf71-bd35-4e99-8624-24a6e15f133a</td>\n",
       "      <td>Fuck Me Im Famous (Pacha Ibiza)-09-28-2007</td>\n",
       "      <td>2009-05-04 23:08:57+00:00</td>\n",
       "    </tr>\n",
       "    <tr>\n",
       "      <td>1</td>\n",
       "      <td>user_000001</td>\n",
       "      <td>a7f7df4a-77d8-4f12-8acd-5c60c93f4de8</td>\n",
       "      <td>Composition 0919 (Live_2009_4_15)</td>\n",
       "      <td>2009-05-04 13:54:10+00:00</td>\n",
       "    </tr>\n",
       "    <tr>\n",
       "      <td>2</td>\n",
       "      <td>user_000001</td>\n",
       "      <td>a7f7df4a-77d8-4f12-8acd-5c60c93f4de8</td>\n",
       "      <td>Mc2 (Live_2009_4_15)</td>\n",
       "      <td>2009-05-04 13:52:04+00:00</td>\n",
       "    </tr>\n",
       "    <tr>\n",
       "      <td>3</td>\n",
       "      <td>user_000001</td>\n",
       "      <td>a7f7df4a-77d8-4f12-8acd-5c60c93f4de8</td>\n",
       "      <td>Hibari (Live_2009_4_15)</td>\n",
       "      <td>2009-05-04 13:42:52+00:00</td>\n",
       "    </tr>\n",
       "    <tr>\n",
       "      <td>4</td>\n",
       "      <td>user_000001</td>\n",
       "      <td>a7f7df4a-77d8-4f12-8acd-5c60c93f4de8</td>\n",
       "      <td>Mc1 (Live_2009_4_15)</td>\n",
       "      <td>2009-05-04 13:42:11+00:00</td>\n",
       "    </tr>\n",
       "  </tbody>\n",
       "</table>\n",
       "</div>"
      ],
      "text/plain": [
       "        userid                              artistid  \\\n",
       "0  user_000001  f1b1cf71-bd35-4e99-8624-24a6e15f133a   \n",
       "1  user_000001  a7f7df4a-77d8-4f12-8acd-5c60c93f4de8   \n",
       "2  user_000001  a7f7df4a-77d8-4f12-8acd-5c60c93f4de8   \n",
       "3  user_000001  a7f7df4a-77d8-4f12-8acd-5c60c93f4de8   \n",
       "4  user_000001  a7f7df4a-77d8-4f12-8acd-5c60c93f4de8   \n",
       "\n",
       "                                         song                      time  \n",
       "0  Fuck Me Im Famous (Pacha Ibiza)-09-28-2007 2009-05-04 23:08:57+00:00  \n",
       "1           Composition 0919 (Live_2009_4_15) 2009-05-04 13:54:10+00:00  \n",
       "2                        Mc2 (Live_2009_4_15) 2009-05-04 13:52:04+00:00  \n",
       "3                     Hibari (Live_2009_4_15) 2009-05-04 13:42:52+00:00  \n",
       "4                        Mc1 (Live_2009_4_15) 2009-05-04 13:42:11+00:00  "
      ]
     },
     "execution_count": 29,
     "metadata": {},
     "output_type": "execute_result"
    }
   ],
   "source": [
    "user_songs_df.head()"
   ]
  },
  {
   "cell_type": "code",
   "execution_count": 30,
   "metadata": {},
   "outputs": [
    {
     "name": "stdout",
     "output_type": "stream",
     "text": [
      "Number of songs : 1083471\n"
     ]
    }
   ],
   "source": [
    "print('Number of songs : ' + str(user_songs_df['song'].nunique()))"
   ]
  },
  {
   "cell_type": "code",
   "execution_count": 31,
   "metadata": {},
   "outputs": [],
   "source": [
    "def get_unique_count(column):\n",
    "    return len(set(column))"
   ]
  },
  {
   "cell_type": "markdown",
   "metadata": {},
   "source": [
    "### Filtering songs heard by at least 10 users"
   ]
  },
  {
   "cell_type": "code",
   "execution_count": 32,
   "metadata": {},
   "outputs": [],
   "source": [
    "# df_songs_heard_10_users = user_songs_df.groupby(\"song\").filter(lambda x: get_unique_count(x['userid'])>10)"
   ]
  },
  {
   "cell_type": "code",
   "execution_count": 33,
   "metadata": {},
   "outputs": [],
   "source": [
    "# df_songs_heard_10_users.head()"
   ]
  },
  {
   "cell_type": "code",
   "execution_count": 34,
   "metadata": {},
   "outputs": [],
   "source": [
    "# print('Number of songs heard by at least 10 users : ' + str(df_songs_heard_10_users['song'].nunique()))\n",
    "# print('Number of users in this dataframe : ' + str(df_songs_heard_10_users['userid'].nunique()))"
   ]
  },
  {
   "cell_type": "markdown",
   "metadata": {},
   "source": [
    "### Filtering songs heard by at least 100 users"
   ]
  },
  {
   "cell_type": "code",
   "execution_count": 35,
   "metadata": {},
   "outputs": [],
   "source": [
    "df_songs_heard_100_users = user_songs_df.groupby(\"song\").filter(lambda x: get_unique_count(x['userid'])>100)"
   ]
  },
  {
   "cell_type": "code",
   "execution_count": 36,
   "metadata": {},
   "outputs": [
    {
     "data": {
      "text/html": [
       "<div>\n",
       "<style scoped>\n",
       "    .dataframe tbody tr th:only-of-type {\n",
       "        vertical-align: middle;\n",
       "    }\n",
       "\n",
       "    .dataframe tbody tr th {\n",
       "        vertical-align: top;\n",
       "    }\n",
       "\n",
       "    .dataframe thead th {\n",
       "        text-align: right;\n",
       "    }\n",
       "</style>\n",
       "<table border=\"1\" class=\"dataframe\">\n",
       "  <thead>\n",
       "    <tr style=\"text-align: right;\">\n",
       "      <th></th>\n",
       "      <th>userid</th>\n",
       "      <th>artistid</th>\n",
       "      <th>song</th>\n",
       "      <th>time</th>\n",
       "    </tr>\n",
       "  </thead>\n",
       "  <tbody>\n",
       "    <tr>\n",
       "      <td>22</td>\n",
       "      <td>user_000001</td>\n",
       "      <td>45bdb5be-ec03-484f-b58d-d22afc944b24</td>\n",
       "      <td>Clouds</td>\n",
       "      <td>2009-05-03 14:39:20+00:00</td>\n",
       "    </tr>\n",
       "    <tr>\n",
       "      <td>26</td>\n",
       "      <td>user_000001</td>\n",
       "      <td>ce559a88-58ba-4d8a-8456-9177412d609c</td>\n",
       "      <td>Seven</td>\n",
       "      <td>2009-05-03 14:07:40+00:00</td>\n",
       "    </tr>\n",
       "    <tr>\n",
       "      <td>28</td>\n",
       "      <td>user_000001</td>\n",
       "      <td>ce559a88-58ba-4d8a-8456-9177412d609c</td>\n",
       "      <td>Five</td>\n",
       "      <td>2009-05-03 13:56:25+00:00</td>\n",
       "    </tr>\n",
       "    <tr>\n",
       "      <td>30</td>\n",
       "      <td>user_000001</td>\n",
       "      <td>ce559a88-58ba-4d8a-8456-9177412d609c</td>\n",
       "      <td>Three</td>\n",
       "      <td>2009-05-03 13:40:46+00:00</td>\n",
       "    </tr>\n",
       "    <tr>\n",
       "      <td>39</td>\n",
       "      <td>user_000001</td>\n",
       "      <td>3d05eb8b-1644-4143-9a61-b28e33c4d85f</td>\n",
       "      <td>Something In The Way</td>\n",
       "      <td>2009-05-02 15:19:46+00:00</td>\n",
       "    </tr>\n",
       "  </tbody>\n",
       "</table>\n",
       "</div>"
      ],
      "text/plain": [
       "         userid                              artistid                  song  \\\n",
       "22  user_000001  45bdb5be-ec03-484f-b58d-d22afc944b24                Clouds   \n",
       "26  user_000001  ce559a88-58ba-4d8a-8456-9177412d609c                 Seven   \n",
       "28  user_000001  ce559a88-58ba-4d8a-8456-9177412d609c                  Five   \n",
       "30  user_000001  ce559a88-58ba-4d8a-8456-9177412d609c                 Three   \n",
       "39  user_000001  3d05eb8b-1644-4143-9a61-b28e33c4d85f  Something In The Way   \n",
       "\n",
       "                        time  \n",
       "22 2009-05-03 14:39:20+00:00  \n",
       "26 2009-05-03 14:07:40+00:00  \n",
       "28 2009-05-03 13:56:25+00:00  \n",
       "30 2009-05-03 13:40:46+00:00  \n",
       "39 2009-05-02 15:19:46+00:00  "
      ]
     },
     "execution_count": 36,
     "metadata": {},
     "output_type": "execute_result"
    }
   ],
   "source": [
    "df_songs_heard_100_users.head()"
   ]
  },
  {
   "cell_type": "code",
   "execution_count": 37,
   "metadata": {},
   "outputs": [
    {
     "name": "stdout",
     "output_type": "stream",
     "text": [
      "Number of songs heard by at least 100 users : 4034\n",
      "Number of users in this dataframe : 990\n"
     ]
    }
   ],
   "source": [
    "print('Number of songs heard by at least 100 users : ' + str(df_songs_heard_100_users['song'].nunique()))\n",
    "print('Number of users in this dataframe : ' + str(df_songs_heard_100_users['userid'].nunique()))"
   ]
  },
  {
   "cell_type": "markdown",
   "metadata": {},
   "source": [
    "### Creation of timeslots"
   ]
  },
  {
   "cell_type": "code",
   "execution_count": 38,
   "metadata": {},
   "outputs": [
    {
     "name": "stderr",
     "output_type": "stream",
     "text": [
      "/Users/akshayj/opt/anaconda3/lib/python3.7/site-packages/ipykernel_launcher.py:1: SettingWithCopyWarning: \n",
      "A value is trying to be set on a copy of a slice from a DataFrame.\n",
      "Try using .loc[row_indexer,col_indexer] = value instead\n",
      "\n",
      "See the caveats in the documentation: http://pandas.pydata.org/pandas-docs/stable/user_guide/indexing.html#returning-a-view-versus-a-copy\n",
      "  \"\"\"Entry point for launching an IPython kernel.\n"
     ]
    }
   ],
   "source": [
    "df_songs_heard_100_users['hour'] = df_songs_heard_100_users['time'].dt.hour"
   ]
  },
  {
   "cell_type": "code",
   "execution_count": 39,
   "metadata": {},
   "outputs": [
    {
     "data": {
      "text/html": [
       "<div>\n",
       "<style scoped>\n",
       "    .dataframe tbody tr th:only-of-type {\n",
       "        vertical-align: middle;\n",
       "    }\n",
       "\n",
       "    .dataframe tbody tr th {\n",
       "        vertical-align: top;\n",
       "    }\n",
       "\n",
       "    .dataframe thead th {\n",
       "        text-align: right;\n",
       "    }\n",
       "</style>\n",
       "<table border=\"1\" class=\"dataframe\">\n",
       "  <thead>\n",
       "    <tr style=\"text-align: right;\">\n",
       "      <th></th>\n",
       "      <th>userid</th>\n",
       "      <th>artistid</th>\n",
       "      <th>song</th>\n",
       "      <th>time</th>\n",
       "      <th>hour</th>\n",
       "    </tr>\n",
       "  </thead>\n",
       "  <tbody>\n",
       "    <tr>\n",
       "      <td>22</td>\n",
       "      <td>user_000001</td>\n",
       "      <td>45bdb5be-ec03-484f-b58d-d22afc944b24</td>\n",
       "      <td>Clouds</td>\n",
       "      <td>2009-05-03 14:39:20+00:00</td>\n",
       "      <td>14</td>\n",
       "    </tr>\n",
       "    <tr>\n",
       "      <td>26</td>\n",
       "      <td>user_000001</td>\n",
       "      <td>ce559a88-58ba-4d8a-8456-9177412d609c</td>\n",
       "      <td>Seven</td>\n",
       "      <td>2009-05-03 14:07:40+00:00</td>\n",
       "      <td>14</td>\n",
       "    </tr>\n",
       "    <tr>\n",
       "      <td>28</td>\n",
       "      <td>user_000001</td>\n",
       "      <td>ce559a88-58ba-4d8a-8456-9177412d609c</td>\n",
       "      <td>Five</td>\n",
       "      <td>2009-05-03 13:56:25+00:00</td>\n",
       "      <td>13</td>\n",
       "    </tr>\n",
       "    <tr>\n",
       "      <td>30</td>\n",
       "      <td>user_000001</td>\n",
       "      <td>ce559a88-58ba-4d8a-8456-9177412d609c</td>\n",
       "      <td>Three</td>\n",
       "      <td>2009-05-03 13:40:46+00:00</td>\n",
       "      <td>13</td>\n",
       "    </tr>\n",
       "    <tr>\n",
       "      <td>39</td>\n",
       "      <td>user_000001</td>\n",
       "      <td>3d05eb8b-1644-4143-9a61-b28e33c4d85f</td>\n",
       "      <td>Something In The Way</td>\n",
       "      <td>2009-05-02 15:19:46+00:00</td>\n",
       "      <td>15</td>\n",
       "    </tr>\n",
       "  </tbody>\n",
       "</table>\n",
       "</div>"
      ],
      "text/plain": [
       "         userid                              artistid                  song  \\\n",
       "22  user_000001  45bdb5be-ec03-484f-b58d-d22afc944b24                Clouds   \n",
       "26  user_000001  ce559a88-58ba-4d8a-8456-9177412d609c                 Seven   \n",
       "28  user_000001  ce559a88-58ba-4d8a-8456-9177412d609c                  Five   \n",
       "30  user_000001  ce559a88-58ba-4d8a-8456-9177412d609c                 Three   \n",
       "39  user_000001  3d05eb8b-1644-4143-9a61-b28e33c4d85f  Something In The Way   \n",
       "\n",
       "                        time  hour  \n",
       "22 2009-05-03 14:39:20+00:00    14  \n",
       "26 2009-05-03 14:07:40+00:00    14  \n",
       "28 2009-05-03 13:56:25+00:00    13  \n",
       "30 2009-05-03 13:40:46+00:00    13  \n",
       "39 2009-05-02 15:19:46+00:00    15  "
      ]
     },
     "execution_count": 39,
     "metadata": {},
     "output_type": "execute_result"
    }
   ],
   "source": [
    "df_songs_heard_100_users.head()"
   ]
  },
  {
   "cell_type": "code",
   "execution_count": 40,
   "metadata": {},
   "outputs": [],
   "source": [
    "#function to return slot number\n",
    "def slot(hour):\n",
    "    if 0 <= hour and hour <= 5:\n",
    "        return 1\n",
    "    elif 6 <= hour and hour <= 11:\n",
    "        return 2\n",
    "    elif 12 <= hour and hour <= 17:\n",
    "        return 3\n",
    "    else:\n",
    "        return 4"
   ]
  },
  {
   "cell_type": "code",
   "execution_count": 41,
   "metadata": {},
   "outputs": [
    {
     "name": "stdout",
     "output_type": "stream",
     "text": [
      "CPU times: user 1.85 s, sys: 73.9 ms, total: 1.93 s\n",
      "Wall time: 1.56 s\n"
     ]
    },
    {
     "name": "stderr",
     "output_type": "stream",
     "text": [
      "/Users/akshayj/opt/anaconda3/lib/python3.7/site-packages/ipykernel_launcher.py:1: SettingWithCopyWarning: \n",
      "A value is trying to be set on a copy of a slice from a DataFrame.\n",
      "Try using .loc[row_indexer,col_indexer] = value instead\n",
      "\n",
      "See the caveats in the documentation: http://pandas.pydata.org/pandas-docs/stable/user_guide/indexing.html#returning-a-view-versus-a-copy\n",
      "  \"\"\"Entry point for launching an IPython kernel.\n"
     ]
    }
   ],
   "source": [
    "%%time\n",
    "df_songs_heard_100_users['slot'] = df_songs_heard_100_users['hour'].apply( lambda x : slot(x) ) "
   ]
  },
  {
   "cell_type": "code",
   "execution_count": 42,
   "metadata": {},
   "outputs": [
    {
     "data": {
      "text/html": [
       "<div>\n",
       "<style scoped>\n",
       "    .dataframe tbody tr th:only-of-type {\n",
       "        vertical-align: middle;\n",
       "    }\n",
       "\n",
       "    .dataframe tbody tr th {\n",
       "        vertical-align: top;\n",
       "    }\n",
       "\n",
       "    .dataframe thead th {\n",
       "        text-align: right;\n",
       "    }\n",
       "</style>\n",
       "<table border=\"1\" class=\"dataframe\">\n",
       "  <thead>\n",
       "    <tr style=\"text-align: right;\">\n",
       "      <th></th>\n",
       "      <th>userid</th>\n",
       "      <th>artistid</th>\n",
       "      <th>song</th>\n",
       "      <th>time</th>\n",
       "      <th>hour</th>\n",
       "      <th>slot</th>\n",
       "    </tr>\n",
       "  </thead>\n",
       "  <tbody>\n",
       "    <tr>\n",
       "      <td>22</td>\n",
       "      <td>user_000001</td>\n",
       "      <td>45bdb5be-ec03-484f-b58d-d22afc944b24</td>\n",
       "      <td>Clouds</td>\n",
       "      <td>2009-05-03 14:39:20+00:00</td>\n",
       "      <td>14</td>\n",
       "      <td>3</td>\n",
       "    </tr>\n",
       "    <tr>\n",
       "      <td>26</td>\n",
       "      <td>user_000001</td>\n",
       "      <td>ce559a88-58ba-4d8a-8456-9177412d609c</td>\n",
       "      <td>Seven</td>\n",
       "      <td>2009-05-03 14:07:40+00:00</td>\n",
       "      <td>14</td>\n",
       "      <td>3</td>\n",
       "    </tr>\n",
       "    <tr>\n",
       "      <td>28</td>\n",
       "      <td>user_000001</td>\n",
       "      <td>ce559a88-58ba-4d8a-8456-9177412d609c</td>\n",
       "      <td>Five</td>\n",
       "      <td>2009-05-03 13:56:25+00:00</td>\n",
       "      <td>13</td>\n",
       "      <td>3</td>\n",
       "    </tr>\n",
       "    <tr>\n",
       "      <td>30</td>\n",
       "      <td>user_000001</td>\n",
       "      <td>ce559a88-58ba-4d8a-8456-9177412d609c</td>\n",
       "      <td>Three</td>\n",
       "      <td>2009-05-03 13:40:46+00:00</td>\n",
       "      <td>13</td>\n",
       "      <td>3</td>\n",
       "    </tr>\n",
       "    <tr>\n",
       "      <td>39</td>\n",
       "      <td>user_000001</td>\n",
       "      <td>3d05eb8b-1644-4143-9a61-b28e33c4d85f</td>\n",
       "      <td>Something In The Way</td>\n",
       "      <td>2009-05-02 15:19:46+00:00</td>\n",
       "      <td>15</td>\n",
       "      <td>3</td>\n",
       "    </tr>\n",
       "  </tbody>\n",
       "</table>\n",
       "</div>"
      ],
      "text/plain": [
       "         userid                              artistid                  song  \\\n",
       "22  user_000001  45bdb5be-ec03-484f-b58d-d22afc944b24                Clouds   \n",
       "26  user_000001  ce559a88-58ba-4d8a-8456-9177412d609c                 Seven   \n",
       "28  user_000001  ce559a88-58ba-4d8a-8456-9177412d609c                  Five   \n",
       "30  user_000001  ce559a88-58ba-4d8a-8456-9177412d609c                 Three   \n",
       "39  user_000001  3d05eb8b-1644-4143-9a61-b28e33c4d85f  Something In The Way   \n",
       "\n",
       "                        time  hour  slot  \n",
       "22 2009-05-03 14:39:20+00:00    14     3  \n",
       "26 2009-05-03 14:07:40+00:00    14     3  \n",
       "28 2009-05-03 13:56:25+00:00    13     3  \n",
       "30 2009-05-03 13:40:46+00:00    13     3  \n",
       "39 2009-05-02 15:19:46+00:00    15     3  "
      ]
     },
     "execution_count": 42,
     "metadata": {},
     "output_type": "execute_result"
    }
   ],
   "source": [
    "df_songs_heard_100_users.head()"
   ]
  },
  {
   "cell_type": "code",
   "execution_count": 43,
   "metadata": {},
   "outputs": [
    {
     "data": {
      "text/plain": [
       "(3922101, 6)"
      ]
     },
     "execution_count": 43,
     "metadata": {},
     "output_type": "execute_result"
    }
   ],
   "source": [
    "df_songs_heard_100_users.shape"
   ]
  },
  {
   "cell_type": "markdown",
   "metadata": {},
   "source": [
    "#### Creating song ids"
   ]
  },
  {
   "cell_type": "code",
   "execution_count": 44,
   "metadata": {},
   "outputs": [
    {
     "name": "stderr",
     "output_type": "stream",
     "text": [
      "/Users/akshayj/opt/anaconda3/lib/python3.7/site-packages/ipykernel_launcher.py:1: SettingWithCopyWarning: \n",
      "A value is trying to be set on a copy of a slice from a DataFrame.\n",
      "Try using .loc[row_indexer,col_indexer] = value instead\n",
      "\n",
      "See the caveats in the documentation: http://pandas.pydata.org/pandas-docs/stable/user_guide/indexing.html#returning-a-view-versus-a-copy\n",
      "  \"\"\"Entry point for launching an IPython kernel.\n"
     ]
    }
   ],
   "source": [
    "df_songs_heard_100_users['songid'] = df_songs_heard_100_users.groupby(['song']).ngroup().add(1)"
   ]
  },
  {
   "cell_type": "code",
   "execution_count": 45,
   "metadata": {},
   "outputs": [
    {
     "name": "stderr",
     "output_type": "stream",
     "text": [
      "/Users/akshayj/opt/anaconda3/lib/python3.7/site-packages/ipykernel_launcher.py:1: SettingWithCopyWarning: \n",
      "A value is trying to be set on a copy of a slice from a DataFrame.\n",
      "Try using .loc[row_indexer,col_indexer] = value instead\n",
      "\n",
      "See the caveats in the documentation: http://pandas.pydata.org/pandas-docs/stable/user_guide/indexing.html#returning-a-view-versus-a-copy\n",
      "  \"\"\"Entry point for launching an IPython kernel.\n"
     ]
    }
   ],
   "source": [
    "df_songs_heard_100_users['userid'] = df_songs_heard_100_users.groupby(['userid']).ngroup().add(1)"
   ]
  },
  {
   "cell_type": "code",
   "execution_count": 46,
   "metadata": {},
   "outputs": [
    {
     "data": {
      "text/html": [
       "<div>\n",
       "<style scoped>\n",
       "    .dataframe tbody tr th:only-of-type {\n",
       "        vertical-align: middle;\n",
       "    }\n",
       "\n",
       "    .dataframe tbody tr th {\n",
       "        vertical-align: top;\n",
       "    }\n",
       "\n",
       "    .dataframe thead th {\n",
       "        text-align: right;\n",
       "    }\n",
       "</style>\n",
       "<table border=\"1\" class=\"dataframe\">\n",
       "  <thead>\n",
       "    <tr style=\"text-align: right;\">\n",
       "      <th></th>\n",
       "      <th>userid</th>\n",
       "      <th>artistid</th>\n",
       "      <th>song</th>\n",
       "      <th>time</th>\n",
       "      <th>hour</th>\n",
       "      <th>slot</th>\n",
       "      <th>songid</th>\n",
       "    </tr>\n",
       "  </thead>\n",
       "  <tbody>\n",
       "    <tr>\n",
       "      <td>22</td>\n",
       "      <td>1</td>\n",
       "      <td>45bdb5be-ec03-484f-b58d-d22afc944b24</td>\n",
       "      <td>Clouds</td>\n",
       "      <td>2009-05-03 14:39:20+00:00</td>\n",
       "      <td>14</td>\n",
       "      <td>3</td>\n",
       "      <td>619</td>\n",
       "    </tr>\n",
       "    <tr>\n",
       "      <td>26</td>\n",
       "      <td>1</td>\n",
       "      <td>ce559a88-58ba-4d8a-8456-9177412d609c</td>\n",
       "      <td>Seven</td>\n",
       "      <td>2009-05-03 14:07:40+00:00</td>\n",
       "      <td>14</td>\n",
       "      <td>3</td>\n",
       "      <td>2896</td>\n",
       "    </tr>\n",
       "    <tr>\n",
       "      <td>28</td>\n",
       "      <td>1</td>\n",
       "      <td>ce559a88-58ba-4d8a-8456-9177412d609c</td>\n",
       "      <td>Five</td>\n",
       "      <td>2009-05-03 13:56:25+00:00</td>\n",
       "      <td>13</td>\n",
       "      <td>3</td>\n",
       "      <td>1099</td>\n",
       "    </tr>\n",
       "    <tr>\n",
       "      <td>30</td>\n",
       "      <td>1</td>\n",
       "      <td>ce559a88-58ba-4d8a-8456-9177412d609c</td>\n",
       "      <td>Three</td>\n",
       "      <td>2009-05-03 13:40:46+00:00</td>\n",
       "      <td>13</td>\n",
       "      <td>3</td>\n",
       "      <td>3565</td>\n",
       "    </tr>\n",
       "    <tr>\n",
       "      <td>39</td>\n",
       "      <td>1</td>\n",
       "      <td>3d05eb8b-1644-4143-9a61-b28e33c4d85f</td>\n",
       "      <td>Something In The Way</td>\n",
       "      <td>2009-05-02 15:19:46+00:00</td>\n",
       "      <td>15</td>\n",
       "      <td>3</td>\n",
       "      <td>3061</td>\n",
       "    </tr>\n",
       "  </tbody>\n",
       "</table>\n",
       "</div>"
      ],
      "text/plain": [
       "    userid                              artistid                  song  \\\n",
       "22       1  45bdb5be-ec03-484f-b58d-d22afc944b24                Clouds   \n",
       "26       1  ce559a88-58ba-4d8a-8456-9177412d609c                 Seven   \n",
       "28       1  ce559a88-58ba-4d8a-8456-9177412d609c                  Five   \n",
       "30       1  ce559a88-58ba-4d8a-8456-9177412d609c                 Three   \n",
       "39       1  3d05eb8b-1644-4143-9a61-b28e33c4d85f  Something In The Way   \n",
       "\n",
       "                        time  hour  slot  songid  \n",
       "22 2009-05-03 14:39:20+00:00    14     3     619  \n",
       "26 2009-05-03 14:07:40+00:00    14     3    2896  \n",
       "28 2009-05-03 13:56:25+00:00    13     3    1099  \n",
       "30 2009-05-03 13:40:46+00:00    13     3    3565  \n",
       "39 2009-05-02 15:19:46+00:00    15     3    3061  "
      ]
     },
     "execution_count": 46,
     "metadata": {},
     "output_type": "execute_result"
    }
   ],
   "source": [
    "df_songs_heard_100_users.head()"
   ]
  },
  {
   "cell_type": "code",
   "execution_count": 47,
   "metadata": {},
   "outputs": [
    {
     "data": {
      "text/html": [
       "<div>\n",
       "<style scoped>\n",
       "    .dataframe tbody tr th:only-of-type {\n",
       "        vertical-align: middle;\n",
       "    }\n",
       "\n",
       "    .dataframe tbody tr th {\n",
       "        vertical-align: top;\n",
       "    }\n",
       "\n",
       "    .dataframe thead th {\n",
       "        text-align: right;\n",
       "    }\n",
       "</style>\n",
       "<table border=\"1\" class=\"dataframe\">\n",
       "  <thead>\n",
       "    <tr style=\"text-align: right;\">\n",
       "      <th></th>\n",
       "      <th>userid</th>\n",
       "      <th>artistid</th>\n",
       "      <th>song</th>\n",
       "      <th>time</th>\n",
       "      <th>hour</th>\n",
       "      <th>slot</th>\n",
       "      <th>songid</th>\n",
       "    </tr>\n",
       "  </thead>\n",
       "  <tbody>\n",
       "    <tr>\n",
       "      <td>22</td>\n",
       "      <td>1</td>\n",
       "      <td>45bdb5be-ec03-484f-b58d-d22afc944b24</td>\n",
       "      <td>Clouds</td>\n",
       "      <td>2009-05-03 14:39:20+00:00</td>\n",
       "      <td>14</td>\n",
       "      <td>3</td>\n",
       "      <td>619</td>\n",
       "    </tr>\n",
       "    <tr>\n",
       "      <td>212</td>\n",
       "      <td>1</td>\n",
       "      <td>45bdb5be-ec03-484f-b58d-d22afc944b24</td>\n",
       "      <td>Clouds</td>\n",
       "      <td>2009-04-28 13:18:42+00:00</td>\n",
       "      <td>13</td>\n",
       "      <td>3</td>\n",
       "      <td>619</td>\n",
       "    </tr>\n",
       "    <tr>\n",
       "      <td>264</td>\n",
       "      <td>1</td>\n",
       "      <td>45bdb5be-ec03-484f-b58d-d22afc944b24</td>\n",
       "      <td>Clouds</td>\n",
       "      <td>2009-04-26 18:37:07+00:00</td>\n",
       "      <td>18</td>\n",
       "      <td>4</td>\n",
       "      <td>619</td>\n",
       "    </tr>\n",
       "    <tr>\n",
       "      <td>280</td>\n",
       "      <td>1</td>\n",
       "      <td>45bdb5be-ec03-484f-b58d-d22afc944b24</td>\n",
       "      <td>Clouds</td>\n",
       "      <td>2009-04-26 17:07:08+00:00</td>\n",
       "      <td>17</td>\n",
       "      <td>3</td>\n",
       "      <td>619</td>\n",
       "    </tr>\n",
       "    <tr>\n",
       "      <td>1067</td>\n",
       "      <td>1</td>\n",
       "      <td>45bdb5be-ec03-484f-b58d-d22afc944b24</td>\n",
       "      <td>Clouds</td>\n",
       "      <td>2009-04-11 15:53:03+00:00</td>\n",
       "      <td>15</td>\n",
       "      <td>3</td>\n",
       "      <td>619</td>\n",
       "    </tr>\n",
       "    <tr>\n",
       "      <td>...</td>\n",
       "      <td>...</td>\n",
       "      <td>...</td>\n",
       "      <td>...</td>\n",
       "      <td>...</td>\n",
       "      <td>...</td>\n",
       "      <td>...</td>\n",
       "      <td>...</td>\n",
       "    </tr>\n",
       "    <tr>\n",
       "      <td>18990426</td>\n",
       "      <td>985</td>\n",
       "      <td>1dcc8968-f2cd-441c-beda-6270f70f2863</td>\n",
       "      <td>Clouds</td>\n",
       "      <td>2006-08-06 10:32:53+00:00</td>\n",
       "      <td>10</td>\n",
       "      <td>2</td>\n",
       "      <td>619</td>\n",
       "    </tr>\n",
       "    <tr>\n",
       "      <td>19012117</td>\n",
       "      <td>987</td>\n",
       "      <td>24ed5b09-02b1-47fe-bd83-6fa5270039b0</td>\n",
       "      <td>Clouds</td>\n",
       "      <td>2007-01-31 02:35:11+00:00</td>\n",
       "      <td>2</td>\n",
       "      <td>1</td>\n",
       "      <td>619</td>\n",
       "    </tr>\n",
       "    <tr>\n",
       "      <td>19012489</td>\n",
       "      <td>987</td>\n",
       "      <td>24ed5b09-02b1-47fe-bd83-6fa5270039b0</td>\n",
       "      <td>Clouds</td>\n",
       "      <td>2007-01-30 00:31:13+00:00</td>\n",
       "      <td>0</td>\n",
       "      <td>1</td>\n",
       "      <td>619</td>\n",
       "    </tr>\n",
       "    <tr>\n",
       "      <td>19012885</td>\n",
       "      <td>987</td>\n",
       "      <td>24ed5b09-02b1-47fe-bd83-6fa5270039b0</td>\n",
       "      <td>Clouds</td>\n",
       "      <td>2007-01-27 17:27:21+00:00</td>\n",
       "      <td>17</td>\n",
       "      <td>3</td>\n",
       "      <td>619</td>\n",
       "    </tr>\n",
       "    <tr>\n",
       "      <td>19013387</td>\n",
       "      <td>987</td>\n",
       "      <td>24ed5b09-02b1-47fe-bd83-6fa5270039b0</td>\n",
       "      <td>Clouds</td>\n",
       "      <td>2007-01-26 06:19:03+00:00</td>\n",
       "      <td>6</td>\n",
       "      <td>2</td>\n",
       "      <td>619</td>\n",
       "    </tr>\n",
       "  </tbody>\n",
       "</table>\n",
       "<p>452 rows × 7 columns</p>\n",
       "</div>"
      ],
      "text/plain": [
       "          userid                              artistid    song  \\\n",
       "22             1  45bdb5be-ec03-484f-b58d-d22afc944b24  Clouds   \n",
       "212            1  45bdb5be-ec03-484f-b58d-d22afc944b24  Clouds   \n",
       "264            1  45bdb5be-ec03-484f-b58d-d22afc944b24  Clouds   \n",
       "280            1  45bdb5be-ec03-484f-b58d-d22afc944b24  Clouds   \n",
       "1067           1  45bdb5be-ec03-484f-b58d-d22afc944b24  Clouds   \n",
       "...          ...                                   ...     ...   \n",
       "18990426     985  1dcc8968-f2cd-441c-beda-6270f70f2863  Clouds   \n",
       "19012117     987  24ed5b09-02b1-47fe-bd83-6fa5270039b0  Clouds   \n",
       "19012489     987  24ed5b09-02b1-47fe-bd83-6fa5270039b0  Clouds   \n",
       "19012885     987  24ed5b09-02b1-47fe-bd83-6fa5270039b0  Clouds   \n",
       "19013387     987  24ed5b09-02b1-47fe-bd83-6fa5270039b0  Clouds   \n",
       "\n",
       "                              time  hour  slot  songid  \n",
       "22       2009-05-03 14:39:20+00:00    14     3     619  \n",
       "212      2009-04-28 13:18:42+00:00    13     3     619  \n",
       "264      2009-04-26 18:37:07+00:00    18     4     619  \n",
       "280      2009-04-26 17:07:08+00:00    17     3     619  \n",
       "1067     2009-04-11 15:53:03+00:00    15     3     619  \n",
       "...                            ...   ...   ...     ...  \n",
       "18990426 2006-08-06 10:32:53+00:00    10     2     619  \n",
       "19012117 2007-01-31 02:35:11+00:00     2     1     619  \n",
       "19012489 2007-01-30 00:31:13+00:00     0     1     619  \n",
       "19012885 2007-01-27 17:27:21+00:00    17     3     619  \n",
       "19013387 2007-01-26 06:19:03+00:00     6     2     619  \n",
       "\n",
       "[452 rows x 7 columns]"
      ]
     },
     "execution_count": 47,
     "metadata": {},
     "output_type": "execute_result"
    }
   ],
   "source": [
    "df_songs_heard_100_users[df_songs_heard_100_users['song'] == 'Clouds']"
   ]
  },
  {
   "cell_type": "code",
   "execution_count": 48,
   "metadata": {},
   "outputs": [],
   "source": [
    "# Removing artistid, time and hour columns\n",
    "input_dataset = df_songs_heard_100_users.drop(['artistid', 'song', 'time','hour'], axis=1, inplace=False)"
   ]
  },
  {
   "cell_type": "code",
   "execution_count": 49,
   "metadata": {},
   "outputs": [],
   "source": [
    "input_dataset = input_dataset[['userid', 'songid', 'slot']]"
   ]
  },
  {
   "cell_type": "code",
   "execution_count": 50,
   "metadata": {},
   "outputs": [
    {
     "data": {
      "text/html": [
       "<div>\n",
       "<style scoped>\n",
       "    .dataframe tbody tr th:only-of-type {\n",
       "        vertical-align: middle;\n",
       "    }\n",
       "\n",
       "    .dataframe tbody tr th {\n",
       "        vertical-align: top;\n",
       "    }\n",
       "\n",
       "    .dataframe thead th {\n",
       "        text-align: right;\n",
       "    }\n",
       "</style>\n",
       "<table border=\"1\" class=\"dataframe\">\n",
       "  <thead>\n",
       "    <tr style=\"text-align: right;\">\n",
       "      <th></th>\n",
       "      <th>userid</th>\n",
       "      <th>songid</th>\n",
       "      <th>slot</th>\n",
       "    </tr>\n",
       "  </thead>\n",
       "  <tbody>\n",
       "    <tr>\n",
       "      <td>22</td>\n",
       "      <td>1</td>\n",
       "      <td>619</td>\n",
       "      <td>3</td>\n",
       "    </tr>\n",
       "    <tr>\n",
       "      <td>26</td>\n",
       "      <td>1</td>\n",
       "      <td>2896</td>\n",
       "      <td>3</td>\n",
       "    </tr>\n",
       "    <tr>\n",
       "      <td>28</td>\n",
       "      <td>1</td>\n",
       "      <td>1099</td>\n",
       "      <td>3</td>\n",
       "    </tr>\n",
       "    <tr>\n",
       "      <td>30</td>\n",
       "      <td>1</td>\n",
       "      <td>3565</td>\n",
       "      <td>3</td>\n",
       "    </tr>\n",
       "    <tr>\n",
       "      <td>39</td>\n",
       "      <td>1</td>\n",
       "      <td>3061</td>\n",
       "      <td>3</td>\n",
       "    </tr>\n",
       "  </tbody>\n",
       "</table>\n",
       "</div>"
      ],
      "text/plain": [
       "    userid  songid  slot\n",
       "22       1     619     3\n",
       "26       1    2896     3\n",
       "28       1    1099     3\n",
       "30       1    3565     3\n",
       "39       1    3061     3"
      ]
     },
     "execution_count": 50,
     "metadata": {},
     "output_type": "execute_result"
    }
   ],
   "source": [
    "input_dataset.head()"
   ]
  },
  {
   "cell_type": "code",
   "execution_count": 196,
   "metadata": {},
   "outputs": [
    {
     "data": {
      "text/plain": [
       "<matplotlib.axes._subplots.AxesSubplot at 0x1a446da5d0>"
      ]
     },
     "execution_count": 196,
     "metadata": {},
     "output_type": "execute_result"
    },
    {
     "data": {
      "image/png": "[encoded data removed]",
      "text/plain": [
       "<Figure size 432x288 with 1 Axes>"
      ]
     },
     "metadata": {
      "needs_background": "light"
     },
     "output_type": "display_data"
    }
   ],
   "source": [
    "input_dataset.head().plot()"
   ]
  },
  {
   "cell_type": "code",
   "execution_count": null,
   "metadata": {},
   "outputs": [],
   "source": []
  },
  {
   "cell_type": "code",
   "execution_count": null,
   "metadata": {},
   "outputs": [],
   "source": []
  },
  {
   "cell_type": "markdown",
   "metadata": {},
   "source": [
    "### Generating training and testing data"
   ]
  },
  {
   "cell_type": "code",
   "execution_count": 51,
   "metadata": {},
   "outputs": [],
   "source": [
    "#Group by users and get the size of each group\n",
    "user_record_counts = input_dataset.groupby(\"userid\").apply(lambda x: x.shape[0])"
   ]
  },
  {
   "cell_type": "code",
   "execution_count": 52,
   "metadata": {},
   "outputs": [],
   "source": [
    "#Divide dataset into train and test based on users and the number of the songs listened\n",
    "train_set_keys = []\n",
    "test_set_keys = []\n",
    "sum_val = 0\n",
    "total = input_dataset.shape[0]\n",
    "for key, value in user_record_counts.items():\n",
    "    sum_val += value\n",
    "    fraction = sum_val/total\n",
    "    if fraction <= 0.8:\n",
    "        train_set_keys.append(key)        \n",
    "    else:\n",
    "        test_set_keys.append(key)"
   ]
  },
  {
   "cell_type": "code",
   "execution_count": 53,
   "metadata": {},
   "outputs": [
    {
     "name": "stdout",
     "output_type": "stream",
     "text": [
      "Number of users in train set : 792\n",
      "Number of users in test set : 198\n"
     ]
    }
   ],
   "source": [
    "print(\"Number of users in train set : \"+str(len(train_set_keys)))\n",
    "print(\"Number of users in test set : \"+str(len(test_set_keys)))"
   ]
  },
  {
   "cell_type": "code",
   "execution_count": 54,
   "metadata": {},
   "outputs": [],
   "source": [
    "train_set = input_dataset.groupby(\"userid\").filter(lambda x: x['userid'].iloc[0] in train_set_keys)\n",
    "test_set = input_dataset.groupby(\"userid\").filter(lambda x: x['userid'].iloc[0] in test_set_keys)"
   ]
  },
  {
   "cell_type": "code",
   "execution_count": 55,
   "metadata": {},
   "outputs": [
    {
     "name": "stdout",
     "output_type": "stream",
     "text": [
      "Number of users in train set : 792\n",
      "Number of users in test set : 198\n"
     ]
    }
   ],
   "source": [
    "print(\"Number of users in train set : \"+str(train_set['userid'].nunique()))\n",
    "print(\"Number of users in test set : \"+str(test_set['userid'].nunique()))"
   ]
  },
  {
   "cell_type": "code",
   "execution_count": 56,
   "metadata": {},
   "outputs": [
    {
     "name": "stdout",
     "output_type": "stream",
     "text": [
      "Fraction of train set : 0.7984888711432979\n"
     ]
    }
   ],
   "source": [
    "print('Fraction of train set : ' + str(train_set.shape[0]/total))"
   ]
  },
  {
   "cell_type": "code",
   "execution_count": 57,
   "metadata": {},
   "outputs": [
    {
     "data": {
      "text/html": [
       "<div>\n",
       "<style scoped>\n",
       "    .dataframe tbody tr th:only-of-type {\n",
       "        vertical-align: middle;\n",
       "    }\n",
       "\n",
       "    .dataframe tbody tr th {\n",
       "        vertical-align: top;\n",
       "    }\n",
       "\n",
       "    .dataframe thead th {\n",
       "        text-align: right;\n",
       "    }\n",
       "</style>\n",
       "<table border=\"1\" class=\"dataframe\">\n",
       "  <thead>\n",
       "    <tr style=\"text-align: right;\">\n",
       "      <th></th>\n",
       "      <th>userid</th>\n",
       "      <th>songid</th>\n",
       "      <th>slot</th>\n",
       "    </tr>\n",
       "  </thead>\n",
       "  <tbody>\n",
       "    <tr>\n",
       "      <td>22</td>\n",
       "      <td>1</td>\n",
       "      <td>619</td>\n",
       "      <td>3</td>\n",
       "    </tr>\n",
       "    <tr>\n",
       "      <td>26</td>\n",
       "      <td>1</td>\n",
       "      <td>2896</td>\n",
       "      <td>3</td>\n",
       "    </tr>\n",
       "    <tr>\n",
       "      <td>28</td>\n",
       "      <td>1</td>\n",
       "      <td>1099</td>\n",
       "      <td>3</td>\n",
       "    </tr>\n",
       "    <tr>\n",
       "      <td>30</td>\n",
       "      <td>1</td>\n",
       "      <td>3565</td>\n",
       "      <td>3</td>\n",
       "    </tr>\n",
       "    <tr>\n",
       "      <td>39</td>\n",
       "      <td>1</td>\n",
       "      <td>3061</td>\n",
       "      <td>3</td>\n",
       "    </tr>\n",
       "  </tbody>\n",
       "</table>\n",
       "</div>"
      ],
      "text/plain": [
       "    userid  songid  slot\n",
       "22       1     619     3\n",
       "26       1    2896     3\n",
       "28       1    1099     3\n",
       "30       1    3565     3\n",
       "39       1    3061     3"
      ]
     },
     "execution_count": 57,
     "metadata": {},
     "output_type": "execute_result"
    }
   ],
   "source": [
    "train_set.head()"
   ]
  },
  {
   "cell_type": "code",
   "execution_count": null,
   "metadata": {},
   "outputs": [],
   "source": []
  },
  {
   "cell_type": "markdown",
   "metadata": {},
   "source": [
    "### Creating train dataframes based on slots"
   ]
  },
  {
   "cell_type": "code",
   "execution_count": 58,
   "metadata": {},
   "outputs": [],
   "source": [
    "grouped_train_set = train_set.groupby('slot')\n",
    "grouped_test_set = test_set.groupby('slot')"
   ]
  },
  {
   "cell_type": "code",
   "execution_count": 59,
   "metadata": {},
   "outputs": [],
   "source": [
    "train_first_slot_df = grouped_train_set.get_group(1)\n",
    "train_second_slot_df = grouped_train_set.get_group(2)\n",
    "train_third_slot_df = grouped_train_set.get_group(3)\n",
    "train_fourth_slot_df = grouped_train_set.get_group(4)\n",
    "\n",
    "test_first_slot_df = grouped_test_set.get_group(1)\n",
    "test_second_slot_df = grouped_test_set.get_group(2)\n",
    "test_third_slot_df = grouped_test_set.get_group(3)\n",
    "test_fourth_slot_df = grouped_test_set.get_group(4)"
   ]
  },
  {
   "cell_type": "code",
   "execution_count": 60,
   "metadata": {},
   "outputs": [],
   "source": [
    "# train_first_slot_df"
   ]
  },
  {
   "cell_type": "code",
   "execution_count": 61,
   "metadata": {},
   "outputs": [
    {
     "name": "stdout",
     "output_type": "stream",
     "text": [
      "First train slot shape : (596866, 3)\n",
      "Second train slot shape : (544262, 3)\n",
      "Third train slot shape : (943222, 3)\n",
      "Fourth train slot shape : (1047404, 3)\n",
      "\n",
      "Number of users in train_first_slot_df : 737\n",
      "Number of users in train_second_slot_df : 762\n",
      "Number of users in train_third_slot_df : 784\n",
      "Number of users in train_fourth_slot_df : 780\n",
      "\n",
      "Number of songs in train_first_slot_df : 4034\n",
      "Number of songs in train_second_slot_df : 4034\n",
      "Number of songs in train_third_slot_df : 4034\n",
      "Number of songs in train_fourth_slot_df : 4034\n",
      "\n",
      "First test slot shape : (173856, 3)\n",
      "Second test slot shape : (146390, 3)\n",
      "Third test slot shape : (221677, 3)\n",
      "Fourth test slot shape : (248424, 3)\n",
      "\n",
      "Number of users in test_first_slot_df : 185\n",
      "Number of users in test_second_slot_df : 188\n",
      "Number of users in test_third_slot_df : 191\n",
      "Number of users in test_fourth_slot_df : 193\n",
      "\n",
      "Number of songs in test_first_slot_df : 4034\n",
      "Number of songs in test_second_slot_df : 4034\n",
      "Number of songs in test_third_slot_df : 4034\n",
      "Number of songs in test_fourth_slot_df : 4034\n"
     ]
    }
   ],
   "source": [
    "print('First train slot shape : ' + str(train_first_slot_df.shape))\n",
    "print('Second train slot shape : ' + str(train_second_slot_df.shape))\n",
    "print('Third train slot shape : ' + str(train_third_slot_df.shape))\n",
    "print('Fourth train slot shape : ' + str(train_fourth_slot_df.shape))\n",
    "print('')\n",
    "print(\"Number of users in train_first_slot_df : \" + str(train_first_slot_df['userid'].nunique()))\n",
    "print(\"Number of users in train_second_slot_df : \" + str(train_second_slot_df['userid'].nunique()))\n",
    "print(\"Number of users in train_third_slot_df : \" + str(train_third_slot_df['userid'].nunique()))\n",
    "print(\"Number of users in train_fourth_slot_df : \" + str(train_fourth_slot_df['userid'].nunique()))\n",
    "print('')\n",
    "print(\"Number of songs in train_first_slot_df : \" + str(train_first_slot_df['songid'].nunique()))\n",
    "print(\"Number of songs in train_second_slot_df : \" + str(train_second_slot_df['songid'].nunique()))\n",
    "print(\"Number of songs in train_third_slot_df : \" + str(train_third_slot_df['songid'].nunique()))\n",
    "print(\"Number of songs in train_fourth_slot_df : \" + str(train_fourth_slot_df['songid'].nunique()))\n",
    "print('')\n",
    "print('First test slot shape : ' + str(test_first_slot_df.shape))\n",
    "print('Second test slot shape : ' + str(test_second_slot_df.shape))\n",
    "print('Third test slot shape : ' + str(test_third_slot_df.shape))\n",
    "print('Fourth test slot shape : ' + str(test_fourth_slot_df.shape))\n",
    "print('')\n",
    "print(\"Number of users in test_first_slot_df : \" + str(test_first_slot_df['userid'].nunique()))\n",
    "print(\"Number of users in test_second_slot_df : \" + str(test_second_slot_df['userid'].nunique()))\n",
    "print(\"Number of users in test_third_slot_df : \" + str(test_third_slot_df['userid'].nunique()))\n",
    "print(\"Number of users in test_fourth_slot_df : \" + str(test_fourth_slot_df['userid'].nunique()))\n",
    "print('')\n",
    "print(\"Number of songs in test_first_slot_df : \" + str(test_first_slot_df['songid'].nunique()))\n",
    "print(\"Number of songs in test_second_slot_df : \" + str(test_second_slot_df['songid'].nunique()))\n",
    "print(\"Number of songs in test_third_slot_df : \" + str(test_third_slot_df['songid'].nunique()))\n",
    "print(\"Number of songs in test_fourth_slot_df : \" + str(test_fourth_slot_df['songid'].nunique()))\n"
   ]
  },
  {
   "cell_type": "code",
   "execution_count": 62,
   "metadata": {},
   "outputs": [],
   "source": [
    "# Get user-song-count dataframe for each slot\n",
    "train_user_song_count_df_first = train_first_slot_df.groupby([\"userid\",\"songid\"]).size().reset_index(name=\"count\")\n",
    "train_user_song_count_df_second = train_second_slot_df.groupby([\"userid\",\"songid\"]).size().reset_index(name=\"count\")\n",
    "train_user_song_count_df_third = train_third_slot_df.groupby([\"userid\",\"songid\"]).size().reset_index(name=\"count\")\n",
    "train_user_song_count_df_fourth = train_fourth_slot_df.groupby([\"userid\",\"songid\"]).size().reset_index(name=\"count\")\n",
    "\n",
    "test_user_song_count_df_first = test_first_slot_df.groupby([\"userid\",\"songid\"]).size().reset_index(name=\"count\")\n",
    "test_user_song_count_df_second = test_second_slot_df.groupby([\"userid\",\"songid\"]).size().reset_index(name=\"count\")\n",
    "test_user_song_count_df_third = test_third_slot_df.groupby([\"userid\",\"songid\"]).size().reset_index(name=\"count\")\n",
    "test_user_song_count_df_fourth = test_fourth_slot_df.groupby([\"userid\",\"songid\"]).size().reset_index(name=\"count\")"
   ]
  },
  {
   "cell_type": "code",
   "execution_count": 63,
   "metadata": {},
   "outputs": [],
   "source": [
    "# train_user_song_count_df_first = train_first_slot_df.groupby([\"userid\",\"songid\"]).size().reset_index(name=\"count\")"
   ]
  },
  {
   "cell_type": "code",
   "execution_count": 64,
   "metadata": {},
   "outputs": [
    {
     "data": {
      "text/html": [
       "<div>\n",
       "<style scoped>\n",
       "    .dataframe tbody tr th:only-of-type {\n",
       "        vertical-align: middle;\n",
       "    }\n",
       "\n",
       "    .dataframe tbody tr th {\n",
       "        vertical-align: top;\n",
       "    }\n",
       "\n",
       "    .dataframe thead th {\n",
       "        text-align: right;\n",
       "    }\n",
       "</style>\n",
       "<table border=\"1\" class=\"dataframe\">\n",
       "  <thead>\n",
       "    <tr style=\"text-align: right;\">\n",
       "      <th></th>\n",
       "      <th>userid</th>\n",
       "      <th>songid</th>\n",
       "      <th>count</th>\n",
       "    </tr>\n",
       "  </thead>\n",
       "  <tbody>\n",
       "    <tr>\n",
       "      <td>0</td>\n",
       "      <td>1</td>\n",
       "      <td>10</td>\n",
       "      <td>2</td>\n",
       "    </tr>\n",
       "    <tr>\n",
       "      <td>1</td>\n",
       "      <td>1</td>\n",
       "      <td>27</td>\n",
       "      <td>4</td>\n",
       "    </tr>\n",
       "    <tr>\n",
       "      <td>2</td>\n",
       "      <td>1</td>\n",
       "      <td>43</td>\n",
       "      <td>1</td>\n",
       "    </tr>\n",
       "    <tr>\n",
       "      <td>3</td>\n",
       "      <td>1</td>\n",
       "      <td>91</td>\n",
       "      <td>1</td>\n",
       "    </tr>\n",
       "    <tr>\n",
       "      <td>4</td>\n",
       "      <td>1</td>\n",
       "      <td>137</td>\n",
       "      <td>2</td>\n",
       "    </tr>\n",
       "  </tbody>\n",
       "</table>\n",
       "</div>"
      ],
      "text/plain": [
       "   userid  songid  count\n",
       "0       1      10      2\n",
       "1       1      27      4\n",
       "2       1      43      1\n",
       "3       1      91      1\n",
       "4       1     137      2"
      ]
     },
     "execution_count": 64,
     "metadata": {},
     "output_type": "execute_result"
    }
   ],
   "source": [
    "train_user_song_count_df_first.head()"
   ]
  },
  {
   "cell_type": "code",
   "execution_count": 65,
   "metadata": {},
   "outputs": [],
   "source": [
    "def get_rating(x):\n",
    "    x['rating'] = pd.cut(x['count'], 5, labels=[1,2,3,4,5], right=True)\n",
    "    return x"
   ]
  },
  {
   "cell_type": "code",
   "execution_count": 66,
   "metadata": {},
   "outputs": [],
   "source": [
    "train_user_song_count_df_first = train_user_song_count_df_first.groupby(\"userid\").apply(lambda x : get_rating(x))\n",
    "train_user_song_count_df_second = train_user_song_count_df_second.groupby(\"userid\").apply(lambda x : get_rating(x))\n",
    "train_user_song_count_df_third = train_user_song_count_df_third.groupby(\"userid\").apply(lambda x : get_rating(x))\n",
    "train_user_song_count_df_fourth = train_user_song_count_df_fourth.groupby(\"userid\").apply(lambda x : get_rating(x))\n",
    "\n",
    "test_user_song_count_df_first = test_user_song_count_df_first.groupby(\"userid\").apply(lambda x : get_rating(x))\n",
    "test_user_song_count_df_second = test_user_song_count_df_second.groupby(\"userid\").apply(lambda x : get_rating(x))\n",
    "test_user_song_count_df_third = test_user_song_count_df_third.groupby(\"userid\").apply(lambda x : get_rating(x))\n",
    "test_user_song_count_df_fourth = test_user_song_count_df_fourth.groupby(\"userid\").apply(lambda x : get_rating(x))"
   ]
  },
  {
   "cell_type": "code",
   "execution_count": 67,
   "metadata": {},
   "outputs": [
    {
     "data": {
      "text/html": [
       "<div>\n",
       "<style scoped>\n",
       "    .dataframe tbody tr th:only-of-type {\n",
       "        vertical-align: middle;\n",
       "    }\n",
       "\n",
       "    .dataframe tbody tr th {\n",
       "        vertical-align: top;\n",
       "    }\n",
       "\n",
       "    .dataframe thead th {\n",
       "        text-align: right;\n",
       "    }\n",
       "</style>\n",
       "<table border=\"1\" class=\"dataframe\">\n",
       "  <thead>\n",
       "    <tr style=\"text-align: right;\">\n",
       "      <th></th>\n",
       "      <th>userid</th>\n",
       "      <th>songid</th>\n",
       "      <th>count</th>\n",
       "      <th>rating</th>\n",
       "    </tr>\n",
       "  </thead>\n",
       "  <tbody>\n",
       "    <tr>\n",
       "      <td>0</td>\n",
       "      <td>1</td>\n",
       "      <td>10</td>\n",
       "      <td>1</td>\n",
       "      <td>1</td>\n",
       "    </tr>\n",
       "    <tr>\n",
       "      <td>1</td>\n",
       "      <td>1</td>\n",
       "      <td>171</td>\n",
       "      <td>1</td>\n",
       "      <td>1</td>\n",
       "    </tr>\n",
       "    <tr>\n",
       "      <td>2</td>\n",
       "      <td>1</td>\n",
       "      <td>203</td>\n",
       "      <td>1</td>\n",
       "      <td>1</td>\n",
       "    </tr>\n",
       "    <tr>\n",
       "      <td>3</td>\n",
       "      <td>1</td>\n",
       "      <td>398</td>\n",
       "      <td>1</td>\n",
       "      <td>1</td>\n",
       "    </tr>\n",
       "    <tr>\n",
       "      <td>4</td>\n",
       "      <td>1</td>\n",
       "      <td>409</td>\n",
       "      <td>1</td>\n",
       "      <td>1</td>\n",
       "    </tr>\n",
       "  </tbody>\n",
       "</table>\n",
       "</div>"
      ],
      "text/plain": [
       "   userid  songid  count rating\n",
       "0       1      10      1      1\n",
       "1       1     171      1      1\n",
       "2       1     203      1      1\n",
       "3       1     398      1      1\n",
       "4       1     409      1      1"
      ]
     },
     "execution_count": 67,
     "metadata": {},
     "output_type": "execute_result"
    }
   ],
   "source": [
    "train_user_song_count_df_fourth.head()"
   ]
  },
  {
   "cell_type": "code",
   "execution_count": 68,
   "metadata": {},
   "outputs": [],
   "source": [
    "train_user_song_count_df_first.drop(['count'], axis=1, inplace=True)\n",
    "train_user_song_count_df_second.drop(['count'], axis=1, inplace=True)\n",
    "train_user_song_count_df_third.drop(['count'], axis=1, inplace=True)\n",
    "train_user_song_count_df_fourth.drop(['count'], axis=1, inplace=True)\n",
    "\n",
    "test_user_song_count_df_first.drop(['count'], axis=1, inplace=True)\n",
    "test_user_song_count_df_second.drop(['count'], axis=1, inplace=True)\n",
    "test_user_song_count_df_third.drop(['count'], axis=1, inplace=True)\n",
    "test_user_song_count_df_fourth.drop(['count'], axis=1, inplace=True)"
   ]
  },
  {
   "cell_type": "code",
   "execution_count": 69,
   "metadata": {},
   "outputs": [
    {
     "data": {
      "text/html": [
       "<div>\n",
       "<style scoped>\n",
       "    .dataframe tbody tr th:only-of-type {\n",
       "        vertical-align: middle;\n",
       "    }\n",
       "\n",
       "    .dataframe tbody tr th {\n",
       "        vertical-align: top;\n",
       "    }\n",
       "\n",
       "    .dataframe thead th {\n",
       "        text-align: right;\n",
       "    }\n",
       "</style>\n",
       "<table border=\"1\" class=\"dataframe\">\n",
       "  <thead>\n",
       "    <tr style=\"text-align: right;\">\n",
       "      <th></th>\n",
       "      <th>userid</th>\n",
       "      <th>songid</th>\n",
       "      <th>rating</th>\n",
       "    </tr>\n",
       "  </thead>\n",
       "  <tbody>\n",
       "    <tr>\n",
       "      <td>0</td>\n",
       "      <td>1</td>\n",
       "      <td>10</td>\n",
       "      <td>2</td>\n",
       "    </tr>\n",
       "    <tr>\n",
       "      <td>1</td>\n",
       "      <td>1</td>\n",
       "      <td>27</td>\n",
       "      <td>4</td>\n",
       "    </tr>\n",
       "    <tr>\n",
       "      <td>2</td>\n",
       "      <td>1</td>\n",
       "      <td>43</td>\n",
       "      <td>1</td>\n",
       "    </tr>\n",
       "    <tr>\n",
       "      <td>3</td>\n",
       "      <td>1</td>\n",
       "      <td>91</td>\n",
       "      <td>1</td>\n",
       "    </tr>\n",
       "    <tr>\n",
       "      <td>4</td>\n",
       "      <td>1</td>\n",
       "      <td>137</td>\n",
       "      <td>2</td>\n",
       "    </tr>\n",
       "  </tbody>\n",
       "</table>\n",
       "</div>"
      ],
      "text/plain": [
       "   userid  songid rating\n",
       "0       1      10      2\n",
       "1       1      27      4\n",
       "2       1      43      1\n",
       "3       1      91      1\n",
       "4       1     137      2"
      ]
     },
     "execution_count": 69,
     "metadata": {},
     "output_type": "execute_result"
    }
   ],
   "source": [
    "train_user_song_count_df_first.head()"
   ]
  },
  {
   "cell_type": "code",
   "execution_count": 70,
   "metadata": {},
   "outputs": [],
   "source": [
    "train_user_song_count_df_first['rating'] = train_user_song_count_df_first['rating'].astype('int')\n",
    "train_user_song_count_df_second['rating'] = train_user_song_count_df_second['rating'].astype('int')\n",
    "train_user_song_count_df_third['rating'] = train_user_song_count_df_third['rating'].astype('int')\n",
    "train_user_song_count_df_fourth['rating'] = train_user_song_count_df_fourth['rating'].astype('int')\n",
    "\n",
    "test_user_song_count_df_first['rating'] = test_user_song_count_df_first['rating'].astype('int')\n",
    "test_user_song_count_df_second['rating'] = test_user_song_count_df_second['rating'].astype('int')\n",
    "test_user_song_count_df_third['rating'] = test_user_song_count_df_third['rating'].astype('int')\n",
    "test_user_song_count_df_fourth['rating'] = test_user_song_count_df_fourth['rating'].astype('int')"
   ]
  },
  {
   "cell_type": "code",
   "execution_count": 71,
   "metadata": {},
   "outputs": [
    {
     "data": {
      "text/html": [
       "<div>\n",
       "<style scoped>\n",
       "    .dataframe tbody tr th:only-of-type {\n",
       "        vertical-align: middle;\n",
       "    }\n",
       "\n",
       "    .dataframe tbody tr th {\n",
       "        vertical-align: top;\n",
       "    }\n",
       "\n",
       "    .dataframe thead th {\n",
       "        text-align: right;\n",
       "    }\n",
       "</style>\n",
       "<table border=\"1\" class=\"dataframe\">\n",
       "  <thead>\n",
       "    <tr style=\"text-align: right;\">\n",
       "      <th></th>\n",
       "      <th>userid</th>\n",
       "      <th>songid</th>\n",
       "      <th>rating</th>\n",
       "    </tr>\n",
       "  </thead>\n",
       "  <tbody>\n",
       "    <tr>\n",
       "      <td>0</td>\n",
       "      <td>1</td>\n",
       "      <td>10</td>\n",
       "      <td>2</td>\n",
       "    </tr>\n",
       "    <tr>\n",
       "      <td>1</td>\n",
       "      <td>1</td>\n",
       "      <td>27</td>\n",
       "      <td>4</td>\n",
       "    </tr>\n",
       "    <tr>\n",
       "      <td>2</td>\n",
       "      <td>1</td>\n",
       "      <td>43</td>\n",
       "      <td>1</td>\n",
       "    </tr>\n",
       "    <tr>\n",
       "      <td>3</td>\n",
       "      <td>1</td>\n",
       "      <td>91</td>\n",
       "      <td>1</td>\n",
       "    </tr>\n",
       "    <tr>\n",
       "      <td>4</td>\n",
       "      <td>1</td>\n",
       "      <td>137</td>\n",
       "      <td>2</td>\n",
       "    </tr>\n",
       "  </tbody>\n",
       "</table>\n",
       "</div>"
      ],
      "text/plain": [
       "   userid  songid  rating\n",
       "0       1      10       2\n",
       "1       1      27       4\n",
       "2       1      43       1\n",
       "3       1      91       1\n",
       "4       1     137       2"
      ]
     },
     "execution_count": 71,
     "metadata": {},
     "output_type": "execute_result"
    }
   ],
   "source": [
    "train_user_song_count_df_first.head()"
   ]
  },
  {
   "cell_type": "markdown",
   "metadata": {},
   "source": [
    "## *** Use these dataframes ***"
   ]
  },
  {
   "cell_type": "code",
   "execution_count": 72,
   "metadata": {},
   "outputs": [],
   "source": [
    "# train_user_song_count_df_first\n",
    "# train_user_song_count_df_second\n",
    "# train_user_song_count_df_third\n",
    "# train_user_song_count_df_fourth\n",
    "\n",
    "# test_user_song_count_df_first\n",
    "# test_user_song_count_df_second\n",
    "# test_user_song_count_df_third\n",
    "# test_user_song_count_df_fourth"
   ]
  },
  {
   "cell_type": "markdown",
   "metadata": {},
   "source": [
    "## Keras"
   ]
  },
  {
   "cell_type": "code",
   "execution_count": 73,
   "metadata": {},
   "outputs": [
    {
     "data": {
      "text/html": [
       "<div>\n",
       "<style scoped>\n",
       "    .dataframe tbody tr th:only-of-type {\n",
       "        vertical-align: middle;\n",
       "    }\n",
       "\n",
       "    .dataframe tbody tr th {\n",
       "        vertical-align: top;\n",
       "    }\n",
       "\n",
       "    .dataframe thead th {\n",
       "        text-align: right;\n",
       "    }\n",
       "</style>\n",
       "<table border=\"1\" class=\"dataframe\">\n",
       "  <thead>\n",
       "    <tr style=\"text-align: right;\">\n",
       "      <th></th>\n",
       "      <th>userid</th>\n",
       "      <th>songid</th>\n",
       "      <th>rating</th>\n",
       "    </tr>\n",
       "  </thead>\n",
       "  <tbody>\n",
       "    <tr>\n",
       "      <td>0</td>\n",
       "      <td>1</td>\n",
       "      <td>10</td>\n",
       "      <td>2</td>\n",
       "    </tr>\n",
       "    <tr>\n",
       "      <td>1</td>\n",
       "      <td>1</td>\n",
       "      <td>27</td>\n",
       "      <td>4</td>\n",
       "    </tr>\n",
       "    <tr>\n",
       "      <td>2</td>\n",
       "      <td>1</td>\n",
       "      <td>43</td>\n",
       "      <td>1</td>\n",
       "    </tr>\n",
       "    <tr>\n",
       "      <td>3</td>\n",
       "      <td>1</td>\n",
       "      <td>91</td>\n",
       "      <td>1</td>\n",
       "    </tr>\n",
       "    <tr>\n",
       "      <td>4</td>\n",
       "      <td>1</td>\n",
       "      <td>137</td>\n",
       "      <td>2</td>\n",
       "    </tr>\n",
       "  </tbody>\n",
       "</table>\n",
       "</div>"
      ],
      "text/plain": [
       "   userid  songid  rating\n",
       "0       1      10       2\n",
       "1       1      27       4\n",
       "2       1      43       1\n",
       "3       1      91       1\n",
       "4       1     137       2"
      ]
     },
     "execution_count": 73,
     "metadata": {},
     "output_type": "execute_result"
    }
   ],
   "source": [
    "train_user_song_count_df_first.head()"
   ]
  },
  {
   "cell_type": "code",
   "execution_count": 74,
   "metadata": {},
   "outputs": [
    {
     "data": {
      "text/html": [
       "<div>\n",
       "<style scoped>\n",
       "    .dataframe tbody tr th:only-of-type {\n",
       "        vertical-align: middle;\n",
       "    }\n",
       "\n",
       "    .dataframe tbody tr th {\n",
       "        vertical-align: top;\n",
       "    }\n",
       "\n",
       "    .dataframe thead th {\n",
       "        text-align: right;\n",
       "    }\n",
       "</style>\n",
       "<table border=\"1\" class=\"dataframe\">\n",
       "  <thead>\n",
       "    <tr style=\"text-align: right;\">\n",
       "      <th></th>\n",
       "      <th>userid</th>\n",
       "      <th>songid</th>\n",
       "      <th>rating</th>\n",
       "    </tr>\n",
       "  </thead>\n",
       "  <tbody>\n",
       "    <tr>\n",
       "      <td>0</td>\n",
       "      <td>793</td>\n",
       "      <td>2</td>\n",
       "      <td>1</td>\n",
       "    </tr>\n",
       "    <tr>\n",
       "      <td>1</td>\n",
       "      <td>793</td>\n",
       "      <td>5</td>\n",
       "      <td>1</td>\n",
       "    </tr>\n",
       "    <tr>\n",
       "      <td>2</td>\n",
       "      <td>793</td>\n",
       "      <td>14</td>\n",
       "      <td>1</td>\n",
       "    </tr>\n",
       "    <tr>\n",
       "      <td>3</td>\n",
       "      <td>793</td>\n",
       "      <td>51</td>\n",
       "      <td>1</td>\n",
       "    </tr>\n",
       "    <tr>\n",
       "      <td>4</td>\n",
       "      <td>793</td>\n",
       "      <td>64</td>\n",
       "      <td>1</td>\n",
       "    </tr>\n",
       "  </tbody>\n",
       "</table>\n",
       "</div>"
      ],
      "text/plain": [
       "   userid  songid  rating\n",
       "0     793       2       1\n",
       "1     793       5       1\n",
       "2     793      14       1\n",
       "3     793      51       1\n",
       "4     793      64       1"
      ]
     },
     "execution_count": 74,
     "metadata": {},
     "output_type": "execute_result"
    }
   ],
   "source": [
    "test_user_song_count_df_first.head()"
   ]
  },
  {
   "cell_type": "code",
   "execution_count": 75,
   "metadata": {},
   "outputs": [],
   "source": [
    "n_users = input_dataset['userid'].max()\n",
    "n_songs = len(train_user_song_count_df_first.songid.unique())"
   ]
  },
  {
   "cell_type": "code",
   "execution_count": 76,
   "metadata": {},
   "outputs": [
    {
     "name": "stdout",
     "output_type": "stream",
     "text": [
      "990\n",
      "4034\n"
     ]
    }
   ],
   "source": [
    "print(n_users)\n",
    "print(n_songs)"
   ]
  },
  {
   "cell_type": "markdown",
   "metadata": {},
   "source": [
    "### Creating dot product model"
   ]
  },
  {
   "cell_type": "code",
   "execution_count": 77,
   "metadata": {},
   "outputs": [],
   "source": [
    "# creating song embedding path\n",
    "songs_input = Input(shape=[1], name=\"Songs-Input\")\n",
    "song_embedding = Embedding(n_songs+1, 5, name=\"Songs-Embedding\")(songs_input)\n",
    "song_vec = Flatten(name=\"Flatten-Song\")(song_embedding)\n",
    "\n",
    "# creating user embedding path\n",
    "user_input = Input(shape=[1], name=\"User-Input\")\n",
    "user_embedding = Embedding(n_users+1, 5, name=\"User-Embedding\")(user_input)\n",
    "user_vec = Flatten(name=\"Flatten-Users\")(user_embedding)\n",
    "\n",
    "# performing dot product and creating model\n",
    "prod = Dot(name=\"Dot-Product\", axes=1)([song_vec, user_vec])\n",
    "model = Model([user_input, songs_input], prod)\n",
    "model.compile('adam', 'mean_squared_error')"
   ]
  },
  {
   "cell_type": "code",
   "execution_count": 78,
   "metadata": {},
   "outputs": [
    {
     "name": "stderr",
     "output_type": "stream",
     "text": [
      "/Users/akshayj/opt/anaconda3/lib/python3.7/site-packages/tensorflow_core/python/framework/indexed_slices.py:424: UserWarning: Converting sparse IndexedSlices to a dense Tensor of unknown shape. This may consume a large amount of memory.\n",
      "  \"Converting sparse IndexedSlices to a dense Tensor of unknown shape. \"\n"
     ]
    },
    {
     "name": "stdout",
     "output_type": "stream",
     "text": [
      "Epoch 1/5\n",
      "196612/196612 [==============================] - 4s 22us/step - loss: 1.0024\n",
      "Epoch 2/5\n",
      "196612/196612 [==============================] - 4s 21us/step - loss: 0.3625\n",
      "Epoch 3/5\n",
      "196612/196612 [==============================] - 4s 21us/step - loss: 0.3384\n",
      "Epoch 4/5\n",
      "196612/196612 [==============================] - 5s 23us/step - loss: 0.3296\n",
      "Epoch 5/5\n",
      "196612/196612 [==============================] - 4s 22us/step - loss: 0.3244\n"
     ]
    },
    {
     "data": {
      "text/plain": [
       "Text(0, 0.5, 'Training Error')"
      ]
     },
     "execution_count": 78,
     "metadata": {},
     "output_type": "execute_result"
    },
    {
     "data": {
      "image/png": "[encoded data removed]",
      "text/plain": [
       "<Figure size 432x288 with 1 Axes>"
      ]
     },
     "metadata": {
      "needs_background": "light"
     },
     "output_type": "display_data"
    }
   ],
   "source": [
    "%%time\n",
    "from keras.models import load_model\n",
    "import os \n",
    "history = model.fit([train_user_song_count_df_first['userid'], train_user_song_count_df_first['songid']], train_user_song_count_df_first['rating'], epochs=5, verbose=1)\n",
    "model.save('regression_model.h5')\n",
    "plt.plot(history.history['loss'])\n",
    "plt.xlabel(\"Epochs\")\n",
    "plt.ylabel(\"Training Error\")"
   ]
  },
  {
   "cell_type": "code",
   "execution_count": 79,
   "metadata": {},
   "outputs": [],
   "source": [
    "# [0.00196864] 0.0\n",
    "# [-0.00012866] 0.002325581395348837\n",
    "# [-0.00186123] 0.002325581395348837\n",
    "# [-0.00570821] 0.002325581395348837\n",
    "# [0.00340688] 0.0\n",
    "# [-0.00189093] 0.0069767441860465115\n",
    "# [-0.00176162] 0.05116279069767442\n",
    "# [-0.004316] 0.002325581395348837\n",
    "# [-0.00244239] 0.0069767441860465115\n",
    "# [-0.00261529] 0.04186046511627907"
   ]
  },
  {
   "cell_type": "code",
   "execution_count": 80,
   "metadata": {},
   "outputs": [
    {
     "name": "stdout",
     "output_type": "stream",
     "text": [
      "[-0.03788282] 1\n",
      "[-0.03876629] 1\n",
      "[-0.03927339] 1\n",
      "[-0.03196317] 1\n",
      "[-0.03688782] 1\n",
      "[-0.03340777] 1\n",
      "[-0.03578845] 4\n",
      "[-0.03941832] 1\n",
      "[-0.04520052] 1\n",
      "[-0.04834164] 3\n"
     ]
    },
    {
     "data": {
      "text/plain": [
       "[None, None, None, None, None, None, None, None, None, None]"
      ]
     },
     "execution_count": 80,
     "metadata": {},
     "output_type": "execute_result"
    }
   ],
   "source": [
    "predictions = model.predict([test_user_song_count_df_first.userid.head(10), test_user_song_count_df_first.songid.head(10)])\n",
    "\n",
    "[print(predictions[i], test_user_song_count_df_first['rating'].iloc[i]) for i in range(0,10)]"
   ]
  },
  {
   "cell_type": "code",
   "execution_count": 81,
   "metadata": {},
   "outputs": [
    {
     "name": "stdout",
     "output_type": "stream",
     "text": [
      "51240/51240 [==============================] - 0s 10us/step\n"
     ]
    },
    {
     "data": {
      "text/plain": [
       "1.7287464319031096"
      ]
     },
     "execution_count": 81,
     "metadata": {},
     "output_type": "execute_result"
    }
   ],
   "source": [
    "model.evaluate([test_user_song_count_df_first.userid, test_user_song_count_df_first.songid], test_user_song_count_df_first.rating)\n"
   ]
  },
  {
   "cell_type": "code",
   "execution_count": 152,
   "metadata": {},
   "outputs": [],
   "source": [
    "# creating song embedding path\n",
    "songs_input = Input(shape=[1], name=\"Songs-Input\")\n",
    "songs_embedding = Embedding(n_songs+1, 5, name=\"Songs-Embedding\")(songs_input)\n",
    "songs_vec = Flatten(name=\"Flatten-Songs\")(songs_embedding)\n",
    "\n",
    "# creating user embedding path\n",
    "user_input = Input(shape=[1], name=\"User-Input\")\n",
    "user_embedding = Embedding(n_users+1, 5, name=\"User-Embedding\")(user_input)\n",
    "user_vec = Flatten(name=\"Flatten-Users\")(user_embedding)\n",
    "\n",
    "# concatenate features\n",
    "conc = Concatenate()([songs_vec, user_vec])\n",
    "\n",
    "# add fully-connected-layers\n",
    "fc1 = Dense(128, activation='relu')(conc)\n",
    "fc2 = Dense(32, activation='relu')(fc1)\n",
    "out = Dense(1)(fc2)\n",
    "\n",
    "# Create model and compile it\n",
    "model_1 = Model([user_input, songs_input], out)\n",
    "model_1.compile('adam', 'mean_squared_error')\n",
    "\n",
    "model_2 = Model([user_input, songs_input], out)\n",
    "model_2.compile('adam', 'mean_squared_error')\n",
    "\n",
    "model_3 = Model([user_input, songs_input], out)\n",
    "model_3.compile('adam', 'mean_squared_error')\n",
    "\n",
    "model_4 = Model([user_input, songs_input], out)\n",
    "model_4.compile('adam', 'mean_squared_error')"
   ]
  },
  {
   "cell_type": "code",
   "execution_count": 153,
   "metadata": {
    "collapsed": true
   },
   "outputs": [
    {
     "name": "stderr",
     "output_type": "stream",
     "text": [
      "/Users/akshayj/opt/anaconda3/lib/python3.7/site-packages/tensorflow_core/python/framework/indexed_slices.py:424: UserWarning: Converting sparse IndexedSlices to a dense Tensor of unknown shape. This may consume a large amount of memory.\n",
      "  \"Converting sparse IndexedSlices to a dense Tensor of unknown shape. \"\n"
     ]
    },
    {
     "name": "stdout",
     "output_type": "stream",
     "text": [
      "Epoch 1/20\n",
      "196612/196612 [==============================] - 6s 32us/step - loss: 0.3445\n",
      "Epoch 2/20\n",
      "196612/196612 [==============================] - 6s 31us/step - loss: 0.3244\n",
      "Epoch 3/20\n",
      "196612/196612 [==============================] - 7s 35us/step - loss: 0.3143\n",
      "Epoch 4/20\n",
      "196612/196612 [==============================] - 6s 32us/step - loss: 0.3040\n",
      "Epoch 5/20\n",
      "196612/196612 [==============================] - 6s 31us/step - loss: 0.2958\n",
      "Epoch 6/20\n",
      "196612/196612 [==============================] - 6s 29us/step - loss: 0.2886\n",
      "Epoch 7/20\n",
      "196612/196612 [==============================] - 6s 28us/step - loss: 0.2816\n",
      "Epoch 8/20\n",
      "196612/196612 [==============================] - 5s 28us/step - loss: 0.2757\n",
      "Epoch 9/20\n",
      "196612/196612 [==============================] - 6s 31us/step - loss: 0.2685\n",
      "Epoch 10/20\n",
      "196612/196612 [==============================] - 6s 32us/step - loss: 0.2631\n",
      "Epoch 11/20\n",
      "196612/196612 [==============================] - 6s 28us/step - loss: 0.2575\n",
      "Epoch 12/20\n",
      "196612/196612 [==============================] - 6s 28us/step - loss: 0.2546\n",
      "Epoch 13/20\n",
      "196612/196612 [==============================] - 6s 28us/step - loss: 0.2478\n",
      "Epoch 14/20\n",
      "196612/196612 [==============================] - 5s 28us/step - loss: 0.2436\n",
      "Epoch 15/20\n",
      "196612/196612 [==============================] - 6s 28us/step - loss: 0.2382\n",
      "Epoch 16/20\n",
      "196612/196612 [==============================] - 6s 32us/step - loss: 0.2330\n",
      "Epoch 17/20\n",
      "196612/196612 [==============================] - 6s 30us/step - loss: 0.2291\n",
      "Epoch 18/20\n",
      "196612/196612 [==============================] - 5s 28us/step - loss: 0.2272\n",
      "Epoch 19/20\n",
      "196612/196612 [==============================] - 6s 29us/step - loss: 0.2241\n",
      "Epoch 20/20\n",
      "196612/196612 [==============================] - 6s 32us/step - loss: 0.2202: 0\n"
     ]
    },
    {
     "name": "stderr",
     "output_type": "stream",
     "text": [
      "/Users/akshayj/opt/anaconda3/lib/python3.7/site-packages/tensorflow_core/python/framework/indexed_slices.py:424: UserWarning: Converting sparse IndexedSlices to a dense Tensor of unknown shape. This may consume a large amount of memory.\n",
      "  \"Converting sparse IndexedSlices to a dense Tensor of unknown shape. \"\n"
     ]
    },
    {
     "name": "stdout",
     "output_type": "stream",
     "text": [
      "Epoch 1/20\n",
      "204207/204207 [==============================] - 7s 33us/step - loss: 0.3157\n",
      "Epoch 2/20\n",
      "204207/204207 [==============================] - 6s 31us/step - loss: 0.3036\n",
      "Epoch 3/20\n",
      "204207/204207 [==============================] - 6s 31us/step - loss: 0.2919\n",
      "Epoch 4/20\n",
      "204207/204207 [==============================] - 6s 29us/step - loss: 0.2813\n",
      "Epoch 5/20\n",
      "204207/204207 [==============================] - 6s 28us/step - loss: 0.2722\n",
      "Epoch 6/20\n",
      "204207/204207 [==============================] - 6s 28us/step - loss: 0.2632\n",
      "Epoch 7/20\n",
      "204207/204207 [==============================] - 6s 28us/step - loss: 0.2561\n",
      "Epoch 8/20\n",
      "204207/204207 [==============================] - 6s 28us/step - loss: 0.2504\n",
      "Epoch 9/20\n",
      "204207/204207 [==============================] - 6s 28us/step - loss: 0.2448\n",
      "Epoch 10/20\n",
      "204207/204207 [==============================] - 6s 28us/step - loss: 0.2400\n",
      "Epoch 11/20\n",
      "204207/204207 [==============================] - 6s 28us/step - loss: 0.2357\n",
      "Epoch 12/20\n",
      "204207/204207 [==============================] - 6s 28us/step - loss: 0.2322\n",
      "Epoch 13/20\n",
      "204207/204207 [==============================] - 6s 28us/step - loss: 0.2285\n",
      "Epoch 14/20\n",
      "204207/204207 [==============================] - 6s 28us/step - loss: 0.2259\n",
      "Epoch 15/20\n",
      "204207/204207 [==============================] - 6s 28us/step - loss: 0.2224\n",
      "Epoch 16/20\n",
      "204207/204207 [==============================] - 6s 28us/step - loss: 0.2194\n",
      "Epoch 17/20\n",
      "204207/204207 [==============================] - 6s 28us/step - loss: 0.2170\n",
      "Epoch 18/20\n",
      "204207/204207 [==============================] - 6s 27us/step - loss: 0.2148\n",
      "Epoch 19/20\n",
      "204207/204207 [==============================] - 6s 27us/step - loss: 0.2129\n",
      "Epoch 20/20\n",
      "204207/204207 [==============================] - 6s 28us/step - loss: 0.2114\n"
     ]
    },
    {
     "name": "stderr",
     "output_type": "stream",
     "text": [
      "/Users/akshayj/opt/anaconda3/lib/python3.7/site-packages/tensorflow_core/python/framework/indexed_slices.py:424: UserWarning: Converting sparse IndexedSlices to a dense Tensor of unknown shape. This may consume a large amount of memory.\n",
      "  \"Converting sparse IndexedSlices to a dense Tensor of unknown shape. \"\n"
     ]
    },
    {
     "name": "stdout",
     "output_type": "stream",
     "text": [
      "Epoch 1/20\n",
      "293210/293210 [==============================] - 8s 29us/step - loss: 0.2910\n",
      "Epoch 2/20\n",
      "293210/293210 [==============================] - 8s 28us/step - loss: 0.2815\n",
      "Epoch 3/20\n",
      "293210/293210 [==============================] - 8s 28us/step - loss: 0.2737\n",
      "Epoch 4/20\n",
      "293210/293210 [==============================] - 8s 28us/step - loss: 0.2674\n",
      "Epoch 5/20\n",
      "293210/293210 [==============================] - 8s 27us/step - loss: 0.2622\n",
      "Epoch 6/20\n",
      "293210/293210 [==============================] - 8s 28us/step - loss: 0.2575\n",
      "Epoch 7/20\n",
      "293210/293210 [==============================] - 8s 28us/step - loss: 0.2532\n",
      "Epoch 8/20\n",
      "293210/293210 [==============================] - 8s 28us/step - loss: 0.2495\n",
      "Epoch 9/20\n",
      "293210/293210 [==============================] - 8s 28us/step - loss: 0.2464\n",
      "Epoch 10/20\n",
      "293210/293210 [==============================] - 8s 28us/step - loss: 0.2431\n",
      "Epoch 11/20\n",
      "293210/293210 [==============================] - 8s 27us/step - loss: 0.2400\n",
      "Epoch 12/20\n",
      "293210/293210 [==============================] - 8s 28us/step - loss: 0.2378\n",
      "Epoch 13/20\n",
      "293210/293210 [==============================] - 8s 28us/step - loss: 0.2351\n",
      "Epoch 14/20\n",
      "293210/293210 [==============================] - 8s 27us/step - loss: 0.2330\n",
      "Epoch 15/20\n",
      "293210/293210 [==============================] - 8s 27us/step - loss: 0.2311\n",
      "Epoch 16/20\n",
      "293210/293210 [==============================] - 9s 30us/step - loss: 0.2293\n",
      "Epoch 17/20\n",
      "293210/293210 [==============================] - 9s 30us/step - loss: 0.2278\n",
      "Epoch 18/20\n",
      "293210/293210 [==============================] - 8s 28us/step - loss: 0.2267\n",
      "Epoch 19/20\n",
      "293210/293210 [==============================] - 8s 28us/step - loss: 0.2253\n",
      "Epoch 20/20\n",
      "293210/293210 [==============================] - 8s 28us/step - loss: 0.2237\n"
     ]
    },
    {
     "name": "stderr",
     "output_type": "stream",
     "text": [
      "/Users/akshayj/opt/anaconda3/lib/python3.7/site-packages/tensorflow_core/python/framework/indexed_slices.py:424: UserWarning: Converting sparse IndexedSlices to a dense Tensor of unknown shape. This may consume a large amount of memory.\n",
      "  \"Converting sparse IndexedSlices to a dense Tensor of unknown shape. \"\n"
     ]
    },
    {
     "name": "stdout",
     "output_type": "stream",
     "text": [
      "Epoch 1/20\n",
      "306899/306899 [==============================] - 9s 29us/step - loss: 0.2757\n",
      "Epoch 2/20\n",
      "306899/306899 [==============================] - 9s 28us/step - loss: 0.2663\n",
      "Epoch 3/20\n",
      "306899/306899 [==============================] - 9s 28us/step - loss: 0.2594\n",
      "Epoch 4/20\n",
      "306899/306899 [==============================] - 9s 28us/step - loss: 0.2540\n",
      "Epoch 5/20\n",
      "306899/306899 [==============================] - 9s 28us/step - loss: 0.2501\n",
      "Epoch 6/20\n",
      "306899/306899 [==============================] - 9s 28us/step - loss: 0.2465\n",
      "Epoch 7/20\n",
      "306899/306899 [==============================] - 8s 28us/step - loss: 0.2436\n",
      "Epoch 8/20\n",
      "306899/306899 [==============================] - 8s 28us/step - loss: 0.2416\n",
      "Epoch 9/20\n",
      "306899/306899 [==============================] - 8s 27us/step - loss: 0.2392\n",
      "Epoch 10/20\n",
      "306899/306899 [==============================] - 8s 27us/step - loss: 0.2378\n",
      "Epoch 11/20\n",
      "306899/306899 [==============================] - 8s 27us/step - loss: 0.2372\n",
      "Epoch 12/20\n",
      "306899/306899 [==============================] - 8s 27us/step - loss: 0.2354\n",
      "Epoch 13/20\n",
      "306899/306899 [==============================] - 8s 28us/step - loss: 0.2337\n",
      "Epoch 14/20\n",
      "306899/306899 [==============================] - 8s 27us/step - loss: 0.2329\n",
      "Epoch 15/20\n",
      "306899/306899 [==============================] - 8s 27us/step - loss: 0.2321\n",
      "Epoch 16/20\n",
      "306899/306899 [==============================] - 8s 27us/step - loss: 0.2325\n",
      "Epoch 17/20\n",
      "306899/306899 [==============================] - 8s 27us/step - loss: 0.2307\n",
      "Epoch 18/20\n",
      "306899/306899 [==============================] - 8s 27us/step - loss: 0.2301\n",
      "Epoch 19/20\n",
      "306899/306899 [==============================] - 8s 28us/step - loss: 0.2291\n",
      "Epoch 20/20\n",
      "306899/306899 [==============================] - 9s 30us/step - loss: 0.2283\n"
     ]
    },
    {
     "data": {
      "text/plain": [
       "Text(0, 0.5, 'Training Error')"
      ]
     },
     "execution_count": 153,
     "metadata": {},
     "output_type": "execute_result"
    },
    {
     "data": {
      "image/png": "[encoded data removed]",
      "text/plain": [
       "<Figure size 432x288 with 1 Axes>"
      ]
     },
     "metadata": {
      "needs_background": "light"
     },
     "output_type": "display_data"
    }
   ],
   "source": [
    "from keras.models import load_model\n",
    "\n",
    "history = model_1.fit([train_user_song_count_df_first['userid'], train_user_song_count_df_first['songid']], train_user_song_count_df_first['rating'], epochs=20, verbose=1, shuffle=False)\n",
    "model_1.save('regression_model_1.h5')\n",
    "plt.plot(history.history['loss'])\n",
    "plt.xlabel(\"Epochs\")\n",
    "plt.ylabel(\"Training Error\")\n",
    "\n",
    "history = model_2.fit([train_user_song_count_df_second['userid'], train_user_song_count_df_second['songid']], train_user_song_count_df_second['rating'], epochs=20, verbose=1, shuffle=False)\n",
    "model_2.save('regression_model_2.h5')\n",
    "plt.plot(history.history['loss'])\n",
    "plt.xlabel(\"Epochs\")\n",
    "plt.ylabel(\"Training Error\")\n",
    "\n",
    "history = model_3.fit([train_user_song_count_df_third['userid'], train_user_song_count_df_third['songid']], train_user_song_count_df_third['rating'], epochs=20, verbose=1, shuffle=False)\n",
    "model_3.save('regression_model_3.h5')\n",
    "plt.plot(history.history['loss'])\n",
    "plt.xlabel(\"Epochs\")\n",
    "plt.ylabel(\"Training Error\")\n",
    "\n",
    "history = model_4.fit([train_user_song_count_df_fourth['userid'], train_user_song_count_df_fourth['songid']], train_user_song_count_df_fourth['rating'], epochs=20, verbose=1, shuffle=False)\n",
    "model_4.save('regression_model_4.h5')\n",
    "plt.plot(history.history['loss'])\n",
    "plt.xlabel(\"Epochs\")\n",
    "plt.ylabel(\"Training Error\")"
   ]
  },
  {
   "cell_type": "code",
   "execution_count": 186,
   "metadata": {},
   "outputs": [
    {
     "name": "stdout",
     "output_type": "stream",
     "text": [
      "51240/51240 [==============================] - 1s 12us/step\n",
      "Slot 1 RMSE : 0.4192924713083397\n",
      "54255/54255 [==============================] - 1s 12us/step\n",
      "Slot 2 RMSE : 0.4265224489393613\n",
      "70612/70612 [==============================] - 1s 10us/step\n",
      "Slot 3 RMSE : 0.3955796504047027\n",
      "72669/72669 [==============================] - 1s 11us/step\n",
      "Slot 4 RMSE : 0.4051312989698697\n"
     ]
    }
   ],
   "source": [
    "print('Slot 1 RMSE : ' + str(model_1.evaluate([test_user_song_count_df_first.userid, test_user_song_count_df_first.songid], test_user_song_count_df_first.rating)))\n",
    "print('Slot 2 RMSE : ' + str(model_2.evaluate([test_user_song_count_df_second.userid, test_user_song_count_df_second.songid], test_user_song_count_df_second.rating)))\n",
    "print('Slot 3 RMSE : ' + str(model_3.evaluate([test_user_song_count_df_third.userid, test_user_song_count_df_third.songid], test_user_song_count_df_third.rating)))\n",
    "print('Slot 4 RMSE : ' + str(model_4.evaluate([test_user_song_count_df_fourth.userid, test_user_song_count_df_fourth.songid], test_user_song_count_df_fourth.rating)))\n"
   ]
  },
  {
   "cell_type": "code",
   "execution_count": null,
   "metadata": {},
   "outputs": [],
   "source": []
  },
  {
   "cell_type": "markdown",
   "metadata": {},
   "source": [
    "## Prediction"
   ]
  },
  {
   "cell_type": "code",
   "execution_count": 155,
   "metadata": {},
   "outputs": [
    {
     "name": "stdout",
     "output_type": "stream",
     "text": [
      "CPU times: user 20min 6s, sys: 19.7 s, total: 20min 26s\n",
      "Wall time: 20min 2s\n"
     ]
    }
   ],
   "source": [
    "%%time\n",
    "test_set = [test_user_song_count_df_first, test_user_song_count_df_second, test_user_song_count_df_third, test_user_song_count_df_fourth]\n",
    "model_set = [model_1, model_2, model_3, model_4]\n",
    "output_list = []\n",
    "# predict using test data\n",
    "results = []\n",
    "for item, model in zip(test_set, model_set):\n",
    "    output = pd.DataFrame(columns = ['userid', 'songid','rating'])\n",
    "    for index, row in item.iterrows():\n",
    "        predictions = model.predict([[row['userid']], [[row['songid']]]])\n",
    "        predicted_rating = predictions[0][0]\n",
    "        output = output.append(pd.Series([str(row['userid']), str(row['songid']), predicted_rating], index=output.columns), ignore_index=True)\n",
    "    output_list.append(output)"
   ]
  },
  {
   "cell_type": "code",
   "execution_count": 156,
   "metadata": {},
   "outputs": [
    {
     "data": {
      "text/html": [
       "<div>\n",
       "<style scoped>\n",
       "    .dataframe tbody tr th:only-of-type {\n",
       "        vertical-align: middle;\n",
       "    }\n",
       "\n",
       "    .dataframe tbody tr th {\n",
       "        vertical-align: top;\n",
       "    }\n",
       "\n",
       "    .dataframe thead th {\n",
       "        text-align: right;\n",
       "    }\n",
       "</style>\n",
       "<table border=\"1\" class=\"dataframe\">\n",
       "  <thead>\n",
       "    <tr style=\"text-align: right;\">\n",
       "      <th></th>\n",
       "      <th>userid</th>\n",
       "      <th>songid</th>\n",
       "      <th>rating</th>\n",
       "    </tr>\n",
       "  </thead>\n",
       "  <tbody>\n",
       "    <tr>\n",
       "      <td>0</td>\n",
       "      <td>793</td>\n",
       "      <td>2</td>\n",
       "      <td>1.647720</td>\n",
       "    </tr>\n",
       "    <tr>\n",
       "      <td>1</td>\n",
       "      <td>793</td>\n",
       "      <td>5</td>\n",
       "      <td>1.341174</td>\n",
       "    </tr>\n",
       "    <tr>\n",
       "      <td>2</td>\n",
       "      <td>793</td>\n",
       "      <td>14</td>\n",
       "      <td>1.178483</td>\n",
       "    </tr>\n",
       "    <tr>\n",
       "      <td>3</td>\n",
       "      <td>793</td>\n",
       "      <td>51</td>\n",
       "      <td>1.078803</td>\n",
       "    </tr>\n",
       "    <tr>\n",
       "      <td>4</td>\n",
       "      <td>793</td>\n",
       "      <td>64</td>\n",
       "      <td>1.308299</td>\n",
       "    </tr>\n",
       "    <tr>\n",
       "      <td>...</td>\n",
       "      <td>...</td>\n",
       "      <td>...</td>\n",
       "      <td>...</td>\n",
       "    </tr>\n",
       "    <tr>\n",
       "      <td>51235</td>\n",
       "      <td>990</td>\n",
       "      <td>4024</td>\n",
       "      <td>1.210553</td>\n",
       "    </tr>\n",
       "    <tr>\n",
       "      <td>51236</td>\n",
       "      <td>990</td>\n",
       "      <td>4025</td>\n",
       "      <td>5.265566</td>\n",
       "    </tr>\n",
       "    <tr>\n",
       "      <td>51237</td>\n",
       "      <td>990</td>\n",
       "      <td>4027</td>\n",
       "      <td>1.076630</td>\n",
       "    </tr>\n",
       "    <tr>\n",
       "      <td>51238</td>\n",
       "      <td>990</td>\n",
       "      <td>4030</td>\n",
       "      <td>1.349188</td>\n",
       "    </tr>\n",
       "    <tr>\n",
       "      <td>51239</td>\n",
       "      <td>990</td>\n",
       "      <td>4033</td>\n",
       "      <td>1.289407</td>\n",
       "    </tr>\n",
       "  </tbody>\n",
       "</table>\n",
       "<p>51240 rows × 3 columns</p>\n",
       "</div>"
      ],
      "text/plain": [
       "      userid songid    rating\n",
       "0        793      2  1.647720\n",
       "1        793      5  1.341174\n",
       "2        793     14  1.178483\n",
       "3        793     51  1.078803\n",
       "4        793     64  1.308299\n",
       "...      ...    ...       ...\n",
       "51235    990   4024  1.210553\n",
       "51236    990   4025  5.265566\n",
       "51237    990   4027  1.076630\n",
       "51238    990   4030  1.349188\n",
       "51239    990   4033  1.289407\n",
       "\n",
       "[51240 rows x 3 columns]"
      ]
     },
     "execution_count": 156,
     "metadata": {},
     "output_type": "execute_result"
    }
   ],
   "source": [
    "output_list[0]"
   ]
  },
  {
   "cell_type": "markdown",
   "metadata": {},
   "source": [
    "## Calculate precision"
   ]
  },
  {
   "cell_type": "code",
   "execution_count": 205,
   "metadata": {},
   "outputs": [],
   "source": [
    "def calculate_precision(actual, prediction):\n",
    "    mean = actual['rating'].mean()\n",
    "    relevant = set(np.array(actual[actual['rating']>=(mean*0.75)]['songid'].astype('int')))\n",
    "    recommended = set(np.array(prediction.nlargest(30, ['rating'])['songid'].astype('int')))\n",
    "    precision = len(recommended & relevant)/len(recommended)\n",
    "    return precision"
   ]
  },
  {
   "cell_type": "markdown",
   "metadata": {},
   "source": [
    "## Calculate Recall"
   ]
  },
  {
   "cell_type": "code",
   "execution_count": 206,
   "metadata": {},
   "outputs": [],
   "source": [
    "def calculate_recall(actual, prediction):\n",
    "    mean = actual['rating'].mean()\n",
    "    relevant = set(np.array(actual[actual['rating']>=(mean*0.75)]['songid'].astype('int')))\n",
    "    recommended = set(np.array(prediction.nlargest(30, ['rating'])['songid'].astype('int')))\n",
    "    if len(relevant) == 0:\n",
    "        recall = 0\n",
    "    else:\n",
    "        recall = len(recommended & relevant)/len(relevant)\n",
    "    return recall"
   ]
  },
  {
   "cell_type": "markdown",
   "metadata": {},
   "source": [
    "## Evaluation"
   ]
  },
  {
   "cell_type": "code",
   "execution_count": 207,
   "metadata": {},
   "outputs": [],
   "source": [
    "def evaluation(actual, predictions):\n",
    "    precision_sum = 0\n",
    "    recall_sum = 0\n",
    "    actual_grouped_by_user = actual.groupby('userid') \n",
    "    predictions_grouped_by_user = predictions.groupby('userid')\n",
    "    number_of_users = len(actual_grouped_by_user)\n",
    "    actual_key_list = actual_grouped_by_user.groups.keys()\n",
    "#     number_of_users *= 0.5\n",
    "    actual_val_list = []\n",
    "    for item in actual_key_list:\n",
    "        actual_val_list.append(actual_grouped_by_user.get_group(item))\n",
    "        \n",
    "    predictions_key_list = predictions_grouped_by_user.groups.keys()\n",
    "    predictions_val_list = []\n",
    "    for item in predictions_key_list:\n",
    "        predictions_val_list.append(predictions_grouped_by_user.get_group(item))    \n",
    "    for actual_group, pred_group in zip(actual_val_list, predictions_val_list):\n",
    "        precision_sum += calculate_precision(actual_group, pred_group)\n",
    "        recall_sum += calculate_recall(actual_group, pred_group)\n",
    "    precision = precision_sum/number_of_users\n",
    "    recall = recall_sum/number_of_users\n",
    "    return precision, recall"
   ]
  },
  {
   "cell_type": "code",
   "execution_count": 208,
   "metadata": {},
   "outputs": [],
   "source": [
    "precision_list = []\n",
    "recall_list = []\n",
    "for actual_df, prediction_df in zip(test_set, output_list):\n",
    "    precision, recall = evaluation(actual_df, prediction_df)\n",
    "    precision_list.append(precision)\n",
    "    recall_list.append(recall)\n",
    "    "
   ]
  },
  {
   "cell_type": "code",
   "execution_count": 209,
   "metadata": {
    "scrolled": true
   },
   "outputs": [
    {
     "data": {
      "text/plain": [
       "[0.8364199345646123,\n",
       " 0.8495879957316128,\n",
       " 0.8560205603173651,\n",
       " 0.8841282494132237]"
      ]
     },
     "execution_count": 209,
     "metadata": {},
     "output_type": "execute_result"
    }
   ],
   "source": [
    "precision_list"
   ]
  },
  {
   "cell_type": "code",
   "execution_count": 210,
   "metadata": {},
   "outputs": [
    {
     "data": {
      "text/plain": [
       "[0.40099438668094933,\n",
       " 0.3160126549888674,\n",
       " 0.22914754040829372,\n",
       " 0.23474165600999325]"
      ]
     },
     "execution_count": 210,
     "metadata": {},
     "output_type": "execute_result"
    }
   ],
   "source": [
    "recall_list"
   ]
  },
  {
   "cell_type": "code",
   "execution_count": 211,
   "metadata": {},
   "outputs": [],
   "source": [
    "f1_list = []\n",
    "for i in range(4):\n",
    "    f1_list.append((2*precision_list[i]*recall_list[i])/(precision_list[i]+recall_list[i]))"
   ]
  },
  {
   "cell_type": "code",
   "execution_count": 212,
   "metadata": {},
   "outputs": [
    {
     "data": {
      "text/plain": [
       "[0.5420976513846203,\n",
       " 0.4606733155336942,\n",
       " 0.3615200369500053,\n",
       " 0.3709845593066926]"
      ]
     },
     "execution_count": 212,
     "metadata": {},
     "output_type": "execute_result"
    }
   ],
   "source": [
    "f1_list"
   ]
  },
  {
   "cell_type": "code",
   "execution_count": 165,
   "metadata": {},
   "outputs": [],
   "source": [
    "# [0.5376237978639311,\n",
    "#  0.4566235026340676,\n",
    "#  0.3594539361695491,\n",
    "#  0.3721550770039121]"
   ]
  },
  {
   "cell_type": "markdown",
   "metadata": {},
   "source": [
    "## Plot bar graph"
   ]
  },
  {
   "cell_type": "code",
   "execution_count": 166,
   "metadata": {},
   "outputs": [],
   "source": [
    "def plot_bar(label, x_label, y_label, title, values):\n",
    "    # this is for plotting purpose\n",
    "    index = np.arange(len(label))\n",
    "    plt.bar(index, values)\n",
    "    plt.ylim(top=1)    \n",
    "    plt.xlabel(x_label, fontsize=10)\n",
    "    plt.ylabel(y_label, fontsize=10)\n",
    "    plt.xticks(index, label, fontsize=10, rotation=0)\n",
    "    plt.title(title)\n",
    "    plt.show()"
   ]
  },
  {
   "cell_type": "code",
   "execution_count": 167,
   "metadata": {},
   "outputs": [
    {
     "data": {
      "image/png": "[encoded data removed]",
      "text/plain": [
       "<Figure size 432x288 with 1 Axes>"
      ]
     },
     "metadata": {
      "needs_background": "light"
     },
     "output_type": "display_data"
    }
   ],
   "source": [
    "label = [i for i in range(len(precision_list))]\n",
    "plot_bar(label, 'Slots', 'Precision', 'Precision for each slot', precision_list)"
   ]
  },
  {
   "cell_type": "code",
   "execution_count": 168,
   "metadata": {},
   "outputs": [
    {
     "data": {
      "image/png": "[encoded data removed]",
      "text/plain": [
       "<Figure size 432x288 with 1 Axes>"
      ]
     },
     "metadata": {
      "needs_background": "light"
     },
     "output_type": "display_data"
    }
   ],
   "source": [
    "label = [i for i in range(len(recall_list))]\n",
    "plot_bar(label, 'Slots', 'Recall', 'Recall for each slot', recall_list)"
   ]
  },
  {
   "cell_type": "code",
   "execution_count": 169,
   "metadata": {},
   "outputs": [
    {
     "data": {
      "image/png": "[encoded data removed]",
      "text/plain": [
       "<Figure size 432x288 with 1 Axes>"
      ]
     },
     "metadata": {
      "needs_background": "light"
     },
     "output_type": "display_data"
    }
   ],
   "source": [
    "label = [i for i in range(len(f1_list))]\n",
    "plot_bar(label, 'Slots', 'F1 score', 'F1 score for each slot', f1_list)"
   ]
  },
  {
   "cell_type": "code",
   "execution_count": null,
   "metadata": {},
   "outputs": [],
   "source": []
  },
  {
   "cell_type": "code",
   "execution_count": null,
   "metadata": {},
   "outputs": [],
   "source": []
  },
  {
   "cell_type": "code",
   "execution_count": null,
   "metadata": {},
   "outputs": [],
   "source": []
  },
  {
   "cell_type": "code",
   "execution_count": null,
   "metadata": {},
   "outputs": [],
   "source": []
  }
 ],
 "metadata": {
  "kernelspec": {
   "display_name": "Python 3",
   "language": "python",
   "name": "python3"
  },
  "language_info": {
   "codemirror_mode": {
    "name": "ipython",
    "version": 3
   },
   "file_extension": ".py",
   "mimetype": "text/x-python",
   "name": "python",
   "nbconvert_exporter": "python",
   "pygments_lexer": "ipython3",
   "version": "3.7.4"
  }
 },
 "nbformat": 4,
 "nbformat_minor": 2
}
