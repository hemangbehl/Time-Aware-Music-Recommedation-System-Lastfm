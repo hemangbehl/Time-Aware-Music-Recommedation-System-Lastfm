{
 "cells": [
  {
   "cell_type": "code",
   "execution_count": 1,
   "metadata": {},
   "outputs": [],
   "source": [
    "import sys\n",
    "import pandas as pd\n",
    "import numpy as np\n",
    "import scipy.sparse as sparse\n",
    "from scipy.sparse.linalg import spsolve\n",
    "import random\n",
    "\n",
    "from sklearn.preprocessing import MinMaxScaler\n",
    "\n",
    "import implicit\n",
    "\n",
    "# Load the data\n",
    "raw_data = pd.read_table(r\"F:\\Data_Repository\\lastfm\\usersha1-artmbid-artname-plays.tsv\")\n",
    "raw_data = raw_data.drop(raw_data.columns[1], axis=1)\n",
    "raw_data.columns = ['user', 'artist', 'plays']"
   ]
  },
  {
   "cell_type": "code",
   "execution_count": 2,
   "metadata": {},
   "outputs": [],
   "source": [
    "# Subsetting the data for our analysis\n",
    "raw_data1 = raw_data[0:2000000]"
   ]
  },
  {
   "cell_type": "code",
   "execution_count": 3,
   "metadata": {},
   "outputs": [
    {
     "name": "stdout",
     "output_type": "stream",
     "text": [
      "Total number of users in the data: 40913\n",
      "Total number of artists in the data: 110821\n"
     ]
    }
   ],
   "source": [
    "print('Total number of users in the data:',len(raw_data1['user'].unique()))\n",
    "print('Total number of artists in the data:',len(raw_data1['artist'].unique()))"
   ]
  },
  {
   "cell_type": "markdown",
   "metadata": {},
   "source": [
    "There are about 204 nulls in the artist column. Lets drop the null rows from the dataset"
   ]
  },
  {
   "cell_type": "code",
   "execution_count": 4,
   "metadata": {},
   "outputs": [],
   "source": [
    "# Drop NaN columns\n",
    "data = raw_data1.dropna()\n",
    "data = data.copy()"
   ]
  },
  {
   "cell_type": "code",
   "execution_count": 5,
   "metadata": {},
   "outputs": [],
   "source": [
    "# Converting the numbers to categories to be used for creating the categorical codes to avoid using long hash keys \n",
    "data['user'] = data['user'].astype(\"category\")\n",
    "data['artist'] = data['artist'].astype(\"category\")\n",
    "\n",
    "#cat.codes creates a categorical id for the users and artists\n",
    "data['user_id'] = data['user'].cat.codes\n",
    "data['artist_id'] = data['artist'].cat.codes\n",
    "\n",
    "# The implicit library expects data as a item-user matrix so we\n",
    "# create two matrices, one for fitting the model (item-user) \n",
    "# and one for recommendations (user-item)\n",
    "\n",
    "sparse_item_user = sparse.csr_matrix((data['plays'].astype(float), (data['artist_id'], data['user_id'])))\n",
    "sparse_user_item = sparse.csr_matrix((data['plays'].astype(float), (data['user_id'], data['artist_id'])))"
   ]
  },
  {
   "cell_type": "code",
   "execution_count": 15,
   "metadata": {},
   "outputs": [
    {
     "data": {
      "text/plain": [
       "(110820, 40913)"
      ]
     },
     "execution_count": 15,
     "metadata": {},
     "output_type": "execute_result"
    }
   ],
   "source": [
    "sparse_item_user.shape"
   ]
  },
  {
   "cell_type": "code",
   "execution_count": 6,
   "metadata": {},
   "outputs": [
    {
     "data": {
      "text/plain": [
       "99.95588936009682"
      ]
     },
     "execution_count": 6,
     "metadata": {},
     "output_type": "execute_result"
    }
   ],
   "source": [
    "matrix_size = sparse_user_item.shape[0]*sparse_user_item.shape[1] # Number of possible interactions in the matrix\n",
    "num_purchases = len(sparse_user_item.nonzero()[0]) # Number of items interacted with\n",
    "sparsity = 100*(1 - (num_purchases/matrix_size))\n",
    "sparsity"
   ]
  },
  {
   "cell_type": "markdown",
   "metadata": {},
   "source": [
    "We have very high sparsity in our data. This might not result in favorable results at the end. But one thing we can be sure of if finding similar artists using the above data. As we will be having enough for each artist based on the people that have listened to them. Recommendations to the users might be less than expected"
   ]
  },
  {
   "cell_type": "markdown",
   "metadata": {},
   "source": [
    "### Creating train and test data"
   ]
  },
  {
   "cell_type": "code",
   "execution_count": 7,
   "metadata": {},
   "outputs": [],
   "source": [
    "import random\n",
    "\n",
    "def make_train(ratings, pct_test = 0.2):\n",
    "    test_set = ratings.copy() # Make a copy of the original set to be the test set. \n",
    "    test_set[test_set != 0] = 1 # Store the test set as a binary preference matrix\n",
    "    \n",
    "    training_set = ratings.copy() # Make a copy of the original data we can alter as our training set. \n",
    "    \n",
    "    nonzero_inds = training_set.nonzero() # Find the indices in the ratings data where an interaction exists\n",
    "    nonzero_pairs = list(zip(nonzero_inds[0], nonzero_inds[1])) # Zip these pairs together of item,user index into list\n",
    "\n",
    "    \n",
    "    random.seed(0) # Set the random seed to zero for reproducibility\n",
    "    \n",
    "    num_samples = int(np.ceil(pct_test*len(nonzero_pairs))) # Round the number of samples needed to the nearest integer\n",
    "    samples = random.sample(nonzero_pairs, num_samples) # Sample a random number of item-user pairs without replacement\n",
    "\n",
    "    item_inds = [index[0] for index in samples] # Get the item row indices\n",
    "\n",
    "    user_inds = [index[1] for index in samples] # Get the user column indices\n",
    "\n",
    "    \n",
    "    training_set[item_inds, user_inds] = 0 # Assign all of the randomly chosen user-item pairs to zero\n",
    "    training_set.eliminate_zeros() # Get rid of zeros in sparse array storage after update to save space\n",
    "    \n",
    "    return training_set, test_set, list(set(user_inds)) # Output the unique list of user columns that were altered"
   ]
  },
  {
   "cell_type": "markdown",
   "metadata": {},
   "source": [
    "Lets use the above function to create the training and test sets for our analysis"
   ]
  },
  {
   "cell_type": "code",
   "execution_count": 8,
   "metadata": {},
   "outputs": [],
   "source": [
    "# 20% of the data has been masked for this exercise\n",
    "product_train, product_test, product_users_altered = make_train(sparse_item_user, pct_test = 0.05)"
   ]
  },
  {
   "cell_type": "markdown",
   "metadata": {},
   "source": [
    "### Building the recommendation system\n",
    "\n",
    "Here we will use the implicit package from python to build the recommendation engine."
   ]
  },
  {
   "cell_type": "code",
   "execution_count": 9,
   "metadata": {},
   "outputs": [
    {
     "name": "stderr",
     "output_type": "stream",
     "text": [
      "WARNING:root:Intel MKL BLAS detected. Its highly recommend to set the environment variable 'export MKL_NUM_THREADS=1' to disable its internal multithreading\n",
      "100%|████████████████████████████████████████████████████████████████████████████████| 40.0/40 [00:07<00:00,  5.05it/s]\n"
     ]
    }
   ],
   "source": [
    "%%time\n",
    "# 1. factors = 20 -- Latent factors for user and item vectors\n",
    "# 2. iterations = 20 -- Number of iterations to use while fitting the data\n",
    "# 3. regularization = 0.1 -- regularization constant to be used in the cost function\n",
    "\n",
    "model = implicit.als.AlternatingLeastSquares(factors=20, regularization=0.1, iterations=40)\n",
    "\n",
    "# Calculate the confidence by multiplying it by our alpha value.(alpha value corresponds to the confidence metric \n",
    "# that we discussed earlier)\n",
    "\n",
    "alpha_val = 15\n",
    "data_conf = (product_train * alpha_val).astype('double')\n",
    "\n",
    "# We have used an alpha_val of 15 after performing some iterations with different alpha values\n",
    "#Fit the model\n",
    "model.fit(data_conf)"
   ]
  },
  {
   "cell_type": "code",
   "execution_count": 10,
   "metadata": {},
   "outputs": [],
   "source": [
    "item_vecs = model.item_factors\n",
    "user_vecs = model.user_factors"
   ]
  },
  {
   "cell_type": "code",
   "execution_count": 11,
   "metadata": {},
   "outputs": [
    {
     "name": "stdout",
     "output_type": "stream",
     "text": [
      "Shape of Artist vector matrix :  (110820, 20)\n",
      "Shape of User vector matrix :  (40913, 20)\n"
     ]
    }
   ],
   "source": [
    "print('Shape of Artist vector matrix : ', item_vecs.shape)\n",
    "print('Shape of User vector matrix : ', user_vecs.shape)"
   ]
  },
  {
   "cell_type": "markdown",
   "metadata": {},
   "source": [
    "### Evaluating the recommendation system using AUC-ROC curve\n"
   ]
  },
  {
   "cell_type": "code",
   "execution_count": 12,
   "metadata": {},
   "outputs": [],
   "source": [
    "from sklearn import metrics\n",
    "import matplotlib.pylab as plt\n",
    "def auc_score(predictions, test):\n",
    "    '''   \n",
    "    returns: - AUC (area under the Receiver Operating Characterisic curve)\n",
    "    '''\n",
    "    fpr, tpr, thresholds = metrics.roc_curve(test, predictions)\n",
    "    return metrics.auc(fpr, tpr) "
   ]
  },
  {
   "cell_type": "code",
   "execution_count": 13,
   "metadata": {},
   "outputs": [],
   "source": [
    "def calc_mean_auc(training_set, altered_users, predictions, test_set):\n",
    "        \n",
    "    store_auc = [] # An empty list to store the AUC for each user that had an item removed from the training set\n",
    "    popularity_auc = [] # To store popular AUC scores\n",
    "    pop_items = np.array(test_set.sum(axis = 1)).reshape(-1) # Get sum of item iteractions to find most popular\n",
    "    item_vecs = predictions[1]\n",
    "    for user in altered_users: # Iterate through each user that had an item altered\n",
    "        training_column = training_set[:,user].toarray().reshape(-1) # Get the training set column\n",
    "        zero_inds = np.where(training_column == 0) # Find where the interaction had not yet occurred\n",
    "        \n",
    "        # Get the predicted values based on our user/item vectors\n",
    "        user_vec = predictions[0][user,:]\n",
    "        pred = user_vec.dot(item_vecs).toarray()[0,zero_inds].reshape(-1)\n",
    "        \n",
    "        # Get only the items that were originally zero\n",
    "        # Select all ratings from the MF prediction for this user that originally had no iteraction\n",
    "        actual = test_set[:,user].toarray()[zero_inds,0].reshape(-1)\n",
    "        \n",
    "        # Select the binarized yes/no interaction pairs from the original full data\n",
    "        # that align with the same pairs in training \n",
    "        pop = pop_items[zero_inds] # Get the item popularity for our chosen items\n",
    "        \n",
    "        store_auc.append(auc_score(pred, actual)) # Calculate AUC for the given user and store\n",
    "        \n",
    "        popularity_auc.append(auc_score(pop, actual)) # Calculate AUC using most popular and score\n",
    "    # End users iteration\n",
    "    \n",
    "    return float('%.3f'%np.mean(store_auc)), float('%.3f'%np.mean(popularity_auc))  \n",
    "   # Return the mean AUC rounded to three decimal places for both test and popularity benchmark"
   ]
  },
  {
   "cell_type": "code",
   "execution_count": 14,
   "metadata": {},
   "outputs": [
    {
     "data": {
      "text/plain": [
       "(0.962, 0.934)"
      ]
     },
     "execution_count": 14,
     "metadata": {},
     "output_type": "execute_result"
    }
   ],
   "source": [
    "%%time\n",
    "calc_mean_auc(product_train, product_users_altered,\n",
    "              [sparse.csr_matrix(user_vecs), sparse.csr_matrix(item_vecs.T)], product_test)\n",
    "# AUC for our recommender system"
   ]
  },
  {
   "cell_type": "markdown",
   "metadata": {},
   "source": [
    "### Example for recommendation"
   ]
  },
  {
   "cell_type": "markdown",
   "metadata": {},
   "source": [
    "### Finding similar artists"
   ]
  },
  {
   "cell_type": "code",
   "execution_count": 16,
   "metadata": {},
   "outputs": [
    {
     "data": {
      "text/html": [
       "<div>\n",
       "<style scoped>\n",
       "    .dataframe tbody tr th:only-of-type {\n",
       "        vertical-align: middle;\n",
       "    }\n",
       "\n",
       "    .dataframe tbody tr th {\n",
       "        vertical-align: top;\n",
       "    }\n",
       "\n",
       "    .dataframe thead th {\n",
       "        text-align: right;\n",
       "    }\n",
       "</style>\n",
       "<table border=\"1\" class=\"dataframe\">\n",
       "  <thead>\n",
       "    <tr style=\"text-align: right;\">\n",
       "      <th></th>\n",
       "      <th>user</th>\n",
       "      <th>artist</th>\n",
       "      <th>plays</th>\n",
       "      <th>user_id</th>\n",
       "      <th>artist_id</th>\n",
       "    </tr>\n",
       "  </thead>\n",
       "  <tbody>\n",
       "    <tr>\n",
       "      <th>4</th>\n",
       "      <td>00000c289a1829a808ac09c00daf10bc3c4e223b</td>\n",
       "      <td>red hot chili peppers</td>\n",
       "      <td>691</td>\n",
       "      <td>0</td>\n",
       "      <td>80876</td>\n",
       "    </tr>\n",
       "    <tr>\n",
       "      <th>1422</th>\n",
       "      <td>000429493d9716b66b02180d208d09b5b89fbe64</td>\n",
       "      <td>red hot chili peppers</td>\n",
       "      <td>234</td>\n",
       "      <td>29</td>\n",
       "      <td>80876</td>\n",
       "    </tr>\n",
       "    <tr>\n",
       "      <th>2139</th>\n",
       "      <td>0007e26aafcfc0b6dcb87d7041583fbb7cced88a</td>\n",
       "      <td>red hot chili peppers</td>\n",
       "      <td>159</td>\n",
       "      <td>44</td>\n",
       "      <td>80876</td>\n",
       "    </tr>\n",
       "    <tr>\n",
       "      <th>3284</th>\n",
       "      <td>000b0bb32f149504e1df3cce85b6bfd20cef3dd0</td>\n",
       "      <td>red hot chili peppers</td>\n",
       "      <td>46</td>\n",
       "      <td>68</td>\n",
       "      <td>80876</td>\n",
       "    </tr>\n",
       "    <tr>\n",
       "      <th>3322</th>\n",
       "      <td>000b2ee840cbda56e0f41c8f248c4fb7ee275db3</td>\n",
       "      <td>red hot chili peppers</td>\n",
       "      <td>87</td>\n",
       "      <td>69</td>\n",
       "      <td>80876</td>\n",
       "    </tr>\n",
       "  </tbody>\n",
       "</table>\n",
       "</div>"
      ],
      "text/plain": [
       "                                          user                 artist  plays  \\\n",
       "4     00000c289a1829a808ac09c00daf10bc3c4e223b  red hot chili peppers    691   \n",
       "1422  000429493d9716b66b02180d208d09b5b89fbe64  red hot chili peppers    234   \n",
       "2139  0007e26aafcfc0b6dcb87d7041583fbb7cced88a  red hot chili peppers    159   \n",
       "3284  000b0bb32f149504e1df3cce85b6bfd20cef3dd0  red hot chili peppers     46   \n",
       "3322  000b2ee840cbda56e0f41c8f248c4fb7ee275db3  red hot chili peppers     87   \n",
       "\n",
       "      user_id  artist_id  \n",
       "4           0      80876  \n",
       "1422       29      80876  \n",
       "2139       44      80876  \n",
       "3284       68      80876  \n",
       "3322       69      80876  "
      ]
     },
     "execution_count": 16,
     "metadata": {},
     "output_type": "execute_result"
    }
   ],
   "source": [
    "data[data['artist'] == 'red hot chili peppers'].head(5)"
   ]
  },
  {
   "cell_type": "code",
   "execution_count": 17,
   "metadata": {},
   "outputs": [
    {
     "name": "stdout",
     "output_type": "stream",
     "text": [
      "red hot chili peppers\n",
      "muse\n",
      "nirvana\n",
      "coldplay\n",
      "placebo\n",
      "queen\n",
      "the killers\n",
      "foo fighters\n",
      "the beatles\n",
      "oasis\n"
     ]
    }
   ],
   "source": [
    "# Find the 10 most similar to red hot chilli peppers\n",
    "artist_id = 80876\n",
    "n_similar = 10 # getting the top ten similar items\n",
    "\n",
    "# Use implicit to get similar items.\n",
    "similar = model.similar_items(artist_id, n_similar)\n",
    "# Print the names of our most similar artists\n",
    "for artist in similar:\n",
    "    idx, score = artist\n",
    "    print (data.artist.loc[data.artist_id == idx].iloc[0])"
   ]
  },
  {
   "cell_type": "markdown",
   "metadata": {},
   "source": [
    "In a similar way, lets look atsome other band"
   ]
  },
  {
   "cell_type": "code",
   "execution_count": 18,
   "metadata": {},
   "outputs": [
    {
     "data": {
      "text/html": [
       "<div>\n",
       "<style scoped>\n",
       "    .dataframe tbody tr th:only-of-type {\n",
       "        vertical-align: middle;\n",
       "    }\n",
       "\n",
       "    .dataframe tbody tr th {\n",
       "        vertical-align: top;\n",
       "    }\n",
       "\n",
       "    .dataframe thead th {\n",
       "        text-align: right;\n",
       "    }\n",
       "</style>\n",
       "<table border=\"1\" class=\"dataframe\">\n",
       "  <thead>\n",
       "    <tr style=\"text-align: right;\">\n",
       "      <th></th>\n",
       "      <th>user</th>\n",
       "      <th>artist</th>\n",
       "      <th>plays</th>\n",
       "      <th>user_id</th>\n",
       "      <th>artist_id</th>\n",
       "    </tr>\n",
       "  </thead>\n",
       "  <tbody>\n",
       "    <tr>\n",
       "      <th>0</th>\n",
       "      <td>00000c289a1829a808ac09c00daf10bc3c4e223b</td>\n",
       "      <td>die Ärzte</td>\n",
       "      <td>1099</td>\n",
       "      <td>0</td>\n",
       "      <td>30264</td>\n",
       "    </tr>\n",
       "    <tr>\n",
       "      <th>2943</th>\n",
       "      <td>000a1585c5f65532a9c9187a882892982d345a5c</td>\n",
       "      <td>die Ärzte</td>\n",
       "      <td>148</td>\n",
       "      <td>61</td>\n",
       "      <td>30264</td>\n",
       "    </tr>\n",
       "    <tr>\n",
       "      <th>3787</th>\n",
       "      <td>000cb6427411006fe9a6193d3c4f59efed53fbef</td>\n",
       "      <td>die Ärzte</td>\n",
       "      <td>7</td>\n",
       "      <td>78</td>\n",
       "      <td>30264</td>\n",
       "    </tr>\n",
       "    <tr>\n",
       "      <th>6295</th>\n",
       "      <td>0014ffc91d3a5b59cce9bceaf22ef0d72e5711b8</td>\n",
       "      <td>die Ärzte</td>\n",
       "      <td>88</td>\n",
       "      <td>128</td>\n",
       "      <td>30264</td>\n",
       "    </tr>\n",
       "    <tr>\n",
       "      <th>13513</th>\n",
       "      <td>003059a886782e4d7936da913d3f064f637d0b2b</td>\n",
       "      <td>die Ärzte</td>\n",
       "      <td>5</td>\n",
       "      <td>274</td>\n",
       "      <td>30264</td>\n",
       "    </tr>\n",
       "  </tbody>\n",
       "</table>\n",
       "</div>"
      ],
      "text/plain": [
       "                                           user     artist  plays  user_id  \\\n",
       "0      00000c289a1829a808ac09c00daf10bc3c4e223b  die Ärzte   1099        0   \n",
       "2943   000a1585c5f65532a9c9187a882892982d345a5c  die Ärzte    148       61   \n",
       "3787   000cb6427411006fe9a6193d3c4f59efed53fbef  die Ärzte      7       78   \n",
       "6295   0014ffc91d3a5b59cce9bceaf22ef0d72e5711b8  die Ärzte     88      128   \n",
       "13513  003059a886782e4d7936da913d3f064f637d0b2b  die Ärzte      5      274   \n",
       "\n",
       "       artist_id  \n",
       "0          30264  \n",
       "2943       30264  \n",
       "3787       30264  \n",
       "6295       30264  \n",
       "13513      30264  "
      ]
     },
     "execution_count": 18,
     "metadata": {},
     "output_type": "execute_result"
    }
   ],
   "source": [
    "data[data['artist'] == 'die Ärzte'].head(5)"
   ]
  },
  {
   "cell_type": "code",
   "execution_count": 19,
   "metadata": {},
   "outputs": [
    {
     "name": "stdout",
     "output_type": "stream",
     "text": [
      "die Ärzte\n",
      "mando diao\n",
      "guano apes\n",
      "guns n roses\n",
      "billy talent\n",
      "limp bizkit\n",
      "evanescence\n",
      "bloodhound gang\n",
      "him\n",
      "3 doors down\n"
     ]
    }
   ],
   "source": [
    "# Find the 10 most similar to red hot chilli peppers\n",
    "artist_id = 30264\n",
    "n_similar = 10 # getting the top ten similar items\n",
    "\n",
    "# Use implicit to get similar items.\n",
    "similar = model.similar_items(artist_id, n_similar)\n",
    "# Print the names of our most similar artists\n",
    "for artist in similar:\n",
    "    idx, score = artist\n",
    "    print (data.artist.loc[data.artist_id == idx].iloc[0])"
   ]
  }
 ],
 "metadata": {
  "kernelspec": {
   "display_name": "sparkenv",
   "language": "python",
   "name": "sparkenv"
  },
  "language_info": {
   "codemirror_mode": {
    "name": "ipython",
    "version": 3
   },
   "file_extension": ".py",
   "mimetype": "text/x-python",
   "name": "python",
   "nbconvert_exporter": "python",
   "pygments_lexer": "ipython3",
   "version": "3.7.1"
  }
 },
 "nbformat": 4,
 "nbformat_minor": 2
}
