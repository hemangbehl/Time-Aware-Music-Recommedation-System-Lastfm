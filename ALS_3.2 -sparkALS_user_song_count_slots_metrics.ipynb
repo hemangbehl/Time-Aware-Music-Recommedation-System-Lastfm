{
 "cells": [
  {
   "cell_type": "code",
   "execution_count": 1,
   "metadata": {},
   "outputs": [],
   "source": [
    "# import the usual\n",
    "import matplotlib.pyplot as plt\n",
    "import pandas as pd\n",
    "import seaborn as sns\n",
    "import numpy as np\n",
    "import math\n",
    "import re\n",
    "import itertools\n",
    "from scipy.sparse import csr_matrix\n",
    "\n",
    "%matplotlib inline\n",
    "pd.set_option('display.max_columns', 500)"
   ]
  },
  {
   "cell_type": "code",
   "execution_count": 2,
   "metadata": {},
   "outputs": [],
   "source": [
    "import findspark\n",
    "findspark.init()\n",
    "#from pyspark.ml.recommendation import ALS\n",
    "from pyspark.context import SparkContext\n",
    "from pyspark.sql.session import SparkSession\n",
    "from pyspark.mllib.recommendation import ALS, MatrixFactorizationModel, Rating"
   ]
  },
  {
   "cell_type": "code",
   "execution_count": 3,
   "metadata": {},
   "outputs": [],
   "source": [
    "sc = SparkContext()"
   ]
  },
  {
   "cell_type": "code",
   "execution_count": 4,
   "metadata": {},
   "outputs": [],
   "source": [
    "# sp = SparkSession.builder.appName(\"s\").getOrCreate()"
   ]
  },
  {
   "cell_type": "code",
   "execution_count": 4,
   "metadata": {},
   "outputs": [],
   "source": []
  },
  {
   "cell_type": "code",
   "execution_count": 83,
   "metadata": {},
   "outputs": [],
   "source": [
    "slot1 = sc.textFile(r\"F:\\Data_Repository\\lastfm\\df_slot1.tsv\")\n",
    "slot2 = sc.textFile(r\"F:\\Data_Repository\\lastfm\\df_slot2.tsv\")\n",
    "slot3 = sc.textFile(r\"F:\\Data_Repository\\lastfm\\df_slot3.tsv\")\n",
    "slot4 = sc.textFile(r\"F:\\Data_Repository\\lastfm\\df_slot4.tsv\")"
   ]
  },
  {
   "cell_type": "code",
   "execution_count": 84,
   "metadata": {},
   "outputs": [
    {
     "data": {
      "text/plain": [
       "pyspark.rdd.RDD"
      ]
     },
     "execution_count": 84,
     "metadata": {},
     "output_type": "execute_result"
    }
   ],
   "source": [
    "type(slot1)"
   ]
  },
  {
   "cell_type": "code",
   "execution_count": 85,
   "metadata": {},
   "outputs": [],
   "source": [
    "slots = [slot1, slot2, slot3, slot4]"
   ]
  },
  {
   "cell_type": "code",
   "execution_count": 86,
   "metadata": {},
   "outputs": [],
   "source": [
    "def isNumber(s):\n",
    "    try:\n",
    "        float(s)\n",
    "        return True\n",
    "    except ValueError:\n",
    "        pass\n",
    " \n",
    "    return False\n",
    "\n",
    "def computeRMSE(model,data):\n",
    "    \n",
    "    \"\"\" Takes ALS models and testing data as input and returns RMSE value \"\"\"\n",
    "    \n",
    "    data_for_predict = data.map(lambda x: (x[0], x[1]))\n",
    "    \n",
    "    predictions = model.predictAll(data_for_predict).map(lambda r: ((r[0], r[1]), r[2]))\n",
    "    rates_and_preds = data.map(lambda r: ((int(r[0]), int(r[1])), float(r[2]))).join(predictions)\n",
    "    error = math.sqrt(rates_and_preds.map(lambda r: (r[1][0] - r[1][1])**2).mean())\n",
    "    \n",
    "    return error"
   ]
  },
  {
   "cell_type": "code",
   "execution_count": 91,
   "metadata": {},
   "outputs": [
    {
     "name": "stdout",
     "output_type": "stream",
     "text": [
      "For rank 5 the RMSE is 1.1681614305385888\n",
      "For rank 10 the RMSE is 1.1678819944463574\n",
      "For rank 15 the RMSE is 1.1671706920636706\n",
      "The best model was trained with rank 15\n",
      "Saving model to the given path:\n",
      "For rank 5 the RMSE is 1.0204170683254816\n",
      "For rank 10 the RMSE is 1.020022155681369\n",
      "For rank 15 the RMSE is 1.0196947585522675\n",
      "The best model was trained with rank 15\n",
      "Saving model to the given path:\n",
      "For rank 5 the RMSE is 1.2072978578503877\n",
      "For rank 10 the RMSE is 1.2066129841598738\n",
      "For rank 15 the RMSE is 1.2064489655607\n",
      "The best model was trained with rank 15\n",
      "Saving model to the given path:\n",
      "For rank 5 the RMSE is 1.1906307046531146\n",
      "For rank 10 the RMSE is 1.189835280967131\n",
      "For rank 15 the RMSE is 1.1895705703178825\n",
      "The best model was trained with rank 15\n",
      "Saving model to the given path:\n",
      "Wall time: 13min 17s\n"
     ]
    }
   ],
   "source": [
    "%%time\n",
    "modelnameid = 1\n",
    "for data in slots:\n",
    "    path = str('F:\\Data_Repository\\lastfm')\n",
    "    modelname = path + \"\\slot\" + str(modelnameid) + \".tsv\"\n",
    "    data = data.map(lambda x: x.split('\\t'))\n",
    "    data2 = data.map(lambda x : [x[i] for i in [0,1,2]]) #only 3 columns exist\n",
    "    data2 = data2.filter(lambda x: isNumber(x[2])) # Remove faulty rows\n",
    "    data2 = data2.map(lambda x: [x[0], x[1], float(x[2])]) #Change plays into float\n",
    "    users = data2.map(lambda x: x[0]).distinct().zipWithIndex()\n",
    "    artists = data2.map(lambda x: x[1]).distinct().zipWithIndex()\n",
    "    data2 = data2.map(lambda r: (r[0], (r[1], r[2]))).join(users).map(lambda r: (r[1][1], r[1][0][0], r[1][0][1]))\n",
    "    data2 = data2.map(lambda r: (r[1], (r[0], r[2]))).join(artists).map(lambda r: (r[1][0][0], r[1][1], r[1][0][1]))\n",
    "    plays = data2.map(lambda x: x[2])\n",
    "    data2 = data2.map(lambda l: Rating(int(l[0]), int(l[1]), float(l[2])))\n",
    "    training_RDD, validation_RDD, test_RDD = data2.randomSplit([6, 2, 2], seed = 2)\n",
    "    validation_for_predict_RDD = validation_RDD.map(lambda x: (x[0], x[1]))\n",
    "    test_for_predict_RDD = test_RDD.map(lambda x: (x[0], x[1]))\n",
    "    \n",
    "    seed = 5\n",
    "    #iterations = 10\n",
    "    iterations = 1\n",
    "    regularization_parameter = 0.1\n",
    "    ranks = [5,10,15]\n",
    "    #ranks = [15] #to reduce loop\n",
    "    errors = [0, 0, 0]\n",
    "    err = 0\n",
    "    tolerance = 0.02\n",
    "    alpha = 0.01\n",
    "\n",
    "    min_error = float('inf')\n",
    "    best_rank = -1\n",
    "    best_iteration = -1\n",
    "\n",
    "    for rank in ranks:\n",
    "        e = 0\n",
    "        #for i in range(5):\n",
    "        for i in range(1):\n",
    "            # Split the data\n",
    "            training_RDD, validation_RDD, test_RDD = data2.randomSplit([6, 2, 2], seed = 2)\n",
    "            validation_for_predict_RDD = validation_RDD.map(lambda x: (x[0], x[1]))\n",
    "            test_for_predict_RDD = test_RDD.map(lambda x: (x[0], x[1]))\n",
    "\n",
    "            model = ALS.trainImplicit(training_RDD, rank, seed=seed, iterations=iterations,\n",
    "                              lambda_=regularization_parameter,alpha=alpha)\n",
    "        #     predictions = model.predictAll(validation_for_predict_RDD).map(lambda r: ((r[0], r[1]), r[2]))\n",
    "        #     rates_and_preds = validation_RDD.map(lambda r: ((int(r[0]), int(r[1])), float(r[2]))).join(predictions)\n",
    "        #     error = math.sqrt(rates_and_preds.map(lambda r: (r[1][0] - r[1][1])**2).mean())\n",
    "            e += computeRMSE(model,validation_RDD)\n",
    "\n",
    "        error = e/5.5\n",
    "        errors[err] = error\n",
    "        err += 1\n",
    "        print ('For rank %s the RMSE is %s' % (rank, error))\n",
    "        if error < min_error:\n",
    "            min_error = error\n",
    "            best_rank = rank\n",
    "\n",
    "    print ('The best model was trained with rank %s' % best_rank)\n",
    "\n",
    "    ####to save model\n",
    "    print(\"Saving model to the given path:\")\n",
    "    model.save(sc, modelname)\n",
    "    modelnameid = modelnameid + 1"
   ]
  },
  {
   "cell_type": "code",
   "execution_count": 82,
   "metadata": {},
   "outputs": [
    {
     "name": "stdout",
     "output_type": "stream",
     "text": [
      "F:\\Data_Repository\\lastfm\\slot1.tsv\n",
      "F:\\Data_Repository\\lastfm\\slot2.tsv\n",
      "F:\\Data_Repository\\lastfm\\slot3.tsv\n",
      "F:\\Data_Repository\\lastfm\\slot4.tsv\n"
     ]
    }
   ],
   "source": [
    "# modelnameid = 1\n",
    "# for slot in range(0,4):\n",
    "#     path = str('F:\\Data_Repository\\lastfm')\n",
    "#     modelname = path + \"\\slot\" + str(modelnameid) + \".tsv\"\n",
    "#     print(modelname)\n",
    "#     modelnameid = modelnameid + 1"
   ]
  },
  {
   "cell_type": "code",
   "execution_count": 6,
   "metadata": {},
   "outputs": [],
   "source": [
    "data = data.map(lambda x: x.split('\\t'))\n",
    "# header = data.first()\n",
    "# print(header)"
   ]
  },
  {
   "cell_type": "code",
   "execution_count": 12,
   "metadata": {},
   "outputs": [],
   "source": [
    "# data2 = data.map(lambda x : [x[i] for i in [0,1,3]])\n",
    "data2 = data.map(lambda x : [x[i] for i in [0,1,2]]) #only 3 columns exist"
   ]
  },
  {
   "cell_type": "code",
   "execution_count": 13,
   "metadata": {},
   "outputs": [],
   "source": [
    "#print (\"length of uncleaned data -\",data2.count())"
   ]
  },
  {
   "cell_type": "code",
   "execution_count": 14,
   "metadata": {},
   "outputs": [
    {
     "data": {
      "text/plain": [
       "['user_000001', '15 Step', '2']"
      ]
     },
     "execution_count": 14,
     "metadata": {},
     "output_type": "execute_result"
    }
   ],
   "source": [
    "data.first()"
   ]
  },
  {
   "cell_type": "code",
   "execution_count": 15,
   "metadata": {},
   "outputs": [
    {
     "data": {
      "text/plain": [
       "['user_000001', '15 Step', '2']"
      ]
     },
     "execution_count": 15,
     "metadata": {},
     "output_type": "execute_result"
    }
   ],
   "source": [
    "data2.first()"
   ]
  },
  {
   "cell_type": "code",
   "execution_count": 16,
   "metadata": {},
   "outputs": [],
   "source": [
    "def isNumber(s):\n",
    "    try:\n",
    "        float(s)\n",
    "        return True\n",
    "    except ValueError:\n",
    "        pass\n",
    " \n",
    "    return False"
   ]
  },
  {
   "cell_type": "code",
   "execution_count": 17,
   "metadata": {},
   "outputs": [],
   "source": [
    "data2 = data2.filter(lambda x: isNumber(x[2])) # Remove faulty rows\n",
    "data2 = data2.map(lambda x: [x[0], x[1], float(x[2])]) #Change plays into float"
   ]
  },
  {
   "cell_type": "code",
   "execution_count": 18,
   "metadata": {},
   "outputs": [
    {
     "data": {
      "text/plain": [
       "['user_000001', '15 Step', 2.0]"
      ]
     },
     "execution_count": 18,
     "metadata": {},
     "output_type": "execute_result"
    }
   ],
   "source": [
    "data2.first()"
   ]
  },
  {
   "cell_type": "markdown",
   "metadata": {},
   "source": [
    "#### no need to reduce"
   ]
  },
  {
   "cell_type": "code",
   "execution_count": 20,
   "metadata": {},
   "outputs": [
    {
     "name": "stdout",
     "output_type": "stream",
     "text": [
      "length of slot data - 247852\n",
      "Wall time: 1.17 s\n"
     ]
    }
   ],
   "source": [
    "%%time\n",
    "#Filter out values with more than 500 plays (for this sake of simplicity)\n",
    "#print (\"length of cleaned data -\",data2.count())\n",
    "#data2 = data2.filter(lambda x : x[2] <= 50)\n",
    "# print (data2.take(2))\n",
    "print (\"length of slot data -\",data2.count())"
   ]
  },
  {
   "cell_type": "code",
   "execution_count": 21,
   "metadata": {},
   "outputs": [
    {
     "name": "stdout",
     "output_type": "stream",
     "text": [
      "Wall time: 4.76 s\n"
     ]
    }
   ],
   "source": [
    "%%time\n",
    "#Convert strings into integers\n",
    "users = data2.map(lambda x: x[0]).distinct().zipWithIndex()\n",
    "artists = data2.map(lambda x: x[1]).distinct().zipWithIndex()\n",
    "# int_user = users.map(lambda u: (u[1], u[0]))\n",
    "# int_artist = artists.map(lambda i: (i[1], i[0]))\n",
    "# users.collect()\n",
    "# artists.collect()"
   ]
  },
  {
   "cell_type": "code",
   "execution_count": 22,
   "metadata": {},
   "outputs": [
    {
     "name": "stdout",
     "output_type": "stream",
     "text": [
      "Wall time: 172 ms\n"
     ]
    }
   ],
   "source": [
    "%%time\n",
    "# Substitutes the ObjectIDs in the ratings RDD with the corresponding int values\n",
    "data2 = data2.map(lambda r: (r[0], (r[1], r[2]))).join(users).map(lambda r: (r[1][1], r[1][0][0], r[1][0][1]))\n",
    "data2 = data2.map(lambda r: (r[1], (r[0], r[2]))).join(artists).map(lambda r: (r[1][0][0], r[1][1], r[1][0][1]))"
   ]
  },
  {
   "cell_type": "code",
   "execution_count": 23,
   "metadata": {},
   "outputs": [
    {
     "name": "stdout",
     "output_type": "stream",
     "text": [
      "Wall time: 0 ns\n"
     ]
    }
   ],
   "source": [
    "%%time\n",
    "# data2.filter(lambda x: x[0] == 12).collect()\n",
    "# plays = data2.map(lambda x: x[2]).collect() ##seems like data2 loses data after .collect is called\n",
    "plays = data2.map(lambda x: x[2])\n",
    "# data2.collect()"
   ]
  },
  {
   "cell_type": "code",
   "execution_count": 24,
   "metadata": {},
   "outputs": [
    {
     "name": "stdout",
     "output_type": "stream",
     "text": [
      "Wall time: 8.55 s\n"
     ]
    },
    {
     "data": {
      "text/plain": [
       "(1, 931, 11.0)"
      ]
     },
     "execution_count": 24,
     "metadata": {},
     "output_type": "execute_result"
    }
   ],
   "source": [
    "%%time\n",
    "data2.first()"
   ]
  },
  {
   "cell_type": "code",
   "execution_count": 25,
   "metadata": {},
   "outputs": [
    {
     "name": "stdout",
     "output_type": "stream",
     "text": [
      "Wall time: 0 ns\n"
     ]
    }
   ],
   "source": [
    "%%time\n",
    "# Use 'Rating' function to get the values in the right format\n",
    "data2 = data2.map(lambda l: Rating(int(l[0]), int(l[1]), float(l[2])))\n",
    "#data2.count()"
   ]
  },
  {
   "cell_type": "markdown",
   "metadata": {},
   "source": [
    "#### Dataframe converted to rating"
   ]
  },
  {
   "cell_type": "code",
   "execution_count": 27,
   "metadata": {},
   "outputs": [
    {
     "data": {
      "text/plain": [
       "Rating(user=1, product=931, rating=11.0)"
      ]
     },
     "execution_count": 27,
     "metadata": {},
     "output_type": "execute_result"
    }
   ],
   "source": [
    "data2.first()"
   ]
  },
  {
   "cell_type": "code",
   "execution_count": 28,
   "metadata": {},
   "outputs": [
    {
     "name": "stdout",
     "output_type": "stream",
     "text": [
      "Wall time: 0 ns\n"
     ]
    }
   ],
   "source": [
    "%%time\n",
    "# Use randomsplit to split the data into train, validation and testing sets\n",
    "\n",
    "training_RDD, validation_RDD, test_RDD = data2.randomSplit([6, 2, 2], seed = 2)\n",
    "validation_for_predict_RDD = validation_RDD.map(lambda x: (x[0], x[1]))\n",
    "test_for_predict_RDD = test_RDD.map(lambda x: (x[0], x[1]))"
   ]
  },
  {
   "cell_type": "code",
   "execution_count": 29,
   "metadata": {},
   "outputs": [
    {
     "name": "stdout",
     "output_type": "stream",
     "text": [
      "Wall time: 0 ns\n"
     ]
    }
   ],
   "source": [
    "%%time\n",
    "# Define computeRMSE\n",
    "\n",
    "def computeRMSE(model,data):\n",
    "    \n",
    "    \"\"\" Takes ALS models and testing data as input and returns RMSE value \"\"\"\n",
    "    \n",
    "    data_for_predict = data.map(lambda x: (x[0], x[1]))\n",
    "    \n",
    "    predictions = model.predictAll(data_for_predict).map(lambda r: ((r[0], r[1]), r[2]))\n",
    "    rates_and_preds = data.map(lambda r: ((int(r[0]), int(r[1])), float(r[2]))).join(predictions)\n",
    "    error = math.sqrt(rates_and_preds.map(lambda r: (r[1][0] - r[1][1])**2).mean())\n",
    "    \n",
    "    return error"
   ]
  },
  {
   "cell_type": "code",
   "execution_count": 45,
   "metadata": {},
   "outputs": [
    {
     "name": "stdout",
     "output_type": "stream",
     "text": [
      "For rank 5 the RMSE is 1.2849775735924476\n",
      "For rank 10 the RMSE is 1.284670193890993\n",
      "For rank 15 the RMSE is 1.2838877612700377\n",
      "The best model was trained with rank 15\n",
      "Wall time: 2min 50s\n"
     ]
    }
   ],
   "source": [
    "%%time\n",
    "seed = 5\n",
    "#iterations = 10\n",
    "iterations = 1\n",
    "regularization_parameter = 0.1\n",
    "ranks = [5,10,15]\n",
    "#ranks = [15] #to reduce loop\n",
    "errors = [0, 0, 0]\n",
    "err = 0\n",
    "tolerance = 0.02\n",
    "alpha = 0.01\n",
    "\n",
    "min_error = float('inf')\n",
    "best_rank = -1\n",
    "best_iteration = -1\n",
    "\n",
    "for rank in ranks:\n",
    "    e = 0\n",
    "    #for i in range(5):\n",
    "    for i in range(1):\n",
    "        # Split the data\n",
    "        training_RDD, validation_RDD, test_RDD = data2.randomSplit([6, 2, 2], seed = 2)\n",
    "        validation_for_predict_RDD = validation_RDD.map(lambda x: (x[0], x[1]))\n",
    "        test_for_predict_RDD = test_RDD.map(lambda x: (x[0], x[1]))\n",
    "        \n",
    "        model = ALS.trainImplicit(training_RDD, rank, seed=seed, iterations=iterations,\n",
    "                          lambda_=regularization_parameter,alpha=alpha)\n",
    "    #     predictions = model.predictAll(validation_for_predict_RDD).map(lambda r: ((r[0], r[1]), r[2]))\n",
    "    #     rates_and_preds = validation_RDD.map(lambda r: ((int(r[0]), int(r[1])), float(r[2]))).join(predictions)\n",
    "    #     error = math.sqrt(rates_and_preds.map(lambda r: (r[1][0] - r[1][1])**2).mean())\n",
    "        e += computeRMSE(model,validation_RDD)\n",
    "    \n",
    "    error = e/5\n",
    "    errors[err] = error\n",
    "    err += 1\n",
    "    print ('For rank %s the RMSE is %s' % (rank, error))\n",
    "    if error < min_error:\n",
    "        min_error = error\n",
    "        best_rank = rank\n",
    "\n",
    "print ('The best model was trained with rank %s' % best_rank)\n",
    "# For rank 5 the RMSE is 6.67535527624558\n",
    "# For rank 10 the RMSE is 6.461547082828238\n",
    "# For rank 15 the RMSE is 6.531429770101694\n",
    "# The best model was trained with rank 10\n",
    "# Wall time: 8min 21s\n",
    "\n",
    "# For rank 5 the RMSE is 1.2219171452924378\n",
    "# For rank 10 the RMSE is 1.5340979416430192\n",
    "# For rank 15 the RMSE is 1.2701273441785674\n",
    "# The best model was trained with rank 5\n",
    "# Wall time: 1min 33s\n"
   ]
  },
  {
   "cell_type": "code",
   "execution_count": 50,
   "metadata": {},
   "outputs": [],
   "source": [
    "# %%time\n",
    "# # Final Model\n",
    "\n",
    "# model = ALS.train(training_RDD, best_rank, seed=seed, iterations= iterations,\n",
    "#                       lambda_=regularization_parameter)\n",
    "# predictions = model.predictAll(validation_for_predict_RDD)"
   ]
  },
  {
   "cell_type": "markdown",
   "metadata": {},
   "source": [
    "#### Model validation"
   ]
  },
  {
   "cell_type": "code",
   "execution_count": 53,
   "metadata": {},
   "outputs": [
    {
     "name": "stdout",
     "output_type": "stream",
     "text": [
      "Wall time: 14.9 s\n"
     ]
    }
   ],
   "source": [
    "%%time\n",
    "# Final Model\n",
    "\n",
    "model = ALS.train(data2, best_rank, seed=seed, iterations= iterations,\n",
    "                      lambda_ = regularization_parameter)\n",
    "#predictions = model.predictAll(validation_for_predict_RDD)\n",
    "predictions = model.predictAll(validation_for_predict_RDD).map(lambda r: ((r[0], r[1]), r[2]))\n"
   ]
  },
  {
   "cell_type": "code",
   "execution_count": 54,
   "metadata": {},
   "outputs": [
    {
     "name": "stdout",
     "output_type": "stream",
     "text": [
      "Wall time: 47.6 s\n"
     ]
    },
    {
     "data": {
      "text/plain": [
       "4.093980964206101"
      ]
     },
     "execution_count": 54,
     "metadata": {},
     "output_type": "execute_result"
    }
   ],
   "source": [
    "%%time\n",
    "#     rates_and_preds = validation_RDD.map(lambda r: ((int(r[0]), int(r[1])), float(r[2]))).join(predictions)\n",
    "#     error = math.sqrt(rates_and_preds.map(lambda r: (r[1][0] - r[1][1])**2).mean())\n",
    "computeRMSE(model,validation_RDD)"
   ]
  },
  {
   "cell_type": "code",
   "execution_count": 55,
   "metadata": {},
   "outputs": [],
   "source": [
    "rates_and_preds = validation_RDD.map(lambda r: ((int(r[0]), int(r[1])), float(r[2]))).join(predictions)"
   ]
  },
  {
   "cell_type": "code",
   "execution_count": 56,
   "metadata": {},
   "outputs": [
    {
     "data": {
      "text/plain": [
       "((819, 41), (1.0, 1.3774459478762293))"
      ]
     },
     "execution_count": 56,
     "metadata": {},
     "output_type": "execute_result"
    }
   ],
   "source": [
    "rates_and_preds.first()"
   ]
  },
  {
   "cell_type": "code",
   "execution_count": 59,
   "metadata": {},
   "outputs": [],
   "source": []
  },
  {
   "cell_type": "code",
   "execution_count": null,
   "metadata": {},
   "outputs": [],
   "source": []
  },
  {
   "cell_type": "code",
   "execution_count": null,
   "metadata": {},
   "outputs": [],
   "source": []
  },
  {
   "cell_type": "code",
   "execution_count": 57,
   "metadata": {},
   "outputs": [
    {
     "data": {
      "text/plain": [
       "Rating(user=23, product=931, rating=4.0)"
      ]
     },
     "execution_count": 57,
     "metadata": {},
     "output_type": "execute_result"
    }
   ],
   "source": [
    "## validation rdd\n",
    "validation_RDD.first()"
   ]
  },
  {
   "cell_type": "code",
   "execution_count": 58,
   "metadata": {},
   "outputs": [
    {
     "data": {
      "text/plain": [
       "(23, 931)"
      ]
     },
     "execution_count": 58,
     "metadata": {},
     "output_type": "execute_result"
    }
   ],
   "source": [
    "## validation having just user item\n",
    "validation_for_predict_RDD.first()"
   ]
  },
  {
   "cell_type": "code",
   "execution_count": null,
   "metadata": {},
   "outputs": [],
   "source": [
    "# validation_for_predict_RDD = validation_RDD.map(lambda x: (x[0], x[1]))\n"
   ]
  },
  {
   "cell_type": "code",
   "execution_count": null,
   "metadata": {},
   "outputs": [],
   "source": [
    "predictions = model.predictAll(validation_RDD).map(lambda r: ((r[0], r[1]), r[2]))\n",
    "ratesAndPreds = ratings.map(lambda r: ((r[0], r[1]), r[2])).join(predictions)"
   ]
  },
  {
   "cell_type": "code",
   "execution_count": 37,
   "metadata": {},
   "outputs": [
    {
     "name": "stdout",
     "output_type": "stream",
     "text": [
      "49731\n",
      "49731\n",
      "Wall time: 35.9 s\n"
     ]
    }
   ],
   "source": [
    "# %%time\n",
    "# print (validation_RDD.count())\n",
    "# print (predictions.count()   )\n",
    "# #computeRMSE(model,data2)"
   ]
  },
  {
   "cell_type": "code",
   "execution_count": 44,
   "metadata": {},
   "outputs": [
    {
     "name": "stdout",
     "output_type": "stream",
     "text": [
      "Wall time: 0 ns\n"
     ]
    }
   ],
   "source": [
    "%%time\n",
    "#computeRMSE(model,data2)"
   ]
  },
  {
   "cell_type": "markdown",
   "metadata": {},
   "source": [
    "#### Recommend Products for top-n"
   ]
  },
  {
   "cell_type": "code",
   "execution_count": 93,
   "metadata": {},
   "outputs": [],
   "source": [
    "def recommendProducts(self, user, num):\n",
    "    \"\"\"\n",
    "    Recommends the top \"num\" number of products for a given user and\n",
    "    returns a list of Rating objects sorted by the predicted rating in\n",
    "    descending order. \"\"\"\n",
    "    pass"
   ]
  },
  {
   "cell_type": "code",
   "execution_count": 95,
   "metadata": {},
   "outputs": [
    {
     "name": "stdout",
     "output_type": "stream",
     "text": [
      "Wall time: 0 ns\n"
     ]
    }
   ],
   "source": [
    "%time\n",
    "n = 2\n",
    "recos = model.recommendProducts(0, n)"
   ]
  },
  {
   "cell_type": "code",
   "execution_count": 98,
   "metadata": {},
   "outputs": [
    {
     "data": {
      "text/plain": [
       "[Rating(user=0, product=2679, rating=0.04412376419356484),\n",
       " Rating(user=0, product=841, rating=0.04395402252539503)]"
      ]
     },
     "execution_count": 98,
     "metadata": {},
     "output_type": "execute_result"
    }
   ],
   "source": [
    "recos"
   ]
  },
  {
   "cell_type": "code",
   "execution_count": 96,
   "metadata": {},
   "outputs": [
    {
     "name": "stdout",
     "output_type": "stream",
     "text": [
      "Wall time: 0 ns\n"
     ]
    }
   ],
   "source": [
    "%%time\n",
    "scores = []\n",
    "for i in recos:\n",
    "     scores.append(float(i[2]))"
   ]
  },
  {
   "cell_type": "code",
   "execution_count": 97,
   "metadata": {},
   "outputs": [
    {
     "data": {
      "text/plain": [
       "[0.04412376419356484, 0.04395402252539503]"
      ]
     },
     "execution_count": 97,
     "metadata": {},
     "output_type": "execute_result"
    }
   ],
   "source": [
    "scores"
   ]
  },
  {
   "cell_type": "code",
   "execution_count": 100,
   "metadata": {},
   "outputs": [],
   "source": [
    "## what doe this do"
   ]
  },
  {
   "cell_type": "code",
   "execution_count": 109,
   "metadata": {},
   "outputs": [
    {
     "data": {
      "text/plain": [
       "970"
      ]
     },
     "execution_count": 109,
     "metadata": {},
     "output_type": "execute_result"
    }
   ],
   "source": [
    "products_for_users = model.recommendProductsForUsers(1).collect()\n",
    "len(products_for_users)\n",
    "#2"
   ]
  },
  {
   "cell_type": "code",
   "execution_count": 110,
   "metadata": {},
   "outputs": [
    {
     "data": {
      "text/plain": [
       "[(720, (Rating(user=720, product=56, rating=0.05288128790728301),)),\n",
       " (0, (Rating(user=0, product=2679, rating=0.04412376419356484),)),\n",
       " (288, (Rating(user=288, product=2073, rating=0.03620816616128979),)),\n",
       " (432, (Rating(user=432, product=2760, rating=0.045512647890368726),)),\n",
       " (576, (Rating(user=576, product=841, rating=0.053661067810359495),)),\n",
       " (864, (Rating(user=864, product=841, rating=0.03974478849547542),)),\n",
       " (144, (Rating(user=144, product=2679, rating=0.05562710316594872),)),\n",
       " (577, (Rating(user=577, product=2081, rating=0.032915308015108224),)),\n",
       " (721, (Rating(user=721, product=2679, rating=0.050831324226276425),)),\n",
       " (289, (Rating(user=289, product=2679, rating=0.0316088042651284),)),\n",
       " (865, (Rating(user=865, product=2073, rating=0.0486133897324968),)),\n",
       " (1, (Rating(user=1, product=2073, rating=0.04546503447434856),)),\n",
       " (433, (Rating(user=433, product=2831, rating=0.023200820557635095),)),\n",
       " (145, (Rating(user=145, product=2760, rating=0.050434731946664674),)),\n",
       " (578, (Rating(user=578, product=56, rating=0.05203299993274962),)),\n",
       " (866, (Rating(user=866, product=2073, rating=0.0400276704413843),)),\n",
       " (146, (Rating(user=146, product=2679, rating=0.03078015121807049),)),\n",
       " (290, (Rating(user=290, product=2760, rating=0.04361121625471392),)),\n",
       " (434, (Rating(user=434, product=841, rating=0.027470628980060904),)),\n",
       " (722, (Rating(user=722, product=56, rating=0.058393076625061276),)),\n",
       " (2, (Rating(user=2, product=56, rating=0.04858978536637523),)),\n",
       " (867, (Rating(user=867, product=2679, rating=0.044135572686714176),)),\n",
       " (723, (Rating(user=723, product=56, rating=0.055479308419221926),)),\n",
       " (291, (Rating(user=291, product=2760, rating=0.044717439417492705),)),\n",
       " (579, (Rating(user=579, product=2679, rating=0.03551548911609506),)),\n",
       " (3, (Rating(user=3, product=2073, rating=0.032168910256225494),)),\n",
       " (435, (Rating(user=435, product=841, rating=0.051634558738070095),)),\n",
       " (147, (Rating(user=147, product=2679, rating=0.048271680391980244),)),\n",
       " (4, (Rating(user=4, product=841, rating=0.054850006807157986),)),\n",
       " (724, (Rating(user=724, product=56, rating=0.053976508012776606),)),\n",
       " (292, (Rating(user=292, product=222, rating=0.05283128699456782),)),\n",
       " (436, (Rating(user=436, product=2679, rating=0.05121032969167497),)),\n",
       " (868, (Rating(user=868, product=2073, rating=0.07056156814775433),)),\n",
       " (580, (Rating(user=580, product=841, rating=0.03711432491624973),)),\n",
       " (148, (Rating(user=148, product=2679, rating=0.045599552899890046),)),\n",
       " (437, (Rating(user=437, product=2332, rating=0.013451530785763069),)),\n",
       " (293, (Rating(user=293, product=222, rating=0.03866790226069025),)),\n",
       " (149, (Rating(user=149, product=479, rating=0.04395378901953747),)),\n",
       " (581, (Rating(user=581, product=459, rating=0.054266565640010145),)),\n",
       " (869, (Rating(user=869, product=841, rating=0.050324871069235035),)),\n",
       " (725, (Rating(user=725, product=2504, rating=0.042124429538273805),)),\n",
       " (5, (Rating(user=5, product=841, rating=0.047035742595163854),)),\n",
       " (726, (Rating(user=726, product=2073, rating=0.05486509511979643),)),\n",
       " (870, (Rating(user=870, product=2313, rating=0.04444686119599369),)),\n",
       " (150, (Rating(user=150, product=479, rating=0.033665823948329336),)),\n",
       " (582, (Rating(user=582, product=2831, rating=0.054878806755962004),)),\n",
       " (294, (Rating(user=294, product=841, rating=0.058924118194483045),)),\n",
       " (438, (Rating(user=438, product=2531, rating=0.038404517820426795),)),\n",
       " (6, (Rating(user=6, product=56, rating=0.05440136548088598),)),\n",
       " (583, (Rating(user=583, product=2679, rating=0.04512841308593509),)),\n",
       " (151, (Rating(user=151, product=2917, rating=0.04866425722020573),)),\n",
       " (727, (Rating(user=727, product=2073, rating=0.05243865869291957),)),\n",
       " (295, (Rating(user=295, product=2679, rating=0.04592081517393171),)),\n",
       " (7, (Rating(user=7, product=2917, rating=0.045931580565335514),)),\n",
       " (871, (Rating(user=871, product=2531, rating=0.014146976186406798),)),\n",
       " (439, (Rating(user=439, product=2073, rating=0.035266866890388784),)),\n",
       " (296, (Rating(user=296, product=479, rating=0.030285794612897255),)),\n",
       " (440, (Rating(user=440, product=2679, rating=0.04366987907533436),)),\n",
       " (584, (Rating(user=584, product=2663, rating=0.002492378221512644),)),\n",
       " (152, (Rating(user=152, product=2073, rating=0.05895557174558247),)),\n",
       " (8, (Rating(user=8, product=841, rating=0.05792925065978476),)),\n",
       " (872, (Rating(user=872, product=159, rating=0.030086120018439966),)),\n",
       " (728, (Rating(user=728, product=2760, rating=0.05008615615859042),)),\n",
       " (297, (Rating(user=297, product=841, rating=0.05269160925867591),)),\n",
       " (153, (Rating(user=153, product=593, rating=0.027602322400949706),)),\n",
       " (441, (Rating(user=441, product=2760, rating=0.05254720635484039),)),\n",
       " (585, (Rating(user=585, product=2073, rating=0.0427033676409774),)),\n",
       " (729, (Rating(user=729, product=479, rating=0.037539668320101444),)),\n",
       " (873, (Rating(user=873, product=2531, rating=0.04575662707649467),)),\n",
       " (9, (Rating(user=9, product=841, rating=0.053546164426201054),)),\n",
       " (298, (Rating(user=298, product=222, rating=0.05081265959656814),)),\n",
       " (586, (Rating(user=586, product=1029, rating=0.010110423877553239),)),\n",
       " (154, (Rating(user=154, product=2579, rating=0.021648533040231656),)),\n",
       " (730, (Rating(user=730, product=2517, rating=0.033321079904907486),)),\n",
       " (442, (Rating(user=442, product=56, rating=0.03615570615576629),)),\n",
       " (874, (Rating(user=874, product=2760, rating=0.04986213733248915),)),\n",
       " (10, (Rating(user=10, product=841, rating=0.057607240559130676),)),\n",
       " (587, (Rating(user=587, product=2760, rating=0.03379274047990916),)),\n",
       " (875, (Rating(user=875, product=350, rating=0.053548814716873484),)),\n",
       " (11, (Rating(user=11, product=2679, rating=0.05446898142999674),)),\n",
       " (731, (Rating(user=731, product=479, rating=0.04944547952270492),)),\n",
       " (443, (Rating(user=443, product=841, rating=0.05220321991606394),)),\n",
       " (155, (Rating(user=155, product=841, rating=0.04290736427952213),)),\n",
       " (299, (Rating(user=299, product=841, rating=0.0553364767353683),)),\n",
       " (876, (Rating(user=876, product=2760, rating=0.056800147300210956),)),\n",
       " (156, (Rating(user=156, product=841, rating=0.02508606334120815),)),\n",
       " (300, (Rating(user=300, product=2313, rating=0.010285504899874601),)),\n",
       " (732, (Rating(user=732, product=841, rating=0.030026210444874416),)),\n",
       " (444, (Rating(user=444, product=2679, rating=0.03159847881433373),)),\n",
       " (12, (Rating(user=12, product=2679, rating=0.04122093713057029),)),\n",
       " (588, (Rating(user=588, product=2531, rating=0.05336182540766453),)),\n",
       " (13, (Rating(user=13, product=56, rating=0.0678507216281538),)),\n",
       " (301, (Rating(user=301, product=2760, rating=0.04910931501243473),)),\n",
       " (589, (Rating(user=589, product=56, rating=0.054307572311542165),)),\n",
       " (157, (Rating(user=157, product=841, rating=0.05944700963018912),)),\n",
       " (445, (Rating(user=445, product=841, rating=0.04611218675462651),)),\n",
       " (877, (Rating(user=877, product=3421, rating=0.004448581758134653),)),\n",
       " (733, (Rating(user=733, product=2073, rating=0.04854112413394885),)),\n",
       " (158, (Rating(user=158, product=56, rating=0.0578616354336069),)),\n",
       " (14, (Rating(user=14, product=222, rating=0.05945568712748458),)),\n",
       " (446, (Rating(user=446, product=2839, rating=0.022858944709698244),)),\n",
       " (302, (Rating(user=302, product=56, rating=0.059288454197375946),)),\n",
       " (590, (Rating(user=590, product=2760, rating=0.05947651076000783),)),\n",
       " (734, (Rating(user=734, product=479, rating=0.050716467042882976),)),\n",
       " (878, (Rating(user=878, product=2760, rating=0.012106054903733086),)),\n",
       " (159, (Rating(user=159, product=2248, rating=0.040425185730749595),)),\n",
       " (15, (Rating(user=15, product=841, rating=0.05353984435363585),)),\n",
       " (591, (Rating(user=591, product=2073, rating=0.06390145414214447),)),\n",
       " (303, (Rating(user=303, product=841, rating=0.043721905006053254),)),\n",
       " (447, (Rating(user=447, product=2313, rating=0.06671499727833098),)),\n",
       " (879, (Rating(user=879, product=841, rating=0.04327333721256501),)),\n",
       " (735, (Rating(user=735, product=479, rating=0.04689564803607668),)),\n",
       " (160, (Rating(user=160, product=2073, rating=0.042184048482574725),)),\n",
       " (592, (Rating(user=592, product=2313, rating=0.04667229469338585),)),\n",
       " (16, (Rating(user=16, product=56, rating=0.04853725637373139),)),\n",
       " (880, (Rating(user=880, product=841, rating=0.05151612210866277),)),\n",
       " (304, (Rating(user=304, product=841, rating=0.04686422050911952),)),\n",
       " (448, (Rating(user=448, product=2679, rating=0.05392587055589641),)),\n",
       " (736, (Rating(user=736, product=2760, rating=0.05841413415503213),)),\n",
       " (593, (Rating(user=593, product=2313, rating=0.033043977200751376),)),\n",
       " (737, (Rating(user=737, product=2679, rating=0.046985628991889995),)),\n",
       " (161, (Rating(user=161, product=2760, rating=0.04486477464544528),)),\n",
       " (449, (Rating(user=449, product=479, rating=0.035403181311779),)),\n",
       " (305, (Rating(user=305, product=841, rating=0.048435706290817615),)),\n",
       " (17, (Rating(user=17, product=277, rating=0.02214350904004766),)),\n",
       " (881, (Rating(user=881, product=841, rating=0.05886031534442279),)),\n",
       " (594, (Rating(user=594, product=841, rating=0.026221327154611954),)),\n",
       " (882, (Rating(user=882, product=1078, rating=0.030407248191586453),)),\n",
       " (18, (Rating(user=18, product=2539, rating=0.009781248830969128),)),\n",
       " (306, (Rating(user=306, product=2073, rating=0.037162629434920574),)),\n",
       " (738, (Rating(user=738, product=841, rating=0.04827657917228652),)),\n",
       " (162, (Rating(user=162, product=459, rating=0.033753313231750584),)),\n",
       " (450, (Rating(user=450, product=841, rating=0.04397580967941484),)),\n",
       " (451, (Rating(user=451, product=2831, rating=0.04618896196239475),)),\n",
       " (19, (Rating(user=19, product=841, rating=0.05473545588842742),)),\n",
       " (307, (Rating(user=307, product=479, rating=0.031387587035109216),)),\n",
       " (883, (Rating(user=883, product=56, rating=0.03455281044651319),)),\n",
       " (739, (Rating(user=739, product=56, rating=0.052936550896751366),)),\n",
       " (595, (Rating(user=595, product=2073, rating=0.05090701928861843),)),\n",
       " (163, (Rating(user=163, product=2760, rating=0.059087995084175546),)),\n",
       " (740, (Rating(user=740, product=56, rating=0.04646267011882929),)),\n",
       " (884, (Rating(user=884, product=2760, rating=0.05784456987722018),)),\n",
       " (164, (Rating(user=164, product=2679, rating=0.049551083604994196),)),\n",
       " (20, (Rating(user=20, product=2679, rating=0.05573263116014978),)),\n",
       " (596, (Rating(user=596, product=274, rating=0.04170850952591807),)),\n",
       " (308, (Rating(user=308, product=56, rating=0.028602694602337074),)),\n",
       " (452, (Rating(user=452, product=2313, rating=0.0475939153841774),)),\n",
       " (21, (Rating(user=21, product=2760, rating=0.050145872113237955),)),\n",
       " (885, (Rating(user=885, product=3162, rating=0.014485177840195242),)),\n",
       " (741, (Rating(user=741, product=2073, rating=0.01824805857848298),)),\n",
       " (453, (Rating(user=453, product=2438, rating=0.00503903349515305),)),\n",
       " (597, (Rating(user=597, product=2504, rating=0.029201488081638593),)),\n",
       " (165, (Rating(user=165, product=2679, rating=0.047623412949925406),)),\n",
       " (309, (Rating(user=309, product=841, rating=0.04390201975795931),)),\n",
       " (454, (Rating(user=454, product=2531, rating=0.030602488536362604),)),\n",
       " (22, (Rating(user=22, product=2760, rating=0.0451166636107582),)),\n",
       " (310, (Rating(user=310, product=2679, rating=0.057974959484620954),)),\n",
       " (742, (Rating(user=742, product=2679, rating=0.04477961956867993),)),\n",
       " (166, (Rating(user=166, product=1096, rating=0.007449137302050218),)),\n",
       " (886, (Rating(user=886, product=2760, rating=0.056250660100343575),)),\n",
       " (598, (Rating(user=598, product=479, rating=0.03442032112827113),)),\n",
       " (455, (Rating(user=455, product=479, rating=0.04651552350044129),)),\n",
       " (311, (Rating(user=311, product=2248, rating=0.03514418633724059),)),\n",
       " (743, (Rating(user=743, product=2531, rating=0.04941345696246138),)),\n",
       " (23, (Rating(user=23, product=3325, rating=0.03613356680258614),)),\n",
       " (887, (Rating(user=887, product=2073, rating=0.05345303554389211),)),\n",
       " (599, (Rating(user=599, product=2679, rating=0.04311830948535077),)),\n",
       " (167, (Rating(user=167, product=2679, rating=0.048169934811739125),)),\n",
       " (312, (Rating(user=312, product=841, rating=0.048059828793326785),)),\n",
       " (600, (Rating(user=600, product=1445, rating=0.01120216407741487),)),\n",
       " (744, (Rating(user=744, product=2073, rating=0.05336898841543853),)),\n",
       " (456, (Rating(user=456, product=479, rating=0.04339171585301539),)),\n",
       " (24, (Rating(user=24, product=841, rating=0.05914181287118893),)),\n",
       " (888, (Rating(user=888, product=2760, rating=0.0584499728556527),)),\n",
       " (168, (Rating(user=168, product=1096, rating=0.032322374743450843),)),\n",
       " (169, (Rating(user=169, product=2831, rating=0.013976903803208072),)),\n",
       " (25, (Rating(user=25, product=479, rating=0.04272171414550055),)),\n",
       " (601, (Rating(user=601, product=2760, rating=0.05967786082638493),)),\n",
       " (889, (Rating(user=889, product=1191, rating=0.010124077693390568),)),\n",
       " (313, (Rating(user=313, product=841, rating=0.05075850265341733),)),\n",
       " (745, (Rating(user=745, product=56, rating=0.030331548717548704),)),\n",
       " (457, (Rating(user=457, product=2760, rating=0.051734096820255204),)),\n",
       " (602, (Rating(user=602, product=782, rating=0.027275715980866946),)),\n",
       " (890, (Rating(user=890, product=841, rating=0.03393178305415518),)),\n",
       " (170, (Rating(user=170, product=56, rating=0.056164911956516586),)),\n",
       " (458, (Rating(user=458, product=2539, rating=0.02215853575032591),)),\n",
       " (314, (Rating(user=314, product=1078, rating=0.028267732161051135),)),\n",
       " (746, (Rating(user=746, product=2760, rating=0.04901616111954989),)),\n",
       " (26, (Rating(user=26, product=2073, rating=0.039014641985224745),)),\n",
       " (747, (Rating(user=747, product=2073, rating=0.03687320209475882),)),\n",
       " (171, (Rating(user=171, product=56, rating=0.034766351056438445),)),\n",
       " (603, (Rating(user=603, product=2679, rating=0.044092990740196604),)),\n",
       " (27, (Rating(user=27, product=2760, rating=0.05589757684646555),)),\n",
       " (891, (Rating(user=891, product=350, rating=0.040900568559069206),)),\n",
       " (315, (Rating(user=315, product=479, rating=0.04600537572808037),)),\n",
       " (892, (Rating(user=892, product=841, rating=0.05789000944115554),)),\n",
       " (28, (Rating(user=28, product=2073, rating=0.05749326946034372),)),\n",
       " (460, (Rating(user=460, product=2539, rating=0.040141321989641425),)),\n",
       " (172, (Rating(user=172, product=3535, rating=0.016449601464090968),)),\n",
       " (748, (Rating(user=748, product=2679, rating=0.039005784941686605),)),\n",
       " (316, (Rating(user=316, product=56, rating=0.02908407266210078),)),\n",
       " (604, (Rating(user=604, product=2679, rating=0.0435808736039115),)),\n",
       " (893, (Rating(user=893, product=2073, rating=0.05329997201748571),)),\n",
       " (29, (Rating(user=29, product=2831, rating=0.03801011707055748),)),\n",
       " (317, (Rating(user=317, product=2760, rating=0.051528290627690515),)),\n",
       " (173, (Rating(user=173, product=841, rating=0.05227534672323983),)),\n",
       " (605, (Rating(user=605, product=56, rating=0.05696306909002439),)),\n",
       " (461, (Rating(user=461, product=2917, rating=0.0264182921237567),)),\n",
       " (749, (Rating(user=749, product=2679, rating=0.03578751147281402),)),\n",
       " (750, (Rating(user=750, product=479, rating=0.038073061013252175),)),\n",
       " (894, (Rating(user=894, product=56, rating=0.03447357834258252),)),\n",
       " (30, (Rating(user=30, product=2517, rating=0.04300935060327013),)),\n",
       " (606, (Rating(user=606, product=246, rating=0.030922192849122038),)),\n",
       " (318, (Rating(user=318, product=2504, rating=0.030649349720549196),)),\n",
       " (174, (Rating(user=174, product=350, rating=0.039012673120605273),)),\n",
       " (462, (Rating(user=462, product=479, rating=0.04271765196515265),)),\n",
       " (319, (Rating(user=319, product=841, rating=0.04974906687523836),)),\n",
       " (607, (Rating(user=607, product=479, rating=0.04481779370641073),)),\n",
       " (895, (Rating(user=895, product=841, rating=0.05353367998448541),)),\n",
       " (175, (Rating(user=175, product=2760, rating=0.03610884794227709),)),\n",
       " (463, (Rating(user=463, product=56, rating=0.04311205205450841),)),\n",
       " (751, (Rating(user=751, product=841, rating=0.060418211989388265),)),\n",
       " (31, (Rating(user=31, product=2917, rating=0.03360132296477671),)),\n",
       " (320, (Rating(user=320, product=222, rating=0.03214950666676605),)),\n",
       " (752, (Rating(user=752, product=841, rating=0.05674149583150221),)),\n",
       " (464, (Rating(user=464, product=841, rating=0.04859813997727487),)),\n",
       " (608, (Rating(user=608, product=2679, rating=0.058956429219706126),)),\n",
       " (32, (Rating(user=32, product=2679, rating=0.019899751962242414),)),\n",
       " (896, (Rating(user=896, product=2313, rating=0.05152269971692948),)),\n",
       " (176, (Rating(user=176, product=841, rating=0.05018536619022713),)),\n",
       " (609, (Rating(user=609, product=2531, rating=0.022723255439792603),)),\n",
       " (321, (Rating(user=321, product=3460, rating=0.023046739540746746),)),\n",
       " (465, (Rating(user=465, product=459, rating=0.04200487084897889),)),\n",
       " (753, (Rating(user=753, product=2313, rating=0.04844030272218516),)),\n",
       " (33, (Rating(user=33, product=841, rating=0.03146450408799498),)),\n",
       " (897, (Rating(user=897, product=841, rating=0.05864284957761131),)),\n",
       " (177, (Rating(user=177, product=56, rating=0.05437160333730107),)),\n",
       " (34, (Rating(user=34, product=841, rating=0.056322262030898816),)),\n",
       " (610, (Rating(user=610, product=459, rating=0.0286604163197948),)),\n",
       " (466, (Rating(user=466, product=3300, rating=0.03237877542147051),)),\n",
       " (754, (Rating(user=754, product=56, rating=0.02807155508509652),)),\n",
       " (322, (Rating(user=322, product=796, rating=0.04580791596814783),)),\n",
       " (178, (Rating(user=178, product=56, rating=0.03665443563392398),)),\n",
       " (898, (Rating(user=898, product=2679, rating=0.052977299895218585),)),\n",
       " (467, (Rating(user=467, product=841, rating=0.03028310982381976),)),\n",
       " (323, (Rating(user=323, product=56, rating=0.047413689210712644),)),\n",
       " (899, (Rating(user=899, product=2760, rating=0.06752921249016575),)),\n",
       " (35, (Rating(user=35, product=2760, rating=0.053369644749837325),)),\n",
       " (179, (Rating(user=179, product=2679, rating=0.04654886266130346),)),\n",
       " (611, (Rating(user=611, product=841, rating=0.05558485307682208),)),\n",
       " (755, (Rating(user=755, product=2760, rating=0.044914281362575324),)),\n",
       " (324, (Rating(user=324, product=2531, rating=0.0421959105062394),)),\n",
       " (180, (Rating(user=180, product=841, rating=0.04933290862067331),)),\n",
       " (756, (Rating(user=756, product=56, rating=0.044891654108102516),)),\n",
       " (36, (Rating(user=36, product=2624, rating=0.01267733294380503),)),\n",
       " (900, (Rating(user=900, product=2313, rating=0.05042220402451052),)),\n",
       " (468, (Rating(user=468, product=2073, rating=0.0351817143068308),)),\n",
       " (612, (Rating(user=612, product=2679, rating=0.057009980843010045),)),\n",
       " (325, (Rating(user=325, product=56, rating=0.05415745337721665),)),\n",
       " (757, (Rating(user=757, product=2760, rating=0.03568272615049775),)),\n",
       " (613, (Rating(user=613, product=2313, rating=0.04487114013148191),)),\n",
       " (469, (Rating(user=469, product=2531, rating=0.04222664339898847),)),\n",
       " (37, (Rating(user=37, product=841, rating=0.05404800276238674),)),\n",
       " (181, (Rating(user=181, product=222, rating=0.041754732536260004),)),\n",
       " (901, (Rating(user=901, product=2760, rating=0.06166312003836044),)),\n",
       " (470, (Rating(user=470, product=2760, rating=0.05771821728190444),)),\n",
       " (326, (Rating(user=326, product=2289, rating=0.016226281673502867),)),\n",
       " (614, (Rating(user=614, product=56, rating=0.03286287361252088),)),\n",
       " (182, (Rating(user=182, product=56, rating=0.04104218058476334),)),\n",
       " (758, (Rating(user=758, product=841, rating=0.05869348862128619),)),\n",
       " (38, (Rating(user=38, product=2917, rating=0.03659389424306786),)),\n",
       " (39, (Rating(user=39, product=246, rating=0.04083007885124155),)),\n",
       " (327, (Rating(user=327, product=2831, rating=0.05892017948581098),)),\n",
       " (903, (Rating(user=903, product=2760, rating=0.03436626666699623),)),\n",
       " (471, (Rating(user=471, product=350, rating=0.04262416276593907),)),\n",
       " (759, (Rating(user=759, product=2313, rating=0.04582551367744865),)),\n",
       " (183, (Rating(user=183, product=56, rating=0.036223117970734256),)),\n",
       " (615, (Rating(user=615, product=479, rating=0.04567350739420693),)),\n",
       " (184, (Rating(user=184, product=2531, rating=0.05396804813068262),)),\n",
       " (616, (Rating(user=616, product=841, rating=0.04309303795316373),)),\n",
       " (904, (Rating(user=904, product=878, rating=0.007708057289014039),)),\n",
       " (472, (Rating(user=472, product=56, rating=0.04328008197728011),)),\n",
       " (40, (Rating(user=40, product=2760, rating=0.05067891087589504),)),\n",
       " (328, (Rating(user=328, product=2679, rating=0.03959261715355303),)),\n",
       " (760, (Rating(user=760, product=2313, rating=0.05165797722374461),)),\n",
       " (41, (Rating(user=41, product=222, rating=0.05986301383446725),)),\n",
       " (905, (Rating(user=905, product=2679, rating=0.03864712551359041),)),\n",
       " (329, (Rating(user=329, product=56, rating=0.05522823691515406),)),\n",
       " (617, (Rating(user=617, product=2313, rating=0.06004043594194255),)),\n",
       " (473, (Rating(user=473, product=841, rating=0.04833494471414176),)),\n",
       " (761, (Rating(user=761, product=2073, rating=0.02582170760739506),)),\n",
       " (185, (Rating(user=185, product=841, rating=0.06043644075786958),)),\n",
       " (762, (Rating(user=762, product=841, rating=0.05205864851182271),)),\n",
       " (474, (Rating(user=474, product=2073, rating=0.05337541692141402),)),\n",
       " (906, (Rating(user=906, product=1125, rating=0.011191979749115935),)),\n",
       " (42, (Rating(user=42, product=2938, rating=0.02562757557357683),)),\n",
       " (186, (Rating(user=186, product=2760, rating=0.04808670762158991),)),\n",
       " (618, (Rating(user=618, product=2313, rating=0.046522869629314255),)),\n",
       " (330, (Rating(user=330, product=20, rating=0.0159111541894992),)),\n",
       " (619, (Rating(user=619, product=2760, rating=0.05316407452888148),)),\n",
       " (187, (Rating(user=187, product=2760, rating=0.05754696844883152),)),\n",
       " (475, (Rating(user=475, product=841, rating=0.048361261300770474),)),\n",
       " (907, (Rating(user=907, product=103, rating=0.012125848783163513),)),\n",
       " (331, (Rating(user=331, product=459, rating=0.054332013966067315),)),\n",
       " (763, (Rating(user=763, product=2531, rating=0.041019097176056944),)),\n",
       " (43, (Rating(user=43, product=801, rating=0.03537246965090829),)),\n",
       " (332, (Rating(user=332, product=2313, rating=0.03803804495060477),)),\n",
       " (476, (Rating(user=476, product=2760, rating=0.04806693906546281),)),\n",
       " (908, (Rating(user=908, product=2531, rating=0.030408090006566448),)),\n",
       " (188, (Rating(user=188, product=2105, rating=0.014592348364288653),)),\n",
       " (620, (Rating(user=620, product=841, rating=0.05230445518305916),)),\n",
       " (44, (Rating(user=44, product=2361, rating=0.009706016169760958),)),\n",
       " (764, (Rating(user=764, product=841, rating=0.05491034727856137),)),\n",
       " (189, (Rating(user=189, product=2679, rating=0.031051183886724166),)),\n",
       " (477, (Rating(user=477, product=841, rating=0.06285450185965535),)),\n",
       " (333, (Rating(user=333, product=2531, rating=0.052117037822578906),)),\n",
       " (765, (Rating(user=765, product=2760, rating=0.06268718634542603),)),\n",
       " (909, (Rating(user=909, product=459, rating=0.04471468467899628),)),\n",
       " (621, (Rating(user=621, product=2760, rating=0.05990236457779102),)),\n",
       " (45, (Rating(user=45, product=2760, rating=0.04416266193504577),)),\n",
       " (622, (Rating(user=622, product=2073, rating=0.028798467376677753),)),\n",
       " (766, (Rating(user=766, product=782, rating=0.03486474514214847),)),\n",
       " (46, (Rating(user=46, product=56, rating=0.048049307147841724),)),\n",
       " (910, (Rating(user=910, product=2760, rating=0.04989278424812069),)),\n",
       " (190, (Rating(user=190, product=2679, rating=0.05035445818848901),)),\n",
       " (478, (Rating(user=478, product=222, rating=0.028348615260266198),)),\n",
       " (334, (Rating(user=334, product=2679, rating=0.050359551162603884),)),\n",
       " (47, (Rating(user=47, product=56, rating=0.05258513903839846),)),\n",
       " (767, (Rating(user=767, product=2679, rating=0.050049901002792864),)),\n",
       " (191, (Rating(user=191, product=2106, rating=0.022870974565398793),)),\n",
       " (479, (Rating(user=479, product=2504, rating=0.05521363227343921),)),\n",
       " (623, (Rating(user=623, product=56, rating=0.050096494369910066),)),\n",
       " (911, (Rating(user=911, product=2760, rating=0.05708366489326534),)),\n",
       " (335, (Rating(user=335, product=841, rating=0.04629324829875478),)),\n",
       " (48, (Rating(user=48, product=2679, rating=0.04920125175379612),)),\n",
       " (480, (Rating(user=480, product=2760, rating=0.0409631500695435),)),\n",
       " (912, (Rating(user=912, product=841, rating=0.05214240608013272),)),\n",
       " (336, (Rating(user=336, product=841, rating=0.044246323311922194),)),\n",
       " (624, (Rating(user=624, product=2531, rating=0.049733776463505804),)),\n",
       " (768, (Rating(user=768, product=2679, rating=0.05311195214565667),)),\n",
       " (192, (Rating(user=192, product=841, rating=0.057672710971418586),)),\n",
       " (337, (Rating(user=337, product=3325, rating=0.036512946024631336),)),\n",
       " (769, (Rating(user=769, product=2679, rating=0.009367059456309144),)),\n",
       " (193, (Rating(user=193, product=459, rating=0.0440175034652743),)),\n",
       " (913, (Rating(user=913, product=2760, rating=0.05237427943852459),)),\n",
       " (625, (Rating(user=625, product=2760, rating=0.057928964798164284),)),\n",
       " (49, (Rating(user=49, product=479, rating=0.0332620829476636),)),\n",
       " (481, (Rating(user=481, product=841, rating=0.049614491227530505),)),\n",
       " (482, (Rating(user=482, product=2531, rating=0.043978387855518976),)),\n",
       " (338, (Rating(user=338, product=2679, rating=0.04568858618276084),)),\n",
       " (50, (Rating(user=50, product=2531, rating=0.04673341381423151),)),\n",
       " (770, (Rating(user=770, product=2073, rating=0.0595976008981805),)),\n",
       " (194, (Rating(user=194, product=841, rating=0.04615906975256659),)),\n",
       " (626, (Rating(user=626, product=841, rating=0.05365287748422604),)),\n",
       " (914, (Rating(user=914, product=3535, rating=0.0227146275304587),)),\n",
       " (915, (Rating(user=915, product=2105, rating=0.02793235488623997),)),\n",
       " (627, (Rating(user=627, product=2760, rating=0.06013941674510754),)),\n",
       " (51, (Rating(user=51, product=2073, rating=0.04965226747174342),)),\n",
       " (195, (Rating(user=195, product=2679, rating=0.045855599115276),)),\n",
       " (771, (Rating(user=771, product=2313, rating=0.04468960941420187),)),\n",
       " (339, (Rating(user=339, product=2073, rating=0.05290527314214384),)),\n",
       " (483, (Rating(user=483, product=841, rating=0.05156909309244128),)),\n",
       " (52, (Rating(user=52, product=2073, rating=0.03406516513064087),)),\n",
       " (772, (Rating(user=772, product=2679, rating=0.05438960324305038),)),\n",
       " (340, (Rating(user=340, product=350, rating=0.010763506351253933),)),\n",
       " (916, (Rating(user=916, product=3300, rating=0.038722390189928554),)),\n",
       " (484, (Rating(user=484, product=841, rating=0.05416584721241104),)),\n",
       " (628, (Rating(user=628, product=841, rating=0.06131628715837859),)),\n",
       " (196, (Rating(user=196, product=2760, rating=0.06452151130999449),)),\n",
       " (485, (Rating(user=485, product=459, rating=0.05173568563568086),)),\n",
       " (53, (Rating(user=53, product=246, rating=0.03981765280697981),)),\n",
       " (341, (Rating(user=341, product=801, rating=0.03710537126951678),)),\n",
       " (629, (Rating(user=629, product=2679, rating=0.046738501624922955),)),\n",
       " (773, (Rating(user=773, product=3572, rating=0.0055859512243933585),)),\n",
       " (917, (Rating(user=917, product=841, rating=0.05615226208300882),)),\n",
       " (197, (Rating(user=197, product=2760, rating=0.049146181047765594),)),\n",
       " (630, (Rating(user=630, product=801, rating=0.005343080002310013),)),\n",
       " (486, (Rating(user=486, product=2760, rating=0.058445388922481065),)),\n",
       " (918, (Rating(user=918, product=2760, rating=0.05557249680566541),)),\n",
       " (54, (Rating(user=54, product=2679, rating=0.03353680054074287),)),\n",
       " (774, (Rating(user=774, product=841, rating=0.0579750014374593),)),\n",
       " (342, (Rating(user=342, product=841, rating=0.06320117273943256),)),\n",
       " (198, (Rating(user=198, product=56, rating=0.04685557249234873),)),\n",
       " (775, (Rating(user=775, product=3162, rating=0.012250422972881597),)),\n",
       " (55, (Rating(user=55, product=841, rating=0.05651903653333456),)),\n",
       " (631, (Rating(user=631, product=841, rating=0.03148728398190755),)),\n",
       " (343, (Rating(user=343, product=2760, rating=0.0556529618958398),)),\n",
       " (919, (Rating(user=919, product=2679, rating=0.044351361806903404),)),\n",
       " (487, (Rating(user=487, product=2760, rating=0.03197119356236815),)),\n",
       " (199, (Rating(user=199, product=2313, rating=0.03714757408850573),)),\n",
       " (56, (Rating(user=56, product=2760, rating=0.042430489993000975),)),\n",
       " (920, (Rating(user=920, product=2760, rating=0.04932035942899677),)),\n",
       " (200, (Rating(user=200, product=2760, rating=0.052787267625252786),)),\n",
       " (632, (Rating(user=632, product=841, rating=0.06358781378512571),)),\n",
       " (344, (Rating(user=344, product=841, rating=0.04703184686055887),)),\n",
       " (488, (Rating(user=488, product=459, rating=0.046883380101879535),)),\n",
       " (776, (Rating(user=776, product=841, rating=0.046144446242114764),)),\n",
       " (921, (Rating(user=921, product=841, rating=0.04593849918413125),)),\n",
       " (345, (Rating(user=345, product=274, rating=0.039147543651621215),)),\n",
       " (633, (Rating(user=633, product=2679, rating=0.05544995591116283),)),\n",
       " (57, (Rating(user=57, product=841, rating=0.05074288102008007),)),\n",
       " (489, (Rating(user=489, product=841, rating=0.044168242784781035),)),\n",
       " (201, (Rating(user=201, product=294, rating=0.039942305105604356),)),\n",
       " (777, (Rating(user=777, product=841, rating=0.0445759172213011),)),\n",
       " (922, (Rating(user=922, product=2760, rating=0.05689657172416799),)),\n",
       " (346, (Rating(user=346, product=841, rating=0.05764257357116394),)),\n",
       " (490, (Rating(user=490, product=841, rating=0.03531279650754712),)),\n",
       " (202, (Rating(user=202, product=2760, rating=0.06405034729518794),)),\n",
       " (634, (Rating(user=634, product=2248, rating=0.027133851885198547),)),\n",
       " (58, (Rating(user=58, product=294, rating=0.023736699274230933),)),\n",
       " (778, (Rating(user=778, product=2760, rating=0.051905242118755975),)),\n",
       " (491, (Rating(user=491, product=2073, rating=0.05317501416175409),)),\n",
       " (779, (Rating(user=779, product=56, rating=0.0508318475274155),)),\n",
       " (635, (Rating(user=635, product=2679, rating=0.04255109363124865),)),\n",
       " (59, (Rating(user=59, product=320, rating=0.017545966831595344),)),\n",
       " (347, (Rating(user=347, product=1523, rating=0.005428387364744579),)),\n",
       " (923, (Rating(user=923, product=841, rating=0.0545144459889364),)),\n",
       " (203, (Rating(user=203, product=222, rating=0.033221358895509895),)),\n",
       " (636, (Rating(user=636, product=459, rating=0.04333960175755073),)),\n",
       " (204, (Rating(user=204, product=2679, rating=0.0500543942157705),)),\n",
       " (924, (Rating(user=924, product=1069, rating=0.048728837705199375),)),\n",
       " (780, (Rating(user=780, product=841, rating=0.049979423325133866),)),\n",
       " (60, (Rating(user=60, product=2073, rating=0.045881382550353865),)),\n",
       " (348, (Rating(user=348, product=1029, rating=0.030268975459837283),)),\n",
       " (492, (Rating(user=492, product=2073, rating=0.050190127479887894),)),\n",
       " (61, (Rating(user=61, product=56, rating=0.045007629924756674),)),\n",
       " (781, (Rating(user=781, product=841, rating=0.06179802506373197),)),\n",
       " (349, (Rating(user=349, product=2073, rating=0.041883419951950426),)),\n",
       " (925, (Rating(user=925, product=2679, rating=0.03184781377466598),)),\n",
       " (637, (Rating(user=637, product=2917, rating=0.030480097185224132),)),\n",
       " (205, (Rating(user=205, product=56, rating=0.041391809838182726),)),\n",
       " (493, (Rating(user=493, product=2073, rating=0.05694030181352958),)),\n",
       " (782, (Rating(user=782, product=2073, rating=0.023246003424802722),)),\n",
       " (638, (Rating(user=638, product=3293, rating=0.0029068154521920088),)),\n",
       " (350, (Rating(user=350, product=841, rating=0.05298435326148578),)),\n",
       " (62, (Rating(user=62, product=841, rating=0.04679302197427772),)),\n",
       " (926, (Rating(user=926, product=841, rating=0.047298960357972916),)),\n",
       " (206, (Rating(user=206, product=56, rating=0.04796870621990599),)),\n",
       " (494, (Rating(user=494, product=2760, rating=0.05011645589308335),)),\n",
       " (783, (Rating(user=783, product=841, rating=0.05686862326572925),)),\n",
       " (927, (Rating(user=927, product=56, rating=0.03726897860009511),)),\n",
       " (207, (Rating(user=207, product=2073, rating=0.034564034594301636),)),\n",
       " (351, (Rating(user=351, product=2760, rating=0.05689575092452991),)),\n",
       " (639, (Rating(user=639, product=2760, rating=0.05393047970312855),)),\n",
       " (495, (Rating(user=495, product=2760, rating=0.02643122409878345),)),\n",
       " (63, (Rating(user=63, product=841, rating=0.05226127246784043),)),\n",
       " (784, (Rating(user=784, product=2917, rating=0.021258409515898875),)),\n",
       " (208, (Rating(user=208, product=2073, rating=0.04212746156453629),)),\n",
       " (352, (Rating(user=352, product=2624, rating=0.035763332671729334),)),\n",
       " (928, (Rating(user=928, product=841, rating=0.05711198297720622),)),\n",
       " (64, (Rating(user=64, product=56, rating=0.022013876746261797),)),\n",
       " (496, (Rating(user=496, product=841, rating=0.051747090344084916),)),\n",
       " (640, (Rating(user=640, product=2679, rating=0.05439319567293357),)),\n",
       " (641, (Rating(user=641, product=2313, rating=0.030767180038453575),)),\n",
       " (353, (Rating(user=353, product=841, rating=0.04410870767549885),)),\n",
       " (65, (Rating(user=65, product=841, rating=0.045628079831598056),)),\n",
       " (497, (Rating(user=497, product=2679, rating=0.04664526993798312),)),\n",
       " (785, (Rating(user=785, product=222, rating=0.041018069436970894),)),\n",
       " (209, (Rating(user=209, product=2073, rating=0.03193762030101141),)),\n",
       " (929, (Rating(user=929, product=2760, rating=0.012249313624913154),)),\n",
       " (930, (Rating(user=930, product=2679, rating=0.048795263818400963),)),\n",
       " (66, (Rating(user=66, product=841, rating=0.050527842142272614),)),\n",
       " (354, (Rating(user=354, product=479, rating=0.04111160512434982),)),\n",
       " (210, (Rating(user=210, product=2760, rating=0.04418823647515674),)),\n",
       " (642, (Rating(user=642, product=222, rating=0.02089810817649814),)),\n",
       " (498, (Rating(user=498, product=841, rating=0.04604313981314235),)),\n",
       " (786, (Rating(user=786, product=2760, rating=0.04979777798342283),)),\n",
       " (643, (Rating(user=643, product=2531, rating=0.053139130477838595),)),\n",
       " (355, (Rating(user=355, product=2313, rating=0.05277238515226358),)),\n",
       " (931, (Rating(user=931, product=56, rating=0.04014998151595403),)),\n",
       " (67, (Rating(user=67, product=2838, rating=0.015488139295510772),)),\n",
       " (787, (Rating(user=787, product=56, rating=0.05159895567787086),)),\n",
       " (211, (Rating(user=211, product=294, rating=0.04096356822431327),)),\n",
       " (499, (Rating(user=499, product=2531, rating=0.03471388955083554),)),\n",
       " (212, (Rating(user=212, product=841, rating=0.03412263407524853),)),\n",
       " (788, (Rating(user=788, product=2760, rating=0.047797408059108364),)),\n",
       " (500, (Rating(user=500, product=2313, rating=0.044068898232002704),)),\n",
       " (932, (Rating(user=932, product=459, rating=0.04000170985025793),)),\n",
       " (356, (Rating(user=356, product=841, rating=0.049335050947472474),)),\n",
       " (68, (Rating(user=68, product=2760, rating=0.051149467077929334),)),\n",
       " (644, (Rating(user=644, product=1078, rating=0.03837993614691365),)),\n",
       " (645, (Rating(user=645, product=2679, rating=0.04692963700650979),)),\n",
       " (933, (Rating(user=933, product=2531, rating=0.032050781156276874),)),\n",
       " (213, (Rating(user=213, product=56, rating=0.051264463940969306),)),\n",
       " (501, (Rating(user=501, product=2073, rating=0.04351294014622787),)),\n",
       " (69, (Rating(user=69, product=841, rating=0.05293663284880855),)),\n",
       " (789, (Rating(user=789, product=3325, rating=0.022405328223267434),)),\n",
       " (357, (Rating(user=357, product=56, rating=0.01612050317851212),)),\n",
       " (502, (Rating(user=502, product=841, rating=0.05889904336001724),)),\n",
       " (646, (Rating(user=646, product=841, rating=0.05134956519634973),)),\n",
       " (790, (Rating(user=790, product=2313, rating=0.024001775121880266),)),\n",
       " (214, (Rating(user=214, product=2760, rating=0.041127339272320595),)),\n",
       " (358, (Rating(user=358, product=2313, rating=0.03793274271838287),)),\n",
       " (934, (Rating(user=934, product=841, rating=0.052777942045068624),)),\n",
       " (70, (Rating(user=70, product=2760, rating=0.05135431343635295),)),\n",
       " (71, (Rating(user=71, product=2073, rating=0.056541707979106834),)),\n",
       " (647, (Rating(user=647, product=459, rating=0.04025665882497277),)),\n",
       " (359, (Rating(user=359, product=841, rating=0.05510187983082588),)),\n",
       " (503, (Rating(user=503, product=56, rating=0.03675081527219698),)),\n",
       " (791, (Rating(user=791, product=56, rating=0.057326538376118986),)),\n",
       " (215, (Rating(user=215, product=56, rating=0.05505328007080197),)),\n",
       " (935, (Rating(user=935, product=841, rating=0.05277443974351096),)),\n",
       " (504, (Rating(user=504, product=479, rating=0.04094061172824563),)),\n",
       " (936, (Rating(user=936, product=841, rating=0.051182336442419124),)),\n",
       " (216, (Rating(user=216, product=56, rating=0.04464379828352927),)),\n",
       " (648, (Rating(user=648, product=2073, rating=0.06145731889183711),)),\n",
       " (792, (Rating(user=792, product=56, rating=0.05220815578699802),)),\n",
       " (72, (Rating(user=72, product=1069, rating=0.04330883256284712),)),\n",
       " (360, (Rating(user=360, product=2760, rating=0.0622230211214537),)),\n",
       " (217, (Rating(user=217, product=2073, rating=0.03590497575145072),)),\n",
       " (937, (Rating(user=937, product=222, rating=0.05297694574978061),)),\n",
       " (649, (Rating(user=649, product=841, rating=0.05901500477188405),)),\n",
       " (73, (Rating(user=73, product=2831, rating=0.039821425187616284),)),\n",
       " (793, (Rating(user=793, product=2313, rating=0.040041264368076625),)),\n",
       " (505, (Rating(user=505, product=841, rating=0.03232432608478558),)),\n",
       " (361, (Rating(user=361, product=222, rating=0.0446736608763646),)),\n",
       " (650, (Rating(user=650, product=226, rating=0.00818865238297981),)),\n",
       " (362, (Rating(user=362, product=56, rating=0.04463152297121097),)),\n",
       " (794, (Rating(user=794, product=2073, rating=0.029595813058470078),)),\n",
       " (74, (Rating(user=74, product=2073, rating=0.03852829070115703),)),\n",
       " (938, (Rating(user=938, product=841, rating=0.0413902880711366),)),\n",
       " (218, (Rating(user=218, product=841, rating=0.04878198017984847),)),\n",
       " (506, (Rating(user=506, product=2086, rating=0.016688324393422552),)),\n",
       " (795, (Rating(user=795, product=841, rating=0.03793277785562859),)),\n",
       " (939, (Rating(user=939, product=459, rating=0.05060772426167905),)),\n",
       " (75, (Rating(user=75, product=246, rating=0.02252823552554421),)),\n",
       " (507, (Rating(user=507, product=841, rating=0.06218593559282709),)),\n",
       " (219, (Rating(user=219, product=56, rating=0.03136251513334638),)),\n",
       " (651, (Rating(user=651, product=2517, rating=0.03713440975405394),)),\n",
       " (363, (Rating(user=363, product=2073, rating=0.023097285922619313),)),\n",
       " (940, (Rating(user=940, product=2073, rating=0.05338746571097397),)),\n",
       " (76, (Rating(user=76, product=2760, rating=0.047368957886954166),)),\n",
       " (220, (Rating(user=220, product=2679, rating=0.04227858611482455),)),\n",
       " (796, (Rating(user=796, product=2073, rating=0.0575204867741894),)),\n",
       " (364, (Rating(user=364, product=841, rating=0.056310259360881465),)),\n",
       " (508, (Rating(user=508, product=2073, rating=0.042256162088170124),)),\n",
       " (652, (Rating(user=652, product=56, rating=0.03359977113969239),)),\n",
       " (509, (Rating(user=509, product=2760, rating=0.056067535243489564),)),\n",
       " (77, (Rating(user=77, product=56, rating=0.05119600411439934),)),\n",
       " (653, (Rating(user=653, product=841, rating=0.054839272192497776),)),\n",
       " (941, (Rating(user=941, product=2313, rating=0.04425195552649161),)),\n",
       " (221, (Rating(user=221, product=2313, rating=0.03156807025822695),)),\n",
       " (797, (Rating(user=797, product=2073, rating=0.04745561478855381),)),\n",
       " (365, (Rating(user=365, product=2679, rating=0.017407806040290234),)),\n",
       " (366, (Rating(user=366, product=56, rating=0.036950770321449805),)),\n",
       " (222, (Rating(user=222, product=841, rating=0.04585308891555963),)),\n",
       " (510, (Rating(user=510, product=2571, rating=0.028299137142673778),)),\n",
       " (798, (Rating(user=798, product=56, rating=0.03576046084100801),)),\n",
       " (654, (Rating(user=654, product=2679, rating=0.05457448771618144),)),\n",
       " (78, (Rating(user=78, product=841, rating=0.05422045294003849),)),\n",
       " (942, (Rating(user=942, product=2679, rating=0.04146504915119275),)),\n",
       " (511, (Rating(user=511, product=2349, rating=0.036101771987276675),)),\n",
       " (367, (Rating(user=367, product=56, rating=0.046332306003457446),)),\n",
       " (79, (Rating(user=79, product=10, rating=0.012220480051067743),)),\n",
       " (799, (Rating(user=799, product=246, rating=0.04677993085623051),)),\n",
       " (943, (Rating(user=943, product=841, rating=0.05534937059542808),)),\n",
       " (655, (Rating(user=655, product=2679, rating=0.041365372875358554),)),\n",
       " (223, (Rating(user=223, product=841, rating=0.05743236198904217),)),\n",
       " (224, (Rating(user=224, product=841, rating=0.06032966788723364),)),\n",
       " (512, (Rating(user=512, product=841, rating=0.05830256607483901),)),\n",
       " (800, (Rating(user=800, product=841, rating=0.05237787916425156),)),\n",
       " (80, (Rating(user=80, product=229, rating=0.012393921858090616),)),\n",
       " (368, (Rating(user=368, product=459, rating=0.05558579646563814),)),\n",
       " (944, (Rating(user=944, product=2760, rating=0.0606591310876498),)),\n",
       " (656, (Rating(user=656, product=56, rating=0.036539743784369444),)),\n",
       " (657, (Rating(user=657, product=222, rating=0.06061645936907346),)),\n",
       " (81, (Rating(user=81, product=274, rating=0.04245036230225893),)),\n",
       " (369, (Rating(user=369, product=1029, rating=0.03908200035129124),)),\n",
       " (513, (Rating(user=513, product=2679, rating=0.02649906472232074),)),\n",
       " (801, (Rating(user=801, product=2679, rating=0.036305593530664995),)),\n",
       " (945, (Rating(user=945, product=479, rating=0.037913621099787145),)),\n",
       " (225, (Rating(user=225, product=2679, rating=0.048729005251044503),)),\n",
       " (802, (Rating(user=802, product=2679, rating=0.0428991238062676),)),\n",
       " (82, (Rating(user=82, product=841, rating=0.05683763907383587),)),\n",
       " (946, (Rating(user=946, product=479, rating=0.03642484669771355),)),\n",
       " (370, (Rating(user=370, product=2760, rating=0.055197138381590495),)),\n",
       " (514, (Rating(user=514, product=2073, rating=0.04188401436037517),)),\n",
       " (226, (Rating(user=226, product=841, rating=0.048578532455319),)),\n",
       " (658, (Rating(user=658, product=2531, rating=0.03331891111200442),)),\n",
       " (947, (Rating(user=947, product=2760, rating=0.03655333371980339),)),\n",
       " (371, (Rating(user=371, product=274, rating=0.04925941811789262),)),\n",
       " (803, (Rating(user=803, product=56, rating=0.05603749359532235),)),\n",
       " (227, (Rating(user=227, product=2517, rating=0.04599526033964989),)),\n",
       " (515, (Rating(user=515, product=2313, rating=0.04948743176498054),)),\n",
       " (83, (Rating(user=83, product=56, rating=0.05413618550361271),)),\n",
       " (659, (Rating(user=659, product=2760, rating=0.03376197378446446),)),\n",
       " (84, (Rating(user=84, product=841, rating=0.05307993915210534),)),\n",
       " (804, (Rating(user=804, product=2760, rating=0.051299507778344924),)),\n",
       " (948, (Rating(user=948, product=2679, rating=0.042660525850879996),)),\n",
       " (372, (Rating(user=372, product=841, rating=0.006527509961492965),)),\n",
       " (228, (Rating(user=228, product=2073, rating=0.03866703623597546),)),\n",
       " (516, (Rating(user=516, product=459, rating=0.05065131663419528),)),\n",
       " (660, (Rating(user=660, product=2531, rating=0.047966759747124395),)),\n",
       " (661, (Rating(user=661, product=159, rating=0.012079409137295126),)),\n",
       " (229, (Rating(user=229, product=2679, rating=0.03937932917444534),)),\n",
       " (373, (Rating(user=373, product=294, rating=0.0465682989255656),)),\n",
       " (949, (Rating(user=949, product=459, rating=0.024959047356678664),)),\n",
       " (85, (Rating(user=85, product=2760, rating=0.048929065604175134),)),\n",
       " (805, (Rating(user=805, product=2760, rating=0.049861424546759237),)),\n",
       " (517, (Rating(user=517, product=56, rating=0.05699216869576082),)),\n",
       " (230, (Rating(user=230, product=56, rating=0.049803981312920395),)),\n",
       " (374, (Rating(user=374, product=2831, rating=0.03930157375276259),)),\n",
       " (950, (Rating(user=950, product=841, rating=0.05459615799332598),)),\n",
       " (518, (Rating(user=518, product=2760, rating=0.04840103734862729),)),\n",
       " (86, (Rating(user=86, product=222, rating=0.026604508676995573),)),\n",
       " (662, (Rating(user=662, product=841, rating=0.05097210596142551),)),\n",
       " (806, (Rating(user=806, product=1029, rating=0.0651938149623886),)),\n",
       " (519, (Rating(user=519, product=2313, rating=0.05700962805299073),)),\n",
       " (663, (Rating(user=663, product=459, rating=0.04649639070295672),)),\n",
       " (807, (Rating(user=807, product=2760, rating=0.04195936798093646),)),\n",
       " (231, (Rating(user=231, product=2073, rating=0.04741234231631751),)),\n",
       " (375, (Rating(user=375, product=841, rating=0.04717091736470082),)),\n",
       " (951, (Rating(user=951, product=2695, rating=0.00662466683925314),)),\n",
       " (87, (Rating(user=87, product=841, rating=0.06443118769140632),)),\n",
       " (232, (Rating(user=232, product=3652, rating=0.0030163071768193883),)),\n",
       " (376, (Rating(user=376, product=2760, rating=0.04362735520171746),)),\n",
       " (952, (Rating(user=952, product=2313, rating=0.017102523940357106),)),\n",
       " (808, (Rating(user=808, product=2679, rating=0.05249757977463793),)),\n",
       " (520, (Rating(user=520, product=841, rating=0.0555006797394815),)),\n",
       " (664, (Rating(user=664, product=2679, rating=0.053675440754741455),)),\n",
       " (88, (Rating(user=88, product=174, rating=0.015154499337880248),)),\n",
       " (953, (Rating(user=953, product=56, rating=0.0566294044337865),)),\n",
       " (665, (Rating(user=665, product=2073, rating=0.03669341662427898),)),\n",
       " (521, (Rating(user=521, product=2313, rating=0.05718191249877813),)),\n",
       " (233, (Rating(user=233, product=841, rating=0.055956081914382116),)),\n",
       " (89, (Rating(user=89, product=2073, rating=0.05710732297165603),)),\n",
       " (377, (Rating(user=377, product=2679, rating=0.036565921605602195),)),\n",
       " (809, (Rating(user=809, product=841, rating=0.057896827376553446),)),\n",
       " (954, (Rating(user=954, product=56, rating=0.04365246260713389),)),\n",
       " (666, (Rating(user=666, product=2313, rating=0.049757521923606045),)),\n",
       " (90, (Rating(user=90, product=2760, rating=0.042757862222128615),)),\n",
       " (378, (Rating(user=378, product=2679, rating=0.05221023590322049),)),\n",
       " (810, (Rating(user=810, product=2762, rating=0.020228867583488252),)),\n",
       " (234, (Rating(user=234, product=222, rating=0.05695303873157037),)),\n",
       " (522, (Rating(user=522, product=2760, rating=0.049283476707616417),)),\n",
       " (667, (Rating(user=667, product=2760, rating=0.037149042611454595),)),\n",
       " (379, (Rating(user=379, product=56, rating=0.05499788487248648),)),\n",
       " (235, (Rating(user=235, product=380, rating=0.01527705464631064),)),\n",
       " (811, (Rating(user=811, product=2679, rating=0.03779757238217023),)),\n",
       " (523, (Rating(user=523, product=294, rating=0.04021310372947775),)),\n",
       " (91, (Rating(user=91, product=841, rating=0.0510181531743939),)),\n",
       " (955, (Rating(user=955, product=2760, rating=0.04766061177960118),)),\n",
       " (668, (Rating(user=668, product=2760, rating=0.016685158155786126),)),\n",
       " (524, (Rating(user=524, product=2073, rating=0.03423728806183938),)),\n",
       " (92, (Rating(user=92, product=2531, rating=0.018140757484974426),)),\n",
       " (812, (Rating(user=812, product=841, rating=0.04600935693912852),)),\n",
       " (380, (Rating(user=380, product=841, rating=0.043923477031851746),)),\n",
       " (236, (Rating(user=236, product=56, rating=0.06762191691011549),)),\n",
       " (956, (Rating(user=956, product=2679, rating=0.04484687674053518),)),\n",
       " (381, (Rating(user=381, product=246, rating=0.03529542864447001),)),\n",
       " (93, (Rating(user=93, product=841, rating=0.05550824828983928),)),\n",
       " (957, (Rating(user=957, product=2073, rating=0.02660414697808354),)),\n",
       " (237, (Rating(user=237, product=222, rating=0.047130431292457434),)),\n",
       " (813, (Rating(user=813, product=2073, rating=0.0549649634589614),)),\n",
       " (525, (Rating(user=525, product=841, rating=0.054103820566124616),)),\n",
       " (669, (Rating(user=669, product=222, rating=0.05046537770995831),)),\n",
       " (526, (Rating(user=526, product=2531, rating=0.014699653086589503),)),\n",
       " (958, (Rating(user=958, product=2073, rating=0.035849553336631645),)),\n",
       " (814, (Rating(user=814, product=2073, rating=0.06110319562662489),)),\n",
       " (382, (Rating(user=382, product=2073, rating=0.04850939238881695),)),\n",
       " (238, (Rating(user=238, product=2679, rating=0.0492648484291455),)),\n",
       " (94, (Rating(user=94, product=56, rating=0.03283881032795814),)),\n",
       " (670, (Rating(user=670, product=56, rating=0.04331260245258792),)),\n",
       " (95, (Rating(user=95, product=479, rating=0.04056179769460452),)),\n",
       " (815, (Rating(user=815, product=2679, rating=0.046962110033612385),)),\n",
       " (383, (Rating(user=383, product=2760, rating=0.052463153503855685),)),\n",
       " (527, (Rating(user=527, product=2679, rating=0.03865418074135972),)),\n",
       " (959, (Rating(user=959, product=294, rating=0.02168802391820433),)),\n",
       " (671, (Rating(user=671, product=2679, rating=0.03459323613435357),)),\n",
       " (239, (Rating(user=239, product=2679, rating=0.043662700104806995),)),\n",
       " (96, (Rating(user=96, product=2313, rating=0.03867465522184116),)),\n",
       " (672, (Rating(user=672, product=841, rating=0.06476272989500018),)),\n",
       " (240, (Rating(user=240, product=841, rating=0.04736497634126488),)),\n",
       " (528, (Rating(user=528, product=222, rating=0.05761671898341679),)),\n",
       " (960, (Rating(user=960, product=2760, rating=0.047201878527075566),)),\n",
       " (816, (Rating(user=816, product=56, rating=0.06325138809728997),)),\n",
       " (384, (Rating(user=384, product=841, rating=0.05136863376540679),)),\n",
       " (817, (Rating(user=817, product=2531, rating=0.050047323025739616),)),\n",
       " (673, (Rating(user=673, product=841, rating=0.042726716415933993),)),\n",
       " (529, (Rating(user=529, product=2313, rating=0.041449085762038804),)),\n",
       " (97, (Rating(user=97, product=841, rating=0.06066024948289442),)),\n",
       " (385, (Rating(user=385, product=2679, rating=0.05973629276673472),)),\n",
       " (241, (Rating(user=241, product=841, rating=0.0504589437547955),)),\n",
       " (961, (Rating(user=961, product=2760, rating=0.04576369713851931),)),\n",
       " (386, (Rating(user=386, product=479, rating=0.027776125214267044),)),\n",
       " (962, (Rating(user=962, product=841, rating=0.05011779550148591),)),\n",
       " (98, (Rating(user=98, product=2313, rating=0.05100781764913937),)),\n",
       " (530, (Rating(user=530, product=56, rating=0.04626276940514124),)),\n",
       " (242, (Rating(user=242, product=841, rating=0.048905408172412734),)),\n",
       " (674, (Rating(user=674, product=1271, rating=0.041862015092829906),)),\n",
       " (818, (Rating(user=818, product=2679, rating=0.033852440021260206),)),\n",
       " (387, (Rating(user=387, product=841, rating=0.055634060763587734),)),\n",
       " (243, (Rating(user=243, product=2760, rating=0.030429333958572023),)),\n",
       " (531, (Rating(user=531, product=56, rating=0.030123576706456216),)),\n",
       " (963, (Rating(user=963, product=2531, rating=0.030747868906111753),)),\n",
       " (675, (Rating(user=675, product=2760, rating=0.04694589421995944),)),\n",
       " (819, (Rating(user=819, product=841, rating=0.06379436681010506),)),\n",
       " (99, (Rating(user=99, product=2073, rating=0.0338405533502721),)),\n",
       " (100, (Rating(user=100, product=56, rating=0.05334977059236892),)),\n",
       " (388, (Rating(user=388, product=2760, rating=0.04380053806913499),)),\n",
       " (676, (Rating(user=676, product=3287, rating=0.005298308064466297),)),\n",
       " (532, (Rating(user=532, product=2517, rating=0.041766884593300205),)),\n",
       " (964, (Rating(user=964, product=2679, rating=0.013868496127479556),)),\n",
       " (244, (Rating(user=244, product=841, rating=0.05586522372639504),)),\n",
       " (820, (Rating(user=820, product=2313, rating=0.05251967361448119),)),\n",
       " (101, (Rating(user=101, product=2571, rating=0.00786713843863706),)),\n",
       " (533, (Rating(user=533, product=2313, rating=0.038172166603860753),)),\n",
       " (965, (Rating(user=965, product=2679, rating=0.05114750504846498),)),\n",
       " (677, (Rating(user=677, product=479, rating=0.03931363758405284),)),\n",
       " (245, (Rating(user=245, product=403, rating=0.040445085879158064),)),\n",
       " (821, (Rating(user=821, product=3325, rating=0.027034156285506514),)),\n",
       " (389, (Rating(user=389, product=2073, rating=0.04271740117359356),)),\n",
       " (966, (Rating(user=966, product=222, rating=0.023764439924918272),)),\n",
       " (822, (Rating(user=822, product=841, rating=0.051440636335416165),)),\n",
       " (246, (Rating(user=246, product=841, rating=0.07180164899116584),)),\n",
       " (678, (Rating(user=678, product=841, rating=0.057960183968117245),)),\n",
       " (102, (Rating(user=102, product=56, rating=0.06384918137826567),)),\n",
       " (390, (Rating(user=390, product=459, rating=0.03541240560871396),)),\n",
       " (534, (Rating(user=534, product=2760, rating=0.04693777141802063),)),\n",
       " (967, (Rating(user=967, product=841, rating=0.05247569368326506),)),\n",
       " (823, (Rating(user=823, product=2679, rating=0.05080002857374323),)),\n",
       " (679, (Rating(user=679, product=2313, rating=0.05488289403547248),)),\n",
       " (247, (Rating(user=247, product=841, rating=0.05093802568201898),)),\n",
       " (535, (Rating(user=535, product=2531, rating=0.058391583692889895),)),\n",
       " (103, (Rating(user=103, product=2679, rating=0.049782363697805865),)),\n",
       " (391, (Rating(user=391, product=2073, rating=0.056529474957001974),)),\n",
       " (104, (Rating(user=104, product=841, rating=0.05581937314880743),)),\n",
       " (680, (Rating(user=680, product=841, rating=0.05747863532058983),)),\n",
       " (392, (Rating(user=392, product=2073, rating=0.07108956176460421),)),\n",
       " (248, (Rating(user=248, product=2504, rating=0.039716764874744695),)),\n",
       " (968, (Rating(user=968, product=2313, rating=0.05220377905906887),)),\n",
       " (536, (Rating(user=536, product=2760, rating=0.052038526506918634),)),\n",
       " (824, (Rating(user=824, product=2760, rating=0.059353222112421916),)),\n",
       " (681, (Rating(user=681, product=56, rating=0.05008224867104061),)),\n",
       " (105, (Rating(user=105, product=2679, rating=0.041508436745681464),)),\n",
       " (393, (Rating(user=393, product=841, rating=0.05295579135911513),)),\n",
       " (537, (Rating(user=537, product=56, rating=0.04793276756349518),)),\n",
       " (825, (Rating(user=825, product=2679, rating=0.04692750023093589),)),\n",
       " (249, (Rating(user=249, product=2679, rating=0.046149088543838285),)),\n",
       " (969, (Rating(user=969, product=56, rating=0.058711281604452485),)),\n",
       " (970, (Rating(user=970, product=841, rating=0.060892451218551746),)),\n",
       " (394, (Rating(user=394, product=841, rating=0.04235843153021248),)),\n",
       " (682, (Rating(user=682, product=2679, rating=0.044565276817196006),)),\n",
       " (538, (Rating(user=538, product=2760, rating=0.030510582268230925),)),\n",
       " (250, (Rating(user=250, product=479, rating=0.04104598828909311),)),\n",
       " (106, (Rating(user=106, product=222, rating=0.05856482255160723),)),\n",
       " (826, (Rating(user=826, product=841, rating=0.05295792729992677),)),\n",
       " (539, (Rating(user=539, product=841, rating=0.038759441141967464),)),\n",
       " (971, (Rating(user=971, product=2073, rating=0.05760877146647393),)),\n",
       " (395, (Rating(user=395, product=841, rating=0.06250782358724444),)),\n",
       " (107, (Rating(user=107, product=294, rating=0.012049483501426022),)),\n",
       " (683, (Rating(user=683, product=56, rating=0.037765906996448974),)),\n",
       " (827, (Rating(user=827, product=2679, rating=0.049623604046612826),)),\n",
       " (251, (Rating(user=251, product=56, rating=0.07021066320787626),)),\n",
       " (540, (Rating(user=540, product=2073, rating=0.05767598203941595),)),\n",
       " (396, (Rating(user=396, product=841, rating=0.06106582960763522),)),\n",
       " (828, (Rating(user=828, product=841, rating=0.050078168859091166),)),\n",
       " (972, (Rating(user=972, product=459, rating=0.04897308645154442),)),\n",
       " (252, (Rating(user=252, product=3128, rating=0.02051828673306154),)),\n",
       " (108, (Rating(user=108, product=2679, rating=0.04165734714251264),)),\n",
       " (684, (Rating(user=684, product=2313, rating=0.04524960101849475),)),\n",
       " (253, (Rating(user=253, product=56, rating=0.04749914913128047),)),\n",
       " (397, (Rating(user=397, product=841, rating=0.051335550256217014),)),\n",
       " (685, (Rating(user=685, product=2760, rating=0.030394206491761118),)),\n",
       " (829, (Rating(user=829, product=329, rating=0.015679902243384343),)),\n",
       " (541, (Rating(user=541, product=841, rating=0.042117085042873606),)),\n",
       " (109, (Rating(user=109, product=246, rating=0.035303398224717286),)),\n",
       " (398, (Rating(user=398, product=222, rating=0.034967632047800165),)),\n",
       " (254, (Rating(user=254, product=294, rating=0.029562700593833532),)),\n",
       " (686, (Rating(user=686, product=56, rating=0.05729950157590696),)),\n",
       " (542, (Rating(user=542, product=2313, rating=0.022132651870420558),)),\n",
       " (830, (Rating(user=830, product=2679, rating=0.042767492267051566),)),\n",
       " (687, (Rating(user=687, product=56, rating=0.05457309363786204),)),\n",
       " (831, (Rating(user=831, product=841, rating=0.043260919497339775),)),\n",
       " (255, (Rating(user=255, product=56, rating=0.02924213373318573),)),\n",
       " (111, (Rating(user=111, product=2760, rating=0.041535082357858855),)),\n",
       " (399, (Rating(user=399, product=2760, rating=0.0560021979478925),)),\n",
       " (543, (Rating(user=543, product=2760, rating=0.060096404402433995),)),\n",
       " (112, (Rating(user=112, product=2760, rating=0.03626902391109599),)),\n",
       " (544, (Rating(user=544, product=2073, rating=0.05669162863517624),)),\n",
       " (832, (Rating(user=832, product=2679, rating=0.05045945382542352),)),\n",
       " (400, (Rating(user=400, product=841, rating=0.06257850165124293),)),\n",
       " (688, (Rating(user=688, product=2760, rating=0.05148458238257789),)),\n",
       " (256, (Rating(user=256, product=459, rating=0.0367326095860844),)),\n",
       " (401, (Rating(user=401, product=277, rating=0.011776209677022998),)),\n",
       " (545, (Rating(user=545, product=2679, rating=0.02325864456218707),)),\n",
       " (833, (Rating(user=833, product=2313, rating=0.06835025419189647),)),\n",
       " (113, (Rating(user=113, product=56, rating=0.03523229029865249),)),\n",
       " (257, (Rating(user=257, product=3325, rating=0.038393174112852015),)),\n",
       " (689, (Rating(user=689, product=2679, rating=0.05144596651595914),)),\n",
       " (834, (Rating(user=834, product=841, rating=0.05448908685227172),)),\n",
       " (258, (Rating(user=258, product=2760, rating=0.050415613478242055),)),\n",
       " (402, (Rating(user=402, product=2679, rating=0.046136206341904476),)),\n",
       " (690, (Rating(user=690, product=2531, rating=0.0428490408426308),)),\n",
       " (546, (Rating(user=546, product=841, rating=0.04851767468216965),)),\n",
       " (114, (Rating(user=114, product=841, rating=0.058173617973307404),)),\n",
       " (115, (Rating(user=115, product=841, rating=0.059001594167721716),)),\n",
       " (403, (Rating(user=403, product=2760, rating=0.050043485242388705),)),\n",
       " (691, (Rating(user=691, product=841, rating=0.04240939898100063),)),\n",
       " (835, (Rating(user=835, product=841, rating=0.05718777338047711),)),\n",
       " (259, (Rating(user=259, product=2313, rating=0.04688851328667479),)),\n",
       " (547, (Rating(user=547, product=841, rating=0.05465671487124247),)),\n",
       " (692, (Rating(user=692, product=2313, rating=0.0190413898114599),)),\n",
       " (404, (Rating(user=404, product=2313, rating=0.030440769036282116),)),\n",
       " (836, (Rating(user=836, product=2679, rating=0.04788131548778157),)),\n",
       " (116, (Rating(user=116, product=1006, rating=0.04130067418682201),)),\n",
       " (260, (Rating(user=260, product=2073, rating=0.034392199833892426),)),\n",
       " (548, (Rating(user=548, product=782, rating=0.024433544380837547),)),\n",
       " (837, (Rating(user=837, product=2679, rating=0.050754774167180106),)),\n",
       " (261, (Rating(user=261, product=380, rating=0.0029773178529048055),)),\n",
       " (117, (Rating(user=117, product=841, rating=0.05198540400435679),)),\n",
       " (549, (Rating(user=549, product=2313, rating=0.053322690203720935),)),\n",
       " (405, (Rating(user=405, product=479, rating=0.052458900183118454),)),\n",
       " (693, (Rating(user=693, product=56, rating=0.06712013485092024),)),\n",
       " (694, (Rating(user=694, product=222, rating=0.043730518302979055),)),\n",
       " (838, (Rating(user=838, product=2760, rating=0.05858211861147106),)),\n",
       " (262, (Rating(user=262, product=2760, rating=0.036836424390857256),)),\n",
       " (118, (Rating(user=118, product=841, rating=0.05444942046577732),)),\n",
       " (406, (Rating(user=406, product=2679, rating=0.040799536948668225),)),\n",
       " (550, (Rating(user=550, product=841, rating=0.044723104769332375),)),\n",
       " (119, (Rating(user=119, product=459, rating=0.05106095706635442),)),\n",
       " (407, (Rating(user=407, product=2831, rating=0.03920408158127529),)),\n",
       " (839, (Rating(user=839, product=56, rating=0.06758808177446599),)),\n",
       " (263, (Rating(user=263, product=1125, rating=0.015921430930784755),)),\n",
       " (551, (Rating(user=551, product=56, rating=0.04686703890760104),)),\n",
       " (695, (Rating(user=695, product=841, rating=0.05470021235461954),)),\n",
       " (120, (Rating(user=120, product=841, rating=0.03877322506118131),)),\n",
       " (408, (Rating(user=408, product=222, rating=0.028203302384858943),)),\n",
       " (696, (Rating(user=696, product=2760, rating=0.05316095265150242),)),\n",
       " (264, (Rating(user=264, product=2073, rating=0.06392362096212117),)),\n",
       " (552, (Rating(user=552, product=2831, rating=0.04841609376582376),)),\n",
       " (840, (Rating(user=840, product=2679, rating=0.02586234230223046),)),\n",
       " (553, (Rating(user=553, product=841, rating=0.045902410190958795),)),\n",
       " (409, (Rating(user=409, product=2760, rating=0.026660036292634658),)),\n",
       " (265, (Rating(user=265, product=841, rating=0.05274676494751544),)),\n",
       " (697, (Rating(user=697, product=841, rating=0.05237599625620263),)),\n",
       " (121, (Rating(user=121, product=56, rating=0.04057906217432368),)),\n",
       " (841, (Rating(user=841, product=56, rating=0.030104861281722566),)),\n",
       " (122, (Rating(user=122, product=2679, rating=0.053789238226892216),)),\n",
       " (554, (Rating(user=554, product=2679, rating=0.05874457760900659),)),\n",
       " (698, (Rating(user=698, product=56, rating=0.05934486330097874),)),\n",
       " (410, (Rating(user=410, product=2073, rating=0.044626110317003864),)),\n",
       " (266, (Rating(user=266, product=796, rating=0.039634236037683276),)),\n",
       " (842, (Rating(user=842, product=2073, rating=0.045435809334245895),)),\n",
       " (267, (Rating(user=267, product=2313, rating=0.016220185561104997),)),\n",
       " (699, (Rating(user=699, product=56, rating=0.04984208055027524),)),\n",
       " (411, (Rating(user=411, product=843, rating=0.009358180706537718),)),\n",
       " (843, (Rating(user=843, product=479, rating=0.05204057335348923),)),\n",
       " (123, (Rating(user=123, product=2531, rating=0.046840005853395796),)),\n",
       " (555, (Rating(user=555, product=2531, rating=0.03610946312138995),)),\n",
       " (556, (Rating(user=556, product=459, rating=0.050760885992939056),)),\n",
       " (412, (Rating(user=412, product=1029, rating=0.03474865539665213),)),\n",
       " (844, (Rating(user=844, product=2313, rating=0.017425799626994955),)),\n",
       " (124, (Rating(user=124, product=459, rating=0.05409261263676851),)),\n",
       " (700, (Rating(user=700, product=2313, rating=0.048156835263107295),)),\n",
       " (268, (Rating(user=268, product=1029, rating=0.03775650680883441),)),\n",
       " (413, (Rating(user=413, product=841, rating=0.04656848901739609),)),\n",
       " (557, (Rating(user=557, product=2073, rating=0.05567120573101531),)),\n",
       " (125, (Rating(user=125, product=2831, rating=0.040006331159143926),)),\n",
       " (845, (Rating(user=845, product=222, rating=0.045195602014959126),)),\n",
       " (269, (Rating(user=269, product=479, rating=0.05111187934887583),)),\n",
       " (701, (Rating(user=701, product=841, rating=0.04180613081219417),)),\n",
       " (702, (Rating(user=702, product=2760, rating=0.040224045518265236),)),\n",
       " (270, (Rating(user=270, product=2571, rating=0.02338149732610591),)),\n",
       " (126, (Rating(user=126, product=2073, rating=0.03981891055730688),)),\n",
       " (414, (Rating(user=414, product=841, rating=0.05365131418037153),)),\n",
       " (558, (Rating(user=558, product=841, rating=0.04900834548961093),)),\n",
       " (846, (Rating(user=846, product=2760, rating=0.042580346218139456),)),\n",
       " (847, (Rating(user=847, product=222, rating=0.05602103122919972),)),\n",
       " (127, (Rating(user=127, product=2679, rating=0.05158669208015147),)),\n",
       " (415, (Rating(user=415, product=2679, rating=0.04312139991293893),)),\n",
       " (559, (Rating(user=559, product=841, rating=0.05018343918199525),)),\n",
       " (703, (Rating(user=703, product=350, rating=0.037301931069988824),)),\n",
       " (271, (Rating(user=271, product=2760, rating=0.023257181020559015),)),\n",
       " (848, (Rating(user=848, product=350, rating=0.03349978506935794),)),\n",
       " (704, (Rating(user=704, product=841, rating=0.0549753289975771),)),\n",
       " (128, (Rating(user=128, product=459, rating=0.04528361371676371),)),\n",
       " (272, (Rating(user=272, product=2313, rating=0.020890847675253666),)),\n",
       " (560, (Rating(user=560, product=841, rating=0.029592227278250435),)),\n",
       " (416, (Rating(user=416, product=841, rating=0.06779339963195101),)),\n",
       " (417, (Rating(user=417, product=841, rating=0.04938032752696054),)),\n",
       " (561, (Rating(user=561, product=479, rating=0.04812036755404128),)),\n",
       " (705, (Rating(user=705, product=2073, rating=0.006683887491131352),)),\n",
       " (273, (Rating(user=273, product=841, rating=0.0502945256911387),)),\n",
       " (849, (Rating(user=849, product=2760, rating=0.03673115560898233),)),\n",
       " (129, (Rating(user=129, product=56, rating=0.05045157084834721),)),\n",
       " (562, (Rating(user=562, product=2971, rating=0.02678052204135549),)),\n",
       " (130, (Rating(user=130, product=56, rating=0.05916086906380294),)),\n",
       " (850, (Rating(user=850, product=2679, rating=0.056030102873680356),)),\n",
       " (418, (Rating(user=418, product=841, rating=0.048545039637901154),)),\n",
       " (274, (Rating(user=274, product=2760, rating=0.035470891415876525),)),\n",
       " (706, (Rating(user=706, product=2531, rating=0.015925677114023297),)),\n",
       " (419, (Rating(user=419, product=3250, rating=0.019737430806567903),)),\n",
       " (707, (Rating(user=707, product=159, rating=0.005463256168823277),)),\n",
       " (131, (Rating(user=131, product=1788, rating=0.006431086429017592),)),\n",
       " (275, (Rating(user=275, product=2760, rating=0.028428288015007026),)),\n",
       " (563, (Rating(user=563, product=2760, rating=0.055141126616692133),)),\n",
       " (851, (Rating(user=851, product=2695, rating=0.035237648570766104),)),\n",
       " (564, (Rating(user=564, product=2073, rating=0.04299955981321055),)),\n",
       " (276, (Rating(user=276, product=801, rating=0.02102312557012111),)),\n",
       " (420, (Rating(user=420, product=2313, rating=0.028022556997210422),)),\n",
       " (708, (Rating(user=708, product=2531, rating=0.012345203800118052),)),\n",
       " (132, (Rating(user=132, product=222, rating=0.03373688465004633),)),\n",
       " (852, (Rating(user=852, product=56, rating=0.02690955453886652),)),\n",
       " (853, (Rating(user=853, product=841, rating=0.04373879114325267),)),\n",
       " (277, (Rating(user=277, product=226, rating=0.0156772632302612),)),\n",
       " (709, (Rating(user=709, product=841, rating=0.060648810030403844),)),\n",
       " (133, (Rating(user=133, product=222, rating=0.008190063967576242),)),\n",
       " (565, (Rating(user=565, product=1029, rating=0.04001730013158206),)),\n",
       " (421, (Rating(user=421, product=2679, rating=0.047170113717614856),)),\n",
       " (566, (Rating(user=566, product=2073, rating=0.05038189692119962),)),\n",
       " (134, (Rating(user=134, product=2760, rating=0.0612248701683293),)),\n",
       " (278, (Rating(user=278, product=2696, rating=0.024305145363143058),)),\n",
       " (710, (Rating(user=710, product=2679, rating=0.02537998734695219),)),\n",
       " (422, (Rating(user=422, product=841, rating=0.05548342498129396),)),\n",
       " (854, (Rating(user=854, product=841, rating=0.04883396812809883),)),\n",
       " (711, (Rating(user=711, product=2971, rating=0.014082157353309964),)),\n",
       " (567, (Rating(user=567, product=2760, rating=0.03701861846186437),)),\n",
       " (279, (Rating(user=279, product=841, rating=0.05267337465736499),)),\n",
       " (135, (Rating(user=135, product=2679, rating=0.038818930562549016),)),\n",
       " (855, (Rating(user=855, product=459, rating=0.02815044217367285),)),\n",
       " (423, (Rating(user=423, product=2679, rating=0.062065440663190155),)),\n",
       " (568, (Rating(user=568, product=841, rating=0.04734976836602667),)),\n",
       " (280, (Rating(user=280, product=2760, rating=0.06648280620030234),)),\n",
       " (424, (Rating(user=424, product=2760, rating=0.039810115860233225),)),\n",
       " (856, (Rating(user=856, product=2760, rating=0.06737474871800773),)),\n",
       " (136, (Rating(user=136, product=2760, rating=0.04621308692659937),)),\n",
       " (712, (Rating(user=712, product=2531, rating=0.024699450633695406),)),\n",
       " (713, (Rating(user=713, product=56, rating=0.013825003951574776),)),\n",
       " (137, (Rating(user=137, product=2760, rating=0.06028322440493994),)),\n",
       " (857, (Rating(user=857, product=294, rating=0.02803129577175668),)),\n",
       " (281, (Rating(user=281, product=841, rating=0.05081719342100385),)),\n",
       " (569, (Rating(user=569, product=841, rating=0.04744060144247421),)),\n",
       " (425, (Rating(user=425, product=2679, rating=0.045824066477116086),)),\n",
       " (570, (Rating(user=570, product=2313, rating=0.0386355882847475),)),\n",
       " (138, (Rating(user=138, product=2073, rating=0.04821140635526099),)),\n",
       " (426, (Rating(user=426, product=2679, rating=0.049634630875384944),)),\n",
       " (858, (Rating(user=858, product=2073, rating=0.04499474194766137),)),\n",
       " (282, (Rating(user=282, product=2313, rating=0.05133665299801647),)),\n",
       " (714, (Rating(user=714, product=2760, rating=0.037700557025294054),)),\n",
       " (139, (Rating(user=139, product=2679, rating=0.04521545008444838),)),\n",
       " (715, (Rating(user=715, product=841, rating=0.050733339923622604),)),\n",
       " (283, (Rating(user=283, product=2679, rating=0.04557686288162242),)),\n",
       " (427, (Rating(user=427, product=2517, rating=0.032667428446275806),)),\n",
       " (571, (Rating(user=571, product=2760, rating=0.05798382180308616),)),\n",
       " (859, (Rating(user=859, product=56, rating=0.03741848846625098),)),\n",
       " (860, (Rating(user=860, product=841, rating=0.05019436814786358),)),\n",
       " (428, (Rating(user=428, product=841, rating=0.07058630341877674),)),\n",
       " (572, (Rating(user=572, product=801, rating=0.03632191739658887),)),\n",
       " (140, (Rating(user=140, product=2073, rating=0.038412016062500665),)),\n",
       " (284, (Rating(user=284, product=1029, rating=0.019417353194809066),)),\n",
       " (716, (Rating(user=716, product=2579, rating=0.017229111302564524),)),\n",
       " (717, (Rating(user=717, product=878, rating=0.037500375040834186),)),\n",
       " (429, (Rating(user=429, product=2679, rating=0.042873338147414695),)),\n",
       " (285, (Rating(user=285, product=2760, rating=0.04705414965736273),)),\n",
       " (141, (Rating(user=141, product=2760, rating=0.019324315125928915),)),\n",
       " (861, (Rating(user=861, product=2073, rating=0.0389928275690627),)),\n",
       " (573, (Rating(user=573, product=56, rating=0.04961337160925373),)),\n",
       " (574, (Rating(user=574, product=2917, rating=0.04111499905555364),)),\n",
       " (430, (Rating(user=430, product=801, rating=0.01657813027616415),)),\n",
       " (286, (Rating(user=286, product=841, rating=0.04554275599775884),)),\n",
       " (142, (Rating(user=142, product=841, rating=0.04776453350888615),)),\n",
       " (862, (Rating(user=862, product=350, rating=0.04877042731802268),)),\n",
       " (718, (Rating(user=718, product=2313, rating=0.01441592510460546),)),\n",
       " (719, (Rating(user=719, product=841, rating=0.04246328748593759),)),\n",
       " (863, (Rating(user=863, product=2760, rating=0.027568254312804144),)),\n",
       " (143, (Rating(user=143, product=2760, rating=0.027548323919037616),)),\n",
       " (431, (Rating(user=431, product=222, rating=0.05215425027651971),)),\n",
       " (575, (Rating(user=575, product=2073, rating=0.025660509976418704),)),\n",
       " (287, (Rating(user=287, product=56, rating=0.0460328354786034),))]"
      ]
     },
     "execution_count": 110,
     "metadata": {},
     "output_type": "execute_result"
    }
   ],
   "source": [
    "products_for_users"
   ]
  },
  {
   "cell_type": "code",
   "execution_count": null,
   "metadata": {},
   "outputs": [],
   "source": []
  },
  {
   "cell_type": "code",
   "execution_count": 49,
   "metadata": {},
   "outputs": [
    {
     "data": {
      "text/plain": [
       "131"
      ]
     },
     "execution_count": 49,
     "metadata": {},
     "output_type": "execute_result"
    }
   ],
   "source": [
    "predictions.filter(lambda x : x[0] == 0).count()"
   ]
  },
  {
   "cell_type": "code",
   "execution_count": 42,
   "metadata": {},
   "outputs": [
    {
     "name": "stdout",
     "output_type": "stream",
     "text": [
      "Wall time: 4.69 s\n"
     ]
    },
    {
     "data": {
      "text/plain": [
       "[Rating(user=0, product=204, rating=0.1302139087676721),\n",
       " Rating(user=0, product=288, rating=0.08125482420744135),\n",
       " Rating(user=0, product=2508, rating=0.5641149002283767),\n",
       " Rating(user=0, product=2856, rating=0.35142433988278265),\n",
       " Rating(user=0, product=2820, rating=1.6709564288988954),\n",
       " Rating(user=0, product=2808, rating=1.830578520171482),\n",
       " Rating(user=0, product=768, rating=1.2665242119013902),\n",
       " Rating(user=0, product=2844, rating=0.861640002186876),\n",
       " Rating(user=0, product=2472, rating=0.40332568305465166),\n",
       " Rating(user=0, product=2652, rating=1.096171466058772),\n",
       " Rating(user=0, product=792, rating=-0.6297734465634264),\n",
       " Rating(user=0, product=2124, rating=1.1416842288348323),\n",
       " Rating(user=0, product=132, rating=0.6341896913551128),\n",
       " Rating(user=0, product=240, rating=2.258801205518232),\n",
       " Rating(user=0, product=2893, rating=-0.01438448255242264),\n",
       " Rating(user=0, product=2089, rating=0.5896484975427381),\n",
       " Rating(user=0, product=793, rating=-0.21629310312896077),\n",
       " Rating(user=0, product=2341, rating=1.269633348320328),\n",
       " Rating(user=0, product=2773, rating=0.39540523795035676),\n",
       " Rating(user=0, product=817, rating=1.1834992743471844),\n",
       " Rating(user=0, product=253, rating=1.11657821747826),\n",
       " Rating(user=0, product=877, rating=3.605616442326278),\n",
       " Rating(user=0, product=757, rating=0.06641670945230516),\n",
       " Rating(user=0, product=2917, rating=1.6674002952833504),\n",
       " Rating(user=0, product=2510, rating=0.604066215976891),\n",
       " Rating(user=0, product=2882, rating=-0.6244523355139315),\n",
       " Rating(user=0, product=698, rating=1.690446319885468),\n",
       " Rating(user=0, product=2798, rating=1.038680586568351),\n",
       " Rating(user=0, product=2774, rating=4.481587589248868),\n",
       " Rating(user=0, product=650, rating=0.06380899438929877),\n",
       " Rating(user=0, product=2918, rating=1.2972051515271232),\n",
       " Rating(user=0, product=2738, rating=0.24596663481184378),\n",
       " Rating(user=0, product=830, rating=1.0835547441703457),\n",
       " Rating(user=0, product=746, rating=2.0237090526486146),\n",
       " Rating(user=0, product=818, rating=-1.2297959392060864),\n",
       " Rating(user=0, product=795, rating=5.739300743381179),\n",
       " Rating(user=0, product=2823, rating=1.444311168210533),\n",
       " Rating(user=0, product=2751, rating=-6.176757631672864),\n",
       " Rating(user=0, product=2811, rating=1.3323527480345563),\n",
       " Rating(user=0, product=831, rating=1.3752524050445896),\n",
       " Rating(user=0, product=2271, rating=1.5814362375269744),\n",
       " Rating(user=0, product=579, rating=0.5222630620212829),\n",
       " Rating(user=0, product=2919, rating=0.786604971067006),\n",
       " Rating(user=0, product=2175, rating=2.488628885729356),\n",
       " Rating(user=0, product=2859, rating=1.2347067971854706),\n",
       " Rating(user=0, product=843, rating=0.5104908038873723),\n",
       " Rating(user=0, product=2596, rating=0.5612694023924094),\n",
       " Rating(user=0, product=196, rating=0.9301534353923522),\n",
       " Rating(user=0, product=784, rating=2.5183920846529535),\n",
       " Rating(user=0, product=688, rating=0.461313310203435),\n",
       " Rating(user=0, product=760, rating=-0.06053525238142299),\n",
       " Rating(user=0, product=2800, rating=0.6673620884793907),\n",
       " Rating(user=0, product=2740, rating=0.05455321492450382),\n",
       " Rating(user=0, product=2728, rating=0.17892122115880582),\n",
       " Rating(user=0, product=2764, rating=5.566107364199908),\n",
       " Rating(user=0, product=17, rating=0.19653785421633208),\n",
       " Rating(user=0, product=2081, rating=0.14455401727659667),\n",
       " Rating(user=0, product=2717, rating=0.1800499512201621),\n",
       " Rating(user=0, product=2333, rating=0.9304716311467622),\n",
       " Rating(user=0, product=2849, rating=-0.48466728371875556),\n",
       " Rating(user=0, product=593, rating=-0.48888785476602026),\n",
       " Rating(user=0, product=2705, rating=-0.1251532905457884),\n",
       " Rating(user=0, product=2873, rating=0.5973595213848508),\n",
       " Rating(user=0, product=2861, rating=-0.3511987758205297),\n",
       " Rating(user=0, product=2813, rating=0.4003131460134277),\n",
       " Rating(user=0, product=737, rating=0.9412619311784365),\n",
       " Rating(user=0, product=845, rating=0.20523497006504599),\n",
       " Rating(user=0, product=2393, rating=1.7229469962249482),\n",
       " Rating(user=0, product=749, rating=1.044963542991857),\n",
       " Rating(user=0, product=138, rating=1.5575738992065844),\n",
       " Rating(user=0, product=2850, rating=0.5739047540389306),\n",
       " Rating(user=0, product=330, rating=-0.21101418708922726),\n",
       " Rating(user=0, product=2778, rating=0.36505040572019176),\n",
       " Rating(user=0, product=858, rating=0.9812600864822238),\n",
       " Rating(user=0, product=2730, rating=4.073522523357298),\n",
       " Rating(user=0, product=2826, rating=-0.27309744437746497),\n",
       " Rating(user=0, product=510, rating=-0.10347871927678787),\n",
       " Rating(user=0, product=798, rating=1.5382061426205276),\n",
       " Rating(user=0, product=750, rating=0.5020245649508261),\n",
       " Rating(user=0, product=714, rating=1.4558275968176169),\n",
       " Rating(user=0, product=2766, rating=-0.5032444089156662),\n",
       " Rating(user=0, product=703, rating=1.4752830715070466),\n",
       " Rating(user=0, product=775, rating=1.536291966685642),\n",
       " Rating(user=0, product=427, rating=0.1286049013021402),\n",
       " Rating(user=0, product=2911, rating=-0.29426895258977037),\n",
       " Rating(user=0, product=847, rating=0.5820571758625088),\n",
       " Rating(user=0, product=823, rating=0.7496045325717482),\n",
       " Rating(user=0, product=2071, rating=0.8594105279958679),\n",
       " Rating(user=0, product=2755, rating=3.4342415300414313),\n",
       " Rating(user=0, product=2815, rating=0.33054796957932986),\n",
       " Rating(user=0, product=763, rating=2.2730195668089586),\n",
       " Rating(user=0, product=871, rating=0.8526492448551967),\n",
       " Rating(user=0, product=691, rating=0.8573929088352905),\n",
       " Rating(user=0, product=728, rating=0.807503730163436),\n",
       " Rating(user=0, product=812, rating=-0.08541414888221954),\n",
       " Rating(user=0, product=2756, rating=1.2425252654209658),\n",
       " Rating(user=0, product=56, rating=0.7942697595267121),\n",
       " Rating(user=0, product=740, rating=-0.4207904202071733),\n",
       " Rating(user=0, product=2792, rating=0.9640665445773031),\n",
       " Rating(user=0, product=8, rating=1.07698673708897),\n",
       " Rating(user=0, product=2888, rating=1.680526110808632),\n",
       " Rating(user=0, product=584, rating=-0.7644035168703747),\n",
       " Rating(user=0, product=380, rating=1.0494591446476722),\n",
       " Rating(user=0, product=596, rating=1.8789798496679326),\n",
       " Rating(user=0, product=2612, rating=1.8092570701745982),\n",
       " Rating(user=0, product=776, rating=1.7798881482871982),\n",
       " Rating(user=0, product=729, rating=0.17503849072686517),\n",
       " Rating(user=0, product=417, rating=2.320986575132748),\n",
       " Rating(user=0, product=789, rating=2.9157612980395022),\n",
       " Rating(user=0, product=765, rating=0.6051603941404449),\n",
       " Rating(user=0, product=2505, rating=2.214015237707722),\n",
       " Rating(user=0, product=2806, rating=1.3027635643741373),\n",
       " Rating(user=0, product=58, rating=1.4905875514066995),\n",
       " Rating(user=0, product=2818, rating=0.0850000240002422),\n",
       " Rating(user=0, product=766, rating=3.616338930873603),\n",
       " Rating(user=0, product=814, rating=-0.24193237836318882),\n",
       " Rating(user=0, product=2782, rating=1.0761655348412713),\n",
       " Rating(user=0, product=730, rating=-1.898329852134431),\n",
       " Rating(user=0, product=2890, rating=0.5634295358090231),\n",
       " Rating(user=0, product=719, rating=0.5770689682859733),\n",
       " Rating(user=0, product=2747, rating=0.8498296044070646),\n",
       " Rating(user=0, product=83, rating=1.4446357277110735),\n",
       " Rating(user=0, product=779, rating=1.3874647517902572),\n",
       " Rating(user=0, product=371, rating=0.1983989761177849),\n",
       " Rating(user=0, product=2735, rating=0.31640342543131084),\n",
       " Rating(user=0, product=767, rating=1.5174950160452045),\n",
       " Rating(user=0, product=2075, rating=-0.3306930937760848),\n",
       " Rating(user=0, product=875, rating=1.0811040972029922),\n",
       " Rating(user=0, product=2099, rating=-0.9904766991782497),\n",
       " Rating(user=0, product=839, rating=0.7295694282492668),\n",
       " Rating(user=0, product=2771, rating=0.9652093100644841)]"
      ]
     },
     "execution_count": 42,
     "metadata": {},
     "output_type": "execute_result"
    }
   ],
   "source": [
    "%%time\n",
    "predictions.filter(lambda x : x[0] == 0).collect()"
   ]
  },
  {
   "cell_type": "code",
   "execution_count": 29,
   "metadata": {},
   "outputs": [],
   "source": [
    "# Save and load model\n",
    "model.save(sc, r\"F:\\Data_Repository\\lastfm\\als_plays_v3_slot1.tsv\")"
   ]
  },
  {
   "cell_type": "code",
   "execution_count": null,
   "metadata": {},
   "outputs": [],
   "source": [
    "sameModel = MatrixFactorizationModel.load(sc, \"target/tmp/myCollaborativeFilter\")"
   ]
  }
 ],
 "metadata": {
  "kernelspec": {
   "display_name": "sparkenv",
   "language": "python",
   "name": "sparkenv"
  },
  "language_info": {
   "codemirror_mode": {
    "name": "ipython",
    "version": 3
   },
   "file_extension": ".py",
   "mimetype": "text/x-python",
   "name": "python",
   "nbconvert_exporter": "python",
   "pygments_lexer": "ipython3",
   "version": "3.7.1"
  }
 },
 "nbformat": 4,
 "nbformat_minor": 2
}
