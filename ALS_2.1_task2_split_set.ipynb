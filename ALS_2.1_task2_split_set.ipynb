{
 "cells": [
  {
   "cell_type": "code",
   "execution_count": 1,
   "metadata": {},
   "outputs": [],
   "source": [
    "# import the usual\n",
    "#import matplotlib.pyplot as plt\n",
    "import pandas as pd\n",
    "#import seaborn as sns\n",
    "import numpy as np\n",
    "\n",
    "from scipy.sparse import csr_matrix\n",
    "\n",
    "%matplotlib inline\n",
    "pd.set_option('display.max_columns', 500)"
   ]
  },
  {
   "cell_type": "code",
   "execution_count": 2,
   "metadata": {},
   "outputs": [
    {
     "name": "stderr",
     "output_type": "stream",
     "text": [
      "b'Skipping line 2120260: expected 6 fields, saw 8\\n'\n",
      "b'Skipping line 2446318: expected 6 fields, saw 8\\n'\n",
      "b'Skipping line 11141081: expected 6 fields, saw 8\\n'\n",
      "b'Skipping line 11152099: expected 6 fields, saw 12\\nSkipping line 11152402: expected 6 fields, saw 8\\n'\n",
      "b'Skipping line 11882087: expected 6 fields, saw 8\\n'\n",
      "b'Skipping line 12902539: expected 6 fields, saw 8\\nSkipping line 12935044: expected 6 fields, saw 8\\n'\n",
      "b'Skipping line 17589539: expected 6 fields, saw 8\\n'\n"
     ]
    }
   ],
   "source": [
    "#Music Data Loading\n",
    "df = pd.read_csv(r\"F:\\Data_Repository\\lastfm\\userid-timestamp-artid-artname-traid-traname.tsv\", sep=\"\\t\", error_bad_lines=False, header = None)\n"
   ]
  },
  {
   "cell_type": "code",
   "execution_count": 3,
   "metadata": {},
   "outputs": [],
   "source": [
    "# dfsmall = pd.read_csv(r\"F:\\Data_Repository\\lastfm\\usersha1-profile.tsv\",sep='\\t',names=['userId','gender','age','country','signupDate'])\n",
    "# data = pd.read_csv(r\"F:\\Data_Repository\\lastfm\\usersha1-artmbid-artname-plays.tsv\",sep='\\t',names=['userId','artistId','artist','plays'])"
   ]
  },
  {
   "cell_type": "code",
   "execution_count": 4,
   "metadata": {},
   "outputs": [],
   "source": [
    "df.columns = ['userid', 'timestamp', 'artistid', 'artist', '1', 'song']"
   ]
  },
  {
   "cell_type": "code",
   "execution_count": 5,
   "metadata": {
    "scrolled": true
   },
   "outputs": [
    {
     "data": {
      "text/html": [
       "<div>\n",
       "<style scoped>\n",
       "    .dataframe tbody tr th:only-of-type {\n",
       "        vertical-align: middle;\n",
       "    }\n",
       "\n",
       "    .dataframe tbody tr th {\n",
       "        vertical-align: top;\n",
       "    }\n",
       "\n",
       "    .dataframe thead th {\n",
       "        text-align: right;\n",
       "    }\n",
       "</style>\n",
       "<table border=\"1\" class=\"dataframe\">\n",
       "  <thead>\n",
       "    <tr style=\"text-align: right;\">\n",
       "      <th></th>\n",
       "      <th>userid</th>\n",
       "      <th>timestamp</th>\n",
       "      <th>artistid</th>\n",
       "      <th>artist</th>\n",
       "      <th>1</th>\n",
       "      <th>song</th>\n",
       "    </tr>\n",
       "  </thead>\n",
       "  <tbody>\n",
       "    <tr>\n",
       "      <th>0</th>\n",
       "      <td>user_000001</td>\n",
       "      <td>2009-05-04T23:08:57Z</td>\n",
       "      <td>f1b1cf71-bd35-4e99-8624-24a6e15f133a</td>\n",
       "      <td>Deep Dish</td>\n",
       "      <td>NaN</td>\n",
       "      <td>Fuck Me Im Famous (Pacha Ibiza)-09-28-2007</td>\n",
       "    </tr>\n",
       "    <tr>\n",
       "      <th>1</th>\n",
       "      <td>user_000001</td>\n",
       "      <td>2009-05-04T13:54:10Z</td>\n",
       "      <td>a7f7df4a-77d8-4f12-8acd-5c60c93f4de8</td>\n",
       "      <td>坂本龍一</td>\n",
       "      <td>NaN</td>\n",
       "      <td>Composition 0919 (Live_2009_4_15)</td>\n",
       "    </tr>\n",
       "    <tr>\n",
       "      <th>2</th>\n",
       "      <td>user_000001</td>\n",
       "      <td>2009-05-04T13:52:04Z</td>\n",
       "      <td>a7f7df4a-77d8-4f12-8acd-5c60c93f4de8</td>\n",
       "      <td>坂本龍一</td>\n",
       "      <td>NaN</td>\n",
       "      <td>Mc2 (Live_2009_4_15)</td>\n",
       "    </tr>\n",
       "    <tr>\n",
       "      <th>3</th>\n",
       "      <td>user_000001</td>\n",
       "      <td>2009-05-04T13:42:52Z</td>\n",
       "      <td>a7f7df4a-77d8-4f12-8acd-5c60c93f4de8</td>\n",
       "      <td>坂本龍一</td>\n",
       "      <td>NaN</td>\n",
       "      <td>Hibari (Live_2009_4_15)</td>\n",
       "    </tr>\n",
       "    <tr>\n",
       "      <th>4</th>\n",
       "      <td>user_000001</td>\n",
       "      <td>2009-05-04T13:42:11Z</td>\n",
       "      <td>a7f7df4a-77d8-4f12-8acd-5c60c93f4de8</td>\n",
       "      <td>坂本龍一</td>\n",
       "      <td>NaN</td>\n",
       "      <td>Mc1 (Live_2009_4_15)</td>\n",
       "    </tr>\n",
       "  </tbody>\n",
       "</table>\n",
       "</div>"
      ],
      "text/plain": [
       "        userid             timestamp                              artistid  \\\n",
       "0  user_000001  2009-05-04T23:08:57Z  f1b1cf71-bd35-4e99-8624-24a6e15f133a   \n",
       "1  user_000001  2009-05-04T13:54:10Z  a7f7df4a-77d8-4f12-8acd-5c60c93f4de8   \n",
       "2  user_000001  2009-05-04T13:52:04Z  a7f7df4a-77d8-4f12-8acd-5c60c93f4de8   \n",
       "3  user_000001  2009-05-04T13:42:52Z  a7f7df4a-77d8-4f12-8acd-5c60c93f4de8   \n",
       "4  user_000001  2009-05-04T13:42:11Z  a7f7df4a-77d8-4f12-8acd-5c60c93f4de8   \n",
       "\n",
       "      artist    1                                        song  \n",
       "0  Deep Dish  NaN  Fuck Me Im Famous (Pacha Ibiza)-09-28-2007  \n",
       "1       坂本龍一  NaN           Composition 0919 (Live_2009_4_15)  \n",
       "2       坂本龍一  NaN                        Mc2 (Live_2009_4_15)  \n",
       "3       坂本龍一  NaN                     Hibari (Live_2009_4_15)  \n",
       "4       坂本龍一  NaN                        Mc1 (Live_2009_4_15)  "
      ]
     },
     "execution_count": 5,
     "metadata": {},
     "output_type": "execute_result"
    }
   ],
   "source": [
    "df.head(5)"
   ]
  },
  {
   "cell_type": "code",
   "execution_count": 6,
   "metadata": {},
   "outputs": [],
   "source": [
    "#data.head()"
   ]
  },
  {
   "cell_type": "code",
   "execution_count": 7,
   "metadata": {},
   "outputs": [],
   "source": [
    "df['timestamp'] = pd.to_datetime(df['timestamp'])"
   ]
  },
  {
   "cell_type": "code",
   "execution_count": 8,
   "metadata": {},
   "outputs": [],
   "source": [
    "# df.drop(['timestamp','artistid','artist','1'], axis=1, inplace=True)"
   ]
  },
  {
   "cell_type": "code",
   "execution_count": 9,
   "metadata": {},
   "outputs": [
    {
     "data": {
      "text/html": [
       "<div>\n",
       "<style scoped>\n",
       "    .dataframe tbody tr th:only-of-type {\n",
       "        vertical-align: middle;\n",
       "    }\n",
       "\n",
       "    .dataframe tbody tr th {\n",
       "        vertical-align: top;\n",
       "    }\n",
       "\n",
       "    .dataframe thead th {\n",
       "        text-align: right;\n",
       "    }\n",
       "</style>\n",
       "<table border=\"1\" class=\"dataframe\">\n",
       "  <thead>\n",
       "    <tr style=\"text-align: right;\">\n",
       "      <th></th>\n",
       "      <th>userid</th>\n",
       "      <th>timestamp</th>\n",
       "      <th>artistid</th>\n",
       "      <th>artist</th>\n",
       "      <th>1</th>\n",
       "      <th>song</th>\n",
       "    </tr>\n",
       "  </thead>\n",
       "  <tbody>\n",
       "    <tr>\n",
       "      <th>0</th>\n",
       "      <td>user_000001</td>\n",
       "      <td>2009-05-04 23:08:57</td>\n",
       "      <td>f1b1cf71-bd35-4e99-8624-24a6e15f133a</td>\n",
       "      <td>Deep Dish</td>\n",
       "      <td>NaN</td>\n",
       "      <td>Fuck Me Im Famous (Pacha Ibiza)-09-28-2007</td>\n",
       "    </tr>\n",
       "    <tr>\n",
       "      <th>1</th>\n",
       "      <td>user_000001</td>\n",
       "      <td>2009-05-04 13:54:10</td>\n",
       "      <td>a7f7df4a-77d8-4f12-8acd-5c60c93f4de8</td>\n",
       "      <td>坂本龍一</td>\n",
       "      <td>NaN</td>\n",
       "      <td>Composition 0919 (Live_2009_4_15)</td>\n",
       "    </tr>\n",
       "    <tr>\n",
       "      <th>2</th>\n",
       "      <td>user_000001</td>\n",
       "      <td>2009-05-04 13:52:04</td>\n",
       "      <td>a7f7df4a-77d8-4f12-8acd-5c60c93f4de8</td>\n",
       "      <td>坂本龍一</td>\n",
       "      <td>NaN</td>\n",
       "      <td>Mc2 (Live_2009_4_15)</td>\n",
       "    </tr>\n",
       "    <tr>\n",
       "      <th>3</th>\n",
       "      <td>user_000001</td>\n",
       "      <td>2009-05-04 13:42:52</td>\n",
       "      <td>a7f7df4a-77d8-4f12-8acd-5c60c93f4de8</td>\n",
       "      <td>坂本龍一</td>\n",
       "      <td>NaN</td>\n",
       "      <td>Hibari (Live_2009_4_15)</td>\n",
       "    </tr>\n",
       "    <tr>\n",
       "      <th>4</th>\n",
       "      <td>user_000001</td>\n",
       "      <td>2009-05-04 13:42:11</td>\n",
       "      <td>a7f7df4a-77d8-4f12-8acd-5c60c93f4de8</td>\n",
       "      <td>坂本龍一</td>\n",
       "      <td>NaN</td>\n",
       "      <td>Mc1 (Live_2009_4_15)</td>\n",
       "    </tr>\n",
       "  </tbody>\n",
       "</table>\n",
       "</div>"
      ],
      "text/plain": [
       "        userid           timestamp                              artistid  \\\n",
       "0  user_000001 2009-05-04 23:08:57  f1b1cf71-bd35-4e99-8624-24a6e15f133a   \n",
       "1  user_000001 2009-05-04 13:54:10  a7f7df4a-77d8-4f12-8acd-5c60c93f4de8   \n",
       "2  user_000001 2009-05-04 13:52:04  a7f7df4a-77d8-4f12-8acd-5c60c93f4de8   \n",
       "3  user_000001 2009-05-04 13:42:52  a7f7df4a-77d8-4f12-8acd-5c60c93f4de8   \n",
       "4  user_000001 2009-05-04 13:42:11  a7f7df4a-77d8-4f12-8acd-5c60c93f4de8   \n",
       "\n",
       "      artist    1                                        song  \n",
       "0  Deep Dish  NaN  Fuck Me Im Famous (Pacha Ibiza)-09-28-2007  \n",
       "1       坂本龍一  NaN           Composition 0919 (Live_2009_4_15)  \n",
       "2       坂本龍一  NaN                        Mc2 (Live_2009_4_15)  \n",
       "3       坂本龍一  NaN                     Hibari (Live_2009_4_15)  \n",
       "4       坂本龍一  NaN                        Mc1 (Live_2009_4_15)  "
      ]
     },
     "execution_count": 9,
     "metadata": {},
     "output_type": "execute_result"
    }
   ],
   "source": [
    "df.head()"
   ]
  },
  {
   "cell_type": "markdown",
   "metadata": {},
   "source": [
    "Reading other datafiles"
   ]
  },
  {
   "cell_type": "code",
   "execution_count": 10,
   "metadata": {},
   "outputs": [],
   "source": [
    "# dfsmall.head()"
   ]
  },
  {
   "cell_type": "code",
   "execution_count": 11,
   "metadata": {},
   "outputs": [],
   "source": [
    "# data.head()"
   ]
  },
  {
   "cell_type": "markdown",
   "metadata": {},
   "source": [
    "### Creation of timeslots"
   ]
  },
  {
   "cell_type": "code",
   "execution_count": 12,
   "metadata": {},
   "outputs": [],
   "source": [
    "import datetime"
   ]
  },
  {
   "cell_type": "code",
   "execution_count": 13,
   "metadata": {},
   "outputs": [
    {
     "name": "stdout",
     "output_type": "stream",
     "text": [
      "Wall time: 1min 2s\n"
     ]
    }
   ],
   "source": [
    "%%time\n",
    "# extracting time from timestamp\n",
    "df['time'] = [datetime.datetime.time(d) for d in df['timestamp']] "
   ]
  },
  {
   "cell_type": "code",
   "execution_count": 14,
   "metadata": {},
   "outputs": [
    {
     "data": {
      "text/html": [
       "<div>\n",
       "<style scoped>\n",
       "    .dataframe tbody tr th:only-of-type {\n",
       "        vertical-align: middle;\n",
       "    }\n",
       "\n",
       "    .dataframe tbody tr th {\n",
       "        vertical-align: top;\n",
       "    }\n",
       "\n",
       "    .dataframe thead th {\n",
       "        text-align: right;\n",
       "    }\n",
       "</style>\n",
       "<table border=\"1\" class=\"dataframe\">\n",
       "  <thead>\n",
       "    <tr style=\"text-align: right;\">\n",
       "      <th></th>\n",
       "      <th>userid</th>\n",
       "      <th>timestamp</th>\n",
       "      <th>artistid</th>\n",
       "      <th>artist</th>\n",
       "      <th>1</th>\n",
       "      <th>song</th>\n",
       "      <th>time</th>\n",
       "    </tr>\n",
       "  </thead>\n",
       "  <tbody>\n",
       "    <tr>\n",
       "      <th>0</th>\n",
       "      <td>user_000001</td>\n",
       "      <td>2009-05-04 23:08:57</td>\n",
       "      <td>f1b1cf71-bd35-4e99-8624-24a6e15f133a</td>\n",
       "      <td>Deep Dish</td>\n",
       "      <td>NaN</td>\n",
       "      <td>Fuck Me Im Famous (Pacha Ibiza)-09-28-2007</td>\n",
       "      <td>23:08:57</td>\n",
       "    </tr>\n",
       "    <tr>\n",
       "      <th>1</th>\n",
       "      <td>user_000001</td>\n",
       "      <td>2009-05-04 13:54:10</td>\n",
       "      <td>a7f7df4a-77d8-4f12-8acd-5c60c93f4de8</td>\n",
       "      <td>坂本龍一</td>\n",
       "      <td>NaN</td>\n",
       "      <td>Composition 0919 (Live_2009_4_15)</td>\n",
       "      <td>13:54:10</td>\n",
       "    </tr>\n",
       "    <tr>\n",
       "      <th>2</th>\n",
       "      <td>user_000001</td>\n",
       "      <td>2009-05-04 13:52:04</td>\n",
       "      <td>a7f7df4a-77d8-4f12-8acd-5c60c93f4de8</td>\n",
       "      <td>坂本龍一</td>\n",
       "      <td>NaN</td>\n",
       "      <td>Mc2 (Live_2009_4_15)</td>\n",
       "      <td>13:52:04</td>\n",
       "    </tr>\n",
       "    <tr>\n",
       "      <th>3</th>\n",
       "      <td>user_000001</td>\n",
       "      <td>2009-05-04 13:42:52</td>\n",
       "      <td>a7f7df4a-77d8-4f12-8acd-5c60c93f4de8</td>\n",
       "      <td>坂本龍一</td>\n",
       "      <td>NaN</td>\n",
       "      <td>Hibari (Live_2009_4_15)</td>\n",
       "      <td>13:42:52</td>\n",
       "    </tr>\n",
       "    <tr>\n",
       "      <th>4</th>\n",
       "      <td>user_000001</td>\n",
       "      <td>2009-05-04 13:42:11</td>\n",
       "      <td>a7f7df4a-77d8-4f12-8acd-5c60c93f4de8</td>\n",
       "      <td>坂本龍一</td>\n",
       "      <td>NaN</td>\n",
       "      <td>Mc1 (Live_2009_4_15)</td>\n",
       "      <td>13:42:11</td>\n",
       "    </tr>\n",
       "  </tbody>\n",
       "</table>\n",
       "</div>"
      ],
      "text/plain": [
       "        userid           timestamp                              artistid  \\\n",
       "0  user_000001 2009-05-04 23:08:57  f1b1cf71-bd35-4e99-8624-24a6e15f133a   \n",
       "1  user_000001 2009-05-04 13:54:10  a7f7df4a-77d8-4f12-8acd-5c60c93f4de8   \n",
       "2  user_000001 2009-05-04 13:52:04  a7f7df4a-77d8-4f12-8acd-5c60c93f4de8   \n",
       "3  user_000001 2009-05-04 13:42:52  a7f7df4a-77d8-4f12-8acd-5c60c93f4de8   \n",
       "4  user_000001 2009-05-04 13:42:11  a7f7df4a-77d8-4f12-8acd-5c60c93f4de8   \n",
       "\n",
       "      artist    1                                        song      time  \n",
       "0  Deep Dish  NaN  Fuck Me Im Famous (Pacha Ibiza)-09-28-2007  23:08:57  \n",
       "1       坂本龍一  NaN           Composition 0919 (Live_2009_4_15)  13:54:10  \n",
       "2       坂本龍一  NaN                        Mc2 (Live_2009_4_15)  13:52:04  \n",
       "3       坂本龍一  NaN                     Hibari (Live_2009_4_15)  13:42:52  \n",
       "4       坂本龍一  NaN                        Mc1 (Live_2009_4_15)  13:42:11  "
      ]
     },
     "execution_count": 14,
     "metadata": {},
     "output_type": "execute_result"
    }
   ],
   "source": [
    "df.head()"
   ]
  },
  {
   "cell_type": "code",
   "execution_count": 15,
   "metadata": {},
   "outputs": [],
   "source": [
    "df['hour'] = df['timestamp'].dt.hour"
   ]
  },
  {
   "cell_type": "code",
   "execution_count": 16,
   "metadata": {},
   "outputs": [
    {
     "data": {
      "text/html": [
       "<div>\n",
       "<style scoped>\n",
       "    .dataframe tbody tr th:only-of-type {\n",
       "        vertical-align: middle;\n",
       "    }\n",
       "\n",
       "    .dataframe tbody tr th {\n",
       "        vertical-align: top;\n",
       "    }\n",
       "\n",
       "    .dataframe thead th {\n",
       "        text-align: right;\n",
       "    }\n",
       "</style>\n",
       "<table border=\"1\" class=\"dataframe\">\n",
       "  <thead>\n",
       "    <tr style=\"text-align: right;\">\n",
       "      <th></th>\n",
       "      <th>userid</th>\n",
       "      <th>timestamp</th>\n",
       "      <th>artistid</th>\n",
       "      <th>artist</th>\n",
       "      <th>1</th>\n",
       "      <th>song</th>\n",
       "      <th>time</th>\n",
       "      <th>hour</th>\n",
       "    </tr>\n",
       "  </thead>\n",
       "  <tbody>\n",
       "    <tr>\n",
       "      <th>0</th>\n",
       "      <td>user_000001</td>\n",
       "      <td>2009-05-04 23:08:57</td>\n",
       "      <td>f1b1cf71-bd35-4e99-8624-24a6e15f133a</td>\n",
       "      <td>Deep Dish</td>\n",
       "      <td>NaN</td>\n",
       "      <td>Fuck Me Im Famous (Pacha Ibiza)-09-28-2007</td>\n",
       "      <td>23:08:57</td>\n",
       "      <td>23</td>\n",
       "    </tr>\n",
       "    <tr>\n",
       "      <th>1</th>\n",
       "      <td>user_000001</td>\n",
       "      <td>2009-05-04 13:54:10</td>\n",
       "      <td>a7f7df4a-77d8-4f12-8acd-5c60c93f4de8</td>\n",
       "      <td>坂本龍一</td>\n",
       "      <td>NaN</td>\n",
       "      <td>Composition 0919 (Live_2009_4_15)</td>\n",
       "      <td>13:54:10</td>\n",
       "      <td>13</td>\n",
       "    </tr>\n",
       "    <tr>\n",
       "      <th>2</th>\n",
       "      <td>user_000001</td>\n",
       "      <td>2009-05-04 13:52:04</td>\n",
       "      <td>a7f7df4a-77d8-4f12-8acd-5c60c93f4de8</td>\n",
       "      <td>坂本龍一</td>\n",
       "      <td>NaN</td>\n",
       "      <td>Mc2 (Live_2009_4_15)</td>\n",
       "      <td>13:52:04</td>\n",
       "      <td>13</td>\n",
       "    </tr>\n",
       "    <tr>\n",
       "      <th>3</th>\n",
       "      <td>user_000001</td>\n",
       "      <td>2009-05-04 13:42:52</td>\n",
       "      <td>a7f7df4a-77d8-4f12-8acd-5c60c93f4de8</td>\n",
       "      <td>坂本龍一</td>\n",
       "      <td>NaN</td>\n",
       "      <td>Hibari (Live_2009_4_15)</td>\n",
       "      <td>13:42:52</td>\n",
       "      <td>13</td>\n",
       "    </tr>\n",
       "    <tr>\n",
       "      <th>4</th>\n",
       "      <td>user_000001</td>\n",
       "      <td>2009-05-04 13:42:11</td>\n",
       "      <td>a7f7df4a-77d8-4f12-8acd-5c60c93f4de8</td>\n",
       "      <td>坂本龍一</td>\n",
       "      <td>NaN</td>\n",
       "      <td>Mc1 (Live_2009_4_15)</td>\n",
       "      <td>13:42:11</td>\n",
       "      <td>13</td>\n",
       "    </tr>\n",
       "  </tbody>\n",
       "</table>\n",
       "</div>"
      ],
      "text/plain": [
       "        userid           timestamp                              artistid  \\\n",
       "0  user_000001 2009-05-04 23:08:57  f1b1cf71-bd35-4e99-8624-24a6e15f133a   \n",
       "1  user_000001 2009-05-04 13:54:10  a7f7df4a-77d8-4f12-8acd-5c60c93f4de8   \n",
       "2  user_000001 2009-05-04 13:52:04  a7f7df4a-77d8-4f12-8acd-5c60c93f4de8   \n",
       "3  user_000001 2009-05-04 13:42:52  a7f7df4a-77d8-4f12-8acd-5c60c93f4de8   \n",
       "4  user_000001 2009-05-04 13:42:11  a7f7df4a-77d8-4f12-8acd-5c60c93f4de8   \n",
       "\n",
       "      artist    1                                        song      time  hour  \n",
       "0  Deep Dish  NaN  Fuck Me Im Famous (Pacha Ibiza)-09-28-2007  23:08:57    23  \n",
       "1       坂本龍一  NaN           Composition 0919 (Live_2009_4_15)  13:54:10    13  \n",
       "2       坂本龍一  NaN                        Mc2 (Live_2009_4_15)  13:52:04    13  \n",
       "3       坂本龍一  NaN                     Hibari (Live_2009_4_15)  13:42:52    13  \n",
       "4       坂本龍一  NaN                        Mc1 (Live_2009_4_15)  13:42:11    13  "
      ]
     },
     "execution_count": 16,
     "metadata": {},
     "output_type": "execute_result"
    }
   ],
   "source": [
    "df.head()"
   ]
  },
  {
   "cell_type": "code",
   "execution_count": 17,
   "metadata": {},
   "outputs": [],
   "source": [
    "df.drop(['time','1'], axis=1, inplace=True)"
   ]
  },
  {
   "cell_type": "code",
   "execution_count": 18,
   "metadata": {},
   "outputs": [
    {
     "data": {
      "text/html": [
       "<div>\n",
       "<style scoped>\n",
       "    .dataframe tbody tr th:only-of-type {\n",
       "        vertical-align: middle;\n",
       "    }\n",
       "\n",
       "    .dataframe tbody tr th {\n",
       "        vertical-align: top;\n",
       "    }\n",
       "\n",
       "    .dataframe thead th {\n",
       "        text-align: right;\n",
       "    }\n",
       "</style>\n",
       "<table border=\"1\" class=\"dataframe\">\n",
       "  <thead>\n",
       "    <tr style=\"text-align: right;\">\n",
       "      <th></th>\n",
       "      <th>userid</th>\n",
       "      <th>timestamp</th>\n",
       "      <th>artistid</th>\n",
       "      <th>artist</th>\n",
       "      <th>song</th>\n",
       "      <th>hour</th>\n",
       "    </tr>\n",
       "  </thead>\n",
       "  <tbody>\n",
       "    <tr>\n",
       "      <th>0</th>\n",
       "      <td>user_000001</td>\n",
       "      <td>2009-05-04 23:08:57</td>\n",
       "      <td>f1b1cf71-bd35-4e99-8624-24a6e15f133a</td>\n",
       "      <td>Deep Dish</td>\n",
       "      <td>Fuck Me Im Famous (Pacha Ibiza)-09-28-2007</td>\n",
       "      <td>23</td>\n",
       "    </tr>\n",
       "    <tr>\n",
       "      <th>1</th>\n",
       "      <td>user_000001</td>\n",
       "      <td>2009-05-04 13:54:10</td>\n",
       "      <td>a7f7df4a-77d8-4f12-8acd-5c60c93f4de8</td>\n",
       "      <td>坂本龍一</td>\n",
       "      <td>Composition 0919 (Live_2009_4_15)</td>\n",
       "      <td>13</td>\n",
       "    </tr>\n",
       "    <tr>\n",
       "      <th>2</th>\n",
       "      <td>user_000001</td>\n",
       "      <td>2009-05-04 13:52:04</td>\n",
       "      <td>a7f7df4a-77d8-4f12-8acd-5c60c93f4de8</td>\n",
       "      <td>坂本龍一</td>\n",
       "      <td>Mc2 (Live_2009_4_15)</td>\n",
       "      <td>13</td>\n",
       "    </tr>\n",
       "    <tr>\n",
       "      <th>3</th>\n",
       "      <td>user_000001</td>\n",
       "      <td>2009-05-04 13:42:52</td>\n",
       "      <td>a7f7df4a-77d8-4f12-8acd-5c60c93f4de8</td>\n",
       "      <td>坂本龍一</td>\n",
       "      <td>Hibari (Live_2009_4_15)</td>\n",
       "      <td>13</td>\n",
       "    </tr>\n",
       "    <tr>\n",
       "      <th>4</th>\n",
       "      <td>user_000001</td>\n",
       "      <td>2009-05-04 13:42:11</td>\n",
       "      <td>a7f7df4a-77d8-4f12-8acd-5c60c93f4de8</td>\n",
       "      <td>坂本龍一</td>\n",
       "      <td>Mc1 (Live_2009_4_15)</td>\n",
       "      <td>13</td>\n",
       "    </tr>\n",
       "  </tbody>\n",
       "</table>\n",
       "</div>"
      ],
      "text/plain": [
       "        userid           timestamp                              artistid  \\\n",
       "0  user_000001 2009-05-04 23:08:57  f1b1cf71-bd35-4e99-8624-24a6e15f133a   \n",
       "1  user_000001 2009-05-04 13:54:10  a7f7df4a-77d8-4f12-8acd-5c60c93f4de8   \n",
       "2  user_000001 2009-05-04 13:52:04  a7f7df4a-77d8-4f12-8acd-5c60c93f4de8   \n",
       "3  user_000001 2009-05-04 13:42:52  a7f7df4a-77d8-4f12-8acd-5c60c93f4de8   \n",
       "4  user_000001 2009-05-04 13:42:11  a7f7df4a-77d8-4f12-8acd-5c60c93f4de8   \n",
       "\n",
       "      artist                                        song  hour  \n",
       "0  Deep Dish  Fuck Me Im Famous (Pacha Ibiza)-09-28-2007    23  \n",
       "1       坂本龍一           Composition 0919 (Live_2009_4_15)    13  \n",
       "2       坂本龍一                        Mc2 (Live_2009_4_15)    13  \n",
       "3       坂本龍一                     Hibari (Live_2009_4_15)    13  \n",
       "4       坂本龍一                        Mc1 (Live_2009_4_15)    13  "
      ]
     },
     "execution_count": 18,
     "metadata": {},
     "output_type": "execute_result"
    }
   ],
   "source": [
    "df.head()"
   ]
  },
  {
   "cell_type": "markdown",
   "metadata": {},
   "source": [
    "#### Now to get slots. 24 / 4 = 6 hrs per slot\n",
    "slot1: 0-5 | \n",
    "slot2: 6-11 | \n",
    "slot3: 12-17 | \n",
    "slot4: 18-23"
   ]
  },
  {
   "cell_type": "code",
   "execution_count": 19,
   "metadata": {},
   "outputs": [],
   "source": [
    "#function to return slot number\n",
    "def slot(hour):\n",
    "    if 0 <= hour and hour <= 5:\n",
    "        return 1\n",
    "    elif 6 <= hour and hour <= 11:\n",
    "        return 2\n",
    "    elif 12 <= hour and hour <= 17:\n",
    "        return 3\n",
    "    else:\n",
    "        return 4"
   ]
  },
  {
   "cell_type": "code",
   "execution_count": 20,
   "metadata": {},
   "outputs": [
    {
     "name": "stdout",
     "output_type": "stream",
     "text": [
      "Wall time: 7.62 s\n"
     ]
    }
   ],
   "source": [
    "%%time\n",
    "df['slot'] = df['hour'].apply( lambda x : slot(x) ) "
   ]
  },
  {
   "cell_type": "code",
   "execution_count": 21,
   "metadata": {},
   "outputs": [
    {
     "data": {
      "text/html": [
       "<div>\n",
       "<style scoped>\n",
       "    .dataframe tbody tr th:only-of-type {\n",
       "        vertical-align: middle;\n",
       "    }\n",
       "\n",
       "    .dataframe tbody tr th {\n",
       "        vertical-align: top;\n",
       "    }\n",
       "\n",
       "    .dataframe thead th {\n",
       "        text-align: right;\n",
       "    }\n",
       "</style>\n",
       "<table border=\"1\" class=\"dataframe\">\n",
       "  <thead>\n",
       "    <tr style=\"text-align: right;\">\n",
       "      <th></th>\n",
       "      <th>userid</th>\n",
       "      <th>timestamp</th>\n",
       "      <th>artistid</th>\n",
       "      <th>artist</th>\n",
       "      <th>song</th>\n",
       "      <th>hour</th>\n",
       "      <th>slot</th>\n",
       "    </tr>\n",
       "  </thead>\n",
       "  <tbody>\n",
       "    <tr>\n",
       "      <th>0</th>\n",
       "      <td>user_000001</td>\n",
       "      <td>2009-05-04 23:08:57</td>\n",
       "      <td>f1b1cf71-bd35-4e99-8624-24a6e15f133a</td>\n",
       "      <td>Deep Dish</td>\n",
       "      <td>Fuck Me Im Famous (Pacha Ibiza)-09-28-2007</td>\n",
       "      <td>23</td>\n",
       "      <td>4</td>\n",
       "    </tr>\n",
       "    <tr>\n",
       "      <th>1</th>\n",
       "      <td>user_000001</td>\n",
       "      <td>2009-05-04 13:54:10</td>\n",
       "      <td>a7f7df4a-77d8-4f12-8acd-5c60c93f4de8</td>\n",
       "      <td>坂本龍一</td>\n",
       "      <td>Composition 0919 (Live_2009_4_15)</td>\n",
       "      <td>13</td>\n",
       "      <td>3</td>\n",
       "    </tr>\n",
       "    <tr>\n",
       "      <th>2</th>\n",
       "      <td>user_000001</td>\n",
       "      <td>2009-05-04 13:52:04</td>\n",
       "      <td>a7f7df4a-77d8-4f12-8acd-5c60c93f4de8</td>\n",
       "      <td>坂本龍一</td>\n",
       "      <td>Mc2 (Live_2009_4_15)</td>\n",
       "      <td>13</td>\n",
       "      <td>3</td>\n",
       "    </tr>\n",
       "    <tr>\n",
       "      <th>3</th>\n",
       "      <td>user_000001</td>\n",
       "      <td>2009-05-04 13:42:52</td>\n",
       "      <td>a7f7df4a-77d8-4f12-8acd-5c60c93f4de8</td>\n",
       "      <td>坂本龍一</td>\n",
       "      <td>Hibari (Live_2009_4_15)</td>\n",
       "      <td>13</td>\n",
       "      <td>3</td>\n",
       "    </tr>\n",
       "    <tr>\n",
       "      <th>4</th>\n",
       "      <td>user_000001</td>\n",
       "      <td>2009-05-04 13:42:11</td>\n",
       "      <td>a7f7df4a-77d8-4f12-8acd-5c60c93f4de8</td>\n",
       "      <td>坂本龍一</td>\n",
       "      <td>Mc1 (Live_2009_4_15)</td>\n",
       "      <td>13</td>\n",
       "      <td>3</td>\n",
       "    </tr>\n",
       "  </tbody>\n",
       "</table>\n",
       "</div>"
      ],
      "text/plain": [
       "        userid           timestamp                              artistid  \\\n",
       "0  user_000001 2009-05-04 23:08:57  f1b1cf71-bd35-4e99-8624-24a6e15f133a   \n",
       "1  user_000001 2009-05-04 13:54:10  a7f7df4a-77d8-4f12-8acd-5c60c93f4de8   \n",
       "2  user_000001 2009-05-04 13:52:04  a7f7df4a-77d8-4f12-8acd-5c60c93f4de8   \n",
       "3  user_000001 2009-05-04 13:42:52  a7f7df4a-77d8-4f12-8acd-5c60c93f4de8   \n",
       "4  user_000001 2009-05-04 13:42:11  a7f7df4a-77d8-4f12-8acd-5c60c93f4de8   \n",
       "\n",
       "      artist                                        song  hour  slot  \n",
       "0  Deep Dish  Fuck Me Im Famous (Pacha Ibiza)-09-28-2007    23     4  \n",
       "1       坂本龍一           Composition 0919 (Live_2009_4_15)    13     3  \n",
       "2       坂本龍一                        Mc2 (Live_2009_4_15)    13     3  \n",
       "3       坂本龍一                     Hibari (Live_2009_4_15)    13     3  \n",
       "4       坂本龍一                        Mc1 (Live_2009_4_15)    13     3  "
      ]
     },
     "execution_count": 21,
     "metadata": {},
     "output_type": "execute_result"
    }
   ],
   "source": [
    "df.head()"
   ]
  },
  {
   "cell_type": "code",
   "execution_count": null,
   "metadata": {},
   "outputs": [],
   "source": []
  },
  {
   "cell_type": "code",
   "execution_count": null,
   "metadata": {},
   "outputs": [],
   "source": []
  },
  {
   "cell_type": "markdown",
   "metadata": {},
   "source": [
    "### Removing artist name and song id (possibly) from the user_songs_df dataframe"
   ]
  },
  {
   "cell_type": "code",
   "execution_count": 22,
   "metadata": {},
   "outputs": [],
   "source": [
    "user_songs_df = df[['userid','artistid','artist','song','slot'] ].copy()"
   ]
  },
  {
   "cell_type": "code",
   "execution_count": 23,
   "metadata": {},
   "outputs": [],
   "source": [
    "# user_songs_df.columns = ['userid', 'artistid', 'songid', 'song', 'time']"
   ]
  },
  {
   "cell_type": "code",
   "execution_count": 24,
   "metadata": {},
   "outputs": [],
   "source": [
    "# user_songs_df = user_songs_df.drop(['songid'], axis=1, inplace=False)"
   ]
  },
  {
   "cell_type": "code",
   "execution_count": 25,
   "metadata": {},
   "outputs": [
    {
     "data": {
      "text/html": [
       "<div>\n",
       "<style scoped>\n",
       "    .dataframe tbody tr th:only-of-type {\n",
       "        vertical-align: middle;\n",
       "    }\n",
       "\n",
       "    .dataframe tbody tr th {\n",
       "        vertical-align: top;\n",
       "    }\n",
       "\n",
       "    .dataframe thead th {\n",
       "        text-align: right;\n",
       "    }\n",
       "</style>\n",
       "<table border=\"1\" class=\"dataframe\">\n",
       "  <thead>\n",
       "    <tr style=\"text-align: right;\">\n",
       "      <th></th>\n",
       "      <th>userid</th>\n",
       "      <th>artistid</th>\n",
       "      <th>artist</th>\n",
       "      <th>song</th>\n",
       "      <th>slot</th>\n",
       "    </tr>\n",
       "  </thead>\n",
       "  <tbody>\n",
       "    <tr>\n",
       "      <th>0</th>\n",
       "      <td>user_000001</td>\n",
       "      <td>f1b1cf71-bd35-4e99-8624-24a6e15f133a</td>\n",
       "      <td>Deep Dish</td>\n",
       "      <td>Fuck Me Im Famous (Pacha Ibiza)-09-28-2007</td>\n",
       "      <td>4</td>\n",
       "    </tr>\n",
       "    <tr>\n",
       "      <th>1</th>\n",
       "      <td>user_000001</td>\n",
       "      <td>a7f7df4a-77d8-4f12-8acd-5c60c93f4de8</td>\n",
       "      <td>坂本龍一</td>\n",
       "      <td>Composition 0919 (Live_2009_4_15)</td>\n",
       "      <td>3</td>\n",
       "    </tr>\n",
       "    <tr>\n",
       "      <th>2</th>\n",
       "      <td>user_000001</td>\n",
       "      <td>a7f7df4a-77d8-4f12-8acd-5c60c93f4de8</td>\n",
       "      <td>坂本龍一</td>\n",
       "      <td>Mc2 (Live_2009_4_15)</td>\n",
       "      <td>3</td>\n",
       "    </tr>\n",
       "    <tr>\n",
       "      <th>3</th>\n",
       "      <td>user_000001</td>\n",
       "      <td>a7f7df4a-77d8-4f12-8acd-5c60c93f4de8</td>\n",
       "      <td>坂本龍一</td>\n",
       "      <td>Hibari (Live_2009_4_15)</td>\n",
       "      <td>3</td>\n",
       "    </tr>\n",
       "    <tr>\n",
       "      <th>4</th>\n",
       "      <td>user_000001</td>\n",
       "      <td>a7f7df4a-77d8-4f12-8acd-5c60c93f4de8</td>\n",
       "      <td>坂本龍一</td>\n",
       "      <td>Mc1 (Live_2009_4_15)</td>\n",
       "      <td>3</td>\n",
       "    </tr>\n",
       "  </tbody>\n",
       "</table>\n",
       "</div>"
      ],
      "text/plain": [
       "        userid                              artistid     artist  \\\n",
       "0  user_000001  f1b1cf71-bd35-4e99-8624-24a6e15f133a  Deep Dish   \n",
       "1  user_000001  a7f7df4a-77d8-4f12-8acd-5c60c93f4de8       坂本龍一   \n",
       "2  user_000001  a7f7df4a-77d8-4f12-8acd-5c60c93f4de8       坂本龍一   \n",
       "3  user_000001  a7f7df4a-77d8-4f12-8acd-5c60c93f4de8       坂本龍一   \n",
       "4  user_000001  a7f7df4a-77d8-4f12-8acd-5c60c93f4de8       坂本龍一   \n",
       "\n",
       "                                         song  slot  \n",
       "0  Fuck Me Im Famous (Pacha Ibiza)-09-28-2007     4  \n",
       "1           Composition 0919 (Live_2009_4_15)     3  \n",
       "2                        Mc2 (Live_2009_4_15)     3  \n",
       "3                     Hibari (Live_2009_4_15)     3  \n",
       "4                        Mc1 (Live_2009_4_15)     3  "
      ]
     },
     "execution_count": 25,
     "metadata": {},
     "output_type": "execute_result"
    }
   ],
   "source": [
    "user_songs_df.head()"
   ]
  },
  {
   "cell_type": "code",
   "execution_count": 26,
   "metadata": {},
   "outputs": [],
   "source": [
    "# user_songs_df['song'].nunique()"
   ]
  },
  {
   "cell_type": "code",
   "execution_count": 27,
   "metadata": {},
   "outputs": [
    {
     "data": {
      "text/plain": [
       "19098853"
      ]
     },
     "execution_count": 27,
     "metadata": {},
     "output_type": "execute_result"
    }
   ],
   "source": [
    "len(df) "
   ]
  },
  {
   "cell_type": "code",
   "execution_count": 28,
   "metadata": {},
   "outputs": [
    {
     "data": {
      "text/plain": [
       "19098853"
      ]
     },
     "execution_count": 28,
     "metadata": {},
     "output_type": "execute_result"
    }
   ],
   "source": [
    "len(user_songs_df)"
   ]
  },
  {
   "cell_type": "code",
   "execution_count": 29,
   "metadata": {},
   "outputs": [],
   "source": [
    "# user_songs_df[user_songs_df['userid'] == 'user_000001']['song'].value_counts()[:10].plot()"
   ]
  },
  {
   "cell_type": "code",
   "execution_count": 30,
   "metadata": {},
   "outputs": [],
   "source": [
    "# user_songs_df['userid'].nunique()"
   ]
  },
  {
   "cell_type": "code",
   "execution_count": 31,
   "metadata": {},
   "outputs": [],
   "source": [
    "# user_songs_df['song'].nunique()"
   ]
  },
  {
   "cell_type": "code",
   "execution_count": 32,
   "metadata": {},
   "outputs": [],
   "source": [
    "#user_songs_df['userid'].value_counts().sort_index()"
   ]
  },
  {
   "cell_type": "code",
   "execution_count": 33,
   "metadata": {},
   "outputs": [
    {
     "name": "stdout",
     "output_type": "stream",
     "text": [
      "Wall time: 2.25 s\n"
     ]
    },
    {
     "data": {
      "text/plain": [
       "<matplotlib.axes._subplots.AxesSubplot at 0x1ff0935b240>"
      ]
     },
     "execution_count": 33,
     "metadata": {},
     "output_type": "execute_result"
    },
    {
     "data": {
      "image/png": "[encoded data removed]",
      "text/plain": [
       "<Figure size 432x288 with 1 Axes>"
      ]
     },
     "metadata": {
      "needs_background": "light"
     },
     "output_type": "display_data"
    }
   ],
   "source": [
    "%%time\n",
    "user_songs_df['userid'].value_counts().sort_index()[:].plot(kind='bar')"
   ]
  },
  {
   "cell_type": "code",
   "execution_count": 34,
   "metadata": {},
   "outputs": [
    {
     "data": {
      "text/plain": [
       "19098853"
      ]
     },
     "execution_count": 34,
     "metadata": {},
     "output_type": "execute_result"
    }
   ],
   "source": [
    "len(user_songs_df) "
   ]
  },
  {
   "cell_type": "code",
   "execution_count": 35,
   "metadata": {},
   "outputs": [
    {
     "name": "stdout",
     "output_type": "stream",
     "text": [
      "Wall time: 0 ns\n"
     ]
    }
   ],
   "source": [
    "%%time\n",
    "#df_user_songs_grp = user_songs_df.groupby([\"userid\",\"song\"]) "
   ]
  },
  {
   "cell_type": "code",
   "execution_count": 36,
   "metadata": {
    "scrolled": true
   },
   "outputs": [],
   "source": [
    "#df_user_songs_grp.first()"
   ]
  },
  {
   "cell_type": "code",
   "execution_count": 37,
   "metadata": {},
   "outputs": [],
   "source": [
    "#df_user_songs_grp['artistid']"
   ]
  },
  {
   "cell_type": "code",
   "execution_count": 38,
   "metadata": {},
   "outputs": [],
   "source": [
    "# filter_morethan10 = df_user_songs_grp['artistid'].filter(lambda x: len(x) >= 10)"
   ]
  },
  {
   "cell_type": "code",
   "execution_count": null,
   "metadata": {},
   "outputs": [],
   "source": []
  },
  {
   "cell_type": "code",
   "execution_count": 39,
   "metadata": {},
   "outputs": [],
   "source": [
    "# %%time\n",
    "# user_song_df_count = user_songs_df.groupby([\"userid\",\"song\"])"
   ]
  },
  {
   "cell_type": "code",
   "execution_count": 40,
   "metadata": {
    "scrolled": true
   },
   "outputs": [],
   "source": [
    "# user_song_df_count.head(5)"
   ]
  },
  {
   "cell_type": "code",
   "execution_count": 41,
   "metadata": {},
   "outputs": [],
   "source": [
    "## Memory error\n",
    "# user_song_df_count = user_songs_df.groupby([\"userid\",\"song\"])['song'].count().unstack()"
   ]
  },
  {
   "cell_type": "code",
   "execution_count": 42,
   "metadata": {},
   "outputs": [
    {
     "name": "stdout",
     "output_type": "stream",
     "text": [
      "Wall time: 8.65 s\n"
     ]
    }
   ],
   "source": [
    "%%time\n",
    "user_song_df_count = user_songs_df.groupby([\"userid\",\"song\"]).size().reset_index(name=\"count\").copy()"
   ]
  },
  {
   "cell_type": "code",
   "execution_count": 43,
   "metadata": {},
   "outputs": [
    {
     "data": {
      "text/plain": [
       "4407910"
      ]
     },
     "execution_count": 43,
     "metadata": {},
     "output_type": "execute_result"
    }
   ],
   "source": [
    "len(user_song_df_count)"
   ]
  },
  {
   "cell_type": "code",
   "execution_count": 44,
   "metadata": {},
   "outputs": [
    {
     "data": {
      "text/plain": [
       "pandas.core.frame.DataFrame"
      ]
     },
     "execution_count": 44,
     "metadata": {},
     "output_type": "execute_result"
    }
   ],
   "source": [
    "type(user_song_df_count)"
   ]
  },
  {
   "cell_type": "code",
   "execution_count": 45,
   "metadata": {},
   "outputs": [],
   "source": [
    "# user_song_df_count['artistid'] = user_songs_df['artistid']\n",
    "# user_song_df_count['artist'] = user_songs_df['artist']\n",
    "# user_song_df_count['slot'] = user_songs_df['slot']\n",
    "# wrong way to merge"
   ]
  },
  {
   "cell_type": "code",
   "execution_count": 46,
   "metadata": {},
   "outputs": [
    {
     "data": {
      "text/plain": [
       "userid      object\n",
       "artistid    object\n",
       "artist      object\n",
       "song        object\n",
       "slot         int64\n",
       "dtype: object"
      ]
     },
     "execution_count": 46,
     "metadata": {},
     "output_type": "execute_result"
    }
   ],
   "source": [
    "user_songs_df.dtypes"
   ]
  },
  {
   "cell_type": "code",
   "execution_count": 47,
   "metadata": {},
   "outputs": [
    {
     "data": {
      "text/plain": [
       "userid    object\n",
       "song      object\n",
       "count      int64\n",
       "dtype: object"
      ]
     },
     "execution_count": 47,
     "metadata": {},
     "output_type": "execute_result"
    }
   ],
   "source": [
    "user_song_df_count.dtypes"
   ]
  },
  {
   "cell_type": "code",
   "execution_count": 48,
   "metadata": {},
   "outputs": [],
   "source": [
    "user_songs_df['userid'] = user_songs_df['userid'].astype(str)\n",
    "user_song_df_count['userid'] = user_song_df_count['userid'].astype(str)\n",
    "\n",
    "user_songs_df['song'] = user_songs_df['song'].astype(str)\n",
    "user_song_df_count['song'] = user_song_df_count['song'].astype(str)"
   ]
  },
  {
   "cell_type": "code",
   "execution_count": 49,
   "metadata": {},
   "outputs": [
    {
     "data": {
      "text/plain": [
       "userid      object\n",
       "artistid    object\n",
       "artist      object\n",
       "song        object\n",
       "slot         int64\n",
       "dtype: object"
      ]
     },
     "execution_count": 49,
     "metadata": {},
     "output_type": "execute_result"
    }
   ],
   "source": [
    "user_songs_df.dtypes"
   ]
  },
  {
   "cell_type": "code",
   "execution_count": 50,
   "metadata": {},
   "outputs": [
    {
     "data": {
      "text/plain": [
       "userid    object\n",
       "song      object\n",
       "count      int64\n",
       "dtype: object"
      ]
     },
     "execution_count": 50,
     "metadata": {},
     "output_type": "execute_result"
    }
   ],
   "source": [
    "user_song_df_count.dtypes"
   ]
  },
  {
   "cell_type": "code",
   "execution_count": 51,
   "metadata": {
    "scrolled": true
   },
   "outputs": [],
   "source": [
    "# user_song_df_count = pd.merge(user_song_df_count, user_songs_df, how = 'left',on = ['userid','song'] )"
   ]
  },
  {
   "cell_type": "code",
   "execution_count": 52,
   "metadata": {
    "scrolled": true
   },
   "outputs": [],
   "source": [
    "# user_song_df_count[:200].merge(user_songs_df[:200], how = 'left',on = ['userid','song'] )"
   ]
  },
  {
   "cell_type": "code",
   "execution_count": 53,
   "metadata": {},
   "outputs": [
    {
     "data": {
      "text/html": [
       "<div>\n",
       "<style scoped>\n",
       "    .dataframe tbody tr th:only-of-type {\n",
       "        vertical-align: middle;\n",
       "    }\n",
       "\n",
       "    .dataframe tbody tr th {\n",
       "        vertical-align: top;\n",
       "    }\n",
       "\n",
       "    .dataframe thead th {\n",
       "        text-align: right;\n",
       "    }\n",
       "</style>\n",
       "<table border=\"1\" class=\"dataframe\">\n",
       "  <thead>\n",
       "    <tr style=\"text-align: right;\">\n",
       "      <th></th>\n",
       "      <th>userid</th>\n",
       "      <th>song</th>\n",
       "      <th>count</th>\n",
       "    </tr>\n",
       "  </thead>\n",
       "  <tbody>\n",
       "    <tr>\n",
       "      <th>0</th>\n",
       "      <td>user_000001</td>\n",
       "      <td>'84 Pontiac Dream</td>\n",
       "      <td>14</td>\n",
       "    </tr>\n",
       "    <tr>\n",
       "      <th>1</th>\n",
       "      <td>user_000001</td>\n",
       "      <td>(All I Wanted Was To Make You) Feel Good</td>\n",
       "      <td>3</td>\n",
       "    </tr>\n",
       "    <tr>\n",
       "      <th>2</th>\n",
       "      <td>user_000001</td>\n",
       "      <td>(D)Ecaying Beauty</td>\n",
       "      <td>1</td>\n",
       "    </tr>\n",
       "    <tr>\n",
       "      <th>3</th>\n",
       "      <td>user_000001</td>\n",
       "      <td>(Far From) Home</td>\n",
       "      <td>1</td>\n",
       "    </tr>\n",
       "    <tr>\n",
       "      <th>4</th>\n",
       "      <td>user_000001</td>\n",
       "      <td>(Get Off Your) High Horse Lady</td>\n",
       "      <td>1</td>\n",
       "    </tr>\n",
       "  </tbody>\n",
       "</table>\n",
       "</div>"
      ],
      "text/plain": [
       "        userid                                      song  count\n",
       "0  user_000001                         '84 Pontiac Dream     14\n",
       "1  user_000001  (All I Wanted Was To Make You) Feel Good      3\n",
       "2  user_000001                         (D)Ecaying Beauty      1\n",
       "3  user_000001                           (Far From) Home      1\n",
       "4  user_000001            (Get Off Your) High Horse Lady      1"
      ]
     },
     "execution_count": 53,
     "metadata": {},
     "output_type": "execute_result"
    }
   ],
   "source": [
    "user_song_df_count.head(5)"
   ]
  },
  {
   "cell_type": "code",
   "execution_count": 54,
   "metadata": {},
   "outputs": [
    {
     "data": {
      "text/plain": [
       "4407910"
      ]
     },
     "execution_count": 54,
     "metadata": {},
     "output_type": "execute_result"
    }
   ],
   "source": [
    "len(user_song_df_count)"
   ]
  },
  {
   "cell_type": "markdown",
   "metadata": {},
   "source": [
    "#### Get total no. of times a any song was played for each user"
   ]
  },
  {
   "cell_type": "code",
   "execution_count": 55,
   "metadata": {},
   "outputs": [],
   "source": [
    "total_plays_per_user = pd.DataFrame(user_songs_df['userid'].value_counts().sort_index()[:])"
   ]
  },
  {
   "cell_type": "code",
   "execution_count": 56,
   "metadata": {},
   "outputs": [
    {
     "data": {
      "text/plain": [
       "pandas.core.frame.DataFrame"
      ]
     },
     "execution_count": 56,
     "metadata": {},
     "output_type": "execute_result"
    }
   ],
   "source": [
    "type(total_plays_per_user)"
   ]
  },
  {
   "cell_type": "code",
   "execution_count": 57,
   "metadata": {
    "scrolled": true
   },
   "outputs": [],
   "source": [
    "total_plays_per_user = total_plays_per_user.rename(columns = {'userid': 'times_played' } )"
   ]
  },
  {
   "cell_type": "code",
   "execution_count": 58,
   "metadata": {},
   "outputs": [],
   "source": [
    "total_plays_per_user = total_plays_per_user.reset_index()"
   ]
  },
  {
   "cell_type": "code",
   "execution_count": 59,
   "metadata": {},
   "outputs": [],
   "source": [
    "total_plays_per_user = total_plays_per_user.rename(columns = {'index': 'userid' } )"
   ]
  },
  {
   "cell_type": "code",
   "execution_count": 60,
   "metadata": {},
   "outputs": [
    {
     "data": {
      "text/html": [
       "<div>\n",
       "<style scoped>\n",
       "    .dataframe tbody tr th:only-of-type {\n",
       "        vertical-align: middle;\n",
       "    }\n",
       "\n",
       "    .dataframe tbody tr th {\n",
       "        vertical-align: top;\n",
       "    }\n",
       "\n",
       "    .dataframe thead th {\n",
       "        text-align: right;\n",
       "    }\n",
       "</style>\n",
       "<table border=\"1\" class=\"dataframe\">\n",
       "  <thead>\n",
       "    <tr style=\"text-align: right;\">\n",
       "      <th></th>\n",
       "      <th>userid</th>\n",
       "      <th>times_played</th>\n",
       "    </tr>\n",
       "  </thead>\n",
       "  <tbody>\n",
       "    <tr>\n",
       "      <th>0</th>\n",
       "      <td>user_000001</td>\n",
       "      <td>16685</td>\n",
       "    </tr>\n",
       "    <tr>\n",
       "      <th>1</th>\n",
       "      <td>user_000002</td>\n",
       "      <td>57438</td>\n",
       "    </tr>\n",
       "    <tr>\n",
       "      <th>2</th>\n",
       "      <td>user_000003</td>\n",
       "      <td>19494</td>\n",
       "    </tr>\n",
       "    <tr>\n",
       "      <th>3</th>\n",
       "      <td>user_000004</td>\n",
       "      <td>18411</td>\n",
       "    </tr>\n",
       "    <tr>\n",
       "      <th>4</th>\n",
       "      <td>user_000005</td>\n",
       "      <td>20341</td>\n",
       "    </tr>\n",
       "  </tbody>\n",
       "</table>\n",
       "</div>"
      ],
      "text/plain": [
       "        userid  times_played\n",
       "0  user_000001         16685\n",
       "1  user_000002         57438\n",
       "2  user_000003         19494\n",
       "3  user_000004         18411\n",
       "4  user_000005         20341"
      ]
     },
     "execution_count": 60,
     "metadata": {},
     "output_type": "execute_result"
    }
   ],
   "source": [
    "total_plays_per_user.head()"
   ]
  },
  {
   "cell_type": "code",
   "execution_count": 61,
   "metadata": {},
   "outputs": [
    {
     "data": {
      "text/html": [
       "<div>\n",
       "<style scoped>\n",
       "    .dataframe tbody tr th:only-of-type {\n",
       "        vertical-align: middle;\n",
       "    }\n",
       "\n",
       "    .dataframe tbody tr th {\n",
       "        vertical-align: top;\n",
       "    }\n",
       "\n",
       "    .dataframe thead th {\n",
       "        text-align: right;\n",
       "    }\n",
       "</style>\n",
       "<table border=\"1\" class=\"dataframe\">\n",
       "  <thead>\n",
       "    <tr style=\"text-align: right;\">\n",
       "      <th></th>\n",
       "      <th>userid</th>\n",
       "      <th>artistid</th>\n",
       "      <th>artist</th>\n",
       "      <th>song</th>\n",
       "      <th>slot</th>\n",
       "    </tr>\n",
       "  </thead>\n",
       "  <tbody>\n",
       "    <tr>\n",
       "      <th>0</th>\n",
       "      <td>user_000001</td>\n",
       "      <td>f1b1cf71-bd35-4e99-8624-24a6e15f133a</td>\n",
       "      <td>Deep Dish</td>\n",
       "      <td>Fuck Me Im Famous (Pacha Ibiza)-09-28-2007</td>\n",
       "      <td>4</td>\n",
       "    </tr>\n",
       "    <tr>\n",
       "      <th>1</th>\n",
       "      <td>user_000001</td>\n",
       "      <td>a7f7df4a-77d8-4f12-8acd-5c60c93f4de8</td>\n",
       "      <td>坂本龍一</td>\n",
       "      <td>Composition 0919 (Live_2009_4_15)</td>\n",
       "      <td>3</td>\n",
       "    </tr>\n",
       "    <tr>\n",
       "      <th>2</th>\n",
       "      <td>user_000001</td>\n",
       "      <td>a7f7df4a-77d8-4f12-8acd-5c60c93f4de8</td>\n",
       "      <td>坂本龍一</td>\n",
       "      <td>Mc2 (Live_2009_4_15)</td>\n",
       "      <td>3</td>\n",
       "    </tr>\n",
       "    <tr>\n",
       "      <th>3</th>\n",
       "      <td>user_000001</td>\n",
       "      <td>a7f7df4a-77d8-4f12-8acd-5c60c93f4de8</td>\n",
       "      <td>坂本龍一</td>\n",
       "      <td>Hibari (Live_2009_4_15)</td>\n",
       "      <td>3</td>\n",
       "    </tr>\n",
       "    <tr>\n",
       "      <th>4</th>\n",
       "      <td>user_000001</td>\n",
       "      <td>a7f7df4a-77d8-4f12-8acd-5c60c93f4de8</td>\n",
       "      <td>坂本龍一</td>\n",
       "      <td>Mc1 (Live_2009_4_15)</td>\n",
       "      <td>3</td>\n",
       "    </tr>\n",
       "  </tbody>\n",
       "</table>\n",
       "</div>"
      ],
      "text/plain": [
       "        userid                              artistid     artist  \\\n",
       "0  user_000001  f1b1cf71-bd35-4e99-8624-24a6e15f133a  Deep Dish   \n",
       "1  user_000001  a7f7df4a-77d8-4f12-8acd-5c60c93f4de8       坂本龍一   \n",
       "2  user_000001  a7f7df4a-77d8-4f12-8acd-5c60c93f4de8       坂本龍一   \n",
       "3  user_000001  a7f7df4a-77d8-4f12-8acd-5c60c93f4de8       坂本龍一   \n",
       "4  user_000001  a7f7df4a-77d8-4f12-8acd-5c60c93f4de8       坂本龍一   \n",
       "\n",
       "                                         song  slot  \n",
       "0  Fuck Me Im Famous (Pacha Ibiza)-09-28-2007     4  \n",
       "1           Composition 0919 (Live_2009_4_15)     3  \n",
       "2                        Mc2 (Live_2009_4_15)     3  \n",
       "3                     Hibari (Live_2009_4_15)     3  \n",
       "4                        Mc1 (Live_2009_4_15)     3  "
      ]
     },
     "execution_count": 61,
     "metadata": {},
     "output_type": "execute_result"
    }
   ],
   "source": [
    "user_songs_df.head()"
   ]
  },
  {
   "cell_type": "code",
   "execution_count": 62,
   "metadata": {},
   "outputs": [],
   "source": [
    "user_songs_df = user_songs_df.merge(total_plays_per_user, how = 'left',on = ['userid'] )"
   ]
  },
  {
   "cell_type": "code",
   "execution_count": 63,
   "metadata": {},
   "outputs": [
    {
     "data": {
      "text/plain": [
       "19098853"
      ]
     },
     "execution_count": 63,
     "metadata": {},
     "output_type": "execute_result"
    }
   ],
   "source": [
    "len(user_songs_df)"
   ]
  },
  {
   "cell_type": "code",
   "execution_count": 64,
   "metadata": {},
   "outputs": [
    {
     "data": {
      "text/html": [
       "<div>\n",
       "<style scoped>\n",
       "    .dataframe tbody tr th:only-of-type {\n",
       "        vertical-align: middle;\n",
       "    }\n",
       "\n",
       "    .dataframe tbody tr th {\n",
       "        vertical-align: top;\n",
       "    }\n",
       "\n",
       "    .dataframe thead th {\n",
       "        text-align: right;\n",
       "    }\n",
       "</style>\n",
       "<table border=\"1\" class=\"dataframe\">\n",
       "  <thead>\n",
       "    <tr style=\"text-align: right;\">\n",
       "      <th></th>\n",
       "      <th>userid</th>\n",
       "      <th>artistid</th>\n",
       "      <th>artist</th>\n",
       "      <th>song</th>\n",
       "      <th>slot</th>\n",
       "      <th>times_played</th>\n",
       "    </tr>\n",
       "  </thead>\n",
       "  <tbody>\n",
       "    <tr>\n",
       "      <th>0</th>\n",
       "      <td>user_000001</td>\n",
       "      <td>f1b1cf71-bd35-4e99-8624-24a6e15f133a</td>\n",
       "      <td>Deep Dish</td>\n",
       "      <td>Fuck Me Im Famous (Pacha Ibiza)-09-28-2007</td>\n",
       "      <td>4</td>\n",
       "      <td>16685</td>\n",
       "    </tr>\n",
       "    <tr>\n",
       "      <th>1</th>\n",
       "      <td>user_000001</td>\n",
       "      <td>a7f7df4a-77d8-4f12-8acd-5c60c93f4de8</td>\n",
       "      <td>坂本龍一</td>\n",
       "      <td>Composition 0919 (Live_2009_4_15)</td>\n",
       "      <td>3</td>\n",
       "      <td>16685</td>\n",
       "    </tr>\n",
       "    <tr>\n",
       "      <th>2</th>\n",
       "      <td>user_000001</td>\n",
       "      <td>a7f7df4a-77d8-4f12-8acd-5c60c93f4de8</td>\n",
       "      <td>坂本龍一</td>\n",
       "      <td>Mc2 (Live_2009_4_15)</td>\n",
       "      <td>3</td>\n",
       "      <td>16685</td>\n",
       "    </tr>\n",
       "    <tr>\n",
       "      <th>3</th>\n",
       "      <td>user_000001</td>\n",
       "      <td>a7f7df4a-77d8-4f12-8acd-5c60c93f4de8</td>\n",
       "      <td>坂本龍一</td>\n",
       "      <td>Hibari (Live_2009_4_15)</td>\n",
       "      <td>3</td>\n",
       "      <td>16685</td>\n",
       "    </tr>\n",
       "    <tr>\n",
       "      <th>4</th>\n",
       "      <td>user_000001</td>\n",
       "      <td>a7f7df4a-77d8-4f12-8acd-5c60c93f4de8</td>\n",
       "      <td>坂本龍一</td>\n",
       "      <td>Mc1 (Live_2009_4_15)</td>\n",
       "      <td>3</td>\n",
       "      <td>16685</td>\n",
       "    </tr>\n",
       "  </tbody>\n",
       "</table>\n",
       "</div>"
      ],
      "text/plain": [
       "        userid                              artistid     artist  \\\n",
       "0  user_000001  f1b1cf71-bd35-4e99-8624-24a6e15f133a  Deep Dish   \n",
       "1  user_000001  a7f7df4a-77d8-4f12-8acd-5c60c93f4de8       坂本龍一   \n",
       "2  user_000001  a7f7df4a-77d8-4f12-8acd-5c60c93f4de8       坂本龍一   \n",
       "3  user_000001  a7f7df4a-77d8-4f12-8acd-5c60c93f4de8       坂本龍一   \n",
       "4  user_000001  a7f7df4a-77d8-4f12-8acd-5c60c93f4de8       坂本龍一   \n",
       "\n",
       "                                         song  slot  times_played  \n",
       "0  Fuck Me Im Famous (Pacha Ibiza)-09-28-2007     4         16685  \n",
       "1           Composition 0919 (Live_2009_4_15)     3         16685  \n",
       "2                        Mc2 (Live_2009_4_15)     3         16685  \n",
       "3                     Hibari (Live_2009_4_15)     3         16685  \n",
       "4                        Mc1 (Live_2009_4_15)     3         16685  "
      ]
     },
     "execution_count": 64,
     "metadata": {},
     "output_type": "execute_result"
    }
   ],
   "source": [
    "user_songs_df.head()"
   ]
  },
  {
   "cell_type": "markdown",
   "metadata": {},
   "source": [
    "### user_songs_df is the dataframe containing times_played per user"
   ]
  },
  {
   "cell_type": "markdown",
   "metadata": {},
   "source": [
    "Now we split the dataset to get 80 train and 20% test. need to make sure 20% test has almost ~80% of no. of times songs played."
   ]
  },
  {
   "cell_type": "code",
   "execution_count": 67,
   "metadata": {
    "scrolled": true
   },
   "outputs": [
    {
     "data": {
      "text/html": [
       "<div>\n",
       "<style scoped>\n",
       "    .dataframe tbody tr th:only-of-type {\n",
       "        vertical-align: middle;\n",
       "    }\n",
       "\n",
       "    .dataframe tbody tr th {\n",
       "        vertical-align: top;\n",
       "    }\n",
       "\n",
       "    .dataframe thead th {\n",
       "        text-align: right;\n",
       "    }\n",
       "</style>\n",
       "<table border=\"1\" class=\"dataframe\">\n",
       "  <thead>\n",
       "    <tr style=\"text-align: right;\">\n",
       "      <th></th>\n",
       "      <th>userid</th>\n",
       "      <th>artistid</th>\n",
       "      <th>artist</th>\n",
       "      <th>song</th>\n",
       "      <th>slot</th>\n",
       "      <th>times_played</th>\n",
       "    </tr>\n",
       "  </thead>\n",
       "  <tbody>\n",
       "    <tr>\n",
       "      <th>15873768</th>\n",
       "      <td>user_000821</td>\n",
       "      <td>8c437ee8-8ddb-4254-a916-a0f0355fdd80</td>\n",
       "      <td>Micky Green</td>\n",
       "      <td>Baby</td>\n",
       "      <td>3</td>\n",
       "      <td>5699</td>\n",
       "    </tr>\n",
       "    <tr>\n",
       "      <th>15873769</th>\n",
       "      <td>user_000821</td>\n",
       "      <td>7276a2f0-2487-4b4b-be78-2346758ab354</td>\n",
       "      <td>The Dots</td>\n",
       "      <td>The Dots - 04 - Been A Time</td>\n",
       "      <td>3</td>\n",
       "      <td>5699</td>\n",
       "    </tr>\n",
       "    <tr>\n",
       "      <th>15873770</th>\n",
       "      <td>user_000821</td>\n",
       "      <td>7276a2f0-2487-4b4b-be78-2346758ab354</td>\n",
       "      <td>The Dots</td>\n",
       "      <td>The Dots - 01 - It Doesnt Matter</td>\n",
       "      <td>3</td>\n",
       "      <td>5699</td>\n",
       "    </tr>\n",
       "    <tr>\n",
       "      <th>15873771</th>\n",
       "      <td>user_000821</td>\n",
       "      <td>8c437ee8-8ddb-4254-a916-a0f0355fdd80</td>\n",
       "      <td>Micky Green</td>\n",
       "      <td>Outro</td>\n",
       "      <td>3</td>\n",
       "      <td>5699</td>\n",
       "    </tr>\n",
       "    <tr>\n",
       "      <th>15873772</th>\n",
       "      <td>user_000821</td>\n",
       "      <td>8c437ee8-8ddb-4254-a916-a0f0355fdd80</td>\n",
       "      <td>Micky Green</td>\n",
       "      <td>Outro</td>\n",
       "      <td>3</td>\n",
       "      <td>5699</td>\n",
       "    </tr>\n",
       "    <tr>\n",
       "      <th>15873773</th>\n",
       "      <td>user_000821</td>\n",
       "      <td>NaN</td>\n",
       "      <td>3:20</td>\n",
       "      <td>Time</td>\n",
       "      <td>3</td>\n",
       "      <td>5699</td>\n",
       "    </tr>\n",
       "    <tr>\n",
       "      <th>15873774</th>\n",
       "      <td>user_000821</td>\n",
       "      <td>NaN</td>\n",
       "      <td>2:44</td>\n",
       "      <td>Superman</td>\n",
       "      <td>3</td>\n",
       "      <td>5699</td>\n",
       "    </tr>\n",
       "    <tr>\n",
       "      <th>15873775</th>\n",
       "      <td>user_000821</td>\n",
       "      <td>2f548675-008d-4332-876c-108b0c7ab9c5</td>\n",
       "      <td>Sia</td>\n",
       "      <td>Numb</td>\n",
       "      <td>3</td>\n",
       "      <td>5699</td>\n",
       "    </tr>\n",
       "    <tr>\n",
       "      <th>15873776</th>\n",
       "      <td>user_000821</td>\n",
       "      <td>5bc00e04-97da-47c5-9588-7cc9b39a6d54</td>\n",
       "      <td>Cirkus</td>\n",
       "      <td>Fools</td>\n",
       "      <td>3</td>\n",
       "      <td>5699</td>\n",
       "    </tr>\n",
       "    <tr>\n",
       "      <th>15873777</th>\n",
       "      <td>user_000821</td>\n",
       "      <td>5bc00e04-97da-47c5-9588-7cc9b39a6d54</td>\n",
       "      <td>Cirkus</td>\n",
       "      <td>Fools</td>\n",
       "      <td>2</td>\n",
       "      <td>5699</td>\n",
       "    </tr>\n",
       "    <tr>\n",
       "      <th>15873778</th>\n",
       "      <td>user_000821</td>\n",
       "      <td>5bc00e04-97da-47c5-9588-7cc9b39a6d54</td>\n",
       "      <td>Cirkus</td>\n",
       "      <td>Time For The Whistle</td>\n",
       "      <td>2</td>\n",
       "      <td>5699</td>\n",
       "    </tr>\n",
       "    <tr>\n",
       "      <th>15873779</th>\n",
       "      <td>user_000821</td>\n",
       "      <td>951d2103-9c7d-4849-ae60-88bf6aa4790b</td>\n",
       "      <td>Kt Tunstall</td>\n",
       "      <td>Suddenly I See</td>\n",
       "      <td>2</td>\n",
       "      <td>5699</td>\n",
       "    </tr>\n",
       "    <tr>\n",
       "      <th>15873780</th>\n",
       "      <td>user_000821</td>\n",
       "      <td>951d2103-9c7d-4849-ae60-88bf6aa4790b</td>\n",
       "      <td>Kt Tunstall</td>\n",
       "      <td>Through The Dark</td>\n",
       "      <td>2</td>\n",
       "      <td>5699</td>\n",
       "    </tr>\n",
       "    <tr>\n",
       "      <th>15873781</th>\n",
       "      <td>user_000821</td>\n",
       "      <td>46193c80-959a-499d-b42f-f33ba7b9b18e</td>\n",
       "      <td>Vanessa Paradis</td>\n",
       "      <td>Irrésistiblement</td>\n",
       "      <td>2</td>\n",
       "      <td>5699</td>\n",
       "    </tr>\n",
       "    <tr>\n",
       "      <th>15873782</th>\n",
       "      <td>user_000821</td>\n",
       "      <td>5bc00e04-97da-47c5-9588-7cc9b39a6d54</td>\n",
       "      <td>Cirkus</td>\n",
       "      <td>Failsafe</td>\n",
       "      <td>2</td>\n",
       "      <td>5699</td>\n",
       "    </tr>\n",
       "    <tr>\n",
       "      <th>15873783</th>\n",
       "      <td>user_000821</td>\n",
       "      <td>5bc00e04-97da-47c5-9588-7cc9b39a6d54</td>\n",
       "      <td>Cirkus</td>\n",
       "      <td>Failsafe</td>\n",
       "      <td>3</td>\n",
       "      <td>5699</td>\n",
       "    </tr>\n",
       "    <tr>\n",
       "      <th>15873784</th>\n",
       "      <td>user_000821</td>\n",
       "      <td>2c4dae8c-e591-49e0-9c5a-62b310a15788</td>\n",
       "      <td>Duffy</td>\n",
       "      <td>Distant Dreamer</td>\n",
       "      <td>3</td>\n",
       "      <td>5699</td>\n",
       "    </tr>\n",
       "    <tr>\n",
       "      <th>15873785</th>\n",
       "      <td>user_000821</td>\n",
       "      <td>2c4dae8c-e591-49e0-9c5a-62b310a15788</td>\n",
       "      <td>Duffy</td>\n",
       "      <td>Stepping Stone</td>\n",
       "      <td>3</td>\n",
       "      <td>5699</td>\n",
       "    </tr>\n",
       "    <tr>\n",
       "      <th>15873786</th>\n",
       "      <td>user_000821</td>\n",
       "      <td>951d2103-9c7d-4849-ae60-88bf6aa4790b</td>\n",
       "      <td>Kt Tunstall</td>\n",
       "      <td>Other Side Of The World</td>\n",
       "      <td>3</td>\n",
       "      <td>5699</td>\n",
       "    </tr>\n",
       "    <tr>\n",
       "      <th>15873787</th>\n",
       "      <td>user_000821</td>\n",
       "      <td>2c4dae8c-e591-49e0-9c5a-62b310a15788</td>\n",
       "      <td>Duffy</td>\n",
       "      <td>Warwick Avenue</td>\n",
       "      <td>3</td>\n",
       "      <td>5699</td>\n",
       "    </tr>\n",
       "    <tr>\n",
       "      <th>15873788</th>\n",
       "      <td>user_000821</td>\n",
       "      <td>5bc00e04-97da-47c5-9588-7cc9b39a6d54</td>\n",
       "      <td>Cirkus</td>\n",
       "      <td>Born Again</td>\n",
       "      <td>3</td>\n",
       "      <td>5699</td>\n",
       "    </tr>\n",
       "    <tr>\n",
       "      <th>15873789</th>\n",
       "      <td>user_000821</td>\n",
       "      <td>5bc00e04-97da-47c5-9588-7cc9b39a6d54</td>\n",
       "      <td>Cirkus</td>\n",
       "      <td>Love Can...</td>\n",
       "      <td>3</td>\n",
       "      <td>5699</td>\n",
       "    </tr>\n",
       "    <tr>\n",
       "      <th>15873790</th>\n",
       "      <td>user_000821</td>\n",
       "      <td>5bc00e04-97da-47c5-9588-7cc9b39a6d54</td>\n",
       "      <td>Cirkus</td>\n",
       "      <td>Love Can...</td>\n",
       "      <td>2</td>\n",
       "      <td>5699</td>\n",
       "    </tr>\n",
       "    <tr>\n",
       "      <th>15873791</th>\n",
       "      <td>user_000821</td>\n",
       "      <td>8c437ee8-8ddb-4254-a916-a0f0355fdd80</td>\n",
       "      <td>Micky Green</td>\n",
       "      <td>Nothing To Prove</td>\n",
       "      <td>2</td>\n",
       "      <td>5699</td>\n",
       "    </tr>\n",
       "    <tr>\n",
       "      <th>15873792</th>\n",
       "      <td>user_000821</td>\n",
       "      <td>5bc00e04-97da-47c5-9588-7cc9b39a6d54</td>\n",
       "      <td>Cirkus</td>\n",
       "      <td>Sunny Tuesday</td>\n",
       "      <td>2</td>\n",
       "      <td>5699</td>\n",
       "    </tr>\n",
       "    <tr>\n",
       "      <th>15873793</th>\n",
       "      <td>user_000821</td>\n",
       "      <td>a2eed440-6894-44d2-ae9b-d6a3748d139e</td>\n",
       "      <td>Olspur</td>\n",
       "      <td>I Knew That We Would Fall In Love</td>\n",
       "      <td>2</td>\n",
       "      <td>5699</td>\n",
       "    </tr>\n",
       "    <tr>\n",
       "      <th>15873794</th>\n",
       "      <td>user_000821</td>\n",
       "      <td>f045aaa8-a7c9-4190-9f17-3d59da23afbe</td>\n",
       "      <td>Borea</td>\n",
       "      <td>Six Twenty Nine</td>\n",
       "      <td>2</td>\n",
       "      <td>5699</td>\n",
       "    </tr>\n",
       "    <tr>\n",
       "      <th>15873795</th>\n",
       "      <td>user_000821</td>\n",
       "      <td>951d2103-9c7d-4849-ae60-88bf6aa4790b</td>\n",
       "      <td>Kt Tunstall</td>\n",
       "      <td>Silent Sea</td>\n",
       "      <td>3</td>\n",
       "      <td>5699</td>\n",
       "    </tr>\n",
       "    <tr>\n",
       "      <th>15873796</th>\n",
       "      <td>user_000821</td>\n",
       "      <td>f8471a38-0575-4dcf-b657-401377ad293c</td>\n",
       "      <td>Justin Nozuka</td>\n",
       "      <td>Save Him</td>\n",
       "      <td>3</td>\n",
       "      <td>5699</td>\n",
       "    </tr>\n",
       "    <tr>\n",
       "      <th>15873797</th>\n",
       "      <td>user_000821</td>\n",
       "      <td>2c4dae8c-e591-49e0-9c5a-62b310a15788</td>\n",
       "      <td>Duffy</td>\n",
       "      <td>Syrup &amp; Honey</td>\n",
       "      <td>3</td>\n",
       "      <td>5699</td>\n",
       "    </tr>\n",
       "    <tr>\n",
       "      <th>...</th>\n",
       "      <td>...</td>\n",
       "      <td>...</td>\n",
       "      <td>...</td>\n",
       "      <td>...</td>\n",
       "      <td>...</td>\n",
       "      <td>...</td>\n",
       "    </tr>\n",
       "    <tr>\n",
       "      <th>15879437</th>\n",
       "      <td>user_000821</td>\n",
       "      <td>8b0f05ce-354e-4121-9e0b-8b4732ea844f</td>\n",
       "      <td>Juanes</td>\n",
       "      <td>La Unica</td>\n",
       "      <td>4</td>\n",
       "      <td>5699</td>\n",
       "    </tr>\n",
       "    <tr>\n",
       "      <th>15879438</th>\n",
       "      <td>user_000821</td>\n",
       "      <td>8b0f05ce-354e-4121-9e0b-8b4732ea844f</td>\n",
       "      <td>Juanes</td>\n",
       "      <td>Luna</td>\n",
       "      <td>4</td>\n",
       "      <td>5699</td>\n",
       "    </tr>\n",
       "    <tr>\n",
       "      <th>15879439</th>\n",
       "      <td>user_000821</td>\n",
       "      <td>8b0f05ce-354e-4121-9e0b-8b4732ea844f</td>\n",
       "      <td>Juanes</td>\n",
       "      <td>Un Día Lejano</td>\n",
       "      <td>4</td>\n",
       "      <td>5699</td>\n",
       "    </tr>\n",
       "    <tr>\n",
       "      <th>15879440</th>\n",
       "      <td>user_000821</td>\n",
       "      <td>8b0f05ce-354e-4121-9e0b-8b4732ea844f</td>\n",
       "      <td>Juanes</td>\n",
       "      <td>La Noche</td>\n",
       "      <td>4</td>\n",
       "      <td>5699</td>\n",
       "    </tr>\n",
       "    <tr>\n",
       "      <th>15879441</th>\n",
       "      <td>user_000821</td>\n",
       "      <td>8b0f05ce-354e-4121-9e0b-8b4732ea844f</td>\n",
       "      <td>Juanes</td>\n",
       "      <td>A Dios Le Pido</td>\n",
       "      <td>4</td>\n",
       "      <td>5699</td>\n",
       "    </tr>\n",
       "    <tr>\n",
       "      <th>15879442</th>\n",
       "      <td>user_000821</td>\n",
       "      <td>8b0f05ce-354e-4121-9e0b-8b4732ea844f</td>\n",
       "      <td>Juanes</td>\n",
       "      <td>A Dios Le Pido</td>\n",
       "      <td>4</td>\n",
       "      <td>5699</td>\n",
       "    </tr>\n",
       "    <tr>\n",
       "      <th>15879443</th>\n",
       "      <td>user_000821</td>\n",
       "      <td>8b0f05ce-354e-4121-9e0b-8b4732ea844f</td>\n",
       "      <td>Juanes</td>\n",
       "      <td>La Paga</td>\n",
       "      <td>4</td>\n",
       "      <td>5699</td>\n",
       "    </tr>\n",
       "    <tr>\n",
       "      <th>15879444</th>\n",
       "      <td>user_000821</td>\n",
       "      <td>8b0f05ce-354e-4121-9e0b-8b4732ea844f</td>\n",
       "      <td>Juanes</td>\n",
       "      <td>Un Día Lejano</td>\n",
       "      <td>4</td>\n",
       "      <td>5699</td>\n",
       "    </tr>\n",
       "    <tr>\n",
       "      <th>15879445</th>\n",
       "      <td>user_000821</td>\n",
       "      <td>8b0f05ce-354e-4121-9e0b-8b4732ea844f</td>\n",
       "      <td>Juanes</td>\n",
       "      <td>A Dios Le Pido</td>\n",
       "      <td>4</td>\n",
       "      <td>5699</td>\n",
       "    </tr>\n",
       "    <tr>\n",
       "      <th>15879446</th>\n",
       "      <td>user_000821</td>\n",
       "      <td>0ab49580-c84f-44d4-875f-d83760ea2cfe</td>\n",
       "      <td>Maroon 5</td>\n",
       "      <td>Tangled</td>\n",
       "      <td>4</td>\n",
       "      <td>5699</td>\n",
       "    </tr>\n",
       "    <tr>\n",
       "      <th>15879447</th>\n",
       "      <td>user_000821</td>\n",
       "      <td>8b0f05ce-354e-4121-9e0b-8b4732ea844f</td>\n",
       "      <td>Juanes</td>\n",
       "      <td>A Dios Le Pido</td>\n",
       "      <td>4</td>\n",
       "      <td>5699</td>\n",
       "    </tr>\n",
       "    <tr>\n",
       "      <th>15879448</th>\n",
       "      <td>user_000821</td>\n",
       "      <td>fbd2a255-1d57-4d31-ac11-65b671c19958</td>\n",
       "      <td>No Doubt</td>\n",
       "      <td>Hey Baby</td>\n",
       "      <td>4</td>\n",
       "      <td>5699</td>\n",
       "    </tr>\n",
       "    <tr>\n",
       "      <th>15879449</th>\n",
       "      <td>user_000821</td>\n",
       "      <td>d339efbb-77b9-4147-ba9e-59f2f24550b2</td>\n",
       "      <td>Kelly Clarkson</td>\n",
       "      <td>Behind These Hazel Eyes</td>\n",
       "      <td>4</td>\n",
       "      <td>5699</td>\n",
       "    </tr>\n",
       "    <tr>\n",
       "      <th>15879450</th>\n",
       "      <td>user_000821</td>\n",
       "      <td>fbd2a255-1d57-4d31-ac11-65b671c19958</td>\n",
       "      <td>No Doubt</td>\n",
       "      <td>Just A Girl</td>\n",
       "      <td>4</td>\n",
       "      <td>5699</td>\n",
       "    </tr>\n",
       "    <tr>\n",
       "      <th>15879451</th>\n",
       "      <td>user_000821</td>\n",
       "      <td>bf24ca37-25f4-4e34-9aec-460b94364cfc</td>\n",
       "      <td>Shakira</td>\n",
       "      <td>Las De La Intuición</td>\n",
       "      <td>4</td>\n",
       "      <td>5699</td>\n",
       "    </tr>\n",
       "    <tr>\n",
       "      <th>15879452</th>\n",
       "      <td>user_000821</td>\n",
       "      <td>89ad4ac3-39f7-470e-963a-56509c546377</td>\n",
       "      <td>Various Artists</td>\n",
       "      <td>Behind These Hazel Eyes</td>\n",
       "      <td>4</td>\n",
       "      <td>5699</td>\n",
       "    </tr>\n",
       "    <tr>\n",
       "      <th>15879453</th>\n",
       "      <td>user_000821</td>\n",
       "      <td>a3cb23fc-acd3-4ce0-8f36-1e5aa6a18432</td>\n",
       "      <td>U2</td>\n",
       "      <td>Beautiful Day</td>\n",
       "      <td>4</td>\n",
       "      <td>5699</td>\n",
       "    </tr>\n",
       "    <tr>\n",
       "      <th>15879454</th>\n",
       "      <td>user_000821</td>\n",
       "      <td>084308bd-1654-436f-ba03-df6697104e19</td>\n",
       "      <td>Green Day</td>\n",
       "      <td>Boulevard Of Broken Dreams</td>\n",
       "      <td>4</td>\n",
       "      <td>5699</td>\n",
       "    </tr>\n",
       "    <tr>\n",
       "      <th>15879455</th>\n",
       "      <td>user_000821</td>\n",
       "      <td>b60527cc-54f3-4bbe-a01b-dcf34c95ae14</td>\n",
       "      <td>Donna Summer</td>\n",
       "      <td>I Feel Love</td>\n",
       "      <td>4</td>\n",
       "      <td>5699</td>\n",
       "    </tr>\n",
       "    <tr>\n",
       "      <th>15879456</th>\n",
       "      <td>user_000821</td>\n",
       "      <td>d60315b1-e2f8-4c61-8930-c269b03b57bf</td>\n",
       "      <td>Manual</td>\n",
       "      <td>Lunate</td>\n",
       "      <td>4</td>\n",
       "      <td>5699</td>\n",
       "    </tr>\n",
       "    <tr>\n",
       "      <th>15879457</th>\n",
       "      <td>user_000821</td>\n",
       "      <td>b202beb7-99bd-47e7-8b72-195c8d72ebdd</td>\n",
       "      <td>Christina Aguilera</td>\n",
       "      <td>Genie In A Bottle</td>\n",
       "      <td>4</td>\n",
       "      <td>5699</td>\n",
       "    </tr>\n",
       "    <tr>\n",
       "      <th>15879458</th>\n",
       "      <td>user_000821</td>\n",
       "      <td>d5be5333-4171-427e-8e12-732087c6b78e</td>\n",
       "      <td>The Black Eyed Peas</td>\n",
       "      <td>Shut Up</td>\n",
       "      <td>4</td>\n",
       "      <td>5699</td>\n",
       "    </tr>\n",
       "    <tr>\n",
       "      <th>15879459</th>\n",
       "      <td>user_000821</td>\n",
       "      <td>ccb8f30e-4d71-40c4-8b1d-846dafe73e2c</td>\n",
       "      <td>George Michael</td>\n",
       "      <td>Amazing</td>\n",
       "      <td>4</td>\n",
       "      <td>5699</td>\n",
       "    </tr>\n",
       "    <tr>\n",
       "      <th>15879460</th>\n",
       "      <td>user_000821</td>\n",
       "      <td>db3c0a20-bf05-4b30-ac22-f294aea24172</td>\n",
       "      <td>Aimee Mann</td>\n",
       "      <td>Driving Sideways</td>\n",
       "      <td>4</td>\n",
       "      <td>5699</td>\n",
       "    </tr>\n",
       "    <tr>\n",
       "      <th>15879461</th>\n",
       "      <td>user_000821</td>\n",
       "      <td>a506f761-2c22-4b2f-8a94-bd748c2c8f75</td>\n",
       "      <td>Neutral Milk Hotel</td>\n",
       "      <td>The King Of Carrot Flowers, Part 3</td>\n",
       "      <td>4</td>\n",
       "      <td>5699</td>\n",
       "    </tr>\n",
       "    <tr>\n",
       "      <th>15879462</th>\n",
       "      <td>user_000821</td>\n",
       "      <td>9c9f1380-2516-4fc9-a3e6-f9f61941d090</td>\n",
       "      <td>Muse</td>\n",
       "      <td>Time Is Running Out</td>\n",
       "      <td>4</td>\n",
       "      <td>5699</td>\n",
       "    </tr>\n",
       "    <tr>\n",
       "      <th>15879463</th>\n",
       "      <td>user_000821</td>\n",
       "      <td>4fafdd2b-4cd0-4cc7-a338-cd94cfceeea4</td>\n",
       "      <td>Talvin Singh</td>\n",
       "      <td>Distant God</td>\n",
       "      <td>4</td>\n",
       "      <td>5699</td>\n",
       "    </tr>\n",
       "    <tr>\n",
       "      <th>15879464</th>\n",
       "      <td>user_000821</td>\n",
       "      <td>8b0f05ce-354e-4121-9e0b-8b4732ea844f</td>\n",
       "      <td>Juanes</td>\n",
       "      <td>A Dios Le Pido</td>\n",
       "      <td>4</td>\n",
       "      <td>5699</td>\n",
       "    </tr>\n",
       "    <tr>\n",
       "      <th>15879465</th>\n",
       "      <td>user_000821</td>\n",
       "      <td>fbd2a255-1d57-4d31-ac11-65b671c19958</td>\n",
       "      <td>No Doubt</td>\n",
       "      <td>Hey Baby</td>\n",
       "      <td>4</td>\n",
       "      <td>5699</td>\n",
       "    </tr>\n",
       "    <tr>\n",
       "      <th>15879466</th>\n",
       "      <td>user_000821</td>\n",
       "      <td>fbd2a255-1d57-4d31-ac11-65b671c19958</td>\n",
       "      <td>No Doubt</td>\n",
       "      <td>Just A Girl</td>\n",
       "      <td>4</td>\n",
       "      <td>5699</td>\n",
       "    </tr>\n",
       "  </tbody>\n",
       "</table>\n",
       "<p>5699 rows × 6 columns</p>\n",
       "</div>"
      ],
      "text/plain": [
       "               userid                              artistid  \\\n",
       "15873768  user_000821  8c437ee8-8ddb-4254-a916-a0f0355fdd80   \n",
       "15873769  user_000821  7276a2f0-2487-4b4b-be78-2346758ab354   \n",
       "15873770  user_000821  7276a2f0-2487-4b4b-be78-2346758ab354   \n",
       "15873771  user_000821  8c437ee8-8ddb-4254-a916-a0f0355fdd80   \n",
       "15873772  user_000821  8c437ee8-8ddb-4254-a916-a0f0355fdd80   \n",
       "15873773  user_000821                                   NaN   \n",
       "15873774  user_000821                                   NaN   \n",
       "15873775  user_000821  2f548675-008d-4332-876c-108b0c7ab9c5   \n",
       "15873776  user_000821  5bc00e04-97da-47c5-9588-7cc9b39a6d54   \n",
       "15873777  user_000821  5bc00e04-97da-47c5-9588-7cc9b39a6d54   \n",
       "15873778  user_000821  5bc00e04-97da-47c5-9588-7cc9b39a6d54   \n",
       "15873779  user_000821  951d2103-9c7d-4849-ae60-88bf6aa4790b   \n",
       "15873780  user_000821  951d2103-9c7d-4849-ae60-88bf6aa4790b   \n",
       "15873781  user_000821  46193c80-959a-499d-b42f-f33ba7b9b18e   \n",
       "15873782  user_000821  5bc00e04-97da-47c5-9588-7cc9b39a6d54   \n",
       "15873783  user_000821  5bc00e04-97da-47c5-9588-7cc9b39a6d54   \n",
       "15873784  user_000821  2c4dae8c-e591-49e0-9c5a-62b310a15788   \n",
       "15873785  user_000821  2c4dae8c-e591-49e0-9c5a-62b310a15788   \n",
       "15873786  user_000821  951d2103-9c7d-4849-ae60-88bf6aa4790b   \n",
       "15873787  user_000821  2c4dae8c-e591-49e0-9c5a-62b310a15788   \n",
       "15873788  user_000821  5bc00e04-97da-47c5-9588-7cc9b39a6d54   \n",
       "15873789  user_000821  5bc00e04-97da-47c5-9588-7cc9b39a6d54   \n",
       "15873790  user_000821  5bc00e04-97da-47c5-9588-7cc9b39a6d54   \n",
       "15873791  user_000821  8c437ee8-8ddb-4254-a916-a0f0355fdd80   \n",
       "15873792  user_000821  5bc00e04-97da-47c5-9588-7cc9b39a6d54   \n",
       "15873793  user_000821  a2eed440-6894-44d2-ae9b-d6a3748d139e   \n",
       "15873794  user_000821  f045aaa8-a7c9-4190-9f17-3d59da23afbe   \n",
       "15873795  user_000821  951d2103-9c7d-4849-ae60-88bf6aa4790b   \n",
       "15873796  user_000821  f8471a38-0575-4dcf-b657-401377ad293c   \n",
       "15873797  user_000821  2c4dae8c-e591-49e0-9c5a-62b310a15788   \n",
       "...               ...                                   ...   \n",
       "15879437  user_000821  8b0f05ce-354e-4121-9e0b-8b4732ea844f   \n",
       "15879438  user_000821  8b0f05ce-354e-4121-9e0b-8b4732ea844f   \n",
       "15879439  user_000821  8b0f05ce-354e-4121-9e0b-8b4732ea844f   \n",
       "15879440  user_000821  8b0f05ce-354e-4121-9e0b-8b4732ea844f   \n",
       "15879441  user_000821  8b0f05ce-354e-4121-9e0b-8b4732ea844f   \n",
       "15879442  user_000821  8b0f05ce-354e-4121-9e0b-8b4732ea844f   \n",
       "15879443  user_000821  8b0f05ce-354e-4121-9e0b-8b4732ea844f   \n",
       "15879444  user_000821  8b0f05ce-354e-4121-9e0b-8b4732ea844f   \n",
       "15879445  user_000821  8b0f05ce-354e-4121-9e0b-8b4732ea844f   \n",
       "15879446  user_000821  0ab49580-c84f-44d4-875f-d83760ea2cfe   \n",
       "15879447  user_000821  8b0f05ce-354e-4121-9e0b-8b4732ea844f   \n",
       "15879448  user_000821  fbd2a255-1d57-4d31-ac11-65b671c19958   \n",
       "15879449  user_000821  d339efbb-77b9-4147-ba9e-59f2f24550b2   \n",
       "15879450  user_000821  fbd2a255-1d57-4d31-ac11-65b671c19958   \n",
       "15879451  user_000821  bf24ca37-25f4-4e34-9aec-460b94364cfc   \n",
       "15879452  user_000821  89ad4ac3-39f7-470e-963a-56509c546377   \n",
       "15879453  user_000821  a3cb23fc-acd3-4ce0-8f36-1e5aa6a18432   \n",
       "15879454  user_000821  084308bd-1654-436f-ba03-df6697104e19   \n",
       "15879455  user_000821  b60527cc-54f3-4bbe-a01b-dcf34c95ae14   \n",
       "15879456  user_000821  d60315b1-e2f8-4c61-8930-c269b03b57bf   \n",
       "15879457  user_000821  b202beb7-99bd-47e7-8b72-195c8d72ebdd   \n",
       "15879458  user_000821  d5be5333-4171-427e-8e12-732087c6b78e   \n",
       "15879459  user_000821  ccb8f30e-4d71-40c4-8b1d-846dafe73e2c   \n",
       "15879460  user_000821  db3c0a20-bf05-4b30-ac22-f294aea24172   \n",
       "15879461  user_000821  a506f761-2c22-4b2f-8a94-bd748c2c8f75   \n",
       "15879462  user_000821  9c9f1380-2516-4fc9-a3e6-f9f61941d090   \n",
       "15879463  user_000821  4fafdd2b-4cd0-4cc7-a338-cd94cfceeea4   \n",
       "15879464  user_000821  8b0f05ce-354e-4121-9e0b-8b4732ea844f   \n",
       "15879465  user_000821  fbd2a255-1d57-4d31-ac11-65b671c19958   \n",
       "15879466  user_000821  fbd2a255-1d57-4d31-ac11-65b671c19958   \n",
       "\n",
       "                       artist                                song  slot  \\\n",
       "15873768          Micky Green                                Baby     3   \n",
       "15873769             The Dots         The Dots - 04 - Been A Time     3   \n",
       "15873770             The Dots    The Dots - 01 - It Doesnt Matter     3   \n",
       "15873771          Micky Green                               Outro     3   \n",
       "15873772          Micky Green                               Outro     3   \n",
       "15873773                 3:20                                Time     3   \n",
       "15873774                 2:44                            Superman     3   \n",
       "15873775                  Sia                                Numb     3   \n",
       "15873776               Cirkus                               Fools     3   \n",
       "15873777               Cirkus                               Fools     2   \n",
       "15873778               Cirkus                Time For The Whistle     2   \n",
       "15873779          Kt Tunstall                      Suddenly I See     2   \n",
       "15873780          Kt Tunstall                    Through The Dark     2   \n",
       "15873781      Vanessa Paradis                    Irrésistiblement     2   \n",
       "15873782               Cirkus                            Failsafe     2   \n",
       "15873783               Cirkus                            Failsafe     3   \n",
       "15873784                Duffy                     Distant Dreamer     3   \n",
       "15873785                Duffy                      Stepping Stone     3   \n",
       "15873786          Kt Tunstall             Other Side Of The World     3   \n",
       "15873787                Duffy                      Warwick Avenue     3   \n",
       "15873788               Cirkus                          Born Again     3   \n",
       "15873789               Cirkus                         Love Can...     3   \n",
       "15873790               Cirkus                         Love Can...     2   \n",
       "15873791          Micky Green                    Nothing To Prove     2   \n",
       "15873792               Cirkus                       Sunny Tuesday     2   \n",
       "15873793               Olspur   I Knew That We Would Fall In Love     2   \n",
       "15873794                Borea                     Six Twenty Nine     2   \n",
       "15873795          Kt Tunstall                          Silent Sea     3   \n",
       "15873796        Justin Nozuka                            Save Him     3   \n",
       "15873797                Duffy                       Syrup & Honey     3   \n",
       "...                       ...                                 ...   ...   \n",
       "15879437               Juanes                            La Unica     4   \n",
       "15879438               Juanes                                Luna     4   \n",
       "15879439               Juanes                       Un Día Lejano     4   \n",
       "15879440               Juanes                            La Noche     4   \n",
       "15879441               Juanes                      A Dios Le Pido     4   \n",
       "15879442               Juanes                      A Dios Le Pido     4   \n",
       "15879443               Juanes                             La Paga     4   \n",
       "15879444               Juanes                       Un Día Lejano     4   \n",
       "15879445               Juanes                      A Dios Le Pido     4   \n",
       "15879446             Maroon 5                             Tangled     4   \n",
       "15879447               Juanes                      A Dios Le Pido     4   \n",
       "15879448             No Doubt                            Hey Baby     4   \n",
       "15879449       Kelly Clarkson             Behind These Hazel Eyes     4   \n",
       "15879450             No Doubt                         Just A Girl     4   \n",
       "15879451              Shakira                 Las De La Intuición     4   \n",
       "15879452      Various Artists             Behind These Hazel Eyes     4   \n",
       "15879453                   U2                       Beautiful Day     4   \n",
       "15879454            Green Day          Boulevard Of Broken Dreams     4   \n",
       "15879455         Donna Summer                         I Feel Love     4   \n",
       "15879456               Manual                              Lunate     4   \n",
       "15879457   Christina Aguilera                   Genie In A Bottle     4   \n",
       "15879458  The Black Eyed Peas                             Shut Up     4   \n",
       "15879459       George Michael                             Amazing     4   \n",
       "15879460           Aimee Mann                    Driving Sideways     4   \n",
       "15879461   Neutral Milk Hotel  The King Of Carrot Flowers, Part 3     4   \n",
       "15879462                 Muse                 Time Is Running Out     4   \n",
       "15879463         Talvin Singh                         Distant God     4   \n",
       "15879464               Juanes                      A Dios Le Pido     4   \n",
       "15879465             No Doubt                            Hey Baby     4   \n",
       "15879466             No Doubt                         Just A Girl     4   \n",
       "\n",
       "          times_played  \n",
       "15873768          5699  \n",
       "15873769          5699  \n",
       "15873770          5699  \n",
       "15873771          5699  \n",
       "15873772          5699  \n",
       "15873773          5699  \n",
       "15873774          5699  \n",
       "15873775          5699  \n",
       "15873776          5699  \n",
       "15873777          5699  \n",
       "15873778          5699  \n",
       "15873779          5699  \n",
       "15873780          5699  \n",
       "15873781          5699  \n",
       "15873782          5699  \n",
       "15873783          5699  \n",
       "15873784          5699  \n",
       "15873785          5699  \n",
       "15873786          5699  \n",
       "15873787          5699  \n",
       "15873788          5699  \n",
       "15873789          5699  \n",
       "15873790          5699  \n",
       "15873791          5699  \n",
       "15873792          5699  \n",
       "15873793          5699  \n",
       "15873794          5699  \n",
       "15873795          5699  \n",
       "15873796          5699  \n",
       "15873797          5699  \n",
       "...                ...  \n",
       "15879437          5699  \n",
       "15879438          5699  \n",
       "15879439          5699  \n",
       "15879440          5699  \n",
       "15879441          5699  \n",
       "15879442          5699  \n",
       "15879443          5699  \n",
       "15879444          5699  \n",
       "15879445          5699  \n",
       "15879446          5699  \n",
       "15879447          5699  \n",
       "15879448          5699  \n",
       "15879449          5699  \n",
       "15879450          5699  \n",
       "15879451          5699  \n",
       "15879452          5699  \n",
       "15879453          5699  \n",
       "15879454          5699  \n",
       "15879455          5699  \n",
       "15879456          5699  \n",
       "15879457          5699  \n",
       "15879458          5699  \n",
       "15879459          5699  \n",
       "15879460          5699  \n",
       "15879461          5699  \n",
       "15879462          5699  \n",
       "15879463          5699  \n",
       "15879464          5699  \n",
       "15879465          5699  \n",
       "15879466          5699  \n",
       "\n",
       "[5699 rows x 6 columns]"
      ]
     },
     "execution_count": 67,
     "metadata": {},
     "output_type": "execute_result"
    }
   ],
   "source": [
    "user_songs_df[user_songs_df['userid']== 'user_000821']"
   ]
  },
  {
   "cell_type": "code",
   "execution_count": 74,
   "metadata": {},
   "outputs": [
    {
     "data": {
      "text/plain": [
       "80.07674597003286"
      ]
     },
     "execution_count": 74,
     "metadata": {},
     "output_type": "execute_result"
    }
   ],
   "source": [
    "len(user_songs_df[user_songs_df['userid']< 'user_000795']) / len(user_songs_df) * 100"
   ]
  },
  {
   "cell_type": "code",
   "execution_count": 78,
   "metadata": {},
   "outputs": [
    {
     "data": {
      "text/plain": [
       "80.07674597003286"
      ]
     },
     "execution_count": 78,
     "metadata": {},
     "output_type": "execute_result"
    }
   ],
   "source": [
    "train_df = user_songs_df[user_songs_df['userid']< 'user_000795']\n",
    "len(train_df) / len(user_songs_df) * 100"
   ]
  },
  {
   "cell_type": "code",
   "execution_count": 79,
   "metadata": {},
   "outputs": [
    {
     "data": {
      "text/plain": [
       "19.92325402996714"
      ]
     },
     "execution_count": 79,
     "metadata": {},
     "output_type": "execute_result"
    }
   ],
   "source": [
    "test_df = user_songs_df[user_songs_df['userid']>= 'user_000795']\n",
    "len(test_df) / len(user_songs_df) * 100"
   ]
  },
  {
   "cell_type": "code",
   "execution_count": null,
   "metadata": {},
   "outputs": [],
   "source": []
  },
  {
   "cell_type": "code",
   "execution_count": null,
   "metadata": {},
   "outputs": [],
   "source": []
  },
  {
   "cell_type": "markdown",
   "metadata": {},
   "source": [
    "Current dataframe has unique user-song combinations."
   ]
  },
  {
   "cell_type": "code",
   "execution_count": 50,
   "metadata": {},
   "outputs": [],
   "source": [
    "###convert data into a csr matrix - sparse matrix representation"
   ]
  },
  {
   "cell_type": "code",
   "execution_count": 51,
   "metadata": {},
   "outputs": [],
   "source": [
    "user_song_df_count = user_song_df_count.dropna() "
   ]
  },
  {
   "cell_type": "markdown",
   "metadata": {},
   "source": [
    "Nothing is dropped"
   ]
  },
  {
   "cell_type": "code",
   "execution_count": 52,
   "metadata": {},
   "outputs": [
    {
     "data": {
      "text/plain": [
       "4407910"
      ]
     },
     "execution_count": 52,
     "metadata": {},
     "output_type": "execute_result"
    }
   ],
   "source": [
    "len ( user_song_df_count)"
   ]
  },
  {
   "cell_type": "code",
   "execution_count": 53,
   "metadata": {},
   "outputs": [],
   "source": [
    "# user_song_df_count.nunique()"
   ]
  },
  {
   "cell_type": "code",
   "execution_count": 54,
   "metadata": {},
   "outputs": [
    {
     "name": "stdout",
     "output_type": "stream",
     "text": [
      "Wall time: 5.59 s\n"
     ]
    }
   ],
   "source": [
    "%%time\n",
    "# Convert userid and song names into numerical IDs\n",
    "user_song_df_count['user_id'] = user_song_df_count['userid'].astype(\"category\").cat.codes\n",
    "user_song_df_count['song_id_new'] = user_song_df_count['song'].astype(\"category\").cat.codes\n",
    "\n",
    "# Create a lookup frame so we can get the artist names back in \n",
    "# readable form later.\n",
    "item_lookup = user_song_df_count[['song_id_new', 'song']].drop_duplicates()\n",
    "item_lookup['song_id_new'] = item_lookup.song_id_new.astype(str)"
   ]
  },
  {
   "cell_type": "code",
   "execution_count": 119,
   "metadata": {},
   "outputs": [
    {
     "data": {
      "text/html": [
       "<div>\n",
       "<style scoped>\n",
       "    .dataframe tbody tr th:only-of-type {\n",
       "        vertical-align: middle;\n",
       "    }\n",
       "\n",
       "    .dataframe tbody tr th {\n",
       "        vertical-align: top;\n",
       "    }\n",
       "\n",
       "    .dataframe thead th {\n",
       "        text-align: right;\n",
       "    }\n",
       "</style>\n",
       "<table border=\"1\" class=\"dataframe\">\n",
       "  <thead>\n",
       "    <tr style=\"text-align: right;\">\n",
       "      <th></th>\n",
       "      <th>userid</th>\n",
       "      <th>song</th>\n",
       "      <th>count</th>\n",
       "      <th>user_id</th>\n",
       "      <th>song_id_new</th>\n",
       "    </tr>\n",
       "  </thead>\n",
       "  <tbody>\n",
       "    <tr>\n",
       "      <th>0</th>\n",
       "      <td>user_000001</td>\n",
       "      <td>'84 Pontiac Dream</td>\n",
       "      <td>14</td>\n",
       "      <td>0</td>\n",
       "      <td>708</td>\n",
       "    </tr>\n",
       "    <tr>\n",
       "      <th>1</th>\n",
       "      <td>user_000001</td>\n",
       "      <td>(All I Wanted Was To Make You) Feel Good</td>\n",
       "      <td>3</td>\n",
       "      <td>0</td>\n",
       "      <td>1456</td>\n",
       "    </tr>\n",
       "    <tr>\n",
       "      <th>2</th>\n",
       "      <td>user_000001</td>\n",
       "      <td>(D)Ecaying Beauty</td>\n",
       "      <td>1</td>\n",
       "      <td>0</td>\n",
       "      <td>1776</td>\n",
       "    </tr>\n",
       "    <tr>\n",
       "      <th>3</th>\n",
       "      <td>user_000001</td>\n",
       "      <td>(Far From) Home</td>\n",
       "      <td>1</td>\n",
       "      <td>0</td>\n",
       "      <td>2001</td>\n",
       "    </tr>\n",
       "    <tr>\n",
       "      <th>4</th>\n",
       "      <td>user_000001</td>\n",
       "      <td>(Get Off Your) High Horse Lady</td>\n",
       "      <td>1</td>\n",
       "      <td>0</td>\n",
       "      <td>2058</td>\n",
       "    </tr>\n",
       "  </tbody>\n",
       "</table>\n",
       "</div>"
      ],
      "text/plain": [
       "        userid                                      song  count  user_id  \\\n",
       "0  user_000001                         '84 Pontiac Dream     14        0   \n",
       "1  user_000001  (All I Wanted Was To Make You) Feel Good      3        0   \n",
       "2  user_000001                         (D)Ecaying Beauty      1        0   \n",
       "3  user_000001                           (Far From) Home      1        0   \n",
       "4  user_000001            (Get Off Your) High Horse Lady      1        0   \n",
       "\n",
       "   song_id_new  \n",
       "0          708  \n",
       "1         1456  \n",
       "2         1776  \n",
       "3         2001  \n",
       "4         2058  "
      ]
     },
     "execution_count": 119,
     "metadata": {},
     "output_type": "execute_result"
    }
   ],
   "source": [
    "user_song_df_count.head()"
   ]
  },
  {
   "cell_type": "code",
   "execution_count": 122,
   "metadata": {},
   "outputs": [
    {
     "data": {
      "text/plain": [
       "userid         object\n",
       "song           object\n",
       "count           int64\n",
       "user_id         int16\n",
       "song_id_new     int32\n",
       "dtype: object"
      ]
     },
     "execution_count": 122,
     "metadata": {},
     "output_type": "execute_result"
    }
   ],
   "source": [
    "user_song_df_count.dtypes"
   ]
  },
  {
   "cell_type": "markdown",
   "metadata": {},
   "source": [
    "New dataframe contains category code for userid and song"
   ]
  },
  {
   "cell_type": "code",
   "execution_count": 56,
   "metadata": {},
   "outputs": [],
   "source": [
    "user_song_df = user_song_df_count.drop( ['userid', 'song'], axis = 1)"
   ]
  },
  {
   "cell_type": "code",
   "execution_count": 57,
   "metadata": {},
   "outputs": [
    {
     "data": {
      "text/html": [
       "<div>\n",
       "<style scoped>\n",
       "    .dataframe tbody tr th:only-of-type {\n",
       "        vertical-align: middle;\n",
       "    }\n",
       "\n",
       "    .dataframe tbody tr th {\n",
       "        vertical-align: top;\n",
       "    }\n",
       "\n",
       "    .dataframe thead th {\n",
       "        text-align: right;\n",
       "    }\n",
       "</style>\n",
       "<table border=\"1\" class=\"dataframe\">\n",
       "  <thead>\n",
       "    <tr style=\"text-align: right;\">\n",
       "      <th></th>\n",
       "      <th>count</th>\n",
       "      <th>user_id</th>\n",
       "      <th>song_id_new</th>\n",
       "    </tr>\n",
       "  </thead>\n",
       "  <tbody>\n",
       "    <tr>\n",
       "      <th>0</th>\n",
       "      <td>14</td>\n",
       "      <td>0</td>\n",
       "      <td>708</td>\n",
       "    </tr>\n",
       "    <tr>\n",
       "      <th>1</th>\n",
       "      <td>3</td>\n",
       "      <td>0</td>\n",
       "      <td>1456</td>\n",
       "    </tr>\n",
       "    <tr>\n",
       "      <th>2</th>\n",
       "      <td>1</td>\n",
       "      <td>0</td>\n",
       "      <td>1776</td>\n",
       "    </tr>\n",
       "    <tr>\n",
       "      <th>3</th>\n",
       "      <td>1</td>\n",
       "      <td>0</td>\n",
       "      <td>2001</td>\n",
       "    </tr>\n",
       "    <tr>\n",
       "      <th>4</th>\n",
       "      <td>1</td>\n",
       "      <td>0</td>\n",
       "      <td>2058</td>\n",
       "    </tr>\n",
       "  </tbody>\n",
       "</table>\n",
       "</div>"
      ],
      "text/plain": [
       "   count  user_id  song_id_new\n",
       "0     14        0          708\n",
       "1      3        0         1456\n",
       "2      1        0         1776\n",
       "3      1        0         2001\n",
       "4      1        0         2058"
      ]
     },
     "execution_count": 57,
     "metadata": {},
     "output_type": "execute_result"
    }
   ],
   "source": [
    "user_song_df.head()"
   ]
  },
  {
   "cell_type": "code",
   "execution_count": 58,
   "metadata": {},
   "outputs": [
    {
     "data": {
      "text/plain": [
       "count          int64\n",
       "user_id        int16\n",
       "song_id_new    int32\n",
       "dtype: object"
      ]
     },
     "execution_count": 58,
     "metadata": {},
     "output_type": "execute_result"
    }
   ],
   "source": [
    "user_song_df.dtypes"
   ]
  },
  {
   "cell_type": "code",
   "execution_count": 74,
   "metadata": {},
   "outputs": [
    {
     "data": {
      "text/html": [
       "<div>\n",
       "<style scoped>\n",
       "    .dataframe tbody tr th:only-of-type {\n",
       "        vertical-align: middle;\n",
       "    }\n",
       "\n",
       "    .dataframe tbody tr th {\n",
       "        vertical-align: top;\n",
       "    }\n",
       "\n",
       "    .dataframe thead th {\n",
       "        text-align: right;\n",
       "    }\n",
       "</style>\n",
       "<table border=\"1\" class=\"dataframe\">\n",
       "  <thead>\n",
       "    <tr style=\"text-align: right;\">\n",
       "      <th></th>\n",
       "      <th>count</th>\n",
       "      <th>user_id</th>\n",
       "      <th>song_id_new</th>\n",
       "    </tr>\n",
       "  </thead>\n",
       "  <tbody>\n",
       "  </tbody>\n",
       "</table>\n",
       "</div>"
      ],
      "text/plain": [
       "Empty DataFrame\n",
       "Columns: [count, user_id, song_id_new]\n",
       "Index: []"
      ]
     },
     "execution_count": 74,
     "metadata": {},
     "output_type": "execute_result"
    }
   ],
   "source": [
    "user_song_df[user_song_df['count'] == 0]"
   ]
  },
  {
   "cell_type": "code",
   "execution_count": 59,
   "metadata": {},
   "outputs": [
    {
     "name": "stdout",
     "output_type": "stream",
     "text": [
      "Wall time: 347 ms\n"
     ]
    }
   ],
   "source": [
    "%%time\n",
    "# Create lists of all users, songs and counts\n",
    "users = list(np.sort(user_song_df.user_id.unique()))\n",
    "songs = list(np.sort(user_song_df.song_id_new.unique()))\n",
    "counts = list(user_song_df['count'])"
   ]
  },
  {
   "cell_type": "code",
   "execution_count": 60,
   "metadata": {},
   "outputs": [],
   "source": [
    "# rows = user_song_df.user_id.astype(int)\n",
    "# cols = user_song_df.song_id_new.astype(int)"
   ]
  },
  {
   "cell_type": "code",
   "execution_count": 61,
   "metadata": {},
   "outputs": [
    {
     "name": "stdout",
     "output_type": "stream",
     "text": [
      "Wall time: 547 ms\n"
     ]
    }
   ],
   "source": [
    "# %%time\n",
    "# #create a csr matrix\n",
    "# data_sparse = csr_matrix((counts, (rows, cols)), shape=(len(users), len(songs)))\n"
   ]
  },
  {
   "cell_type": "code",
   "execution_count": 62,
   "metadata": {},
   "outputs": [
    {
     "data": {
      "text/plain": [
       "<2x1083471 sparse matrix of type '<class 'numpy.int32'>'\n",
       "\twith 11221 stored elements in Compressed Sparse Row format>"
      ]
     },
     "execution_count": 62,
     "metadata": {},
     "output_type": "execute_result"
    }
   ],
   "source": [
    "# data_sparse[:2]"
   ]
  },
  {
   "cell_type": "code",
   "execution_count": 63,
   "metadata": {},
   "outputs": [
    {
     "data": {
      "text/plain": [
       "4407910"
      ]
     },
     "execution_count": 63,
     "metadata": {},
     "output_type": "execute_result"
    }
   ],
   "source": [
    "# len(user_song_df)"
   ]
  },
  {
   "cell_type": "code",
   "execution_count": 64,
   "metadata": {},
   "outputs": [
    {
     "name": "stdout",
     "output_type": "stream",
     "text": [
      "Wall time: 1.12 s\n"
     ]
    }
   ],
   "source": [
    "# %%time\n",
    "# sparse_df = pd.DataFrame( data_sparse.todense() )"
   ]
  },
  {
   "cell_type": "code",
   "execution_count": 92,
   "metadata": {},
   "outputs": [],
   "source": [
    "# sparse_df.head()"
   ]
  },
  {
   "cell_type": "markdown",
   "metadata": {},
   "source": [
    "#### Splitting dataframe into train and test"
   ]
  },
  {
   "cell_type": "code",
   "execution_count": 66,
   "metadata": {},
   "outputs": [
    {
     "data": {
      "text/html": [
       "<div>\n",
       "<style scoped>\n",
       "    .dataframe tbody tr th:only-of-type {\n",
       "        vertical-align: middle;\n",
       "    }\n",
       "\n",
       "    .dataframe tbody tr th {\n",
       "        vertical-align: top;\n",
       "    }\n",
       "\n",
       "    .dataframe thead th {\n",
       "        text-align: right;\n",
       "    }\n",
       "</style>\n",
       "<table border=\"1\" class=\"dataframe\">\n",
       "  <thead>\n",
       "    <tr style=\"text-align: right;\">\n",
       "      <th></th>\n",
       "      <th>count</th>\n",
       "      <th>user_id</th>\n",
       "      <th>song_id_new</th>\n",
       "    </tr>\n",
       "  </thead>\n",
       "  <tbody>\n",
       "    <tr>\n",
       "      <th>0</th>\n",
       "      <td>14</td>\n",
       "      <td>0</td>\n",
       "      <td>708</td>\n",
       "    </tr>\n",
       "    <tr>\n",
       "      <th>1</th>\n",
       "      <td>3</td>\n",
       "      <td>0</td>\n",
       "      <td>1456</td>\n",
       "    </tr>\n",
       "    <tr>\n",
       "      <th>2</th>\n",
       "      <td>1</td>\n",
       "      <td>0</td>\n",
       "      <td>1776</td>\n",
       "    </tr>\n",
       "    <tr>\n",
       "      <th>3</th>\n",
       "      <td>1</td>\n",
       "      <td>0</td>\n",
       "      <td>2001</td>\n",
       "    </tr>\n",
       "    <tr>\n",
       "      <th>4</th>\n",
       "      <td>1</td>\n",
       "      <td>0</td>\n",
       "      <td>2058</td>\n",
       "    </tr>\n",
       "  </tbody>\n",
       "</table>\n",
       "</div>"
      ],
      "text/plain": [
       "   count  user_id  song_id_new\n",
       "0     14        0          708\n",
       "1      3        0         1456\n",
       "2      1        0         1776\n",
       "3      1        0         2001\n",
       "4      1        0         2058"
      ]
     },
     "execution_count": 66,
     "metadata": {},
     "output_type": "execute_result"
    }
   ],
   "source": [
    "user_song_df.head()"
   ]
  },
  {
   "cell_type": "code",
   "execution_count": 67,
   "metadata": {},
   "outputs": [],
   "source": [
    "x = user_song_df[['user_id', 'song_id_new']]\n",
    "y = user_song_df[['count']]"
   ]
  },
  {
   "cell_type": "code",
   "execution_count": 68,
   "metadata": {},
   "outputs": [],
   "source": [
    "from sklearn.model_selection import train_test_split"
   ]
  },
  {
   "cell_type": "code",
   "execution_count": 86,
   "metadata": {},
   "outputs": [],
   "source": [
    "train_data, test_data = \\\n",
    "            train_test_split( user_song_df, test_size=0.33, random_state=42)"
   ]
  },
  {
   "cell_type": "code",
   "execution_count": 87,
   "metadata": {},
   "outputs": [
    {
     "data": {
      "text/html": [
       "<div>\n",
       "<style scoped>\n",
       "    .dataframe tbody tr th:only-of-type {\n",
       "        vertical-align: middle;\n",
       "    }\n",
       "\n",
       "    .dataframe tbody tr th {\n",
       "        vertical-align: top;\n",
       "    }\n",
       "\n",
       "    .dataframe thead th {\n",
       "        text-align: right;\n",
       "    }\n",
       "</style>\n",
       "<table border=\"1\" class=\"dataframe\">\n",
       "  <thead>\n",
       "    <tr style=\"text-align: right;\">\n",
       "      <th></th>\n",
       "      <th>count</th>\n",
       "      <th>user_id</th>\n",
       "      <th>song_id_new</th>\n",
       "    </tr>\n",
       "  </thead>\n",
       "  <tbody>\n",
       "    <tr>\n",
       "      <th>3310463</th>\n",
       "      <td>1</td>\n",
       "      <td>758</td>\n",
       "      <td>292154</td>\n",
       "    </tr>\n",
       "    <tr>\n",
       "      <th>3553887</th>\n",
       "      <td>2</td>\n",
       "      <td>792</td>\n",
       "      <td>1074554</td>\n",
       "    </tr>\n",
       "    <tr>\n",
       "      <th>2131122</th>\n",
       "      <td>1</td>\n",
       "      <td>493</td>\n",
       "      <td>910281</td>\n",
       "    </tr>\n",
       "    <tr>\n",
       "      <th>1308927</th>\n",
       "      <td>6</td>\n",
       "      <td>309</td>\n",
       "      <td>303999</td>\n",
       "    </tr>\n",
       "    <tr>\n",
       "      <th>2964974</th>\n",
       "      <td>3</td>\n",
       "      <td>683</td>\n",
       "      <td>943246</td>\n",
       "    </tr>\n",
       "  </tbody>\n",
       "</table>\n",
       "</div>"
      ],
      "text/plain": [
       "         count  user_id  song_id_new\n",
       "3310463      1      758       292154\n",
       "3553887      2      792      1074554\n",
       "2131122      1      493       910281\n",
       "1308927      6      309       303999\n",
       "2964974      3      683       943246"
      ]
     },
     "execution_count": 87,
     "metadata": {},
     "output_type": "execute_result"
    }
   ],
   "source": [
    "train_data.head()"
   ]
  },
  {
   "cell_type": "code",
   "execution_count": 88,
   "metadata": {},
   "outputs": [
    {
     "data": {
      "text/html": [
       "<div>\n",
       "<style scoped>\n",
       "    .dataframe tbody tr th:only-of-type {\n",
       "        vertical-align: middle;\n",
       "    }\n",
       "\n",
       "    .dataframe tbody tr th {\n",
       "        vertical-align: top;\n",
       "    }\n",
       "\n",
       "    .dataframe thead th {\n",
       "        text-align: right;\n",
       "    }\n",
       "</style>\n",
       "<table border=\"1\" class=\"dataframe\">\n",
       "  <thead>\n",
       "    <tr style=\"text-align: right;\">\n",
       "      <th></th>\n",
       "      <th>count</th>\n",
       "      <th>user_id</th>\n",
       "      <th>song_id_new</th>\n",
       "    </tr>\n",
       "  </thead>\n",
       "  <tbody>\n",
       "    <tr>\n",
       "      <th>3261935</th>\n",
       "      <td>1</td>\n",
       "      <td>745</td>\n",
       "      <td>106099</td>\n",
       "    </tr>\n",
       "    <tr>\n",
       "      <th>1077968</th>\n",
       "      <td>2</td>\n",
       "      <td>249</td>\n",
       "      <td>71161</td>\n",
       "    </tr>\n",
       "    <tr>\n",
       "      <th>686439</th>\n",
       "      <td>1</td>\n",
       "      <td>158</td>\n",
       "      <td>84633</td>\n",
       "    </tr>\n",
       "    <tr>\n",
       "      <th>781735</th>\n",
       "      <td>1</td>\n",
       "      <td>176</td>\n",
       "      <td>868914</td>\n",
       "    </tr>\n",
       "    <tr>\n",
       "      <th>75877</th>\n",
       "      <td>1</td>\n",
       "      <td>16</td>\n",
       "      <td>624799</td>\n",
       "    </tr>\n",
       "  </tbody>\n",
       "</table>\n",
       "</div>"
      ],
      "text/plain": [
       "         count  user_id  song_id_new\n",
       "3261935      1      745       106099\n",
       "1077968      2      249        71161\n",
       "686439       1      158        84633\n",
       "781735       1      176       868914\n",
       "75877        1       16       624799"
      ]
     },
     "execution_count": 88,
     "metadata": {},
     "output_type": "execute_result"
    }
   ],
   "source": [
    "test_data.head()"
   ]
  },
  {
   "cell_type": "markdown",
   "metadata": {},
   "source": [
    "Cython imports for ALS"
   ]
  },
  {
   "cell_type": "code",
   "execution_count": 100,
   "metadata": {},
   "outputs": [],
   "source": [
    "import sys\n",
    "import pandas as pd\n",
    "import numpy as np\n",
    "import scipy.sparse as sparse\n",
    "from scipy.sparse.linalg import spsolve\n",
    "import random\n",
    "\n",
    "from sklearn.preprocessing import MinMaxScaler\n",
    "\n",
    "import implicit # The Cython library"
   ]
  },
  {
   "cell_type": "code",
   "execution_count": null,
   "metadata": {},
   "outputs": [],
   "source": []
  },
  {
   "cell_type": "markdown",
   "metadata": {},
   "source": [
    "Fixing data df"
   ]
  },
  {
   "cell_type": "code",
   "execution_count": 123,
   "metadata": {},
   "outputs": [
    {
     "data": {
      "text/html": [
       "<div>\n",
       "<style scoped>\n",
       "    .dataframe tbody tr th:only-of-type {\n",
       "        vertical-align: middle;\n",
       "    }\n",
       "\n",
       "    .dataframe tbody tr th {\n",
       "        vertical-align: top;\n",
       "    }\n",
       "\n",
       "    .dataframe thead th {\n",
       "        text-align: right;\n",
       "    }\n",
       "</style>\n",
       "<table border=\"1\" class=\"dataframe\">\n",
       "  <thead>\n",
       "    <tr style=\"text-align: right;\">\n",
       "      <th></th>\n",
       "      <th>userid</th>\n",
       "      <th>song</th>\n",
       "      <th>count</th>\n",
       "      <th>user_id</th>\n",
       "      <th>song_id_new</th>\n",
       "    </tr>\n",
       "  </thead>\n",
       "  <tbody>\n",
       "    <tr>\n",
       "      <th>0</th>\n",
       "      <td>user_000001</td>\n",
       "      <td>'84 Pontiac Dream</td>\n",
       "      <td>14</td>\n",
       "      <td>0</td>\n",
       "      <td>708</td>\n",
       "    </tr>\n",
       "    <tr>\n",
       "      <th>1</th>\n",
       "      <td>user_000001</td>\n",
       "      <td>(All I Wanted Was To Make You) Feel Good</td>\n",
       "      <td>3</td>\n",
       "      <td>0</td>\n",
       "      <td>1456</td>\n",
       "    </tr>\n",
       "    <tr>\n",
       "      <th>2</th>\n",
       "      <td>user_000001</td>\n",
       "      <td>(D)Ecaying Beauty</td>\n",
       "      <td>1</td>\n",
       "      <td>0</td>\n",
       "      <td>1776</td>\n",
       "    </tr>\n",
       "    <tr>\n",
       "      <th>3</th>\n",
       "      <td>user_000001</td>\n",
       "      <td>(Far From) Home</td>\n",
       "      <td>1</td>\n",
       "      <td>0</td>\n",
       "      <td>2001</td>\n",
       "    </tr>\n",
       "    <tr>\n",
       "      <th>4</th>\n",
       "      <td>user_000001</td>\n",
       "      <td>(Get Off Your) High Horse Lady</td>\n",
       "      <td>1</td>\n",
       "      <td>0</td>\n",
       "      <td>2058</td>\n",
       "    </tr>\n",
       "  </tbody>\n",
       "</table>\n",
       "</div>"
      ],
      "text/plain": [
       "        userid                                      song  count  user_id  \\\n",
       "0  user_000001                         '84 Pontiac Dream     14        0   \n",
       "1  user_000001  (All I Wanted Was To Make You) Feel Good      3        0   \n",
       "2  user_000001                         (D)Ecaying Beauty      1        0   \n",
       "3  user_000001                           (Far From) Home      1        0   \n",
       "4  user_000001            (Get Off Your) High Horse Lady      1        0   \n",
       "\n",
       "   song_id_new  \n",
       "0          708  \n",
       "1         1456  \n",
       "2         1776  \n",
       "3         2001  \n",
       "4         2058  "
      ]
     },
     "execution_count": 123,
     "metadata": {},
     "output_type": "execute_result"
    }
   ],
   "source": [
    "user_song_df_count.head()"
   ]
  },
  {
   "cell_type": "code",
   "execution_count": 124,
   "metadata": {},
   "outputs": [
    {
     "name": "stdout",
     "output_type": "stream",
     "text": [
      "Wall time: 652 ms\n"
     ]
    }
   ],
   "source": [
    "%%time\n",
    "sparse_item_user = sparse.csr_matrix((user_song_df_count['count'].astype(float), \n",
    "                                      (user_song_df_count['song_id_new'], user_song_df['user_id'])))\n",
    "\n",
    "sparse_user_item = sparse.csr_matrix((user_song_df_count['count'].astype(float), \n",
    "                                      (user_song_df_count['user_id'], user_song_df['song_id_new'])))"
   ]
  },
  {
   "cell_type": "code",
   "execution_count": 125,
   "metadata": {},
   "outputs": [
    {
     "name": "stdout",
     "output_type": "stream",
     "text": [
      "Wall time: 39.9 ms\n"
     ]
    }
   ],
   "source": [
    "%%time\n",
    "# Initialize the als model and fit it using the sparse item-user matrix\n",
    "model = implicit.als.AlternatingLeastSquares(factors=20, regularization=0.1, iterations=20)\n",
    "\n",
    "# Calculate the confidence by multiplying it by our alpha value.\n",
    "alpha_val = 15\n",
    "data_conf = (sparse_item_user * alpha_val).astype('double')"
   ]
  },
  {
   "cell_type": "code",
   "execution_count": 126,
   "metadata": {},
   "outputs": [
    {
     "name": "stderr",
     "output_type": "stream",
     "text": [
      "100%|████████████████████████████████████████████████████████████████████████████████| 20.0/20 [00:19<00:00,  1.02it/s]\n"
     ]
    },
    {
     "name": "stdout",
     "output_type": "stream",
     "text": [
      "Wall time: 20 s\n"
     ]
    }
   ],
   "source": [
    "%%time\n",
    "# Fit the model\n",
    "model.fit(data_conf)"
   ]
  },
  {
   "cell_type": "code",
   "execution_count": null,
   "metadata": {},
   "outputs": [],
   "source": []
  },
  {
   "cell_type": "markdown",
   "metadata": {},
   "source": [
    "\n",
    "### FIND SIMILAR ITEMS\n"
   ]
  },
  {
   "cell_type": "code",
   "execution_count": 137,
   "metadata": {},
   "outputs": [
    {
     "data": {
      "text/html": [
       "<div>\n",
       "<style scoped>\n",
       "    .dataframe tbody tr th:only-of-type {\n",
       "        vertical-align: middle;\n",
       "    }\n",
       "\n",
       "    .dataframe tbody tr th {\n",
       "        vertical-align: top;\n",
       "    }\n",
       "\n",
       "    .dataframe thead th {\n",
       "        text-align: right;\n",
       "    }\n",
       "</style>\n",
       "<table border=\"1\" class=\"dataframe\">\n",
       "  <thead>\n",
       "    <tr style=\"text-align: right;\">\n",
       "      <th></th>\n",
       "      <th>userid</th>\n",
       "      <th>song</th>\n",
       "      <th>count</th>\n",
       "      <th>user_id</th>\n",
       "      <th>song_id_new</th>\n",
       "    </tr>\n",
       "  </thead>\n",
       "  <tbody>\n",
       "    <tr>\n",
       "      <th>2819819</th>\n",
       "      <td>user_000681</td>\n",
       "      <td>Brother'S Gonna Work It Out / Not Another Drug...</td>\n",
       "      <td>3</td>\n",
       "      <td>673</td>\n",
       "      <td>147068</td>\n",
       "    </tr>\n",
       "  </tbody>\n",
       "</table>\n",
       "</div>"
      ],
      "text/plain": [
       "              userid                                               song  \\\n",
       "2819819  user_000681  Brother'S Gonna Work It Out / Not Another Drug...   \n",
       "\n",
       "         count  user_id  song_id_new  \n",
       "2819819      3      673       147068  "
      ]
     },
     "execution_count": 137,
     "metadata": {},
     "output_type": "execute_result"
    }
   ],
   "source": [
    "user_song_df_count[ user_song_df_count['song_id_new'] == 147068 ]"
   ]
  },
  {
   "cell_type": "code",
   "execution_count": 127,
   "metadata": {},
   "outputs": [
    {
     "name": "stdout",
     "output_type": "stream",
     "text": [
      "Mapami\n",
      "Lifeless Zone\n",
      "God Bless Les Paul\n",
      "Tiroteio\n",
      "Sine Music (A Swarm Of Butterflies Encountered Over The Ocean)\n",
      "Cathy'S Clown (Live)\n",
      "Shape Up (Demo)\n",
      "25 Minutes To Go (Feat. Frankie & Johnny Navin)\n",
      "Get On The Stick (Studio Demo)\n",
      "Be A Sect Maniac\n"
     ]
    }
   ],
   "source": [
    "# Find the 10 most similar to item-id:\n",
    "item_id = 147068 #some song\n",
    "n_similar = 10\n",
    "\n",
    "# Use implicit to get similar items.\n",
    "similar = model.similar_items(item_id, n_similar)\n",
    "\n",
    "# Print the names of our most similar artists\n",
    "for item in similar:\n",
    "    idx, score = item\n",
    "    print (user_song_df_count.song.loc[user_song_df.song_id_new == idx].iloc[0] )\n"
   ]
  },
  {
   "cell_type": "markdown",
   "metadata": {},
   "source": [
    "### CREATE USER RECOMMENDATIONS"
   ]
  },
  {
   "cell_type": "code",
   "execution_count": 143,
   "metadata": {},
   "outputs": [
    {
     "name": "stdout",
     "output_type": "stream",
     "text": [
      "Top 10 recommendations for user_id: 150\n",
      "                               Song     score\n",
      "0            No Woman No Cry (Live)  1.214044\n",
      "1                You Better You Bet  1.208812\n",
      "2                        Sexy Sadie  1.189125\n",
      "3             Complicated Situation  1.186211\n",
      "4   Still Suspicion Holds You Tight  1.179274\n",
      "5                 Sympathetic Noose  1.178663\n",
      "6      The Big Three Killed My Baby  1.174468\n",
      "7                     Pure And Easy  1.170002\n",
      "8                  Ball And Biscuit  1.168398\n",
      "9  The Same Boy You'Ve Always Known  1.158374\n"
     ]
    }
   ],
   "source": [
    "# Create recommendations for user with id 150\n",
    "user_id = 150\n",
    "\n",
    "# Use the implicit recommender.\n",
    "recommended = model.recommend(user_id, sparse_user_item)\n",
    "\n",
    "artists = []\n",
    "scores = []\n",
    "\n",
    "# Get artist names from ids\n",
    "for item in recommended:\n",
    "    idx, score = item\n",
    "    artists.append(user_song_df_count.song.loc[user_song_df_count.song_id_new == idx].iloc[0])\n",
    "    scores.append(score)\n",
    "\n",
    "# Create a dataframe of artist names and scores\n",
    "recommendations = pd.DataFrame({'Song': artists, 'score': scores})\n",
    "\n",
    "print (\"Top 10 recommendations for user_id:\", user_id)\n",
    "print (recommendations)"
   ]
  },
  {
   "cell_type": "code",
   "execution_count": null,
   "metadata": {},
   "outputs": [],
   "source": []
  },
  {
   "cell_type": "code",
   "execution_count": null,
   "metadata": {},
   "outputs": [],
   "source": []
  },
  {
   "cell_type": "markdown",
   "metadata": {},
   "source": [
    "temp stuff"
   ]
  },
  {
   "cell_type": "code",
   "execution_count": null,
   "metadata": {},
   "outputs": [],
   "source": []
  },
  {
   "cell_type": "code",
   "execution_count": 145,
   "metadata": {},
   "outputs": [],
   "source": [
    "# user_song_df_count_temp = user_song_df_count[user_song_df_count['Count'] > 10 ]"
   ]
  },
  {
   "cell_type": "code",
   "execution_count": 146,
   "metadata": {},
   "outputs": [],
   "source": [
    "# len( user_song_df_count_temp )"
   ]
  },
  {
   "cell_type": "code",
   "execution_count": null,
   "metadata": {},
   "outputs": [],
   "source": []
  },
  {
   "cell_type": "code",
   "execution_count": null,
   "metadata": {},
   "outputs": [],
   "source": []
  },
  {
   "cell_type": "markdown",
   "metadata": {},
   "source": [
    "##### making pivot table"
   ]
  },
  {
   "cell_type": "code",
   "execution_count": 30,
   "metadata": {},
   "outputs": [],
   "source": [
    "# user_song_df_count_dropIndex = user_song_df_count_temp.reset_index()"
   ]
  },
  {
   "cell_type": "code",
   "execution_count": 36,
   "metadata": {},
   "outputs": [],
   "source": [
    "# %%time\n",
    "# table = pd.pivot_table(user_song_df_count_temp, values='Count', index=['userid'], columns=['song'], fill_value=0)"
   ]
  },
  {
   "cell_type": "code",
   "execution_count": 144,
   "metadata": {},
   "outputs": [],
   "source": [
    "# table"
   ]
  },
  {
   "cell_type": "code",
   "execution_count": null,
   "metadata": {},
   "outputs": [],
   "source": [
    "# from scipy.sparse import csr_matrix"
   ]
  },
  {
   "cell_type": "code",
   "execution_count": null,
   "metadata": {},
   "outputs": [],
   "source": [
    "# %%time\n",
    "# utility_csr= csr_matrix(\n",
    "#             [ user_song_df_count_dropIndex.Count.astype(int), \n",
    "#               user_song_df_count_dropIndex.userid.astype(str),\n",
    "#               user_song_df_count_dropIndex.song.astype(str)\n",
    "#             ]\n",
    "#            )"
   ]
  },
  {
   "cell_type": "code",
   "execution_count": null,
   "metadata": {},
   "outputs": [],
   "source": [
    "# %%time\n",
    "# utility_csr = csr_matrix( (\n",
    "#                             user_song_df_count_dropIndex.Count.values, \n",
    "#                             ( \n",
    "#                              user_song_df_count_dropIndex.userid.values , \n",
    "#                              user_song_df_count_dropIndex.song.values \n",
    "#                             )\n",
    "#                           )\n",
    "#                         )"
   ]
  },
  {
   "cell_type": "code",
   "execution_count": null,
   "metadata": {
    "scrolled": true
   },
   "outputs": [],
   "source": [
    "# user_song_df_count_dropIndex.userid.values"
   ]
  },
  {
   "cell_type": "code",
   "execution_count": null,
   "metadata": {
    "scrolled": true
   },
   "outputs": [],
   "source": [
    "# user_song_df_count['userid']"
   ]
  },
  {
   "cell_type": "code",
   "execution_count": null,
   "metadata": {},
   "outputs": [],
   "source": [
    "# column"
   ]
  }
 ],
 "metadata": {
  "kernelspec": {
   "display_name": "sparkenv",
   "language": "python",
   "name": "sparkenv"
  },
  "language_info": {
   "codemirror_mode": {
    "name": "ipython",
    "version": 3
   },
   "file_extension": ".py",
   "mimetype": "text/x-python",
   "name": "python",
   "nbconvert_exporter": "python",
   "pygments_lexer": "ipython3",
   "version": "3.7.1"
  }
 },
 "nbformat": 4,
 "nbformat_minor": 2
}
