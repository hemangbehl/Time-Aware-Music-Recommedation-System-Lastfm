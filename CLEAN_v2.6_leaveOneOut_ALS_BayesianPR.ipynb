{
 "cells": [
  {
   "cell_type": "code",
   "execution_count": 1,
   "metadata": {},
   "outputs": [],
   "source": [
    "# import the usual\n",
    "# import matplotlib.pyplot as plt\n",
    "import pandas as pd\n",
    "# import seaborn as sns\n",
    "import numpy as np\n",
    "# import hashlib\n",
    "import datetime\n",
    "#import surprise\n",
    "#from surprise import SVD\n",
    "%matplotlib inline\n",
    "pd.set_option('display.max_columns', 500)\n",
    "\n",
    "import sys\n",
    "import pandas as pd\n",
    "import numpy as np\n",
    "import scipy.sparse as sparse\n",
    "from scipy.sparse.linalg import spsolve\n",
    "import random\n",
    "\n",
    "from sklearn.preprocessing import MinMaxScaler\n",
    "\n",
    "import implicit # The Cython library\n"
   ]
  },
  {
   "cell_type": "code",
   "execution_count": 2,
   "metadata": {},
   "outputs": [],
   "source": [
    "## create function to recommend using ALS for user_id\n",
    "def ALS_recommend_for_user(model_given, user_id, sparse_user_item_field, N , orig_df ): #will add moe parameters later\n",
    "    #user_id = 150\n",
    "    ##### can be used for any model\n",
    "    # Use the implicit recommender.\n",
    "    #recommended = model.recommend(user_id, sparse_user_item, N, filter_already_liked_items = False)\n",
    "    # got zero\n",
    "    \n",
    "    recommended = model_given.recommend(user_id, sparse_user_item_field, N )\n",
    "    \n",
    "    songs = []\n",
    "    scores = []\n",
    "    song_id_new_list = []\n",
    "    \n",
    "    # Get artist names from ids\n",
    "    for item in recommended:\n",
    "        idx, score = item\n",
    "        #songs.append(user_song_df_count.song.loc[user_song_df_count.song_id_new == idx].iloc[0])\n",
    "        #orig_df\n",
    "        songs.append(user_song_df_count.song.loc[orig_df.song_id_new == idx].iloc[0])\n",
    "        scores.append(score)\n",
    "        #song_id_new_list.append(idx) #idx is not what it seems\n",
    "\n",
    "    # Create a dataframe of artist names and scores\n",
    "    recommendations = pd.DataFrame({'Song': songs, 'score': scores})\n",
    "    #recommendations = pd.DataFrame({'Song': songs, 'song_id_new': song_id_new_list, 'score': scores})\n",
    "\n",
    "    #print (\"Top \", N, \"recommendations for user_id:\", user_id)\n",
    "    return (recommendations)"
   ]
  },
  {
   "cell_type": "code",
   "execution_count": 3,
   "metadata": {},
   "outputs": [],
   "source": [
    "import random\n",
    "\n",
    "def make_train(ratings, pct_test = 0.2):\n",
    "    test_set = ratings.copy() # Make a copy of the original set to be the test set. \n",
    "    test_set[test_set != 0] = 1 # Store the test set as a binary preference matrix\n",
    "    \n",
    "    training_set = ratings.copy() # Make a copy of the original data we can alter as our training set. \n",
    "    \n",
    "    nonzero_inds = training_set.nonzero() # Find the indices in the ratings data where an interaction exists\n",
    "    nonzero_pairs = list(zip(nonzero_inds[0], nonzero_inds[1])) # Zip these pairs together of item,user index into list\n",
    "\n",
    "    \n",
    "    random.seed(0) # Set the random seed to zero for reproducibility\n",
    "    \n",
    "    num_samples = int(np.ceil(pct_test*len(nonzero_pairs))) # Round the number of samples needed to the nearest integer\n",
    "    samples = random.sample(nonzero_pairs, num_samples) # Sample a random number of item-user pairs without replacement\n",
    "\n",
    "    item_inds = [index[0] for index in samples] # Get the item row indices\n",
    "\n",
    "    user_inds = [index[1] for index in samples] # Get the user column indices\n",
    "\n",
    "    \n",
    "    training_set[item_inds, user_inds] = 0 # Assign all of the randomly chosen user-item pairs to zero\n",
    "    training_set.eliminate_zeros() # Get rid of zeros in sparse array storage after update to save space\n",
    "    \n",
    "    return training_set, test_set, list(set(user_inds)) # Output the unique list of user columns that were altered"
   ]
  },
  {
   "cell_type": "code",
   "execution_count": 4,
   "metadata": {},
   "outputs": [],
   "source": [
    "from sklearn import metrics\n",
    "import matplotlib.pylab as plt\n",
    "def auc_score(predictions, test):\n",
    "    '''   \n",
    "    returns: - AUC (area under the Receiver Operating Characterisic curve)\n",
    "    '''\n",
    "    fpr, tpr, thresholds = metrics.roc_curve(test, predictions)\n",
    "    return metrics.auc(fpr, tpr) \n",
    "\n",
    "def calc_mean_auc(training_set, altered_users, predictions, test_set):\n",
    "        \n",
    "    store_auc = [] # An empty list to store the AUC for each user that had an item removed from the training set\n",
    "    popularity_auc = [] # To store popular AUC scores\n",
    "    pop_items = np.array(test_set.sum(axis = 1)).reshape(-1) # Get sum of item iteractions to find most popular\n",
    "    item_vecs = predictions[1]\n",
    "    for user in altered_users: # Iterate through each user that had an item altered\n",
    "        training_column = training_set[:,user].toarray().reshape(-1) # Get the training set column\n",
    "        zero_inds = np.where(training_column == 0) # Find where the interaction had not yet occurred\n",
    "        \n",
    "        # Get the predicted values based on our user/item vectors\n",
    "        user_vec = predictions[0][user,:]\n",
    "        pred = user_vec.dot(item_vecs).toarray()[0,zero_inds].reshape(-1)\n",
    "        \n",
    "        # Get only the items that were originally zero\n",
    "        # Select all ratings from the MF prediction for this user that originally had no iteraction\n",
    "        actual = test_set[:,user].toarray()[zero_inds,0].reshape(-1)\n",
    "        \n",
    "        # Select the binarized yes/no interaction pairs from the original full data\n",
    "        # that align with the same pairs in training \n",
    "        pop = pop_items[zero_inds] # Get the item popularity for our chosen items\n",
    "        \n",
    "        store_auc.append(auc_score(pred, actual)) # Calculate AUC for the given user and store\n",
    "        \n",
    "        popularity_auc.append(auc_score(pop, actual)) # Calculate AUC using most popular and score\n",
    "    # End users iteration\n",
    "    \n",
    "    return float('%.3f'%np.mean(store_auc)), float('%.3f'%np.mean(popularity_auc))  \n",
    "   # Return the mean AUC rounded to three decimal places for both test and popularity benchmark\n",
    "\n"
   ]
  },
  {
   "cell_type": "markdown",
   "metadata": {},
   "source": [
    "## Read slot data here for user_song_df_count"
   ]
  },
  {
   "cell_type": "code",
   "execution_count": 39,
   "metadata": {},
   "outputs": [],
   "source": [
    "slot1 = pd.read_csv(r\"F:\\Data_Repository\\lastfm\\df_slot1.tsv\", sep=\"\\t\", error_bad_lines=False, header = None)\n",
    "slot2 = pd.read_csv(r\"F:\\Data_Repository\\lastfm\\df_slot2.tsv\", sep=\"\\t\", error_bad_lines=False, header = None)\n",
    "slot3 = pd.read_csv(r\"F:\\Data_Repository\\lastfm\\df_slot3.tsv\", sep=\"\\t\", error_bad_lines=False, header = None)\n",
    "slot4 = pd.read_csv(r\"F:\\Data_Repository\\lastfm\\df_slot4.tsv\", sep=\"\\t\", error_bad_lines=False, header = None)"
   ]
  },
  {
   "cell_type": "code",
   "execution_count": 40,
   "metadata": {},
   "outputs": [],
   "source": [
    "slots = [slot1, slot2, slot3, slot4]\n",
    "#loop through the slots"
   ]
  },
  {
   "cell_type": "code",
   "execution_count": null,
   "metadata": {},
   "outputs": [],
   "source": [
    "slotid = 1\n",
    "for user_song_df_count in slots:\n",
    "    print (\"*** Slot no. = \", slotid)\n",
    "    user_song_df_count.columns = ['userid', 'song', 'count']\n",
    "    # Convert userid and song names into numerical IDs\n",
    "    user_song_df_count['user_id'] = user_song_df_count['userid'].astype(\"category\").cat.codes\n",
    "    user_song_df_count['song_id_new'] = user_song_df_count['song'].astype(\"category\").cat.codes\n",
    "\n",
    "    # Create a lookup frame so we can get the artist names back in \n",
    "    # readable form later.\n",
    "    item_lookup = user_song_df_count[['song_id_new', 'song']].drop_duplicates()\n",
    "    item_lookup['song_id_new'] = item_lookup.song_id_new.astype(str)\n",
    "\n",
    "    user_song_df = user_song_df_count.drop( ['userid', 'song'], axis = 1)\n",
    "\n",
    "    M = 20000000 #slice of df\n",
    "\n",
    "    altered_songid_new_list = user_song_df.loc[user_song_df[:M].groupby('user_id')['song_id_new'].head(1).index, 'song_id_new']\n",
    "    user_song_df.loc[user_song_df[:M].groupby('user_id')['count'].head(1).index, 'count'] = np.NaN\n",
    "    altered_user_id_list = user_song_df.loc[user_song_df[:M].groupby('user_id')['user_id'].head(1).index, 'user_id']\n",
    "\n",
    "    altered_user_id_list = altered_user_id_list.reset_index(drop = True) \n",
    "    altered_songid_new_list = altered_songid_new_list.reset_index(drop = True) \n",
    "    print (len(altered_songid_new_list), \"users changed\" )\n",
    "    user_song_df = user_song_df.dropna()     #drop all rows that have any NaN values\n",
    "    #\n",
    "    # Create lists of all users, songs and counts\n",
    "    users = list(np.sort(user_song_df.user_id.unique()))\n",
    "    songs = list(np.sort(user_song_df.song_id_new.unique()))\n",
    "    counts = list(user_song_df['count'])\n",
    "\n",
    "\n",
    "    sparse_item_user = sparse.csr_matrix((user_song_df['count'].astype(float), \n",
    "                                          (user_song_df['song_id_new'], user_song_df['user_id'])))\n",
    "\n",
    "    sparse_user_item = sparse.csr_matrix((user_song_df['count'].astype(float), \n",
    "                                          (user_song_df['user_id'], user_song_df['song_id_new'])))\n",
    "    \n",
    "    topn = 500\n",
    "    \n",
    "    ##ALS IMPLICIT\n",
    "    print(\"\")\n",
    "    print (\"###ALS IMPLICIT model\")\n",
    "    # Initialize the als model and fit it using the sparse item-user matrix\n",
    "    model = implicit.als.AlternatingLeastSquares(factors=20, regularization=0.1, iterations=20)\n",
    "\n",
    "    # Calculate the confidence by multiplying it by our alpha value.\n",
    "    alpha_val = 15\n",
    "    data_conf = (sparse_item_user * alpha_val).astype('double')\n",
    "\n",
    "    model.fit(data_conf)\n",
    "\n",
    "    altered_songid_new_list = altered_songid_new_list.reset_index(drop = True) \n",
    "\n",
    "\n",
    "    cnt_total = []\n",
    "    index1 = 0\n",
    "\n",
    "    for idx in altered_user_id_list[:200]:\n",
    "        #print(index1)\n",
    "        recommendation_ans = ALS_recommend_for_user(model, idx, sparse_user_item, topn, user_song_df_count)\n",
    "        \n",
    "        ans = pd.Series(recommendation_ans['Song'].isin(                   \n",
    "            user_song_df_count [user_song_df_count['user_id']== idx ] ['song']).values.astype(int),\n",
    "                        recommendation_ans['Song'].values)==1\n",
    "        \n",
    "        cnt = 0\n",
    "        for i in ans:\n",
    "            if i == True:\n",
    "                cnt += 1 #increment if found true\n",
    "        cnt_total.append ( cnt ) #append to total found\n",
    "        index1 += 1\n",
    "\n",
    "    N = len(recommendation_ans) #what N was set as, no. of items we recommended\n",
    "    precision = []\n",
    "\n",
    "    for i in range(len(cnt_total)): #loop 0 to N-1\n",
    "        precision.append( cnt_total[i] / N )\n",
    "\n",
    "    print(\"Precision at rank \", N)\n",
    "    #precision\n",
    "    print ( sum(precision) / len(precision) )\n",
    "\n",
    "    ###Bayesian personalised ranking\n",
    "    print(\"\")\n",
    "    print ( \"####Bayesian Personalised Ranking model\")\n",
    "\n",
    "    modelBayesian = implicit.bpr.BayesianPersonalizedRanking(factors=20, regularization=0.1, iterations=20)\n",
    "    # Calculate the confidence by multiplying it by our alpha value.\n",
    "    alpha_val = 15\n",
    "    data_conf = (sparse_item_user * alpha_val).astype('double')\n",
    "    #fit model\n",
    "    modelBayesian.fit(data_conf)\n",
    "    \n",
    "    \n",
    "    cnt_total = []\n",
    "    index1 = 0\n",
    "    for idx in altered_user_id_list[:50]:\n",
    "        #print(index1)\n",
    "        recommendation_ans = ALS_recommend_for_user(modelBayesian, idx, sparse_user_item, topn, user_song_df_count)\n",
    "        \n",
    "        ans = pd.Series(recommendation_ans['Song'].isin(                   \n",
    "            user_song_df_count [user_song_df_count['user_id']== idx ] ['song']).values.astype(int),\n",
    "                        recommendation_ans['Song'].values)==1\n",
    "        \n",
    "        cnt = 0\n",
    "        for i in ans:\n",
    "            if i == True:\n",
    "                cnt += 1 #increment if found true\n",
    "        cnt_total.append ( cnt ) #append to total found\n",
    "        index1 += 1\n",
    "\n",
    "    N = len(recommendation_ans) #what N was set as, no. of items we recommended\n",
    "    precision = []\n",
    "\n",
    "    for i in range(len(cnt_total)): #loop 0 to N-1\n",
    "        precision.append( cnt_total[i] / N )\n",
    "\n",
    "    print(\"Precision at rank \", N)\n",
    "    #precision\n",
    "    print (sum(precision) / len(precision) )\n",
    "    \n",
    "    slotid += 1\n",
    "\n"
   ]
  },
  {
   "cell_type": "markdown",
   "metadata": {},
   "source": [
    "## AUC Curve evaluation"
   ]
  },
  {
   "cell_type": "markdown",
   "metadata": {},
   "source": [
    "We compare our model against a simple popularity based model (which just recommends the most popular items). This type of evaluation is a ranking metric which shows the percentage of good recommendations vs the poor ones."
   ]
  },
  {
   "cell_type": "code",
   "execution_count": 8,
   "metadata": {},
   "outputs": [],
   "source": [
    "slot1 = pd.read_csv(r\"F:\\Data_Repository\\lastfm\\df_slot1.tsv\", sep=\"\\t\", error_bad_lines=False, header = None)\n",
    "slot2 = pd.read_csv(r\"F:\\Data_Repository\\lastfm\\df_slot2.tsv\", sep=\"\\t\", error_bad_lines=False, header = None)\n",
    "slot3 = pd.read_csv(r\"F:\\Data_Repository\\lastfm\\df_slot3.tsv\", sep=\"\\t\", error_bad_lines=False, header = None)\n",
    "slot4 = pd.read_csv(r\"F:\\Data_Repository\\lastfm\\df_slot4.tsv\", sep=\"\\t\", error_bad_lines=False, header = None)\n",
    "slots = [slot1, slot2, slot3, slot4]\n",
    "#loop through the slots"
   ]
  },
  {
   "cell_type": "code",
   "execution_count": 9,
   "metadata": {
    "scrolled": false
   },
   "outputs": [
    {
     "name": "stdout",
     "output_type": "stream",
     "text": [
      "*** Slot no. =  1\n",
      "\n",
      "###ALS IMPLICIT model\n"
     ]
    },
    {
     "name": "stderr",
     "output_type": "stream",
     "text": [
      "100%|████████████████████████████████████████████████████████████████████████████████| 20.0/20 [00:00<00:00, 44.76it/s]\n"
     ]
    },
    {
     "name": "stdout",
     "output_type": "stream",
     "text": [
      "(0.743, 0.63)\n",
      "\n",
      "\n",
      "####Bayesian Personalised Ranking model\n"
     ]
    },
    {
     "name": "stderr",
     "output_type": "stream",
     "text": [
      "100%|██████████████████████████████████████████████████| 10/10 [00:00<00:00, 91.15it/s, correct=52.60%, skipped=19.54%]\n"
     ]
    },
    {
     "name": "stdout",
     "output_type": "stream",
     "text": [
      "(0.743, 0.63)\n",
      "*** Slot no. =  2\n",
      "\n",
      "###ALS IMPLICIT model\n"
     ]
    },
    {
     "name": "stderr",
     "output_type": "stream",
     "text": [
      "100%|████████████████████████████████████████████████████████████████████████████████| 20.0/20 [00:00<00:00, 46.64it/s]\n"
     ]
    },
    {
     "name": "stdout",
     "output_type": "stream",
     "text": [
      "(0.76, 0.643)\n",
      "\n",
      "\n",
      "####Bayesian Personalised Ranking model\n"
     ]
    },
    {
     "name": "stderr",
     "output_type": "stream",
     "text": [
      "100%|██████████████████████████████████████████████████| 10/10 [00:00<00:00, 86.44it/s, correct=51.92%, skipped=17.42%]\n"
     ]
    },
    {
     "name": "stdout",
     "output_type": "stream",
     "text": [
      "(0.76, 0.643)\n",
      "*** Slot no. =  3\n",
      "\n",
      "###ALS IMPLICIT model\n"
     ]
    },
    {
     "name": "stderr",
     "output_type": "stream",
     "text": [
      "100%|████████████████████████████████████████████████████████████████████████████████| 20.0/20 [00:00<00:00, 31.58it/s]\n"
     ]
    },
    {
     "name": "stdout",
     "output_type": "stream",
     "text": [
      "(0.764, 0.635)\n",
      "\n",
      "\n",
      "####Bayesian Personalised Ranking model\n"
     ]
    },
    {
     "name": "stderr",
     "output_type": "stream",
     "text": [
      "100%|██████████████████████████████████████████████████| 10/10 [00:00<00:00, 62.67it/s, correct=52.39%, skipped=20.02%]\n"
     ]
    },
    {
     "name": "stdout",
     "output_type": "stream",
     "text": [
      "(0.764, 0.635)\n",
      "*** Slot no. =  4\n",
      "\n",
      "###ALS IMPLICIT model\n"
     ]
    },
    {
     "name": "stderr",
     "output_type": "stream",
     "text": [
      "100%|████████████████████████████████████████████████████████████████████████████████| 20.0/20 [00:00<00:00, 32.66it/s]\n"
     ]
    },
    {
     "name": "stdout",
     "output_type": "stream",
     "text": [
      "(0.766, 0.636)\n",
      "\n",
      "\n",
      "####Bayesian Personalised Ranking model\n"
     ]
    },
    {
     "name": "stderr",
     "output_type": "stream",
     "text": [
      "100%|██████████████████████████████████████████████████| 10/10 [00:00<00:00, 62.67it/s, correct=52.33%, skipped=21.18%]\n"
     ]
    },
    {
     "name": "stdout",
     "output_type": "stream",
     "text": [
      "(0.766, 0.636)\n",
      "Wall time: 24.7 s\n"
     ]
    }
   ],
   "source": [
    "%%time\n",
    "slotid = 1\n",
    "for user_song_df_count in slots:\n",
    "    print (\"*** Slot no. = \", slotid)\n",
    "    user_song_df_count.columns = ['userid', 'song', 'count']\n",
    "    # Convert userid and song names into numerical IDs\n",
    "    user_song_df_count['user_id'] = user_song_df_count['userid'].astype(\"category\").cat.codes\n",
    "    user_song_df_count['song_id_new'] = user_song_df_count['song'].astype(\"category\").cat.codes\n",
    "\n",
    "    # Create a lookup frame so we can get the artist names back in \n",
    "    # readable form later.\n",
    "    item_lookup = user_song_df_count[['song_id_new', 'song']].drop_duplicates()\n",
    "    item_lookup['song_id_new'] = item_lookup.song_id_new.astype(str)\n",
    "\n",
    "    user_song_df = user_song_df_count.drop( ['userid', 'song'], axis = 1)\n",
    "\n",
    "    # M = 20000000 #slice of df\n",
    "    # \n",
    "    # altered_songid_new_list = user_song_df.loc[user_song_df[:M].groupby('user_id')['song_id_new'].head(1).index, 'song_id_new']\n",
    "    # user_song_df.loc[user_song_df[:M].groupby('user_id')['count'].head(1).index, 'count'] = np.NaN\n",
    "    # altered_user_id_list = user_song_df.loc[user_song_df[:M].groupby('user_id')['user_id'].head(1).index, 'user_id']\n",
    "    # \n",
    "    # altered_user_id_list = altered_user_id_list.reset_index(drop = True) \n",
    "    # altered_songid_new_list = altered_songid_new_list.reset_index(drop = True) \n",
    "    # print (len(altered_songid_new_list), \"users changed\" )\n",
    "    # user_song_df = user_song_df.dropna()     #drop all rows that have any NaN values\n",
    "    # #\n",
    "    # # Create lists of all users, songs and counts\n",
    "    # users = list(np.sort(user_song_df.user_id.unique()))\n",
    "    # songs = list(np.sort(user_song_df.song_id_new.unique()))\n",
    "    # counts = list(user_song_df['count'])\n",
    "\n",
    "\n",
    "    sparse_item_user = sparse.csr_matrix((user_song_df['count'].astype(float), \n",
    "                                          (user_song_df['song_id_new'], user_song_df['user_id'])))\n",
    "\n",
    "    sparse_user_item = sparse.csr_matrix((user_song_df['count'].astype(float), \n",
    "                                          (user_song_df['user_id'], user_song_df['song_id_new'])))\n",
    "\n",
    "    ##ALS IMPLICIT\n",
    "    print(\"\")\n",
    "    print (\"###ALS IMPLICIT model\")\n",
    "    # Initialize the als model and fit it using the sparse item-user matrix\n",
    "    product_train, product_test, product_users_altered = make_train(sparse_item_user, pct_test = 0.05)\n",
    "    model = implicit.als.AlternatingLeastSquares(factors=20, regularization=0.1, iterations=20)\n",
    "\n",
    "    # Calculate the confidence by multiplying it by our alpha value.\n",
    "    alpha_val = 15\n",
    "    data_conf = (product_train * alpha_val).astype('double')\n",
    "\n",
    "    model.fit(data_conf)\n",
    "    item_vecs = model.item_factors\n",
    "    user_vecs = model.user_factors\n",
    "\n",
    "    print ( calc_mean_auc(product_train, product_users_altered,\n",
    "                  [sparse.csr_matrix(user_vecs), sparse.csr_matrix(item_vecs.T)], product_test) )\n",
    "    # AUC for our recommender system    \n",
    "    ###Bayesian personalised ranking\n",
    "    print(\"\")\n",
    "    ###Bayesian personalised ranking\n",
    "    print(\"\")\n",
    "    print ( \"####Bayesian Personalised Ranking model\")\n",
    "\n",
    "    modelBayesian = implicit.bpr.BayesianPersonalizedRanking(factors=10, regularization=0.3, iterations=10)\n",
    "    # Calculate the confidence by multiplying it by our alpha value.\n",
    "    alpha_val = 30\n",
    "    data_conf = (sparse_item_user * alpha_val).astype('double')\n",
    "    #fit model\n",
    "    modelBayesian.fit(data_conf)\n",
    "    item_vecs = model.item_factors\n",
    "    user_vecs = model.user_factors\n",
    "\n",
    "    print ( calc_mean_auc(product_train, product_users_altered,\n",
    "                  [sparse.csr_matrix(user_vecs), sparse.csr_matrix(item_vecs.T)], product_test) )\n",
    "    slotid += 1"
   ]
  },
  {
   "cell_type": "code",
   "execution_count": 10,
   "metadata": {},
   "outputs": [],
   "source": [
    "import matplotlib.pyplot as plt"
   ]
  },
  {
   "cell_type": "code",
   "execution_count": null,
   "metadata": {},
   "outputs": [],
   "source": [
    "ALS and Bayesian PR\n",
    "AUC Curve score\n",
    "Slot 1: 0.743, 0.63\n",
    "Slot 2: 0.76 , 0.643\n",
    "slot 3: 0.764, 0.635\n",
    "slot 4: 0.766, 0.636"
   ]
  },
  {
   "cell_type": "code",
   "execution_count": 23,
   "metadata": {},
   "outputs": [
    {
     "data": {
      "text/plain": [
       "<matplotlib.legend.Legend at 0x14d0267c390>"
      ]
     },
     "execution_count": 23,
     "metadata": {},
     "output_type": "execute_result"
    },
    {
     "data": {
      "image/png": "[encoded data removed]",
      "text/plain": [
       "<Figure size 432x288 with 1 Axes>"
      ]
     },
     "metadata": {
      "needs_background": "light"
     },
     "output_type": "display_data"
    }
   ],
   "source": [
    "line, = plt.plot([0.743,0.76,0.764,0.766], label='ALS')\n",
    "line, = plt.plot([0.63,0.643,0.635,0.636], label='SimplePopularityModel')\n",
    "plt.ylim(0.5, 1)\n",
    "plt.title('Percentage of correctly ranked points')\n",
    "plt.xlabel('Slot#')\n",
    "plt.ylabel('AUC curve score')\n",
    "plt.legend()"
   ]
  },
  {
   "cell_type": "code",
   "execution_count": null,
   "metadata": {},
   "outputs": [],
   "source": []
  }
 ],
 "metadata": {
  "kernelspec": {
   "display_name": "sparkenv",
   "language": "python",
   "name": "sparkenv"
  },
  "language_info": {
   "codemirror_mode": {
    "name": "ipython",
    "version": 3
   },
   "file_extension": ".py",
   "mimetype": "text/x-python",
   "name": "python",
   "nbconvert_exporter": "python",
   "pygments_lexer": "ipython3",
   "version": "3.7.1"
  }
 },
 "nbformat": 4,
 "nbformat_minor": 2
}
