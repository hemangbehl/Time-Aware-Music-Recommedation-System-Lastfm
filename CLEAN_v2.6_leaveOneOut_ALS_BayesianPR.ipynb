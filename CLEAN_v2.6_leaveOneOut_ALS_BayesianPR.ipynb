{
 "cells": [
  {
   "cell_type": "code",
   "execution_count": 1,
   "metadata": {},
   "outputs": [],
   "source": [
    "# import the usual\n",
    "# import matplotlib.pyplot as plt\n",
    "import pandas as pd\n",
    "# import seaborn as sns\n",
    "import numpy as np\n",
    "# import hashlib\n",
    "import datetime\n",
    "#import surprise\n",
    "#from surprise import SVD\n",
    "%matplotlib inline\n",
    "pd.set_option('display.max_columns', 500)\n",
    "\n",
    "import sys\n",
    "import pandas as pd\n",
    "import numpy as np\n",
    "import scipy.sparse as sparse\n",
    "from scipy.sparse.linalg import spsolve\n",
    "import random\n",
    "\n",
    "from sklearn.preprocessing import MinMaxScaler\n",
    "\n",
    "import implicit # The Cython library\n"
   ]
  },
  {
   "cell_type": "code",
   "execution_count": 2,
   "metadata": {},
   "outputs": [],
   "source": [
    "## create function to recommend using ALS for user_id\n",
    "def ALS_recommend_for_user(model_given, user_id, sparse_user_item_field, N , orig_df ): #will add moe parameters later\n",
    "    #user_id = 150\n",
    "    ##### can be used for any model\n",
    "    # Use the implicit recommender.\n",
    "    #recommended = model.recommend(user_id, sparse_user_item, N, filter_already_liked_items = False)\n",
    "    # got zero\n",
    "    \n",
    "    recommended = model_given.recommend(user_id, sparse_user_item_field, N )\n",
    "    \n",
    "    songs = []\n",
    "    scores = []\n",
    "    song_id_new_list = []\n",
    "    \n",
    "    # Get artist names from ids\n",
    "    for item in recommended:\n",
    "        idx, score = item\n",
    "        #songs.append(user_song_df_count.song.loc[user_song_df_count.song_id_new == idx].iloc[0])\n",
    "        #orig_df\n",
    "        songs.append(user_song_df_count.song.loc[orig_df.song_id_new == idx].iloc[0])\n",
    "        scores.append(score)\n",
    "        #song_id_new_list.append(idx) #idx is not what it seems\n",
    "\n",
    "    # Create a dataframe of artist names and scores\n",
    "    recommendations = pd.DataFrame({'Song': songs, 'score': scores})\n",
    "    #recommendations = pd.DataFrame({'Song': songs, 'song_id_new': song_id_new_list, 'score': scores})\n",
    "\n",
    "    #print (\"Top \", N, \"recommendations for user_id:\", user_id)\n",
    "    return (recommendations)"
   ]
  },
  {
   "cell_type": "markdown",
   "metadata": {},
   "source": [
    "## Read slot data here for user_song_df_count"
   ]
  },
  {
   "cell_type": "code",
   "execution_count": 6,
   "metadata": {},
   "outputs": [],
   "source": [
    "slot1 = pd.read_csv(r\"F:\\Data_Repository\\lastfm\\df_slot1.tsv\", sep=\"\\t\", error_bad_lines=False, header = None)\n",
    "slot2 = pd.read_csv(r\"F:\\Data_Repository\\lastfm\\df_slot2.tsv\", sep=\"\\t\", error_bad_lines=False, header = None)\n",
    "slot3 = pd.read_csv(r\"F:\\Data_Repository\\lastfm\\df_slot3.tsv\", sep=\"\\t\", error_bad_lines=False, header = None)\n",
    "slot4 = pd.read_csv(r\"F:\\Data_Repository\\lastfm\\df_slot4.tsv\", sep=\"\\t\", error_bad_lines=False, header = None)"
   ]
  },
  {
   "cell_type": "code",
   "execution_count": 7,
   "metadata": {},
   "outputs": [],
   "source": [
    "slots = [slot1, slot2, slot3, slot4]\n",
    "#loop through the slots"
   ]
  },
  {
   "cell_type": "code",
   "execution_count": 8,
   "metadata": {},
   "outputs": [
    {
     "name": "stdout",
     "output_type": "stream",
     "text": [
      "*** Slot no. =  1\n",
      "922 users changed\n",
      "\n",
      "###ALS IMPLICIT model\n"
     ]
    },
    {
     "name": "stderr",
     "output_type": "stream",
     "text": [
      "100%|████████████████████████████████████████████████████████████████████████████████| 20.0/20 [00:00<00:00, 45.89it/s]\n"
     ]
    },
    {
     "name": "stdout",
     "output_type": "stream",
     "text": [
      "Precision at rank  30\n",
      "0.0\n",
      "\n",
      "####Bayesian Personalised Ranking model\n"
     ]
    },
    {
     "name": "stderr",
     "output_type": "stream",
     "text": [
      "100%|██████████████████████████████████████████████████| 20/20 [00:00<00:00, 73.73it/s, correct=52.43%, skipped=19.84%]\n"
     ]
    },
    {
     "name": "stdout",
     "output_type": "stream",
     "text": [
      "Precision at rank  30\n",
      "0.0\n",
      "*** Slot no. =  2\n",
      "950 users changed\n",
      "\n",
      "###ALS IMPLICIT model\n"
     ]
    },
    {
     "name": "stderr",
     "output_type": "stream",
     "text": [
      "100%|████████████████████████████████████████████████████████████████████████████████| 20.0/20 [00:00<00:00, 44.76it/s]\n"
     ]
    },
    {
     "name": "stdout",
     "output_type": "stream",
     "text": [
      "Precision at rank  30\n",
      "0.0\n",
      "\n",
      "####Bayesian Personalised Ranking model\n"
     ]
    },
    {
     "name": "stderr",
     "output_type": "stream",
     "text": [
      "100%|██████████████████████████████████████████████████| 20/20 [00:00<00:00, 71.11it/s, correct=52.27%, skipped=17.42%]\n"
     ]
    },
    {
     "name": "stdout",
     "output_type": "stream",
     "text": [
      "Precision at rank  30\n",
      "0.0\n",
      "*** Slot no. =  3\n",
      "975 users changed\n",
      "\n",
      "###ALS IMPLICIT model\n"
     ]
    },
    {
     "name": "stderr",
     "output_type": "stream",
     "text": [
      "100%|████████████████████████████████████████████████████████████████████████████████| 20.0/20 [00:00<00:00, 28.98it/s]\n"
     ]
    },
    {
     "name": "stdout",
     "output_type": "stream",
     "text": [
      "Precision at rank  30\n",
      "0.0\n",
      "\n",
      "####Bayesian Personalised Ranking model\n"
     ]
    },
    {
     "name": "stderr",
     "output_type": "stream",
     "text": [
      "100%|██████████████████████████████████████████████████| 20/20 [00:00<00:00, 57.46it/s, correct=52.97%, skipped=19.99%]\n"
     ]
    },
    {
     "name": "stdout",
     "output_type": "stream",
     "text": [
      "Precision at rank  30\n",
      "0.0\n",
      "*** Slot no. =  4\n",
      "973 users changed\n",
      "\n",
      "###ALS IMPLICIT model\n"
     ]
    },
    {
     "name": "stderr",
     "output_type": "stream",
     "text": [
      "100%|████████████████████████████████████████████████████████████████████████████████| 20.0/20 [00:00<00:00, 29.62it/s]\n"
     ]
    },
    {
     "name": "stdout",
     "output_type": "stream",
     "text": [
      "Precision at rank  30\n",
      "0.0\n",
      "\n",
      "####Bayesian Personalised Ranking model\n"
     ]
    },
    {
     "name": "stderr",
     "output_type": "stream",
     "text": [
      "100%|██████████████████████████████████████████████████| 20/20 [00:00<00:00, 53.33it/s, correct=53.04%, skipped=21.21%]\n"
     ]
    },
    {
     "name": "stdout",
     "output_type": "stream",
     "text": [
      "Precision at rank  30\n",
      "0.0\n"
     ]
    }
   ],
   "source": [
    "slotid = 1\n",
    "for user_song_df_count in slots:\n",
    "    print (\"*** Slot no. = \", slotid)\n",
    "    user_song_df_count.columns = ['userid', 'song', 'count']\n",
    "    # Convert userid and song names into numerical IDs\n",
    "    user_song_df_count['user_id'] = user_song_df_count['userid'].astype(\"category\").cat.codes\n",
    "    user_song_df_count['song_id_new'] = user_song_df_count['song'].astype(\"category\").cat.codes\n",
    "\n",
    "    # Create a lookup frame so we can get the artist names back in \n",
    "    # readable form later.\n",
    "    item_lookup = user_song_df_count[['song_id_new', 'song']].drop_duplicates()\n",
    "    item_lookup['song_id_new'] = item_lookup.song_id_new.astype(str)\n",
    "\n",
    "    user_song_df = user_song_df_count.drop( ['userid', 'song'], axis = 1)\n",
    "\n",
    "    M = 20000000 #slice of df\n",
    "\n",
    "    altered_songid_new_list = user_song_df.loc[user_song_df[:M].groupby('user_id')['song_id_new'].head(1).index, 'song_id_new']\n",
    "    user_song_df.loc[user_song_df[:M].groupby('user_id')['count'].head(1).index, 'count'] = np.NaN\n",
    "    altered_user_id_list = user_song_df.loc[user_song_df[:M].groupby('user_id')['user_id'].head(1).index, 'user_id']\n",
    "\n",
    "    altered_user_id_list = altered_user_id_list.reset_index(drop = True) \n",
    "    altered_songid_new_list = altered_songid_new_list.reset_index(drop = True) \n",
    "    print (len(altered_songid_new_list), \"users changed\" )\n",
    "    user_song_df = user_song_df.dropna()     #drop all rows that have any NaN values\n",
    "    #\n",
    "    # Create lists of all users, songs and counts\n",
    "    users = list(np.sort(user_song_df.user_id.unique()))\n",
    "    songs = list(np.sort(user_song_df.song_id_new.unique()))\n",
    "    counts = list(user_song_df['count'])\n",
    "\n",
    "\n",
    "    sparse_item_user = sparse.csr_matrix((user_song_df['count'].astype(float), \n",
    "                                          (user_song_df['song_id_new'], user_song_df['user_id'])))\n",
    "\n",
    "    sparse_user_item = sparse.csr_matrix((user_song_df['count'].astype(float), \n",
    "                                          (user_song_df['user_id'], user_song_df['song_id_new'])))\n",
    "\n",
    "    ##ALS IMPLICIT\n",
    "    print(\"\")\n",
    "    print (\"###ALS IMPLICIT model\")\n",
    "    # Initialize the als model and fit it using the sparse item-user matrix\n",
    "    model = implicit.als.AlternatingLeastSquares(factors=20, regularization=0.1, iterations=20)\n",
    "\n",
    "    # Calculate the confidence by multiplying it by our alpha value.\n",
    "    alpha_val = 15\n",
    "    data_conf = (sparse_item_user * alpha_val).astype('double')\n",
    "\n",
    "    model.fit(data_conf)\n",
    "\n",
    "    altered_songid_new_list = altered_songid_new_list.reset_index(drop = True) \n",
    "\n",
    "\n",
    "    cnt_total = []\n",
    "    index1 = 0\n",
    "\n",
    "    for idx in altered_user_id_list[:200]:\n",
    "        #print(index1)\n",
    "        recommendation_ans = ALS_recommend_for_user(model, idx, sparse_user_item, 30, user_song_df_count)\n",
    "        ans = pd.Series(recommendation_ans['Song'].isin( \n",
    "                                            [ \n",
    "                                                item_lookup[ item_lookup['song_id_new'] == str(altered_songid_new_list[index1]) ]['song'].tolist()[0]\n",
    "                                            ] ),\n",
    "                        recommendation_ans['Song'].values)==1\n",
    "        cnt = 0\n",
    "        for i in ans:\n",
    "            if i == True:\n",
    "                cnt += 1 #increment if found true\n",
    "        cnt_total.append ( cnt ) #append to total found\n",
    "        index1 += 1\n",
    "\n",
    "    N = len(recommendation_ans) #what N was set as, no. of items we recommended\n",
    "    precision = []\n",
    "\n",
    "    for i in range(len(cnt_total)): #loop 0 to N-1\n",
    "        precision.append( cnt_total[i] / N )\n",
    "\n",
    "    print(\"Precision at rank \", N)\n",
    "    #precision\n",
    "    print ( sum(precision) / len(precision) )\n",
    "\n",
    "    ###Bayesian personalised ranking\n",
    "    print(\"\")\n",
    "    print ( \"####Bayesian Personalised Ranking model\")\n",
    "\n",
    "    modelBayesian = implicit.bpr.BayesianPersonalizedRanking(factors=20, regularization=0.1, iterations=20)\n",
    "    # Calculate the confidence by multiplying it by our alpha value.\n",
    "    alpha_val = 15\n",
    "    data_conf = (sparse_item_user * alpha_val).astype('double')\n",
    "    #fit model\n",
    "    modelBayesian.fit(data_conf)\n",
    "\n",
    "    \n",
    "    cnt_total = []\n",
    "    index1 = 0\n",
    "    for idx in altered_user_id_list[:50]:\n",
    "        #print(index1)\n",
    "        recommendation_ans = ALS_recommend_for_user(modelBayesian, idx, sparse_user_item, 30, user_song_df_count)\n",
    "        ans = pd.Series(recommendation_ans['Song'].isin( \n",
    "                                            [ \n",
    "                                                item_lookup[ item_lookup['song_id_new'] == str(altered_songid_new_list[index1]) ]['song'].tolist()[0]\n",
    "                                            ] ),\n",
    "                        recommendation_ans['Song'].values)==1\n",
    "        cnt = 0\n",
    "        for i in ans:\n",
    "            if i == True:\n",
    "                cnt += 1 #increment if found true\n",
    "        cnt_total.append ( cnt ) #append to total found\n",
    "        index1 += 1\n",
    "\n",
    "    N = len(recommendation_ans) #what N was set as, no. of items we recommended\n",
    "    precision = []\n",
    "\n",
    "    for i in range(len(cnt_total)): #loop 0 to N-1\n",
    "        precision.append( cnt_total[i] / N )\n",
    "\n",
    "    print(\"Precision at rank \", N)\n",
    "    #precision\n",
    "    print (sum(precision) / len(precision) )\n",
    "    \n",
    "    slotid += 1\n",
    "\n"
   ]
  },
  {
   "cell_type": "code",
   "execution_count": null,
   "metadata": {},
   "outputs": [],
   "source": []
  },
  {
   "cell_type": "code",
   "execution_count": null,
   "metadata": {},
   "outputs": [],
   "source": []
  }
 ],
 "metadata": {
  "kernelspec": {
   "display_name": "sparkenv",
   "language": "python",
   "name": "sparkenv"
  },
  "language_info": {
   "codemirror_mode": {
    "name": "ipython",
    "version": 3
   },
   "file_extension": ".py",
   "mimetype": "text/x-python",
   "name": "python",
   "nbconvert_exporter": "python",
   "pygments_lexer": "ipython3",
   "version": "3.7.1"
  }
 },
 "nbformat": 4,
 "nbformat_minor": 2
}
