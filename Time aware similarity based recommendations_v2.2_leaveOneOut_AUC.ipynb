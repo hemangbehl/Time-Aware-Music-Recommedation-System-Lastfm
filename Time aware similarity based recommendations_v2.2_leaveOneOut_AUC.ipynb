{
 "cells": [
  {
   "cell_type": "code",
   "execution_count": 1,
   "metadata": {},
   "outputs": [],
   "source": [
    "# import the usual\n",
    "# import matplotlib.pyplot as plt\n",
    "import pandas as pd\n",
    "# import seaborn as sns\n",
    "import numpy as np\n",
    "# import hashlib \n",
    "import datetime\n",
    "#import surprise\n",
    "#from surprise import SVD\n",
    "%matplotlib inline\n",
    "pd.set_option('display.max_columns', 500)\n",
    "\n",
    "from sklearn.preprocessing import MinMaxScaler\n",
    "from sklearn import metrics"
   ]
  },
  {
   "cell_type": "code",
   "execution_count": null,
   "metadata": {},
   "outputs": [],
   "source": []
  },
  {
   "cell_type": "code",
   "execution_count": 2,
   "metadata": {},
   "outputs": [],
   "source": [
    "data_profile = pd.read_csv(r\"F:\\Data_Repository\\lastfm\\usersha1-profile.tsv\", sep=\"\\t\", error_bad_lines=False, header = None, names = ['userhashid','gender','age','country','signup_date'])"
   ]
  },
  {
   "cell_type": "code",
   "execution_count": 4,
   "metadata": {},
   "outputs": [
    {
     "data": {
      "text/html": [
       "<div>\n",
       "<style scoped>\n",
       "    .dataframe tbody tr th:only-of-type {\n",
       "        vertical-align: middle;\n",
       "    }\n",
       "\n",
       "    .dataframe tbody tr th {\n",
       "        vertical-align: top;\n",
       "    }\n",
       "\n",
       "    .dataframe thead th {\n",
       "        text-align: right;\n",
       "    }\n",
       "</style>\n",
       "<table border=\"1\" class=\"dataframe\">\n",
       "  <thead>\n",
       "    <tr style=\"text-align: right;\">\n",
       "      <th></th>\n",
       "      <th>userhashid</th>\n",
       "      <th>gender</th>\n",
       "      <th>age</th>\n",
       "      <th>country</th>\n",
       "      <th>signup_date</th>\n",
       "    </tr>\n",
       "  </thead>\n",
       "  <tbody>\n",
       "    <tr>\n",
       "      <th>0</th>\n",
       "      <td>00000c289a1829a808ac09c00daf10bc3c4e223b</td>\n",
       "      <td>f</td>\n",
       "      <td>22.0</td>\n",
       "      <td>Germany</td>\n",
       "      <td>Feb 1, 2007</td>\n",
       "    </tr>\n",
       "    <tr>\n",
       "      <th>1</th>\n",
       "      <td>00001411dc427966b17297bf4d69e7e193135d89</td>\n",
       "      <td>f</td>\n",
       "      <td>NaN</td>\n",
       "      <td>Canada</td>\n",
       "      <td>Dec 4, 2007</td>\n",
       "    </tr>\n",
       "    <tr>\n",
       "      <th>2</th>\n",
       "      <td>00004d2ac9316e22dc007ab2243d6fcb239e707d</td>\n",
       "      <td>NaN</td>\n",
       "      <td>NaN</td>\n",
       "      <td>Germany</td>\n",
       "      <td>Sep 1, 2006</td>\n",
       "    </tr>\n",
       "    <tr>\n",
       "      <th>3</th>\n",
       "      <td>000063d3fe1cf2ba248b9e3c3f0334845a27a6bf</td>\n",
       "      <td>m</td>\n",
       "      <td>19.0</td>\n",
       "      <td>Mexico</td>\n",
       "      <td>Apr 28, 2008</td>\n",
       "    </tr>\n",
       "    <tr>\n",
       "      <th>4</th>\n",
       "      <td>00007a47085b9aab8af55f52ec8846ac479ac4fe</td>\n",
       "      <td>m</td>\n",
       "      <td>28.0</td>\n",
       "      <td>United States</td>\n",
       "      <td>Jan 27, 2006</td>\n",
       "    </tr>\n",
       "  </tbody>\n",
       "</table>\n",
       "</div>"
      ],
      "text/plain": [
       "                                 userhashid gender   age        country  \\\n",
       "0  00000c289a1829a808ac09c00daf10bc3c4e223b      f  22.0        Germany   \n",
       "1  00001411dc427966b17297bf4d69e7e193135d89      f   NaN         Canada   \n",
       "2  00004d2ac9316e22dc007ab2243d6fcb239e707d    NaN   NaN        Germany   \n",
       "3  000063d3fe1cf2ba248b9e3c3f0334845a27a6bf      m  19.0         Mexico   \n",
       "4  00007a47085b9aab8af55f52ec8846ac479ac4fe      m  28.0  United States   \n",
       "\n",
       "    signup_date  \n",
       "0   Feb 1, 2007  \n",
       "1   Dec 4, 2007  \n",
       "2   Sep 1, 2006  \n",
       "3  Apr 28, 2008  \n",
       "4  Jan 27, 2006  "
      ]
     },
     "execution_count": 4,
     "metadata": {},
     "output_type": "execute_result"
    }
   ],
   "source": [
    "data_profile.head()"
   ]
  },
  {
   "cell_type": "code",
   "execution_count": 5,
   "metadata": {},
   "outputs": [],
   "source": [
    "# data_artist = pd.read_csv(r\"F:\\Data_Repository\\lastfm\\usersha1-artmbid-artname-plays.tsv\", sep=\"\\t\", error_bad_lines=False, header = None,\n",
    "#                           names = ['userhashid','artistid','artistName','plays'])"
   ]
  },
  {
   "cell_type": "code",
   "execution_count": 6,
   "metadata": {
    "scrolled": true
   },
   "outputs": [],
   "source": [
    "# data_artist"
   ]
  },
  {
   "cell_type": "code",
   "execution_count": 7,
   "metadata": {},
   "outputs": [],
   "source": [
    "# data_artist['userhashid'].nunique()"
   ]
  },
  {
   "cell_type": "code",
   "execution_count": null,
   "metadata": {},
   "outputs": [],
   "source": []
  },
  {
   "cell_type": "code",
   "execution_count": 8,
   "metadata": {},
   "outputs": [
    {
     "name": "stderr",
     "output_type": "stream",
     "text": [
      "b'Skipping line 2120260: expected 6 fields, saw 8\\n'\n",
      "b'Skipping line 2446318: expected 6 fields, saw 8\\n'\n",
      "b'Skipping line 11141081: expected 6 fields, saw 8\\n'\n",
      "b'Skipping line 11152099: expected 6 fields, saw 12\\nSkipping line 11152402: expected 6 fields, saw 8\\n'\n",
      "b'Skipping line 11882087: expected 6 fields, saw 8\\n'\n",
      "b'Skipping line 12902539: expected 6 fields, saw 8\\nSkipping line 12935044: expected 6 fields, saw 8\\n'\n",
      "b'Skipping line 17589539: expected 6 fields, saw 8\\n'\n"
     ]
    }
   ],
   "source": [
    "%%time\n",
    "#Music Data Loading\n",
    "df = pd.read_csv(r\"F:\\Data_Repository\\lastfm\\userid-timestamp-artid-artname-traid-traname.tsv\", sep=\"\\t\", error_bad_lines=False, header = None)"
   ]
  },
  {
   "cell_type": "code",
   "execution_count": 9,
   "metadata": {},
   "outputs": [],
   "source": [
    "df.columns = ['userid', 'timestamp', 'artistid', 'artist', '1', 'song']"
   ]
  },
  {
   "cell_type": "code",
   "execution_count": 10,
   "metadata": {},
   "outputs": [
    {
     "data": {
      "text/html": [
       "<div>\n",
       "<style scoped>\n",
       "    .dataframe tbody tr th:only-of-type {\n",
       "        vertical-align: middle;\n",
       "    }\n",
       "\n",
       "    .dataframe tbody tr th {\n",
       "        vertical-align: top;\n",
       "    }\n",
       "\n",
       "    .dataframe thead th {\n",
       "        text-align: right;\n",
       "    }\n",
       "</style>\n",
       "<table border=\"1\" class=\"dataframe\">\n",
       "  <thead>\n",
       "    <tr style=\"text-align: right;\">\n",
       "      <th></th>\n",
       "      <th>userid</th>\n",
       "      <th>timestamp</th>\n",
       "      <th>artistid</th>\n",
       "      <th>artist</th>\n",
       "      <th>1</th>\n",
       "      <th>song</th>\n",
       "    </tr>\n",
       "  </thead>\n",
       "  <tbody>\n",
       "    <tr>\n",
       "      <th>0</th>\n",
       "      <td>user_000001</td>\n",
       "      <td>2009-05-04T23:08:57Z</td>\n",
       "      <td>f1b1cf71-bd35-4e99-8624-24a6e15f133a</td>\n",
       "      <td>Deep Dish</td>\n",
       "      <td>NaN</td>\n",
       "      <td>Fuck Me Im Famous (Pacha Ibiza)-09-28-2007</td>\n",
       "    </tr>\n",
       "    <tr>\n",
       "      <th>1</th>\n",
       "      <td>user_000001</td>\n",
       "      <td>2009-05-04T13:54:10Z</td>\n",
       "      <td>a7f7df4a-77d8-4f12-8acd-5c60c93f4de8</td>\n",
       "      <td>坂本龍一</td>\n",
       "      <td>NaN</td>\n",
       "      <td>Composition 0919 (Live_2009_4_15)</td>\n",
       "    </tr>\n",
       "    <tr>\n",
       "      <th>2</th>\n",
       "      <td>user_000001</td>\n",
       "      <td>2009-05-04T13:52:04Z</td>\n",
       "      <td>a7f7df4a-77d8-4f12-8acd-5c60c93f4de8</td>\n",
       "      <td>坂本龍一</td>\n",
       "      <td>NaN</td>\n",
       "      <td>Mc2 (Live_2009_4_15)</td>\n",
       "    </tr>\n",
       "    <tr>\n",
       "      <th>3</th>\n",
       "      <td>user_000001</td>\n",
       "      <td>2009-05-04T13:42:52Z</td>\n",
       "      <td>a7f7df4a-77d8-4f12-8acd-5c60c93f4de8</td>\n",
       "      <td>坂本龍一</td>\n",
       "      <td>NaN</td>\n",
       "      <td>Hibari (Live_2009_4_15)</td>\n",
       "    </tr>\n",
       "    <tr>\n",
       "      <th>4</th>\n",
       "      <td>user_000001</td>\n",
       "      <td>2009-05-04T13:42:11Z</td>\n",
       "      <td>a7f7df4a-77d8-4f12-8acd-5c60c93f4de8</td>\n",
       "      <td>坂本龍一</td>\n",
       "      <td>NaN</td>\n",
       "      <td>Mc1 (Live_2009_4_15)</td>\n",
       "    </tr>\n",
       "  </tbody>\n",
       "</table>\n",
       "</div>"
      ],
      "text/plain": [
       "        userid             timestamp                              artistid  \\\n",
       "0  user_000001  2009-05-04T23:08:57Z  f1b1cf71-bd35-4e99-8624-24a6e15f133a   \n",
       "1  user_000001  2009-05-04T13:54:10Z  a7f7df4a-77d8-4f12-8acd-5c60c93f4de8   \n",
       "2  user_000001  2009-05-04T13:52:04Z  a7f7df4a-77d8-4f12-8acd-5c60c93f4de8   \n",
       "3  user_000001  2009-05-04T13:42:52Z  a7f7df4a-77d8-4f12-8acd-5c60c93f4de8   \n",
       "4  user_000001  2009-05-04T13:42:11Z  a7f7df4a-77d8-4f12-8acd-5c60c93f4de8   \n",
       "\n",
       "      artist    1                                        song  \n",
       "0  Deep Dish  NaN  Fuck Me Im Famous (Pacha Ibiza)-09-28-2007  \n",
       "1       坂本龍一  NaN           Composition 0919 (Live_2009_4_15)  \n",
       "2       坂本龍一  NaN                        Mc2 (Live_2009_4_15)  \n",
       "3       坂本龍一  NaN                     Hibari (Live_2009_4_15)  \n",
       "4       坂本龍一  NaN                        Mc1 (Live_2009_4_15)  "
      ]
     },
     "execution_count": 10,
     "metadata": {},
     "output_type": "execute_result"
    }
   ],
   "source": [
    "df.head()"
   ]
  },
  {
   "cell_type": "code",
   "execution_count": 11,
   "metadata": {},
   "outputs": [],
   "source": [
    "df['time'] = pd.to_datetime(df['timestamp'])\n",
    "df.drop(['timestamp'], axis=1, inplace=True)"
   ]
  },
  {
   "cell_type": "code",
   "execution_count": 12,
   "metadata": {},
   "outputs": [
    {
     "data": {
      "text/html": [
       "<div>\n",
       "<style scoped>\n",
       "    .dataframe tbody tr th:only-of-type {\n",
       "        vertical-align: middle;\n",
       "    }\n",
       "\n",
       "    .dataframe tbody tr th {\n",
       "        vertical-align: top;\n",
       "    }\n",
       "\n",
       "    .dataframe thead th {\n",
       "        text-align: right;\n",
       "    }\n",
       "</style>\n",
       "<table border=\"1\" class=\"dataframe\">\n",
       "  <thead>\n",
       "    <tr style=\"text-align: right;\">\n",
       "      <th></th>\n",
       "      <th>userid</th>\n",
       "      <th>artistid</th>\n",
       "      <th>artist</th>\n",
       "      <th>1</th>\n",
       "      <th>song</th>\n",
       "      <th>time</th>\n",
       "    </tr>\n",
       "  </thead>\n",
       "  <tbody>\n",
       "    <tr>\n",
       "      <th>0</th>\n",
       "      <td>user_000001</td>\n",
       "      <td>f1b1cf71-bd35-4e99-8624-24a6e15f133a</td>\n",
       "      <td>Deep Dish</td>\n",
       "      <td>NaN</td>\n",
       "      <td>Fuck Me Im Famous (Pacha Ibiza)-09-28-2007</td>\n",
       "      <td>2009-05-04 23:08:57</td>\n",
       "    </tr>\n",
       "    <tr>\n",
       "      <th>1</th>\n",
       "      <td>user_000001</td>\n",
       "      <td>a7f7df4a-77d8-4f12-8acd-5c60c93f4de8</td>\n",
       "      <td>坂本龍一</td>\n",
       "      <td>NaN</td>\n",
       "      <td>Composition 0919 (Live_2009_4_15)</td>\n",
       "      <td>2009-05-04 13:54:10</td>\n",
       "    </tr>\n",
       "    <tr>\n",
       "      <th>2</th>\n",
       "      <td>user_000001</td>\n",
       "      <td>a7f7df4a-77d8-4f12-8acd-5c60c93f4de8</td>\n",
       "      <td>坂本龍一</td>\n",
       "      <td>NaN</td>\n",
       "      <td>Mc2 (Live_2009_4_15)</td>\n",
       "      <td>2009-05-04 13:52:04</td>\n",
       "    </tr>\n",
       "    <tr>\n",
       "      <th>3</th>\n",
       "      <td>user_000001</td>\n",
       "      <td>a7f7df4a-77d8-4f12-8acd-5c60c93f4de8</td>\n",
       "      <td>坂本龍一</td>\n",
       "      <td>NaN</td>\n",
       "      <td>Hibari (Live_2009_4_15)</td>\n",
       "      <td>2009-05-04 13:42:52</td>\n",
       "    </tr>\n",
       "    <tr>\n",
       "      <th>4</th>\n",
       "      <td>user_000001</td>\n",
       "      <td>a7f7df4a-77d8-4f12-8acd-5c60c93f4de8</td>\n",
       "      <td>坂本龍一</td>\n",
       "      <td>NaN</td>\n",
       "      <td>Mc1 (Live_2009_4_15)</td>\n",
       "      <td>2009-05-04 13:42:11</td>\n",
       "    </tr>\n",
       "  </tbody>\n",
       "</table>\n",
       "</div>"
      ],
      "text/plain": [
       "        userid                              artistid     artist    1  \\\n",
       "0  user_000001  f1b1cf71-bd35-4e99-8624-24a6e15f133a  Deep Dish  NaN   \n",
       "1  user_000001  a7f7df4a-77d8-4f12-8acd-5c60c93f4de8       坂本龍一  NaN   \n",
       "2  user_000001  a7f7df4a-77d8-4f12-8acd-5c60c93f4de8       坂本龍一  NaN   \n",
       "3  user_000001  a7f7df4a-77d8-4f12-8acd-5c60c93f4de8       坂本龍一  NaN   \n",
       "4  user_000001  a7f7df4a-77d8-4f12-8acd-5c60c93f4de8       坂本龍一  NaN   \n",
       "\n",
       "                                         song                time  \n",
       "0  Fuck Me Im Famous (Pacha Ibiza)-09-28-2007 2009-05-04 23:08:57  \n",
       "1           Composition 0919 (Live_2009_4_15) 2009-05-04 13:54:10  \n",
       "2                        Mc2 (Live_2009_4_15) 2009-05-04 13:52:04  \n",
       "3                     Hibari (Live_2009_4_15) 2009-05-04 13:42:52  \n",
       "4                        Mc1 (Live_2009_4_15) 2009-05-04 13:42:11  "
      ]
     },
     "execution_count": 12,
     "metadata": {},
     "output_type": "execute_result"
    }
   ],
   "source": [
    "df.head()"
   ]
  },
  {
   "cell_type": "markdown",
   "metadata": {},
   "source": [
    "### Removing artist name and song id (possibly) from the user_songs_df dataframe"
   ]
  },
  {
   "cell_type": "code",
   "execution_count": 13,
   "metadata": {},
   "outputs": [],
   "source": [
    "user_songs_df = df.drop(['artist'], axis=1, inplace=False)\n",
    "user_songs_df.columns = ['userid', 'artistid', 'songid', 'song', 'time']\n",
    "user_songs_df = user_songs_df.drop(['songid'], axis=1, inplace=False)"
   ]
  },
  {
   "cell_type": "code",
   "execution_count": 14,
   "metadata": {},
   "outputs": [
    {
     "data": {
      "text/html": [
       "<div>\n",
       "<style scoped>\n",
       "    .dataframe tbody tr th:only-of-type {\n",
       "        vertical-align: middle;\n",
       "    }\n",
       "\n",
       "    .dataframe tbody tr th {\n",
       "        vertical-align: top;\n",
       "    }\n",
       "\n",
       "    .dataframe thead th {\n",
       "        text-align: right;\n",
       "    }\n",
       "</style>\n",
       "<table border=\"1\" class=\"dataframe\">\n",
       "  <thead>\n",
       "    <tr style=\"text-align: right;\">\n",
       "      <th></th>\n",
       "      <th>userid</th>\n",
       "      <th>artistid</th>\n",
       "      <th>song</th>\n",
       "      <th>time</th>\n",
       "    </tr>\n",
       "  </thead>\n",
       "  <tbody>\n",
       "    <tr>\n",
       "      <th>0</th>\n",
       "      <td>user_000001</td>\n",
       "      <td>f1b1cf71-bd35-4e99-8624-24a6e15f133a</td>\n",
       "      <td>Fuck Me Im Famous (Pacha Ibiza)-09-28-2007</td>\n",
       "      <td>2009-05-04 23:08:57</td>\n",
       "    </tr>\n",
       "    <tr>\n",
       "      <th>1</th>\n",
       "      <td>user_000001</td>\n",
       "      <td>a7f7df4a-77d8-4f12-8acd-5c60c93f4de8</td>\n",
       "      <td>Composition 0919 (Live_2009_4_15)</td>\n",
       "      <td>2009-05-04 13:54:10</td>\n",
       "    </tr>\n",
       "    <tr>\n",
       "      <th>2</th>\n",
       "      <td>user_000001</td>\n",
       "      <td>a7f7df4a-77d8-4f12-8acd-5c60c93f4de8</td>\n",
       "      <td>Mc2 (Live_2009_4_15)</td>\n",
       "      <td>2009-05-04 13:52:04</td>\n",
       "    </tr>\n",
       "    <tr>\n",
       "      <th>3</th>\n",
       "      <td>user_000001</td>\n",
       "      <td>a7f7df4a-77d8-4f12-8acd-5c60c93f4de8</td>\n",
       "      <td>Hibari (Live_2009_4_15)</td>\n",
       "      <td>2009-05-04 13:42:52</td>\n",
       "    </tr>\n",
       "    <tr>\n",
       "      <th>4</th>\n",
       "      <td>user_000001</td>\n",
       "      <td>a7f7df4a-77d8-4f12-8acd-5c60c93f4de8</td>\n",
       "      <td>Mc1 (Live_2009_4_15)</td>\n",
       "      <td>2009-05-04 13:42:11</td>\n",
       "    </tr>\n",
       "  </tbody>\n",
       "</table>\n",
       "</div>"
      ],
      "text/plain": [
       "        userid                              artistid  \\\n",
       "0  user_000001  f1b1cf71-bd35-4e99-8624-24a6e15f133a   \n",
       "1  user_000001  a7f7df4a-77d8-4f12-8acd-5c60c93f4de8   \n",
       "2  user_000001  a7f7df4a-77d8-4f12-8acd-5c60c93f4de8   \n",
       "3  user_000001  a7f7df4a-77d8-4f12-8acd-5c60c93f4de8   \n",
       "4  user_000001  a7f7df4a-77d8-4f12-8acd-5c60c93f4de8   \n",
       "\n",
       "                                         song                time  \n",
       "0  Fuck Me Im Famous (Pacha Ibiza)-09-28-2007 2009-05-04 23:08:57  \n",
       "1           Composition 0919 (Live_2009_4_15) 2009-05-04 13:54:10  \n",
       "2                        Mc2 (Live_2009_4_15) 2009-05-04 13:52:04  \n",
       "3                     Hibari (Live_2009_4_15) 2009-05-04 13:42:52  \n",
       "4                        Mc1 (Live_2009_4_15) 2009-05-04 13:42:11  "
      ]
     },
     "execution_count": 14,
     "metadata": {},
     "output_type": "execute_result"
    }
   ],
   "source": [
    "user_songs_df.head()"
   ]
  },
  {
   "cell_type": "code",
   "execution_count": 15,
   "metadata": {},
   "outputs": [
    {
     "name": "stdout",
     "output_type": "stream",
     "text": [
      "Number of songs : 1083471\n"
     ]
    }
   ],
   "source": [
    "print('Number of songs : ' + str(user_songs_df['song'].nunique()))"
   ]
  },
  {
   "cell_type": "code",
   "execution_count": 16,
   "metadata": {},
   "outputs": [],
   "source": [
    "user_unique = user_songs_df['userid'].drop_duplicates()"
   ]
  },
  {
   "cell_type": "code",
   "execution_count": 17,
   "metadata": {},
   "outputs": [
    {
     "data": {
      "text/plain": [
       "pandas.core.series.Series"
      ]
     },
     "execution_count": 17,
     "metadata": {},
     "output_type": "execute_result"
    }
   ],
   "source": [
    "type(user_unique)"
   ]
  },
  {
   "cell_type": "code",
   "execution_count": 18,
   "metadata": {},
   "outputs": [],
   "source": [
    "#user_unique = map(lambda s: s.strip(), user_unique)"
   ]
  },
  {
   "cell_type": "code",
   "execution_count": 19,
   "metadata": {
    "scrolled": true
   },
   "outputs": [],
   "source": [
    "user_unique = user_unique.reset_index()\n",
    "user_unique = user_unique.drop('index', axis = 1)"
   ]
  },
  {
   "cell_type": "code",
   "execution_count": 20,
   "metadata": {
    "scrolled": true
   },
   "outputs": [
    {
     "data": {
      "text/html": [
       "<div>\n",
       "<style scoped>\n",
       "    .dataframe tbody tr th:only-of-type {\n",
       "        vertical-align: middle;\n",
       "    }\n",
       "\n",
       "    .dataframe tbody tr th {\n",
       "        vertical-align: top;\n",
       "    }\n",
       "\n",
       "    .dataframe thead th {\n",
       "        text-align: right;\n",
       "    }\n",
       "</style>\n",
       "<table border=\"1\" class=\"dataframe\">\n",
       "  <thead>\n",
       "    <tr style=\"text-align: right;\">\n",
       "      <th></th>\n",
       "      <th>userid</th>\n",
       "    </tr>\n",
       "  </thead>\n",
       "  <tbody>\n",
       "    <tr>\n",
       "      <th>0</th>\n",
       "      <td>user_000001</td>\n",
       "    </tr>\n",
       "    <tr>\n",
       "      <th>1</th>\n",
       "      <td>user_000002</td>\n",
       "    </tr>\n",
       "    <tr>\n",
       "      <th>2</th>\n",
       "      <td>user_000003</td>\n",
       "    </tr>\n",
       "    <tr>\n",
       "      <th>3</th>\n",
       "      <td>user_000004</td>\n",
       "    </tr>\n",
       "    <tr>\n",
       "      <th>4</th>\n",
       "      <td>user_000005</td>\n",
       "    </tr>\n",
       "    <tr>\n",
       "      <th>5</th>\n",
       "      <td>user_000006</td>\n",
       "    </tr>\n",
       "    <tr>\n",
       "      <th>6</th>\n",
       "      <td>user_000007</td>\n",
       "    </tr>\n",
       "    <tr>\n",
       "      <th>7</th>\n",
       "      <td>user_000008</td>\n",
       "    </tr>\n",
       "    <tr>\n",
       "      <th>8</th>\n",
       "      <td>user_000009</td>\n",
       "    </tr>\n",
       "    <tr>\n",
       "      <th>9</th>\n",
       "      <td>user_000010</td>\n",
       "    </tr>\n",
       "    <tr>\n",
       "      <th>10</th>\n",
       "      <td>user_000011</td>\n",
       "    </tr>\n",
       "    <tr>\n",
       "      <th>11</th>\n",
       "      <td>user_000012</td>\n",
       "    </tr>\n",
       "    <tr>\n",
       "      <th>12</th>\n",
       "      <td>user_000013</td>\n",
       "    </tr>\n",
       "    <tr>\n",
       "      <th>13</th>\n",
       "      <td>user_000014</td>\n",
       "    </tr>\n",
       "    <tr>\n",
       "      <th>14</th>\n",
       "      <td>user_000015</td>\n",
       "    </tr>\n",
       "    <tr>\n",
       "      <th>15</th>\n",
       "      <td>user_000016</td>\n",
       "    </tr>\n",
       "    <tr>\n",
       "      <th>16</th>\n",
       "      <td>user_000017</td>\n",
       "    </tr>\n",
       "    <tr>\n",
       "      <th>17</th>\n",
       "      <td>user_000018</td>\n",
       "    </tr>\n",
       "    <tr>\n",
       "      <th>18</th>\n",
       "      <td>user_000019</td>\n",
       "    </tr>\n",
       "    <tr>\n",
       "      <th>19</th>\n",
       "      <td>user_000020</td>\n",
       "    </tr>\n",
       "    <tr>\n",
       "      <th>20</th>\n",
       "      <td>user_000021</td>\n",
       "    </tr>\n",
       "    <tr>\n",
       "      <th>21</th>\n",
       "      <td>user_000022</td>\n",
       "    </tr>\n",
       "    <tr>\n",
       "      <th>22</th>\n",
       "      <td>user_000023</td>\n",
       "    </tr>\n",
       "    <tr>\n",
       "      <th>23</th>\n",
       "      <td>user_000024</td>\n",
       "    </tr>\n",
       "    <tr>\n",
       "      <th>24</th>\n",
       "      <td>user_000025</td>\n",
       "    </tr>\n",
       "    <tr>\n",
       "      <th>25</th>\n",
       "      <td>user_000026</td>\n",
       "    </tr>\n",
       "    <tr>\n",
       "      <th>26</th>\n",
       "      <td>user_000027</td>\n",
       "    </tr>\n",
       "    <tr>\n",
       "      <th>27</th>\n",
       "      <td>user_000028</td>\n",
       "    </tr>\n",
       "    <tr>\n",
       "      <th>28</th>\n",
       "      <td>user_000029</td>\n",
       "    </tr>\n",
       "    <tr>\n",
       "      <th>29</th>\n",
       "      <td>user_000030</td>\n",
       "    </tr>\n",
       "    <tr>\n",
       "      <th>...</th>\n",
       "      <td>...</td>\n",
       "    </tr>\n",
       "    <tr>\n",
       "      <th>962</th>\n",
       "      <td>user_000970</td>\n",
       "    </tr>\n",
       "    <tr>\n",
       "      <th>963</th>\n",
       "      <td>user_000971</td>\n",
       "    </tr>\n",
       "    <tr>\n",
       "      <th>964</th>\n",
       "      <td>user_000972</td>\n",
       "    </tr>\n",
       "    <tr>\n",
       "      <th>965</th>\n",
       "      <td>user_000973</td>\n",
       "    </tr>\n",
       "    <tr>\n",
       "      <th>966</th>\n",
       "      <td>user_000974</td>\n",
       "    </tr>\n",
       "    <tr>\n",
       "      <th>967</th>\n",
       "      <td>user_000975</td>\n",
       "    </tr>\n",
       "    <tr>\n",
       "      <th>968</th>\n",
       "      <td>user_000976</td>\n",
       "    </tr>\n",
       "    <tr>\n",
       "      <th>969</th>\n",
       "      <td>user_000977</td>\n",
       "    </tr>\n",
       "    <tr>\n",
       "      <th>970</th>\n",
       "      <td>user_000978</td>\n",
       "    </tr>\n",
       "    <tr>\n",
       "      <th>971</th>\n",
       "      <td>user_000979</td>\n",
       "    </tr>\n",
       "    <tr>\n",
       "      <th>972</th>\n",
       "      <td>user_000980</td>\n",
       "    </tr>\n",
       "    <tr>\n",
       "      <th>973</th>\n",
       "      <td>user_000981</td>\n",
       "    </tr>\n",
       "    <tr>\n",
       "      <th>974</th>\n",
       "      <td>user_000982</td>\n",
       "    </tr>\n",
       "    <tr>\n",
       "      <th>975</th>\n",
       "      <td>user_000983</td>\n",
       "    </tr>\n",
       "    <tr>\n",
       "      <th>976</th>\n",
       "      <td>user_000984</td>\n",
       "    </tr>\n",
       "    <tr>\n",
       "      <th>977</th>\n",
       "      <td>user_000985</td>\n",
       "    </tr>\n",
       "    <tr>\n",
       "      <th>978</th>\n",
       "      <td>user_000986</td>\n",
       "    </tr>\n",
       "    <tr>\n",
       "      <th>979</th>\n",
       "      <td>user_000987</td>\n",
       "    </tr>\n",
       "    <tr>\n",
       "      <th>980</th>\n",
       "      <td>user_000989</td>\n",
       "    </tr>\n",
       "    <tr>\n",
       "      <th>981</th>\n",
       "      <td>user_000990</td>\n",
       "    </tr>\n",
       "    <tr>\n",
       "      <th>982</th>\n",
       "      <td>user_000991</td>\n",
       "    </tr>\n",
       "    <tr>\n",
       "      <th>983</th>\n",
       "      <td>user_000992</td>\n",
       "    </tr>\n",
       "    <tr>\n",
       "      <th>984</th>\n",
       "      <td>user_000993</td>\n",
       "    </tr>\n",
       "    <tr>\n",
       "      <th>985</th>\n",
       "      <td>user_000994</td>\n",
       "    </tr>\n",
       "    <tr>\n",
       "      <th>986</th>\n",
       "      <td>user_000995</td>\n",
       "    </tr>\n",
       "    <tr>\n",
       "      <th>987</th>\n",
       "      <td>user_000996</td>\n",
       "    </tr>\n",
       "    <tr>\n",
       "      <th>988</th>\n",
       "      <td>user_000997</td>\n",
       "    </tr>\n",
       "    <tr>\n",
       "      <th>989</th>\n",
       "      <td>user_000998</td>\n",
       "    </tr>\n",
       "    <tr>\n",
       "      <th>990</th>\n",
       "      <td>user_000999</td>\n",
       "    </tr>\n",
       "    <tr>\n",
       "      <th>991</th>\n",
       "      <td>user_001000</td>\n",
       "    </tr>\n",
       "  </tbody>\n",
       "</table>\n",
       "<p>992 rows × 1 columns</p>\n",
       "</div>"
      ],
      "text/plain": [
       "          userid\n",
       "0    user_000001\n",
       "1    user_000002\n",
       "2    user_000003\n",
       "3    user_000004\n",
       "4    user_000005\n",
       "5    user_000006\n",
       "6    user_000007\n",
       "7    user_000008\n",
       "8    user_000009\n",
       "9    user_000010\n",
       "10   user_000011\n",
       "11   user_000012\n",
       "12   user_000013\n",
       "13   user_000014\n",
       "14   user_000015\n",
       "15   user_000016\n",
       "16   user_000017\n",
       "17   user_000018\n",
       "18   user_000019\n",
       "19   user_000020\n",
       "20   user_000021\n",
       "21   user_000022\n",
       "22   user_000023\n",
       "23   user_000024\n",
       "24   user_000025\n",
       "25   user_000026\n",
       "26   user_000027\n",
       "27   user_000028\n",
       "28   user_000029\n",
       "29   user_000030\n",
       "..           ...\n",
       "962  user_000970\n",
       "963  user_000971\n",
       "964  user_000972\n",
       "965  user_000973\n",
       "966  user_000974\n",
       "967  user_000975\n",
       "968  user_000976\n",
       "969  user_000977\n",
       "970  user_000978\n",
       "971  user_000979\n",
       "972  user_000980\n",
       "973  user_000981\n",
       "974  user_000982\n",
       "975  user_000983\n",
       "976  user_000984\n",
       "977  user_000985\n",
       "978  user_000986\n",
       "979  user_000987\n",
       "980  user_000989\n",
       "981  user_000990\n",
       "982  user_000991\n",
       "983  user_000992\n",
       "984  user_000993\n",
       "985  user_000994\n",
       "986  user_000995\n",
       "987  user_000996\n",
       "988  user_000997\n",
       "989  user_000998\n",
       "990  user_000999\n",
       "991  user_001000\n",
       "\n",
       "[992 rows x 1 columns]"
      ]
     },
     "execution_count": 20,
     "metadata": {},
     "output_type": "execute_result"
    }
   ],
   "source": [
    "user_unique"
   ]
  },
  {
   "cell_type": "code",
   "execution_count": 21,
   "metadata": {
    "scrolled": true
   },
   "outputs": [],
   "source": [
    "# user_unique2 = user_songs_df.copy()"
   ]
  },
  {
   "cell_type": "code",
   "execution_count": 22,
   "metadata": {},
   "outputs": [],
   "source": [
    "# user_unique2['username'] = user_songs_df['userid'].drop_duplicates()"
   ]
  },
  {
   "cell_type": "code",
   "execution_count": 23,
   "metadata": {},
   "outputs": [],
   "source": [
    "# user_unique2.head()"
   ]
  },
  {
   "cell_type": "code",
   "execution_count": 24,
   "metadata": {},
   "outputs": [],
   "source": [
    "data_profile['username'] = user_unique"
   ]
  },
  {
   "cell_type": "code",
   "execution_count": 25,
   "metadata": {
    "scrolled": true
   },
   "outputs": [
    {
     "data": {
      "text/html": [
       "<div>\n",
       "<style scoped>\n",
       "    .dataframe tbody tr th:only-of-type {\n",
       "        vertical-align: middle;\n",
       "    }\n",
       "\n",
       "    .dataframe tbody tr th {\n",
       "        vertical-align: top;\n",
       "    }\n",
       "\n",
       "    .dataframe thead th {\n",
       "        text-align: right;\n",
       "    }\n",
       "</style>\n",
       "<table border=\"1\" class=\"dataframe\">\n",
       "  <thead>\n",
       "    <tr style=\"text-align: right;\">\n",
       "      <th></th>\n",
       "      <th>userhashid</th>\n",
       "      <th>gender</th>\n",
       "      <th>age</th>\n",
       "      <th>country</th>\n",
       "      <th>signup_date</th>\n",
       "      <th>username</th>\n",
       "    </tr>\n",
       "  </thead>\n",
       "  <tbody>\n",
       "    <tr>\n",
       "      <th>0</th>\n",
       "      <td>00000c289a1829a808ac09c00daf10bc3c4e223b</td>\n",
       "      <td>f</td>\n",
       "      <td>22.0</td>\n",
       "      <td>Germany</td>\n",
       "      <td>Feb 1, 2007</td>\n",
       "      <td>user_000001</td>\n",
       "    </tr>\n",
       "    <tr>\n",
       "      <th>1</th>\n",
       "      <td>00001411dc427966b17297bf4d69e7e193135d89</td>\n",
       "      <td>f</td>\n",
       "      <td>NaN</td>\n",
       "      <td>Canada</td>\n",
       "      <td>Dec 4, 2007</td>\n",
       "      <td>user_000002</td>\n",
       "    </tr>\n",
       "    <tr>\n",
       "      <th>2</th>\n",
       "      <td>00004d2ac9316e22dc007ab2243d6fcb239e707d</td>\n",
       "      <td>NaN</td>\n",
       "      <td>NaN</td>\n",
       "      <td>Germany</td>\n",
       "      <td>Sep 1, 2006</td>\n",
       "      <td>user_000003</td>\n",
       "    </tr>\n",
       "    <tr>\n",
       "      <th>3</th>\n",
       "      <td>000063d3fe1cf2ba248b9e3c3f0334845a27a6bf</td>\n",
       "      <td>m</td>\n",
       "      <td>19.0</td>\n",
       "      <td>Mexico</td>\n",
       "      <td>Apr 28, 2008</td>\n",
       "      <td>user_000004</td>\n",
       "    </tr>\n",
       "    <tr>\n",
       "      <th>4</th>\n",
       "      <td>00007a47085b9aab8af55f52ec8846ac479ac4fe</td>\n",
       "      <td>m</td>\n",
       "      <td>28.0</td>\n",
       "      <td>United States</td>\n",
       "      <td>Jan 27, 2006</td>\n",
       "      <td>user_000005</td>\n",
       "    </tr>\n",
       "    <tr>\n",
       "      <th>5</th>\n",
       "      <td>0000c176103e538d5c9828e695fed4f7ae42dd01</td>\n",
       "      <td>m</td>\n",
       "      <td>20.0</td>\n",
       "      <td>United Kingdom</td>\n",
       "      <td>Jan 14, 2006</td>\n",
       "      <td>user_000006</td>\n",
       "    </tr>\n",
       "    <tr>\n",
       "      <th>6</th>\n",
       "      <td>0000ee7dd906373efa37f4e1185bfe1e3f8695ae</td>\n",
       "      <td>m</td>\n",
       "      <td>17.0</td>\n",
       "      <td>Finland</td>\n",
       "      <td>Nov 17, 2007</td>\n",
       "      <td>user_000007</td>\n",
       "    </tr>\n",
       "    <tr>\n",
       "      <th>7</th>\n",
       "      <td>0000ef373bbd0d89ce796abae961f2705e8c1faf</td>\n",
       "      <td>f</td>\n",
       "      <td>22.0</td>\n",
       "      <td>Poland</td>\n",
       "      <td>May 23, 2007</td>\n",
       "      <td>user_000008</td>\n",
       "    </tr>\n",
       "    <tr>\n",
       "      <th>8</th>\n",
       "      <td>0000f687d4fe9c1ed49620fbc5ed5b0d7798ea20</td>\n",
       "      <td>f</td>\n",
       "      <td>24.0</td>\n",
       "      <td>Spain</td>\n",
       "      <td>Nov 4, 2008</td>\n",
       "      <td>user_000009</td>\n",
       "    </tr>\n",
       "    <tr>\n",
       "      <th>9</th>\n",
       "      <td>0001399387da41d557219578fb08b12afa25ab67</td>\n",
       "      <td>m</td>\n",
       "      <td>NaN</td>\n",
       "      <td>Ukraine</td>\n",
       "      <td>Aug 17, 2008</td>\n",
       "      <td>user_000010</td>\n",
       "    </tr>\n",
       "    <tr>\n",
       "      <th>10</th>\n",
       "      <td>000163263d2a41a3966a3746855b8b75b7d7aa83</td>\n",
       "      <td>m</td>\n",
       "      <td>27.0</td>\n",
       "      <td>Sweden</td>\n",
       "      <td>Jan 5, 2007</td>\n",
       "      <td>user_000011</td>\n",
       "    </tr>\n",
       "    <tr>\n",
       "      <th>11</th>\n",
       "      <td>0001a57568309b287363e72dc682e9a170ba6dc2</td>\n",
       "      <td>NaN</td>\n",
       "      <td>23.0</td>\n",
       "      <td>United States</td>\n",
       "      <td>May 12, 2007</td>\n",
       "      <td>user_000012</td>\n",
       "    </tr>\n",
       "    <tr>\n",
       "      <th>12</th>\n",
       "      <td>0001a88a7092846abb1b70dbcced05f914976371</td>\n",
       "      <td>NaN</td>\n",
       "      <td>NaN</td>\n",
       "      <td>Japan</td>\n",
       "      <td>Oct 13, 2008</td>\n",
       "      <td>user_000013</td>\n",
       "    </tr>\n",
       "    <tr>\n",
       "      <th>13</th>\n",
       "      <td>0001bd96207f323b53652bf400702719ad456d3c</td>\n",
       "      <td>f</td>\n",
       "      <td>18.0</td>\n",
       "      <td>Finland</td>\n",
       "      <td>Mar 10, 2008</td>\n",
       "      <td>user_000014</td>\n",
       "    </tr>\n",
       "    <tr>\n",
       "      <th>14</th>\n",
       "      <td>000215d3060a5b0ab7b3c415d49ec579100d4c87</td>\n",
       "      <td>f</td>\n",
       "      <td>NaN</td>\n",
       "      <td>Australia</td>\n",
       "      <td>Jul 26, 2008</td>\n",
       "      <td>user_000015</td>\n",
       "    </tr>\n",
       "    <tr>\n",
       "      <th>15</th>\n",
       "      <td>00024b5b85c40f990c28644d53257819980bf6bb</td>\n",
       "      <td>m</td>\n",
       "      <td>23.0</td>\n",
       "      <td>United States</td>\n",
       "      <td>Aug 19, 2005</td>\n",
       "      <td>user_000016</td>\n",
       "    </tr>\n",
       "    <tr>\n",
       "      <th>16</th>\n",
       "      <td>00026e8fc41980c9605eac741cd97b8216d2dbbd</td>\n",
       "      <td>m</td>\n",
       "      <td>30.0</td>\n",
       "      <td>Portugal</td>\n",
       "      <td>Apr 22, 2007</td>\n",
       "      <td>user_000017</td>\n",
       "    </tr>\n",
       "    <tr>\n",
       "      <th>17</th>\n",
       "      <td>000294c1f0d9b40067487457ca31f0caab81d44a</td>\n",
       "      <td>m</td>\n",
       "      <td>17.0</td>\n",
       "      <td>Finland</td>\n",
       "      <td>Aug 25, 2008</td>\n",
       "      <td>user_000018</td>\n",
       "    </tr>\n",
       "    <tr>\n",
       "      <th>18</th>\n",
       "      <td>00029d80b8af94f2d5e3349ceb28b7304f80c1c4</td>\n",
       "      <td>NaN</td>\n",
       "      <td>27.0</td>\n",
       "      <td>Australia</td>\n",
       "      <td>Mar 27, 2005</td>\n",
       "      <td>user_000019</td>\n",
       "    </tr>\n",
       "    <tr>\n",
       "      <th>19</th>\n",
       "      <td>0002dd2154072434d26e5409faa591bfb260a01e</td>\n",
       "      <td>m</td>\n",
       "      <td>30.0</td>\n",
       "      <td>United States</td>\n",
       "      <td>Aug 23, 2006</td>\n",
       "      <td>user_000020</td>\n",
       "    </tr>\n",
       "    <tr>\n",
       "      <th>20</th>\n",
       "      <td>0002fa6e25794597126fa44529105cedb31a75aa</td>\n",
       "      <td>m</td>\n",
       "      <td>NaN</td>\n",
       "      <td>Germany</td>\n",
       "      <td>Jan 2, 2009</td>\n",
       "      <td>user_000021</td>\n",
       "    </tr>\n",
       "    <tr>\n",
       "      <th>21</th>\n",
       "      <td>00032c7933e0eb05f2258f1147ef81a90f2d4d6c</td>\n",
       "      <td>f</td>\n",
       "      <td>26.0</td>\n",
       "      <td>United States</td>\n",
       "      <td>Dec 5, 2008</td>\n",
       "      <td>user_000022</td>\n",
       "    </tr>\n",
       "    <tr>\n",
       "      <th>22</th>\n",
       "      <td>00033e1695a2eb4e5fe2322260cf9f112072342f</td>\n",
       "      <td>m</td>\n",
       "      <td>NaN</td>\n",
       "      <td>Russian Federation</td>\n",
       "      <td>Feb 1, 2007</td>\n",
       "      <td>user_000023</td>\n",
       "    </tr>\n",
       "    <tr>\n",
       "      <th>23</th>\n",
       "      <td>00035a0368fd249d286f683e816fbdc97cbfa7d9</td>\n",
       "      <td>m</td>\n",
       "      <td>22.0</td>\n",
       "      <td>United Kingdom</td>\n",
       "      <td>Mar 27, 2007</td>\n",
       "      <td>user_000024</td>\n",
       "    </tr>\n",
       "    <tr>\n",
       "      <th>24</th>\n",
       "      <td>0003848c96fb95f8d349c00de9f1760fe2777946</td>\n",
       "      <td>m</td>\n",
       "      <td>14.0</td>\n",
       "      <td>Finland</td>\n",
       "      <td>Jan 15, 2008</td>\n",
       "      <td>user_000025</td>\n",
       "    </tr>\n",
       "    <tr>\n",
       "      <th>25</th>\n",
       "      <td>0003906ab668111f2cd332962cb09f8e3b795c6c</td>\n",
       "      <td>m</td>\n",
       "      <td>34.0</td>\n",
       "      <td>Belgium</td>\n",
       "      <td>Nov 6, 2006</td>\n",
       "      <td>user_000026</td>\n",
       "    </tr>\n",
       "    <tr>\n",
       "      <th>26</th>\n",
       "      <td>000392e00cf41fbf48865109b72a92b3b72c2fed</td>\n",
       "      <td>NaN</td>\n",
       "      <td>NaN</td>\n",
       "      <td>United Kingdom</td>\n",
       "      <td>Apr 4, 2008</td>\n",
       "      <td>user_000027</td>\n",
       "    </tr>\n",
       "    <tr>\n",
       "      <th>27</th>\n",
       "      <td>00040770932c5fce71bfaff2355228a1aac08dd5</td>\n",
       "      <td>m</td>\n",
       "      <td>19.0</td>\n",
       "      <td>Guatemala</td>\n",
       "      <td>Oct 1, 2008</td>\n",
       "      <td>user_000028</td>\n",
       "    </tr>\n",
       "    <tr>\n",
       "      <th>28</th>\n",
       "      <td>00041cbfdd019b5431f926133266cc4ba38219bb</td>\n",
       "      <td>m</td>\n",
       "      <td>NaN</td>\n",
       "      <td>United States</td>\n",
       "      <td>Jun 22, 2008</td>\n",
       "      <td>user_000029</td>\n",
       "    </tr>\n",
       "    <tr>\n",
       "      <th>29</th>\n",
       "      <td>000429493d9716b66b02180d208d09b5b89fbe64</td>\n",
       "      <td>m</td>\n",
       "      <td>23.0</td>\n",
       "      <td>United States</td>\n",
       "      <td>Sep 26, 2005</td>\n",
       "      <td>user_000030</td>\n",
       "    </tr>\n",
       "    <tr>\n",
       "      <th>...</th>\n",
       "      <td>...</td>\n",
       "      <td>...</td>\n",
       "      <td>...</td>\n",
       "      <td>...</td>\n",
       "      <td>...</td>\n",
       "      <td>...</td>\n",
       "    </tr>\n",
       "    <tr>\n",
       "      <th>962</th>\n",
       "      <td>00b104f739126c8dd22d3b14aeb6be3ac34ad148</td>\n",
       "      <td>m</td>\n",
       "      <td>NaN</td>\n",
       "      <td>China</td>\n",
       "      <td>Nov 14, 2007</td>\n",
       "      <td>user_000970</td>\n",
       "    </tr>\n",
       "    <tr>\n",
       "      <th>963</th>\n",
       "      <td>00b1084c80a1b0c82eb1904af0ca97fb504de870</td>\n",
       "      <td>f</td>\n",
       "      <td>NaN</td>\n",
       "      <td>Canada</td>\n",
       "      <td>Feb 6, 2008</td>\n",
       "      <td>user_000971</td>\n",
       "    </tr>\n",
       "    <tr>\n",
       "      <th>964</th>\n",
       "      <td>00b11f68e73c73351fe154d54b3f75b78b5cc8b2</td>\n",
       "      <td>m</td>\n",
       "      <td>17.0</td>\n",
       "      <td>Germany</td>\n",
       "      <td>Aug 9, 2008</td>\n",
       "      <td>user_000972</td>\n",
       "    </tr>\n",
       "    <tr>\n",
       "      <th>965</th>\n",
       "      <td>00b16cc4a080c87964fd875415c1850aceec5a2d</td>\n",
       "      <td>NaN</td>\n",
       "      <td>23.0</td>\n",
       "      <td>United Kingdom</td>\n",
       "      <td>Apr 10, 2008</td>\n",
       "      <td>user_000973</td>\n",
       "    </tr>\n",
       "    <tr>\n",
       "      <th>966</th>\n",
       "      <td>00b18113f5b06f36dfb587f86b8ef4141dff3118</td>\n",
       "      <td>m</td>\n",
       "      <td>19.0</td>\n",
       "      <td>United States</td>\n",
       "      <td>Nov 25, 2008</td>\n",
       "      <td>user_000974</td>\n",
       "    </tr>\n",
       "    <tr>\n",
       "      <th>967</th>\n",
       "      <td>00b1955adf74806dcc7bd3f62f9b5ff6ed678f06</td>\n",
       "      <td>m</td>\n",
       "      <td>NaN</td>\n",
       "      <td>United States</td>\n",
       "      <td>Sep 12, 2008</td>\n",
       "      <td>user_000975</td>\n",
       "    </tr>\n",
       "    <tr>\n",
       "      <th>968</th>\n",
       "      <td>00b1d3b7d745403039c3da39af5157d51f4a7286</td>\n",
       "      <td>m</td>\n",
       "      <td>26.0</td>\n",
       "      <td>United States</td>\n",
       "      <td>Oct 13, 2006</td>\n",
       "      <td>user_000976</td>\n",
       "    </tr>\n",
       "    <tr>\n",
       "      <th>969</th>\n",
       "      <td>00b1f3510d6b19893fb4ac79d009cb69cc53eabf</td>\n",
       "      <td>NaN</td>\n",
       "      <td>28.0</td>\n",
       "      <td>Austria</td>\n",
       "      <td>Oct 31, 2008</td>\n",
       "      <td>user_000977</td>\n",
       "    </tr>\n",
       "    <tr>\n",
       "      <th>970</th>\n",
       "      <td>00b1f805d8578c713b4891bd5510c7db1b3f5852</td>\n",
       "      <td>m</td>\n",
       "      <td>NaN</td>\n",
       "      <td>Germany</td>\n",
       "      <td>Dec 7, 2008</td>\n",
       "      <td>user_000978</td>\n",
       "    </tr>\n",
       "    <tr>\n",
       "      <th>971</th>\n",
       "      <td>00b1f89f31573d3cc0234aa8256ccff9a58460ea</td>\n",
       "      <td>f</td>\n",
       "      <td>22.0</td>\n",
       "      <td>Germany</td>\n",
       "      <td>Feb 24, 2007</td>\n",
       "      <td>user_000979</td>\n",
       "    </tr>\n",
       "    <tr>\n",
       "      <th>972</th>\n",
       "      <td>00b2881cf561aecb1a0717f2744fd7ba5b633788</td>\n",
       "      <td>NaN</td>\n",
       "      <td>NaN</td>\n",
       "      <td>Switzerland</td>\n",
       "      <td>May 13, 2008</td>\n",
       "      <td>user_000980</td>\n",
       "    </tr>\n",
       "    <tr>\n",
       "      <th>973</th>\n",
       "      <td>00b295cdc63a658e76410eb9077f24cb17ab841e</td>\n",
       "      <td>NaN</td>\n",
       "      <td>NaN</td>\n",
       "      <td>United Kingdom</td>\n",
       "      <td>Nov 4, 2007</td>\n",
       "      <td>user_000981</td>\n",
       "    </tr>\n",
       "    <tr>\n",
       "      <th>974</th>\n",
       "      <td>00b2edafa53703d0f1657433599e345b3643af95</td>\n",
       "      <td>m</td>\n",
       "      <td>19.0</td>\n",
       "      <td>Canada</td>\n",
       "      <td>Jun 27, 2005</td>\n",
       "      <td>user_000982</td>\n",
       "    </tr>\n",
       "    <tr>\n",
       "      <th>975</th>\n",
       "      <td>00b2f3d7916543f2a02c10001c49a40e7ada584b</td>\n",
       "      <td>m</td>\n",
       "      <td>NaN</td>\n",
       "      <td>Japan</td>\n",
       "      <td>Jul 26, 2006</td>\n",
       "      <td>user_000983</td>\n",
       "    </tr>\n",
       "    <tr>\n",
       "      <th>976</th>\n",
       "      <td>00b315a206e2317919684a892bfd34b6053c821c</td>\n",
       "      <td>m</td>\n",
       "      <td>23.0</td>\n",
       "      <td>United Kingdom</td>\n",
       "      <td>Oct 8, 2006</td>\n",
       "      <td>user_000984</td>\n",
       "    </tr>\n",
       "    <tr>\n",
       "      <th>977</th>\n",
       "      <td>00b34ec7a274a554458d7cce49548af655c3da10</td>\n",
       "      <td>NaN</td>\n",
       "      <td>NaN</td>\n",
       "      <td>Russian Federation</td>\n",
       "      <td>Dec 23, 2008</td>\n",
       "      <td>user_000985</td>\n",
       "    </tr>\n",
       "    <tr>\n",
       "      <th>978</th>\n",
       "      <td>00b37c1b35f57f3534daf5ebf6f103de4b9ac2d3</td>\n",
       "      <td>NaN</td>\n",
       "      <td>21.0</td>\n",
       "      <td>Ukraine</td>\n",
       "      <td>Apr 18, 2006</td>\n",
       "      <td>user_000986</td>\n",
       "    </tr>\n",
       "    <tr>\n",
       "      <th>979</th>\n",
       "      <td>00b37db6bd988ff16ef5971ef352ef617e90b222</td>\n",
       "      <td>m</td>\n",
       "      <td>26.0</td>\n",
       "      <td>Argentina</td>\n",
       "      <td>Aug 4, 2008</td>\n",
       "      <td>user_000987</td>\n",
       "    </tr>\n",
       "    <tr>\n",
       "      <th>980</th>\n",
       "      <td>00b38784b41369796616c952cc8105d1ea953b4f</td>\n",
       "      <td>m</td>\n",
       "      <td>NaN</td>\n",
       "      <td>Germany</td>\n",
       "      <td>Jan 14, 2007</td>\n",
       "      <td>user_000989</td>\n",
       "    </tr>\n",
       "    <tr>\n",
       "      <th>981</th>\n",
       "      <td>00b399ef45838493e898124fb2c594ca3381151a</td>\n",
       "      <td>f</td>\n",
       "      <td>18.0</td>\n",
       "      <td>New Zealand</td>\n",
       "      <td>Nov 16, 2006</td>\n",
       "      <td>user_000990</td>\n",
       "    </tr>\n",
       "    <tr>\n",
       "      <th>982</th>\n",
       "      <td>00b3bcd6da345eccf47c8ab94af29379135d8dbb</td>\n",
       "      <td>NaN</td>\n",
       "      <td>21.0</td>\n",
       "      <td>United States</td>\n",
       "      <td>Jan 4, 2007</td>\n",
       "      <td>user_000991</td>\n",
       "    </tr>\n",
       "    <tr>\n",
       "      <th>983</th>\n",
       "      <td>00b3f3957fef227809e0016a8724c8254a352a31</td>\n",
       "      <td>m</td>\n",
       "      <td>22.0</td>\n",
       "      <td>Brazil</td>\n",
       "      <td>Mar 17, 2007</td>\n",
       "      <td>user_000992</td>\n",
       "    </tr>\n",
       "    <tr>\n",
       "      <th>984</th>\n",
       "      <td>00b42ea9ee9bb3c01af7df59a3a45bf03816bdc2</td>\n",
       "      <td>NaN</td>\n",
       "      <td>NaN</td>\n",
       "      <td>Japan</td>\n",
       "      <td>Aug 31, 2008</td>\n",
       "      <td>user_000993</td>\n",
       "    </tr>\n",
       "    <tr>\n",
       "      <th>985</th>\n",
       "      <td>00b447ab4016c6702dcf889534db363135c754d8</td>\n",
       "      <td>m</td>\n",
       "      <td>NaN</td>\n",
       "      <td>United States</td>\n",
       "      <td>Mar 25, 2008</td>\n",
       "      <td>user_000994</td>\n",
       "    </tr>\n",
       "    <tr>\n",
       "      <th>986</th>\n",
       "      <td>00b4583fa06bff15364404065b2408ed0757ae2f</td>\n",
       "      <td>f</td>\n",
       "      <td>26.0</td>\n",
       "      <td>France</td>\n",
       "      <td>Jun 24, 2006</td>\n",
       "      <td>user_000995</td>\n",
       "    </tr>\n",
       "    <tr>\n",
       "      <th>987</th>\n",
       "      <td>00b4a075c99ba33a196ddc941ee6f96b17e5c8e4</td>\n",
       "      <td>f</td>\n",
       "      <td>NaN</td>\n",
       "      <td>Croatia</td>\n",
       "      <td>Mar 8, 2009</td>\n",
       "      <td>user_000996</td>\n",
       "    </tr>\n",
       "    <tr>\n",
       "      <th>988</th>\n",
       "      <td>00b4b2645f09bf071023d4f10135a91c6554ef99</td>\n",
       "      <td>m</td>\n",
       "      <td>NaN</td>\n",
       "      <td>Denmark</td>\n",
       "      <td>Sep 30, 2007</td>\n",
       "      <td>user_000997</td>\n",
       "    </tr>\n",
       "    <tr>\n",
       "      <th>989</th>\n",
       "      <td>00b4ef2701cde996e2c4f2f2a840f335d9bc27bc</td>\n",
       "      <td>f</td>\n",
       "      <td>19.0</td>\n",
       "      <td>Russian Federation</td>\n",
       "      <td>Jan 26, 2007</td>\n",
       "      <td>user_000998</td>\n",
       "    </tr>\n",
       "    <tr>\n",
       "      <th>990</th>\n",
       "      <td>00b500b8301cb32c91835e6f889cfb3f43fc2e80</td>\n",
       "      <td>m</td>\n",
       "      <td>33.0</td>\n",
       "      <td>Uganda</td>\n",
       "      <td>Nov 30, 2005</td>\n",
       "      <td>user_000999</td>\n",
       "    </tr>\n",
       "    <tr>\n",
       "      <th>991</th>\n",
       "      <td>00b5066cacdebe242a200fb4df30203eaac57ce7</td>\n",
       "      <td>m</td>\n",
       "      <td>25.0</td>\n",
       "      <td>Colombia</td>\n",
       "      <td>Dec 20, 2006</td>\n",
       "      <td>user_001000</td>\n",
       "    </tr>\n",
       "  </tbody>\n",
       "</table>\n",
       "<p>992 rows × 6 columns</p>\n",
       "</div>"
      ],
      "text/plain": [
       "                                   userhashid gender   age  \\\n",
       "0    00000c289a1829a808ac09c00daf10bc3c4e223b      f  22.0   \n",
       "1    00001411dc427966b17297bf4d69e7e193135d89      f   NaN   \n",
       "2    00004d2ac9316e22dc007ab2243d6fcb239e707d    NaN   NaN   \n",
       "3    000063d3fe1cf2ba248b9e3c3f0334845a27a6bf      m  19.0   \n",
       "4    00007a47085b9aab8af55f52ec8846ac479ac4fe      m  28.0   \n",
       "5    0000c176103e538d5c9828e695fed4f7ae42dd01      m  20.0   \n",
       "6    0000ee7dd906373efa37f4e1185bfe1e3f8695ae      m  17.0   \n",
       "7    0000ef373bbd0d89ce796abae961f2705e8c1faf      f  22.0   \n",
       "8    0000f687d4fe9c1ed49620fbc5ed5b0d7798ea20      f  24.0   \n",
       "9    0001399387da41d557219578fb08b12afa25ab67      m   NaN   \n",
       "10   000163263d2a41a3966a3746855b8b75b7d7aa83      m  27.0   \n",
       "11   0001a57568309b287363e72dc682e9a170ba6dc2    NaN  23.0   \n",
       "12   0001a88a7092846abb1b70dbcced05f914976371    NaN   NaN   \n",
       "13   0001bd96207f323b53652bf400702719ad456d3c      f  18.0   \n",
       "14   000215d3060a5b0ab7b3c415d49ec579100d4c87      f   NaN   \n",
       "15   00024b5b85c40f990c28644d53257819980bf6bb      m  23.0   \n",
       "16   00026e8fc41980c9605eac741cd97b8216d2dbbd      m  30.0   \n",
       "17   000294c1f0d9b40067487457ca31f0caab81d44a      m  17.0   \n",
       "18   00029d80b8af94f2d5e3349ceb28b7304f80c1c4    NaN  27.0   \n",
       "19   0002dd2154072434d26e5409faa591bfb260a01e      m  30.0   \n",
       "20   0002fa6e25794597126fa44529105cedb31a75aa      m   NaN   \n",
       "21   00032c7933e0eb05f2258f1147ef81a90f2d4d6c      f  26.0   \n",
       "22   00033e1695a2eb4e5fe2322260cf9f112072342f      m   NaN   \n",
       "23   00035a0368fd249d286f683e816fbdc97cbfa7d9      m  22.0   \n",
       "24   0003848c96fb95f8d349c00de9f1760fe2777946      m  14.0   \n",
       "25   0003906ab668111f2cd332962cb09f8e3b795c6c      m  34.0   \n",
       "26   000392e00cf41fbf48865109b72a92b3b72c2fed    NaN   NaN   \n",
       "27   00040770932c5fce71bfaff2355228a1aac08dd5      m  19.0   \n",
       "28   00041cbfdd019b5431f926133266cc4ba38219bb      m   NaN   \n",
       "29   000429493d9716b66b02180d208d09b5b89fbe64      m  23.0   \n",
       "..                                        ...    ...   ...   \n",
       "962  00b104f739126c8dd22d3b14aeb6be3ac34ad148      m   NaN   \n",
       "963  00b1084c80a1b0c82eb1904af0ca97fb504de870      f   NaN   \n",
       "964  00b11f68e73c73351fe154d54b3f75b78b5cc8b2      m  17.0   \n",
       "965  00b16cc4a080c87964fd875415c1850aceec5a2d    NaN  23.0   \n",
       "966  00b18113f5b06f36dfb587f86b8ef4141dff3118      m  19.0   \n",
       "967  00b1955adf74806dcc7bd3f62f9b5ff6ed678f06      m   NaN   \n",
       "968  00b1d3b7d745403039c3da39af5157d51f4a7286      m  26.0   \n",
       "969  00b1f3510d6b19893fb4ac79d009cb69cc53eabf    NaN  28.0   \n",
       "970  00b1f805d8578c713b4891bd5510c7db1b3f5852      m   NaN   \n",
       "971  00b1f89f31573d3cc0234aa8256ccff9a58460ea      f  22.0   \n",
       "972  00b2881cf561aecb1a0717f2744fd7ba5b633788    NaN   NaN   \n",
       "973  00b295cdc63a658e76410eb9077f24cb17ab841e    NaN   NaN   \n",
       "974  00b2edafa53703d0f1657433599e345b3643af95      m  19.0   \n",
       "975  00b2f3d7916543f2a02c10001c49a40e7ada584b      m   NaN   \n",
       "976  00b315a206e2317919684a892bfd34b6053c821c      m  23.0   \n",
       "977  00b34ec7a274a554458d7cce49548af655c3da10    NaN   NaN   \n",
       "978  00b37c1b35f57f3534daf5ebf6f103de4b9ac2d3    NaN  21.0   \n",
       "979  00b37db6bd988ff16ef5971ef352ef617e90b222      m  26.0   \n",
       "980  00b38784b41369796616c952cc8105d1ea953b4f      m   NaN   \n",
       "981  00b399ef45838493e898124fb2c594ca3381151a      f  18.0   \n",
       "982  00b3bcd6da345eccf47c8ab94af29379135d8dbb    NaN  21.0   \n",
       "983  00b3f3957fef227809e0016a8724c8254a352a31      m  22.0   \n",
       "984  00b42ea9ee9bb3c01af7df59a3a45bf03816bdc2    NaN   NaN   \n",
       "985  00b447ab4016c6702dcf889534db363135c754d8      m   NaN   \n",
       "986  00b4583fa06bff15364404065b2408ed0757ae2f      f  26.0   \n",
       "987  00b4a075c99ba33a196ddc941ee6f96b17e5c8e4      f   NaN   \n",
       "988  00b4b2645f09bf071023d4f10135a91c6554ef99      m   NaN   \n",
       "989  00b4ef2701cde996e2c4f2f2a840f335d9bc27bc      f  19.0   \n",
       "990  00b500b8301cb32c91835e6f889cfb3f43fc2e80      m  33.0   \n",
       "991  00b5066cacdebe242a200fb4df30203eaac57ce7      m  25.0   \n",
       "\n",
       "                country   signup_date     username  \n",
       "0               Germany   Feb 1, 2007  user_000001  \n",
       "1                Canada   Dec 4, 2007  user_000002  \n",
       "2               Germany   Sep 1, 2006  user_000003  \n",
       "3                Mexico  Apr 28, 2008  user_000004  \n",
       "4         United States  Jan 27, 2006  user_000005  \n",
       "5        United Kingdom  Jan 14, 2006  user_000006  \n",
       "6               Finland  Nov 17, 2007  user_000007  \n",
       "7                Poland  May 23, 2007  user_000008  \n",
       "8                 Spain   Nov 4, 2008  user_000009  \n",
       "9               Ukraine  Aug 17, 2008  user_000010  \n",
       "10               Sweden   Jan 5, 2007  user_000011  \n",
       "11        United States  May 12, 2007  user_000012  \n",
       "12                Japan  Oct 13, 2008  user_000013  \n",
       "13              Finland  Mar 10, 2008  user_000014  \n",
       "14            Australia  Jul 26, 2008  user_000015  \n",
       "15        United States  Aug 19, 2005  user_000016  \n",
       "16             Portugal  Apr 22, 2007  user_000017  \n",
       "17              Finland  Aug 25, 2008  user_000018  \n",
       "18            Australia  Mar 27, 2005  user_000019  \n",
       "19        United States  Aug 23, 2006  user_000020  \n",
       "20              Germany   Jan 2, 2009  user_000021  \n",
       "21        United States   Dec 5, 2008  user_000022  \n",
       "22   Russian Federation   Feb 1, 2007  user_000023  \n",
       "23       United Kingdom  Mar 27, 2007  user_000024  \n",
       "24              Finland  Jan 15, 2008  user_000025  \n",
       "25              Belgium   Nov 6, 2006  user_000026  \n",
       "26       United Kingdom   Apr 4, 2008  user_000027  \n",
       "27            Guatemala   Oct 1, 2008  user_000028  \n",
       "28        United States  Jun 22, 2008  user_000029  \n",
       "29        United States  Sep 26, 2005  user_000030  \n",
       "..                  ...           ...          ...  \n",
       "962               China  Nov 14, 2007  user_000970  \n",
       "963              Canada   Feb 6, 2008  user_000971  \n",
       "964             Germany   Aug 9, 2008  user_000972  \n",
       "965      United Kingdom  Apr 10, 2008  user_000973  \n",
       "966       United States  Nov 25, 2008  user_000974  \n",
       "967       United States  Sep 12, 2008  user_000975  \n",
       "968       United States  Oct 13, 2006  user_000976  \n",
       "969             Austria  Oct 31, 2008  user_000977  \n",
       "970             Germany   Dec 7, 2008  user_000978  \n",
       "971             Germany  Feb 24, 2007  user_000979  \n",
       "972         Switzerland  May 13, 2008  user_000980  \n",
       "973      United Kingdom   Nov 4, 2007  user_000981  \n",
       "974              Canada  Jun 27, 2005  user_000982  \n",
       "975               Japan  Jul 26, 2006  user_000983  \n",
       "976      United Kingdom   Oct 8, 2006  user_000984  \n",
       "977  Russian Federation  Dec 23, 2008  user_000985  \n",
       "978             Ukraine  Apr 18, 2006  user_000986  \n",
       "979           Argentina   Aug 4, 2008  user_000987  \n",
       "980             Germany  Jan 14, 2007  user_000989  \n",
       "981         New Zealand  Nov 16, 2006  user_000990  \n",
       "982       United States   Jan 4, 2007  user_000991  \n",
       "983              Brazil  Mar 17, 2007  user_000992  \n",
       "984               Japan  Aug 31, 2008  user_000993  \n",
       "985       United States  Mar 25, 2008  user_000994  \n",
       "986              France  Jun 24, 2006  user_000995  \n",
       "987             Croatia   Mar 8, 2009  user_000996  \n",
       "988             Denmark  Sep 30, 2007  user_000997  \n",
       "989  Russian Federation  Jan 26, 2007  user_000998  \n",
       "990              Uganda  Nov 30, 2005  user_000999  \n",
       "991            Colombia  Dec 20, 2006  user_001000  \n",
       "\n",
       "[992 rows x 6 columns]"
      ]
     },
     "execution_count": 25,
     "metadata": {},
     "output_type": "execute_result"
    }
   ],
   "source": [
    "data_profile[:992]"
   ]
  },
  {
   "cell_type": "code",
   "execution_count": 26,
   "metadata": {},
   "outputs": [
    {
     "data": {
      "text/plain": [
       "359347"
      ]
     },
     "execution_count": 26,
     "metadata": {},
     "output_type": "execute_result"
    }
   ],
   "source": [
    "data_profile['userhashid'].nunique()"
   ]
  },
  {
   "cell_type": "code",
   "execution_count": 27,
   "metadata": {},
   "outputs": [],
   "source": [
    "# create user profile data after merging\n",
    "#user_songs_df[pd.Series( user_songs_df['userid'].unique() ) ]\n",
    "#user_songs_df['userid'].value_counts().sort_index()\n",
    "#user_songs_df [ pd.Series ( user_songs_df['userid'].unique().tolist() ) ]"
   ]
  },
  {
   "cell_type": "code",
   "execution_count": null,
   "metadata": {},
   "outputs": [],
   "source": []
  },
  {
   "cell_type": "code",
   "execution_count": null,
   "metadata": {},
   "outputs": [],
   "source": []
  },
  {
   "cell_type": "code",
   "execution_count": 28,
   "metadata": {},
   "outputs": [
    {
     "data": {
      "text/html": [
       "<div>\n",
       "<style scoped>\n",
       "    .dataframe tbody tr th:only-of-type {\n",
       "        vertical-align: middle;\n",
       "    }\n",
       "\n",
       "    .dataframe tbody tr th {\n",
       "        vertical-align: top;\n",
       "    }\n",
       "\n",
       "    .dataframe thead th {\n",
       "        text-align: right;\n",
       "    }\n",
       "</style>\n",
       "<table border=\"1\" class=\"dataframe\">\n",
       "  <thead>\n",
       "    <tr style=\"text-align: right;\">\n",
       "      <th></th>\n",
       "      <th>userid</th>\n",
       "      <th>artistid</th>\n",
       "      <th>song</th>\n",
       "      <th>time</th>\n",
       "    </tr>\n",
       "  </thead>\n",
       "  <tbody>\n",
       "    <tr>\n",
       "      <th>0</th>\n",
       "      <td>user_000001</td>\n",
       "      <td>f1b1cf71-bd35-4e99-8624-24a6e15f133a</td>\n",
       "      <td>Fuck Me Im Famous (Pacha Ibiza)-09-28-2007</td>\n",
       "      <td>2009-05-04 23:08:57</td>\n",
       "    </tr>\n",
       "    <tr>\n",
       "      <th>1</th>\n",
       "      <td>user_000001</td>\n",
       "      <td>a7f7df4a-77d8-4f12-8acd-5c60c93f4de8</td>\n",
       "      <td>Composition 0919 (Live_2009_4_15)</td>\n",
       "      <td>2009-05-04 13:54:10</td>\n",
       "    </tr>\n",
       "    <tr>\n",
       "      <th>2</th>\n",
       "      <td>user_000001</td>\n",
       "      <td>a7f7df4a-77d8-4f12-8acd-5c60c93f4de8</td>\n",
       "      <td>Mc2 (Live_2009_4_15)</td>\n",
       "      <td>2009-05-04 13:52:04</td>\n",
       "    </tr>\n",
       "    <tr>\n",
       "      <th>3</th>\n",
       "      <td>user_000001</td>\n",
       "      <td>a7f7df4a-77d8-4f12-8acd-5c60c93f4de8</td>\n",
       "      <td>Hibari (Live_2009_4_15)</td>\n",
       "      <td>2009-05-04 13:42:52</td>\n",
       "    </tr>\n",
       "    <tr>\n",
       "      <th>4</th>\n",
       "      <td>user_000001</td>\n",
       "      <td>a7f7df4a-77d8-4f12-8acd-5c60c93f4de8</td>\n",
       "      <td>Mc1 (Live_2009_4_15)</td>\n",
       "      <td>2009-05-04 13:42:11</td>\n",
       "    </tr>\n",
       "  </tbody>\n",
       "</table>\n",
       "</div>"
      ],
      "text/plain": [
       "        userid                              artistid  \\\n",
       "0  user_000001  f1b1cf71-bd35-4e99-8624-24a6e15f133a   \n",
       "1  user_000001  a7f7df4a-77d8-4f12-8acd-5c60c93f4de8   \n",
       "2  user_000001  a7f7df4a-77d8-4f12-8acd-5c60c93f4de8   \n",
       "3  user_000001  a7f7df4a-77d8-4f12-8acd-5c60c93f4de8   \n",
       "4  user_000001  a7f7df4a-77d8-4f12-8acd-5c60c93f4de8   \n",
       "\n",
       "                                         song                time  \n",
       "0  Fuck Me Im Famous (Pacha Ibiza)-09-28-2007 2009-05-04 23:08:57  \n",
       "1           Composition 0919 (Live_2009_4_15) 2009-05-04 13:54:10  \n",
       "2                        Mc2 (Live_2009_4_15) 2009-05-04 13:52:04  \n",
       "3                     Hibari (Live_2009_4_15) 2009-05-04 13:42:52  \n",
       "4                        Mc1 (Live_2009_4_15) 2009-05-04 13:42:11  "
      ]
     },
     "execution_count": 28,
     "metadata": {},
     "output_type": "execute_result"
    }
   ],
   "source": [
    "user_songs_df.head()"
   ]
  },
  {
   "cell_type": "code",
   "execution_count": 29,
   "metadata": {},
   "outputs": [],
   "source": [
    "user_songs_df = user_songs_df.merge(data_profile[:992], left_on='userid', right_on='username', how = 'outer')"
   ]
  },
  {
   "cell_type": "code",
   "execution_count": 30,
   "metadata": {},
   "outputs": [
    {
     "data": {
      "text/html": [
       "<div>\n",
       "<style scoped>\n",
       "    .dataframe tbody tr th:only-of-type {\n",
       "        vertical-align: middle;\n",
       "    }\n",
       "\n",
       "    .dataframe tbody tr th {\n",
       "        vertical-align: top;\n",
       "    }\n",
       "\n",
       "    .dataframe thead th {\n",
       "        text-align: right;\n",
       "    }\n",
       "</style>\n",
       "<table border=\"1\" class=\"dataframe\">\n",
       "  <thead>\n",
       "    <tr style=\"text-align: right;\">\n",
       "      <th></th>\n",
       "      <th>userid</th>\n",
       "      <th>artistid</th>\n",
       "      <th>song</th>\n",
       "      <th>time</th>\n",
       "      <th>userhashid</th>\n",
       "      <th>gender</th>\n",
       "      <th>age</th>\n",
       "      <th>country</th>\n",
       "      <th>signup_date</th>\n",
       "      <th>username</th>\n",
       "    </tr>\n",
       "  </thead>\n",
       "  <tbody>\n",
       "    <tr>\n",
       "      <th>0</th>\n",
       "      <td>user_000001</td>\n",
       "      <td>f1b1cf71-bd35-4e99-8624-24a6e15f133a</td>\n",
       "      <td>Fuck Me Im Famous (Pacha Ibiza)-09-28-2007</td>\n",
       "      <td>2009-05-04 23:08:57</td>\n",
       "      <td>00000c289a1829a808ac09c00daf10bc3c4e223b</td>\n",
       "      <td>f</td>\n",
       "      <td>22.0</td>\n",
       "      <td>Germany</td>\n",
       "      <td>Feb 1, 2007</td>\n",
       "      <td>user_000001</td>\n",
       "    </tr>\n",
       "    <tr>\n",
       "      <th>1</th>\n",
       "      <td>user_000001</td>\n",
       "      <td>a7f7df4a-77d8-4f12-8acd-5c60c93f4de8</td>\n",
       "      <td>Composition 0919 (Live_2009_4_15)</td>\n",
       "      <td>2009-05-04 13:54:10</td>\n",
       "      <td>00000c289a1829a808ac09c00daf10bc3c4e223b</td>\n",
       "      <td>f</td>\n",
       "      <td>22.0</td>\n",
       "      <td>Germany</td>\n",
       "      <td>Feb 1, 2007</td>\n",
       "      <td>user_000001</td>\n",
       "    </tr>\n",
       "    <tr>\n",
       "      <th>2</th>\n",
       "      <td>user_000001</td>\n",
       "      <td>a7f7df4a-77d8-4f12-8acd-5c60c93f4de8</td>\n",
       "      <td>Mc2 (Live_2009_4_15)</td>\n",
       "      <td>2009-05-04 13:52:04</td>\n",
       "      <td>00000c289a1829a808ac09c00daf10bc3c4e223b</td>\n",
       "      <td>f</td>\n",
       "      <td>22.0</td>\n",
       "      <td>Germany</td>\n",
       "      <td>Feb 1, 2007</td>\n",
       "      <td>user_000001</td>\n",
       "    </tr>\n",
       "    <tr>\n",
       "      <th>3</th>\n",
       "      <td>user_000001</td>\n",
       "      <td>a7f7df4a-77d8-4f12-8acd-5c60c93f4de8</td>\n",
       "      <td>Hibari (Live_2009_4_15)</td>\n",
       "      <td>2009-05-04 13:42:52</td>\n",
       "      <td>00000c289a1829a808ac09c00daf10bc3c4e223b</td>\n",
       "      <td>f</td>\n",
       "      <td>22.0</td>\n",
       "      <td>Germany</td>\n",
       "      <td>Feb 1, 2007</td>\n",
       "      <td>user_000001</td>\n",
       "    </tr>\n",
       "    <tr>\n",
       "      <th>4</th>\n",
       "      <td>user_000001</td>\n",
       "      <td>a7f7df4a-77d8-4f12-8acd-5c60c93f4de8</td>\n",
       "      <td>Mc1 (Live_2009_4_15)</td>\n",
       "      <td>2009-05-04 13:42:11</td>\n",
       "      <td>00000c289a1829a808ac09c00daf10bc3c4e223b</td>\n",
       "      <td>f</td>\n",
       "      <td>22.0</td>\n",
       "      <td>Germany</td>\n",
       "      <td>Feb 1, 2007</td>\n",
       "      <td>user_000001</td>\n",
       "    </tr>\n",
       "  </tbody>\n",
       "</table>\n",
       "</div>"
      ],
      "text/plain": [
       "        userid                              artistid  \\\n",
       "0  user_000001  f1b1cf71-bd35-4e99-8624-24a6e15f133a   \n",
       "1  user_000001  a7f7df4a-77d8-4f12-8acd-5c60c93f4de8   \n",
       "2  user_000001  a7f7df4a-77d8-4f12-8acd-5c60c93f4de8   \n",
       "3  user_000001  a7f7df4a-77d8-4f12-8acd-5c60c93f4de8   \n",
       "4  user_000001  a7f7df4a-77d8-4f12-8acd-5c60c93f4de8   \n",
       "\n",
       "                                         song                time  \\\n",
       "0  Fuck Me Im Famous (Pacha Ibiza)-09-28-2007 2009-05-04 23:08:57   \n",
       "1           Composition 0919 (Live_2009_4_15) 2009-05-04 13:54:10   \n",
       "2                        Mc2 (Live_2009_4_15) 2009-05-04 13:52:04   \n",
       "3                     Hibari (Live_2009_4_15) 2009-05-04 13:42:52   \n",
       "4                        Mc1 (Live_2009_4_15) 2009-05-04 13:42:11   \n",
       "\n",
       "                                 userhashid gender   age  country  \\\n",
       "0  00000c289a1829a808ac09c00daf10bc3c4e223b      f  22.0  Germany   \n",
       "1  00000c289a1829a808ac09c00daf10bc3c4e223b      f  22.0  Germany   \n",
       "2  00000c289a1829a808ac09c00daf10bc3c4e223b      f  22.0  Germany   \n",
       "3  00000c289a1829a808ac09c00daf10bc3c4e223b      f  22.0  Germany   \n",
       "4  00000c289a1829a808ac09c00daf10bc3c4e223b      f  22.0  Germany   \n",
       "\n",
       "   signup_date     username  \n",
       "0  Feb 1, 2007  user_000001  \n",
       "1  Feb 1, 2007  user_000001  \n",
       "2  Feb 1, 2007  user_000001  \n",
       "3  Feb 1, 2007  user_000001  \n",
       "4  Feb 1, 2007  user_000001  "
      ]
     },
     "execution_count": 30,
     "metadata": {},
     "output_type": "execute_result"
    }
   ],
   "source": [
    "user_songs_df.head()"
   ]
  },
  {
   "cell_type": "code",
   "execution_count": 31,
   "metadata": {},
   "outputs": [],
   "source": [
    "user_songs_df = user_songs_df.drop(['userhashid', 'signup_date', 'username'], axis = 1)"
   ]
  },
  {
   "cell_type": "code",
   "execution_count": 32,
   "metadata": {
    "scrolled": true
   },
   "outputs": [],
   "source": [
    "#user_songs_df = user_songs_df.rename ( columns = {\"userid_x\" : \"userid\"} )"
   ]
  },
  {
   "cell_type": "code",
   "execution_count": 33,
   "metadata": {},
   "outputs": [
    {
     "data": {
      "text/html": [
       "<div>\n",
       "<style scoped>\n",
       "    .dataframe tbody tr th:only-of-type {\n",
       "        vertical-align: middle;\n",
       "    }\n",
       "\n",
       "    .dataframe tbody tr th {\n",
       "        vertical-align: top;\n",
       "    }\n",
       "\n",
       "    .dataframe thead th {\n",
       "        text-align: right;\n",
       "    }\n",
       "</style>\n",
       "<table border=\"1\" class=\"dataframe\">\n",
       "  <thead>\n",
       "    <tr style=\"text-align: right;\">\n",
       "      <th></th>\n",
       "      <th>userid</th>\n",
       "      <th>artistid</th>\n",
       "      <th>song</th>\n",
       "      <th>time</th>\n",
       "      <th>gender</th>\n",
       "      <th>age</th>\n",
       "      <th>country</th>\n",
       "    </tr>\n",
       "  </thead>\n",
       "  <tbody>\n",
       "    <tr>\n",
       "      <th>0</th>\n",
       "      <td>user_000001</td>\n",
       "      <td>f1b1cf71-bd35-4e99-8624-24a6e15f133a</td>\n",
       "      <td>Fuck Me Im Famous (Pacha Ibiza)-09-28-2007</td>\n",
       "      <td>2009-05-04 23:08:57</td>\n",
       "      <td>f</td>\n",
       "      <td>22.0</td>\n",
       "      <td>Germany</td>\n",
       "    </tr>\n",
       "    <tr>\n",
       "      <th>1</th>\n",
       "      <td>user_000001</td>\n",
       "      <td>a7f7df4a-77d8-4f12-8acd-5c60c93f4de8</td>\n",
       "      <td>Composition 0919 (Live_2009_4_15)</td>\n",
       "      <td>2009-05-04 13:54:10</td>\n",
       "      <td>f</td>\n",
       "      <td>22.0</td>\n",
       "      <td>Germany</td>\n",
       "    </tr>\n",
       "    <tr>\n",
       "      <th>2</th>\n",
       "      <td>user_000001</td>\n",
       "      <td>a7f7df4a-77d8-4f12-8acd-5c60c93f4de8</td>\n",
       "      <td>Mc2 (Live_2009_4_15)</td>\n",
       "      <td>2009-05-04 13:52:04</td>\n",
       "      <td>f</td>\n",
       "      <td>22.0</td>\n",
       "      <td>Germany</td>\n",
       "    </tr>\n",
       "    <tr>\n",
       "      <th>3</th>\n",
       "      <td>user_000001</td>\n",
       "      <td>a7f7df4a-77d8-4f12-8acd-5c60c93f4de8</td>\n",
       "      <td>Hibari (Live_2009_4_15)</td>\n",
       "      <td>2009-05-04 13:42:52</td>\n",
       "      <td>f</td>\n",
       "      <td>22.0</td>\n",
       "      <td>Germany</td>\n",
       "    </tr>\n",
       "    <tr>\n",
       "      <th>4</th>\n",
       "      <td>user_000001</td>\n",
       "      <td>a7f7df4a-77d8-4f12-8acd-5c60c93f4de8</td>\n",
       "      <td>Mc1 (Live_2009_4_15)</td>\n",
       "      <td>2009-05-04 13:42:11</td>\n",
       "      <td>f</td>\n",
       "      <td>22.0</td>\n",
       "      <td>Germany</td>\n",
       "    </tr>\n",
       "  </tbody>\n",
       "</table>\n",
       "</div>"
      ],
      "text/plain": [
       "        userid                              artistid  \\\n",
       "0  user_000001  f1b1cf71-bd35-4e99-8624-24a6e15f133a   \n",
       "1  user_000001  a7f7df4a-77d8-4f12-8acd-5c60c93f4de8   \n",
       "2  user_000001  a7f7df4a-77d8-4f12-8acd-5c60c93f4de8   \n",
       "3  user_000001  a7f7df4a-77d8-4f12-8acd-5c60c93f4de8   \n",
       "4  user_000001  a7f7df4a-77d8-4f12-8acd-5c60c93f4de8   \n",
       "\n",
       "                                         song                time gender  \\\n",
       "0  Fuck Me Im Famous (Pacha Ibiza)-09-28-2007 2009-05-04 23:08:57      f   \n",
       "1           Composition 0919 (Live_2009_4_15) 2009-05-04 13:54:10      f   \n",
       "2                        Mc2 (Live_2009_4_15) 2009-05-04 13:52:04      f   \n",
       "3                     Hibari (Live_2009_4_15) 2009-05-04 13:42:52      f   \n",
       "4                        Mc1 (Live_2009_4_15) 2009-05-04 13:42:11      f   \n",
       "\n",
       "    age  country  \n",
       "0  22.0  Germany  \n",
       "1  22.0  Germany  \n",
       "2  22.0  Germany  \n",
       "3  22.0  Germany  \n",
       "4  22.0  Germany  "
      ]
     },
     "execution_count": 33,
     "metadata": {},
     "output_type": "execute_result"
    }
   ],
   "source": [
    "user_songs_df.head()"
   ]
  },
  {
   "cell_type": "code",
   "execution_count": null,
   "metadata": {},
   "outputs": [],
   "source": []
  },
  {
   "cell_type": "code",
   "execution_count": 34,
   "metadata": {},
   "outputs": [],
   "source": [
    "def get_unique_count(column):\n",
    "    return len(set(column))"
   ]
  },
  {
   "cell_type": "code",
   "execution_count": 35,
   "metadata": {},
   "outputs": [
    {
     "data": {
      "text/plain": [
       "19098853"
      ]
     },
     "execution_count": 35,
     "metadata": {},
     "output_type": "execute_result"
    }
   ],
   "source": [
    "len(user_songs_df)"
   ]
  },
  {
   "cell_type": "code",
   "execution_count": 36,
   "metadata": {},
   "outputs": [],
   "source": [
    "# df_songs_heard_10_users = user_songs_df.groupby(\"song\").filter(lambda x: get_unique_count( x['userid']) > 10)"
   ]
  },
  {
   "cell_type": "code",
   "execution_count": 37,
   "metadata": {},
   "outputs": [],
   "source": [
    "# len(df_songs_heard_10_users)"
   ]
  },
  {
   "cell_type": "code",
   "execution_count": 38,
   "metadata": {},
   "outputs": [],
   "source": [
    "# df_songs_heard_10_users.head()"
   ]
  },
  {
   "cell_type": "code",
   "execution_count": 39,
   "metadata": {},
   "outputs": [],
   "source": [
    "# print('Number of songs heard by at least 10 users : ' + str(df_songs_heard_10_users['song'].nunique()))\n",
    "# print('Number of users in this dataframe : ' + str(df_songs_heard_10_users['userid'].nunique()))"
   ]
  },
  {
   "cell_type": "code",
   "execution_count": 40,
   "metadata": {},
   "outputs": [],
   "source": [
    "# %%time\n",
    "# df_songs_heard_100_users = user_songs_df.groupby(\"song\").filter(lambda x: get_unique_count(x['userid'])>100)"
   ]
  },
  {
   "cell_type": "code",
   "execution_count": 41,
   "metadata": {},
   "outputs": [],
   "source": [
    "# len(df_songs_heard_100_users)"
   ]
  },
  {
   "cell_type": "code",
   "execution_count": 42,
   "metadata": {},
   "outputs": [],
   "source": [
    "# df_songs_heard_100_users.head()"
   ]
  },
  {
   "cell_type": "code",
   "execution_count": 43,
   "metadata": {},
   "outputs": [],
   "source": [
    "# print('Number of songs heard by at least 100 users : ' + str(df_songs_heard_100_users['song'].nunique()))\n",
    "# print('Number of users in this dataframe : ' + str(df_songs_heard_100_users['userid'].nunique()))"
   ]
  },
  {
   "cell_type": "markdown",
   "metadata": {},
   "source": [
    "### Creation of timeslots"
   ]
  },
  {
   "cell_type": "code",
   "execution_count": 44,
   "metadata": {},
   "outputs": [],
   "source": [
    "# df_songs_heard_100_users['hour'] = df_songs_heard_100_users['time'].dt.hour"
   ]
  },
  {
   "cell_type": "code",
   "execution_count": 45,
   "metadata": {},
   "outputs": [],
   "source": [
    "# df_songs_heard_100_users.head()"
   ]
  },
  {
   "cell_type": "code",
   "execution_count": 46,
   "metadata": {},
   "outputs": [],
   "source": [
    "#function to return slot number\n",
    "def slot(hour):\n",
    "    if 0 <= hour and hour <= 5:\n",
    "        return 1\n",
    "    elif 6 <= hour and hour <= 11:\n",
    "        return 2\n",
    "    elif 12 <= hour and hour <= 17:\n",
    "        return 3\n",
    "    else:\n",
    "        return 4"
   ]
  },
  {
   "cell_type": "code",
   "execution_count": 47,
   "metadata": {},
   "outputs": [],
   "source": [
    "# %%time\n",
    "# df_songs_heard_100_users['slot'] = df_songs_heard_100_users['hour'].apply( lambda x : slot(x) ) "
   ]
  },
  {
   "cell_type": "code",
   "execution_count": 48,
   "metadata": {},
   "outputs": [],
   "source": [
    "# df_songs_heard_100_users.head()"
   ]
  },
  {
   "cell_type": "code",
   "execution_count": 49,
   "metadata": {},
   "outputs": [],
   "source": [
    "# df_songs_heard_100_users.shape"
   ]
  },
  {
   "cell_type": "markdown",
   "metadata": {},
   "source": [
    "Get count of songs and add to rest of the data. Use all slots."
   ]
  },
  {
   "cell_type": "code",
   "execution_count": 50,
   "metadata": {},
   "outputs": [],
   "source": [
    "# full dataser:\n",
    "# user_songs_df.head()"
   ]
  },
  {
   "cell_type": "code",
   "execution_count": 51,
   "metadata": {},
   "outputs": [
    {
     "name": "stdout",
     "output_type": "stream",
     "text": [
      "Wall time: 8.84 s\n"
     ]
    }
   ],
   "source": [
    "%%time\n",
    "user_song_df_count = user_songs_df.groupby([\"userid\",\"song\"]).size().reset_index(name=\"count\")"
   ]
  },
  {
   "cell_type": "code",
   "execution_count": 52,
   "metadata": {
    "scrolled": true
   },
   "outputs": [
    {
     "data": {
      "text/html": [
       "<div>\n",
       "<style scoped>\n",
       "    .dataframe tbody tr th:only-of-type {\n",
       "        vertical-align: middle;\n",
       "    }\n",
       "\n",
       "    .dataframe tbody tr th {\n",
       "        vertical-align: top;\n",
       "    }\n",
       "\n",
       "    .dataframe thead th {\n",
       "        text-align: right;\n",
       "    }\n",
       "</style>\n",
       "<table border=\"1\" class=\"dataframe\">\n",
       "  <thead>\n",
       "    <tr style=\"text-align: right;\">\n",
       "      <th></th>\n",
       "      <th>userid</th>\n",
       "      <th>song</th>\n",
       "      <th>count</th>\n",
       "    </tr>\n",
       "  </thead>\n",
       "  <tbody>\n",
       "    <tr>\n",
       "      <th>0</th>\n",
       "      <td>user_000001</td>\n",
       "      <td>'84 Pontiac Dream</td>\n",
       "      <td>14</td>\n",
       "    </tr>\n",
       "    <tr>\n",
       "      <th>1</th>\n",
       "      <td>user_000001</td>\n",
       "      <td>(All I Wanted Was To Make You) Feel Good</td>\n",
       "      <td>3</td>\n",
       "    </tr>\n",
       "    <tr>\n",
       "      <th>2</th>\n",
       "      <td>user_000001</td>\n",
       "      <td>(D)Ecaying Beauty</td>\n",
       "      <td>1</td>\n",
       "    </tr>\n",
       "    <tr>\n",
       "      <th>3</th>\n",
       "      <td>user_000001</td>\n",
       "      <td>(Far From) Home</td>\n",
       "      <td>1</td>\n",
       "    </tr>\n",
       "    <tr>\n",
       "      <th>4</th>\n",
       "      <td>user_000001</td>\n",
       "      <td>(Get Off Your) High Horse Lady</td>\n",
       "      <td>1</td>\n",
       "    </tr>\n",
       "  </tbody>\n",
       "</table>\n",
       "</div>"
      ],
      "text/plain": [
       "        userid                                      song  count\n",
       "0  user_000001                         '84 Pontiac Dream     14\n",
       "1  user_000001  (All I Wanted Was To Make You) Feel Good      3\n",
       "2  user_000001                         (D)Ecaying Beauty      1\n",
       "3  user_000001                           (Far From) Home      1\n",
       "4  user_000001            (Get Off Your) High Horse Lady      1"
      ]
     },
     "execution_count": 52,
     "metadata": {},
     "output_type": "execute_result"
    }
   ],
   "source": [
    "user_song_df_count.head()"
   ]
  },
  {
   "cell_type": "markdown",
   "metadata": {},
   "source": [
    "convert into category datatype"
   ]
  },
  {
   "cell_type": "code",
   "execution_count": 53,
   "metadata": {},
   "outputs": [
    {
     "name": "stdout",
     "output_type": "stream",
     "text": [
      "Wall time: 5.54 s\n"
     ]
    }
   ],
   "source": [
    "%%time\n",
    "# Convert userid and song names into numerical IDs\n",
    "user_song_df_count['user_id'] = user_song_df_count['userid'].astype(\"category\").cat.codes\n",
    "user_song_df_count['song_id_new'] = user_song_df_count['song'].astype(\"category\").cat.codes\n",
    "\n",
    "# Create a lookup frame so we can get the artist names back in \n",
    "# readable form later.|\n",
    "item_lookup = user_song_df_count[['song_id_new', 'song']].drop_duplicates()\n",
    "item_lookup['song_id_new'] = item_lookup.song_id_new.astype(str)"
   ]
  },
  {
   "cell_type": "code",
   "execution_count": 54,
   "metadata": {
    "scrolled": true
   },
   "outputs": [
    {
     "data": {
      "text/html": [
       "<div>\n",
       "<style scoped>\n",
       "    .dataframe tbody tr th:only-of-type {\n",
       "        vertical-align: middle;\n",
       "    }\n",
       "\n",
       "    .dataframe tbody tr th {\n",
       "        vertical-align: top;\n",
       "    }\n",
       "\n",
       "    .dataframe thead th {\n",
       "        text-align: right;\n",
       "    }\n",
       "</style>\n",
       "<table border=\"1\" class=\"dataframe\">\n",
       "  <thead>\n",
       "    <tr style=\"text-align: right;\">\n",
       "      <th></th>\n",
       "      <th>song_id_new</th>\n",
       "      <th>song</th>\n",
       "    </tr>\n",
       "  </thead>\n",
       "  <tbody>\n",
       "    <tr>\n",
       "      <th>0</th>\n",
       "      <td>708</td>\n",
       "      <td>'84 Pontiac Dream</td>\n",
       "    </tr>\n",
       "    <tr>\n",
       "      <th>1</th>\n",
       "      <td>1456</td>\n",
       "      <td>(All I Wanted Was To Make You) Feel Good</td>\n",
       "    </tr>\n",
       "  </tbody>\n",
       "</table>\n",
       "</div>"
      ],
      "text/plain": [
       "  song_id_new                                      song\n",
       "0         708                         '84 Pontiac Dream\n",
       "1        1456  (All I Wanted Was To Make You) Feel Good"
      ]
     },
     "execution_count": 54,
     "metadata": {},
     "output_type": "execute_result"
    }
   ],
   "source": [
    "item_lookup[:2]"
   ]
  },
  {
   "cell_type": "code",
   "execution_count": 55,
   "metadata": {},
   "outputs": [
    {
     "data": {
      "text/html": [
       "<div>\n",
       "<style scoped>\n",
       "    .dataframe tbody tr th:only-of-type {\n",
       "        vertical-align: middle;\n",
       "    }\n",
       "\n",
       "    .dataframe tbody tr th {\n",
       "        vertical-align: top;\n",
       "    }\n",
       "\n",
       "    .dataframe thead th {\n",
       "        text-align: right;\n",
       "    }\n",
       "</style>\n",
       "<table border=\"1\" class=\"dataframe\">\n",
       "  <thead>\n",
       "    <tr style=\"text-align: right;\">\n",
       "      <th></th>\n",
       "      <th>song_id_new</th>\n",
       "      <th>song</th>\n",
       "    </tr>\n",
       "  </thead>\n",
       "  <tbody>\n",
       "    <tr>\n",
       "      <th>332777</th>\n",
       "      <td>702</td>\n",
       "      <td>'79 Aka The Shouty Track</td>\n",
       "    </tr>\n",
       "  </tbody>\n",
       "</table>\n",
       "</div>"
      ],
      "text/plain": [
       "       song_id_new                      song\n",
       "332777         702  '79 Aka The Shouty Track"
      ]
     },
     "execution_count": 55,
     "metadata": {},
     "output_type": "execute_result"
    }
   ],
   "source": [
    "item_lookup[item_lookup['song_id_new'] == str(702)]"
   ]
  },
  {
   "cell_type": "code",
   "execution_count": 56,
   "metadata": {},
   "outputs": [
    {
     "data": {
      "text/html": [
       "<div>\n",
       "<style scoped>\n",
       "    .dataframe tbody tr th:only-of-type {\n",
       "        vertical-align: middle;\n",
       "    }\n",
       "\n",
       "    .dataframe tbody tr th {\n",
       "        vertical-align: top;\n",
       "    }\n",
       "\n",
       "    .dataframe thead th {\n",
       "        text-align: right;\n",
       "    }\n",
       "</style>\n",
       "<table border=\"1\" class=\"dataframe\">\n",
       "  <thead>\n",
       "    <tr style=\"text-align: right;\">\n",
       "      <th></th>\n",
       "      <th>userid</th>\n",
       "      <th>song</th>\n",
       "      <th>count</th>\n",
       "      <th>user_id</th>\n",
       "      <th>song_id_new</th>\n",
       "    </tr>\n",
       "  </thead>\n",
       "  <tbody>\n",
       "    <tr>\n",
       "      <th>0</th>\n",
       "      <td>user_000001</td>\n",
       "      <td>'84 Pontiac Dream</td>\n",
       "      <td>14</td>\n",
       "      <td>0</td>\n",
       "      <td>708</td>\n",
       "    </tr>\n",
       "    <tr>\n",
       "      <th>1</th>\n",
       "      <td>user_000001</td>\n",
       "      <td>(All I Wanted Was To Make You) Feel Good</td>\n",
       "      <td>3</td>\n",
       "      <td>0</td>\n",
       "      <td>1456</td>\n",
       "    </tr>\n",
       "    <tr>\n",
       "      <th>2</th>\n",
       "      <td>user_000001</td>\n",
       "      <td>(D)Ecaying Beauty</td>\n",
       "      <td>1</td>\n",
       "      <td>0</td>\n",
       "      <td>1776</td>\n",
       "    </tr>\n",
       "    <tr>\n",
       "      <th>3</th>\n",
       "      <td>user_000001</td>\n",
       "      <td>(Far From) Home</td>\n",
       "      <td>1</td>\n",
       "      <td>0</td>\n",
       "      <td>2001</td>\n",
       "    </tr>\n",
       "    <tr>\n",
       "      <th>4</th>\n",
       "      <td>user_000001</td>\n",
       "      <td>(Get Off Your) High Horse Lady</td>\n",
       "      <td>1</td>\n",
       "      <td>0</td>\n",
       "      <td>2058</td>\n",
       "    </tr>\n",
       "  </tbody>\n",
       "</table>\n",
       "</div>"
      ],
      "text/plain": [
       "        userid                                      song  count  user_id  \\\n",
       "0  user_000001                         '84 Pontiac Dream     14        0   \n",
       "1  user_000001  (All I Wanted Was To Make You) Feel Good      3        0   \n",
       "2  user_000001                         (D)Ecaying Beauty      1        0   \n",
       "3  user_000001                           (Far From) Home      1        0   \n",
       "4  user_000001            (Get Off Your) High Horse Lady      1        0   \n",
       "\n",
       "   song_id_new  \n",
       "0          708  \n",
       "1         1456  \n",
       "2         1776  \n",
       "3         2001  \n",
       "4         2058  "
      ]
     },
     "execution_count": 56,
     "metadata": {},
     "output_type": "execute_result"
    }
   ],
   "source": [
    "user_song_df_count.head()"
   ]
  },
  {
   "cell_type": "code",
   "execution_count": 57,
   "metadata": {},
   "outputs": [
    {
     "data": {
      "text/plain": [
       "userid         object\n",
       "song           object\n",
       "count           int64\n",
       "user_id         int16\n",
       "song_id_new     int32\n",
       "dtype: object"
      ]
     },
     "execution_count": 57,
     "metadata": {},
     "output_type": "execute_result"
    }
   ],
   "source": [
    "user_song_df_count.dtypes"
   ]
  },
  {
   "cell_type": "code",
   "execution_count": 58,
   "metadata": {},
   "outputs": [],
   "source": [
    "user_song_df = user_song_df_count.drop( ['userid', 'song'], axis = 1)"
   ]
  },
  {
   "cell_type": "code",
   "execution_count": 59,
   "metadata": {},
   "outputs": [
    {
     "data": {
      "text/html": [
       "<div>\n",
       "<style scoped>\n",
       "    .dataframe tbody tr th:only-of-type {\n",
       "        vertical-align: middle;\n",
       "    }\n",
       "\n",
       "    .dataframe tbody tr th {\n",
       "        vertical-align: top;\n",
       "    }\n",
       "\n",
       "    .dataframe thead th {\n",
       "        text-align: right;\n",
       "    }\n",
       "</style>\n",
       "<table border=\"1\" class=\"dataframe\">\n",
       "  <thead>\n",
       "    <tr style=\"text-align: right;\">\n",
       "      <th></th>\n",
       "      <th>count</th>\n",
       "      <th>user_id</th>\n",
       "      <th>song_id_new</th>\n",
       "    </tr>\n",
       "  </thead>\n",
       "  <tbody>\n",
       "    <tr>\n",
       "      <th>0</th>\n",
       "      <td>14</td>\n",
       "      <td>0</td>\n",
       "      <td>708</td>\n",
       "    </tr>\n",
       "    <tr>\n",
       "      <th>1</th>\n",
       "      <td>3</td>\n",
       "      <td>0</td>\n",
       "      <td>1456</td>\n",
       "    </tr>\n",
       "    <tr>\n",
       "      <th>2</th>\n",
       "      <td>1</td>\n",
       "      <td>0</td>\n",
       "      <td>1776</td>\n",
       "    </tr>\n",
       "    <tr>\n",
       "      <th>3</th>\n",
       "      <td>1</td>\n",
       "      <td>0</td>\n",
       "      <td>2001</td>\n",
       "    </tr>\n",
       "    <tr>\n",
       "      <th>4</th>\n",
       "      <td>1</td>\n",
       "      <td>0</td>\n",
       "      <td>2058</td>\n",
       "    </tr>\n",
       "  </tbody>\n",
       "</table>\n",
       "</div>"
      ],
      "text/plain": [
       "   count  user_id  song_id_new\n",
       "0     14        0          708\n",
       "1      3        0         1456\n",
       "2      1        0         1776\n",
       "3      1        0         2001\n",
       "4      1        0         2058"
      ]
     },
     "execution_count": 59,
     "metadata": {},
     "output_type": "execute_result"
    }
   ],
   "source": [
    "user_song_df.head()"
   ]
  },
  {
   "cell_type": "markdown",
   "metadata": {},
   "source": [
    "#### Setting first row of every user_id as count=0"
   ]
  },
  {
   "cell_type": "code",
   "execution_count": 60,
   "metadata": {},
   "outputs": [],
   "source": [
    "#user_song_df.loc[user_song_df[:100000].groupby('user_id')['count'].head(2).index, 'count']"
   ]
  },
  {
   "cell_type": "code",
   "execution_count": 61,
   "metadata": {},
   "outputs": [],
   "source": [
    "# #user_song_df.loc[user_song_df.groupby('user_id')['count'].head(1).index, 'count'] = np.NaN\n",
    "# # user_song_df.loc[user_song_df.groupby('user_id')['count'].head(1).index, 'count'] = 0\n",
    "\n",
    "# M = 200000 #slice of df\n",
    "\n",
    "# altered_songid_new_list = user_song_df.loc[user_song_df[:M].groupby('user_id')['song_id_new'].head(1).index, 'song_id_new']\n",
    "# user_song_df.loc[user_song_df[:M].groupby('user_id')['count'].head(1).index, 'count'] = np.NaN\n",
    "# altered_user_id_list = user_song_df.loc[user_song_df[:M].groupby('user_id')['user_id'].head(1).index, 'user_id']"
   ]
  },
  {
   "cell_type": "code",
   "execution_count": 62,
   "metadata": {},
   "outputs": [],
   "source": [
    "#altered_user_id_list"
   ]
  },
  {
   "cell_type": "code",
   "execution_count": 63,
   "metadata": {},
   "outputs": [],
   "source": [
    "# altered_songid_new_list"
   ]
  },
  {
   "cell_type": "markdown",
   "metadata": {},
   "source": [
    "40 users changed"
   ]
  },
  {
   "cell_type": "code",
   "execution_count": 64,
   "metadata": {},
   "outputs": [
    {
     "data": {
      "text/html": [
       "<div>\n",
       "<style scoped>\n",
       "    .dataframe tbody tr th:only-of-type {\n",
       "        vertical-align: middle;\n",
       "    }\n",
       "\n",
       "    .dataframe tbody tr th {\n",
       "        vertical-align: top;\n",
       "    }\n",
       "\n",
       "    .dataframe thead th {\n",
       "        text-align: right;\n",
       "    }\n",
       "</style>\n",
       "<table border=\"1\" class=\"dataframe\">\n",
       "  <thead>\n",
       "    <tr style=\"text-align: right;\">\n",
       "      <th></th>\n",
       "      <th>count</th>\n",
       "      <th>user_id</th>\n",
       "      <th>song_id_new</th>\n",
       "    </tr>\n",
       "  </thead>\n",
       "  <tbody>\n",
       "    <tr>\n",
       "      <th>0</th>\n",
       "      <td>14</td>\n",
       "      <td>0</td>\n",
       "      <td>708</td>\n",
       "    </tr>\n",
       "    <tr>\n",
       "      <th>1</th>\n",
       "      <td>3</td>\n",
       "      <td>0</td>\n",
       "      <td>1456</td>\n",
       "    </tr>\n",
       "    <tr>\n",
       "      <th>2</th>\n",
       "      <td>1</td>\n",
       "      <td>0</td>\n",
       "      <td>1776</td>\n",
       "    </tr>\n",
       "    <tr>\n",
       "      <th>3</th>\n",
       "      <td>1</td>\n",
       "      <td>0</td>\n",
       "      <td>2001</td>\n",
       "    </tr>\n",
       "    <tr>\n",
       "      <th>4</th>\n",
       "      <td>1</td>\n",
       "      <td>0</td>\n",
       "      <td>2058</td>\n",
       "    </tr>\n",
       "  </tbody>\n",
       "</table>\n",
       "</div>"
      ],
      "text/plain": [
       "   count  user_id  song_id_new\n",
       "0     14        0          708\n",
       "1      3        0         1456\n",
       "2      1        0         1776\n",
       "3      1        0         2001\n",
       "4      1        0         2058"
      ]
     },
     "execution_count": 64,
     "metadata": {},
     "output_type": "execute_result"
    }
   ],
   "source": [
    "user_song_df.head()"
   ]
  },
  {
   "cell_type": "code",
   "execution_count": 65,
   "metadata": {},
   "outputs": [
    {
     "data": {
      "text/plain": [
       "4407910"
      ]
     },
     "execution_count": 65,
     "metadata": {},
     "output_type": "execute_result"
    }
   ],
   "source": [
    "len(user_song_df) #before dropping: 4407910\n",
    "#after: 4407870 "
   ]
  },
  {
   "cell_type": "code",
   "execution_count": 66,
   "metadata": {},
   "outputs": [],
   "source": [
    "user_song_df = user_song_df.dropna()     #drop all rows that have any NaN values"
   ]
  },
  {
   "cell_type": "markdown",
   "metadata": {},
   "source": [
    "user-item and count dataframe is ready"
   ]
  },
  {
   "cell_type": "markdown",
   "metadata": {},
   "source": [
    "as count of songs played is an implicit feedback from users we will use ALS implicit model. \n",
    "Here, zeroes (absence) can signify 2 things: users do not like the song or have not yet heard that song.\n",
    "\n",
    "Explicit feedback models only take dislike or like into account (like rating)"
   ]
  },
  {
   "cell_type": "code",
   "execution_count": 67,
   "metadata": {},
   "outputs": [
    {
     "name": "stdout",
     "output_type": "stream",
     "text": [
      "Wall time: 335 ms\n"
     ]
    }
   ],
   "source": [
    "%%time\n",
    "# Create lists of all users, songs and counts\n",
    "users = list(np.sort(user_song_df.user_id.unique()))\n",
    "songs = list(np.sort(user_song_df.song_id_new.unique()))\n",
    "counts = list(user_song_df['count'])"
   ]
  },
  {
   "cell_type": "code",
   "execution_count": 68,
   "metadata": {},
   "outputs": [],
   "source": [
    "x = user_song_df[['user_id', 'song_id_new']]\n",
    "y = user_song_df[['count']]"
   ]
  },
  {
   "cell_type": "markdown",
   "metadata": {},
   "source": [
    "Creation of train and test data. ON HOLD"
   ]
  },
  {
   "cell_type": "markdown",
   "metadata": {},
   "source": [
    "Cython imports for ALS"
   ]
  },
  {
   "cell_type": "code",
   "execution_count": 69,
   "metadata": {},
   "outputs": [],
   "source": [
    "import sys\n",
    "import pandas as pd\n",
    "import numpy as np\n",
    "import scipy.sparse as sparse\n",
    "from scipy.sparse.linalg import spsolve\n",
    "import random\n",
    "\n",
    "from sklearn.preprocessing import MinMaxScaler\n",
    "\n",
    "import implicit # The Cython library"
   ]
  },
  {
   "cell_type": "code",
   "execution_count": 70,
   "metadata": {},
   "outputs": [],
   "source": [
    "# %%time\n",
    "# #old one before altering DF\n",
    "# sparse_item_user = sparse.csr_matrix((user_song_df_count['count'].astype(float), \n",
    "#                                       (user_song_df_count['song_id_new'], user_song_df['user_id'])))\n",
    "\n",
    "# sparse_user_item = sparse.csr_matrix((user_song_df_count['count'].astype(float), \n",
    "#                                       (user_song_df_count['user_id'], user_song_df['song_id_new'])))"
   ]
  },
  {
   "cell_type": "code",
   "execution_count": 71,
   "metadata": {},
   "outputs": [
    {
     "name": "stdout",
     "output_type": "stream",
     "text": [
      "Wall time: 380 ms\n"
     ]
    }
   ],
   "source": [
    "%%time\n",
    "sparse_item_user = sparse.csr_matrix((user_song_df['count'].astype(float), \n",
    "                                      (user_song_df['song_id_new'], user_song_df['user_id'])))\n",
    "##sparse_content_person = sparse_item_user\n",
    "sparse_user_item = sparse.csr_matrix((user_song_df['count'].astype(float), \n",
    "                                      (user_song_df['user_id'], user_song_df['song_id_new'])))"
   ]
  },
  {
   "cell_type": "code",
   "execution_count": 72,
   "metadata": {},
   "outputs": [
    {
     "data": {
      "text/plain": [
       "99.58988679334378"
      ]
     },
     "execution_count": 72,
     "metadata": {},
     "output_type": "execute_result"
    }
   ],
   "source": [
    "#sparsity\n",
    "matrix_size = sparse_item_user.shape[0]*sparse_item_user.shape[1] # Number of possible interactions in the matrix\n",
    "num_purchases = len(sparse_item_user.nonzero()[0]) # Number of items interacted with\n",
    "sparsity = 100*(1 - (num_purchases/matrix_size))\n",
    "sparsity"
   ]
  },
  {
   "cell_type": "code",
   "execution_count": 73,
   "metadata": {},
   "outputs": [
    {
     "data": {
      "text/plain": [
       "(1083471, 992)"
      ]
     },
     "execution_count": 73,
     "metadata": {},
     "output_type": "execute_result"
    }
   ],
   "source": [
    "#after making first row of every user zero\n",
    "sparse_item_user.shape\n",
    "#old values: (1083471, 992)"
   ]
  },
  {
   "cell_type": "code",
   "execution_count": 74,
   "metadata": {},
   "outputs": [
    {
     "data": {
      "text/plain": [
       "array([14.,  3.,  1., ...,  4.,  5.,  4.])"
      ]
     },
     "execution_count": 74,
     "metadata": {},
     "output_type": "execute_result"
    }
   ],
   "source": [
    "sparse_user_item.data"
   ]
  },
  {
   "cell_type": "code",
   "execution_count": 75,
   "metadata": {},
   "outputs": [
    {
     "data": {
      "text/plain": [
       "(1083471, 992)"
      ]
     },
     "execution_count": 75,
     "metadata": {},
     "output_type": "execute_result"
    }
   ],
   "source": [
    "sparse_item_user.shape"
   ]
  },
  {
   "cell_type": "code",
   "execution_count": 76,
   "metadata": {},
   "outputs": [
    {
     "data": {
      "text/plain": [
       "(992, 1083471)"
      ]
     },
     "execution_count": 76,
     "metadata": {},
     "output_type": "execute_result"
    }
   ],
   "source": [
    "sparse_user_item.shape #transpose of above csr matrix"
   ]
  },
  {
   "cell_type": "code",
   "execution_count": 77,
   "metadata": {},
   "outputs": [
    {
     "name": "stderr",
     "output_type": "stream",
     "text": [
      "WARNING:root:Intel MKL BLAS detected. Its highly recommend to set the environment variable 'export MKL_NUM_THREADS=1' to disable its internal multithreading\n"
     ]
    },
    {
     "name": "stdout",
     "output_type": "stream",
     "text": [
      "Wall time: 38.9 ms\n"
     ]
    }
   ],
   "source": [
    "%%time\n",
    "# Initialize the als model and fit it using the sparse item-user matrix\n",
    "model = implicit.als.AlternatingLeastSquares(factors=20, regularization=0.1, iterations=20)\n",
    "\n",
    "# Calculate the confidence by multiplying it by our alpha value.\n",
    "alpha_val = 15\n",
    "data_conf = (sparse_item_user * alpha_val).astype('double')"
   ]
  },
  {
   "cell_type": "markdown",
   "metadata": {},
   "source": [
    "We have the item-user data multiplied with the Confidence_Alpha_value."
   ]
  },
  {
   "cell_type": "code",
   "execution_count": 78,
   "metadata": {},
   "outputs": [
    {
     "name": "stderr",
     "output_type": "stream",
     "text": [
      "100%|████████████████████████████████████████████████████████████████████████████████| 20.0/20 [00:12<00:00,  1.58it/s]\n"
     ]
    },
    {
     "name": "stdout",
     "output_type": "stream",
     "text": [
      "Wall time: 12.5 s\n"
     ]
    }
   ],
   "source": [
    "%%time\n",
    "# Fit the model\n",
    "model.fit(data_conf)"
   ]
  },
  {
   "cell_type": "code",
   "execution_count": 79,
   "metadata": {},
   "outputs": [],
   "source": [
    "\n",
    "\n",
    "person_vecs = model.user_factors\n",
    "content_vecs = model.item_factors\n",
    "\n",
    "content_norms = np.sqrt((content_vecs * content_vecs).sum(axis=1))\n",
    "\n"
   ]
  },
  {
   "cell_type": "code",
   "execution_count": 157,
   "metadata": {},
   "outputs": [
    {
     "data": {
      "text/plain": [
       "(992, 20)"
      ]
     },
     "execution_count": 157,
     "metadata": {},
     "output_type": "execute_result"
    }
   ],
   "source": [
    "person_vecs.shape"
   ]
  },
  {
   "cell_type": "code",
   "execution_count": 186,
   "metadata": {},
   "outputs": [
    {
     "data": {
      "text/plain": [
       "(1083471, 20)"
      ]
     },
     "execution_count": 186,
     "metadata": {},
     "output_type": "execute_result"
    }
   ],
   "source": [
    "content_vecs.shape"
   ]
  },
  {
   "cell_type": "code",
   "execution_count": 191,
   "metadata": {},
   "outputs": [
    {
     "data": {
      "text/plain": [
       "()"
      ]
     },
     "execution_count": 191,
     "metadata": {},
     "output_type": "execute_result"
    }
   ],
   "source": [
    "person_vecs[1].dot(content_vecs[1].T).shape"
   ]
  },
  {
   "cell_type": "code",
   "execution_count": 206,
   "metadata": {},
   "outputs": [
    {
     "data": {
      "text/plain": [
       "(1, 20)"
      ]
     },
     "execution_count": 206,
     "metadata": {},
     "output_type": "execute_result"
    }
   ],
   "source": [
    "person_vecs[:1][:].shape"
   ]
  },
  {
   "cell_type": "markdown",
   "metadata": {},
   "source": [
    "### CREATE USER RECOMMENDATIONS"
   ]
  },
  {
   "cell_type": "code",
   "execution_count": 80,
   "metadata": {},
   "outputs": [],
   "source": [
    "## create function to recommend using ALS for user_id\n",
    "def ALS_recommend_for_user(model, user_id, sparse_user_item, N = 10 ): #will add moe parameters later\n",
    "    #user_id = 150\n",
    "\n",
    "    # Use the implicit recommender.\n",
    "    recommended = model.recommend(user_id, sparse_user_item, N)\n",
    "    \n",
    "    songs = []\n",
    "    scores = []\n",
    "    song_id_new_list = []\n",
    "    \n",
    "    # Get artist names from ids\n",
    "    for item in recommended:\n",
    "        idx, score = item\n",
    "        songs.append(user_song_df_count.song.loc[user_song_df_count.song_id_new == idx].iloc[0])\n",
    "        scores.append(score)\n",
    "        song_id_new_list.append(idx)\n",
    "\n",
    "    # Create a dataframe of artist names and scores\n",
    "    recommendations = pd.DataFrame({'Song': songs, 'song_id_new': song_id_new_list, 'score': scores})\n",
    "\n",
    "    print (\"Top \", N, \"recommendations for user_id:\", user_id)\n",
    "    return (recommendations)"
   ]
  },
  {
   "cell_type": "markdown",
   "metadata": {},
   "source": [
    "##### This suggests that the recommendations given do not include previously existing items in the user's history"
   ]
  },
  {
   "cell_type": "markdown",
   "metadata": {},
   "source": [
    "#### Creation of leave_one_out train and test dataset"
   ]
  },
  {
   "cell_type": "code",
   "execution_count": 81,
   "metadata": {},
   "outputs": [],
   "source": [
    "import random"
   ]
  },
  {
   "cell_type": "code",
   "execution_count": 82,
   "metadata": {},
   "outputs": [],
   "source": [
    "random.seed ( 10 ) #to set the seed and get the same randoms"
   ]
  },
  {
   "cell_type": "code",
   "execution_count": 145,
   "metadata": {},
   "outputs": [],
   "source": [
    "def make_train(ratings, pct_test = 0.2):\n",
    "    test_set = ratings.copy() # Make a copy of the original set to be the test set. \n",
    "    test_set[test_set != 0] = 1 # Store the test set as a binary preference matrix\n",
    "    \n",
    "    training_set = ratings.copy() # Make a copy of the original data we can alter as our training set. \n",
    "    \n",
    "    nonzero_inds = training_set.nonzero() # Find the indices in the ratings data where an interaction exists\n",
    "    nonzero_pairs = list(zip(nonzero_inds[0], nonzero_inds[1])) # Zip these pairs together of item,user index into list\n",
    "\n",
    "    \n",
    "    random.seed(0) # Set the random seed to zero for reproducibility\n",
    "    \n",
    "    num_samples = int(np.ceil(pct_test*len(nonzero_pairs))) # Round the number of samples needed to the nearest integer\n",
    "    samples = random.sample(nonzero_pairs, num_samples) # Sample a random number of item-user pairs without replacement\n",
    "\n",
    "    content_inds = [index[0] for index in samples] # Get the item row indices\n",
    "\n",
    "    person_inds = [index[1] for index in samples] # Get the user column indices\n",
    "\n",
    "    \n",
    "    training_set[content_inds, person_inds] = 0 # Assign all of the randomly chosen user-item pairs to zero\n",
    "    training_set.eliminate_zeros() # Get rid of zeros in sparse array storage after update to save space\n",
    "    \n",
    "    return training_set, test_set, list(set(person_inds))"
   ]
  },
  {
   "cell_type": "markdown",
   "metadata": {},
   "source": [
    "#### Func to recommend"
   ]
  },
  {
   "cell_type": "code",
   "execution_count": 146,
   "metadata": {},
   "outputs": [
    {
     "data": {
      "text/plain": [
       "array([ 0.12057731,  0.05954903,  0.24297807, ..., -0.26500693,\n",
       "        0.08844469,  0.05657415], dtype=float32)"
      ]
     },
     "execution_count": 146,
     "metadata": {},
     "output_type": "execute_result"
    }
   ],
   "source": [
    "person_vecs[0,:].dot(content_vecs.T)"
   ]
  },
  {
   "cell_type": "code",
   "execution_count": 148,
   "metadata": {},
   "outputs": [],
   "source": [
    "def recommend(person_id, sparse_person_content, person_vecs, content_vecs, num_contents=10):\n",
    "    # Get the interactions scores from the sparse person content matrix\n",
    "    person_interactions = sparse_person_content[person_id,:].toarray()\n",
    "    # Add 1 to everything, so that articles with no interaction yet become equal to 1\n",
    "    person_interactions = person_interactions.reshape(-1) + 1\n",
    "    # Make articles already interacted zero\n",
    "    person_interactions[person_interactions > 1] = 0\n",
    "    \n",
    "    # Get dot product of person vector and all content vectors\n",
    "    #rec_vector = person_vecs[person_id,:].dot(content_vecs.T).toarray() #got error as not array\n",
    "    rec_vector = person_vecs[person_id,:].dot(content_vecs.T)\n",
    "    \n",
    "    # Scale this recommendation vector between 0 and 1\n",
    "    min_max = MinMaxScaler()\n",
    "    rec_vector_scaled = min_max.fit_transform(rec_vector.reshape(-1,1))[:,0]\n",
    "    # Content already interacted have their recommendation multiplied by zero\n",
    "    recommend_vector = person_interactions * rec_vector_scaled\n",
    "    # Sort the indices of the content into order of best recommendations\n",
    "    content_idx = np.argsort(recommend_vector)[::-1][:num_contents]\n",
    "    \n",
    "    # Start empty list to store titles and scores\n",
    "    titles = []\n",
    "    scores = []\n",
    "\n",
    "    for idx in content_idx:\n",
    "        # Append titles and scores to the list\n",
    "        titles.append(user_song_df_count.song.loc[user_song_df_count.song_id_new == idx].iloc[0])\n",
    "        scores.append(recommend_vector[idx])\n",
    "\n",
    "    recommendations = pd.DataFrame({'title': titles, 'score': scores})\n",
    "\n",
    "    return recommendations"
   ]
  },
  {
   "cell_type": "markdown",
   "metadata": {},
   "source": [
    "### to alter csr matrix"
   ]
  },
  {
   "cell_type": "code",
   "execution_count": 149,
   "metadata": {},
   "outputs": [],
   "source": [
    "# sparse_item_user\n",
    "# sparse_user_item"
   ]
  },
  {
   "cell_type": "code",
   "execution_count": 150,
   "metadata": {},
   "outputs": [
    {
     "name": "stdout",
     "output_type": "stream",
     "text": [
      "                                title     score\n",
      "0                 Please Take Me Home  0.967708\n",
      "1                                Mutt  0.967411\n",
      "2                      Race The Dream  0.967175\n",
      "3                        Online Songs  0.966329\n",
      "4                     Izzo/In The End  0.963148\n",
      "5                 Headfirst For Halos  0.957624\n",
      "6                            Dumpweed  0.955220\n",
      "7                  The Boogie Monster  0.950103\n",
      "8                           In Stereo  0.947490\n",
      "9  Love Rhymes With Hideous Car Wreck  0.942860\n"
     ]
    }
   ],
   "source": [
    "user_id = 2\n",
    "\n",
    "recommendations = recommend(user_id, sparse_user_item, person_vecs, content_vecs)\n",
    "\n",
    "print(recommendations)"
   ]
  },
  {
   "cell_type": "markdown",
   "metadata": {},
   "source": [
    "This returns a training set with masked values as '0'. Test set contains present or not present values for the items."
   ]
  },
  {
   "cell_type": "code",
   "execution_count": 151,
   "metadata": {},
   "outputs": [
    {
     "name": "stdout",
     "output_type": "stream",
     "text": [
      "Wall time: 5.61 s\n"
     ]
    }
   ],
   "source": [
    "%%time\n",
    "content_train, content_test, content_persons_altered = make_train(sparse_item_user, pct_test = 0.2)"
   ]
  },
  {
   "cell_type": "code",
   "execution_count": 152,
   "metadata": {},
   "outputs": [],
   "source": [
    "def auc_score(predictions, test):\n",
    "    fpr, tpr, thresholds = metrics.roc_curve(test, predictions)\n",
    "    return metrics.auc(fpr, tpr)"
   ]
  },
  {
   "cell_type": "code",
   "execution_count": 225,
   "metadata": {},
   "outputs": [],
   "source": [
    "def calc_mean_auc(training_set, altered_persons, predictions, test_set):\n",
    "    store_auc = [] # An empty list to store the AUC for each user that had an item removed from the training set\n",
    "    popularity_auc = [] # To store popular AUC scores\n",
    "    pop_contents = np.array(test_set.sum(axis = 1)).reshape(-1) # Get sum of item iteractions to find most popular\n",
    "    content_vecs = predictions[1]\n",
    "    for person in altered_persons: # Iterate through each user that had an item altered\n",
    "        training_column = training_set[:,person].toarray().reshape(-1) # Get the training set column\n",
    "        zero_inds = np.where(training_column == 0) # Find where the interaction had not yet occurred\n",
    "        \n",
    "        # Get the predicted values based on our user/item vectors\n",
    "        person_vec = predictions[0][person,:]\n",
    "        # pred = person_vec.dot(content_vecs).toarray()[0,zero_inds].reshape(-1) #gave no toarray() error\n",
    "        pred = person_vec.dot(content_vecs)[0,zero_inds].reshape(-1)\n",
    "        \n",
    "        # Get only the items that were originally zero\n",
    "        # Select all ratings from the MF prediction for this user that originally had no iteraction\n",
    "        actual = test_set[:,person].toarray()[zero_inds,0].reshape(-1)\n",
    "        \n",
    "        # Select the binarized yes/no interaction pairs from the original full data\n",
    "        # that align with the same pairs in training \n",
    "        pop = pop_contents[zero_inds] # Get the item popularity for our chosen items\n",
    "        \n",
    "        store_auc.append(auc_score(pred, actual)) # Calculate AUC for the given user and store\n",
    "        \n",
    "        popularity_auc.append(auc_score(pop, actual)) # Calculate AUC using most popular and score\n",
    "    # End users iteration\n",
    "    \n",
    "    return float('%.3f'%np.mean(store_auc)), float('%.3f'%np.mean(popularity_auc))"
   ]
  },
  {
   "cell_type": "code",
   "execution_count": 226,
   "metadata": {},
   "outputs": [
    {
     "ename": "IndexError",
     "evalue": "too many indices for array",
     "output_type": "error",
     "traceback": [
      "\u001b[1;31m---------------------------------------------------------------------------\u001b[0m",
      "\u001b[1;31mIndexError\u001b[0m                                Traceback (most recent call last)",
      "\u001b[1;32m<ipython-input-226-e9be93c09457>\u001b[0m in \u001b[0;36m<module>\u001b[1;34m\u001b[0m\n\u001b[0;32m      1\u001b[0m calc_mean_auc(content_train, content_persons_altered,\n\u001b[1;32m----> 2\u001b[1;33m               [person_vecs, content_vecs.T], content_test)\n\u001b[0m",
      "\u001b[1;32m<ipython-input-225-66206fe3345f>\u001b[0m in \u001b[0;36mcalc_mean_auc\u001b[1;34m(training_set, altered_persons, predictions, test_set)\u001b[0m\n\u001b[0;32m     11\u001b[0m         \u001b[0mperson_vec\u001b[0m \u001b[1;33m=\u001b[0m \u001b[0mpredictions\u001b[0m\u001b[1;33m[\u001b[0m\u001b[1;36m0\u001b[0m\u001b[1;33m]\u001b[0m\u001b[1;33m[\u001b[0m\u001b[0mperson\u001b[0m\u001b[1;33m,\u001b[0m\u001b[1;33m:\u001b[0m\u001b[1;33m]\u001b[0m\u001b[1;33m\u001b[0m\u001b[1;33m\u001b[0m\u001b[0m\n\u001b[0;32m     12\u001b[0m         \u001b[1;31m# pred = person_vec.dot(content_vecs).toarray()[0,zero_inds].reshape(-1) #gave no toarray() error\u001b[0m\u001b[1;33m\u001b[0m\u001b[1;33m\u001b[0m\u001b[1;33m\u001b[0m\u001b[0m\n\u001b[1;32m---> 13\u001b[1;33m         \u001b[0mpred\u001b[0m \u001b[1;33m=\u001b[0m \u001b[0mperson_vec\u001b[0m\u001b[1;33m.\u001b[0m\u001b[0mdot\u001b[0m\u001b[1;33m(\u001b[0m\u001b[0mcontent_vecs\u001b[0m\u001b[1;33m)\u001b[0m\u001b[1;33m[\u001b[0m\u001b[1;36m0\u001b[0m\u001b[1;33m,\u001b[0m\u001b[0mzero_inds\u001b[0m\u001b[1;33m]\u001b[0m\u001b[1;33m.\u001b[0m\u001b[0mreshape\u001b[0m\u001b[1;33m(\u001b[0m\u001b[1;33m-\u001b[0m\u001b[1;36m1\u001b[0m\u001b[1;33m)\u001b[0m\u001b[1;33m\u001b[0m\u001b[1;33m\u001b[0m\u001b[0m\n\u001b[0m\u001b[0;32m     14\u001b[0m \u001b[1;33m\u001b[0m\u001b[0m\n\u001b[0;32m     15\u001b[0m         \u001b[1;31m# Get only the items that were originally zero\u001b[0m\u001b[1;33m\u001b[0m\u001b[1;33m\u001b[0m\u001b[1;33m\u001b[0m\u001b[0m\n",
      "\u001b[1;31mIndexError\u001b[0m: too many indices for array"
     ]
    }
   ],
   "source": [
    "calc_mean_auc(content_train, content_persons_altered,\n",
    "              [person_vecs, content_vecs.T], content_test)"
   ]
  },
  {
   "cell_type": "code",
   "execution_count": 161,
   "metadata": {},
   "outputs": [
    {
     "ename": "ValueError",
     "evalue": "shapes (20,) and (1083471,20) not aligned: 20 (dim 0) != 1083471 (dim 0)",
     "output_type": "error",
     "traceback": [
      "\u001b[1;31m---------------------------------------------------------------------------\u001b[0m",
      "\u001b[1;31mValueError\u001b[0m                                Traceback (most recent call last)",
      "\u001b[1;32m<ipython-input-161-1210df0f762b>\u001b[0m in \u001b[0;36m<module>\u001b[1;34m\u001b[0m\n\u001b[1;32m----> 1\u001b[1;33m \u001b[0mpred\u001b[0m \u001b[1;33m=\u001b[0m \u001b[0mperson_vec\u001b[0m\u001b[1;33m.\u001b[0m\u001b[0mdot\u001b[0m\u001b[1;33m(\u001b[0m\u001b[0mcontent_vecs\u001b[0m\u001b[1;33m)\u001b[0m\u001b[1;33m[\u001b[0m\u001b[1;36m0\u001b[0m\u001b[1;33m,\u001b[0m\u001b[0mzero_inds\u001b[0m\u001b[1;33m]\u001b[0m\u001b[1;33m.\u001b[0m\u001b[0mreshape\u001b[0m\u001b[1;33m(\u001b[0m\u001b[1;33m-\u001b[0m\u001b[1;36m1\u001b[0m\u001b[1;33m)\u001b[0m\u001b[1;33m\u001b[0m\u001b[1;33m\u001b[0m\u001b[0m\n\u001b[0m",
      "\u001b[1;31mValueError\u001b[0m: shapes (20,) and (1083471,20) not aligned: 20 (dim 0) != 1083471 (dim 0)"
     ]
    }
   ],
   "source": [
    "pred = person_vec.dot(content_vecs)[0,zero_inds].reshape(-1)\n"
   ]
  },
  {
   "cell_type": "code",
   "execution_count": 162,
   "metadata": {
    "scrolled": true
   },
   "outputs": [
    {
     "data": {
      "text/plain": [
       "987"
      ]
     },
     "execution_count": 162,
     "metadata": {},
     "output_type": "execute_result"
    }
   ],
   "source": [
    "len(content_persons_altered)"
   ]
  },
  {
   "cell_type": "code",
   "execution_count": 212,
   "metadata": {},
   "outputs": [
    {
     "data": {
      "text/plain": [
       "array([ 5.830995  ,  3.4020638 ,  3.2037804 ,  0.06928024, -0.3612891 ,\n",
       "        0.28846985,  0.47749293,  4.634209  , -1.5403954 ,  3.8320875 ,\n",
       "        2.0402327 ,  2.1735811 ,  3.7980661 ,  3.461991  ,  2.286662  ,\n",
       "        2.5447469 ,  2.6690295 ,  4.7803783 ,  5.904898  ,  1.26068   ],\n",
       "      dtype=float32)"
      ]
     },
     "execution_count": 212,
     "metadata": {},
     "output_type": "execute_result"
    }
   ],
   "source": [
    "[person_vecs, content_vecs.T][0][0,:]"
   ]
  },
  {
   "cell_type": "code",
   "execution_count": 220,
   "metadata": {},
   "outputs": [
    {
     "data": {
      "text/plain": [
       "(20,)"
      ]
     },
     "execution_count": 220,
     "metadata": {},
     "output_type": "execute_result"
    }
   ],
   "source": [
    "[person_vecs, content_vecs.T][0][0,:].shape"
   ]
  },
  {
   "cell_type": "code",
   "execution_count": 165,
   "metadata": {},
   "outputs": [],
   "source": [
    "#error: ValueError: shapes (20,) and (1083471,20) not aligned: 20 (dim 0) != 1083471 (dim 0)\n",
    "person_vec = [person_vecs, content_vecs.T][0][content_persons_altered[0],:]"
   ]
  },
  {
   "cell_type": "code",
   "execution_count": 168,
   "metadata": {},
   "outputs": [],
   "source": [
    "#worked\n",
    "person_vec = [person_vecs, content_vecs.T][1][content_persons_altered[0],:]"
   ]
  },
  {
   "cell_type": "code",
   "execution_count": 169,
   "metadata": {},
   "outputs": [
    {
     "data": {
      "text/plain": [
       "(1083471,)"
      ]
     },
     "execution_count": 169,
     "metadata": {},
     "output_type": "execute_result"
    }
   ],
   "source": [
    "person_vec.shape"
   ]
  },
  {
   "cell_type": "code",
   "execution_count": 178,
   "metadata": {},
   "outputs": [
    {
     "data": {
      "text/plain": [
       "array([ 519.48047  ,   29.629044 ,  -63.04086  ,   34.786476 ,\n",
       "       -139.58817  ,    9.586435 ,   -4.2970014,  -70.244965 ,\n",
       "         15.411125 ,  -29.928411 ,  -29.859093 ,  -74.01828  ,\n",
       "         -1.1909591,  -77.06438  ,  -74.80826  ,  -83.24075  ,\n",
       "       -105.713585 ,  -26.002884 ,  -63.948456 ,  -78.89946  ],\n",
       "      dtype=float32)"
      ]
     },
     "execution_count": 178,
     "metadata": {},
     "output_type": "execute_result"
    }
   ],
   "source": [
    "person_vec.dot(content_vecs)\n",
    "#error 1 : ValueError: shapes (20,) and (1083471,20) not aligned: 20 (dim 0) != 1083471 (dim 0)"
   ]
  },
  {
   "cell_type": "code",
   "execution_count": 182,
   "metadata": {},
   "outputs": [
    {
     "data": {
      "text/plain": [
       "(20,)"
      ]
     },
     "execution_count": 182,
     "metadata": {},
     "output_type": "execute_result"
    }
   ],
   "source": [
    "person_vec.dot(content_vecs).shape"
   ]
  },
  {
   "cell_type": "code",
   "execution_count": 173,
   "metadata": {},
   "outputs": [
    {
     "data": {
      "text/plain": [
       "1"
      ]
     },
     "execution_count": 173,
     "metadata": {},
     "output_type": "execute_result"
    }
   ],
   "source": [
    "content_persons_altered[1]"
   ]
  },
  {
   "cell_type": "code",
   "execution_count": null,
   "metadata": {},
   "outputs": [],
   "source": []
  },
  {
   "cell_type": "code",
   "execution_count": null,
   "metadata": {},
   "outputs": [],
   "source": []
  },
  {
   "cell_type": "code",
   "execution_count": 129,
   "metadata": {},
   "outputs": [],
   "source": [
    "# %%time\n",
    "# #get train and tst set\n",
    "# train_masked, test, users_altered, pairs_altered = make_train(sparse_user_item, pct_test = 0.00001)"
   ]
  },
  {
   "cell_type": "code",
   "execution_count": 130,
   "metadata": {},
   "outputs": [],
   "source": [
    "# train_masked"
   ]
  },
  {
   "cell_type": "code",
   "execution_count": 131,
   "metadata": {},
   "outputs": [],
   "source": [
    "# train_masked.data"
   ]
  },
  {
   "cell_type": "code",
   "execution_count": 132,
   "metadata": {},
   "outputs": [],
   "source": [
    "# sparse_user_item #original train"
   ]
  },
  {
   "cell_type": "code",
   "execution_count": 133,
   "metadata": {},
   "outputs": [],
   "source": [
    "# sparse_user_item.data #original train"
   ]
  },
  {
   "cell_type": "code",
   "execution_count": 134,
   "metadata": {},
   "outputs": [],
   "source": [
    "#sparse_user_item.nonzero()"
   ]
  },
  {
   "cell_type": "markdown",
   "metadata": {},
   "source": [
    "Now we have to train the model on the maked_training set and check whether the recommended items fall within the recommendations."
   ]
  },
  {
   "cell_type": "code",
   "execution_count": 135,
   "metadata": {},
   "outputs": [],
   "source": [
    "#pairs_altered[5]"
   ]
  },
  {
   "cell_type": "code",
   "execution_count": 136,
   "metadata": {},
   "outputs": [],
   "source": [
    "# len(pairs_altered)"
   ]
  },
  {
   "cell_type": "code",
   "execution_count": 137,
   "metadata": {},
   "outputs": [],
   "source": [
    "#sparse_user_item[ pairs_altered[55] ]"
   ]
  },
  {
   "cell_type": "code",
   "execution_count": 138,
   "metadata": {},
   "outputs": [],
   "source": [
    "#train_masked[ pairs_altered[55] ]"
   ]
  },
  {
   "cell_type": "markdown",
   "metadata": {},
   "source": [
    "a. Training the model"
   ]
  },
  {
   "cell_type": "code",
   "execution_count": 139,
   "metadata": {},
   "outputs": [],
   "source": [
    "# %%time\n",
    "# # Initialize the als model and fit it using the sparse item-user matrix\n",
    "# model = implicit.als.AlternatingLeastSquares(factors=20, regularization=0.1, iterations=20)\n",
    "\n",
    "# # Calculate the confidence by multiplying it by our alpha value.\n",
    "# alpha_val = 15\n",
    "# data_conf = (train_masked * alpha_val).astype('double')"
   ]
  },
  {
   "cell_type": "code",
   "execution_count": 140,
   "metadata": {},
   "outputs": [],
   "source": [
    "# %%time\n",
    "# # Fit the model\n",
    "# model.fit(data_conf)"
   ]
  },
  {
   "cell_type": "code",
   "execution_count": 141,
   "metadata": {},
   "outputs": [],
   "source": [
    "# len(users_altered)"
   ]
  },
  {
   "cell_type": "code",
   "execution_count": 142,
   "metadata": {},
   "outputs": [],
   "source": [
    "# users_altered[:3]"
   ]
  },
  {
   "cell_type": "code",
   "execution_count": 143,
   "metadata": {},
   "outputs": [],
   "source": [
    "# recommendation_ans = (ALS_recommend_for_user(model, users_altered[0], train_masked.T, 20))\n",
    "# print(recommendation_ans)"
   ]
  },
  {
   "cell_type": "code",
   "execution_count": 309,
   "metadata": {},
   "outputs": [],
   "source": [
    "#pairs_altered"
   ]
  },
  {
   "cell_type": "code",
   "execution_count": 144,
   "metadata": {},
   "outputs": [],
   "source": [
    "# sparse_user_item[ pairs_altered[0] ]"
   ]
  },
  {
   "cell_type": "code",
   "execution_count": 145,
   "metadata": {},
   "outputs": [],
   "source": [
    "# pairs_altered[0][0]"
   ]
  },
  {
   "cell_type": "code",
   "execution_count": 146,
   "metadata": {
    "scrolled": true
   },
   "outputs": [],
   "source": [
    "# for i in pairs_altered:\n",
    "#     print(pd.Series(recommendation_ans['Song'].isin(user_song_df_count [ user_song_df_count['user_id']== i[0] ] ['song']).values.astype(int), recommendation_ans['Song'].values))"
   ]
  },
  {
   "cell_type": "code",
   "execution_count": 147,
   "metadata": {},
   "outputs": [],
   "source": [
    "# for i in pairs_altered:\n",
    "#     print(pd.Series(recommendation_ans['Song'].isin(user_song_df_count [ user_song_df_count['user_id']== i[0] ] ['song']).values.astype(int), recommendation_ans['Song'].values)==1)"
   ]
  },
  {
   "cell_type": "code",
   "execution_count": 149,
   "metadata": {},
   "outputs": [],
   "source": [
    "# altered_songid_new_list\n",
    "# altered_user_id_list"
   ]
  },
  {
   "cell_type": "markdown",
   "metadata": {},
   "source": [
    "#### recommend for altered users \n",
    "#### then check if the pred_songs exist in the actual_song_list"
   ]
  },
  {
   "cell_type": "code",
   "execution_count": 306,
   "metadata": {},
   "outputs": [
    {
     "name": "stdout",
     "output_type": "stream",
     "text": [
      "Wall time: 40.9 ms\n"
     ]
    }
   ],
   "source": [
    "%%time\n",
    "# Initialize the als model and fit it using the sparse item-user matrix\n",
    "model = implicit.als.AlternatingLeastSquares(factors=20, regularization=0.1, iterations=20)\n",
    "\n",
    "# Calculate the confidence by multiplying it by our alpha value.\n",
    "alpha_val = 15\n",
    "data_conf = (sparse_item_user * alpha_val).astype('double')"
   ]
  },
  {
   "cell_type": "code",
   "execution_count": 307,
   "metadata": {},
   "outputs": [
    {
     "name": "stderr",
     "output_type": "stream",
     "text": [
      "100%|████████████████████████████████████████████████████████████████████████████████| 20.0/20 [00:19<00:00,  1.02it/s]\n"
     ]
    },
    {
     "name": "stdout",
     "output_type": "stream",
     "text": [
      "Wall time: 19.9 s\n"
     ]
    }
   ],
   "source": [
    "%%time\n",
    "# Fit the model\n",
    "model.fit(data_conf)"
   ]
  },
  {
   "cell_type": "code",
   "execution_count": 309,
   "metadata": {
    "scrolled": true
   },
   "outputs": [
    {
     "name": "stdout",
     "output_type": "stream",
     "text": [
      "Top  50 recommendations for user_id: 0\n",
      "                                Song  song_id_new     score\n",
      "0                                 Io       457060  1.346401\n",
      "1                         Experience       296634  1.344260\n",
      "2                          Transient       960093  1.333326\n",
      "3                            January       468780  1.298728\n",
      "4                             Embers       278893  1.292983\n",
      "5                          I Can Fly       412538  1.291788\n",
      "6                                111        17527  1.278692\n",
      "7                           Pista 17       693713  1.271133\n",
      "8                           Thoughts       940751  1.256536\n",
      "9                            Keep On       486718  1.246562\n",
      "10                         Battlecry       106559  1.229057\n",
      "11                          Industry       449064  1.216999\n",
      "12                         Self Help       776401  1.215383\n",
      "13                        04 Faixa 4         9667  1.201816\n",
      "14  Battle Scars (Feat. Willy Mason)       106489  1.201596\n",
      "15                    Getting Closer       346041  1.192697\n",
      "16                         Mea Culpa       573708  1.188018\n",
      "17                     Carte Blanche       165439  1.186776\n",
      "18                           Mandala       564293  1.183447\n",
      "19                          Survival       857905  1.178118\n",
      "20                        Moon Dance       595448  1.175492\n",
      "21                               Yma      1048163  1.173739\n",
      "22                        All Things        63158  1.170866\n",
      "23                      Lost & Found       543847  1.167352\n",
      "24                Insomniac Olympics       451776  1.166639\n",
      "25                         Esperanza       287662  1.162308\n",
      "26                  I Want Your Love       425250  1.155973\n",
      "27                            Sprung       832338  1.153703\n",
      "28                          Nautilus       619845  1.149580\n",
      "29                    Moving Forward       601338  1.148917\n",
      "30                        The Crisis       890851  1.147870\n",
      "31                             Drift       260463  1.141866\n",
      "32                     Spotless Mind       831758  1.138036\n",
      "33                               Pop       701696  1.136440\n",
      "34                                 1        14431  1.135465\n",
      "35                   Bohemian Sunset       134197  1.135070\n",
      "36                    Distant Lights       242714  1.133320\n",
      "37                        Electronic       276912  1.132609\n",
      "38                        Ionosphere       457194  1.131728\n",
      "39                       Planetarium       695261  1.127627\n",
      "40                           Rumours       755346  1.117233\n",
      "41                      The Last One       905811  1.115356\n",
      "42                      All The Love        62758  1.113205\n",
      "43                     Walk The Line      1001152  1.112719\n",
      "44                     Price You Pay       708742  1.111873\n",
      "45                  Waking Nightmare      1000495  1.111024\n",
      "46                          Poseidon       703419  1.110602\n",
      "47                   Rings Of Saturn       744312  1.110374\n",
      "48              Strawberry Letter 23       845022  1.109324\n",
      "49                           Halcyon       371522  1.105179\n"
     ]
    }
   ],
   "source": [
    "recommendation_ans = (ALS_recommend_for_user(model, altered_user_id_list[0], sparse_user_item, 50))\n",
    "print (recommendation_ans)"
   ]
  },
  {
   "cell_type": "code",
   "execution_count": 310,
   "metadata": {},
   "outputs": [
    {
     "data": {
      "text/plain": [
       "708"
      ]
     },
     "execution_count": 310,
     "metadata": {},
     "output_type": "execute_result"
    }
   ],
   "source": [
    "altered_songid_new_list[0]"
   ]
  },
  {
   "cell_type": "code",
   "execution_count": 311,
   "metadata": {},
   "outputs": [],
   "source": [
    "# cnt_total = []\n",
    "# for id in altered_user_id_list:\n",
    "#     #print(pd.Series(recommendation_ans['Song'].isin(user_song_df_count [ user_song_df_count['user_id']== id ] ['song']).values.astype(int), recommendation_ans['Song'].values)==1)\n",
    "#     ans = pd.Series(recommendation_ans['Song'].isin(user_song_df_count [ user_song_df_count['user_id']== id ] ['song']).values.astype(int), recommendation_ans['Song'].values)==1\n",
    "#     cnt = 0\n",
    "#     for i in ans:\n",
    "#         if i == True:\n",
    "#             cnt += 1 #increment if found true\n",
    "#     cnt_total.append ( cnt ) #append to total found\n"
   ]
  },
  {
   "cell_type": "code",
   "execution_count": 312,
   "metadata": {},
   "outputs": [
    {
     "data": {
      "text/plain": [
       "numpy.int32"
      ]
     },
     "execution_count": 312,
     "metadata": {},
     "output_type": "execute_result"
    }
   ],
   "source": [
    "type(altered_songid_new_list[0])"
   ]
  },
  {
   "cell_type": "code",
   "execution_count": 313,
   "metadata": {},
   "outputs": [
    {
     "data": {
      "text/plain": [
       "708"
      ]
     },
     "execution_count": 313,
     "metadata": {},
     "output_type": "execute_result"
    }
   ],
   "source": [
    "altered_songid_new_list[0]"
   ]
  },
  {
   "cell_type": "code",
   "execution_count": 314,
   "metadata": {},
   "outputs": [
    {
     "data": {
      "text/plain": [
       "[0    '84 Pontiac Dream\n",
       " Name: song, dtype: object]"
      ]
     },
     "execution_count": 314,
     "metadata": {},
     "output_type": "execute_result"
    }
   ],
   "source": [
    "[item_lookup[ item_lookup['song_id_new'] == str(altered_songid_new_list[0])]['song']]"
   ]
  },
  {
   "cell_type": "code",
   "execution_count": 315,
   "metadata": {},
   "outputs": [],
   "source": [
    "# %%time\n",
    "# cnt_total = []\n",
    "# index = 0\n",
    "# for id in altered_user_id_list:\n",
    "#     ans = pd.Series(recommendation_ans['Song'].isin([item_lookup[ item_lookup['song_id_new'] == str(altered_songid_new_list[0])]['song']]).values.astype(int), recommendation_ans['Song'].values)==1\n",
    "#     cnt = 0\n",
    "#     for i in ans:\n",
    "#         if i == True:\n",
    "#             cnt += 1 #increment if found true\n",
    "#     cnt_total.append ( cnt ) #append to total found\n",
    "#     index += 1"
   ]
  },
  {
   "cell_type": "code",
   "execution_count": 316,
   "metadata": {},
   "outputs": [
    {
     "data": {
      "text/plain": [
       "708"
      ]
     },
     "execution_count": 316,
     "metadata": {},
     "output_type": "execute_result"
    }
   ],
   "source": [
    "altered_songid_new_list[0]"
   ]
  },
  {
   "cell_type": "code",
   "execution_count": 317,
   "metadata": {},
   "outputs": [
    {
     "name": "stdout",
     "output_type": "stream",
     "text": [
      "Wall time: 34.9 ms\n"
     ]
    }
   ],
   "source": [
    "%%time\n",
    "cnt_total = []\n",
    "index1 = 0\n",
    "for id in altered_user_id_list:\n",
    "    ans = pd.Series(recommendation_ans['song_id_new'].isin( [ altered_songid_new_list[index1] ] ), recommendation_ans['song_id_new'].values)==1\n",
    "    cnt = 0\n",
    "    for i in ans:\n",
    "        if i == True:\n",
    "            cnt += 1 #increment if found true\n",
    "    cnt_total.append ( cnt ) #append to total found\n",
    "    index += 1"
   ]
  },
  {
   "cell_type": "code",
   "execution_count": 318,
   "metadata": {
    "scrolled": true
   },
   "outputs": [
    {
     "data": {
      "text/plain": [
       "457060     False\n",
       "296634     False\n",
       "960093     False\n",
       "468780     False\n",
       "278893     False\n",
       "412538     False\n",
       "17527      False\n",
       "693713     False\n",
       "940751     False\n",
       "486718     False\n",
       "106559     False\n",
       "449064     False\n",
       "776401     False\n",
       "9667       False\n",
       "106489     False\n",
       "346041     False\n",
       "573708     False\n",
       "165439     False\n",
       "564293     False\n",
       "857905     False\n",
       "595448     False\n",
       "1048163    False\n",
       "63158      False\n",
       "543847     False\n",
       "451776     False\n",
       "287662     False\n",
       "425250     False\n",
       "832338     False\n",
       "619845     False\n",
       "601338     False\n",
       "890851     False\n",
       "260463     False\n",
       "831758     False\n",
       "701696     False\n",
       "14431      False\n",
       "134197     False\n",
       "242714     False\n",
       "276912     False\n",
       "457194     False\n",
       "695261     False\n",
       "755346     False\n",
       "905811     False\n",
       "62758      False\n",
       "1001152    False\n",
       "708742     False\n",
       "1000495    False\n",
       "703419     False\n",
       "744312     False\n",
       "845022     False\n",
       "371522     False\n",
       "Name: song_id_new, dtype: bool"
      ]
     },
     "execution_count": 318,
     "metadata": {},
     "output_type": "execute_result"
    }
   ],
   "source": [
    "ans"
   ]
  },
  {
   "cell_type": "code",
   "execution_count": 319,
   "metadata": {},
   "outputs": [],
   "source": [
    "#cnt_total"
   ]
  },
  {
   "cell_type": "markdown",
   "metadata": {},
   "source": [
    "recommender system precision, P = [# of our recommendations that are relevant] / [# of items we recommended]\n",
    "\n",
    "P = relevant / N"
   ]
  },
  {
   "cell_type": "code",
   "execution_count": 320,
   "metadata": {},
   "outputs": [],
   "source": [
    "N = len(recommendation_ans) #what N was set as, no. of items we recommended\n",
    "precision = []\n",
    "\n",
    "for i in range(len(cnt_total)): #loop 0 to N-1\n",
    "    precision.append( cnt_total[i] / N )"
   ]
  },
  {
   "cell_type": "code",
   "execution_count": 321,
   "metadata": {},
   "outputs": [
    {
     "data": {
      "text/plain": [
       "0"
      ]
     },
     "execution_count": 321,
     "metadata": {},
     "output_type": "execute_result"
    }
   ],
   "source": [
    "cnt_total[5]"
   ]
  },
  {
   "cell_type": "code",
   "execution_count": 322,
   "metadata": {
    "scrolled": true
   },
   "outputs": [
    {
     "data": {
      "text/plain": [
       "[0.0,\n",
       " 0.0,\n",
       " 0.0,\n",
       " 0.0,\n",
       " 0.0,\n",
       " 0.0,\n",
       " 0.0,\n",
       " 0.0,\n",
       " 0.0,\n",
       " 0.0,\n",
       " 0.0,\n",
       " 0.0,\n",
       " 0.0,\n",
       " 0.0,\n",
       " 0.0,\n",
       " 0.0,\n",
       " 0.0,\n",
       " 0.0,\n",
       " 0.0,\n",
       " 0.0,\n",
       " 0.0,\n",
       " 0.0,\n",
       " 0.0,\n",
       " 0.0,\n",
       " 0.0,\n",
       " 0.0,\n",
       " 0.0,\n",
       " 0.0,\n",
       " 0.0,\n",
       " 0.0,\n",
       " 0.0,\n",
       " 0.0,\n",
       " 0.0,\n",
       " 0.0,\n",
       " 0.0,\n",
       " 0.0,\n",
       " 0.0,\n",
       " 0.0,\n",
       " 0.0,\n",
       " 0.0]"
      ]
     },
     "execution_count": 322,
     "metadata": {},
     "output_type": "execute_result"
    }
   ],
   "source": [
    "precision"
   ]
  },
  {
   "cell_type": "code",
   "execution_count": null,
   "metadata": {},
   "outputs": [],
   "source": []
  },
  {
   "cell_type": "code",
   "execution_count": null,
   "metadata": {},
   "outputs": [],
   "source": []
  },
  {
   "cell_type": "code",
   "execution_count": null,
   "metadata": {},
   "outputs": [],
   "source": []
  },
  {
   "cell_type": "code",
   "execution_count": null,
   "metadata": {},
   "outputs": [],
   "source": []
  },
  {
   "cell_type": "code",
   "execution_count": null,
   "metadata": {},
   "outputs": [],
   "source": []
  },
  {
   "cell_type": "code",
   "execution_count": null,
   "metadata": {},
   "outputs": [],
   "source": []
  },
  {
   "cell_type": "markdown",
   "metadata": {},
   "source": [
    "### Generating training and testing data"
   ]
  },
  {
   "cell_type": "code",
   "execution_count": 58,
   "metadata": {},
   "outputs": [],
   "source": [
    "#Group by users and get the size of each group\n",
    "user_record_counts = df_songs_heard_100_users.groupby(\"userid\").apply(lambda x: x.shape[0])"
   ]
  },
  {
   "cell_type": "code",
   "execution_count": 59,
   "metadata": {},
   "outputs": [],
   "source": [
    "# for key, value in user_record_counts.items():\n",
    "#     print (key)"
   ]
  },
  {
   "cell_type": "code",
   "execution_count": 60,
   "metadata": {},
   "outputs": [
    {
     "name": "stdout",
     "output_type": "stream",
     "text": [
      "Wall time: 997 µs\n"
     ]
    }
   ],
   "source": [
    "%%time\n",
    "#Divide dataset into train and test based on users and the number of the songs listened\n",
    "train_set_keys = []\n",
    "test_set_keys = []\n",
    "sum_val = 0\n",
    "total = df_songs_heard_100_users.shape[0]\n",
    "for key, value in user_record_counts.items():\n",
    "    sum_val += value\n",
    "    fraction = sum_val/total\n",
    "    if fraction <= 0.8:\n",
    "        train_set_keys.append(key)        \n",
    "    else:\n",
    "        test_set_keys.append(key)"
   ]
  },
  {
   "cell_type": "code",
   "execution_count": 61,
   "metadata": {},
   "outputs": [
    {
     "name": "stdout",
     "output_type": "stream",
     "text": [
      "Number of users in train set : 792\n",
      "Number of users in test set : 198\n"
     ]
    }
   ],
   "source": [
    "print(\"Number of users in train set : \"+str(len(train_set_keys)))\n",
    "print(\"Number of users in test set : \"+str(len(test_set_keys)))"
   ]
  },
  {
   "cell_type": "code",
   "execution_count": 62,
   "metadata": {},
   "outputs": [
    {
     "data": {
      "text/plain": [
       "'user_000018'"
      ]
     },
     "execution_count": 62,
     "metadata": {},
     "output_type": "execute_result"
    }
   ],
   "source": [
    "df_songs_heard_100_users['userid'].iloc[81181]"
   ]
  },
  {
   "cell_type": "code",
   "execution_count": 63,
   "metadata": {},
   "outputs": [],
   "source": [
    "train_set = df_songs_heard_100_users.groupby(\"userid\").filter(lambda x: x['userid'].iloc[0] in train_set_keys)\n",
    "test_set = df_songs_heard_100_users.groupby(\"userid\").filter(lambda x: x['userid'].iloc[0] in test_set_keys)"
   ]
  },
  {
   "cell_type": "code",
   "execution_count": 64,
   "metadata": {},
   "outputs": [
    {
     "data": {
      "text/plain": [
       "3131754"
      ]
     },
     "execution_count": 64,
     "metadata": {},
     "output_type": "execute_result"
    }
   ],
   "source": [
    "len(train_set)"
   ]
  },
  {
   "cell_type": "code",
   "execution_count": 65,
   "metadata": {},
   "outputs": [
    {
     "data": {
      "text/plain": [
       "790347"
      ]
     },
     "execution_count": 65,
     "metadata": {},
     "output_type": "execute_result"
    }
   ],
   "source": [
    "len(test_set)"
   ]
  },
  {
   "cell_type": "code",
   "execution_count": 66,
   "metadata": {},
   "outputs": [
    {
     "name": "stdout",
     "output_type": "stream",
     "text": [
      "Number of users in train set : 792\n",
      "Number of users in test set : 198\n"
     ]
    }
   ],
   "source": [
    "print(\"Number of users in train set : \"+str(train_set['userid'].nunique()))\n",
    "print(\"Number of users in test set : \"+str(test_set['userid'].nunique()))"
   ]
  },
  {
   "cell_type": "code",
   "execution_count": 67,
   "metadata": {},
   "outputs": [
    {
     "name": "stdout",
     "output_type": "stream",
     "text": [
      "Fraction of train set : 0.7984888711432979\n"
     ]
    }
   ],
   "source": [
    "print('Fraction of train set : ' + str(train_set.shape[0]/total))"
   ]
  },
  {
   "cell_type": "code",
   "execution_count": 68,
   "metadata": {},
   "outputs": [
    {
     "data": {
      "text/html": [
       "<div>\n",
       "<style scoped>\n",
       "    .dataframe tbody tr th:only-of-type {\n",
       "        vertical-align: middle;\n",
       "    }\n",
       "\n",
       "    .dataframe tbody tr th {\n",
       "        vertical-align: top;\n",
       "    }\n",
       "\n",
       "    .dataframe thead th {\n",
       "        text-align: right;\n",
       "    }\n",
       "</style>\n",
       "<table border=\"1\" class=\"dataframe\">\n",
       "  <thead>\n",
       "    <tr style=\"text-align: right;\">\n",
       "      <th></th>\n",
       "      <th>userid</th>\n",
       "      <th>artistid</th>\n",
       "      <th>song</th>\n",
       "      <th>time</th>\n",
       "      <th>gender</th>\n",
       "      <th>age</th>\n",
       "      <th>country</th>\n",
       "      <th>hour</th>\n",
       "      <th>slot</th>\n",
       "    </tr>\n",
       "  </thead>\n",
       "  <tbody>\n",
       "    <tr>\n",
       "      <th>22</th>\n",
       "      <td>user_000001</td>\n",
       "      <td>45bdb5be-ec03-484f-b58d-d22afc944b24</td>\n",
       "      <td>Clouds</td>\n",
       "      <td>2009-05-03 14:39:20</td>\n",
       "      <td>f</td>\n",
       "      <td>22.0</td>\n",
       "      <td>Germany</td>\n",
       "      <td>14</td>\n",
       "      <td>3</td>\n",
       "    </tr>\n",
       "    <tr>\n",
       "      <th>26</th>\n",
       "      <td>user_000001</td>\n",
       "      <td>ce559a88-58ba-4d8a-8456-9177412d609c</td>\n",
       "      <td>Seven</td>\n",
       "      <td>2009-05-03 14:07:40</td>\n",
       "      <td>f</td>\n",
       "      <td>22.0</td>\n",
       "      <td>Germany</td>\n",
       "      <td>14</td>\n",
       "      <td>3</td>\n",
       "    </tr>\n",
       "    <tr>\n",
       "      <th>28</th>\n",
       "      <td>user_000001</td>\n",
       "      <td>ce559a88-58ba-4d8a-8456-9177412d609c</td>\n",
       "      <td>Five</td>\n",
       "      <td>2009-05-03 13:56:25</td>\n",
       "      <td>f</td>\n",
       "      <td>22.0</td>\n",
       "      <td>Germany</td>\n",
       "      <td>13</td>\n",
       "      <td>3</td>\n",
       "    </tr>\n",
       "    <tr>\n",
       "      <th>30</th>\n",
       "      <td>user_000001</td>\n",
       "      <td>ce559a88-58ba-4d8a-8456-9177412d609c</td>\n",
       "      <td>Three</td>\n",
       "      <td>2009-05-03 13:40:46</td>\n",
       "      <td>f</td>\n",
       "      <td>22.0</td>\n",
       "      <td>Germany</td>\n",
       "      <td>13</td>\n",
       "      <td>3</td>\n",
       "    </tr>\n",
       "    <tr>\n",
       "      <th>39</th>\n",
       "      <td>user_000001</td>\n",
       "      <td>3d05eb8b-1644-4143-9a61-b28e33c4d85f</td>\n",
       "      <td>Something In The Way</td>\n",
       "      <td>2009-05-02 15:19:46</td>\n",
       "      <td>f</td>\n",
       "      <td>22.0</td>\n",
       "      <td>Germany</td>\n",
       "      <td>15</td>\n",
       "      <td>3</td>\n",
       "    </tr>\n",
       "  </tbody>\n",
       "</table>\n",
       "</div>"
      ],
      "text/plain": [
       "         userid                              artistid                  song  \\\n",
       "22  user_000001  45bdb5be-ec03-484f-b58d-d22afc944b24                Clouds   \n",
       "26  user_000001  ce559a88-58ba-4d8a-8456-9177412d609c                 Seven   \n",
       "28  user_000001  ce559a88-58ba-4d8a-8456-9177412d609c                  Five   \n",
       "30  user_000001  ce559a88-58ba-4d8a-8456-9177412d609c                 Three   \n",
       "39  user_000001  3d05eb8b-1644-4143-9a61-b28e33c4d85f  Something In The Way   \n",
       "\n",
       "                  time gender   age  country  hour  slot  \n",
       "22 2009-05-03 14:39:20      f  22.0  Germany    14     3  \n",
       "26 2009-05-03 14:07:40      f  22.0  Germany    14     3  \n",
       "28 2009-05-03 13:56:25      f  22.0  Germany    13     3  \n",
       "30 2009-05-03 13:40:46      f  22.0  Germany    13     3  \n",
       "39 2009-05-02 15:19:46      f  22.0  Germany    15     3  "
      ]
     },
     "execution_count": 68,
     "metadata": {},
     "output_type": "execute_result"
    }
   ],
   "source": [
    "train_set.head()"
   ]
  },
  {
   "cell_type": "markdown",
   "metadata": {},
   "source": [
    "### Removing artistid, time and hour columns"
   ]
  },
  {
   "cell_type": "code",
   "execution_count": 69,
   "metadata": {},
   "outputs": [],
   "source": [
    "train_set_df = train_set.drop(['artistid','time','hour'], axis=1, inplace=False)\n",
    "test_set_df = test_set.drop(['artistid','time','hour'], axis=1, inplace=False)"
   ]
  },
  {
   "cell_type": "code",
   "execution_count": 70,
   "metadata": {},
   "outputs": [
    {
     "data": {
      "text/html": [
       "<div>\n",
       "<style scoped>\n",
       "    .dataframe tbody tr th:only-of-type {\n",
       "        vertical-align: middle;\n",
       "    }\n",
       "\n",
       "    .dataframe tbody tr th {\n",
       "        vertical-align: top;\n",
       "    }\n",
       "\n",
       "    .dataframe thead th {\n",
       "        text-align: right;\n",
       "    }\n",
       "</style>\n",
       "<table border=\"1\" class=\"dataframe\">\n",
       "  <thead>\n",
       "    <tr style=\"text-align: right;\">\n",
       "      <th></th>\n",
       "      <th>userid</th>\n",
       "      <th>song</th>\n",
       "      <th>gender</th>\n",
       "      <th>age</th>\n",
       "      <th>country</th>\n",
       "      <th>slot</th>\n",
       "    </tr>\n",
       "  </thead>\n",
       "  <tbody>\n",
       "    <tr>\n",
       "      <th>22</th>\n",
       "      <td>user_000001</td>\n",
       "      <td>Clouds</td>\n",
       "      <td>f</td>\n",
       "      <td>22.0</td>\n",
       "      <td>Germany</td>\n",
       "      <td>3</td>\n",
       "    </tr>\n",
       "    <tr>\n",
       "      <th>26</th>\n",
       "      <td>user_000001</td>\n",
       "      <td>Seven</td>\n",
       "      <td>f</td>\n",
       "      <td>22.0</td>\n",
       "      <td>Germany</td>\n",
       "      <td>3</td>\n",
       "    </tr>\n",
       "    <tr>\n",
       "      <th>28</th>\n",
       "      <td>user_000001</td>\n",
       "      <td>Five</td>\n",
       "      <td>f</td>\n",
       "      <td>22.0</td>\n",
       "      <td>Germany</td>\n",
       "      <td>3</td>\n",
       "    </tr>\n",
       "    <tr>\n",
       "      <th>30</th>\n",
       "      <td>user_000001</td>\n",
       "      <td>Three</td>\n",
       "      <td>f</td>\n",
       "      <td>22.0</td>\n",
       "      <td>Germany</td>\n",
       "      <td>3</td>\n",
       "    </tr>\n",
       "    <tr>\n",
       "      <th>39</th>\n",
       "      <td>user_000001</td>\n",
       "      <td>Something In The Way</td>\n",
       "      <td>f</td>\n",
       "      <td>22.0</td>\n",
       "      <td>Germany</td>\n",
       "      <td>3</td>\n",
       "    </tr>\n",
       "  </tbody>\n",
       "</table>\n",
       "</div>"
      ],
      "text/plain": [
       "         userid                  song gender   age  country  slot\n",
       "22  user_000001                Clouds      f  22.0  Germany     3\n",
       "26  user_000001                 Seven      f  22.0  Germany     3\n",
       "28  user_000001                  Five      f  22.0  Germany     3\n",
       "30  user_000001                 Three      f  22.0  Germany     3\n",
       "39  user_000001  Something In The Way      f  22.0  Germany     3"
      ]
     },
     "execution_count": 70,
     "metadata": {},
     "output_type": "execute_result"
    }
   ],
   "source": [
    "train_set_df.head()"
   ]
  },
  {
   "cell_type": "markdown",
   "metadata": {},
   "source": [
    "### Creating train dataframes based on slots"
   ]
  },
  {
   "cell_type": "code",
   "execution_count": 71,
   "metadata": {},
   "outputs": [],
   "source": [
    "grouped_train_set = train_set_df.groupby('slot')\n",
    "grouped_test_set = test_set_df.groupby('slot')"
   ]
  },
  {
   "cell_type": "code",
   "execution_count": 72,
   "metadata": {},
   "outputs": [],
   "source": [
    "train_first_slot_df = grouped_train_set.get_group(1)\n",
    "train_second_slot_df = grouped_train_set.get_group(2)\n",
    "train_third_slot_df = grouped_train_set.get_group(3)\n",
    "train_fourth_slot_df = grouped_train_set.get_group(4)\n",
    "\n",
    "test_first_slot_df = grouped_test_set.get_group(1)\n",
    "test_second_slot_df = grouped_test_set.get_group(2)\n",
    "test_third_slot_df = grouped_test_set.get_group(3)\n",
    "test_fourth_slot_df = grouped_test_set.get_group(4)"
   ]
  },
  {
   "cell_type": "code",
   "execution_count": 73,
   "metadata": {},
   "outputs": [
    {
     "data": {
      "text/html": [
       "<div>\n",
       "<style scoped>\n",
       "    .dataframe tbody tr th:only-of-type {\n",
       "        vertical-align: middle;\n",
       "    }\n",
       "\n",
       "    .dataframe tbody tr th {\n",
       "        vertical-align: top;\n",
       "    }\n",
       "\n",
       "    .dataframe thead th {\n",
       "        text-align: right;\n",
       "    }\n",
       "</style>\n",
       "<table border=\"1\" class=\"dataframe\">\n",
       "  <thead>\n",
       "    <tr style=\"text-align: right;\">\n",
       "      <th></th>\n",
       "      <th>userid</th>\n",
       "      <th>song</th>\n",
       "      <th>gender</th>\n",
       "      <th>age</th>\n",
       "      <th>country</th>\n",
       "      <th>slot</th>\n",
       "    </tr>\n",
       "  </thead>\n",
       "  <tbody>\n",
       "    <tr>\n",
       "      <th>124</th>\n",
       "      <td>user_000001</td>\n",
       "      <td>Carry On</td>\n",
       "      <td>f</td>\n",
       "      <td>22.0</td>\n",
       "      <td>Germany</td>\n",
       "      <td>1</td>\n",
       "    </tr>\n",
       "    <tr>\n",
       "      <th>138</th>\n",
       "      <td>user_000001</td>\n",
       "      <td>Carry On</td>\n",
       "      <td>f</td>\n",
       "      <td>22.0</td>\n",
       "      <td>Germany</td>\n",
       "      <td>1</td>\n",
       "    </tr>\n",
       "    <tr>\n",
       "      <th>361</th>\n",
       "      <td>user_000001</td>\n",
       "      <td>Intro</td>\n",
       "      <td>f</td>\n",
       "      <td>22.0</td>\n",
       "      <td>Germany</td>\n",
       "      <td>1</td>\n",
       "    </tr>\n",
       "    <tr>\n",
       "      <th>419</th>\n",
       "      <td>user_000001</td>\n",
       "      <td>Intro</td>\n",
       "      <td>f</td>\n",
       "      <td>22.0</td>\n",
       "      <td>Germany</td>\n",
       "      <td>1</td>\n",
       "    </tr>\n",
       "    <tr>\n",
       "      <th>971</th>\n",
       "      <td>user_000001</td>\n",
       "      <td>Sugar</td>\n",
       "      <td>f</td>\n",
       "      <td>22.0</td>\n",
       "      <td>Germany</td>\n",
       "      <td>1</td>\n",
       "    </tr>\n",
       "  </tbody>\n",
       "</table>\n",
       "</div>"
      ],
      "text/plain": [
       "          userid      song gender   age  country  slot\n",
       "124  user_000001  Carry On      f  22.0  Germany     1\n",
       "138  user_000001  Carry On      f  22.0  Germany     1\n",
       "361  user_000001     Intro      f  22.0  Germany     1\n",
       "419  user_000001     Intro      f  22.0  Germany     1\n",
       "971  user_000001     Sugar      f  22.0  Germany     1"
      ]
     },
     "execution_count": 73,
     "metadata": {},
     "output_type": "execute_result"
    }
   ],
   "source": [
    "train_first_slot_df.head()"
   ]
  },
  {
   "cell_type": "code",
   "execution_count": 74,
   "metadata": {},
   "outputs": [
    {
     "name": "stdout",
     "output_type": "stream",
     "text": [
      "First train slot shape : (596866, 6)\n",
      "Second train slot shape : (544262, 6)\n",
      "Third train slot shape : (943222, 6)\n",
      "Fourth train slot shape : (1047404, 6)\n",
      "\n",
      "Number of users in train_first_slot_df : 737\n",
      "Number of users in train_second_slot_df : 762\n",
      "Number of users in train_third_slot_df : 784\n",
      "Number of users in train_fourth_slot_df : 780\n",
      "\n",
      "Number of songs in train_first_slot_df : 4034\n",
      "Number of songs in train_second_slot_df : 4034\n",
      "Number of songs in train_third_slot_df : 4034\n",
      "Number of songs in train_fourth_slot_df : 4034\n",
      "\n",
      "First test slot shape : (173856, 6)\n",
      "Second test slot shape : (146390, 6)\n",
      "Third test slot shape : (221677, 6)\n",
      "Fourth test slot shape : (248424, 6)\n",
      "\n",
      "Number of users in test_first_slot_df : 185\n",
      "Number of users in test_second_slot_df : 188\n",
      "Number of users in test_third_slot_df : 191\n",
      "Number of users in test_fourth_slot_df : 193\n",
      "\n",
      "Number of songs in test_first_slot_df : 4034\n",
      "Number of songs in test_second_slot_df : 4034\n",
      "Number of songs in test_third_slot_df : 4034\n",
      "Number of songs in test_fourth_slot_df : 4034\n"
     ]
    }
   ],
   "source": [
    "print('First train slot shape : ' + str(train_first_slot_df.shape))\n",
    "print('Second train slot shape : ' + str(train_second_slot_df.shape))\n",
    "print('Third train slot shape : ' + str(train_third_slot_df.shape))\n",
    "print('Fourth train slot shape : ' + str(train_fourth_slot_df.shape))\n",
    "print('')\n",
    "print(\"Number of users in train_first_slot_df : \" + str(train_first_slot_df['userid'].nunique()))\n",
    "print(\"Number of users in train_second_slot_df : \" + str(train_second_slot_df['userid'].nunique()))\n",
    "print(\"Number of users in train_third_slot_df : \" + str(train_third_slot_df['userid'].nunique()))\n",
    "print(\"Number of users in train_fourth_slot_df : \" + str(train_fourth_slot_df['userid'].nunique()))\n",
    "print('')\n",
    "print(\"Number of songs in train_first_slot_df : \" + str(train_first_slot_df['song'].nunique()))\n",
    "print(\"Number of songs in train_second_slot_df : \" + str(train_second_slot_df['song'].nunique()))\n",
    "print(\"Number of songs in train_third_slot_df : \" + str(train_third_slot_df['song'].nunique()))\n",
    "print(\"Number of songs in train_fourth_slot_df : \" + str(train_fourth_slot_df['song'].nunique()))\n",
    "print('')\n",
    "print('First test slot shape : ' + str(test_first_slot_df.shape))\n",
    "print('Second test slot shape : ' + str(test_second_slot_df.shape))\n",
    "print('Third test slot shape : ' + str(test_third_slot_df.shape))\n",
    "print('Fourth test slot shape : ' + str(test_fourth_slot_df.shape))\n",
    "print('')\n",
    "print(\"Number of users in test_first_slot_df : \" + str(test_first_slot_df['userid'].nunique()))\n",
    "print(\"Number of users in test_second_slot_df : \" + str(test_second_slot_df['userid'].nunique()))\n",
    "print(\"Number of users in test_third_slot_df : \" + str(test_third_slot_df['userid'].nunique()))\n",
    "print(\"Number of users in test_fourth_slot_df : \" + str(test_fourth_slot_df['userid'].nunique()))\n",
    "print('')\n",
    "print(\"Number of songs in test_first_slot_df : \" + str(test_first_slot_df['song'].nunique()))\n",
    "print(\"Number of songs in test_second_slot_df : \" + str(test_second_slot_df['song'].nunique()))\n",
    "print(\"Number of songs in test_third_slot_df : \" + str(test_third_slot_df['song'].nunique()))\n",
    "print(\"Number of songs in test_fourth_slot_df : \" + str(test_fourth_slot_df['song'].nunique()))\n"
   ]
  },
  {
   "cell_type": "markdown",
   "metadata": {},
   "source": [
    "#### need to get count for each userid-song pair along with rest of the columns"
   ]
  },
  {
   "cell_type": "code",
   "execution_count": 138,
   "metadata": {},
   "outputs": [],
   "source": [
    "# # Get user-song-count dataframe for each slot\n",
    "\n",
    "# #train_user_song_count_df_first = train_first_slot_df.groupby([\"userid\",\"song\"]).size().reset_index(name=\"count\")\n",
    "# #train1 = train_first_slot_df.groupby([\"userid\",\"song\"]).size().reset_index(name=\"count\")\n",
    "# # test1 = \n",
    "\n",
    "# # df['Count'] = df.groupby(['Name'])['ID'].transform('count')\n",
    "# # df.drop_duplicates()\n",
    "\n",
    "# # train1 = train_first_slot_df.copy()\n",
    "# # train1['count'] = train_first_slot_df.groupby(['userid','song'])['song'].transform('count')\n",
    "# # train1 = train1.drop_duplicates()\n",
    "\n",
    "# train_user_song_count_df_first = train_first_slot_df.copy()\n",
    "# # train_user_song_count_df_first['Count'] = train_first_slot_df.groupby(['userid','song'])['song'].transform('count')\n",
    "# train_user_song_count_df_first['count'] = train_first_slot_df.groupby(['userid','song'])['song'].transform('count')\n",
    "# train_user_song_count_df_first = train_user_song_count_df_first.drop_duplicates()\n",
    "# #train_user_song_count_df_first['count']= train_user_song_count_df_first['count'].astype(int)\n",
    "\n",
    "# train_user_song_count_df_second = train_second_slot_df.groupby([\"userid\",\"song\"]).size().reset_index(name=\"count\")\n",
    "# train_user_song_count_df_third = train_third_slot_df.groupby([\"userid\",\"song\"]).size().reset_index(name=\"count\")\n",
    "# train_user_song_count_df_fourth = train_fourth_slot_df.groupby([\"userid\",\"song\"]).size().reset_index(name=\"count\")\n",
    "\n",
    "# test_user_song_count_df_first = test_first_slot_df.groupby([\"userid\",\"song\"]).size().reset_index(name=\"count\")\n",
    "# test_user_song_count_df_second = test_second_slot_df.groupby([\"userid\",\"song\"]).size().reset_index(name=\"count\")\n",
    "# test_user_song_count_df_third = test_third_slot_df.groupby([\"userid\",\"song\"]).size().reset_index(name=\"count\")\n",
    "# test_user_song_count_df_fourth = test_fourth_slot_df.groupby([\"userid\",\"song\"]).size().reset_index(name=\"count\")"
   ]
  },
  {
   "cell_type": "code",
   "execution_count": 144,
   "metadata": {},
   "outputs": [],
   "source": [
    "# Get user-song-count dataframe for each slot\n",
    "\n",
    "train_user_song_count_df_first = train_first_slot_df.copy()\n",
    "train_user_song_count_df_first['count'] = train_first_slot_df.groupby(['userid','song'])['song'].transform('count')\n",
    "train_user_song_count_df_first = train_user_song_count_df_first.drop_duplicates()\n",
    "\n",
    "train_user_song_count_df_second = train_second_slot_df.copy()\n",
    "train_user_song_count_df_second['count'] = train_second_slot_df.groupby(['userid','song'])['song'].transform('count')\n",
    "train_user_song_count_df_second = train_user_song_count_df_second.drop_duplicates()\n",
    "\n",
    "\n",
    "train_user_song_count_df_third = train_third_slot_df.copy()\n",
    "train_user_song_count_df_third['count'] = train_third_slot_df.groupby(['userid','song'])['song'].transform('count')\n",
    "train_user_song_count_df_third = train_user_song_count_df_third.drop_duplicates()\n",
    "\n",
    "train_user_song_count_df_fourth = train_fourth_slot_df.copy()\n",
    "train_user_song_count_df_fourth['count'] = train_fourth_slot_df.groupby(['userid','song'])['song'].transform('count')\n",
    "train_user_song_count_df_fourth = train_user_song_count_df_fourth.drop_duplicates()\n",
    "\n",
    "\n",
    "test_user_song_count_df_first = test_first_slot_df.copy()\n",
    "test_user_song_count_df_first['count'] = test_first_slot_df.groupby(['userid','song'])['song'].transform('count')\n",
    "test_user_song_count_df_first = test_user_song_count_df_first.drop_duplicates()\n",
    "\n",
    "test_user_song_count_df_second = test_second_slot_df.copy()\n",
    "test_user_song_count_df_second['count'] = test_second_slot_df.groupby(['userid','song'])['song'].transform('count')\n",
    "test_user_song_count_df_second = test_user_song_count_df_second.drop_duplicates()\n",
    "\n",
    "test_user_song_count_df_third = test_third_slot_df.copy()\n",
    "test_user_song_count_df_third['count'] = test_third_slot_df.groupby(['userid','song'])['song'].transform('count')\n",
    "test_user_song_count_df_third = test_user_song_count_df_third.drop_duplicates()\n",
    "\n",
    "test_user_song_count_df_fourth = test_fourth_slot_df.copy()\n",
    "test_user_song_count_df_fourth['count'] = test_fourth_slot_df.groupby(['userid','song'])['song'].transform('count')\n",
    "test_user_song_count_df_fourth = test_user_song_count_df_fourth.drop_duplicates()\n"
   ]
  },
  {
   "cell_type": "code",
   "execution_count": 145,
   "metadata": {
    "scrolled": true
   },
   "outputs": [],
   "source": [
    "# del train1"
   ]
  },
  {
   "cell_type": "code",
   "execution_count": 146,
   "metadata": {},
   "outputs": [
    {
     "data": {
      "text/plain": [
       "196612"
      ]
     },
     "execution_count": 146,
     "metadata": {},
     "output_type": "execute_result"
    }
   ],
   "source": [
    "#del train_user_song_count_df_first\n",
    "len(train_user_song_count_df_first)"
   ]
  },
  {
   "cell_type": "code",
   "execution_count": 147,
   "metadata": {},
   "outputs": [
    {
     "data": {
      "text/html": [
       "<div>\n",
       "<style scoped>\n",
       "    .dataframe tbody tr th:only-of-type {\n",
       "        vertical-align: middle;\n",
       "    }\n",
       "\n",
       "    .dataframe tbody tr th {\n",
       "        vertical-align: top;\n",
       "    }\n",
       "\n",
       "    .dataframe thead th {\n",
       "        text-align: right;\n",
       "    }\n",
       "</style>\n",
       "<table border=\"1\" class=\"dataframe\">\n",
       "  <thead>\n",
       "    <tr style=\"text-align: right;\">\n",
       "      <th></th>\n",
       "      <th>userid</th>\n",
       "      <th>song</th>\n",
       "      <th>gender</th>\n",
       "      <th>age</th>\n",
       "      <th>country</th>\n",
       "      <th>slot</th>\n",
       "      <th>count</th>\n",
       "    </tr>\n",
       "  </thead>\n",
       "  <tbody>\n",
       "    <tr>\n",
       "      <th>124</th>\n",
       "      <td>user_000001</td>\n",
       "      <td>Carry On</td>\n",
       "      <td>f</td>\n",
       "      <td>22.0</td>\n",
       "      <td>Germany</td>\n",
       "      <td>1</td>\n",
       "      <td>2</td>\n",
       "    </tr>\n",
       "    <tr>\n",
       "      <th>361</th>\n",
       "      <td>user_000001</td>\n",
       "      <td>Intro</td>\n",
       "      <td>f</td>\n",
       "      <td>22.0</td>\n",
       "      <td>Germany</td>\n",
       "      <td>1</td>\n",
       "      <td>2</td>\n",
       "    </tr>\n",
       "    <tr>\n",
       "      <th>971</th>\n",
       "      <td>user_000001</td>\n",
       "      <td>Sugar</td>\n",
       "      <td>f</td>\n",
       "      <td>22.0</td>\n",
       "      <td>Germany</td>\n",
       "      <td>1</td>\n",
       "      <td>3</td>\n",
       "    </tr>\n",
       "    <tr>\n",
       "      <th>975</th>\n",
       "      <td>user_000001</td>\n",
       "      <td>Summertime</td>\n",
       "      <td>f</td>\n",
       "      <td>22.0</td>\n",
       "      <td>Germany</td>\n",
       "      <td>1</td>\n",
       "      <td>3</td>\n",
       "    </tr>\n",
       "    <tr>\n",
       "      <th>1157</th>\n",
       "      <td>user_000001</td>\n",
       "      <td>Instrumental</td>\n",
       "      <td>f</td>\n",
       "      <td>22.0</td>\n",
       "      <td>Germany</td>\n",
       "      <td>1</td>\n",
       "      <td>1</td>\n",
       "    </tr>\n",
       "    <tr>\n",
       "      <th>1159</th>\n",
       "      <td>user_000001</td>\n",
       "      <td>Go Away</td>\n",
       "      <td>f</td>\n",
       "      <td>22.0</td>\n",
       "      <td>Germany</td>\n",
       "      <td>1</td>\n",
       "      <td>1</td>\n",
       "    </tr>\n",
       "    <tr>\n",
       "      <th>1163</th>\n",
       "      <td>user_000001</td>\n",
       "      <td>Earth Intruders</td>\n",
       "      <td>f</td>\n",
       "      <td>22.0</td>\n",
       "      <td>Germany</td>\n",
       "      <td>1</td>\n",
       "      <td>1</td>\n",
       "    </tr>\n",
       "    <tr>\n",
       "      <th>1164</th>\n",
       "      <td>user_000001</td>\n",
       "      <td>Porcelain</td>\n",
       "      <td>f</td>\n",
       "      <td>22.0</td>\n",
       "      <td>Germany</td>\n",
       "      <td>1</td>\n",
       "      <td>3</td>\n",
       "    </tr>\n",
       "    <tr>\n",
       "      <th>1220</th>\n",
       "      <td>user_000001</td>\n",
       "      <td>He Doesn'T Know Why</td>\n",
       "      <td>f</td>\n",
       "      <td>22.0</td>\n",
       "      <td>Germany</td>\n",
       "      <td>1</td>\n",
       "      <td>1</td>\n",
       "    </tr>\n",
       "    <tr>\n",
       "      <th>1224</th>\n",
       "      <td>user_000001</td>\n",
       "      <td>Blue Ridge Mountains</td>\n",
       "      <td>f</td>\n",
       "      <td>22.0</td>\n",
       "      <td>Germany</td>\n",
       "      <td>1</td>\n",
       "      <td>1</td>\n",
       "    </tr>\n",
       "  </tbody>\n",
       "</table>\n",
       "</div>"
      ],
      "text/plain": [
       "           userid                  song gender   age  country  slot  count\n",
       "124   user_000001              Carry On      f  22.0  Germany     1      2\n",
       "361   user_000001                 Intro      f  22.0  Germany     1      2\n",
       "971   user_000001                 Sugar      f  22.0  Germany     1      3\n",
       "975   user_000001            Summertime      f  22.0  Germany     1      3\n",
       "1157  user_000001          Instrumental      f  22.0  Germany     1      1\n",
       "1159  user_000001               Go Away      f  22.0  Germany     1      1\n",
       "1163  user_000001       Earth Intruders      f  22.0  Germany     1      1\n",
       "1164  user_000001             Porcelain      f  22.0  Germany     1      3\n",
       "1220  user_000001   He Doesn'T Know Why      f  22.0  Germany     1      1\n",
       "1224  user_000001  Blue Ridge Mountains      f  22.0  Germany     1      1"
      ]
     },
     "execution_count": 147,
     "metadata": {},
     "output_type": "execute_result"
    }
   ],
   "source": [
    "train_user_song_count_df_first.head(10)\n",
    "# len(train_user_song_count_df_first) : 196612"
   ]
  },
  {
   "cell_type": "code",
   "execution_count": 150,
   "metadata": {
    "scrolled": true
   },
   "outputs": [],
   "source": [
    "#train_user_song_count_df_first"
   ]
  },
  {
   "cell_type": "code",
   "execution_count": 151,
   "metadata": {},
   "outputs": [
    {
     "data": {
      "text/html": [
       "<div>\n",
       "<style scoped>\n",
       "    .dataframe tbody tr th:only-of-type {\n",
       "        vertical-align: middle;\n",
       "    }\n",
       "\n",
       "    .dataframe tbody tr th {\n",
       "        vertical-align: top;\n",
       "    }\n",
       "\n",
       "    .dataframe thead th {\n",
       "        text-align: right;\n",
       "    }\n",
       "</style>\n",
       "<table border=\"1\" class=\"dataframe\">\n",
       "  <thead>\n",
       "    <tr style=\"text-align: right;\">\n",
       "      <th></th>\n",
       "      <th>userid</th>\n",
       "      <th>song</th>\n",
       "      <th>gender</th>\n",
       "      <th>age</th>\n",
       "      <th>country</th>\n",
       "      <th>slot</th>\n",
       "      <th>count</th>\n",
       "    </tr>\n",
       "  </thead>\n",
       "  <tbody>\n",
       "    <tr>\n",
       "      <th>15511133</th>\n",
       "      <td>user_000802</td>\n",
       "      <td>Tomorrow</td>\n",
       "      <td>f</td>\n",
       "      <td>18.0</td>\n",
       "      <td>United States</td>\n",
       "      <td>1</td>\n",
       "      <td>2</td>\n",
       "    </tr>\n",
       "    <tr>\n",
       "      <th>15511365</th>\n",
       "      <td>user_000802</td>\n",
       "      <td>Tonight</td>\n",
       "      <td>f</td>\n",
       "      <td>18.0</td>\n",
       "      <td>United States</td>\n",
       "      <td>1</td>\n",
       "      <td>4</td>\n",
       "    </tr>\n",
       "    <tr>\n",
       "      <th>15511840</th>\n",
       "      <td>user_000802</td>\n",
       "      <td>Speechless</td>\n",
       "      <td>f</td>\n",
       "      <td>18.0</td>\n",
       "      <td>United States</td>\n",
       "      <td>1</td>\n",
       "      <td>11</td>\n",
       "    </tr>\n",
       "    <tr>\n",
       "      <th>15511850</th>\n",
       "      <td>user_000802</td>\n",
       "      <td>This Love</td>\n",
       "      <td>f</td>\n",
       "      <td>18.0</td>\n",
       "      <td>United States</td>\n",
       "      <td>1</td>\n",
       "      <td>10</td>\n",
       "    </tr>\n",
       "    <tr>\n",
       "      <th>15511852</th>\n",
       "      <td>user_000802</td>\n",
       "      <td>Secret</td>\n",
       "      <td>f</td>\n",
       "      <td>18.0</td>\n",
       "      <td>United States</td>\n",
       "      <td>1</td>\n",
       "      <td>11</td>\n",
       "    </tr>\n",
       "  </tbody>\n",
       "</table>\n",
       "</div>"
      ],
      "text/plain": [
       "               userid        song gender   age        country  slot  count\n",
       "15511133  user_000802    Tomorrow      f  18.0  United States     1      2\n",
       "15511365  user_000802     Tonight      f  18.0  United States     1      4\n",
       "15511840  user_000802  Speechless      f  18.0  United States     1     11\n",
       "15511850  user_000802   This Love      f  18.0  United States     1     10\n",
       "15511852  user_000802      Secret      f  18.0  United States     1     11"
      ]
     },
     "execution_count": 151,
     "metadata": {},
     "output_type": "execute_result"
    }
   ],
   "source": [
    "test_user_song_count_df_first.head()"
   ]
  },
  {
   "cell_type": "code",
   "execution_count": 152,
   "metadata": {},
   "outputs": [],
   "source": [
    "# Get the max count for train and test set\n",
    "train_max_count = test_user_song_count_df_first['count'].max()\n",
    "test_max_count = test_user_song_count_df_first['count'].max()"
   ]
  },
  {
   "cell_type": "code",
   "execution_count": null,
   "metadata": {},
   "outputs": [],
   "source": []
  },
  {
   "cell_type": "code",
   "execution_count": null,
   "metadata": {},
   "outputs": [],
   "source": []
  },
  {
   "cell_type": "code",
   "execution_count": null,
   "metadata": {},
   "outputs": [],
   "source": []
  },
  {
   "cell_type": "code",
   "execution_count": null,
   "metadata": {},
   "outputs": [],
   "source": []
  },
  {
   "cell_type": "code",
   "execution_count": null,
   "metadata": {},
   "outputs": [],
   "source": []
  },
  {
   "cell_type": "code",
   "execution_count": null,
   "metadata": {},
   "outputs": [],
   "source": []
  },
  {
   "cell_type": "code",
   "execution_count": null,
   "metadata": {},
   "outputs": [],
   "source": []
  },
  {
   "cell_type": "code",
   "execution_count": null,
   "metadata": {},
   "outputs": [],
   "source": []
  },
  {
   "cell_type": "markdown",
   "metadata": {},
   "source": [
    "## Surprise IGNORE TH"
   ]
  },
  {
   "cell_type": "code",
   "execution_count": 49,
   "metadata": {},
   "outputs": [],
   "source": [
    "# Use the famous SVD algorithm.\n",
    "algo = SVD(n_factors=250, n_epochs=250)\n",
    "reader = surprise.reader.Reader(sep=',',rating_scale=(1, train_max_count))"
   ]
  },
  {
   "cell_type": "code",
   "execution_count": 50,
   "metadata": {},
   "outputs": [],
   "source": [
    "train_data = surprise.Dataset.load_from_df(test_user_song_count_df_first[['userid', 'song', 'count']], reader)"
   ]
  },
  {
   "cell_type": "code",
   "execution_count": 51,
   "metadata": {},
   "outputs": [],
   "source": [
    "#Use entire dataset as training data\n",
    "trainset = train_data.build_full_trainset()"
   ]
  },
  {
   "cell_type": "code",
   "execution_count": 52,
   "metadata": {},
   "outputs": [
    {
     "data": {
      "text/plain": [
       "<surprise.prediction_algorithms.matrix_factorization.SVD at 0x1a1c278090>"
      ]
     },
     "execution_count": 52,
     "metadata": {},
     "output_type": "execute_result"
    }
   ],
   "source": [
    "# Training\n",
    "algo.fit(trainset)"
   ]
  },
  {
   "cell_type": "code",
   "execution_count": 57,
   "metadata": {},
   "outputs": [],
   "source": [
    "test_data = test_user_song_count_df_first"
   ]
  },
  {
   "cell_type": "code",
   "execution_count": 59,
   "metadata": {
    "collapsed": true
   },
   "outputs": [
    {
     "ename": "KeyboardInterrupt",
     "evalue": "",
     "output_type": "error",
     "traceback": [
      "\u001b[0;31m---------------------------------------------------------------------------\u001b[0m",
      "\u001b[0;31mKeyboardInterrupt\u001b[0m                         Traceback (most recent call last)",
      "\u001b[0;32m<ipython-input-59-cc3bbd843b1f>\u001b[0m in \u001b[0;36m<module>\u001b[0;34m\u001b[0m\n\u001b[1;32m      6\u001b[0m \u001b[0;31m#     key = str(str(row['userid']) + '-' + str(row['song']))\u001b[0m\u001b[0;34m\u001b[0m\u001b[0;34m\u001b[0m\u001b[0;34m\u001b[0m\u001b[0m\n\u001b[1;32m      7\u001b[0m     \u001b[0mpredicted_rating\u001b[0m \u001b[0;34m=\u001b[0m \u001b[0mprediction\u001b[0m\u001b[0;34m.\u001b[0m\u001b[0mest\u001b[0m\u001b[0;34m\u001b[0m\u001b[0;34m\u001b[0m\u001b[0m\n\u001b[0;32m----> 8\u001b[0;31m     \u001b[0moutput\u001b[0m \u001b[0;34m=\u001b[0m \u001b[0moutput\u001b[0m\u001b[0;34m.\u001b[0m\u001b[0mappend\u001b[0m\u001b[0;34m(\u001b[0m\u001b[0mpd\u001b[0m\u001b[0;34m.\u001b[0m\u001b[0mSeries\u001b[0m\u001b[0;34m(\u001b[0m\u001b[0;34m[\u001b[0m\u001b[0mstr\u001b[0m\u001b[0;34m(\u001b[0m\u001b[0mrow\u001b[0m\u001b[0;34m[\u001b[0m\u001b[0;34m'userid'\u001b[0m\u001b[0;34m]\u001b[0m\u001b[0;34m)\u001b[0m\u001b[0;34m,\u001b[0m \u001b[0mstr\u001b[0m\u001b[0;34m(\u001b[0m\u001b[0mrow\u001b[0m\u001b[0;34m[\u001b[0m\u001b[0;34m'song'\u001b[0m\u001b[0;34m]\u001b[0m\u001b[0;34m)\u001b[0m\u001b[0;34m,\u001b[0m \u001b[0mpredicted_rating\u001b[0m\u001b[0;34m]\u001b[0m\u001b[0;34m,\u001b[0m \u001b[0mindex\u001b[0m\u001b[0;34m=\u001b[0m\u001b[0moutput\u001b[0m\u001b[0;34m.\u001b[0m\u001b[0mcolumns\u001b[0m\u001b[0;34m)\u001b[0m\u001b[0;34m,\u001b[0m \u001b[0mignore_index\u001b[0m\u001b[0;34m=\u001b[0m\u001b[0;32mTrue\u001b[0m\u001b[0;34m)\u001b[0m\u001b[0;34m\u001b[0m\u001b[0;34m\u001b[0m\u001b[0m\n\u001b[0m",
      "\u001b[0;32m~/opt/anaconda3/lib/python3.7/site-packages/pandas/core/frame.py\u001b[0m in \u001b[0;36mappend\u001b[0;34m(self, other, ignore_index, verify_integrity, sort)\u001b[0m\n\u001b[1;32m   7121\u001b[0m             \u001b[0mignore_index\u001b[0m\u001b[0;34m=\u001b[0m\u001b[0mignore_index\u001b[0m\u001b[0;34m,\u001b[0m\u001b[0;34m\u001b[0m\u001b[0;34m\u001b[0m\u001b[0m\n\u001b[1;32m   7122\u001b[0m             \u001b[0mverify_integrity\u001b[0m\u001b[0;34m=\u001b[0m\u001b[0mverify_integrity\u001b[0m\u001b[0;34m,\u001b[0m\u001b[0;34m\u001b[0m\u001b[0;34m\u001b[0m\u001b[0m\n\u001b[0;32m-> 7123\u001b[0;31m             \u001b[0msort\u001b[0m\u001b[0;34m=\u001b[0m\u001b[0msort\u001b[0m\u001b[0;34m,\u001b[0m\u001b[0;34m\u001b[0m\u001b[0;34m\u001b[0m\u001b[0m\n\u001b[0m\u001b[1;32m   7124\u001b[0m         )\n\u001b[1;32m   7125\u001b[0m \u001b[0;34m\u001b[0m\u001b[0m\n",
      "\u001b[0;32m~/opt/anaconda3/lib/python3.7/site-packages/pandas/core/reshape/concat.py\u001b[0m in \u001b[0;36mconcat\u001b[0;34m(objs, axis, join, join_axes, ignore_index, keys, levels, names, verify_integrity, sort, copy)\u001b[0m\n\u001b[1;32m    253\u001b[0m         \u001b[0mverify_integrity\u001b[0m\u001b[0;34m=\u001b[0m\u001b[0mverify_integrity\u001b[0m\u001b[0;34m,\u001b[0m\u001b[0;34m\u001b[0m\u001b[0;34m\u001b[0m\u001b[0m\n\u001b[1;32m    254\u001b[0m         \u001b[0mcopy\u001b[0m\u001b[0;34m=\u001b[0m\u001b[0mcopy\u001b[0m\u001b[0;34m,\u001b[0m\u001b[0;34m\u001b[0m\u001b[0;34m\u001b[0m\u001b[0m\n\u001b[0;32m--> 255\u001b[0;31m         \u001b[0msort\u001b[0m\u001b[0;34m=\u001b[0m\u001b[0msort\u001b[0m\u001b[0;34m,\u001b[0m\u001b[0;34m\u001b[0m\u001b[0;34m\u001b[0m\u001b[0m\n\u001b[0m\u001b[1;32m    256\u001b[0m     )\n\u001b[1;32m    257\u001b[0m \u001b[0;34m\u001b[0m\u001b[0m\n",
      "\u001b[0;32m~/opt/anaconda3/lib/python3.7/site-packages/pandas/core/reshape/concat.py\u001b[0m in \u001b[0;36m__init__\u001b[0;34m(self, objs, axis, join, join_axes, keys, levels, names, ignore_index, verify_integrity, copy, sort)\u001b[0m\n\u001b[1;32m    333\u001b[0m \u001b[0;34m\u001b[0m\u001b[0m\n\u001b[1;32m    334\u001b[0m             \u001b[0;31m# consolidate\u001b[0m\u001b[0;34m\u001b[0m\u001b[0;34m\u001b[0m\u001b[0;34m\u001b[0m\u001b[0m\n\u001b[0;32m--> 335\u001b[0;31m             \u001b[0mobj\u001b[0m\u001b[0;34m.\u001b[0m\u001b[0m_consolidate\u001b[0m\u001b[0;34m(\u001b[0m\u001b[0minplace\u001b[0m\u001b[0;34m=\u001b[0m\u001b[0;32mTrue\u001b[0m\u001b[0;34m)\u001b[0m\u001b[0;34m\u001b[0m\u001b[0;34m\u001b[0m\u001b[0m\n\u001b[0m\u001b[1;32m    336\u001b[0m             \u001b[0mndims\u001b[0m\u001b[0;34m.\u001b[0m\u001b[0madd\u001b[0m\u001b[0;34m(\u001b[0m\u001b[0mobj\u001b[0m\u001b[0;34m.\u001b[0m\u001b[0mndim\u001b[0m\u001b[0;34m)\u001b[0m\u001b[0;34m\u001b[0m\u001b[0;34m\u001b[0m\u001b[0m\n\u001b[1;32m    337\u001b[0m \u001b[0;34m\u001b[0m\u001b[0m\n",
      "\u001b[0;32m~/opt/anaconda3/lib/python3.7/site-packages/pandas/core/generic.py\u001b[0m in \u001b[0;36m_consolidate\u001b[0;34m(self, inplace)\u001b[0m\n\u001b[1;32m   5268\u001b[0m         \u001b[0minplace\u001b[0m \u001b[0;34m=\u001b[0m \u001b[0mvalidate_bool_kwarg\u001b[0m\u001b[0;34m(\u001b[0m\u001b[0minplace\u001b[0m\u001b[0;34m,\u001b[0m \u001b[0;34m\"inplace\"\u001b[0m\u001b[0;34m)\u001b[0m\u001b[0;34m\u001b[0m\u001b[0;34m\u001b[0m\u001b[0m\n\u001b[1;32m   5269\u001b[0m         \u001b[0;32mif\u001b[0m \u001b[0minplace\u001b[0m\u001b[0;34m:\u001b[0m\u001b[0;34m\u001b[0m\u001b[0;34m\u001b[0m\u001b[0m\n\u001b[0;32m-> 5270\u001b[0;31m             \u001b[0mself\u001b[0m\u001b[0;34m.\u001b[0m\u001b[0m_consolidate_inplace\u001b[0m\u001b[0;34m(\u001b[0m\u001b[0;34m)\u001b[0m\u001b[0;34m\u001b[0m\u001b[0;34m\u001b[0m\u001b[0m\n\u001b[0m\u001b[1;32m   5271\u001b[0m         \u001b[0;32melse\u001b[0m\u001b[0;34m:\u001b[0m\u001b[0;34m\u001b[0m\u001b[0;34m\u001b[0m\u001b[0m\n\u001b[1;32m   5272\u001b[0m             \u001b[0mf\u001b[0m \u001b[0;34m=\u001b[0m \u001b[0;32mlambda\u001b[0m\u001b[0;34m:\u001b[0m \u001b[0mself\u001b[0m\u001b[0;34m.\u001b[0m\u001b[0m_data\u001b[0m\u001b[0;34m.\u001b[0m\u001b[0mconsolidate\u001b[0m\u001b[0;34m(\u001b[0m\u001b[0;34m)\u001b[0m\u001b[0;34m\u001b[0m\u001b[0;34m\u001b[0m\u001b[0m\n",
      "\u001b[0;32m~/opt/anaconda3/lib/python3.7/site-packages/pandas/core/generic.py\u001b[0m in \u001b[0;36m_consolidate_inplace\u001b[0;34m(self)\u001b[0m\n\u001b[1;32m   5250\u001b[0m             \u001b[0mself\u001b[0m\u001b[0;34m.\u001b[0m\u001b[0m_data\u001b[0m \u001b[0;34m=\u001b[0m \u001b[0mself\u001b[0m\u001b[0;34m.\u001b[0m\u001b[0m_data\u001b[0m\u001b[0;34m.\u001b[0m\u001b[0mconsolidate\u001b[0m\u001b[0;34m(\u001b[0m\u001b[0;34m)\u001b[0m\u001b[0;34m\u001b[0m\u001b[0;34m\u001b[0m\u001b[0m\n\u001b[1;32m   5251\u001b[0m \u001b[0;34m\u001b[0m\u001b[0m\n\u001b[0;32m-> 5252\u001b[0;31m         \u001b[0mself\u001b[0m\u001b[0;34m.\u001b[0m\u001b[0m_protect_consolidate\u001b[0m\u001b[0;34m(\u001b[0m\u001b[0mf\u001b[0m\u001b[0;34m)\u001b[0m\u001b[0;34m\u001b[0m\u001b[0;34m\u001b[0m\u001b[0m\n\u001b[0m\u001b[1;32m   5253\u001b[0m \u001b[0;34m\u001b[0m\u001b[0m\n\u001b[1;32m   5254\u001b[0m     \u001b[0;32mdef\u001b[0m \u001b[0m_consolidate\u001b[0m\u001b[0;34m(\u001b[0m\u001b[0mself\u001b[0m\u001b[0;34m,\u001b[0m \u001b[0minplace\u001b[0m\u001b[0;34m=\u001b[0m\u001b[0;32mFalse\u001b[0m\u001b[0;34m)\u001b[0m\u001b[0;34m:\u001b[0m\u001b[0;34m\u001b[0m\u001b[0;34m\u001b[0m\u001b[0m\n",
      "\u001b[0;32m~/opt/anaconda3/lib/python3.7/site-packages/pandas/core/generic.py\u001b[0m in \u001b[0;36m_protect_consolidate\u001b[0;34m(self, f)\u001b[0m\n\u001b[1;32m   5239\u001b[0m         \"\"\"\n\u001b[1;32m   5240\u001b[0m         \u001b[0mblocks_before\u001b[0m \u001b[0;34m=\u001b[0m \u001b[0mlen\u001b[0m\u001b[0;34m(\u001b[0m\u001b[0mself\u001b[0m\u001b[0;34m.\u001b[0m\u001b[0m_data\u001b[0m\u001b[0;34m.\u001b[0m\u001b[0mblocks\u001b[0m\u001b[0;34m)\u001b[0m\u001b[0;34m\u001b[0m\u001b[0;34m\u001b[0m\u001b[0m\n\u001b[0;32m-> 5241\u001b[0;31m         \u001b[0mresult\u001b[0m \u001b[0;34m=\u001b[0m \u001b[0mf\u001b[0m\u001b[0;34m(\u001b[0m\u001b[0;34m)\u001b[0m\u001b[0;34m\u001b[0m\u001b[0;34m\u001b[0m\u001b[0m\n\u001b[0m\u001b[1;32m   5242\u001b[0m         \u001b[0;32mif\u001b[0m \u001b[0mlen\u001b[0m\u001b[0;34m(\u001b[0m\u001b[0mself\u001b[0m\u001b[0;34m.\u001b[0m\u001b[0m_data\u001b[0m\u001b[0;34m.\u001b[0m\u001b[0mblocks\u001b[0m\u001b[0;34m)\u001b[0m \u001b[0;34m!=\u001b[0m \u001b[0mblocks_before\u001b[0m\u001b[0;34m:\u001b[0m\u001b[0;34m\u001b[0m\u001b[0;34m\u001b[0m\u001b[0m\n\u001b[1;32m   5243\u001b[0m             \u001b[0mself\u001b[0m\u001b[0;34m.\u001b[0m\u001b[0m_clear_item_cache\u001b[0m\u001b[0;34m(\u001b[0m\u001b[0;34m)\u001b[0m\u001b[0;34m\u001b[0m\u001b[0;34m\u001b[0m\u001b[0m\n",
      "\u001b[0;32m~/opt/anaconda3/lib/python3.7/site-packages/pandas/core/generic.py\u001b[0m in \u001b[0;36mf\u001b[0;34m()\u001b[0m\n\u001b[1;32m   5248\u001b[0m \u001b[0;34m\u001b[0m\u001b[0m\n\u001b[1;32m   5249\u001b[0m         \u001b[0;32mdef\u001b[0m \u001b[0mf\u001b[0m\u001b[0;34m(\u001b[0m\u001b[0;34m)\u001b[0m\u001b[0;34m:\u001b[0m\u001b[0;34m\u001b[0m\u001b[0;34m\u001b[0m\u001b[0m\n\u001b[0;32m-> 5250\u001b[0;31m             \u001b[0mself\u001b[0m\u001b[0;34m.\u001b[0m\u001b[0m_data\u001b[0m \u001b[0;34m=\u001b[0m \u001b[0mself\u001b[0m\u001b[0;34m.\u001b[0m\u001b[0m_data\u001b[0m\u001b[0;34m.\u001b[0m\u001b[0mconsolidate\u001b[0m\u001b[0;34m(\u001b[0m\u001b[0;34m)\u001b[0m\u001b[0;34m\u001b[0m\u001b[0;34m\u001b[0m\u001b[0m\n\u001b[0m\u001b[1;32m   5251\u001b[0m \u001b[0;34m\u001b[0m\u001b[0m\n\u001b[1;32m   5252\u001b[0m         \u001b[0mself\u001b[0m\u001b[0;34m.\u001b[0m\u001b[0m_protect_consolidate\u001b[0m\u001b[0;34m(\u001b[0m\u001b[0mf\u001b[0m\u001b[0;34m)\u001b[0m\u001b[0;34m\u001b[0m\u001b[0;34m\u001b[0m\u001b[0m\n",
      "\u001b[0;32m~/opt/anaconda3/lib/python3.7/site-packages/pandas/core/internals/managers.py\u001b[0m in \u001b[0;36mconsolidate\u001b[0;34m(self)\u001b[0m\n\u001b[1;32m    930\u001b[0m         \u001b[0mbm\u001b[0m \u001b[0;34m=\u001b[0m \u001b[0mself\u001b[0m\u001b[0;34m.\u001b[0m\u001b[0m__class__\u001b[0m\u001b[0;34m(\u001b[0m\u001b[0mself\u001b[0m\u001b[0;34m.\u001b[0m\u001b[0mblocks\u001b[0m\u001b[0;34m,\u001b[0m \u001b[0mself\u001b[0m\u001b[0;34m.\u001b[0m\u001b[0maxes\u001b[0m\u001b[0;34m)\u001b[0m\u001b[0;34m\u001b[0m\u001b[0;34m\u001b[0m\u001b[0m\n\u001b[1;32m    931\u001b[0m         \u001b[0mbm\u001b[0m\u001b[0;34m.\u001b[0m\u001b[0m_is_consolidated\u001b[0m \u001b[0;34m=\u001b[0m \u001b[0;32mFalse\u001b[0m\u001b[0;34m\u001b[0m\u001b[0;34m\u001b[0m\u001b[0m\n\u001b[0;32m--> 932\u001b[0;31m         \u001b[0mbm\u001b[0m\u001b[0;34m.\u001b[0m\u001b[0m_consolidate_inplace\u001b[0m\u001b[0;34m(\u001b[0m\u001b[0;34m)\u001b[0m\u001b[0;34m\u001b[0m\u001b[0;34m\u001b[0m\u001b[0m\n\u001b[0m\u001b[1;32m    933\u001b[0m         \u001b[0;32mreturn\u001b[0m \u001b[0mbm\u001b[0m\u001b[0;34m\u001b[0m\u001b[0;34m\u001b[0m\u001b[0m\n\u001b[1;32m    934\u001b[0m \u001b[0;34m\u001b[0m\u001b[0m\n",
      "\u001b[0;32m~/opt/anaconda3/lib/python3.7/site-packages/pandas/core/internals/managers.py\u001b[0m in \u001b[0;36m_consolidate_inplace\u001b[0;34m(self)\u001b[0m\n\u001b[1;32m    935\u001b[0m     \u001b[0;32mdef\u001b[0m \u001b[0m_consolidate_inplace\u001b[0m\u001b[0;34m(\u001b[0m\u001b[0mself\u001b[0m\u001b[0;34m)\u001b[0m\u001b[0;34m:\u001b[0m\u001b[0;34m\u001b[0m\u001b[0;34m\u001b[0m\u001b[0m\n\u001b[1;32m    936\u001b[0m         \u001b[0;32mif\u001b[0m \u001b[0;32mnot\u001b[0m \u001b[0mself\u001b[0m\u001b[0;34m.\u001b[0m\u001b[0mis_consolidated\u001b[0m\u001b[0;34m(\u001b[0m\u001b[0;34m)\u001b[0m\u001b[0;34m:\u001b[0m\u001b[0;34m\u001b[0m\u001b[0;34m\u001b[0m\u001b[0m\n\u001b[0;32m--> 937\u001b[0;31m             \u001b[0mself\u001b[0m\u001b[0;34m.\u001b[0m\u001b[0mblocks\u001b[0m \u001b[0;34m=\u001b[0m \u001b[0mtuple\u001b[0m\u001b[0;34m(\u001b[0m\u001b[0m_consolidate\u001b[0m\u001b[0;34m(\u001b[0m\u001b[0mself\u001b[0m\u001b[0;34m.\u001b[0m\u001b[0mblocks\u001b[0m\u001b[0;34m)\u001b[0m\u001b[0;34m)\u001b[0m\u001b[0;34m\u001b[0m\u001b[0;34m\u001b[0m\u001b[0m\n\u001b[0m\u001b[1;32m    938\u001b[0m             \u001b[0mself\u001b[0m\u001b[0;34m.\u001b[0m\u001b[0m_is_consolidated\u001b[0m \u001b[0;34m=\u001b[0m \u001b[0;32mTrue\u001b[0m\u001b[0;34m\u001b[0m\u001b[0;34m\u001b[0m\u001b[0m\n\u001b[1;32m    939\u001b[0m             \u001b[0mself\u001b[0m\u001b[0;34m.\u001b[0m\u001b[0m_known_consolidated\u001b[0m \u001b[0;34m=\u001b[0m \u001b[0;32mTrue\u001b[0m\u001b[0;34m\u001b[0m\u001b[0;34m\u001b[0m\u001b[0m\n",
      "\u001b[0;32m~/opt/anaconda3/lib/python3.7/site-packages/pandas/core/internals/managers.py\u001b[0m in \u001b[0;36m_consolidate\u001b[0;34m(blocks)\u001b[0m\n\u001b[1;32m   1911\u001b[0m     \u001b[0;32mfor\u001b[0m \u001b[0;34m(\u001b[0m\u001b[0m_can_consolidate\u001b[0m\u001b[0;34m,\u001b[0m \u001b[0mdtype\u001b[0m\u001b[0;34m)\u001b[0m\u001b[0;34m,\u001b[0m \u001b[0mgroup_blocks\u001b[0m \u001b[0;32min\u001b[0m \u001b[0mgrouper\u001b[0m\u001b[0;34m:\u001b[0m\u001b[0;34m\u001b[0m\u001b[0;34m\u001b[0m\u001b[0m\n\u001b[1;32m   1912\u001b[0m         merged_blocks = _merge_blocks(\n\u001b[0;32m-> 1913\u001b[0;31m             \u001b[0mlist\u001b[0m\u001b[0;34m(\u001b[0m\u001b[0mgroup_blocks\u001b[0m\u001b[0;34m)\u001b[0m\u001b[0;34m,\u001b[0m \u001b[0mdtype\u001b[0m\u001b[0;34m=\u001b[0m\u001b[0mdtype\u001b[0m\u001b[0;34m,\u001b[0m \u001b[0m_can_consolidate\u001b[0m\u001b[0;34m=\u001b[0m\u001b[0m_can_consolidate\u001b[0m\u001b[0;34m\u001b[0m\u001b[0;34m\u001b[0m\u001b[0m\n\u001b[0m\u001b[1;32m   1914\u001b[0m         )\n\u001b[1;32m   1915\u001b[0m         \u001b[0mnew_blocks\u001b[0m \u001b[0;34m=\u001b[0m \u001b[0m_extend_blocks\u001b[0m\u001b[0;34m(\u001b[0m\u001b[0mmerged_blocks\u001b[0m\u001b[0;34m,\u001b[0m \u001b[0mnew_blocks\u001b[0m\u001b[0;34m)\u001b[0m\u001b[0;34m\u001b[0m\u001b[0;34m\u001b[0m\u001b[0m\n",
      "\u001b[0;32m~/opt/anaconda3/lib/python3.7/site-packages/pandas/core/internals/blocks.py\u001b[0m in \u001b[0;36m_merge_blocks\u001b[0;34m(blocks, dtype, _can_consolidate)\u001b[0m\n\u001b[1;32m   3321\u001b[0m \u001b[0;34m\u001b[0m\u001b[0m\n\u001b[1;32m   3322\u001b[0m         \u001b[0margsort\u001b[0m \u001b[0;34m=\u001b[0m \u001b[0mnp\u001b[0m\u001b[0;34m.\u001b[0m\u001b[0margsort\u001b[0m\u001b[0;34m(\u001b[0m\u001b[0mnew_mgr_locs\u001b[0m\u001b[0;34m)\u001b[0m\u001b[0;34m\u001b[0m\u001b[0;34m\u001b[0m\u001b[0m\n\u001b[0;32m-> 3323\u001b[0;31m         \u001b[0mnew_values\u001b[0m \u001b[0;34m=\u001b[0m \u001b[0mnew_values\u001b[0m\u001b[0;34m[\u001b[0m\u001b[0margsort\u001b[0m\u001b[0;34m]\u001b[0m\u001b[0;34m\u001b[0m\u001b[0;34m\u001b[0m\u001b[0m\n\u001b[0m\u001b[1;32m   3324\u001b[0m         \u001b[0mnew_mgr_locs\u001b[0m \u001b[0;34m=\u001b[0m \u001b[0mnew_mgr_locs\u001b[0m\u001b[0;34m[\u001b[0m\u001b[0margsort\u001b[0m\u001b[0;34m]\u001b[0m\u001b[0;34m\u001b[0m\u001b[0;34m\u001b[0m\u001b[0m\n\u001b[1;32m   3325\u001b[0m \u001b[0;34m\u001b[0m\u001b[0m\n",
      "\u001b[0;31mKeyboardInterrupt\u001b[0m: "
     ]
    }
   ],
   "source": [
    "# predict using test data\n",
    "results = []\n",
    "output = pd.DataFrame(columns = ['userid', 'song','score'])\n",
    "for index, row in test_data.iterrows():\n",
    "    prediction = algo.predict(row['userid'], row['song'], verbose=False)\n",
    "#     key = str(str(row['userid']) + '-' + str(row['song']))\n",
    "    predicted_rating = prediction.est\n",
    "    output = output.append(pd.Series([str(row['userid']), str(row['song']), predicted_rating], index=output.columns), ignore_index=True)"
   ]
  },
  {
   "cell_type": "code",
   "execution_count": 64,
   "metadata": {},
   "outputs": [
    {
     "data": {
      "text/html": [
       "<div>\n",
       "<style scoped>\n",
       "    .dataframe tbody tr th:only-of-type {\n",
       "        vertical-align: middle;\n",
       "    }\n",
       "\n",
       "    .dataframe tbody tr th {\n",
       "        vertical-align: top;\n",
       "    }\n",
       "\n",
       "    .dataframe thead th {\n",
       "        text-align: right;\n",
       "    }\n",
       "</style>\n",
       "<table border=\"1\" class=\"dataframe\">\n",
       "  <thead>\n",
       "    <tr style=\"text-align: right;\">\n",
       "      <th></th>\n",
       "      <th>userid</th>\n",
       "      <th>song</th>\n",
       "      <th>score</th>\n",
       "    </tr>\n",
       "  </thead>\n",
       "  <tbody>\n",
       "    <tr>\n",
       "      <td>0</td>\n",
       "      <td>user_000802</td>\n",
       "      <td>(Don'T Fear) The Reaper</td>\n",
       "      <td>431</td>\n",
       "    </tr>\n",
       "    <tr>\n",
       "      <td>1</td>\n",
       "      <td>user_000802</td>\n",
       "      <td>100%</td>\n",
       "      <td>431</td>\n",
       "    </tr>\n",
       "    <tr>\n",
       "      <td>2</td>\n",
       "      <td>user_000802</td>\n",
       "      <td>1979</td>\n",
       "      <td>431</td>\n",
       "    </tr>\n",
       "    <tr>\n",
       "      <td>3</td>\n",
       "      <td>user_000802</td>\n",
       "      <td>A Warm Place</td>\n",
       "      <td>431</td>\n",
       "    </tr>\n",
       "    <tr>\n",
       "      <td>4</td>\n",
       "      <td>user_000802</td>\n",
       "      <td>Addiction</td>\n",
       "      <td>431</td>\n",
       "    </tr>\n",
       "    <tr>\n",
       "      <td>...</td>\n",
       "      <td>...</td>\n",
       "      <td>...</td>\n",
       "      <td>...</td>\n",
       "    </tr>\n",
       "    <tr>\n",
       "      <td>995</td>\n",
       "      <td>user_000807</td>\n",
       "      <td>Decades</td>\n",
       "      <td>431</td>\n",
       "    </tr>\n",
       "    <tr>\n",
       "      <td>996</td>\n",
       "      <td>user_000807</td>\n",
       "      <td>Desperado</td>\n",
       "      <td>431</td>\n",
       "    </tr>\n",
       "    <tr>\n",
       "      <td>997</td>\n",
       "      <td>user_000807</td>\n",
       "      <td>Destiny</td>\n",
       "      <td>431</td>\n",
       "    </tr>\n",
       "    <tr>\n",
       "      <td>998</td>\n",
       "      <td>user_000807</td>\n",
       "      <td>Doctor Robert</td>\n",
       "      <td>431</td>\n",
       "    </tr>\n",
       "    <tr>\n",
       "      <td>999</td>\n",
       "      <td>user_000807</td>\n",
       "      <td>Don'T Look Back</td>\n",
       "      <td>431</td>\n",
       "    </tr>\n",
       "  </tbody>\n",
       "</table>\n",
       "<p>1000 rows × 3 columns</p>\n",
       "</div>"
      ],
      "text/plain": [
       "          userid                     song score\n",
       "0    user_000802  (Don'T Fear) The Reaper   431\n",
       "1    user_000802                     100%   431\n",
       "2    user_000802                     1979   431\n",
       "3    user_000802             A Warm Place   431\n",
       "4    user_000802                Addiction   431\n",
       "..           ...                      ...   ...\n",
       "995  user_000807                  Decades   431\n",
       "996  user_000807                Desperado   431\n",
       "997  user_000807                  Destiny   431\n",
       "998  user_000807            Doctor Robert   431\n",
       "999  user_000807          Don'T Look Back   431\n",
       "\n",
       "[1000 rows x 3 columns]"
      ]
     },
     "execution_count": 64,
     "metadata": {},
     "output_type": "execute_result"
    }
   ],
   "source": [
    "output[:1000]"
   ]
  },
  {
   "cell_type": "code",
   "execution_count": 63,
   "metadata": {},
   "outputs": [
    {
     "data": {
      "text/plain": [
       "(51240, 3)"
      ]
     },
     "execution_count": 63,
     "metadata": {},
     "output_type": "execute_result"
    }
   ],
   "source": [
    "test_data.shape"
   ]
  },
  {
   "cell_type": "code",
   "execution_count": null,
   "metadata": {},
   "outputs": [],
   "source": []
  }
 ],
 "metadata": {
  "kernelspec": {
   "display_name": "sparkenv",
   "language": "python",
   "name": "sparkenv"
  },
  "language_info": {
   "codemirror_mode": {
    "name": "ipython",
    "version": 3
   },
   "file_extension": ".py",
   "mimetype": "text/x-python",
   "name": "python",
   "nbconvert_exporter": "python",
   "pygments_lexer": "ipython3",
   "version": "3.7.1"
  }
 },
 "nbformat": 4,
 "nbformat_minor": 2
}
